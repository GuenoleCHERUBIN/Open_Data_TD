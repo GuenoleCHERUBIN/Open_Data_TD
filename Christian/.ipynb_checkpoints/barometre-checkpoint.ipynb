{
 "cells": [
  {
   "cell_type": "markdown",
   "id": "367dc8ce",
   "metadata": {
    "scrolled": true
   },
   "source": [
    "# Baromètre des thématiques média TV"
   ]
  },
  {
   "cell_type": "markdown",
   "id": "391a09b7",
   "metadata": {},
   "source": [
    "Chargement des données"
   ]
  },
  {
   "cell_type": "code",
   "execution_count": 1,
   "id": "480ac3f6",
   "metadata": {},
   "outputs": [
    {
     "data": {
      "text/html": [
       "<div>\n",
       "<style scoped>\n",
       "    .dataframe tbody tr th:only-of-type {\n",
       "        vertical-align: middle;\n",
       "    }\n",
       "\n",
       "    .dataframe tbody tr th {\n",
       "        vertical-align: top;\n",
       "    }\n",
       "\n",
       "    .dataframe thead th {\n",
       "        text-align: right;\n",
       "    }\n",
       "</style>\n",
       "<table border=\"1\" class=\"dataframe\">\n",
       "  <thead>\n",
       "    <tr style=\"text-align: right;\">\n",
       "      <th></th>\n",
       "      <th>MOIS</th>\n",
       "      <th>THEMATIQUES</th>\n",
       "      <th>Nombre de sujets de JT</th>\n",
       "      <th>Nombre de sujets de JT.1</th>\n",
       "      <th>Nombre de sujets de JT.2</th>\n",
       "      <th>Nombre de sujets de JT.3</th>\n",
       "      <th>Nombre de sujets de JT.4</th>\n",
       "      <th>Nombre de sujets de JT.5</th>\n",
       "      <th>Nombre de sujets de JT.6</th>\n",
       "      <th>Unnamed: 9</th>\n",
       "    </tr>\n",
       "  </thead>\n",
       "  <tbody>\n",
       "    <tr>\n",
       "      <th>0</th>\n",
       "      <td>NaN</td>\n",
       "      <td>NaN</td>\n",
       "      <td>TF1</td>\n",
       "      <td>France 2</td>\n",
       "      <td>France 3</td>\n",
       "      <td>Canal +</td>\n",
       "      <td>Arte</td>\n",
       "      <td>M6</td>\n",
       "      <td>Totaux</td>\n",
       "      <td>NaN</td>\n",
       "    </tr>\n",
       "    <tr>\n",
       "      <th>1</th>\n",
       "      <td>janvier-05</td>\n",
       "      <td>Catastrophes</td>\n",
       "      <td>214</td>\n",
       "      <td>191</td>\n",
       "      <td>88</td>\n",
       "      <td>18</td>\n",
       "      <td>40</td>\n",
       "      <td>49</td>\n",
       "      <td>600</td>\n",
       "      <td>NaN</td>\n",
       "    </tr>\n",
       "    <tr>\n",
       "      <th>2</th>\n",
       "      <td>janvier-05</td>\n",
       "      <td>Culture-loisirs</td>\n",
       "      <td>27</td>\n",
       "      <td>42</td>\n",
       "      <td>35</td>\n",
       "      <td>4</td>\n",
       "      <td>0</td>\n",
       "      <td>23</td>\n",
       "      <td>131</td>\n",
       "      <td>NaN</td>\n",
       "    </tr>\n",
       "    <tr>\n",
       "      <th>3</th>\n",
       "      <td>janvier-05</td>\n",
       "      <td>Economie</td>\n",
       "      <td>35</td>\n",
       "      <td>18</td>\n",
       "      <td>10</td>\n",
       "      <td>1</td>\n",
       "      <td>8</td>\n",
       "      <td>11</td>\n",
       "      <td>83</td>\n",
       "      <td>NaN</td>\n",
       "    </tr>\n",
       "    <tr>\n",
       "      <th>4</th>\n",
       "      <td>janvier-05</td>\n",
       "      <td>Education</td>\n",
       "      <td>14</td>\n",
       "      <td>12</td>\n",
       "      <td>4</td>\n",
       "      <td>3</td>\n",
       "      <td>3</td>\n",
       "      <td>8</td>\n",
       "      <td>44</td>\n",
       "      <td>NaN</td>\n",
       "    </tr>\n",
       "    <tr>\n",
       "      <th>...</th>\n",
       "      <td>...</td>\n",
       "      <td>...</td>\n",
       "      <td>...</td>\n",
       "      <td>...</td>\n",
       "      <td>...</td>\n",
       "      <td>...</td>\n",
       "      <td>...</td>\n",
       "      <td>...</td>\n",
       "      <td>...</td>\n",
       "      <td>...</td>\n",
       "    </tr>\n",
       "    <tr>\n",
       "      <th>2642</th>\n",
       "      <td>septembre-20</td>\n",
       "      <td>Politique France</td>\n",
       "      <td>33</td>\n",
       "      <td>39</td>\n",
       "      <td>42</td>\n",
       "      <td>0</td>\n",
       "      <td>11</td>\n",
       "      <td>35</td>\n",
       "      <td>160</td>\n",
       "      <td>NaN</td>\n",
       "    </tr>\n",
       "    <tr>\n",
       "      <th>2643</th>\n",
       "      <td>septembre-20</td>\n",
       "      <td>Santé</td>\n",
       "      <td>230</td>\n",
       "      <td>162</td>\n",
       "      <td>121</td>\n",
       "      <td>0</td>\n",
       "      <td>38</td>\n",
       "      <td>113</td>\n",
       "      <td>664</td>\n",
       "      <td>NaN</td>\n",
       "    </tr>\n",
       "    <tr>\n",
       "      <th>2644</th>\n",
       "      <td>septembre-20</td>\n",
       "      <td>Sciences et techniques</td>\n",
       "      <td>8</td>\n",
       "      <td>4</td>\n",
       "      <td>6</td>\n",
       "      <td>0</td>\n",
       "      <td>8</td>\n",
       "      <td>8</td>\n",
       "      <td>34</td>\n",
       "      <td>NaN</td>\n",
       "    </tr>\n",
       "    <tr>\n",
       "      <th>2645</th>\n",
       "      <td>septembre-20</td>\n",
       "      <td>Société</td>\n",
       "      <td>73</td>\n",
       "      <td>56</td>\n",
       "      <td>38</td>\n",
       "      <td>0</td>\n",
       "      <td>26</td>\n",
       "      <td>57</td>\n",
       "      <td>250</td>\n",
       "      <td>NaN</td>\n",
       "    </tr>\n",
       "    <tr>\n",
       "      <th>2646</th>\n",
       "      <td>septembre-20</td>\n",
       "      <td>Sport</td>\n",
       "      <td>13</td>\n",
       "      <td>24</td>\n",
       "      <td>33</td>\n",
       "      <td>0</td>\n",
       "      <td>1</td>\n",
       "      <td>30</td>\n",
       "      <td>101</td>\n",
       "      <td>NaN</td>\n",
       "    </tr>\n",
       "  </tbody>\n",
       "</table>\n",
       "<p>2647 rows × 10 columns</p>\n",
       "</div>"
      ],
      "text/plain": [
       "              MOIS             THEMATIQUES Nombre de sujets de JT  \\\n",
       "0              NaN                     NaN                    TF1   \n",
       "1       janvier-05            Catastrophes                    214   \n",
       "2       janvier-05         Culture-loisirs                     27   \n",
       "3       janvier-05                Economie                     35   \n",
       "4       janvier-05               Education                     14   \n",
       "...            ...                     ...                    ...   \n",
       "2642  septembre-20        Politique France                     33   \n",
       "2643  septembre-20                   Santé                    230   \n",
       "2644  septembre-20  Sciences et techniques                      8   \n",
       "2645  septembre-20                 Société                     73   \n",
       "2646  septembre-20                   Sport                     13   \n",
       "\n",
       "     Nombre de sujets de JT.1 Nombre de sujets de JT.2  \\\n",
       "0                    France 2                 France 3   \n",
       "1                         191                       88   \n",
       "2                          42                       35   \n",
       "3                          18                       10   \n",
       "4                          12                        4   \n",
       "...                       ...                      ...   \n",
       "2642                       39                       42   \n",
       "2643                      162                      121   \n",
       "2644                        4                        6   \n",
       "2645                       56                       38   \n",
       "2646                       24                       33   \n",
       "\n",
       "     Nombre de sujets de JT.3 Nombre de sujets de JT.4  \\\n",
       "0                     Canal +                     Arte   \n",
       "1                          18                       40   \n",
       "2                           4                        0   \n",
       "3                           1                        8   \n",
       "4                           3                        3   \n",
       "...                       ...                      ...   \n",
       "2642                        0                       11   \n",
       "2643                        0                       38   \n",
       "2644                        0                        8   \n",
       "2645                        0                       26   \n",
       "2646                        0                        1   \n",
       "\n",
       "     Nombre de sujets de JT.5 Nombre de sujets de JT.6  Unnamed: 9  \n",
       "0                          M6                   Totaux         NaN  \n",
       "1                          49                      600         NaN  \n",
       "2                          23                      131         NaN  \n",
       "3                          11                       83         NaN  \n",
       "4                           8                       44         NaN  \n",
       "...                       ...                      ...         ...  \n",
       "2642                       35                      160         NaN  \n",
       "2643                      113                      664         NaN  \n",
       "2644                        8                       34         NaN  \n",
       "2645                       57                      250         NaN  \n",
       "2646                       30                      101         NaN  \n",
       "\n",
       "[2647 rows x 10 columns]"
      ]
     },
     "execution_count": 1,
     "metadata": {},
     "output_type": "execute_result"
    }
   ],
   "source": [
    "import pandas as pd\n",
    "dfBarometre = pd.read_csv('barometre.csv',encoding='ISO-8859-1',sep=';',engine='python',parse_dates=True,header=0)\n",
    "dfBarometre"
   ]
  },
  {
   "cell_type": "markdown",
   "id": "a3eff37e",
   "metadata": {},
   "source": [
    "## Nouveau dataframe avec les colonnes MOIS, THEMATIQUES et TOTAUX (Nombre de sujets de JT.6)"
   ]
  },
  {
   "cell_type": "code",
   "execution_count": 2,
   "id": "43c27033",
   "metadata": {
    "scrolled": true
   },
   "outputs": [
    {
     "data": {
      "text/html": [
       "<div>\n",
       "<style scoped>\n",
       "    .dataframe tbody tr th:only-of-type {\n",
       "        vertical-align: middle;\n",
       "    }\n",
       "\n",
       "    .dataframe tbody tr th {\n",
       "        vertical-align: top;\n",
       "    }\n",
       "\n",
       "    .dataframe thead th {\n",
       "        text-align: right;\n",
       "    }\n",
       "</style>\n",
       "<table border=\"1\" class=\"dataframe\">\n",
       "  <thead>\n",
       "    <tr style=\"text-align: right;\">\n",
       "      <th></th>\n",
       "      <th>MOIS</th>\n",
       "      <th>THEMATIQUES</th>\n",
       "      <th>Nombre de sujets de JT.6</th>\n",
       "    </tr>\n",
       "  </thead>\n",
       "  <tbody>\n",
       "    <tr>\n",
       "      <th>1</th>\n",
       "      <td>janvier-05</td>\n",
       "      <td>Catastrophes</td>\n",
       "      <td>600</td>\n",
       "    </tr>\n",
       "    <tr>\n",
       "      <th>2</th>\n",
       "      <td>janvier-05</td>\n",
       "      <td>Culture-loisirs</td>\n",
       "      <td>131</td>\n",
       "    </tr>\n",
       "    <tr>\n",
       "      <th>3</th>\n",
       "      <td>janvier-05</td>\n",
       "      <td>Economie</td>\n",
       "      <td>83</td>\n",
       "    </tr>\n",
       "    <tr>\n",
       "      <th>4</th>\n",
       "      <td>janvier-05</td>\n",
       "      <td>Education</td>\n",
       "      <td>44</td>\n",
       "    </tr>\n",
       "    <tr>\n",
       "      <th>5</th>\n",
       "      <td>janvier-05</td>\n",
       "      <td>Environnement</td>\n",
       "      <td>85</td>\n",
       "    </tr>\n",
       "    <tr>\n",
       "      <th>...</th>\n",
       "      <td>...</td>\n",
       "      <td>...</td>\n",
       "      <td>...</td>\n",
       "    </tr>\n",
       "    <tr>\n",
       "      <th>2642</th>\n",
       "      <td>septembre-20</td>\n",
       "      <td>Politique France</td>\n",
       "      <td>160</td>\n",
       "    </tr>\n",
       "    <tr>\n",
       "      <th>2643</th>\n",
       "      <td>septembre-20</td>\n",
       "      <td>Santé</td>\n",
       "      <td>664</td>\n",
       "    </tr>\n",
       "    <tr>\n",
       "      <th>2644</th>\n",
       "      <td>septembre-20</td>\n",
       "      <td>Sciences et techniques</td>\n",
       "      <td>34</td>\n",
       "    </tr>\n",
       "    <tr>\n",
       "      <th>2645</th>\n",
       "      <td>septembre-20</td>\n",
       "      <td>Société</td>\n",
       "      <td>250</td>\n",
       "    </tr>\n",
       "    <tr>\n",
       "      <th>2646</th>\n",
       "      <td>septembre-20</td>\n",
       "      <td>Sport</td>\n",
       "      <td>101</td>\n",
       "    </tr>\n",
       "  </tbody>\n",
       "</table>\n",
       "<p>2646 rows × 3 columns</p>\n",
       "</div>"
      ],
      "text/plain": [
       "              MOIS             THEMATIQUES Nombre de sujets de JT.6\n",
       "1       janvier-05            Catastrophes                      600\n",
       "2       janvier-05         Culture-loisirs                      131\n",
       "3       janvier-05                Economie                       83\n",
       "4       janvier-05               Education                       44\n",
       "5       janvier-05           Environnement                       85\n",
       "...            ...                     ...                      ...\n",
       "2642  septembre-20        Politique France                      160\n",
       "2643  septembre-20                   Santé                      664\n",
       "2644  septembre-20  Sciences et techniques                       34\n",
       "2645  septembre-20                 Société                      250\n",
       "2646  septembre-20                   Sport                      101\n",
       "\n",
       "[2646 rows x 3 columns]"
      ]
     },
     "execution_count": 2,
     "metadata": {},
     "output_type": "execute_result"
    }
   ],
   "source": [
    "clean_dfBarometre = dfBarometre[['MOIS','THEMATIQUES','Nombre de sujets de JT.6']].drop(0)\n",
    "clean_dfBarometre"
   ]
  },
  {
   "cell_type": "code",
   "execution_count": 3,
   "id": "8c3413b6",
   "metadata": {},
   "outputs": [
    {
     "data": {
      "text/plain": [
       "Index(['MOIS', 'THEMATIQUES', 'Nombre de sujets de JT.6'], dtype='object')"
      ]
     },
     "execution_count": 3,
     "metadata": {},
     "output_type": "execute_result"
    }
   ],
   "source": [
    "clean_dfBarometre.columns"
   ]
  },
  {
   "cell_type": "code",
   "execution_count": 4,
   "id": "702ba841",
   "metadata": {
    "scrolled": true
   },
   "outputs": [
    {
     "data": {
      "text/html": [
       "<div>\n",
       "<style scoped>\n",
       "    .dataframe tbody tr th:only-of-type {\n",
       "        vertical-align: middle;\n",
       "    }\n",
       "\n",
       "    .dataframe tbody tr th {\n",
       "        vertical-align: top;\n",
       "    }\n",
       "\n",
       "    .dataframe thead th {\n",
       "        text-align: right;\n",
       "    }\n",
       "</style>\n",
       "<table border=\"1\" class=\"dataframe\">\n",
       "  <thead>\n",
       "    <tr style=\"text-align: right;\">\n",
       "      <th></th>\n",
       "      <th>Mois</th>\n",
       "      <th>Thematiques</th>\n",
       "      <th>Totaux</th>\n",
       "    </tr>\n",
       "  </thead>\n",
       "  <tbody>\n",
       "    <tr>\n",
       "      <th>1</th>\n",
       "      <td>janvier-05</td>\n",
       "      <td>Catastrophes</td>\n",
       "      <td>600</td>\n",
       "    </tr>\n",
       "    <tr>\n",
       "      <th>2</th>\n",
       "      <td>janvier-05</td>\n",
       "      <td>Culture-loisirs</td>\n",
       "      <td>131</td>\n",
       "    </tr>\n",
       "    <tr>\n",
       "      <th>3</th>\n",
       "      <td>janvier-05</td>\n",
       "      <td>Economie</td>\n",
       "      <td>83</td>\n",
       "    </tr>\n",
       "    <tr>\n",
       "      <th>4</th>\n",
       "      <td>janvier-05</td>\n",
       "      <td>Education</td>\n",
       "      <td>44</td>\n",
       "    </tr>\n",
       "    <tr>\n",
       "      <th>5</th>\n",
       "      <td>janvier-05</td>\n",
       "      <td>Environnement</td>\n",
       "      <td>85</td>\n",
       "    </tr>\n",
       "    <tr>\n",
       "      <th>...</th>\n",
       "      <td>...</td>\n",
       "      <td>...</td>\n",
       "      <td>...</td>\n",
       "    </tr>\n",
       "    <tr>\n",
       "      <th>2642</th>\n",
       "      <td>septembre-20</td>\n",
       "      <td>Politique France</td>\n",
       "      <td>160</td>\n",
       "    </tr>\n",
       "    <tr>\n",
       "      <th>2643</th>\n",
       "      <td>septembre-20</td>\n",
       "      <td>Santé</td>\n",
       "      <td>664</td>\n",
       "    </tr>\n",
       "    <tr>\n",
       "      <th>2644</th>\n",
       "      <td>septembre-20</td>\n",
       "      <td>Sciences et techniques</td>\n",
       "      <td>34</td>\n",
       "    </tr>\n",
       "    <tr>\n",
       "      <th>2645</th>\n",
       "      <td>septembre-20</td>\n",
       "      <td>Société</td>\n",
       "      <td>250</td>\n",
       "    </tr>\n",
       "    <tr>\n",
       "      <th>2646</th>\n",
       "      <td>septembre-20</td>\n",
       "      <td>Sport</td>\n",
       "      <td>101</td>\n",
       "    </tr>\n",
       "  </tbody>\n",
       "</table>\n",
       "<p>2646 rows × 3 columns</p>\n",
       "</div>"
      ],
      "text/plain": [
       "              Mois             Thematiques Totaux\n",
       "1       janvier-05            Catastrophes    600\n",
       "2       janvier-05         Culture-loisirs    131\n",
       "3       janvier-05                Economie     83\n",
       "4       janvier-05               Education     44\n",
       "5       janvier-05           Environnement     85\n",
       "...            ...                     ...    ...\n",
       "2642  septembre-20        Politique France    160\n",
       "2643  septembre-20                   Santé    664\n",
       "2644  septembre-20  Sciences et techniques     34\n",
       "2645  septembre-20                 Société    250\n",
       "2646  septembre-20                   Sport    101\n",
       "\n",
       "[2646 rows x 3 columns]"
      ]
     },
     "execution_count": 4,
     "metadata": {},
     "output_type": "execute_result"
    }
   ],
   "source": [
    "clean_dfBarometre.columns = ['Mois','Thematiques','Totaux']\n",
    "clean_dfBarometre"
   ]
  },
  {
   "cell_type": "markdown",
   "id": "182f0b92",
   "metadata": {},
   "source": [
    "## Conserver que l'année"
   ]
  },
  {
   "cell_type": "code",
   "execution_count": 5,
   "id": "9e39c20b",
   "metadata": {
    "scrolled": true
   },
   "outputs": [
    {
     "data": {
      "text/html": [
       "<div>\n",
       "<style scoped>\n",
       "    .dataframe tbody tr th:only-of-type {\n",
       "        vertical-align: middle;\n",
       "    }\n",
       "\n",
       "    .dataframe tbody tr th {\n",
       "        vertical-align: top;\n",
       "    }\n",
       "\n",
       "    .dataframe thead th {\n",
       "        text-align: right;\n",
       "    }\n",
       "</style>\n",
       "<table border=\"1\" class=\"dataframe\">\n",
       "  <thead>\n",
       "    <tr style=\"text-align: right;\">\n",
       "      <th></th>\n",
       "      <th>Mois</th>\n",
       "      <th>Thematiques</th>\n",
       "      <th>Totaux</th>\n",
       "    </tr>\n",
       "  </thead>\n",
       "  <tbody>\n",
       "    <tr>\n",
       "      <th>1</th>\n",
       "      <td>2005</td>\n",
       "      <td>Catastrophes</td>\n",
       "      <td>600</td>\n",
       "    </tr>\n",
       "    <tr>\n",
       "      <th>2</th>\n",
       "      <td>2005</td>\n",
       "      <td>Culture-loisirs</td>\n",
       "      <td>131</td>\n",
       "    </tr>\n",
       "    <tr>\n",
       "      <th>3</th>\n",
       "      <td>2005</td>\n",
       "      <td>Economie</td>\n",
       "      <td>83</td>\n",
       "    </tr>\n",
       "    <tr>\n",
       "      <th>4</th>\n",
       "      <td>2005</td>\n",
       "      <td>Education</td>\n",
       "      <td>44</td>\n",
       "    </tr>\n",
       "    <tr>\n",
       "      <th>5</th>\n",
       "      <td>2005</td>\n",
       "      <td>Environnement</td>\n",
       "      <td>85</td>\n",
       "    </tr>\n",
       "    <tr>\n",
       "      <th>...</th>\n",
       "      <td>...</td>\n",
       "      <td>...</td>\n",
       "      <td>...</td>\n",
       "    </tr>\n",
       "    <tr>\n",
       "      <th>2642</th>\n",
       "      <td>2020</td>\n",
       "      <td>Politique France</td>\n",
       "      <td>160</td>\n",
       "    </tr>\n",
       "    <tr>\n",
       "      <th>2643</th>\n",
       "      <td>2020</td>\n",
       "      <td>Santé</td>\n",
       "      <td>664</td>\n",
       "    </tr>\n",
       "    <tr>\n",
       "      <th>2644</th>\n",
       "      <td>2020</td>\n",
       "      <td>Sciences et techniques</td>\n",
       "      <td>34</td>\n",
       "    </tr>\n",
       "    <tr>\n",
       "      <th>2645</th>\n",
       "      <td>2020</td>\n",
       "      <td>Société</td>\n",
       "      <td>250</td>\n",
       "    </tr>\n",
       "    <tr>\n",
       "      <th>2646</th>\n",
       "      <td>2020</td>\n",
       "      <td>Sport</td>\n",
       "      <td>101</td>\n",
       "    </tr>\n",
       "  </tbody>\n",
       "</table>\n",
       "<p>2646 rows × 3 columns</p>\n",
       "</div>"
      ],
      "text/plain": [
       "      Mois             Thematiques Totaux\n",
       "1     2005            Catastrophes    600\n",
       "2     2005         Culture-loisirs    131\n",
       "3     2005                Economie     83\n",
       "4     2005               Education     44\n",
       "5     2005           Environnement     85\n",
       "...    ...                     ...    ...\n",
       "2642  2020        Politique France    160\n",
       "2643  2020                   Santé    664\n",
       "2644  2020  Sciences et techniques     34\n",
       "2645  2020                 Société    250\n",
       "2646  2020                   Sport    101\n",
       "\n",
       "[2646 rows x 3 columns]"
      ]
     },
     "execution_count": 5,
     "metadata": {},
     "output_type": "execute_result"
    }
   ],
   "source": [
    "from datetime import datetime\n",
    "import locale\n",
    "locale.setlocale(locale.LC_ALL, 'fr_FR')\n",
    "\n",
    "def change_date(value):\n",
    "    try:\n",
    "        return datetime.strptime(value, '%B-%y').strftime('%Y')\n",
    "    except ValueError:\n",
    "        return value\n",
    "\n",
    "for i in clean_dfBarometre['Mois']:\n",
    "    clean_dfBarometre['Mois'] = clean_dfBarometre['Mois'].replace(i,change_date(i))\n",
    "clean_dfBarometre"
   ]
  },
  {
   "cell_type": "code",
   "execution_count": 6,
   "id": "4361693e",
   "metadata": {},
   "outputs": [
    {
     "data": {
      "text/html": [
       "<div>\n",
       "<style scoped>\n",
       "    .dataframe tbody tr th:only-of-type {\n",
       "        vertical-align: middle;\n",
       "    }\n",
       "\n",
       "    .dataframe tbody tr th {\n",
       "        vertical-align: top;\n",
       "    }\n",
       "\n",
       "    .dataframe thead th {\n",
       "        text-align: right;\n",
       "    }\n",
       "</style>\n",
       "<table border=\"1\" class=\"dataframe\">\n",
       "  <thead>\n",
       "    <tr style=\"text-align: right;\">\n",
       "      <th></th>\n",
       "      <th>Annee</th>\n",
       "      <th>Thematiques</th>\n",
       "      <th>Totaux</th>\n",
       "    </tr>\n",
       "  </thead>\n",
       "  <tbody>\n",
       "    <tr>\n",
       "      <th>1</th>\n",
       "      <td>2005</td>\n",
       "      <td>Catastrophes</td>\n",
       "      <td>600</td>\n",
       "    </tr>\n",
       "    <tr>\n",
       "      <th>2</th>\n",
       "      <td>2005</td>\n",
       "      <td>Culture-loisirs</td>\n",
       "      <td>131</td>\n",
       "    </tr>\n",
       "    <tr>\n",
       "      <th>3</th>\n",
       "      <td>2005</td>\n",
       "      <td>Economie</td>\n",
       "      <td>83</td>\n",
       "    </tr>\n",
       "    <tr>\n",
       "      <th>4</th>\n",
       "      <td>2005</td>\n",
       "      <td>Education</td>\n",
       "      <td>44</td>\n",
       "    </tr>\n",
       "    <tr>\n",
       "      <th>5</th>\n",
       "      <td>2005</td>\n",
       "      <td>Environnement</td>\n",
       "      <td>85</td>\n",
       "    </tr>\n",
       "    <tr>\n",
       "      <th>...</th>\n",
       "      <td>...</td>\n",
       "      <td>...</td>\n",
       "      <td>...</td>\n",
       "    </tr>\n",
       "    <tr>\n",
       "      <th>2642</th>\n",
       "      <td>2020</td>\n",
       "      <td>Politique France</td>\n",
       "      <td>160</td>\n",
       "    </tr>\n",
       "    <tr>\n",
       "      <th>2643</th>\n",
       "      <td>2020</td>\n",
       "      <td>Santé</td>\n",
       "      <td>664</td>\n",
       "    </tr>\n",
       "    <tr>\n",
       "      <th>2644</th>\n",
       "      <td>2020</td>\n",
       "      <td>Sciences et techniques</td>\n",
       "      <td>34</td>\n",
       "    </tr>\n",
       "    <tr>\n",
       "      <th>2645</th>\n",
       "      <td>2020</td>\n",
       "      <td>Société</td>\n",
       "      <td>250</td>\n",
       "    </tr>\n",
       "    <tr>\n",
       "      <th>2646</th>\n",
       "      <td>2020</td>\n",
       "      <td>Sport</td>\n",
       "      <td>101</td>\n",
       "    </tr>\n",
       "  </tbody>\n",
       "</table>\n",
       "<p>2646 rows × 3 columns</p>\n",
       "</div>"
      ],
      "text/plain": [
       "     Annee             Thematiques Totaux\n",
       "1     2005            Catastrophes    600\n",
       "2     2005         Culture-loisirs    131\n",
       "3     2005                Economie     83\n",
       "4     2005               Education     44\n",
       "5     2005           Environnement     85\n",
       "...    ...                     ...    ...\n",
       "2642  2020        Politique France    160\n",
       "2643  2020                   Santé    664\n",
       "2644  2020  Sciences et techniques     34\n",
       "2645  2020                 Société    250\n",
       "2646  2020                   Sport    101\n",
       "\n",
       "[2646 rows x 3 columns]"
      ]
     },
     "execution_count": 6,
     "metadata": {},
     "output_type": "execute_result"
    }
   ],
   "source": [
    "clean_dfBarometre.columns = ['Annee','Thematiques','Totaux']\n",
    "clean_dfBarometre"
   ]
  },
  {
   "cell_type": "markdown",
   "id": "4070955d",
   "metadata": {},
   "source": [
    "## Utiliser groupBy pour regrouper le data frame par Année "
   ]
  },
  {
   "cell_type": "code",
   "execution_count": 7,
   "id": "aaae59ed",
   "metadata": {},
   "outputs": [
    {
     "data": {
      "text/html": [
       "<div>\n",
       "<style scoped>\n",
       "    .dataframe tbody tr th:only-of-type {\n",
       "        vertical-align: middle;\n",
       "    }\n",
       "\n",
       "    .dataframe tbody tr th {\n",
       "        vertical-align: top;\n",
       "    }\n",
       "\n",
       "    .dataframe thead th {\n",
       "        text-align: right;\n",
       "    }\n",
       "</style>\n",
       "<table border=\"1\" class=\"dataframe\">\n",
       "  <thead>\n",
       "    <tr style=\"text-align: right;\">\n",
       "      <th></th>\n",
       "      <th>Annee</th>\n",
       "      <th>Thematiques</th>\n",
       "      <th>Totaux</th>\n",
       "    </tr>\n",
       "  </thead>\n",
       "  <tbody>\n",
       "    <tr>\n",
       "      <th>1</th>\n",
       "      <td>2005</td>\n",
       "      <td>Catastrophes</td>\n",
       "      <td>600</td>\n",
       "    </tr>\n",
       "    <tr>\n",
       "      <th>2</th>\n",
       "      <td>2005</td>\n",
       "      <td>Culture-loisirs</td>\n",
       "      <td>131</td>\n",
       "    </tr>\n",
       "    <tr>\n",
       "      <th>3</th>\n",
       "      <td>2005</td>\n",
       "      <td>Economie</td>\n",
       "      <td>83</td>\n",
       "    </tr>\n",
       "    <tr>\n",
       "      <th>4</th>\n",
       "      <td>2005</td>\n",
       "      <td>Education</td>\n",
       "      <td>44</td>\n",
       "    </tr>\n",
       "    <tr>\n",
       "      <th>5</th>\n",
       "      <td>2005</td>\n",
       "      <td>Environnement</td>\n",
       "      <td>85</td>\n",
       "    </tr>\n",
       "    <tr>\n",
       "      <th>...</th>\n",
       "      <td>...</td>\n",
       "      <td>...</td>\n",
       "      <td>...</td>\n",
       "    </tr>\n",
       "    <tr>\n",
       "      <th>2529</th>\n",
       "      <td>2020</td>\n",
       "      <td>Justice</td>\n",
       "      <td>79</td>\n",
       "    </tr>\n",
       "    <tr>\n",
       "      <th>2530</th>\n",
       "      <td>2020</td>\n",
       "      <td>Politique France</td>\n",
       "      <td>114</td>\n",
       "    </tr>\n",
       "    <tr>\n",
       "      <th>2531</th>\n",
       "      <td>2020</td>\n",
       "      <td>Santé</td>\n",
       "      <td>204</td>\n",
       "    </tr>\n",
       "    <tr>\n",
       "      <th>2532</th>\n",
       "      <td>2020</td>\n",
       "      <td>Sciences et techniques</td>\n",
       "      <td>42</td>\n",
       "    </tr>\n",
       "    <tr>\n",
       "      <th>2533</th>\n",
       "      <td>2020</td>\n",
       "      <td>Société</td>\n",
       "      <td>523</td>\n",
       "    </tr>\n",
       "  </tbody>\n",
       "</table>\n",
       "<p>208 rows × 3 columns</p>\n",
       "</div>"
      ],
      "text/plain": [
       "     Annee             Thematiques Totaux\n",
       "1     2005            Catastrophes    600\n",
       "2     2005         Culture-loisirs    131\n",
       "3     2005                Economie     83\n",
       "4     2005               Education     44\n",
       "5     2005           Environnement     85\n",
       "...    ...                     ...    ...\n",
       "2529  2020                 Justice     79\n",
       "2530  2020        Politique France    114\n",
       "2531  2020                   Santé    204\n",
       "2532  2020  Sciences et techniques     42\n",
       "2533  2020                 Société    523\n",
       "\n",
       "[208 rows x 3 columns]"
      ]
     },
     "execution_count": 7,
     "metadata": {},
     "output_type": "execute_result"
    }
   ],
   "source": [
    "groupby_dfBarometre = clean_dfBarometre.groupby(['Annee'])\n",
    "groupby_dfBarometre.head(13)"
   ]
  },
  {
   "cell_type": "markdown",
   "id": "7b8f9645",
   "metadata": {},
   "source": [
    "## Lister toutes les thématiques existantes"
   ]
  },
  {
   "cell_type": "code",
   "execution_count": 8,
   "id": "a3eb6b27",
   "metadata": {
    "scrolled": true
   },
   "outputs": [
    {
     "data": {
      "text/html": [
       "<div>\n",
       "<style scoped>\n",
       "    .dataframe tbody tr th:only-of-type {\n",
       "        vertical-align: middle;\n",
       "    }\n",
       "\n",
       "    .dataframe tbody tr th {\n",
       "        vertical-align: top;\n",
       "    }\n",
       "\n",
       "    .dataframe thead th {\n",
       "        text-align: right;\n",
       "    }\n",
       "</style>\n",
       "<table border=\"1\" class=\"dataframe\">\n",
       "  <thead>\n",
       "    <tr style=\"text-align: right;\">\n",
       "      <th></th>\n",
       "    </tr>\n",
       "    <tr>\n",
       "      <th>Thematiques</th>\n",
       "    </tr>\n",
       "  </thead>\n",
       "  <tbody>\n",
       "    <tr>\n",
       "      <th>Catastrophes</th>\n",
       "    </tr>\n",
       "    <tr>\n",
       "      <th>Culture-loisirs</th>\n",
       "    </tr>\n",
       "    <tr>\n",
       "      <th>Economie</th>\n",
       "    </tr>\n",
       "    <tr>\n",
       "      <th>Education</th>\n",
       "    </tr>\n",
       "    <tr>\n",
       "      <th>Environnement</th>\n",
       "    </tr>\n",
       "    <tr>\n",
       "      <th>Faits divers</th>\n",
       "    </tr>\n",
       "    <tr>\n",
       "      <th>Histoire-hommages</th>\n",
       "    </tr>\n",
       "    <tr>\n",
       "      <th>International</th>\n",
       "    </tr>\n",
       "    <tr>\n",
       "      <th>Justice</th>\n",
       "    </tr>\n",
       "    <tr>\n",
       "      <th>Politique France</th>\n",
       "    </tr>\n",
       "    <tr>\n",
       "      <th>Santé</th>\n",
       "    </tr>\n",
       "    <tr>\n",
       "      <th>Sciences et techniques</th>\n",
       "    </tr>\n",
       "    <tr>\n",
       "      <th>Société</th>\n",
       "    </tr>\n",
       "    <tr>\n",
       "      <th>Sport</th>\n",
       "    </tr>\n",
       "  </tbody>\n",
       "</table>\n",
       "</div>"
      ],
      "text/plain": [
       "Empty DataFrame\n",
       "Columns: []\n",
       "Index: [Catastrophes, Culture-loisirs, Economie, Education, Environnement, Faits divers, Histoire-hommages, International, Justice, Politique France, Santé, Sciences et techniques, Société, Sport]"
      ]
     },
     "execution_count": 8,
     "metadata": {},
     "output_type": "execute_result"
    }
   ],
   "source": [
    "thematique_dfBarometre = pd.DataFrame(clean_dfBarometre['Thematiques'].tolist(),columns = ['Thematiques'])\n",
    "groupby_thematique_dfBarometre=thematique_dfBarometre.groupby('Thematiques')\n",
    "groupby_thematique_dfBarometre.count()"
   ]
  },
  {
   "cell_type": "markdown",
   "id": "f0051c65",
   "metadata": {},
   "source": [
    "## Recuperer les années allant de 2012 a 2020"
   ]
  },
  {
   "cell_type": "code",
   "execution_count": 9,
   "id": "246292bb",
   "metadata": {
    "scrolled": true
   },
   "outputs": [
    {
     "data": {
      "text/html": [
       "<div>\n",
       "<style scoped>\n",
       "    .dataframe tbody tr th:only-of-type {\n",
       "        vertical-align: middle;\n",
       "    }\n",
       "\n",
       "    .dataframe tbody tr th {\n",
       "        vertical-align: top;\n",
       "    }\n",
       "\n",
       "    .dataframe thead th {\n",
       "        text-align: right;\n",
       "    }\n",
       "</style>\n",
       "<table border=\"1\" class=\"dataframe\">\n",
       "  <thead>\n",
       "    <tr style=\"text-align: right;\">\n",
       "      <th></th>\n",
       "      <th>Annee</th>\n",
       "      <th>Thematiques</th>\n",
       "      <th>Totaux</th>\n",
       "    </tr>\n",
       "  </thead>\n",
       "  <tbody>\n",
       "    <tr>\n",
       "      <th>0</th>\n",
       "      <td>2020</td>\n",
       "      <td>Catastrophes</td>\n",
       "      <td>923</td>\n",
       "    </tr>\n",
       "    <tr>\n",
       "      <th>1</th>\n",
       "      <td>2020</td>\n",
       "      <td>Culture-loisirs</td>\n",
       "      <td>1003</td>\n",
       "    </tr>\n",
       "    <tr>\n",
       "      <th>2</th>\n",
       "      <td>2020</td>\n",
       "      <td>Economie</td>\n",
       "      <td>2538</td>\n",
       "    </tr>\n",
       "    <tr>\n",
       "      <th>3</th>\n",
       "      <td>2020</td>\n",
       "      <td>Education</td>\n",
       "      <td>474</td>\n",
       "    </tr>\n",
       "    <tr>\n",
       "      <th>4</th>\n",
       "      <td>2020</td>\n",
       "      <td>Environnement</td>\n",
       "      <td>746</td>\n",
       "    </tr>\n",
       "    <tr>\n",
       "      <th>5</th>\n",
       "      <td>2020</td>\n",
       "      <td>Faits divers</td>\n",
       "      <td>529</td>\n",
       "    </tr>\n",
       "    <tr>\n",
       "      <th>6</th>\n",
       "      <td>2020</td>\n",
       "      <td>Histoire-hommages</td>\n",
       "      <td>342</td>\n",
       "    </tr>\n",
       "    <tr>\n",
       "      <th>7</th>\n",
       "      <td>2020</td>\n",
       "      <td>International</td>\n",
       "      <td>1393</td>\n",
       "    </tr>\n",
       "    <tr>\n",
       "      <th>8</th>\n",
       "      <td>2020</td>\n",
       "      <td>Justice</td>\n",
       "      <td>471</td>\n",
       "    </tr>\n",
       "    <tr>\n",
       "      <th>9</th>\n",
       "      <td>2020</td>\n",
       "      <td>Politique France</td>\n",
       "      <td>1188</td>\n",
       "    </tr>\n",
       "    <tr>\n",
       "      <th>10</th>\n",
       "      <td>2020</td>\n",
       "      <td>Santé</td>\n",
       "      <td>8010</td>\n",
       "    </tr>\n",
       "    <tr>\n",
       "      <th>11</th>\n",
       "      <td>2020</td>\n",
       "      <td>Sciences et techniques</td>\n",
       "      <td>303</td>\n",
       "    </tr>\n",
       "    <tr>\n",
       "      <th>12</th>\n",
       "      <td>2020</td>\n",
       "      <td>Société</td>\n",
       "      <td>2300</td>\n",
       "    </tr>\n",
       "    <tr>\n",
       "      <th>13</th>\n",
       "      <td>2020</td>\n",
       "      <td>Sport</td>\n",
       "      <td>418</td>\n",
       "    </tr>\n",
       "  </tbody>\n",
       "</table>\n",
       "</div>"
      ],
      "text/plain": [
       "   Annee             Thematiques  Totaux\n",
       "0   2020            Catastrophes     923\n",
       "1   2020         Culture-loisirs    1003\n",
       "2   2020                Economie    2538\n",
       "3   2020               Education     474\n",
       "4   2020           Environnement     746\n",
       "5   2020            Faits divers     529\n",
       "6   2020       Histoire-hommages     342\n",
       "7   2020           International    1393\n",
       "8   2020                 Justice     471\n",
       "9   2020        Politique France    1188\n",
       "10  2020                   Santé    8010\n",
       "11  2020  Sciences et techniques     303\n",
       "12  2020                 Société    2300\n",
       "13  2020                   Sport     418"
      ]
     },
     "execution_count": 9,
     "metadata": {},
     "output_type": "execute_result"
    }
   ],
   "source": [
    "def sum_totaux(args):\n",
    "    return (args.loc[:,'Totaux']).sum()\n",
    "\n",
    "clean_dfBarometre['Totaux'] = clean_dfBarometre['Totaux'].astype(str).astype(int)\n",
    "\n",
    "# trie_dfBarometre = clean_dfBarometre.loc[(clean_dfBarometre['Annee']=='2005')].groupby(['Annee','Thematiques']).apply(sum_totaux)\n",
    "trie_dfBarometre = clean_dfBarometre.loc[(clean_dfBarometre['Annee']=='2020')].groupby(['Annee','Thematiques']).sum()\n",
    "reset_dfBarometre = trie_dfBarometre.reset_index()\n",
    "reset_dfBarometre"
   ]
  },
  {
   "cell_type": "markdown",
   "id": "d23f84c2",
   "metadata": {},
   "source": [
    "## Visualisation par thématiques"
   ]
  },
  {
   "cell_type": "code",
   "execution_count": 10,
   "id": "51773c31",
   "metadata": {
    "scrolled": true
   },
   "outputs": [
    {
     "data": {
      "text/plain": [
       "([<matplotlib.patches.Wedge at 0x1dd52d28280>,\n",
       "  <matplotlib.patches.Wedge at 0x1dd52d287f0>,\n",
       "  <matplotlib.patches.Wedge at 0x1dd52d28e80>,\n",
       "  <matplotlib.patches.Wedge at 0x1dd52d46550>,\n",
       "  <matplotlib.patches.Wedge at 0x1dd52d46be0>,\n",
       "  <matplotlib.patches.Wedge at 0x1dd52d522b0>,\n",
       "  <matplotlib.patches.Wedge at 0x1dd52d52940>,\n",
       "  <matplotlib.patches.Wedge at 0x1dd52d52fd0>,\n",
       "  <matplotlib.patches.Wedge at 0x1dd52d646a0>,\n",
       "  <matplotlib.patches.Wedge at 0x1dd52d64d30>,\n",
       "  <matplotlib.patches.Wedge at 0x1dd52d28250>,\n",
       "  <matplotlib.patches.Wedge at 0x1dd52d73a60>,\n",
       "  <matplotlib.patches.Wedge at 0x1dd52d84130>,\n",
       "  <matplotlib.patches.Wedge at 0x1dd52d847c0>],\n",
       " [Text(1.0891603308483602, 0.15404471333444264, 'Catastrophes'),\n",
       "  Text(0.9981656123571904, 0.46223955943600875, 'Culture-loisirs'),\n",
       "  Text(0.619368745161463, 0.9090557504999982, 'Economie'),\n",
       "  Text(0.15304987474213533, 1.089300571853984, 'Education'),\n",
       "  Text(-0.05071817313093455, 1.0988301356052539, 'Environnement'),\n",
       "  Text(-0.2616961888298123, 1.0684171024239324, 'Faits divers'),\n",
       "  Text(-0.40064271401472673, 1.0244439544001, 'Histoire-hommages'),\n",
       "  Text(-0.654180179873094, 0.8843349434808095, 'International'),\n",
       "  Text(-0.8755940426489284, 0.6658341178384499, 'Justice'),\n",
       "  Text(-1.0141887106427143, 0.4259357453946181, 'Politique France'),\n",
       "  Text(-0.5919746303168623, -0.9271278428896494, 'Santé'),\n",
       "  Text(0.706267978708478, -0.8433181737938776, 'Sciences et techniques'),\n",
       "  Text(0.9770252211337368, -0.5053926367375895, 'Société'),\n",
       "  Text(1.0977739622498361, -0.06994517714821769, 'Sport')],\n",
       " [Text(0.5940874531900145, 0.08402438909151415, '4.5%'),\n",
       "  Text(0.5444539703766492, 0.25213066878327745, '4.9%'),\n",
       "  Text(0.33783749736079793, 0.4958485911818171, '12.3%'),\n",
       "  Text(0.08348174985934653, 0.5941639482839913, '2.3%'),\n",
       "  Text(-0.027664458071418842, 0.5993618921483203, '3.6%'),\n",
       "  Text(-0.14274337572535217, 0.5827729649585085, '2.6%'),\n",
       "  Text(-0.21853238946257822, 0.5587876114909636, '1.7%'),\n",
       "  Text(-0.3568255526580512, 0.4823645146258961, '6.7%'),\n",
       "  Text(-0.47759675053577905, 0.3631822460936999, '2.3%'),\n",
       "  Text(-0.5531938421687531, 0.23232858839706438, '5.8%'),\n",
       "  Text(-0.3228952529001066, -0.505706096121627, '38.8%'),\n",
       "  Text(0.38523707929553347, -0.45999173116029685, '1.5%'),\n",
       "  Text(0.5329228478911291, -0.27566871094777606, '11.1%'),\n",
       "  Text(0.5987857975908196, -0.038151914808118734, '2.0%')])"
      ]
     },
     "execution_count": 10,
     "metadata": {},
     "output_type": "execute_result"
    },
    {
     "data": {
      "image/png": "[encoded data removed]",
      "text/plain": [
       "<Figure size 640x480 with 1 Axes>"
      ]
     },
     "metadata": {},
     "output_type": "display_data"
    }
   ],
   "source": [
    "import matplotlib.pyplot as plt\n",
    "val = reset_dfBarometre['Totaux']\n",
    "label = reset_dfBarometre['Thematiques']\n",
    "plt.pie(val, labels = label, autopct='%1.1f%%')"
   ]
  },
  {
   "cell_type": "code",
   "execution_count": 11,
   "id": "c9326512",
   "metadata": {},
   "outputs": [],
   "source": [
    "def byAnnee_dfBarometre(annee):\n",
    "    byAnnee_dfBarometre = clean_dfBarometre.loc[(clean_dfBarometre['Annee']==annee)].groupby(['Annee','Thematiques']).sum()\n",
    "    reset_byAnnee = byAnnee_dfBarometre.reset_index()\n",
    "    return reset_byAnnee"
   ]
  },
  {
   "cell_type": "code",
   "execution_count": 12,
   "id": "de4bd49b",
   "metadata": {
    "scrolled": true
   },
   "outputs": [
    {
     "data": {
      "text/html": [
       "<div>\n",
       "<style scoped>\n",
       "    .dataframe tbody tr th:only-of-type {\n",
       "        vertical-align: middle;\n",
       "    }\n",
       "\n",
       "    .dataframe tbody tr th {\n",
       "        vertical-align: top;\n",
       "    }\n",
       "\n",
       "    .dataframe thead th {\n",
       "        text-align: right;\n",
       "    }\n",
       "</style>\n",
       "<table border=\"1\" class=\"dataframe\">\n",
       "  <thead>\n",
       "    <tr style=\"text-align: right;\">\n",
       "      <th></th>\n",
       "      <th>Annee</th>\n",
       "      <th>Thematiques</th>\n",
       "      <th>Totaux</th>\n",
       "    </tr>\n",
       "  </thead>\n",
       "  <tbody>\n",
       "    <tr>\n",
       "      <th>0</th>\n",
       "      <td>2012</td>\n",
       "      <td>Catastrophes</td>\n",
       "      <td>1952</td>\n",
       "    </tr>\n",
       "    <tr>\n",
       "      <th>1</th>\n",
       "      <td>2012</td>\n",
       "      <td>Culture-loisirs</td>\n",
       "      <td>2510</td>\n",
       "    </tr>\n",
       "    <tr>\n",
       "      <th>2</th>\n",
       "      <td>2012</td>\n",
       "      <td>Economie</td>\n",
       "      <td>3684</td>\n",
       "    </tr>\n",
       "    <tr>\n",
       "      <th>3</th>\n",
       "      <td>2012</td>\n",
       "      <td>Education</td>\n",
       "      <td>656</td>\n",
       "    </tr>\n",
       "    <tr>\n",
       "      <th>4</th>\n",
       "      <td>2012</td>\n",
       "      <td>Environnement</td>\n",
       "      <td>1261</td>\n",
       "    </tr>\n",
       "    <tr>\n",
       "      <th>5</th>\n",
       "      <td>2012</td>\n",
       "      <td>Faits divers</td>\n",
       "      <td>2062</td>\n",
       "    </tr>\n",
       "    <tr>\n",
       "      <th>6</th>\n",
       "      <td>2012</td>\n",
       "      <td>Histoire-hommages</td>\n",
       "      <td>662</td>\n",
       "    </tr>\n",
       "    <tr>\n",
       "      <th>7</th>\n",
       "      <td>2012</td>\n",
       "      <td>International</td>\n",
       "      <td>5067</td>\n",
       "    </tr>\n",
       "    <tr>\n",
       "      <th>8</th>\n",
       "      <td>2012</td>\n",
       "      <td>Justice</td>\n",
       "      <td>1795</td>\n",
       "    </tr>\n",
       "    <tr>\n",
       "      <th>9</th>\n",
       "      <td>2012</td>\n",
       "      <td>Politique France</td>\n",
       "      <td>4521</td>\n",
       "    </tr>\n",
       "    <tr>\n",
       "      <th>10</th>\n",
       "      <td>2012</td>\n",
       "      <td>Santé</td>\n",
       "      <td>1050</td>\n",
       "    </tr>\n",
       "    <tr>\n",
       "      <th>11</th>\n",
       "      <td>2012</td>\n",
       "      <td>Sciences et techniques</td>\n",
       "      <td>528</td>\n",
       "    </tr>\n",
       "    <tr>\n",
       "      <th>12</th>\n",
       "      <td>2012</td>\n",
       "      <td>Société</td>\n",
       "      <td>5605</td>\n",
       "    </tr>\n",
       "    <tr>\n",
       "      <th>13</th>\n",
       "      <td>2012</td>\n",
       "      <td>Sport</td>\n",
       "      <td>2521</td>\n",
       "    </tr>\n",
       "  </tbody>\n",
       "</table>\n",
       "</div>"
      ],
      "text/plain": [
       "   Annee             Thematiques  Totaux\n",
       "0   2012            Catastrophes    1952\n",
       "1   2012         Culture-loisirs    2510\n",
       "2   2012                Economie    3684\n",
       "3   2012               Education     656\n",
       "4   2012           Environnement    1261\n",
       "5   2012            Faits divers    2062\n",
       "6   2012       Histoire-hommages     662\n",
       "7   2012           International    5067\n",
       "8   2012                 Justice    1795\n",
       "9   2012        Politique France    4521\n",
       "10  2012                   Santé    1050\n",
       "11  2012  Sciences et techniques     528\n",
       "12  2012                 Société    5605\n",
       "13  2012                   Sport    2521"
      ]
     },
     "execution_count": 12,
     "metadata": {},
     "output_type": "execute_result"
    }
   ],
   "source": [
    "byAnnee_dfBarometre('2012')"
   ]
  },
  {
   "cell_type": "markdown",
   "id": "a687d608",
   "metadata": {},
   "source": [
    "## Nombre de fois ou chaque thématiques est abordé par année"
   ]
  },
  {
   "cell_type": "markdown",
   "id": "f434da1c",
   "metadata": {},
   "source": [
    "Le ressentie des français en terme d'insécurité est-il vérifié ?"
   ]
  },
  {
   "cell_type": "code",
   "execution_count": 13,
   "id": "6113b828",
   "metadata": {},
   "outputs": [
    {
     "data": {
      "text/plain": [
       "<AxesSubplot: xlabel='Thematiques'>"
      ]
     },
     "execution_count": 13,
     "metadata": {},
     "output_type": "execute_result"
    },
    {
     "data": {
      "image/png": "[encoded data removed]",
      "text/plain": [
       "<Figure size 640x480 with 1 Axes>"
      ]
     },
     "metadata": {},
     "output_type": "display_data"
    }
   ],
   "source": [
    "import matplotlib.pyplot as plt\n",
    "def thematique_by_annee(start):\n",
    "    dictio_dfBarometre = {}\n",
    "    while start < 2020:\n",
    "        start=start+1\n",
    "        dictio_dfBarometre[start] = byAnnee_dfBarometre(str(start))\n",
    "    return dictio_dfBarometre\n",
    "df_thematique_by_annee = thematique_by_annee(2011)[2012].pivot(index='Thematiques',columns='Annee',values='Totaux')\n",
    "df_thematique_by_annee.plot(kind='bar', stacked=True)"
   ]
  },
  {
   "cell_type": "code",
   "execution_count": 56,
   "id": "6c9598f9",
   "metadata": {
    "scrolled": false
   },
   "outputs": [
    {
     "data": {
      "application/vnd.plotly.v1+json": {
       "config": {
        "plotlyServerURL": "https://plot.ly"
       },
       "data": [
        {
         "alignmentgroup": "True",
         "hovertemplate": "Thematiques=%{x}<br>Annee=2012<br>Totaux=%{y}<extra></extra>",
         "legendgroup": "Catastrophes",
         "marker": {
          "color": "#636efa",
          "pattern": {
           "shape": ""
          }
         },
         "name": "Catastrophes",
         "offsetgroup": "Catastrophes",
         "orientation": "v",
         "showlegend": true,
         "textposition": "auto",
         "type": "bar",
         "x": [
          "Catastrophes",
          "Catastrophes",
          "Catastrophes",
          "Catastrophes",
          "Catastrophes",
          "Catastrophes",
          "Catastrophes",
          "Catastrophes",
          "Catastrophes",
          "Catastrophes",
          "Catastrophes",
          "Catastrophes"
         ],
         "xaxis": "x",
         "y": [
          301,
          223,
          194,
          98,
          141,
          68,
          213,
          171,
          82,
          259,
          86,
          116
         ],
         "yaxis": "y"
        },
        {
         "alignmentgroup": "True",
         "hovertemplate": "Thematiques=%{x}<br>Annee=2012<br>Totaux=%{y}<extra></extra>",
         "legendgroup": "Culture-loisirs",
         "marker": {
          "color": "#EF553B",
          "pattern": {
           "shape": ""
          }
         },
         "name": "Culture-loisirs",
         "offsetgroup": "Culture-loisirs",
         "orientation": "v",
         "showlegend": true,
         "textposition": "auto",
         "type": "bar",
         "x": [
          "Culture-loisirs",
          "Culture-loisirs",
          "Culture-loisirs",
          "Culture-loisirs",
          "Culture-loisirs",
          "Culture-loisirs",
          "Culture-loisirs",
          "Culture-loisirs",
          "Culture-loisirs",
          "Culture-loisirs",
          "Culture-loisirs",
          "Culture-loisirs"
         ],
         "xaxis": "x",
         "y": [
          279,
          220,
          141,
          171,
          244,
          169,
          260,
          161,
          207,
          254,
          175,
          229
         ],
         "yaxis": "y"
        },
        {
         "alignmentgroup": "True",
         "hovertemplate": "Thematiques=%{x}<br>Annee=2012<br>Totaux=%{y}<extra></extra>",
         "legendgroup": "Economie",
         "marker": {
          "color": "#00cc96",
          "pattern": {
           "shape": ""
          }
         },
         "name": "Economie",
         "offsetgroup": "Economie",
         "orientation": "v",
         "showlegend": true,
         "textposition": "auto",
         "type": "bar",
         "x": [
          "Economie",
          "Economie",
          "Economie",
          "Economie",
          "Economie",
          "Economie",
          "Economie",
          "Economie",
          "Economie",
          "Economie",
          "Economie",
          "Economie"
         ],
         "xaxis": "x",
         "y": [
          439,
          276,
          149,
          249,
          279,
          257,
          455,
          266,
          349,
          366,
          291,
          308
         ],
         "yaxis": "y"
        },
        {
         "alignmentgroup": "True",
         "hovertemplate": "Thematiques=%{x}<br>Annee=2012<br>Totaux=%{y}<extra></extra>",
         "legendgroup": "Education",
         "marker": {
          "color": "#ab63fa",
          "pattern": {
           "shape": ""
          }
         },
         "name": "Education",
         "offsetgroup": "Education",
         "orientation": "v",
         "showlegend": true,
         "textposition": "auto",
         "type": "bar",
         "x": [
          "Education",
          "Education",
          "Education",
          "Education",
          "Education",
          "Education",
          "Education",
          "Education",
          "Education",
          "Education",
          "Education",
          "Education"
         ],
         "xaxis": "x",
         "y": [
          56,
          39,
          41,
          28,
          52,
          96,
          48,
          51,
          103,
          70,
          23,
          49
         ],
         "yaxis": "y"
        },
        {
         "alignmentgroup": "True",
         "hovertemplate": "Thematiques=%{x}<br>Annee=2012<br>Totaux=%{y}<extra></extra>",
         "legendgroup": "Environnement",
         "marker": {
          "color": "#FFA15A",
          "pattern": {
           "shape": ""
          }
         },
         "name": "Environnement",
         "offsetgroup": "Environnement",
         "orientation": "v",
         "showlegend": true,
         "textposition": "auto",
         "type": "bar",
         "x": [
          "Environnement",
          "Environnement",
          "Environnement",
          "Environnement",
          "Environnement",
          "Environnement",
          "Environnement",
          "Environnement",
          "Environnement",
          "Environnement",
          "Environnement",
          "Environnement"
         ],
         "xaxis": "x",
         "y": [
          135,
          158,
          116,
          91,
          75,
          65,
          122,
          135,
          65,
          101,
          97,
          101
         ],
         "yaxis": "y"
        },
        {
         "alignmentgroup": "True",
         "hovertemplate": "Thematiques=%{x}<br>Annee=2012<br>Totaux=%{y}<extra></extra>",
         "legendgroup": "Faits divers",
         "marker": {
          "color": "#19d3f3",
          "pattern": {
           "shape": ""
          }
         },
         "name": "Faits divers",
         "offsetgroup": "Faits divers",
         "orientation": "v",
         "showlegend": true,
         "textposition": "auto",
         "type": "bar",
         "x": [
          "Faits divers",
          "Faits divers",
          "Faits divers",
          "Faits divers",
          "Faits divers",
          "Faits divers",
          "Faits divers",
          "Faits divers",
          "Faits divers",
          "Faits divers",
          "Faits divers",
          "Faits divers"
         ],
         "xaxis": "x",
         "y": [
          153,
          102,
          120,
          217,
          154,
          196,
          186,
          116,
          202,
          220,
          190,
          206
         ],
         "yaxis": "y"
        },
        {
         "alignmentgroup": "True",
         "hovertemplate": "Thematiques=%{x}<br>Annee=2012<br>Totaux=%{y}<extra></extra>",
         "legendgroup": "Histoire-hommages",
         "marker": {
          "color": "#FF6692",
          "pattern": {
           "shape": ""
          }
         },
         "name": "Histoire-hommages",
         "offsetgroup": "Histoire-hommages",
         "orientation": "v",
         "showlegend": true,
         "textposition": "auto",
         "type": "bar",
         "x": [
          "Histoire-hommages",
          "Histoire-hommages",
          "Histoire-hommages",
          "Histoire-hommages",
          "Histoire-hommages",
          "Histoire-hommages",
          "Histoire-hommages",
          "Histoire-hommages",
          "Histoire-hommages",
          "Histoire-hommages",
          "Histoire-hommages",
          "Histoire-hommages"
         ],
         "xaxis": "x",
         "y": [
          51,
          57,
          73,
          46,
          63,
          67,
          80,
          51,
          47,
          45,
          50,
          32
         ],
         "yaxis": "y"
        },
        {
         "alignmentgroup": "True",
         "hovertemplate": "Thematiques=%{x}<br>Annee=2012<br>Totaux=%{y}<extra></extra>",
         "legendgroup": "International",
         "marker": {
          "color": "#B6E880",
          "pattern": {
           "shape": ""
          }
         },
         "name": "International",
         "offsetgroup": "International",
         "orientation": "v",
         "showlegend": true,
         "textposition": "auto",
         "type": "bar",
         "x": [
          "International",
          "International",
          "International",
          "International",
          "International",
          "International",
          "International",
          "International",
          "International",
          "International",
          "International",
          "International"
         ],
         "xaxis": "x",
         "y": [
          537,
          414,
          313,
          377,
          650,
          338,
          383,
          377,
          334,
          443,
          521,
          380
         ],
         "yaxis": "y"
        },
        {
         "alignmentgroup": "True",
         "hovertemplate": "Thematiques=%{x}<br>Annee=2012<br>Totaux=%{y}<extra></extra>",
         "legendgroup": "Justice",
         "marker": {
          "color": "#FF97FF",
          "pattern": {
           "shape": ""
          }
         },
         "name": "Justice",
         "offsetgroup": "Justice",
         "orientation": "v",
         "showlegend": true,
         "textposition": "auto",
         "type": "bar",
         "x": [
          "Justice",
          "Justice",
          "Justice",
          "Justice",
          "Justice",
          "Justice",
          "Justice",
          "Justice",
          "Justice",
          "Justice",
          "Justice",
          "Justice"
         ],
         "xaxis": "x",
         "y": [
          137,
          150,
          116,
          150,
          161,
          118,
          122,
          112,
          160,
          298,
          146,
          125
         ],
         "yaxis": "y"
        },
        {
         "alignmentgroup": "True",
         "hovertemplate": "Thematiques=%{x}<br>Annee=2012<br>Totaux=%{y}<extra></extra>",
         "legendgroup": "Politique France",
         "marker": {
          "color": "#FECB52",
          "pattern": {
           "shape": ""
          }
         },
         "name": "Politique France",
         "offsetgroup": "Politique France",
         "orientation": "v",
         "showlegend": true,
         "textposition": "auto",
         "type": "bar",
         "x": [
          "Politique France",
          "Politique France",
          "Politique France",
          "Politique France",
          "Politique France",
          "Politique France",
          "Politique France",
          "Politique France",
          "Politique France",
          "Politique France",
          "Politique France",
          "Politique France"
         ],
         "xaxis": "x",
         "y": [
          375,
          403,
          819,
          591,
          722,
          421,
          185,
          159,
          168,
          237,
          305,
          136
         ],
         "yaxis": "y"
        },
        {
         "alignmentgroup": "True",
         "hovertemplate": "Thematiques=%{x}<br>Annee=2012<br>Totaux=%{y}<extra></extra>",
         "legendgroup": "Santé",
         "marker": {
          "color": "#636efa",
          "pattern": {
           "shape": ""
          }
         },
         "name": "Santé",
         "offsetgroup": "Santé",
         "orientation": "v",
         "showlegend": true,
         "textposition": "auto",
         "type": "bar",
         "x": [
          "Santé",
          "Santé",
          "Santé",
          "Santé",
          "Santé",
          "Santé",
          "Santé",
          "Santé",
          "Santé",
          "Santé",
          "Santé",
          "Santé"
         ],
         "xaxis": "x",
         "y": [
          111,
          76,
          85,
          57,
          86,
          59,
          74,
          107,
          89,
          114,
          75,
          117
         ],
         "yaxis": "y"
        },
        {
         "alignmentgroup": "True",
         "hovertemplate": "Thematiques=%{x}<br>Annee=2012<br>Totaux=%{y}<extra></extra>",
         "legendgroup": "Sciences et techniques",
         "marker": {
          "color": "#EF553B",
          "pattern": {
           "shape": ""
          }
         },
         "name": "Sciences et techniques",
         "offsetgroup": "Sciences et techniques",
         "orientation": "v",
         "showlegend": true,
         "textposition": "auto",
         "type": "bar",
         "x": [
          "Sciences et techniques",
          "Sciences et techniques",
          "Sciences et techniques",
          "Sciences et techniques",
          "Sciences et techniques",
          "Sciences et techniques",
          "Sciences et techniques",
          "Sciences et techniques",
          "Sciences et techniques",
          "Sciences et techniques",
          "Sciences et techniques",
          "Sciences et techniques"
         ],
         "xaxis": "x",
         "y": [
          44,
          29,
          32,
          55,
          40,
          34,
          58,
          77,
          35,
          48,
          28,
          48
         ],
         "yaxis": "y"
        },
        {
         "alignmentgroup": "True",
         "hovertemplate": "Thematiques=%{x}<br>Annee=2012<br>Totaux=%{y}<extra></extra>",
         "legendgroup": "Société",
         "marker": {
          "color": "#00cc96",
          "pattern": {
           "shape": ""
          }
         },
         "name": "Société",
         "offsetgroup": "Société",
         "orientation": "v",
         "showlegend": true,
         "textposition": "auto",
         "type": "bar",
         "x": [
          "Société",
          "Société",
          "Société",
          "Société",
          "Société",
          "Société",
          "Société",
          "Société",
          "Société",
          "Société",
          "Société",
          "Société"
         ],
         "xaxis": "x",
         "y": [
          467,
          440,
          355,
          368,
          451,
          356,
          447,
          392,
          583,
          593,
          515,
          638
         ],
         "yaxis": "y"
        },
        {
         "alignmentgroup": "True",
         "hovertemplate": "Thematiques=%{x}<br>Annee=2012<br>Totaux=%{y}<extra></extra>",
         "legendgroup": "Sport",
         "marker": {
          "color": "#ab63fa",
          "pattern": {
           "shape": ""
          }
         },
         "name": "Sport",
         "offsetgroup": "Sport",
         "orientation": "v",
         "showlegend": true,
         "textposition": "auto",
         "type": "bar",
         "x": [
          "Sport",
          "Sport",
          "Sport",
          "Sport",
          "Sport",
          "Sport",
          "Sport",
          "Sport",
          "Sport",
          "Sport",
          "Sport",
          "Sport"
         ],
         "xaxis": "x",
         "y": [
          148,
          116,
          122,
          113,
          235,
          267,
          564,
          435,
          130,
          166,
          143,
          82
         ],
         "yaxis": "y"
        }
       ],
       "frames": [
        {
         "data": [
          {
           "alignmentgroup": "True",
           "hovertemplate": "Thematiques=%{x}<br>Annee=2012<br>Totaux=%{y}<extra></extra>",
           "legendgroup": "Catastrophes",
           "marker": {
            "color": "#636efa",
            "pattern": {
             "shape": ""
            }
           },
           "name": "Catastrophes",
           "offsetgroup": "Catastrophes",
           "orientation": "v",
           "showlegend": true,
           "textposition": "auto",
           "type": "bar",
           "x": [
            "Catastrophes",
            "Catastrophes",
            "Catastrophes",
            "Catastrophes",
            "Catastrophes",
            "Catastrophes",
            "Catastrophes",
            "Catastrophes",
            "Catastrophes",
            "Catastrophes",
            "Catastrophes",
            "Catastrophes"
           ],
           "xaxis": "x",
           "y": [
            301,
            223,
            194,
            98,
            141,
            68,
            213,
            171,
            82,
            259,
            86,
            116
           ],
           "yaxis": "y"
          },
          {
           "alignmentgroup": "True",
           "hovertemplate": "Thematiques=%{x}<br>Annee=2012<br>Totaux=%{y}<extra></extra>",
           "legendgroup": "Culture-loisirs",
           "marker": {
            "color": "#EF553B",
            "pattern": {
             "shape": ""
            }
           },
           "name": "Culture-loisirs",
           "offsetgroup": "Culture-loisirs",
           "orientation": "v",
           "showlegend": true,
           "textposition": "auto",
           "type": "bar",
           "x": [
            "Culture-loisirs",
            "Culture-loisirs",
            "Culture-loisirs",
            "Culture-loisirs",
            "Culture-loisirs",
            "Culture-loisirs",
            "Culture-loisirs",
            "Culture-loisirs",
            "Culture-loisirs",
            "Culture-loisirs",
            "Culture-loisirs",
            "Culture-loisirs"
           ],
           "xaxis": "x",
           "y": [
            279,
            220,
            141,
            171,
            244,
            169,
            260,
            161,
            207,
            254,
            175,
            229
           ],
           "yaxis": "y"
          },
          {
           "alignmentgroup": "True",
           "hovertemplate": "Thematiques=%{x}<br>Annee=2012<br>Totaux=%{y}<extra></extra>",
           "legendgroup": "Economie",
           "marker": {
            "color": "#00cc96",
            "pattern": {
             "shape": ""
            }
           },
           "name": "Economie",
           "offsetgroup": "Economie",
           "orientation": "v",
           "showlegend": true,
           "textposition": "auto",
           "type": "bar",
           "x": [
            "Economie",
            "Economie",
            "Economie",
            "Economie",
            "Economie",
            "Economie",
            "Economie",
            "Economie",
            "Economie",
            "Economie",
            "Economie",
            "Economie"
           ],
           "xaxis": "x",
           "y": [
            439,
            276,
            149,
            249,
            279,
            257,
            455,
            266,
            349,
            366,
            291,
            308
           ],
           "yaxis": "y"
          },
          {
           "alignmentgroup": "True",
           "hovertemplate": "Thematiques=%{x}<br>Annee=2012<br>Totaux=%{y}<extra></extra>",
           "legendgroup": "Education",
           "marker": {
            "color": "#ab63fa",
            "pattern": {
             "shape": ""
            }
           },
           "name": "Education",
           "offsetgroup": "Education",
           "orientation": "v",
           "showlegend": true,
           "textposition": "auto",
           "type": "bar",
           "x": [
            "Education",
            "Education",
            "Education",
            "Education",
            "Education",
            "Education",
            "Education",
            "Education",
            "Education",
            "Education",
            "Education",
            "Education"
           ],
           "xaxis": "x",
           "y": [
            56,
            39,
            41,
            28,
            52,
            96,
            48,
            51,
            103,
            70,
            23,
            49
           ],
           "yaxis": "y"
          },
          {
           "alignmentgroup": "True",
           "hovertemplate": "Thematiques=%{x}<br>Annee=2012<br>Totaux=%{y}<extra></extra>",
           "legendgroup": "Environnement",
           "marker": {
            "color": "#FFA15A",
            "pattern": {
             "shape": ""
            }
           },
           "name": "Environnement",
           "offsetgroup": "Environnement",
           "orientation": "v",
           "showlegend": true,
           "textposition": "auto",
           "type": "bar",
           "x": [
            "Environnement",
            "Environnement",
            "Environnement",
            "Environnement",
            "Environnement",
            "Environnement",
            "Environnement",
            "Environnement",
            "Environnement",
            "Environnement",
            "Environnement",
            "Environnement"
           ],
           "xaxis": "x",
           "y": [
            135,
            158,
            116,
            91,
            75,
            65,
            122,
            135,
            65,
            101,
            97,
            101
           ],
           "yaxis": "y"
          },
          {
           "alignmentgroup": "True",
           "hovertemplate": "Thematiques=%{x}<br>Annee=2012<br>Totaux=%{y}<extra></extra>",
           "legendgroup": "Faits divers",
           "marker": {
            "color": "#19d3f3",
            "pattern": {
             "shape": ""
            }
           },
           "name": "Faits divers",
           "offsetgroup": "Faits divers",
           "orientation": "v",
           "showlegend": true,
           "textposition": "auto",
           "type": "bar",
           "x": [
            "Faits divers",
            "Faits divers",
            "Faits divers",
            "Faits divers",
            "Faits divers",
            "Faits divers",
            "Faits divers",
            "Faits divers",
            "Faits divers",
            "Faits divers",
            "Faits divers",
            "Faits divers"
           ],
           "xaxis": "x",
           "y": [
            153,
            102,
            120,
            217,
            154,
            196,
            186,
            116,
            202,
            220,
            190,
            206
           ],
           "yaxis": "y"
          },
          {
           "alignmentgroup": "True",
           "hovertemplate": "Thematiques=%{x}<br>Annee=2012<br>Totaux=%{y}<extra></extra>",
           "legendgroup": "Histoire-hommages",
           "marker": {
            "color": "#FF6692",
            "pattern": {
             "shape": ""
            }
           },
           "name": "Histoire-hommages",
           "offsetgroup": "Histoire-hommages",
           "orientation": "v",
           "showlegend": true,
           "textposition": "auto",
           "type": "bar",
           "x": [
            "Histoire-hommages",
            "Histoire-hommages",
            "Histoire-hommages",
            "Histoire-hommages",
            "Histoire-hommages",
            "Histoire-hommages",
            "Histoire-hommages",
            "Histoire-hommages",
            "Histoire-hommages",
            "Histoire-hommages",
            "Histoire-hommages",
            "Histoire-hommages"
           ],
           "xaxis": "x",
           "y": [
            51,
            57,
            73,
            46,
            63,
            67,
            80,
            51,
            47,
            45,
            50,
            32
           ],
           "yaxis": "y"
          },
          {
           "alignmentgroup": "True",
           "hovertemplate": "Thematiques=%{x}<br>Annee=2012<br>Totaux=%{y}<extra></extra>",
           "legendgroup": "International",
           "marker": {
            "color": "#B6E880",
            "pattern": {
             "shape": ""
            }
           },
           "name": "International",
           "offsetgroup": "International",
           "orientation": "v",
           "showlegend": true,
           "textposition": "auto",
           "type": "bar",
           "x": [
            "International",
            "International",
            "International",
            "International",
            "International",
            "International",
            "International",
            "International",
            "International",
            "International",
            "International",
            "International"
           ],
           "xaxis": "x",
           "y": [
            537,
            414,
            313,
            377,
            650,
            338,
            383,
            377,
            334,
            443,
            521,
            380
           ],
           "yaxis": "y"
          },
          {
           "alignmentgroup": "True",
           "hovertemplate": "Thematiques=%{x}<br>Annee=2012<br>Totaux=%{y}<extra></extra>",
           "legendgroup": "Justice",
           "marker": {
            "color": "#FF97FF",
            "pattern": {
             "shape": ""
            }
           },
           "name": "Justice",
           "offsetgroup": "Justice",
           "orientation": "v",
           "showlegend": true,
           "textposition": "auto",
           "type": "bar",
           "x": [
            "Justice",
            "Justice",
            "Justice",
            "Justice",
            "Justice",
            "Justice",
            "Justice",
            "Justice",
            "Justice",
            "Justice",
            "Justice",
            "Justice"
           ],
           "xaxis": "x",
           "y": [
            137,
            150,
            116,
            150,
            161,
            118,
            122,
            112,
            160,
            298,
            146,
            125
           ],
           "yaxis": "y"
          },
          {
           "alignmentgroup": "True",
           "hovertemplate": "Thematiques=%{x}<br>Annee=2012<br>Totaux=%{y}<extra></extra>",
           "legendgroup": "Politique France",
           "marker": {
            "color": "#FECB52",
            "pattern": {
             "shape": ""
            }
           },
           "name": "Politique France",
           "offsetgroup": "Politique France",
           "orientation": "v",
           "showlegend": true,
           "textposition": "auto",
           "type": "bar",
           "x": [
            "Politique France",
            "Politique France",
            "Politique France",
            "Politique France",
            "Politique France",
            "Politique France",
            "Politique France",
            "Politique France",
            "Politique France",
            "Politique France",
            "Politique France",
            "Politique France"
           ],
           "xaxis": "x",
           "y": [
            375,
            403,
            819,
            591,
            722,
            421,
            185,
            159,
            168,
            237,
            305,
            136
           ],
           "yaxis": "y"
          },
          {
           "alignmentgroup": "True",
           "hovertemplate": "Thematiques=%{x}<br>Annee=2012<br>Totaux=%{y}<extra></extra>",
           "legendgroup": "Santé",
           "marker": {
            "color": "#636efa",
            "pattern": {
             "shape": ""
            }
           },
           "name": "Santé",
           "offsetgroup": "Santé",
           "orientation": "v",
           "showlegend": true,
           "textposition": "auto",
           "type": "bar",
           "x": [
            "Santé",
            "Santé",
            "Santé",
            "Santé",
            "Santé",
            "Santé",
            "Santé",
            "Santé",
            "Santé",
            "Santé",
            "Santé",
            "Santé"
           ],
           "xaxis": "x",
           "y": [
            111,
            76,
            85,
            57,
            86,
            59,
            74,
            107,
            89,
            114,
            75,
            117
           ],
           "yaxis": "y"
          },
          {
           "alignmentgroup": "True",
           "hovertemplate": "Thematiques=%{x}<br>Annee=2012<br>Totaux=%{y}<extra></extra>",
           "legendgroup": "Sciences et techniques",
           "marker": {
            "color": "#EF553B",
            "pattern": {
             "shape": ""
            }
           },
           "name": "Sciences et techniques",
           "offsetgroup": "Sciences et techniques",
           "orientation": "v",
           "showlegend": true,
           "textposition": "auto",
           "type": "bar",
           "x": [
            "Sciences et techniques",
            "Sciences et techniques",
            "Sciences et techniques",
            "Sciences et techniques",
            "Sciences et techniques",
            "Sciences et techniques",
            "Sciences et techniques",
            "Sciences et techniques",
            "Sciences et techniques",
            "Sciences et techniques",
            "Sciences et techniques",
            "Sciences et techniques"
           ],
           "xaxis": "x",
           "y": [
            44,
            29,
            32,
            55,
            40,
            34,
            58,
            77,
            35,
            48,
            28,
            48
           ],
           "yaxis": "y"
          },
          {
           "alignmentgroup": "True",
           "hovertemplate": "Thematiques=%{x}<br>Annee=2012<br>Totaux=%{y}<extra></extra>",
           "legendgroup": "Société",
           "marker": {
            "color": "#00cc96",
            "pattern": {
             "shape": ""
            }
           },
           "name": "Société",
           "offsetgroup": "Société",
           "orientation": "v",
           "showlegend": true,
           "textposition": "auto",
           "type": "bar",
           "x": [
            "Société",
            "Société",
            "Société",
            "Société",
            "Société",
            "Société",
            "Société",
            "Société",
            "Société",
            "Société",
            "Société",
            "Société"
           ],
           "xaxis": "x",
           "y": [
            467,
            440,
            355,
            368,
            451,
            356,
            447,
            392,
            583,
            593,
            515,
            638
           ],
           "yaxis": "y"
          },
          {
           "alignmentgroup": "True",
           "hovertemplate": "Thematiques=%{x}<br>Annee=2012<br>Totaux=%{y}<extra></extra>",
           "legendgroup": "Sport",
           "marker": {
            "color": "#ab63fa",
            "pattern": {
             "shape": ""
            }
           },
           "name": "Sport",
           "offsetgroup": "Sport",
           "orientation": "v",
           "showlegend": true,
           "textposition": "auto",
           "type": "bar",
           "x": [
            "Sport",
            "Sport",
            "Sport",
            "Sport",
            "Sport",
            "Sport",
            "Sport",
            "Sport",
            "Sport",
            "Sport",
            "Sport",
            "Sport"
           ],
           "xaxis": "x",
           "y": [
            148,
            116,
            122,
            113,
            235,
            267,
            564,
            435,
            130,
            166,
            143,
            82
           ],
           "yaxis": "y"
          }
         ],
         "name": "2012"
        },
        {
         "data": [
          {
           "alignmentgroup": "True",
           "hovertemplate": "Thematiques=%{x}<br>Annee=2013<br>Totaux=%{y}<extra></extra>",
           "legendgroup": "Catastrophes",
           "marker": {
            "color": "#636efa",
            "pattern": {
             "shape": ""
            }
           },
           "name": "Catastrophes",
           "offsetgroup": "Catastrophes",
           "orientation": "v",
           "showlegend": true,
           "textposition": "auto",
           "type": "bar",
           "x": [
            "Catastrophes",
            "Catastrophes",
            "Catastrophes",
            "Catastrophes",
            "Catastrophes",
            "Catastrophes",
            "Catastrophes",
            "Catastrophes",
            "Catastrophes",
            "Catastrophes",
            "Catastrophes",
            "Catastrophes"
           ],
           "xaxis": "x",
           "y": [
            215,
            108,
            188,
            122,
            210,
            229,
            454,
            173,
            97,
            211,
            189,
            242
           ],
           "yaxis": "y"
          },
          {
           "alignmentgroup": "True",
           "hovertemplate": "Thematiques=%{x}<br>Annee=2013<br>Totaux=%{y}<extra></extra>",
           "legendgroup": "Culture-loisirs",
           "marker": {
            "color": "#EF553B",
            "pattern": {
             "shape": ""
            }
           },
           "name": "Culture-loisirs",
           "offsetgroup": "Culture-loisirs",
           "orientation": "v",
           "showlegend": true,
           "textposition": "auto",
           "type": "bar",
           "x": [
            "Culture-loisirs",
            "Culture-loisirs",
            "Culture-loisirs",
            "Culture-loisirs",
            "Culture-loisirs",
            "Culture-loisirs",
            "Culture-loisirs",
            "Culture-loisirs",
            "Culture-loisirs",
            "Culture-loisirs",
            "Culture-loisirs",
            "Culture-loisirs"
           ],
           "xaxis": "x",
           "y": [
            260,
            202,
            168,
            228,
            224,
            215,
            243,
            222,
            200,
            259,
            187,
            270
           ],
           "yaxis": "y"
          },
          {
           "alignmentgroup": "True",
           "hovertemplate": "Thematiques=%{x}<br>Annee=2013<br>Totaux=%{y}<extra></extra>",
           "legendgroup": "Economie",
           "marker": {
            "color": "#00cc96",
            "pattern": {
             "shape": ""
            }
           },
           "name": "Economie",
           "offsetgroup": "Economie",
           "orientation": "v",
           "showlegend": true,
           "textposition": "auto",
           "type": "bar",
           "x": [
            "Economie",
            "Economie",
            "Economie",
            "Economie",
            "Economie",
            "Economie",
            "Economie",
            "Economie",
            "Economie",
            "Economie",
            "Economie",
            "Economie"
           ],
           "xaxis": "x",
           "y": [
            336,
            293,
            277,
            335,
            233,
            239,
            252,
            270,
            246,
            418,
            399,
            353
           ],
           "yaxis": "y"
          },
          {
           "alignmentgroup": "True",
           "hovertemplate": "Thematiques=%{x}<br>Annee=2013<br>Totaux=%{y}<extra></extra>",
           "legendgroup": "Education",
           "marker": {
            "color": "#ab63fa",
            "pattern": {
             "shape": ""
            }
           },
           "name": "Education",
           "offsetgroup": "Education",
           "orientation": "v",
           "showlegend": true,
           "textposition": "auto",
           "type": "bar",
           "x": [
            "Education",
            "Education",
            "Education",
            "Education",
            "Education",
            "Education",
            "Education",
            "Education",
            "Education",
            "Education",
            "Education",
            "Education"
           ],
           "xaxis": "x",
           "y": [
            51,
            68,
            38,
            56,
            63,
            87,
            37,
            55,
            90,
            52,
            36,
            43
           ],
           "yaxis": "y"
          },
          {
           "alignmentgroup": "True",
           "hovertemplate": "Thematiques=%{x}<br>Annee=2013<br>Totaux=%{y}<extra></extra>",
           "legendgroup": "Environnement",
           "marker": {
            "color": "#FFA15A",
            "pattern": {
             "shape": ""
            }
           },
           "name": "Environnement",
           "offsetgroup": "Environnement",
           "orientation": "v",
           "showlegend": true,
           "textposition": "auto",
           "type": "bar",
           "x": [
            "Environnement",
            "Environnement",
            "Environnement",
            "Environnement",
            "Environnement",
            "Environnement",
            "Environnement",
            "Environnement",
            "Environnement",
            "Environnement",
            "Environnement",
            "Environnement"
           ],
           "xaxis": "x",
           "y": [
            122,
            79,
            100,
            124,
            115,
            101,
            173,
            105,
            127,
            107,
            90,
            109
           ],
           "yaxis": "y"
          },
          {
           "alignmentgroup": "True",
           "hovertemplate": "Thematiques=%{x}<br>Annee=2013<br>Totaux=%{y}<extra></extra>",
           "legendgroup": "Faits divers",
           "marker": {
            "color": "#19d3f3",
            "pattern": {
             "shape": ""
            }
           },
           "name": "Faits divers",
           "offsetgroup": "Faits divers",
           "orientation": "v",
           "showlegend": true,
           "textposition": "auto",
           "type": "bar",
           "x": [
            "Faits divers",
            "Faits divers",
            "Faits divers",
            "Faits divers",
            "Faits divers",
            "Faits divers",
            "Faits divers",
            "Faits divers",
            "Faits divers",
            "Faits divers",
            "Faits divers",
            "Faits divers"
           ],
           "xaxis": "x",
           "y": [
            179,
            166,
            99,
            235,
            212,
            93,
            152,
            269,
            223,
            160,
            173,
            191
           ],
           "yaxis": "y"
          },
          {
           "alignmentgroup": "True",
           "hovertemplate": "Thematiques=%{x}<br>Annee=2013<br>Totaux=%{y}<extra></extra>",
           "legendgroup": "Histoire-hommages",
           "marker": {
            "color": "#FF6692",
            "pattern": {
             "shape": ""
            }
           },
           "name": "Histoire-hommages",
           "offsetgroup": "Histoire-hommages",
           "orientation": "v",
           "showlegend": true,
           "textposition": "auto",
           "type": "bar",
           "x": [
            "Histoire-hommages",
            "Histoire-hommages",
            "Histoire-hommages",
            "Histoire-hommages",
            "Histoire-hommages",
            "Histoire-hommages",
            "Histoire-hommages",
            "Histoire-hommages",
            "Histoire-hommages",
            "Histoire-hommages",
            "Histoire-hommages",
            "Histoire-hommages"
           ],
           "xaxis": "x",
           "y": [
            51,
            33,
            75,
            56,
            58,
            68,
            32,
            30,
            37,
            67,
            124,
            211
           ],
           "yaxis": "y"
          },
          {
           "alignmentgroup": "True",
           "hovertemplate": "Thematiques=%{x}<br>Annee=2013<br>Totaux=%{y}<extra></extra>",
           "legendgroup": "International",
           "marker": {
            "color": "#B6E880",
            "pattern": {
             "shape": ""
            }
           },
           "name": "International",
           "offsetgroup": "International",
           "orientation": "v",
           "showlegend": true,
           "textposition": "auto",
           "type": "bar",
           "x": [
            "International",
            "International",
            "International",
            "International",
            "International",
            "International",
            "International",
            "International",
            "International",
            "International",
            "International",
            "International"
           ],
           "xaxis": "x",
           "y": [
            709,
            512,
            363,
            579,
            280,
            387,
            448,
            434,
            529,
            437,
            379,
            518
           ],
           "yaxis": "y"
          },
          {
           "alignmentgroup": "True",
           "hovertemplate": "Thematiques=%{x}<br>Annee=2013<br>Totaux=%{y}<extra></extra>",
           "legendgroup": "Justice",
           "marker": {
            "color": "#FF97FF",
            "pattern": {
             "shape": ""
            }
           },
           "name": "Justice",
           "offsetgroup": "Justice",
           "orientation": "v",
           "showlegend": true,
           "textposition": "auto",
           "type": "bar",
           "x": [
            "Justice",
            "Justice",
            "Justice",
            "Justice",
            "Justice",
            "Justice",
            "Justice",
            "Justice",
            "Justice",
            "Justice",
            "Justice",
            "Justice"
           ],
           "xaxis": "x",
           "y": [
            193,
            95,
            181,
            188,
            187,
            214,
            204,
            127,
            96,
            155,
            110,
            114
           ],
           "yaxis": "y"
          },
          {
           "alignmentgroup": "True",
           "hovertemplate": "Thematiques=%{x}<br>Annee=2013<br>Totaux=%{y}<extra></extra>",
           "legendgroup": "Politique France",
           "marker": {
            "color": "#FECB52",
            "pattern": {
             "shape": ""
            }
           },
           "name": "Politique France",
           "offsetgroup": "Politique France",
           "orientation": "v",
           "showlegend": true,
           "textposition": "auto",
           "type": "bar",
           "x": [
            "Politique France",
            "Politique France",
            "Politique France",
            "Politique France",
            "Politique France",
            "Politique France",
            "Politique France",
            "Politique France",
            "Politique France",
            "Politique France",
            "Politique France",
            "Politique France"
           ],
           "xaxis": "x",
           "y": [
            125,
            82,
            186,
            426,
            250,
            240,
            260,
            115,
            155,
            306,
            136,
            150
           ],
           "yaxis": "y"
          },
          {
           "alignmentgroup": "True",
           "hovertemplate": "Thematiques=%{x}<br>Annee=2013<br>Totaux=%{y}<extra></extra>",
           "legendgroup": "Santé",
           "marker": {
            "color": "#636efa",
            "pattern": {
             "shape": ""
            }
           },
           "name": "Santé",
           "offsetgroup": "Santé",
           "orientation": "v",
           "showlegend": true,
           "textposition": "auto",
           "type": "bar",
           "x": [
            "Santé",
            "Santé",
            "Santé",
            "Santé",
            "Santé",
            "Santé",
            "Santé",
            "Santé",
            "Santé",
            "Santé",
            "Santé",
            "Santé"
           ],
           "xaxis": "x",
           "y": [
            104,
            77,
            76,
            119,
            131,
            110,
            89,
            58,
            72,
            125,
            59,
            88
           ],
           "yaxis": "y"
          },
          {
           "alignmentgroup": "True",
           "hovertemplate": "Thematiques=%{x}<br>Annee=2013<br>Totaux=%{y}<extra></extra>",
           "legendgroup": "Sciences et techniques",
           "marker": {
            "color": "#EF553B",
            "pattern": {
             "shape": ""
            }
           },
           "name": "Sciences et techniques",
           "offsetgroup": "Sciences et techniques",
           "orientation": "v",
           "showlegend": true,
           "textposition": "auto",
           "type": "bar",
           "x": [
            "Sciences et techniques",
            "Sciences et techniques",
            "Sciences et techniques",
            "Sciences et techniques",
            "Sciences et techniques",
            "Sciences et techniques",
            "Sciences et techniques",
            "Sciences et techniques",
            "Sciences et techniques",
            "Sciences et techniques",
            "Sciences et techniques",
            "Sciences et techniques"
           ],
           "xaxis": "x",
           "y": [
            46,
            52,
            44,
            49,
            47,
            33,
            52,
            61,
            38,
            66,
            46,
            60
           ],
           "yaxis": "y"
          },
          {
           "alignmentgroup": "True",
           "hovertemplate": "Thematiques=%{x}<br>Annee=2013<br>Totaux=%{y}<extra></extra>",
           "legendgroup": "Société",
           "marker": {
            "color": "#00cc96",
            "pattern": {
             "shape": ""
            }
           },
           "name": "Société",
           "offsetgroup": "Société",
           "orientation": "v",
           "showlegend": true,
           "textposition": "auto",
           "type": "bar",
           "x": [
            "Société",
            "Société",
            "Société",
            "Société",
            "Société",
            "Société",
            "Société",
            "Société",
            "Société",
            "Société",
            "Société",
            "Société"
           ],
           "xaxis": "x",
           "y": [
            674,
            705,
            658,
            507,
            392,
            432,
            695,
            466,
            371,
            579,
            379,
            617
           ],
           "yaxis": "y"
          },
          {
           "alignmentgroup": "True",
           "hovertemplate": "Thematiques=%{x}<br>Annee=2013<br>Totaux=%{y}<extra></extra>",
           "legendgroup": "Sport",
           "marker": {
            "color": "#ab63fa",
            "pattern": {
             "shape": ""
            }
           },
           "name": "Sport",
           "offsetgroup": "Sport",
           "orientation": "v",
           "showlegend": true,
           "textposition": "auto",
           "type": "bar",
           "x": [
            "Sport",
            "Sport",
            "Sport",
            "Sport",
            "Sport",
            "Sport",
            "Sport",
            "Sport",
            "Sport",
            "Sport",
            "Sport",
            "Sport"
           ],
           "xaxis": "x",
           "y": [
            175,
            143,
            102,
            140,
            194,
            184,
            266,
            163,
            140,
            161,
            163,
            113
           ],
           "yaxis": "y"
          }
         ],
         "name": "2013"
        },
        {
         "data": [
          {
           "alignmentgroup": "True",
           "hovertemplate": "Thematiques=%{x}<br>Annee=2014<br>Totaux=%{y}<extra></extra>",
           "legendgroup": "Catastrophes",
           "marker": {
            "color": "#636efa",
            "pattern": {
             "shape": ""
            }
           },
           "name": "Catastrophes",
           "offsetgroup": "Catastrophes",
           "orientation": "v",
           "showlegend": true,
           "textposition": "auto",
           "type": "bar",
           "x": [
            "Catastrophes",
            "Catastrophes",
            "Catastrophes",
            "Catastrophes",
            "Catastrophes",
            "Catastrophes",
            "Catastrophes",
            "Catastrophes",
            "Catastrophes",
            "Catastrophes",
            "Catastrophes",
            "Catastrophes"
           ],
           "xaxis": "x",
           "y": [
            243,
            236,
            193,
            120,
            130,
            79,
            513,
            156,
            194,
            174,
            177,
            307
           ],
           "yaxis": "y"
          },
          {
           "alignmentgroup": "True",
           "hovertemplate": "Thematiques=%{x}<br>Annee=2014<br>Totaux=%{y}<extra></extra>",
           "legendgroup": "Culture-loisirs",
           "marker": {
            "color": "#EF553B",
            "pattern": {
             "shape": ""
            }
           },
           "name": "Culture-loisirs",
           "offsetgroup": "Culture-loisirs",
           "orientation": "v",
           "showlegend": true,
           "textposition": "auto",
           "type": "bar",
           "x": [
            "Culture-loisirs",
            "Culture-loisirs",
            "Culture-loisirs",
            "Culture-loisirs",
            "Culture-loisirs",
            "Culture-loisirs",
            "Culture-loisirs",
            "Culture-loisirs",
            "Culture-loisirs",
            "Culture-loisirs",
            "Culture-loisirs",
            "Culture-loisirs"
           ],
           "xaxis": "x",
           "y": [
            181,
            185,
            181,
            221,
            212,
            172,
            225,
            197,
            236,
            190,
            211,
            306
           ],
           "yaxis": "y"
          },
          {
           "alignmentgroup": "True",
           "hovertemplate": "Thematiques=%{x}<br>Annee=2014<br>Totaux=%{y}<extra></extra>",
           "legendgroup": "Economie",
           "marker": {
            "color": "#00cc96",
            "pattern": {
             "shape": ""
            }
           },
           "name": "Economie",
           "offsetgroup": "Economie",
           "orientation": "v",
           "showlegend": true,
           "textposition": "auto",
           "type": "bar",
           "x": [
            "Economie",
            "Economie",
            "Economie",
            "Economie",
            "Economie",
            "Economie",
            "Economie",
            "Economie",
            "Economie",
            "Economie",
            "Economie",
            "Economie"
           ],
           "xaxis": "x",
           "y": [
            210,
            268,
            184,
            291,
            237,
            165,
            222,
            241,
            290,
            274,
            214,
            316
           ],
           "yaxis": "y"
          },
          {
           "alignmentgroup": "True",
           "hovertemplate": "Thematiques=%{x}<br>Annee=2014<br>Totaux=%{y}<extra></extra>",
           "legendgroup": "Education",
           "marker": {
            "color": "#ab63fa",
            "pattern": {
             "shape": ""
            }
           },
           "name": "Education",
           "offsetgroup": "Education",
           "orientation": "v",
           "showlegend": true,
           "textposition": "auto",
           "type": "bar",
           "x": [
            "Education",
            "Education",
            "Education",
            "Education",
            "Education",
            "Education",
            "Education",
            "Education",
            "Education",
            "Education",
            "Education",
            "Education"
           ],
           "xaxis": "x",
           "y": [
            59,
            28,
            33,
            38,
            38,
            79,
            42,
            42,
            102,
            22,
            30,
            36
           ],
           "yaxis": "y"
          },
          {
           "alignmentgroup": "True",
           "hovertemplate": "Thematiques=%{x}<br>Annee=2014<br>Totaux=%{y}<extra></extra>",
           "legendgroup": "Environnement",
           "marker": {
            "color": "#FFA15A",
            "pattern": {
             "shape": ""
            }
           },
           "name": "Environnement",
           "offsetgroup": "Environnement",
           "orientation": "v",
           "showlegend": true,
           "textposition": "auto",
           "type": "bar",
           "x": [
            "Environnement",
            "Environnement",
            "Environnement",
            "Environnement",
            "Environnement",
            "Environnement",
            "Environnement",
            "Environnement",
            "Environnement",
            "Environnement",
            "Environnement",
            "Environnement"
           ],
           "xaxis": "x",
           "y": [
            129,
            177,
            188,
            79,
            64,
            66,
            104,
            79,
            95,
            184,
            160,
            139
           ],
           "yaxis": "y"
          },
          {
           "alignmentgroup": "True",
           "hovertemplate": "Thematiques=%{x}<br>Annee=2014<br>Totaux=%{y}<extra></extra>",
           "legendgroup": "Faits divers",
           "marker": {
            "color": "#19d3f3",
            "pattern": {
             "shape": ""
            }
           },
           "name": "Faits divers",
           "offsetgroup": "Faits divers",
           "orientation": "v",
           "showlegend": true,
           "textposition": "auto",
           "type": "bar",
           "x": [
            "Faits divers",
            "Faits divers",
            "Faits divers",
            "Faits divers",
            "Faits divers",
            "Faits divers",
            "Faits divers",
            "Faits divers",
            "Faits divers",
            "Faits divers",
            "Faits divers",
            "Faits divers"
           ],
           "xaxis": "x",
           "y": [
            109,
            124,
            72,
            160,
            132,
            105,
            117,
            116,
            128,
            105,
            114,
            159
           ],
           "yaxis": "y"
          },
          {
           "alignmentgroup": "True",
           "hovertemplate": "Thematiques=%{x}<br>Annee=2014<br>Totaux=%{y}<extra></extra>",
           "legendgroup": "Histoire-hommages",
           "marker": {
            "color": "#FF6692",
            "pattern": {
             "shape": ""
            }
           },
           "name": "Histoire-hommages",
           "offsetgroup": "Histoire-hommages",
           "orientation": "v",
           "showlegend": true,
           "textposition": "auto",
           "type": "bar",
           "x": [
            "Histoire-hommages",
            "Histoire-hommages",
            "Histoire-hommages",
            "Histoire-hommages",
            "Histoire-hommages",
            "Histoire-hommages",
            "Histoire-hommages",
            "Histoire-hommages",
            "Histoire-hommages",
            "Histoire-hommages",
            "Histoire-hommages",
            "Histoire-hommages"
           ],
           "xaxis": "x",
           "y": [
            61,
            37,
            57,
            89,
            82,
            192,
            69,
            132,
            35,
            27,
            90,
            49
           ],
           "yaxis": "y"
          },
          {
           "alignmentgroup": "True",
           "hovertemplate": "Thematiques=%{x}<br>Annee=2014<br>Totaux=%{y}<extra></extra>",
           "legendgroup": "International",
           "marker": {
            "color": "#B6E880",
            "pattern": {
             "shape": ""
            }
           },
           "name": "International",
           "offsetgroup": "International",
           "orientation": "v",
           "showlegend": true,
           "textposition": "auto",
           "type": "bar",
           "x": [
            "International",
            "International",
            "International",
            "International",
            "International",
            "International",
            "International",
            "International",
            "International",
            "International",
            "International",
            "International"
           ],
           "xaxis": "x",
           "y": [
            368,
            449,
            458,
            550,
            651,
            405,
            512,
            506,
            697,
            426,
            381,
            402
           ],
           "yaxis": "y"
          },
          {
           "alignmentgroup": "True",
           "hovertemplate": "Thematiques=%{x}<br>Annee=2014<br>Totaux=%{y}<extra></extra>",
           "legendgroup": "Justice",
           "marker": {
            "color": "#FF97FF",
            "pattern": {
             "shape": ""
            }
           },
           "name": "Justice",
           "offsetgroup": "Justice",
           "orientation": "v",
           "showlegend": true,
           "textposition": "auto",
           "type": "bar",
           "x": [
            "Justice",
            "Justice",
            "Justice",
            "Justice",
            "Justice",
            "Justice",
            "Justice",
            "Justice",
            "Justice",
            "Justice",
            "Justice",
            "Justice"
           ],
           "xaxis": "x",
           "y": [
            173,
            128,
            248,
            164,
            162,
            192,
            181,
            90,
            141,
            131,
            168,
            97
           ],
           "yaxis": "y"
          },
          {
           "alignmentgroup": "True",
           "hovertemplate": "Thematiques=%{x}<br>Annee=2014<br>Totaux=%{y}<extra></extra>",
           "legendgroup": "Politique France",
           "marker": {
            "color": "#FECB52",
            "pattern": {
             "shape": ""
            }
           },
           "name": "Politique France",
           "offsetgroup": "Politique France",
           "orientation": "v",
           "showlegend": true,
           "textposition": "auto",
           "type": "bar",
           "x": [
            "Politique France",
            "Politique France",
            "Politique France",
            "Politique France",
            "Politique France",
            "Politique France",
            "Politique France",
            "Politique France",
            "Politique France",
            "Politique France",
            "Politique France",
            "Politique France"
           ],
           "xaxis": "x",
           "y": [
            140,
            90,
            295,
            503,
            140,
            127,
            182,
            212,
            355,
            146,
            184,
            188
           ],
           "yaxis": "y"
          },
          {
           "alignmentgroup": "True",
           "hovertemplate": "Thematiques=%{x}<br>Annee=2014<br>Totaux=%{y}<extra></extra>",
           "legendgroup": "Santé",
           "marker": {
            "color": "#636efa",
            "pattern": {
             "shape": ""
            }
           },
           "name": "Santé",
           "offsetgroup": "Santé",
           "orientation": "v",
           "showlegend": true,
           "textposition": "auto",
           "type": "bar",
           "x": [
            "Santé",
            "Santé",
            "Santé",
            "Santé",
            "Santé",
            "Santé",
            "Santé",
            "Santé",
            "Santé",
            "Santé",
            "Santé",
            "Santé"
           ],
           "xaxis": "x",
           "y": [
            111,
            67,
            77,
            90,
            69,
            34,
            70,
            89,
            127,
            218,
            79,
            118
           ],
           "yaxis": "y"
          },
          {
           "alignmentgroup": "True",
           "hovertemplate": "Thematiques=%{x}<br>Annee=2014<br>Totaux=%{y}<extra></extra>",
           "legendgroup": "Sciences et techniques",
           "marker": {
            "color": "#EF553B",
            "pattern": {
             "shape": ""
            }
           },
           "name": "Sciences et techniques",
           "offsetgroup": "Sciences et techniques",
           "orientation": "v",
           "showlegend": true,
           "textposition": "auto",
           "type": "bar",
           "x": [
            "Sciences et techniques",
            "Sciences et techniques",
            "Sciences et techniques",
            "Sciences et techniques",
            "Sciences et techniques",
            "Sciences et techniques",
            "Sciences et techniques",
            "Sciences et techniques",
            "Sciences et techniques",
            "Sciences et techniques",
            "Sciences et techniques",
            "Sciences et techniques"
           ],
           "xaxis": "x",
           "y": [
            52,
            38,
            43,
            66,
            43,
            27,
            38,
            49,
            47,
            42,
            71,
            43
           ],
           "yaxis": "y"
          },
          {
           "alignmentgroup": "True",
           "hovertemplate": "Thematiques=%{x}<br>Annee=2014<br>Totaux=%{y}<extra></extra>",
           "legendgroup": "Société",
           "marker": {
            "color": "#00cc96",
            "pattern": {
             "shape": ""
            }
           },
           "name": "Société",
           "offsetgroup": "Société",
           "orientation": "v",
           "showlegend": true,
           "textposition": "auto",
           "type": "bar",
           "x": [
            "Société",
            "Société",
            "Société",
            "Société",
            "Société",
            "Société",
            "Société",
            "Société",
            "Société",
            "Société",
            "Société",
            "Société"
           ],
           "xaxis": "x",
           "y": [
            533,
            415,
            300,
            496,
            339,
            471,
            483,
            364,
            484,
            383,
            391,
            682
           ],
           "yaxis": "y"
          },
          {
           "alignmentgroup": "True",
           "hovertemplate": "Thematiques=%{x}<br>Annee=2014<br>Totaux=%{y}<extra></extra>",
           "legendgroup": "Sport",
           "marker": {
            "color": "#ab63fa",
            "pattern": {
             "shape": ""
            }
           },
           "name": "Sport",
           "offsetgroup": "Sport",
           "orientation": "v",
           "showlegend": true,
           "textposition": "auto",
           "type": "bar",
           "x": [
            "Sport",
            "Sport",
            "Sport",
            "Sport",
            "Sport",
            "Sport",
            "Sport",
            "Sport",
            "Sport",
            "Sport",
            "Sport",
            "Sport"
           ],
           "xaxis": "x",
           "y": [
            143,
            285,
            122,
            180,
            179,
            425,
            487,
            218,
            166,
            155,
            174,
            134
           ],
           "yaxis": "y"
          }
         ],
         "name": "2014"
        },
        {
         "data": [
          {
           "alignmentgroup": "True",
           "hovertemplate": "Thematiques=%{x}<br>Annee=2015<br>Totaux=%{y}<extra></extra>",
           "legendgroup": "Catastrophes",
           "marker": {
            "color": "#636efa",
            "pattern": {
             "shape": ""
            }
           },
           "name": "Catastrophes",
           "offsetgroup": "Catastrophes",
           "orientation": "v",
           "showlegend": true,
           "textposition": "auto",
           "type": "bar",
           "x": [
            "Catastrophes",
            "Catastrophes",
            "Catastrophes",
            "Catastrophes",
            "Catastrophes",
            "Catastrophes",
            "Catastrophes",
            "Catastrophes",
            "Catastrophes",
            "Catastrophes",
            "Catastrophes",
            "Catastrophes"
           ],
           "xaxis": "x",
           "y": [
            137,
            156,
            418,
            280,
            112,
            118,
            184,
            216,
            134,
            280,
            170,
            61
           ],
           "yaxis": "y"
          },
          {
           "alignmentgroup": "True",
           "hovertemplate": "Thematiques=%{x}<br>Annee=2015<br>Totaux=%{y}<extra></extra>",
           "legendgroup": "Culture-loisirs",
           "marker": {
            "color": "#EF553B",
            "pattern": {
             "shape": ""
            }
           },
           "name": "Culture-loisirs",
           "offsetgroup": "Culture-loisirs",
           "orientation": "v",
           "showlegend": true,
           "textposition": "auto",
           "type": "bar",
           "x": [
            "Culture-loisirs",
            "Culture-loisirs",
            "Culture-loisirs",
            "Culture-loisirs",
            "Culture-loisirs",
            "Culture-loisirs",
            "Culture-loisirs",
            "Culture-loisirs",
            "Culture-loisirs",
            "Culture-loisirs",
            "Culture-loisirs",
            "Culture-loisirs"
           ],
           "xaxis": "x",
           "y": [
            191,
            207,
            192,
            214,
            225,
            238,
            223,
            206,
            202,
            187,
            131,
            258
           ],
           "yaxis": "y"
          },
          {
           "alignmentgroup": "True",
           "hovertemplate": "Thematiques=%{x}<br>Annee=2015<br>Totaux=%{y}<extra></extra>",
           "legendgroup": "Economie",
           "marker": {
            "color": "#00cc96",
            "pattern": {
             "shape": ""
            }
           },
           "name": "Economie",
           "offsetgroup": "Economie",
           "orientation": "v",
           "showlegend": true,
           "textposition": "auto",
           "type": "bar",
           "x": [
            "Economie",
            "Economie",
            "Economie",
            "Economie",
            "Economie",
            "Economie",
            "Economie",
            "Economie",
            "Economie",
            "Economie",
            "Economie",
            "Economie"
           ],
           "xaxis": "x",
           "y": [
            147,
            377,
            204,
            246,
            227,
            435,
            560,
            383,
            265,
            148,
            145,
            203
           ],
           "yaxis": "y"
          },
          {
           "alignmentgroup": "True",
           "hovertemplate": "Thematiques=%{x}<br>Annee=2015<br>Totaux=%{y}<extra></extra>",
           "legendgroup": "Education",
           "marker": {
            "color": "#ab63fa",
            "pattern": {
             "shape": ""
            }
           },
           "name": "Education",
           "offsetgroup": "Education",
           "orientation": "v",
           "showlegend": true,
           "textposition": "auto",
           "type": "bar",
           "x": [
            "Education",
            "Education",
            "Education",
            "Education",
            "Education",
            "Education",
            "Education",
            "Education",
            "Education",
            "Education",
            "Education",
            "Education"
           ],
           "xaxis": "x",
           "y": [
            37,
            40,
            46,
            34,
            93,
            68,
            25,
            40,
            98,
            42,
            16,
            24
           ],
           "yaxis": "y"
          },
          {
           "alignmentgroup": "True",
           "hovertemplate": "Thematiques=%{x}<br>Annee=2015<br>Totaux=%{y}<extra></extra>",
           "legendgroup": "Environnement",
           "marker": {
            "color": "#FFA15A",
            "pattern": {
             "shape": ""
            }
           },
           "name": "Environnement",
           "offsetgroup": "Environnement",
           "orientation": "v",
           "showlegend": true,
           "textposition": "auto",
           "type": "bar",
           "x": [
            "Environnement",
            "Environnement",
            "Environnement",
            "Environnement",
            "Environnement",
            "Environnement",
            "Environnement",
            "Environnement",
            "Environnement",
            "Environnement",
            "Environnement",
            "Environnement"
           ],
           "xaxis": "x",
           "y": [
            57,
            108,
            174,
            60,
            78,
            137,
            109,
            123,
            195,
            111,
            161,
            365
           ],
           "yaxis": "y"
          },
          {
           "alignmentgroup": "True",
           "hovertemplate": "Thematiques=%{x}<br>Annee=2015<br>Totaux=%{y}<extra></extra>",
           "legendgroup": "Faits divers",
           "marker": {
            "color": "#19d3f3",
            "pattern": {
             "shape": ""
            }
           },
           "name": "Faits divers",
           "offsetgroup": "Faits divers",
           "orientation": "v",
           "showlegend": true,
           "textposition": "auto",
           "type": "bar",
           "x": [
            "Faits divers",
            "Faits divers",
            "Faits divers",
            "Faits divers",
            "Faits divers",
            "Faits divers",
            "Faits divers",
            "Faits divers",
            "Faits divers",
            "Faits divers",
            "Faits divers",
            "Faits divers"
           ],
           "xaxis": "x",
           "y": [
            32,
            107,
            239,
            221,
            78,
            129,
            66,
            117,
            75,
            108,
            45,
            104
           ],
           "yaxis": "y"
          },
          {
           "alignmentgroup": "True",
           "hovertemplate": "Thematiques=%{x}<br>Annee=2015<br>Totaux=%{y}<extra></extra>",
           "legendgroup": "Histoire-hommages",
           "marker": {
            "color": "#FF6692",
            "pattern": {
             "shape": ""
            }
           },
           "name": "Histoire-hommages",
           "offsetgroup": "Histoire-hommages",
           "orientation": "v",
           "showlegend": true,
           "textposition": "auto",
           "type": "bar",
           "x": [
            "Histoire-hommages",
            "Histoire-hommages",
            "Histoire-hommages",
            "Histoire-hommages",
            "Histoire-hommages",
            "Histoire-hommages",
            "Histoire-hommages",
            "Histoire-hommages",
            "Histoire-hommages",
            "Histoire-hommages",
            "Histoire-hommages",
            "Histoire-hommages"
           ],
           "xaxis": "x",
           "y": [
            77,
            44,
            32,
            139,
            96,
            77,
            31,
            32,
            39,
            27,
            38,
            28
           ],
           "yaxis": "y"
          },
          {
           "alignmentgroup": "True",
           "hovertemplate": "Thematiques=%{x}<br>Annee=2015<br>Totaux=%{y}<extra></extra>",
           "legendgroup": "International",
           "marker": {
            "color": "#B6E880",
            "pattern": {
             "shape": ""
            }
           },
           "name": "International",
           "offsetgroup": "International",
           "orientation": "v",
           "showlegend": true,
           "textposition": "auto",
           "type": "bar",
           "x": [
            "International",
            "International",
            "International",
            "International",
            "International",
            "International",
            "International",
            "International",
            "International",
            "International",
            "International",
            "International"
           ],
           "xaxis": "x",
           "y": [
            421,
            434,
            458,
            258,
            412,
            518,
            367,
            334,
            620,
            433,
            560,
            429
           ],
           "yaxis": "y"
          },
          {
           "alignmentgroup": "True",
           "hovertemplate": "Thematiques=%{x}<br>Annee=2015<br>Totaux=%{y}<extra></extra>",
           "legendgroup": "Justice",
           "marker": {
            "color": "#FF97FF",
            "pattern": {
             "shape": ""
            }
           },
           "name": "Justice",
           "offsetgroup": "Justice",
           "orientation": "v",
           "showlegend": true,
           "textposition": "auto",
           "type": "bar",
           "x": [
            "Justice",
            "Justice",
            "Justice",
            "Justice",
            "Justice",
            "Justice",
            "Justice",
            "Justice",
            "Justice",
            "Justice",
            "Justice",
            "Justice"
           ],
           "xaxis": "x",
           "y": [
            71,
            128,
            108,
            101,
            114,
            149,
            64,
            62,
            106,
            139,
            78,
            85
           ],
           "yaxis": "y"
          },
          {
           "alignmentgroup": "True",
           "hovertemplate": "Thematiques=%{x}<br>Annee=2015<br>Totaux=%{y}<extra></extra>",
           "legendgroup": "Politique France",
           "marker": {
            "color": "#FECB52",
            "pattern": {
             "shape": ""
            }
           },
           "name": "Politique France",
           "offsetgroup": "Politique France",
           "orientation": "v",
           "showlegend": true,
           "textposition": "auto",
           "type": "bar",
           "x": [
            "Politique France",
            "Politique France",
            "Politique France",
            "Politique France",
            "Politique France",
            "Politique France",
            "Politique France",
            "Politique France",
            "Politique France",
            "Politique France",
            "Politique France",
            "Politique France"
           ],
           "xaxis": "x",
           "y": [
            957,
            220,
            438,
            233,
            148,
            357,
            158,
            243,
            286,
            147,
            819,
            588
           ],
           "yaxis": "y"
          },
          {
           "alignmentgroup": "True",
           "hovertemplate": "Thematiques=%{x}<br>Annee=2015<br>Totaux=%{y}<extra></extra>",
           "legendgroup": "Santé",
           "marker": {
            "color": "#636efa",
            "pattern": {
             "shape": ""
            }
           },
           "name": "Santé",
           "offsetgroup": "Santé",
           "orientation": "v",
           "showlegend": true,
           "textposition": "auto",
           "type": "bar",
           "x": [
            "Santé",
            "Santé",
            "Santé",
            "Santé",
            "Santé",
            "Santé",
            "Santé",
            "Santé",
            "Santé",
            "Santé",
            "Santé",
            "Santé"
           ],
           "xaxis": "x",
           "y": [
            75,
            64,
            103,
            72,
            84,
            92,
            52,
            43,
            66,
            68,
            49,
            73
           ],
           "yaxis": "y"
          },
          {
           "alignmentgroup": "True",
           "hovertemplate": "Thematiques=%{x}<br>Annee=2015<br>Totaux=%{y}<extra></extra>",
           "legendgroup": "Sciences et techniques",
           "marker": {
            "color": "#EF553B",
            "pattern": {
             "shape": ""
            }
           },
           "name": "Sciences et techniques",
           "offsetgroup": "Sciences et techniques",
           "orientation": "v",
           "showlegend": true,
           "textposition": "auto",
           "type": "bar",
           "x": [
            "Sciences et techniques",
            "Sciences et techniques",
            "Sciences et techniques",
            "Sciences et techniques",
            "Sciences et techniques",
            "Sciences et techniques",
            "Sciences et techniques",
            "Sciences et techniques",
            "Sciences et techniques",
            "Sciences et techniques",
            "Sciences et techniques",
            "Sciences et techniques"
           ],
           "xaxis": "x",
           "y": [
            25,
            31,
            75,
            49,
            43,
            62,
            58,
            63,
            65,
            32,
            39,
            32
           ],
           "yaxis": "y"
          },
          {
           "alignmentgroup": "True",
           "hovertemplate": "Thematiques=%{x}<br>Annee=2015<br>Totaux=%{y}<extra></extra>",
           "legendgroup": "Société",
           "marker": {
            "color": "#00cc96",
            "pattern": {
             "shape": ""
            }
           },
           "name": "Société",
           "offsetgroup": "Société",
           "orientation": "v",
           "showlegend": true,
           "textposition": "auto",
           "type": "bar",
           "x": [
            "Société",
            "Société",
            "Société",
            "Société",
            "Société",
            "Société",
            "Société",
            "Société",
            "Société",
            "Société",
            "Société",
            "Société"
           ],
           "xaxis": "x",
           "y": [
            368,
            309,
            415,
            384,
            378,
            432,
            344,
            365,
            450,
            402,
            185,
            376
           ],
           "yaxis": "y"
          },
          {
           "alignmentgroup": "True",
           "hovertemplate": "Thematiques=%{x}<br>Annee=2015<br>Totaux=%{y}<extra></extra>",
           "legendgroup": "Sport",
           "marker": {
            "color": "#ab63fa",
            "pattern": {
             "shape": ""
            }
           },
           "name": "Sport",
           "offsetgroup": "Sport",
           "orientation": "v",
           "showlegend": true,
           "textposition": "auto",
           "type": "bar",
           "x": [
            "Sport",
            "Sport",
            "Sport",
            "Sport",
            "Sport",
            "Sport",
            "Sport",
            "Sport",
            "Sport",
            "Sport",
            "Sport",
            "Sport"
           ],
           "xaxis": "x",
           "y": [
            97,
            162,
            173,
            125,
            172,
            244,
            250,
            181,
            227,
            163,
            89,
            115
           ],
           "yaxis": "y"
          }
         ],
         "name": "2015"
        },
        {
         "data": [
          {
           "alignmentgroup": "True",
           "hovertemplate": "Thematiques=%{x}<br>Annee=2016<br>Totaux=%{y}<extra></extra>",
           "legendgroup": "Catastrophes",
           "marker": {
            "color": "#636efa",
            "pattern": {
             "shape": ""
            }
           },
           "name": "Catastrophes",
           "offsetgroup": "Catastrophes",
           "orientation": "v",
           "showlegend": true,
           "textposition": "auto",
           "type": "bar",
           "x": [
            "Catastrophes",
            "Catastrophes",
            "Catastrophes",
            "Catastrophes",
            "Catastrophes",
            "Catastrophes",
            "Catastrophes",
            "Catastrophes",
            "Catastrophes",
            "Catastrophes",
            "Catastrophes",
            "Catastrophes"
           ],
           "xaxis": "x",
           "y": [
            123,
            192,
            95,
            79,
            431,
            215,
            83,
            236,
            74,
            131,
            118,
            57
           ],
           "yaxis": "y"
          },
          {
           "alignmentgroup": "True",
           "hovertemplate": "Thematiques=%{x}<br>Annee=2016<br>Totaux=%{y}<extra></extra>",
           "legendgroup": "Culture-loisirs",
           "marker": {
            "color": "#EF553B",
            "pattern": {
             "shape": ""
            }
           },
           "name": "Culture-loisirs",
           "offsetgroup": "Culture-loisirs",
           "orientation": "v",
           "showlegend": true,
           "textposition": "auto",
           "type": "bar",
           "x": [
            "Culture-loisirs",
            "Culture-loisirs",
            "Culture-loisirs",
            "Culture-loisirs",
            "Culture-loisirs",
            "Culture-loisirs",
            "Culture-loisirs",
            "Culture-loisirs",
            "Culture-loisirs",
            "Culture-loisirs",
            "Culture-loisirs",
            "Culture-loisirs"
           ],
           "xaxis": "x",
           "y": [
            179,
            190,
            221,
            163,
            265,
            110,
            136,
            200,
            167,
            150,
            146,
            181
           ],
           "yaxis": "y"
          },
          {
           "alignmentgroup": "True",
           "hovertemplate": "Thematiques=%{x}<br>Annee=2016<br>Totaux=%{y}<extra></extra>",
           "legendgroup": "Economie",
           "marker": {
            "color": "#00cc96",
            "pattern": {
             "shape": ""
            }
           },
           "name": "Economie",
           "offsetgroup": "Economie",
           "orientation": "v",
           "showlegend": true,
           "textposition": "auto",
           "type": "bar",
           "x": [
            "Economie",
            "Economie",
            "Economie",
            "Economie",
            "Economie",
            "Economie",
            "Economie",
            "Economie",
            "Economie",
            "Economie",
            "Economie",
            "Economie"
           ],
           "xaxis": "x",
           "y": [
            187,
            288,
            260,
            222,
            200,
            89,
            112,
            259,
            237,
            189,
            171,
            162
           ],
           "yaxis": "y"
          },
          {
           "alignmentgroup": "True",
           "hovertemplate": "Thematiques=%{x}<br>Annee=2016<br>Totaux=%{y}<extra></extra>",
           "legendgroup": "Education",
           "marker": {
            "color": "#ab63fa",
            "pattern": {
             "shape": ""
            }
           },
           "name": "Education",
           "offsetgroup": "Education",
           "orientation": "v",
           "showlegend": true,
           "textposition": "auto",
           "type": "bar",
           "x": [
            "Education",
            "Education",
            "Education",
            "Education",
            "Education",
            "Education",
            "Education",
            "Education",
            "Education",
            "Education",
            "Education",
            "Education"
           ],
           "xaxis": "x",
           "y": [
            43,
            22,
            27,
            36,
            54,
            39,
            21,
            60,
            36,
            34,
            35,
            21
           ],
           "yaxis": "y"
          },
          {
           "alignmentgroup": "True",
           "hovertemplate": "Thematiques=%{x}<br>Annee=2016<br>Totaux=%{y}<extra></extra>",
           "legendgroup": "Environnement",
           "marker": {
            "color": "#FFA15A",
            "pattern": {
             "shape": ""
            }
           },
           "name": "Environnement",
           "offsetgroup": "Environnement",
           "orientation": "v",
           "showlegend": true,
           "textposition": "auto",
           "type": "bar",
           "x": [
            "Environnement",
            "Environnement",
            "Environnement",
            "Environnement",
            "Environnement",
            "Environnement",
            "Environnement",
            "Environnement",
            "Environnement",
            "Environnement",
            "Environnement",
            "Environnement"
           ],
           "xaxis": "x",
           "y": [
            128,
            55,
            80,
            93,
            75,
            58,
            32,
            89,
            76,
            55,
            73,
            120
           ],
           "yaxis": "y"
          },
          {
           "alignmentgroup": "True",
           "hovertemplate": "Thematiques=%{x}<br>Annee=2016<br>Totaux=%{y}<extra></extra>",
           "legendgroup": "Faits divers",
           "marker": {
            "color": "#19d3f3",
            "pattern": {
             "shape": ""
            }
           },
           "name": "Faits divers",
           "offsetgroup": "Faits divers",
           "orientation": "v",
           "showlegend": true,
           "textposition": "auto",
           "type": "bar",
           "x": [
            "Faits divers",
            "Faits divers",
            "Faits divers",
            "Faits divers",
            "Faits divers",
            "Faits divers",
            "Faits divers",
            "Faits divers",
            "Faits divers",
            "Faits divers",
            "Faits divers",
            "Faits divers"
           ],
           "xaxis": "x",
           "y": [
            126,
            78,
            85,
            74,
            117,
            57,
            52,
            108,
            65,
            123,
            75,
            48
           ],
           "yaxis": "y"
          },
          {
           "alignmentgroup": "True",
           "hovertemplate": "Thematiques=%{x}<br>Annee=2016<br>Totaux=%{y}<extra></extra>",
           "legendgroup": "Histoire-hommages",
           "marker": {
            "color": "#FF6692",
            "pattern": {
             "shape": ""
            }
           },
           "name": "Histoire-hommages",
           "offsetgroup": "Histoire-hommages",
           "orientation": "v",
           "showlegend": true,
           "textposition": "auto",
           "type": "bar",
           "x": [
            "Histoire-hommages",
            "Histoire-hommages",
            "Histoire-hommages",
            "Histoire-hommages",
            "Histoire-hommages",
            "Histoire-hommages",
            "Histoire-hommages",
            "Histoire-hommages",
            "Histoire-hommages",
            "Histoire-hommages",
            "Histoire-hommages",
            "Histoire-hommages"
           ],
           "xaxis": "x",
           "y": [
            126,
            38,
            78,
            63,
            85,
            60,
            60,
            32,
            61,
            33,
            83,
            90
           ],
           "yaxis": "y"
          },
          {
           "alignmentgroup": "True",
           "hovertemplate": "Thematiques=%{x}<br>Annee=2016<br>Totaux=%{y}<extra></extra>",
           "legendgroup": "International",
           "marker": {
            "color": "#B6E880",
            "pattern": {
             "shape": ""
            }
           },
           "name": "International",
           "offsetgroup": "International",
           "orientation": "v",
           "showlegend": true,
           "textposition": "auto",
           "type": "bar",
           "x": [
            "International",
            "International",
            "International",
            "International",
            "International",
            "International",
            "International",
            "International",
            "International",
            "International",
            "International",
            "International"
           ],
           "xaxis": "x",
           "y": [
            326,
            432,
            941,
            418,
            379,
            610,
            348,
            358,
            354,
            412,
            576,
            492
           ],
           "yaxis": "y"
          },
          {
           "alignmentgroup": "True",
           "hovertemplate": "Thematiques=%{x}<br>Annee=2016<br>Totaux=%{y}<extra></extra>",
           "legendgroup": "Justice",
           "marker": {
            "color": "#FF97FF",
            "pattern": {
             "shape": ""
            }
           },
           "name": "Justice",
           "offsetgroup": "Justice",
           "orientation": "v",
           "showlegend": true,
           "textposition": "auto",
           "type": "bar",
           "x": [
            "Justice",
            "Justice",
            "Justice",
            "Justice",
            "Justice",
            "Justice",
            "Justice",
            "Justice",
            "Justice",
            "Justice",
            "Justice",
            "Justice"
           ],
           "xaxis": "x",
           "y": [
            107,
            108,
            67,
            156,
            109,
            42,
            39,
            69,
            111,
            42,
            63,
            121
           ],
           "yaxis": "y"
          },
          {
           "alignmentgroup": "True",
           "hovertemplate": "Thematiques=%{x}<br>Annee=2016<br>Totaux=%{y}<extra></extra>",
           "legendgroup": "Politique France",
           "marker": {
            "color": "#FECB52",
            "pattern": {
             "shape": ""
            }
           },
           "name": "Politique France",
           "offsetgroup": "Politique France",
           "orientation": "v",
           "showlegend": true,
           "textposition": "auto",
           "type": "bar",
           "x": [
            "Politique France",
            "Politique France",
            "Politique France",
            "Politique France",
            "Politique France",
            "Politique France",
            "Politique France",
            "Politique France",
            "Politique France",
            "Politique France",
            "Politique France",
            "Politique France"
           ],
           "xaxis": "x",
           "y": [
            365,
            293,
            263,
            179,
            203,
            285,
            643,
            289,
            336,
            357,
            696,
            235
           ],
           "yaxis": "y"
          },
          {
           "alignmentgroup": "True",
           "hovertemplate": "Thematiques=%{x}<br>Annee=2016<br>Totaux=%{y}<extra></extra>",
           "legendgroup": "Santé",
           "marker": {
            "color": "#636efa",
            "pattern": {
             "shape": ""
            }
           },
           "name": "Santé",
           "offsetgroup": "Santé",
           "orientation": "v",
           "showlegend": true,
           "textposition": "auto",
           "type": "bar",
           "x": [
            "Santé",
            "Santé",
            "Santé",
            "Santé",
            "Santé",
            "Santé",
            "Santé",
            "Santé",
            "Santé",
            "Santé",
            "Santé",
            "Santé"
           ],
           "xaxis": "x",
           "y": [
            101,
            66,
            74,
            60,
            52,
            22,
            23,
            39,
            68,
            48,
            66,
            59
           ],
           "yaxis": "y"
          },
          {
           "alignmentgroup": "True",
           "hovertemplate": "Thematiques=%{x}<br>Annee=2016<br>Totaux=%{y}<extra></extra>",
           "legendgroup": "Sciences et techniques",
           "marker": {
            "color": "#EF553B",
            "pattern": {
             "shape": ""
            }
           },
           "name": "Sciences et techniques",
           "offsetgroup": "Sciences et techniques",
           "orientation": "v",
           "showlegend": true,
           "textposition": "auto",
           "type": "bar",
           "x": [
            "Sciences et techniques",
            "Sciences et techniques",
            "Sciences et techniques",
            "Sciences et techniques",
            "Sciences et techniques",
            "Sciences et techniques",
            "Sciences et techniques",
            "Sciences et techniques",
            "Sciences et techniques",
            "Sciences et techniques",
            "Sciences et techniques",
            "Sciences et techniques"
           ],
           "xaxis": "x",
           "y": [
            42,
            32,
            70,
            68,
            57,
            26,
            37,
            42,
            52,
            46,
            87,
            34
           ],
           "yaxis": "y"
          },
          {
           "alignmentgroup": "True",
           "hovertemplate": "Thematiques=%{x}<br>Annee=2016<br>Totaux=%{y}<extra></extra>",
           "legendgroup": "Société",
           "marker": {
            "color": "#00cc96",
            "pattern": {
             "shape": ""
            }
           },
           "name": "Société",
           "offsetgroup": "Société",
           "orientation": "v",
           "showlegend": true,
           "textposition": "auto",
           "type": "bar",
           "x": [
            "Société",
            "Société",
            "Société",
            "Société",
            "Société",
            "Société",
            "Société",
            "Société",
            "Société",
            "Société",
            "Société",
            "Société"
           ],
           "xaxis": "x",
           "y": [
            402,
            368,
            531,
            533,
            694,
            323,
            208,
            320,
            289,
            259,
            279,
            322
           ],
           "yaxis": "y"
          },
          {
           "alignmentgroup": "True",
           "hovertemplate": "Thematiques=%{x}<br>Annee=2016<br>Totaux=%{y}<extra></extra>",
           "legendgroup": "Sport",
           "marker": {
            "color": "#ab63fa",
            "pattern": {
             "shape": ""
            }
           },
           "name": "Sport",
           "offsetgroup": "Sport",
           "orientation": "v",
           "showlegend": true,
           "textposition": "auto",
           "type": "bar",
           "x": [
            "Sport",
            "Sport",
            "Sport",
            "Sport",
            "Sport",
            "Sport",
            "Sport",
            "Sport",
            "Sport",
            "Sport",
            "Sport",
            "Sport"
           ],
           "xaxis": "x",
           "y": [
            86,
            115,
            139,
            147,
            241,
            530,
            475,
            443,
            109,
            59,
            93,
            82
           ],
           "yaxis": "y"
          }
         ],
         "name": "2016"
        },
        {
         "data": [
          {
           "alignmentgroup": "True",
           "hovertemplate": "Thematiques=%{x}<br>Annee=2017<br>Totaux=%{y}<extra></extra>",
           "legendgroup": "Catastrophes",
           "marker": {
            "color": "#636efa",
            "pattern": {
             "shape": ""
            }
           },
           "name": "Catastrophes",
           "offsetgroup": "Catastrophes",
           "orientation": "v",
           "showlegend": true,
           "textposition": "auto",
           "type": "bar",
           "x": [
            "Catastrophes",
            "Catastrophes",
            "Catastrophes",
            "Catastrophes",
            "Catastrophes",
            "Catastrophes",
            "Catastrophes",
            "Catastrophes",
            "Catastrophes",
            "Catastrophes",
            "Catastrophes",
            "Catastrophes"
           ],
           "xaxis": "x",
           "y": [
            207,
            86,
            46,
            33,
            40,
            109,
            219,
            241,
            430,
            134,
            79,
            219
           ],
           "yaxis": "y"
          },
          {
           "alignmentgroup": "True",
           "hovertemplate": "Thematiques=%{x}<br>Annee=2017<br>Totaux=%{y}<extra></extra>",
           "legendgroup": "Culture-loisirs",
           "marker": {
            "color": "#EF553B",
            "pattern": {
             "shape": ""
            }
           },
           "name": "Culture-loisirs",
           "offsetgroup": "Culture-loisirs",
           "orientation": "v",
           "showlegend": true,
           "textposition": "auto",
           "type": "bar",
           "x": [
            "Culture-loisirs",
            "Culture-loisirs",
            "Culture-loisirs",
            "Culture-loisirs",
            "Culture-loisirs",
            "Culture-loisirs",
            "Culture-loisirs",
            "Culture-loisirs",
            "Culture-loisirs",
            "Culture-loisirs",
            "Culture-loisirs",
            "Culture-loisirs"
           ],
           "xaxis": "x",
           "y": [
            197,
            192,
            126,
            106,
            165,
            125,
            149,
            201,
            140,
            194,
            140,
            131
           ],
           "yaxis": "y"
          },
          {
           "alignmentgroup": "True",
           "hovertemplate": "Thematiques=%{x}<br>Annee=2017<br>Totaux=%{y}<extra></extra>",
           "legendgroup": "Economie",
           "marker": {
            "color": "#00cc96",
            "pattern": {
             "shape": ""
            }
           },
           "name": "Economie",
           "offsetgroup": "Economie",
           "orientation": "v",
           "showlegend": true,
           "textposition": "auto",
           "type": "bar",
           "x": [
            "Economie",
            "Economie",
            "Economie",
            "Economie",
            "Economie",
            "Economie",
            "Economie",
            "Economie",
            "Economie",
            "Economie",
            "Economie",
            "Economie"
           ],
           "xaxis": "x",
           "y": [
            212,
            222,
            144,
            118,
            168,
            149,
            238,
            262,
            233,
            275,
            234,
            205
           ],
           "yaxis": "y"
          },
          {
           "alignmentgroup": "True",
           "hovertemplate": "Thematiques=%{x}<br>Annee=2017<br>Totaux=%{y}<extra></extra>",
           "legendgroup": "Education",
           "marker": {
            "color": "#ab63fa",
            "pattern": {
             "shape": ""
            }
           },
           "name": "Education",
           "offsetgroup": "Education",
           "orientation": "v",
           "showlegend": true,
           "textposition": "auto",
           "type": "bar",
           "x": [
            "Education",
            "Education",
            "Education",
            "Education",
            "Education",
            "Education",
            "Education",
            "Education",
            "Education",
            "Education",
            "Education",
            "Education"
           ],
           "xaxis": "x",
           "y": [
            31,
            26,
            27,
            11,
            32,
            58,
            44,
            60,
            60,
            53,
            50,
            29
           ],
           "yaxis": "y"
          },
          {
           "alignmentgroup": "True",
           "hovertemplate": "Thematiques=%{x}<br>Annee=2017<br>Totaux=%{y}<extra></extra>",
           "legendgroup": "Environnement",
           "marker": {
            "color": "#FFA15A",
            "pattern": {
             "shape": ""
            }
           },
           "name": "Environnement",
           "offsetgroup": "Environnement",
           "orientation": "v",
           "showlegend": true,
           "textposition": "auto",
           "type": "bar",
           "x": [
            "Environnement",
            "Environnement",
            "Environnement",
            "Environnement",
            "Environnement",
            "Environnement",
            "Environnement",
            "Environnement",
            "Environnement",
            "Environnement",
            "Environnement",
            "Environnement"
           ],
           "xaxis": "x",
           "y": [
            136,
            32,
            61,
            46,
            81,
            97,
            102,
            108,
            79,
            85,
            104,
            73
           ],
           "yaxis": "y"
          },
          {
           "alignmentgroup": "True",
           "hovertemplate": "Thematiques=%{x}<br>Annee=2017<br>Totaux=%{y}<extra></extra>",
           "legendgroup": "Faits divers",
           "marker": {
            "color": "#19d3f3",
            "pattern": {
             "shape": ""
            }
           },
           "name": "Faits divers",
           "offsetgroup": "Faits divers",
           "orientation": "v",
           "showlegend": true,
           "textposition": "auto",
           "type": "bar",
           "x": [
            "Faits divers",
            "Faits divers",
            "Faits divers",
            "Faits divers",
            "Faits divers",
            "Faits divers",
            "Faits divers",
            "Faits divers",
            "Faits divers",
            "Faits divers",
            "Faits divers",
            "Faits divers"
           ],
           "xaxis": "x",
           "y": [
            74,
            149,
            105,
            33,
            53,
            20,
            14,
            90,
            65,
            174,
            113,
            83
           ],
           "yaxis": "y"
          },
          {
           "alignmentgroup": "True",
           "hovertemplate": "Thematiques=%{x}<br>Annee=2017<br>Totaux=%{y}<extra></extra>",
           "legendgroup": "Histoire-hommages",
           "marker": {
            "color": "#FF6692",
            "pattern": {
             "shape": ""
            }
           },
           "name": "Histoire-hommages",
           "offsetgroup": "Histoire-hommages",
           "orientation": "v",
           "showlegend": true,
           "textposition": "auto",
           "type": "bar",
           "x": [
            "Histoire-hommages",
            "Histoire-hommages",
            "Histoire-hommages",
            "Histoire-hommages",
            "Histoire-hommages",
            "Histoire-hommages",
            "Histoire-hommages",
            "Histoire-hommages",
            "Histoire-hommages",
            "Histoire-hommages",
            "Histoire-hommages",
            "Histoire-hommages"
           ],
           "xaxis": "x",
           "y": [
            50,
            14,
            39,
            20,
            40,
            77,
            72,
            71,
            30,
            46,
            38,
            224
           ],
           "yaxis": "y"
          },
          {
           "alignmentgroup": "True",
           "hovertemplate": "Thematiques=%{x}<br>Annee=2017<br>Totaux=%{y}<extra></extra>",
           "legendgroup": "International",
           "marker": {
            "color": "#B6E880",
            "pattern": {
             "shape": ""
            }
           },
           "name": "International",
           "offsetgroup": "International",
           "orientation": "v",
           "showlegend": true,
           "textposition": "auto",
           "type": "bar",
           "x": [
            "International",
            "International",
            "International",
            "International",
            "International",
            "International",
            "International",
            "International",
            "International",
            "International",
            "International",
            "International"
           ],
           "xaxis": "x",
           "y": [
            451,
            299,
            357,
            386,
            442,
            349,
            288,
            504,
            372,
            549,
            315,
            359
           ],
           "yaxis": "y"
          },
          {
           "alignmentgroup": "True",
           "hovertemplate": "Thematiques=%{x}<br>Annee=2017<br>Totaux=%{y}<extra></extra>",
           "legendgroup": "Justice",
           "marker": {
            "color": "#FF97FF",
            "pattern": {
             "shape": ""
            }
           },
           "name": "Justice",
           "offsetgroup": "Justice",
           "orientation": "v",
           "showlegend": true,
           "textposition": "auto",
           "type": "bar",
           "x": [
            "Justice",
            "Justice",
            "Justice",
            "Justice",
            "Justice",
            "Justice",
            "Justice",
            "Justice",
            "Justice",
            "Justice",
            "Justice",
            "Justice"
           ],
           "xaxis": "x",
           "y": [
            84,
            96,
            81,
            45,
            95,
            117,
            71,
            53,
            44,
            132,
            117,
            44
           ],
           "yaxis": "y"
          },
          {
           "alignmentgroup": "True",
           "hovertemplate": "Thematiques=%{x}<br>Annee=2017<br>Totaux=%{y}<extra></extra>",
           "legendgroup": "Politique France",
           "marker": {
            "color": "#FECB52",
            "pattern": {
             "shape": ""
            }
           },
           "name": "Politique France",
           "offsetgroup": "Politique France",
           "orientation": "v",
           "showlegend": true,
           "textposition": "auto",
           "type": "bar",
           "x": [
            "Politique France",
            "Politique France",
            "Politique France",
            "Politique France",
            "Politique France",
            "Politique France",
            "Politique France",
            "Politique France",
            "Politique France",
            "Politique France",
            "Politique France",
            "Politique France"
           ],
           "xaxis": "x",
           "y": [
            585,
            471,
            509,
            699,
            960,
            544,
            311,
            254,
            156,
            283,
            192,
            193
           ],
           "yaxis": "y"
          },
          {
           "alignmentgroup": "True",
           "hovertemplate": "Thematiques=%{x}<br>Annee=2017<br>Totaux=%{y}<extra></extra>",
           "legendgroup": "Santé",
           "marker": {
            "color": "#636efa",
            "pattern": {
             "shape": ""
            }
           },
           "name": "Santé",
           "offsetgroup": "Santé",
           "orientation": "v",
           "showlegend": true,
           "textposition": "auto",
           "type": "bar",
           "x": [
            "Santé",
            "Santé",
            "Santé",
            "Santé",
            "Santé",
            "Santé",
            "Santé",
            "Santé",
            "Santé",
            "Santé",
            "Santé",
            "Santé"
           ],
           "xaxis": "x",
           "y": [
            89,
            40,
            46,
            28,
            47,
            45,
            40,
            111,
            54,
            99,
            102,
            73
           ],
           "yaxis": "y"
          },
          {
           "alignmentgroup": "True",
           "hovertemplate": "Thematiques=%{x}<br>Annee=2017<br>Totaux=%{y}<extra></extra>",
           "legendgroup": "Sciences et techniques",
           "marker": {
            "color": "#EF553B",
            "pattern": {
             "shape": ""
            }
           },
           "name": "Sciences et techniques",
           "offsetgroup": "Sciences et techniques",
           "orientation": "v",
           "showlegend": true,
           "textposition": "auto",
           "type": "bar",
           "x": [
            "Sciences et techniques",
            "Sciences et techniques",
            "Sciences et techniques",
            "Sciences et techniques",
            "Sciences et techniques",
            "Sciences et techniques",
            "Sciences et techniques",
            "Sciences et techniques",
            "Sciences et techniques",
            "Sciences et techniques",
            "Sciences et techniques",
            "Sciences et techniques"
           ],
           "xaxis": "x",
           "y": [
            59,
            40,
            47,
            53,
            71,
            54,
            35,
            57,
            37,
            67,
            44,
            43
           ],
           "yaxis": "y"
          },
          {
           "alignmentgroup": "True",
           "hovertemplate": "Thematiques=%{x}<br>Annee=2017<br>Totaux=%{y}<extra></extra>",
           "legendgroup": "Société",
           "marker": {
            "color": "#00cc96",
            "pattern": {
             "shape": ""
            }
           },
           "name": "Société",
           "offsetgroup": "Société",
           "orientation": "v",
           "showlegend": true,
           "textposition": "auto",
           "type": "bar",
           "x": [
            "Société",
            "Société",
            "Société",
            "Société",
            "Société",
            "Société",
            "Société",
            "Société",
            "Société",
            "Société",
            "Société",
            "Société"
           ],
           "xaxis": "x",
           "y": [
            332,
            233,
            311,
            230,
            244,
            171,
            284,
            377,
            361,
            441,
            387,
            352
           ],
           "yaxis": "y"
          },
          {
           "alignmentgroup": "True",
           "hovertemplate": "Thematiques=%{x}<br>Annee=2017<br>Totaux=%{y}<extra></extra>",
           "legendgroup": "Sport",
           "marker": {
            "color": "#ab63fa",
            "pattern": {
             "shape": ""
            }
           },
           "name": "Sport",
           "offsetgroup": "Sport",
           "orientation": "v",
           "showlegend": true,
           "textposition": "auto",
           "type": "bar",
           "x": [
            "Sport",
            "Sport",
            "Sport",
            "Sport",
            "Sport",
            "Sport",
            "Sport",
            "Sport",
            "Sport",
            "Sport",
            "Sport",
            "Sport"
           ],
           "xaxis": "x",
           "y": [
            137,
            76,
            61,
            55,
            113,
            86,
            158,
            172,
            119,
            81,
            111,
            84
           ],
           "yaxis": "y"
          }
         ],
         "name": "2017"
        },
        {
         "data": [
          {
           "alignmentgroup": "True",
           "hovertemplate": "Thematiques=%{x}<br>Annee=2018<br>Totaux=%{y}<extra></extra>",
           "legendgroup": "Catastrophes",
           "marker": {
            "color": "#636efa",
            "pattern": {
             "shape": ""
            }
           },
           "name": "Catastrophes",
           "offsetgroup": "Catastrophes",
           "orientation": "v",
           "showlegend": true,
           "textposition": "auto",
           "type": "bar",
           "x": [
            "Catastrophes",
            "Catastrophes",
            "Catastrophes",
            "Catastrophes",
            "Catastrophes",
            "Catastrophes",
            "Catastrophes",
            "Catastrophes",
            "Catastrophes",
            "Catastrophes",
            "Catastrophes",
            "Catastrophes"
           ],
           "xaxis": "x",
           "y": [
            394,
            274,
            71,
            57,
            125,
            161,
            209,
            287,
            136,
            362,
            93,
            64
           ],
           "yaxis": "y"
          },
          {
           "alignmentgroup": "True",
           "hovertemplate": "Thematiques=%{x}<br>Annee=2018<br>Totaux=%{y}<extra></extra>",
           "legendgroup": "Culture-loisirs",
           "marker": {
            "color": "#EF553B",
            "pattern": {
             "shape": ""
            }
           },
           "name": "Culture-loisirs",
           "offsetgroup": "Culture-loisirs",
           "orientation": "v",
           "showlegend": true,
           "textposition": "auto",
           "type": "bar",
           "x": [
            "Culture-loisirs",
            "Culture-loisirs",
            "Culture-loisirs",
            "Culture-loisirs",
            "Culture-loisirs",
            "Culture-loisirs",
            "Culture-loisirs",
            "Culture-loisirs",
            "Culture-loisirs",
            "Culture-loisirs",
            "Culture-loisirs",
            "Culture-loisirs"
           ],
           "xaxis": "x",
           "y": [
            194,
            141,
            155,
            120,
            195,
            125,
            155,
            162,
            150,
            168,
            125,
            102
           ],
           "yaxis": "y"
          },
          {
           "alignmentgroup": "True",
           "hovertemplate": "Thematiques=%{x}<br>Annee=2018<br>Totaux=%{y}<extra></extra>",
           "legendgroup": "Economie",
           "marker": {
            "color": "#00cc96",
            "pattern": {
             "shape": ""
            }
           },
           "name": "Economie",
           "offsetgroup": "Economie",
           "orientation": "v",
           "showlegend": true,
           "textposition": "auto",
           "type": "bar",
           "x": [
            "Economie",
            "Economie",
            "Economie",
            "Economie",
            "Economie",
            "Economie",
            "Economie",
            "Economie",
            "Economie",
            "Economie",
            "Economie",
            "Economie"
           ],
           "xaxis": "x",
           "y": [
            225,
            221,
            151,
            148,
            215,
            182,
            207,
            254,
            246,
            239,
            287,
            405
           ],
           "yaxis": "y"
          },
          {
           "alignmentgroup": "True",
           "hovertemplate": "Thematiques=%{x}<br>Annee=2018<br>Totaux=%{y}<extra></extra>",
           "legendgroup": "Education",
           "marker": {
            "color": "#ab63fa",
            "pattern": {
             "shape": ""
            }
           },
           "name": "Education",
           "offsetgroup": "Education",
           "orientation": "v",
           "showlegend": true,
           "textposition": "auto",
           "type": "bar",
           "x": [
            "Education",
            "Education",
            "Education",
            "Education",
            "Education",
            "Education",
            "Education",
            "Education",
            "Education",
            "Education",
            "Education",
            "Education"
           ],
           "xaxis": "x",
           "y": [
            48,
            36,
            47,
            79,
            69,
            51,
            23,
            32,
            66,
            40,
            26,
            48
           ],
           "yaxis": "y"
          },
          {
           "alignmentgroup": "True",
           "hovertemplate": "Thematiques=%{x}<br>Annee=2018<br>Totaux=%{y}<extra></extra>",
           "legendgroup": "Environnement",
           "marker": {
            "color": "#FFA15A",
            "pattern": {
             "shape": ""
            }
           },
           "name": "Environnement",
           "offsetgroup": "Environnement",
           "orientation": "v",
           "showlegend": true,
           "textposition": "auto",
           "type": "bar",
           "x": [
            "Environnement",
            "Environnement",
            "Environnement",
            "Environnement",
            "Environnement",
            "Environnement",
            "Environnement",
            "Environnement",
            "Environnement",
            "Environnement",
            "Environnement",
            "Environnement"
           ],
           "xaxis": "x",
           "y": [
            150,
            137,
            84,
            70,
            95,
            96,
            161,
            137,
            109,
            141,
            58,
            79
           ],
           "yaxis": "y"
          },
          {
           "alignmentgroup": "True",
           "hovertemplate": "Thematiques=%{x}<br>Annee=2018<br>Totaux=%{y}<extra></extra>",
           "legendgroup": "Faits divers",
           "marker": {
            "color": "#19d3f3",
            "pattern": {
             "shape": ""
            }
           },
           "name": "Faits divers",
           "offsetgroup": "Faits divers",
           "orientation": "v",
           "showlegend": true,
           "textposition": "auto",
           "type": "bar",
           "x": [
            "Faits divers",
            "Faits divers",
            "Faits divers",
            "Faits divers",
            "Faits divers",
            "Faits divers",
            "Faits divers",
            "Faits divers",
            "Faits divers",
            "Faits divers",
            "Faits divers",
            "Faits divers"
           ],
           "xaxis": "x",
           "y": [
            101,
            131,
            99,
            90,
            142,
            101,
            144,
            115,
            89,
            117,
            88,
            31
           ],
           "yaxis": "y"
          },
          {
           "alignmentgroup": "True",
           "hovertemplate": "Thematiques=%{x}<br>Annee=2018<br>Totaux=%{y}<extra></extra>",
           "legendgroup": "Histoire-hommages",
           "marker": {
            "color": "#FF6692",
            "pattern": {
             "shape": ""
            }
           },
           "name": "Histoire-hommages",
           "offsetgroup": "Histoire-hommages",
           "orientation": "v",
           "showlegend": true,
           "textposition": "auto",
           "type": "bar",
           "x": [
            "Histoire-hommages",
            "Histoire-hommages",
            "Histoire-hommages",
            "Histoire-hommages",
            "Histoire-hommages",
            "Histoire-hommages",
            "Histoire-hommages",
            "Histoire-hommages",
            "Histoire-hommages",
            "Histoire-hommages",
            "Histoire-hommages",
            "Histoire-hommages"
           ],
           "xaxis": "x",
           "y": [
            81,
            20,
            35,
            54,
            67,
            30,
            26,
            76,
            48,
            115,
            131,
            27
           ],
           "yaxis": "y"
          },
          {
           "alignmentgroup": "True",
           "hovertemplate": "Thematiques=%{x}<br>Annee=2018<br>Totaux=%{y}<extra></extra>",
           "legendgroup": "International",
           "marker": {
            "color": "#B6E880",
            "pattern": {
             "shape": ""
            }
           },
           "name": "International",
           "offsetgroup": "International",
           "orientation": "v",
           "showlegend": true,
           "textposition": "auto",
           "type": "bar",
           "x": [
            "International",
            "International",
            "International",
            "International",
            "International",
            "International",
            "International",
            "International",
            "International",
            "International",
            "International",
            "International"
           ],
           "xaxis": "x",
           "y": [
            350,
            299,
            429,
            347,
            452,
            418,
            257,
            226,
            283,
            370,
            214,
            200
           ],
           "yaxis": "y"
          },
          {
           "alignmentgroup": "True",
           "hovertemplate": "Thematiques=%{x}<br>Annee=2018<br>Totaux=%{y}<extra></extra>",
           "legendgroup": "Justice",
           "marker": {
            "color": "#FF97FF",
            "pattern": {
             "shape": ""
            }
           },
           "name": "Justice",
           "offsetgroup": "Justice",
           "orientation": "v",
           "showlegend": true,
           "textposition": "auto",
           "type": "bar",
           "x": [
            "Justice",
            "Justice",
            "Justice",
            "Justice",
            "Justice",
            "Justice",
            "Justice",
            "Justice",
            "Justice",
            "Justice",
            "Justice",
            "Justice"
           ],
           "xaxis": "x",
           "y": [
            111,
            154,
            148,
            82,
            80,
            74,
            244,
            51,
            102,
            102,
            89,
            59
           ],
           "yaxis": "y"
          },
          {
           "alignmentgroup": "True",
           "hovertemplate": "Thematiques=%{x}<br>Annee=2018<br>Totaux=%{y}<extra></extra>",
           "legendgroup": "Politique France",
           "marker": {
            "color": "#FECB52",
            "pattern": {
             "shape": ""
            }
           },
           "name": "Politique France",
           "offsetgroup": "Politique France",
           "orientation": "v",
           "showlegend": true,
           "textposition": "auto",
           "type": "bar",
           "x": [
            "Politique France",
            "Politique France",
            "Politique France",
            "Politique France",
            "Politique France",
            "Politique France",
            "Politique France",
            "Politique France",
            "Politique France",
            "Politique France",
            "Politique France",
            "Politique France"
           ],
           "xaxis": "x",
           "y": [
            297,
            230,
            290,
            225,
            215,
            128,
            107,
            128,
            147,
            151,
            143,
            394
           ],
           "yaxis": "y"
          },
          {
           "alignmentgroup": "True",
           "hovertemplate": "Thematiques=%{x}<br>Annee=2018<br>Totaux=%{y}<extra></extra>",
           "legendgroup": "Santé",
           "marker": {
            "color": "#636efa",
            "pattern": {
             "shape": ""
            }
           },
           "name": "Santé",
           "offsetgroup": "Santé",
           "orientation": "v",
           "showlegend": true,
           "textposition": "auto",
           "type": "bar",
           "x": [
            "Santé",
            "Santé",
            "Santé",
            "Santé",
            "Santé",
            "Santé",
            "Santé",
            "Santé",
            "Santé",
            "Santé",
            "Santé",
            "Santé"
           ],
           "xaxis": "x",
           "y": [
            131,
            53,
            60,
            59,
            85,
            52,
            54,
            60,
            73,
            101,
            40,
            28
           ],
           "yaxis": "y"
          },
          {
           "alignmentgroup": "True",
           "hovertemplate": "Thematiques=%{x}<br>Annee=2018<br>Totaux=%{y}<extra></extra>",
           "legendgroup": "Sciences et techniques",
           "marker": {
            "color": "#EF553B",
            "pattern": {
             "shape": ""
            }
           },
           "name": "Sciences et techniques",
           "offsetgroup": "Sciences et techniques",
           "orientation": "v",
           "showlegend": true,
           "textposition": "auto",
           "type": "bar",
           "x": [
            "Sciences et techniques",
            "Sciences et techniques",
            "Sciences et techniques",
            "Sciences et techniques",
            "Sciences et techniques",
            "Sciences et techniques",
            "Sciences et techniques",
            "Sciences et techniques",
            "Sciences et techniques",
            "Sciences et techniques",
            "Sciences et techniques",
            "Sciences et techniques"
           ],
           "xaxis": "x",
           "y": [
            59,
            46,
            60,
            53,
            47,
            39,
            45,
            55,
            32,
            41,
            34,
            19
           ],
           "yaxis": "y"
          },
          {
           "alignmentgroup": "True",
           "hovertemplate": "Thematiques=%{x}<br>Annee=2018<br>Totaux=%{y}<extra></extra>",
           "legendgroup": "Société",
           "marker": {
            "color": "#00cc96",
            "pattern": {
             "shape": ""
            }
           },
           "name": "Société",
           "offsetgroup": "Société",
           "orientation": "v",
           "showlegend": true,
           "textposition": "auto",
           "type": "bar",
           "x": [
            "Société",
            "Société",
            "Société",
            "Société",
            "Société",
            "Société",
            "Société",
            "Société",
            "Société",
            "Société",
            "Société",
            "Société"
           ],
           "xaxis": "x",
           "y": [
            389,
            279,
            438,
            666,
            660,
            336,
            353,
            334,
            353,
            381,
            521,
            516
           ],
           "yaxis": "y"
          },
          {
           "alignmentgroup": "True",
           "hovertemplate": "Thematiques=%{x}<br>Annee=2018<br>Totaux=%{y}<extra></extra>",
           "legendgroup": "Sport",
           "marker": {
            "color": "#ab63fa",
            "pattern": {
             "shape": ""
            }
           },
           "name": "Sport",
           "offsetgroup": "Sport",
           "orientation": "v",
           "showlegend": true,
           "textposition": "auto",
           "type": "bar",
           "x": [
            "Sport",
            "Sport",
            "Sport",
            "Sport",
            "Sport",
            "Sport",
            "Sport",
            "Sport",
            "Sport",
            "Sport",
            "Sport",
            "Sport"
           ],
           "xaxis": "x",
           "y": [
            96,
            171,
            88,
            66,
            158,
            294,
            538,
            75,
            73,
            53,
            67,
            24
           ],
           "yaxis": "y"
          }
         ],
         "name": "2018"
        },
        {
         "data": [
          {
           "alignmentgroup": "True",
           "hovertemplate": "Thematiques=%{x}<br>Annee=2019<br>Totaux=%{y}<extra></extra>",
           "legendgroup": "Catastrophes",
           "marker": {
            "color": "#636efa",
            "pattern": {
             "shape": ""
            }
           },
           "name": "Catastrophes",
           "offsetgroup": "Catastrophes",
           "orientation": "v",
           "showlegend": true,
           "textposition": "auto",
           "type": "bar",
           "x": [
            "Catastrophes",
            "Catastrophes",
            "Catastrophes",
            "Catastrophes",
            "Catastrophes",
            "Catastrophes",
            "Catastrophes",
            "Catastrophes",
            "Catastrophes",
            "Catastrophes",
            "Catastrophes",
            "Catastrophes"
           ],
           "xaxis": "x",
           "y": [
            153,
            92,
            98,
            45,
            41,
            176,
            228,
            226,
            168,
            301,
            248,
            199
           ],
           "yaxis": "y"
          },
          {
           "alignmentgroup": "True",
           "hovertemplate": "Thematiques=%{x}<br>Annee=2019<br>Totaux=%{y}<extra></extra>",
           "legendgroup": "Culture-loisirs",
           "marker": {
            "color": "#EF553B",
            "pattern": {
             "shape": ""
            }
           },
           "name": "Culture-loisirs",
           "offsetgroup": "Culture-loisirs",
           "orientation": "v",
           "showlegend": true,
           "textposition": "auto",
           "type": "bar",
           "x": [
            "Culture-loisirs",
            "Culture-loisirs",
            "Culture-loisirs",
            "Culture-loisirs",
            "Culture-loisirs",
            "Culture-loisirs",
            "Culture-loisirs",
            "Culture-loisirs",
            "Culture-loisirs",
            "Culture-loisirs",
            "Culture-loisirs",
            "Culture-loisirs"
           ],
           "xaxis": "x",
           "y": [
            168,
            142,
            137,
            222,
            155,
            124,
            162,
            123,
            124,
            164,
            110,
            109
           ],
           "yaxis": "y"
          },
          {
           "alignmentgroup": "True",
           "hovertemplate": "Thematiques=%{x}<br>Annee=2019<br>Totaux=%{y}<extra></extra>",
           "legendgroup": "Economie",
           "marker": {
            "color": "#00cc96",
            "pattern": {
             "shape": ""
            }
           },
           "name": "Economie",
           "offsetgroup": "Economie",
           "orientation": "v",
           "showlegend": true,
           "textposition": "auto",
           "type": "bar",
           "x": [
            "Economie",
            "Economie",
            "Economie",
            "Economie",
            "Economie",
            "Economie",
            "Economie",
            "Economie",
            "Economie",
            "Economie",
            "Economie",
            "Economie"
           ],
           "xaxis": "x",
           "y": [
            292,
            273,
            174,
            263,
            250,
            197,
            269,
            196,
            213,
            230,
            191,
            163
           ],
           "yaxis": "y"
          },
          {
           "alignmentgroup": "True",
           "hovertemplate": "Thematiques=%{x}<br>Annee=2019<br>Totaux=%{y}<extra></extra>",
           "legendgroup": "Education",
           "marker": {
            "color": "#ab63fa",
            "pattern": {
             "shape": ""
            }
           },
           "name": "Education",
           "offsetgroup": "Education",
           "orientation": "v",
           "showlegend": true,
           "textposition": "auto",
           "type": "bar",
           "x": [
            "Education",
            "Education",
            "Education",
            "Education",
            "Education",
            "Education",
            "Education",
            "Education",
            "Education",
            "Education",
            "Education",
            "Education"
           ],
           "xaxis": "x",
           "y": [
            28,
            23,
            24,
            50,
            26,
            50,
            63,
            36,
            42,
            20,
            24,
            23
           ],
           "yaxis": "y"
          },
          {
           "alignmentgroup": "True",
           "hovertemplate": "Thematiques=%{x}<br>Annee=2019<br>Totaux=%{y}<extra></extra>",
           "legendgroup": "Environnement",
           "marker": {
            "color": "#FFA15A",
            "pattern": {
             "shape": ""
            }
           },
           "name": "Environnement",
           "offsetgroup": "Environnement",
           "orientation": "v",
           "showlegend": true,
           "textposition": "auto",
           "type": "bar",
           "x": [
            "Environnement",
            "Environnement",
            "Environnement",
            "Environnement",
            "Environnement",
            "Environnement",
            "Environnement",
            "Environnement",
            "Environnement",
            "Environnement",
            "Environnement",
            "Environnement"
           ],
           "xaxis": "x",
           "y": [
            91,
            100,
            120,
            97,
            91,
            186,
            272,
            157,
            150,
            109,
            96,
            101
           ],
           "yaxis": "y"
          },
          {
           "alignmentgroup": "True",
           "hovertemplate": "Thematiques=%{x}<br>Annee=2019<br>Totaux=%{y}<extra></extra>",
           "legendgroup": "Faits divers",
           "marker": {
            "color": "#19d3f3",
            "pattern": {
             "shape": ""
            }
           },
           "name": "Faits divers",
           "offsetgroup": "Faits divers",
           "orientation": "v",
           "showlegend": true,
           "textposition": "auto",
           "type": "bar",
           "x": [
            "Faits divers",
            "Faits divers",
            "Faits divers",
            "Faits divers",
            "Faits divers",
            "Faits divers",
            "Faits divers",
            "Faits divers",
            "Faits divers",
            "Faits divers",
            "Faits divers",
            "Faits divers"
           ],
           "xaxis": "x",
           "y": [
            139,
            111,
            79,
            343,
            87,
            113,
            98,
            144,
            89,
            122,
            89,
            52
           ],
           "yaxis": "y"
          },
          {
           "alignmentgroup": "True",
           "hovertemplate": "Thematiques=%{x}<br>Annee=2019<br>Totaux=%{y}<extra></extra>",
           "legendgroup": "Histoire-hommages",
           "marker": {
            "color": "#FF6692",
            "pattern": {
             "shape": ""
            }
           },
           "name": "Histoire-hommages",
           "offsetgroup": "Histoire-hommages",
           "orientation": "v",
           "showlegend": true,
           "textposition": "auto",
           "type": "bar",
           "x": [
            "Histoire-hommages",
            "Histoire-hommages",
            "Histoire-hommages",
            "Histoire-hommages",
            "Histoire-hommages",
            "Histoire-hommages",
            "Histoire-hommages",
            "Histoire-hommages",
            "Histoire-hommages",
            "Histoire-hommages",
            "Histoire-hommages",
            "Histoire-hommages"
           ],
           "xaxis": "x",
           "y": [
            63,
            32,
            20,
            64,
            37,
            102,
            24,
            60,
            135,
            97,
            58,
            32
           ],
           "yaxis": "y"
          },
          {
           "alignmentgroup": "True",
           "hovertemplate": "Thematiques=%{x}<br>Annee=2019<br>Totaux=%{y}<extra></extra>",
           "legendgroup": "International",
           "marker": {
            "color": "#B6E880",
            "pattern": {
             "shape": ""
            }
           },
           "name": "International",
           "offsetgroup": "International",
           "orientation": "v",
           "showlegend": true,
           "textposition": "auto",
           "type": "bar",
           "x": [
            "International",
            "International",
            "International",
            "International",
            "International",
            "International",
            "International",
            "International",
            "International",
            "International",
            "International",
            "International"
           ],
           "xaxis": "x",
           "y": [
            296,
            282,
            354,
            408,
            491,
            227,
            300,
            373,
            237,
            469,
            268,
            224
           ],
           "yaxis": "y"
          },
          {
           "alignmentgroup": "True",
           "hovertemplate": "Thematiques=%{x}<br>Annee=2019<br>Totaux=%{y}<extra></extra>",
           "legendgroup": "Justice",
           "marker": {
            "color": "#FF97FF",
            "pattern": {
             "shape": ""
            }
           },
           "name": "Justice",
           "offsetgroup": "Justice",
           "orientation": "v",
           "showlegend": true,
           "textposition": "auto",
           "type": "bar",
           "x": [
            "Justice",
            "Justice",
            "Justice",
            "Justice",
            "Justice",
            "Justice",
            "Justice",
            "Justice",
            "Justice",
            "Justice",
            "Justice",
            "Justice"
           ],
           "xaxis": "x",
           "y": [
            123,
            96,
            101,
            105,
            111,
            84,
            81,
            66,
            88,
            95,
            73,
            54
           ],
           "yaxis": "y"
          },
          {
           "alignmentgroup": "True",
           "hovertemplate": "Thematiques=%{x}<br>Annee=2019<br>Totaux=%{y}<extra></extra>",
           "legendgroup": "Politique France",
           "marker": {
            "color": "#FECB52",
            "pattern": {
             "shape": ""
            }
           },
           "name": "Politique France",
           "offsetgroup": "Politique France",
           "orientation": "v",
           "showlegend": true,
           "textposition": "auto",
           "type": "bar",
           "x": [
            "Politique France",
            "Politique France",
            "Politique France",
            "Politique France",
            "Politique France",
            "Politique France",
            "Politique France",
            "Politique France",
            "Politique France",
            "Politique France",
            "Politique France",
            "Politique France"
           ],
           "xaxis": "x",
           "y": [
            375,
            170,
            237,
            227,
            154,
            117,
            216,
            117,
            132,
            186,
            122,
            67
           ],
           "yaxis": "y"
          },
          {
           "alignmentgroup": "True",
           "hovertemplate": "Thematiques=%{x}<br>Annee=2019<br>Totaux=%{y}<extra></extra>",
           "legendgroup": "Santé",
           "marker": {
            "color": "#636efa",
            "pattern": {
             "shape": ""
            }
           },
           "name": "Santé",
           "offsetgroup": "Santé",
           "orientation": "v",
           "showlegend": true,
           "textposition": "auto",
           "type": "bar",
           "x": [
            "Santé",
            "Santé",
            "Santé",
            "Santé",
            "Santé",
            "Santé",
            "Santé",
            "Santé",
            "Santé",
            "Santé",
            "Santé",
            "Santé"
           ],
           "xaxis": "x",
           "y": [
            74,
            67,
            83,
            80,
            51,
            109,
            80,
            53,
            67,
            64,
            57,
            26
           ],
           "yaxis": "y"
          },
          {
           "alignmentgroup": "True",
           "hovertemplate": "Thematiques=%{x}<br>Annee=2019<br>Totaux=%{y}<extra></extra>",
           "legendgroup": "Sciences et techniques",
           "marker": {
            "color": "#EF553B",
            "pattern": {
             "shape": ""
            }
           },
           "name": "Sciences et techniques",
           "offsetgroup": "Sciences et techniques",
           "orientation": "v",
           "showlegend": true,
           "textposition": "auto",
           "type": "bar",
           "x": [
            "Sciences et techniques",
            "Sciences et techniques",
            "Sciences et techniques",
            "Sciences et techniques",
            "Sciences et techniques",
            "Sciences et techniques",
            "Sciences et techniques",
            "Sciences et techniques",
            "Sciences et techniques",
            "Sciences et techniques",
            "Sciences et techniques",
            "Sciences et techniques"
           ],
           "xaxis": "x",
           "y": [
            60,
            39,
            38,
            56,
            48,
            40,
            82,
            52,
            43,
            48,
            30,
            37
           ],
           "yaxis": "y"
          },
          {
           "alignmentgroup": "True",
           "hovertemplate": "Thematiques=%{x}<br>Annee=2019<br>Totaux=%{y}<extra></extra>",
           "legendgroup": "Société",
           "marker": {
            "color": "#00cc96",
            "pattern": {
             "shape": ""
            }
           },
           "name": "Société",
           "offsetgroup": "Société",
           "orientation": "v",
           "showlegend": true,
           "textposition": "auto",
           "type": "bar",
           "x": [
            "Société",
            "Société",
            "Société",
            "Société",
            "Société",
            "Société",
            "Société",
            "Société",
            "Société",
            "Société",
            "Société",
            "Société"
           ],
           "xaxis": "x",
           "y": [
            445,
            425,
            359,
            477,
            297,
            303,
            381,
            301,
            362,
            381,
            398,
            838
           ],
           "yaxis": "y"
          },
          {
           "alignmentgroup": "True",
           "hovertemplate": "Thematiques=%{x}<br>Annee=2019<br>Totaux=%{y}<extra></extra>",
           "legendgroup": "Sport",
           "marker": {
            "color": "#ab63fa",
            "pattern": {
             "shape": ""
            }
           },
           "name": "Sport",
           "offsetgroup": "Sport",
           "orientation": "v",
           "showlegend": true,
           "textposition": "auto",
           "type": "bar",
           "x": [
            "Sport",
            "Sport",
            "Sport",
            "Sport",
            "Sport",
            "Sport",
            "Sport",
            "Sport",
            "Sport",
            "Sport",
            "Sport",
            "Sport"
           ],
           "xaxis": "x",
           "y": [
            50,
            46,
            56,
            60,
            56,
            131,
            147,
            44,
            73,
            75,
            58,
            22
           ],
           "yaxis": "y"
          }
         ],
         "name": "2019"
        },
        {
         "data": [
          {
           "alignmentgroup": "True",
           "hovertemplate": "Thematiques=%{x}<br>Annee=2020<br>Totaux=%{y}<extra></extra>",
           "legendgroup": "Catastrophes",
           "marker": {
            "color": "#636efa",
            "pattern": {
             "shape": ""
            }
           },
           "name": "Catastrophes",
           "offsetgroup": "Catastrophes",
           "orientation": "v",
           "showlegend": true,
           "textposition": "auto",
           "type": "bar",
           "x": [
            "Catastrophes",
            "Catastrophes",
            "Catastrophes",
            "Catastrophes",
            "Catastrophes",
            "Catastrophes",
            "Catastrophes",
            "Catastrophes",
            "Catastrophes"
           ],
           "xaxis": "x",
           "y": [
            171,
            100,
            31,
            14,
            34,
            64,
            57,
            279,
            173
           ],
           "yaxis": "y"
          },
          {
           "alignmentgroup": "True",
           "hovertemplate": "Thematiques=%{x}<br>Annee=2020<br>Totaux=%{y}<extra></extra>",
           "legendgroup": "Culture-loisirs",
           "marker": {
            "color": "#EF553B",
            "pattern": {
             "shape": ""
            }
           },
           "name": "Culture-loisirs",
           "offsetgroup": "Culture-loisirs",
           "orientation": "v",
           "showlegend": true,
           "textposition": "auto",
           "type": "bar",
           "x": [
            "Culture-loisirs",
            "Culture-loisirs",
            "Culture-loisirs",
            "Culture-loisirs",
            "Culture-loisirs",
            "Culture-loisirs",
            "Culture-loisirs",
            "Culture-loisirs",
            "Culture-loisirs"
           ],
           "xaxis": "x",
           "y": [
            106,
            118,
            56,
            25,
            111,
            168,
            145,
            133,
            141
           ],
           "yaxis": "y"
          },
          {
           "alignmentgroup": "True",
           "hovertemplate": "Thematiques=%{x}<br>Annee=2020<br>Totaux=%{y}<extra></extra>",
           "legendgroup": "Economie",
           "marker": {
            "color": "#00cc96",
            "pattern": {
             "shape": ""
            }
           },
           "name": "Economie",
           "offsetgroup": "Economie",
           "orientation": "v",
           "showlegend": true,
           "textposition": "auto",
           "type": "bar",
           "x": [
            "Economie",
            "Economie",
            "Economie",
            "Economie",
            "Economie",
            "Economie",
            "Economie",
            "Economie",
            "Economie"
           ],
           "xaxis": "x",
           "y": [
            189,
            219,
            172,
            317,
            410,
            467,
            277,
            194,
            293
           ],
           "yaxis": "y"
          },
          {
           "alignmentgroup": "True",
           "hovertemplate": "Thematiques=%{x}<br>Annee=2020<br>Totaux=%{y}<extra></extra>",
           "legendgroup": "Education",
           "marker": {
            "color": "#ab63fa",
            "pattern": {
             "shape": ""
            }
           },
           "name": "Education",
           "offsetgroup": "Education",
           "orientation": "v",
           "showlegend": true,
           "textposition": "auto",
           "type": "bar",
           "x": [
            "Education",
            "Education",
            "Education",
            "Education",
            "Education",
            "Education",
            "Education",
            "Education",
            "Education"
           ],
           "xaxis": "x",
           "y": [
            20,
            12,
            11,
            95,
            106,
            66,
            15,
            45,
            104
           ],
           "yaxis": "y"
          },
          {
           "alignmentgroup": "True",
           "hovertemplate": "Thematiques=%{x}<br>Annee=2020<br>Totaux=%{y}<extra></extra>",
           "legendgroup": "Environnement",
           "marker": {
            "color": "#FFA15A",
            "pattern": {
             "shape": ""
            }
           },
           "name": "Environnement",
           "offsetgroup": "Environnement",
           "orientation": "v",
           "showlegend": true,
           "textposition": "auto",
           "type": "bar",
           "x": [
            "Environnement",
            "Environnement",
            "Environnement",
            "Environnement",
            "Environnement",
            "Environnement",
            "Environnement",
            "Environnement",
            "Environnement"
           ],
           "xaxis": "x",
           "y": [
            70,
            117,
            32,
            8,
            30,
            111,
            97,
            169,
            112
           ],
           "yaxis": "y"
          },
          {
           "alignmentgroup": "True",
           "hovertemplate": "Thematiques=%{x}<br>Annee=2020<br>Totaux=%{y}<extra></extra>",
           "legendgroup": "Faits divers",
           "marker": {
            "color": "#19d3f3",
            "pattern": {
             "shape": ""
            }
           },
           "name": "Faits divers",
           "offsetgroup": "Faits divers",
           "orientation": "v",
           "showlegend": true,
           "textposition": "auto",
           "type": "bar",
           "x": [
            "Faits divers",
            "Faits divers",
            "Faits divers",
            "Faits divers",
            "Faits divers",
            "Faits divers",
            "Faits divers",
            "Faits divers",
            "Faits divers"
           ],
           "xaxis": "x",
           "y": [
            78,
            53,
            14,
            11,
            12,
            92,
            132,
            50,
            87
           ],
           "yaxis": "y"
          },
          {
           "alignmentgroup": "True",
           "hovertemplate": "Thematiques=%{x}<br>Annee=2020<br>Totaux=%{y}<extra></extra>",
           "legendgroup": "Histoire-hommages",
           "marker": {
            "color": "#FF6692",
            "pattern": {
             "shape": ""
            }
           },
           "name": "Histoire-hommages",
           "offsetgroup": "Histoire-hommages",
           "orientation": "v",
           "showlegend": true,
           "textposition": "auto",
           "type": "bar",
           "x": [
            "Histoire-hommages",
            "Histoire-hommages",
            "Histoire-hommages",
            "Histoire-hommages",
            "Histoire-hommages",
            "Histoire-hommages",
            "Histoire-hommages",
            "Histoire-hommages",
            "Histoire-hommages"
           ],
           "xaxis": "x",
           "y": [
            49,
            44,
            26,
            14,
            51,
            44,
            34,
            17,
            63
           ],
           "yaxis": "y"
          },
          {
           "alignmentgroup": "True",
           "hovertemplate": "Thematiques=%{x}<br>Annee=2020<br>Totaux=%{y}<extra></extra>",
           "legendgroup": "International",
           "marker": {
            "color": "#B6E880",
            "pattern": {
             "shape": ""
            }
           },
           "name": "International",
           "offsetgroup": "International",
           "orientation": "v",
           "showlegend": true,
           "textposition": "auto",
           "type": "bar",
           "x": [
            "International",
            "International",
            "International",
            "International",
            "International",
            "International",
            "International",
            "International",
            "International"
           ],
           "xaxis": "x",
           "y": [
            240,
            198,
            104,
            28,
            62,
            135,
            117,
            245,
            264
           ],
           "yaxis": "y"
          },
          {
           "alignmentgroup": "True",
           "hovertemplate": "Thematiques=%{x}<br>Annee=2020<br>Totaux=%{y}<extra></extra>",
           "legendgroup": "Justice",
           "marker": {
            "color": "#FF97FF",
            "pattern": {
             "shape": ""
            }
           },
           "name": "Justice",
           "offsetgroup": "Justice",
           "orientation": "v",
           "showlegend": true,
           "textposition": "auto",
           "type": "bar",
           "x": [
            "Justice",
            "Justice",
            "Justice",
            "Justice",
            "Justice",
            "Justice",
            "Justice",
            "Justice",
            "Justice"
           ],
           "xaxis": "x",
           "y": [
            79,
            68,
            39,
            6,
            24,
            96,
            41,
            30,
            88
           ],
           "yaxis": "y"
          },
          {
           "alignmentgroup": "True",
           "hovertemplate": "Thematiques=%{x}<br>Annee=2020<br>Totaux=%{y}<extra></extra>",
           "legendgroup": "Politique France",
           "marker": {
            "color": "#FECB52",
            "pattern": {
             "shape": ""
            }
           },
           "name": "Politique France",
           "offsetgroup": "Politique France",
           "orientation": "v",
           "showlegend": true,
           "textposition": "auto",
           "type": "bar",
           "x": [
            "Politique France",
            "Politique France",
            "Politique France",
            "Politique France",
            "Politique France",
            "Politique France",
            "Politique France",
            "Politique France",
            "Politique France"
           ],
           "xaxis": "x",
           "y": [
            114,
            154,
            79,
            23,
            62,
            341,
            205,
            50,
            160
           ],
           "yaxis": "y"
          },
          {
           "alignmentgroup": "True",
           "hovertemplate": "Thematiques=%{x}<br>Annee=2020<br>Totaux=%{y}<extra></extra>",
           "legendgroup": "Santé",
           "marker": {
            "color": "#636efa",
            "pattern": {
             "shape": ""
            }
           },
           "name": "Santé",
           "offsetgroup": "Santé",
           "orientation": "v",
           "showlegend": true,
           "textposition": "auto",
           "type": "bar",
           "x": [
            "Santé",
            "Santé",
            "Santé",
            "Santé",
            "Santé",
            "Santé",
            "Santé",
            "Santé",
            "Santé"
           ],
           "xaxis": "x",
           "y": [
            204,
            456,
            2024,
            1776,
            1337,
            599,
            482,
            468,
            664
           ],
           "yaxis": "y"
          },
          {
           "alignmentgroup": "True",
           "hovertemplate": "Thematiques=%{x}<br>Annee=2020<br>Totaux=%{y}<extra></extra>",
           "legendgroup": "Sciences et techniques",
           "marker": {
            "color": "#EF553B",
            "pattern": {
             "shape": ""
            }
           },
           "name": "Sciences et techniques",
           "offsetgroup": "Sciences et techniques",
           "orientation": "v",
           "showlegend": true,
           "textposition": "auto",
           "type": "bar",
           "x": [
            "Sciences et techniques",
            "Sciences et techniques",
            "Sciences et techniques",
            "Sciences et techniques",
            "Sciences et techniques",
            "Sciences et techniques",
            "Sciences et techniques",
            "Sciences et techniques",
            "Sciences et techniques"
           ],
           "xaxis": "x",
           "y": [
            42,
            57,
            16,
            3,
            21,
            57,
            38,
            35,
            34
           ],
           "yaxis": "y"
          },
          {
           "alignmentgroup": "True",
           "hovertemplate": "Thematiques=%{x}<br>Annee=2020<br>Totaux=%{y}<extra></extra>",
           "legendgroup": "Société",
           "marker": {
            "color": "#00cc96",
            "pattern": {
             "shape": ""
            }
           },
           "name": "Société",
           "offsetgroup": "Société",
           "orientation": "v",
           "showlegend": true,
           "textposition": "auto",
           "type": "bar",
           "x": [
            "Société",
            "Société",
            "Société",
            "Société",
            "Société",
            "Société",
            "Société",
            "Société",
            "Société"
           ],
           "xaxis": "x",
           "y": [
            523,
            255,
            104,
            102,
            178,
            418,
            247,
            223,
            250
           ],
           "yaxis": "y"
          },
          {
           "alignmentgroup": "True",
           "hovertemplate": "Thematiques=%{x}<br>Annee=2020<br>Totaux=%{y}<extra></extra>",
           "legendgroup": "Sport",
           "marker": {
            "color": "#ab63fa",
            "pattern": {
             "shape": ""
            }
           },
           "name": "Sport",
           "offsetgroup": "Sport",
           "orientation": "v",
           "showlegend": true,
           "textposition": "auto",
           "type": "bar",
           "x": [
            "Sport",
            "Sport",
            "Sport",
            "Sport",
            "Sport",
            "Sport",
            "Sport",
            "Sport",
            "Sport"
           ],
           "xaxis": "x",
           "y": [
            32,
            82,
            19,
            1,
            12,
            18,
            44,
            109,
            101
           ],
           "yaxis": "y"
          }
         ],
         "name": "2020"
        }
       ],
       "layout": {
        "barmode": "relative",
        "legend": {
         "title": {
          "text": "Thematiques"
         },
         "tracegroupgap": 0
        },
        "sliders": [
         {
          "active": 0,
          "currentvalue": {
           "prefix": "Annee="
          },
          "len": 0.9,
          "pad": {
           "b": 10,
           "t": 60
          },
          "steps": [
           {
            "args": [
             [
              "2012"
             ],
             {
              "frame": {
               "duration": 0,
               "redraw": true
              },
              "fromcurrent": true,
              "mode": "immediate",
              "transition": {
               "duration": 0,
               "easing": "linear"
              }
             }
            ],
            "label": "2012",
            "method": "animate"
           },
           {
            "args": [
             [
              "2013"
             ],
             {
              "frame": {
               "duration": 0,
               "redraw": true
              },
              "fromcurrent": true,
              "mode": "immediate",
              "transition": {
               "duration": 0,
               "easing": "linear"
              }
             }
            ],
            "label": "2013",
            "method": "animate"
           },
           {
            "args": [
             [
              "2014"
             ],
             {
              "frame": {
               "duration": 0,
               "redraw": true
              },
              "fromcurrent": true,
              "mode": "immediate",
              "transition": {
               "duration": 0,
               "easing": "linear"
              }
             }
            ],
            "label": "2014",
            "method": "animate"
           },
           {
            "args": [
             [
              "2015"
             ],
             {
              "frame": {
               "duration": 0,
               "redraw": true
              },
              "fromcurrent": true,
              "mode": "immediate",
              "transition": {
               "duration": 0,
               "easing": "linear"
              }
             }
            ],
            "label": "2015",
            "method": "animate"
           },
           {
            "args": [
             [
              "2016"
             ],
             {
              "frame": {
               "duration": 0,
               "redraw": true
              },
              "fromcurrent": true,
              "mode": "immediate",
              "transition": {
               "duration": 0,
               "easing": "linear"
              }
             }
            ],
            "label": "2016",
            "method": "animate"
           },
           {
            "args": [
             [
              "2017"
             ],
             {
              "frame": {
               "duration": 0,
               "redraw": true
              },
              "fromcurrent": true,
              "mode": "immediate",
              "transition": {
               "duration": 0,
               "easing": "linear"
              }
             }
            ],
            "label": "2017",
            "method": "animate"
           },
           {
            "args": [
             [
              "2018"
             ],
             {
              "frame": {
               "duration": 0,
               "redraw": true
              },
              "fromcurrent": true,
              "mode": "immediate",
              "transition": {
               "duration": 0,
               "easing": "linear"
              }
             }
            ],
            "label": "2018",
            "method": "animate"
           },
           {
            "args": [
             [
              "2019"
             ],
             {
              "frame": {
               "duration": 0,
               "redraw": true
              },
              "fromcurrent": true,
              "mode": "immediate",
              "transition": {
               "duration": 0,
               "easing": "linear"
              }
             }
            ],
            "label": "2019",
            "method": "animate"
           },
           {
            "args": [
             [
              "2020"
             ],
             {
              "frame": {
               "duration": 0,
               "redraw": true
              },
              "fromcurrent": true,
              "mode": "immediate",
              "transition": {
               "duration": 0,
               "easing": "linear"
              }
             }
            ],
            "label": "2020",
            "method": "animate"
           }
          ],
          "x": 0.1,
          "xanchor": "left",
          "y": 0,
          "yanchor": "top"
         }
        ],
        "template": {
         "data": {
          "bar": [
           {
            "error_x": {
             "color": "#2a3f5f"
            },
            "error_y": {
             "color": "#2a3f5f"
            },
            "marker": {
             "line": {
              "color": "#E5ECF6",
              "width": 0.5
             },
             "pattern": {
              "fillmode": "overlay",
              "size": 10,
              "solidity": 0.2
             }
            },
            "type": "bar"
           }
          ],
          "barpolar": [
           {
            "marker": {
             "line": {
              "color": "#E5ECF6",
              "width": 0.5
             },
             "pattern": {
              "fillmode": "overlay",
              "size": 10,
              "solidity": 0.2
             }
            },
            "type": "barpolar"
           }
          ],
          "carpet": [
           {
            "aaxis": {
             "endlinecolor": "#2a3f5f",
             "gridcolor": "white",
             "linecolor": "white",
             "minorgridcolor": "white",
             "startlinecolor": "#2a3f5f"
            },
            "baxis": {
             "endlinecolor": "#2a3f5f",
             "gridcolor": "white",
             "linecolor": "white",
             "minorgridcolor": "white",
             "startlinecolor": "#2a3f5f"
            },
            "type": "carpet"
           }
          ],
          "choropleth": [
           {
            "colorbar": {
             "outlinewidth": 0,
             "ticks": ""
            },
            "type": "choropleth"
           }
          ],
          "contour": [
           {
            "colorbar": {
             "outlinewidth": 0,
             "ticks": ""
            },
            "colorscale": [
             [
              0,
              "#0d0887"
             ],
             [
              0.1111111111111111,
              "#46039f"
             ],
             [
              0.2222222222222222,
              "#7201a8"
             ],
             [
              0.3333333333333333,
              "#9c179e"
             ],
             [
              0.4444444444444444,
              "#bd3786"
             ],
             [
              0.5555555555555556,
              "#d8576b"
             ],
             [
              0.6666666666666666,
              "#ed7953"
             ],
             [
              0.7777777777777778,
              "#fb9f3a"
             ],
             [
              0.8888888888888888,
              "#fdca26"
             ],
             [
              1,
              "#f0f921"
             ]
            ],
            "type": "contour"
           }
          ],
          "contourcarpet": [
           {
            "colorbar": {
             "outlinewidth": 0,
             "ticks": ""
            },
            "type": "contourcarpet"
           }
          ],
          "heatmap": [
           {
            "colorbar": {
             "outlinewidth": 0,
             "ticks": ""
            },
            "colorscale": [
             [
              0,
              "#0d0887"
             ],
             [
              0.1111111111111111,
              "#46039f"
             ],
             [
              0.2222222222222222,
              "#7201a8"
             ],
             [
              0.3333333333333333,
              "#9c179e"
             ],
             [
              0.4444444444444444,
              "#bd3786"
             ],
             [
              0.5555555555555556,
              "#d8576b"
             ],
             [
              0.6666666666666666,
              "#ed7953"
             ],
             [
              0.7777777777777778,
              "#fb9f3a"
             ],
             [
              0.8888888888888888,
              "#fdca26"
             ],
             [
              1,
              "#f0f921"
             ]
            ],
            "type": "heatmap"
           }
          ],
          "heatmapgl": [
           {
            "colorbar": {
             "outlinewidth": 0,
             "ticks": ""
            },
            "colorscale": [
             [
              0,
              "#0d0887"
             ],
             [
              0.1111111111111111,
              "#46039f"
             ],
             [
              0.2222222222222222,
              "#7201a8"
             ],
             [
              0.3333333333333333,
              "#9c179e"
             ],
             [
              0.4444444444444444,
              "#bd3786"
             ],
             [
              0.5555555555555556,
              "#d8576b"
             ],
             [
              0.6666666666666666,
              "#ed7953"
             ],
             [
              0.7777777777777778,
              "#fb9f3a"
             ],
             [
              0.8888888888888888,
              "#fdca26"
             ],
             [
              1,
              "#f0f921"
             ]
            ],
            "type": "heatmapgl"
           }
          ],
          "histogram": [
           {
            "marker": {
             "pattern": {
              "fillmode": "overlay",
              "size": 10,
              "solidity": 0.2
             }
            },
            "type": "histogram"
           }
          ],
          "histogram2d": [
           {
            "colorbar": {
             "outlinewidth": 0,
             "ticks": ""
            },
            "colorscale": [
             [
              0,
              "#0d0887"
             ],
             [
              0.1111111111111111,
              "#46039f"
             ],
             [
              0.2222222222222222,
              "#7201a8"
             ],
             [
              0.3333333333333333,
              "#9c179e"
             ],
             [
              0.4444444444444444,
              "#bd3786"
             ],
             [
              0.5555555555555556,
              "#d8576b"
             ],
             [
              0.6666666666666666,
              "#ed7953"
             ],
             [
              0.7777777777777778,
              "#fb9f3a"
             ],
             [
              0.8888888888888888,
              "#fdca26"
             ],
             [
              1,
              "#f0f921"
             ]
            ],
            "type": "histogram2d"
           }
          ],
          "histogram2dcontour": [
           {
            "colorbar": {
             "outlinewidth": 0,
             "ticks": ""
            },
            "colorscale": [
             [
              0,
              "#0d0887"
             ],
             [
              0.1111111111111111,
              "#46039f"
             ],
             [
              0.2222222222222222,
              "#7201a8"
             ],
             [
              0.3333333333333333,
              "#9c179e"
             ],
             [
              0.4444444444444444,
              "#bd3786"
             ],
             [
              0.5555555555555556,
              "#d8576b"
             ],
             [
              0.6666666666666666,
              "#ed7953"
             ],
             [
              0.7777777777777778,
              "#fb9f3a"
             ],
             [
              0.8888888888888888,
              "#fdca26"
             ],
             [
              1,
              "#f0f921"
             ]
            ],
            "type": "histogram2dcontour"
           }
          ],
          "mesh3d": [
           {
            "colorbar": {
             "outlinewidth": 0,
             "ticks": ""
            },
            "type": "mesh3d"
           }
          ],
          "parcoords": [
           {
            "line": {
             "colorbar": {
              "outlinewidth": 0,
              "ticks": ""
             }
            },
            "type": "parcoords"
           }
          ],
          "pie": [
           {
            "automargin": true,
            "type": "pie"
           }
          ],
          "scatter": [
           {
            "fillpattern": {
             "fillmode": "overlay",
             "size": 10,
             "solidity": 0.2
            },
            "type": "scatter"
           }
          ],
          "scatter3d": [
           {
            "line": {
             "colorbar": {
              "outlinewidth": 0,
              "ticks": ""
             }
            },
            "marker": {
             "colorbar": {
              "outlinewidth": 0,
              "ticks": ""
             }
            },
            "type": "scatter3d"
           }
          ],
          "scattercarpet": [
           {
            "marker": {
             "colorbar": {
              "outlinewidth": 0,
              "ticks": ""
             }
            },
            "type": "scattercarpet"
           }
          ],
          "scattergeo": [
           {
            "marker": {
             "colorbar": {
              "outlinewidth": 0,
              "ticks": ""
             }
            },
            "type": "scattergeo"
           }
          ],
          "scattergl": [
           {
            "marker": {
             "colorbar": {
              "outlinewidth": 0,
              "ticks": ""
             }
            },
            "type": "scattergl"
           }
          ],
          "scattermapbox": [
           {
            "marker": {
             "colorbar": {
              "outlinewidth": 0,
              "ticks": ""
             }
            },
            "type": "scattermapbox"
           }
          ],
          "scatterpolar": [
           {
            "marker": {
             "colorbar": {
              "outlinewidth": 0,
              "ticks": ""
             }
            },
            "type": "scatterpolar"
           }
          ],
          "scatterpolargl": [
           {
            "marker": {
             "colorbar": {
              "outlinewidth": 0,
              "ticks": ""
             }
            },
            "type": "scatterpolargl"
           }
          ],
          "scatterternary": [
           {
            "marker": {
             "colorbar": {
              "outlinewidth": 0,
              "ticks": ""
             }
            },
            "type": "scatterternary"
           }
          ],
          "surface": [
           {
            "colorbar": {
             "outlinewidth": 0,
             "ticks": ""
            },
            "colorscale": [
             [
              0,
              "#0d0887"
             ],
             [
              0.1111111111111111,
              "#46039f"
             ],
             [
              0.2222222222222222,
              "#7201a8"
             ],
             [
              0.3333333333333333,
              "#9c179e"
             ],
             [
              0.4444444444444444,
              "#bd3786"
             ],
             [
              0.5555555555555556,
              "#d8576b"
             ],
             [
              0.6666666666666666,
              "#ed7953"
             ],
             [
              0.7777777777777778,
              "#fb9f3a"
             ],
             [
              0.8888888888888888,
              "#fdca26"
             ],
             [
              1,
              "#f0f921"
             ]
            ],
            "type": "surface"
           }
          ],
          "table": [
           {
            "cells": {
             "fill": {
              "color": "#EBF0F8"
             },
             "line": {
              "color": "white"
             }
            },
            "header": {
             "fill": {
              "color": "#C8D4E3"
             },
             "line": {
              "color": "white"
             }
            },
            "type": "table"
           }
          ]
         },
         "layout": {
          "annotationdefaults": {
           "arrowcolor": "#2a3f5f",
           "arrowhead": 0,
           "arrowwidth": 1
          },
          "autotypenumbers": "strict",
          "coloraxis": {
           "colorbar": {
            "outlinewidth": 0,
            "ticks": ""
           }
          },
          "colorscale": {
           "diverging": [
            [
             0,
             "#8e0152"
            ],
            [
             0.1,
             "#c51b7d"
            ],
            [
             0.2,
             "#de77ae"
            ],
            [
             0.3,
             "#f1b6da"
            ],
            [
             0.4,
             "#fde0ef"
            ],
            [
             0.5,
             "#f7f7f7"
            ],
            [
             0.6,
             "#e6f5d0"
            ],
            [
             0.7,
             "#b8e186"
            ],
            [
             0.8,
             "#7fbc41"
            ],
            [
             0.9,
             "#4d9221"
            ],
            [
             1,
             "#276419"
            ]
           ],
           "sequential": [
            [
             0,
             "#0d0887"
            ],
            [
             0.1111111111111111,
             "#46039f"
            ],
            [
             0.2222222222222222,
             "#7201a8"
            ],
            [
             0.3333333333333333,
             "#9c179e"
            ],
            [
             0.4444444444444444,
             "#bd3786"
            ],
            [
             0.5555555555555556,
             "#d8576b"
            ],
            [
             0.6666666666666666,
             "#ed7953"
            ],
            [
             0.7777777777777778,
             "#fb9f3a"
            ],
            [
             0.8888888888888888,
             "#fdca26"
            ],
            [
             1,
             "#f0f921"
            ]
           ],
           "sequentialminus": [
            [
             0,
             "#0d0887"
            ],
            [
             0.1111111111111111,
             "#46039f"
            ],
            [
             0.2222222222222222,
             "#7201a8"
            ],
            [
             0.3333333333333333,
             "#9c179e"
            ],
            [
             0.4444444444444444,
             "#bd3786"
            ],
            [
             0.5555555555555556,
             "#d8576b"
            ],
            [
             0.6666666666666666,
             "#ed7953"
            ],
            [
             0.7777777777777778,
             "#fb9f3a"
            ],
            [
             0.8888888888888888,
             "#fdca26"
            ],
            [
             1,
             "#f0f921"
            ]
           ]
          },
          "colorway": [
           "#636efa",
           "#EF553B",
           "#00cc96",
           "#ab63fa",
           "#FFA15A",
           "#19d3f3",
           "#FF6692",
           "#B6E880",
           "#FF97FF",
           "#FECB52"
          ],
          "font": {
           "color": "#2a3f5f"
          },
          "geo": {
           "bgcolor": "white",
           "lakecolor": "white",
           "landcolor": "#E5ECF6",
           "showlakes": true,
           "showland": true,
           "subunitcolor": "white"
          },
          "hoverlabel": {
           "align": "left"
          },
          "hovermode": "closest",
          "mapbox": {
           "style": "light"
          },
          "paper_bgcolor": "white",
          "plot_bgcolor": "#E5ECF6",
          "polar": {
           "angularaxis": {
            "gridcolor": "white",
            "linecolor": "white",
            "ticks": ""
           },
           "bgcolor": "#E5ECF6",
           "radialaxis": {
            "gridcolor": "white",
            "linecolor": "white",
            "ticks": ""
           }
          },
          "scene": {
           "xaxis": {
            "backgroundcolor": "#E5ECF6",
            "gridcolor": "white",
            "gridwidth": 2,
            "linecolor": "white",
            "showbackground": true,
            "ticks": "",
            "zerolinecolor": "white"
           },
           "yaxis": {
            "backgroundcolor": "#E5ECF6",
            "gridcolor": "white",
            "gridwidth": 2,
            "linecolor": "white",
            "showbackground": true,
            "ticks": "",
            "zerolinecolor": "white"
           },
           "zaxis": {
            "backgroundcolor": "#E5ECF6",
            "gridcolor": "white",
            "gridwidth": 2,
            "linecolor": "white",
            "showbackground": true,
            "ticks": "",
            "zerolinecolor": "white"
           }
          },
          "shapedefaults": {
           "line": {
            "color": "#2a3f5f"
           }
          },
          "ternary": {
           "aaxis": {
            "gridcolor": "white",
            "linecolor": "white",
            "ticks": ""
           },
           "baxis": {
            "gridcolor": "white",
            "linecolor": "white",
            "ticks": ""
           },
           "bgcolor": "#E5ECF6",
           "caxis": {
            "gridcolor": "white",
            "linecolor": "white",
            "ticks": ""
           }
          },
          "title": {
           "x": 0.05
          },
          "xaxis": {
           "automargin": true,
           "gridcolor": "white",
           "linecolor": "white",
           "ticks": "",
           "title": {
            "standoff": 15
           },
           "zerolinecolor": "white",
           "zerolinewidth": 2
          },
          "yaxis": {
           "automargin": true,
           "gridcolor": "white",
           "linecolor": "white",
           "ticks": "",
           "title": {
            "standoff": 15
           },
           "zerolinecolor": "white",
           "zerolinewidth": 2
          }
         }
        },
        "title": {
         "text": "Themes"
        },
        "updatemenus": [
         {
          "buttons": [
           {
            "args": [
             null,
             {
              "frame": {
               "duration": 500,
               "redraw": true
              },
              "fromcurrent": true,
              "mode": "immediate",
              "transition": {
               "duration": 500,
               "easing": "linear"
              }
             }
            ],
            "label": "&#9654;",
            "method": "animate"
           },
           {
            "args": [
             [
              null
             ],
             {
              "frame": {
               "duration": 0,
               "redraw": true
              },
              "fromcurrent": true,
              "mode": "immediate",
              "transition": {
               "duration": 0,
               "easing": "linear"
              }
             }
            ],
            "label": "&#9724;",
            "method": "animate"
           }
          ],
          "direction": "left",
          "pad": {
           "r": 10,
           "t": 70
          },
          "showactive": false,
          "type": "buttons",
          "x": 0.1,
          "xanchor": "right",
          "y": 0,
          "yanchor": "top"
         }
        ],
        "xaxis": {
         "anchor": "y",
         "categoryarray": [
          "Catastrophes",
          "Culture-loisirs",
          "Economie",
          "Education",
          "Environnement",
          "Faits divers",
          "Histoire-hommages",
          "International",
          "Justice",
          "Politique France",
          "Santé",
          "Sciences et techniques",
          "Société",
          "Sport"
         ],
         "categoryorder": "array",
         "domain": [
          0,
          1
         ],
         "range": [
          0,
          13
         ],
         "title": {
          "text": "Thematiques"
         }
        },
        "yaxis": {
         "anchor": "x",
         "domain": [
          0,
          1
         ],
         "range": [
          0,
          9000
         ],
         "title": {
          "text": "Totaux"
         }
        }
       }
      },
      "text/html": [
       "<div>                            <div id=\"04e9d5c7-e611-47d0-b25b-9116df4309d7\" class=\"plotly-graph-div\" style=\"height:525px; width:100%;\"></div>            <script type=\"text/javascript\">                require([\"plotly\"], function(Plotly) {                    window.PLOTLYENV=window.PLOTLYENV || {};                                    if (document.getElementById(\"04e9d5c7-e611-47d0-b25b-9116df4309d7\")) {                    Plotly.newPlot(                        \"04e9d5c7-e611-47d0-b25b-9116df4309d7\",                        [{\"alignmentgroup\":\"True\",\"hovertemplate\":\"Thematiques=%{x}<br>Annee=2012<br>Totaux=%{y}<extra></extra>\",\"legendgroup\":\"Catastrophes\",\"marker\":{\"color\":\"#636efa\",\"pattern\":{\"shape\":\"\"}},\"name\":\"Catastrophes\",\"offsetgroup\":\"Catastrophes\",\"orientation\":\"v\",\"showlegend\":true,\"textposition\":\"auto\",\"x\":[\"Catastrophes\",\"Catastrophes\",\"Catastrophes\",\"Catastrophes\",\"Catastrophes\",\"Catastrophes\",\"Catastrophes\",\"Catastrophes\",\"Catastrophes\",\"Catastrophes\",\"Catastrophes\",\"Catastrophes\"],\"xaxis\":\"x\",\"y\":[301,223,194,98,141,68,213,171,82,259,86,116],\"yaxis\":\"y\",\"type\":\"bar\"},{\"alignmentgroup\":\"True\",\"hovertemplate\":\"Thematiques=%{x}<br>Annee=2012<br>Totaux=%{y}<extra></extra>\",\"legendgroup\":\"Culture-loisirs\",\"marker\":{\"color\":\"#EF553B\",\"pattern\":{\"shape\":\"\"}},\"name\":\"Culture-loisirs\",\"offsetgroup\":\"Culture-loisirs\",\"orientation\":\"v\",\"showlegend\":true,\"textposition\":\"auto\",\"x\":[\"Culture-loisirs\",\"Culture-loisirs\",\"Culture-loisirs\",\"Culture-loisirs\",\"Culture-loisirs\",\"Culture-loisirs\",\"Culture-loisirs\",\"Culture-loisirs\",\"Culture-loisirs\",\"Culture-loisirs\",\"Culture-loisirs\",\"Culture-loisirs\"],\"xaxis\":\"x\",\"y\":[279,220,141,171,244,169,260,161,207,254,175,229],\"yaxis\":\"y\",\"type\":\"bar\"},{\"alignmentgroup\":\"True\",\"hovertemplate\":\"Thematiques=%{x}<br>Annee=2012<br>Totaux=%{y}<extra></extra>\",\"legendgroup\":\"Economie\",\"marker\":{\"color\":\"#00cc96\",\"pattern\":{\"shape\":\"\"}},\"name\":\"Economie\",\"offsetgroup\":\"Economie\",\"orientation\":\"v\",\"showlegend\":true,\"textposition\":\"auto\",\"x\":[\"Economie\",\"Economie\",\"Economie\",\"Economie\",\"Economie\",\"Economie\",\"Economie\",\"Economie\",\"Economie\",\"Economie\",\"Economie\",\"Economie\"],\"xaxis\":\"x\",\"y\":[439,276,149,249,279,257,455,266,349,366,291,308],\"yaxis\":\"y\",\"type\":\"bar\"},{\"alignmentgroup\":\"True\",\"hovertemplate\":\"Thematiques=%{x}<br>Annee=2012<br>Totaux=%{y}<extra></extra>\",\"legendgroup\":\"Education\",\"marker\":{\"color\":\"#ab63fa\",\"pattern\":{\"shape\":\"\"}},\"name\":\"Education\",\"offsetgroup\":\"Education\",\"orientation\":\"v\",\"showlegend\":true,\"textposition\":\"auto\",\"x\":[\"Education\",\"Education\",\"Education\",\"Education\",\"Education\",\"Education\",\"Education\",\"Education\",\"Education\",\"Education\",\"Education\",\"Education\"],\"xaxis\":\"x\",\"y\":[56,39,41,28,52,96,48,51,103,70,23,49],\"yaxis\":\"y\",\"type\":\"bar\"},{\"alignmentgroup\":\"True\",\"hovertemplate\":\"Thematiques=%{x}<br>Annee=2012<br>Totaux=%{y}<extra></extra>\",\"legendgroup\":\"Environnement\",\"marker\":{\"color\":\"#FFA15A\",\"pattern\":{\"shape\":\"\"}},\"name\":\"Environnement\",\"offsetgroup\":\"Environnement\",\"orientation\":\"v\",\"showlegend\":true,\"textposition\":\"auto\",\"x\":[\"Environnement\",\"Environnement\",\"Environnement\",\"Environnement\",\"Environnement\",\"Environnement\",\"Environnement\",\"Environnement\",\"Environnement\",\"Environnement\",\"Environnement\",\"Environnement\"],\"xaxis\":\"x\",\"y\":[135,158,116,91,75,65,122,135,65,101,97,101],\"yaxis\":\"y\",\"type\":\"bar\"},{\"alignmentgroup\":\"True\",\"hovertemplate\":\"Thematiques=%{x}<br>Annee=2012<br>Totaux=%{y}<extra></extra>\",\"legendgroup\":\"Faits divers\",\"marker\":{\"color\":\"#19d3f3\",\"pattern\":{\"shape\":\"\"}},\"name\":\"Faits divers\",\"offsetgroup\":\"Faits divers\",\"orientation\":\"v\",\"showlegend\":true,\"textposition\":\"auto\",\"x\":[\"Faits divers\",\"Faits divers\",\"Faits divers\",\"Faits divers\",\"Faits divers\",\"Faits divers\",\"Faits divers\",\"Faits divers\",\"Faits divers\",\"Faits divers\",\"Faits divers\",\"Faits divers\"],\"xaxis\":\"x\",\"y\":[153,102,120,217,154,196,186,116,202,220,190,206],\"yaxis\":\"y\",\"type\":\"bar\"},{\"alignmentgroup\":\"True\",\"hovertemplate\":\"Thematiques=%{x}<br>Annee=2012<br>Totaux=%{y}<extra></extra>\",\"legendgroup\":\"Histoire-hommages\",\"marker\":{\"color\":\"#FF6692\",\"pattern\":{\"shape\":\"\"}},\"name\":\"Histoire-hommages\",\"offsetgroup\":\"Histoire-hommages\",\"orientation\":\"v\",\"showlegend\":true,\"textposition\":\"auto\",\"x\":[\"Histoire-hommages\",\"Histoire-hommages\",\"Histoire-hommages\",\"Histoire-hommages\",\"Histoire-hommages\",\"Histoire-hommages\",\"Histoire-hommages\",\"Histoire-hommages\",\"Histoire-hommages\",\"Histoire-hommages\",\"Histoire-hommages\",\"Histoire-hommages\"],\"xaxis\":\"x\",\"y\":[51,57,73,46,63,67,80,51,47,45,50,32],\"yaxis\":\"y\",\"type\":\"bar\"},{\"alignmentgroup\":\"True\",\"hovertemplate\":\"Thematiques=%{x}<br>Annee=2012<br>Totaux=%{y}<extra></extra>\",\"legendgroup\":\"International\",\"marker\":{\"color\":\"#B6E880\",\"pattern\":{\"shape\":\"\"}},\"name\":\"International\",\"offsetgroup\":\"International\",\"orientation\":\"v\",\"showlegend\":true,\"textposition\":\"auto\",\"x\":[\"International\",\"International\",\"International\",\"International\",\"International\",\"International\",\"International\",\"International\",\"International\",\"International\",\"International\",\"International\"],\"xaxis\":\"x\",\"y\":[537,414,313,377,650,338,383,377,334,443,521,380],\"yaxis\":\"y\",\"type\":\"bar\"},{\"alignmentgroup\":\"True\",\"hovertemplate\":\"Thematiques=%{x}<br>Annee=2012<br>Totaux=%{y}<extra></extra>\",\"legendgroup\":\"Justice\",\"marker\":{\"color\":\"#FF97FF\",\"pattern\":{\"shape\":\"\"}},\"name\":\"Justice\",\"offsetgroup\":\"Justice\",\"orientation\":\"v\",\"showlegend\":true,\"textposition\":\"auto\",\"x\":[\"Justice\",\"Justice\",\"Justice\",\"Justice\",\"Justice\",\"Justice\",\"Justice\",\"Justice\",\"Justice\",\"Justice\",\"Justice\",\"Justice\"],\"xaxis\":\"x\",\"y\":[137,150,116,150,161,118,122,112,160,298,146,125],\"yaxis\":\"y\",\"type\":\"bar\"},{\"alignmentgroup\":\"True\",\"hovertemplate\":\"Thematiques=%{x}<br>Annee=2012<br>Totaux=%{y}<extra></extra>\",\"legendgroup\":\"Politique France\",\"marker\":{\"color\":\"#FECB52\",\"pattern\":{\"shape\":\"\"}},\"name\":\"Politique France\",\"offsetgroup\":\"Politique France\",\"orientation\":\"v\",\"showlegend\":true,\"textposition\":\"auto\",\"x\":[\"Politique France\",\"Politique France\",\"Politique France\",\"Politique France\",\"Politique France\",\"Politique France\",\"Politique France\",\"Politique France\",\"Politique France\",\"Politique France\",\"Politique France\",\"Politique France\"],\"xaxis\":\"x\",\"y\":[375,403,819,591,722,421,185,159,168,237,305,136],\"yaxis\":\"y\",\"type\":\"bar\"},{\"alignmentgroup\":\"True\",\"hovertemplate\":\"Thematiques=%{x}<br>Annee=2012<br>Totaux=%{y}<extra></extra>\",\"legendgroup\":\"Sant\\u00e9\",\"marker\":{\"color\":\"#636efa\",\"pattern\":{\"shape\":\"\"}},\"name\":\"Sant\\u00e9\",\"offsetgroup\":\"Sant\\u00e9\",\"orientation\":\"v\",\"showlegend\":true,\"textposition\":\"auto\",\"x\":[\"Sant\\u00e9\",\"Sant\\u00e9\",\"Sant\\u00e9\",\"Sant\\u00e9\",\"Sant\\u00e9\",\"Sant\\u00e9\",\"Sant\\u00e9\",\"Sant\\u00e9\",\"Sant\\u00e9\",\"Sant\\u00e9\",\"Sant\\u00e9\",\"Sant\\u00e9\"],\"xaxis\":\"x\",\"y\":[111,76,85,57,86,59,74,107,89,114,75,117],\"yaxis\":\"y\",\"type\":\"bar\"},{\"alignmentgroup\":\"True\",\"hovertemplate\":\"Thematiques=%{x}<br>Annee=2012<br>Totaux=%{y}<extra></extra>\",\"legendgroup\":\"Sciences et techniques\",\"marker\":{\"color\":\"#EF553B\",\"pattern\":{\"shape\":\"\"}},\"name\":\"Sciences et techniques\",\"offsetgroup\":\"Sciences et techniques\",\"orientation\":\"v\",\"showlegend\":true,\"textposition\":\"auto\",\"x\":[\"Sciences et techniques\",\"Sciences et techniques\",\"Sciences et techniques\",\"Sciences et techniques\",\"Sciences et techniques\",\"Sciences et techniques\",\"Sciences et techniques\",\"Sciences et techniques\",\"Sciences et techniques\",\"Sciences et techniques\",\"Sciences et techniques\",\"Sciences et techniques\"],\"xaxis\":\"x\",\"y\":[44,29,32,55,40,34,58,77,35,48,28,48],\"yaxis\":\"y\",\"type\":\"bar\"},{\"alignmentgroup\":\"True\",\"hovertemplate\":\"Thematiques=%{x}<br>Annee=2012<br>Totaux=%{y}<extra></extra>\",\"legendgroup\":\"Soci\\u00e9t\\u00e9\",\"marker\":{\"color\":\"#00cc96\",\"pattern\":{\"shape\":\"\"}},\"name\":\"Soci\\u00e9t\\u00e9\",\"offsetgroup\":\"Soci\\u00e9t\\u00e9\",\"orientation\":\"v\",\"showlegend\":true,\"textposition\":\"auto\",\"x\":[\"Soci\\u00e9t\\u00e9\",\"Soci\\u00e9t\\u00e9\",\"Soci\\u00e9t\\u00e9\",\"Soci\\u00e9t\\u00e9\",\"Soci\\u00e9t\\u00e9\",\"Soci\\u00e9t\\u00e9\",\"Soci\\u00e9t\\u00e9\",\"Soci\\u00e9t\\u00e9\",\"Soci\\u00e9t\\u00e9\",\"Soci\\u00e9t\\u00e9\",\"Soci\\u00e9t\\u00e9\",\"Soci\\u00e9t\\u00e9\"],\"xaxis\":\"x\",\"y\":[467,440,355,368,451,356,447,392,583,593,515,638],\"yaxis\":\"y\",\"type\":\"bar\"},{\"alignmentgroup\":\"True\",\"hovertemplate\":\"Thematiques=%{x}<br>Annee=2012<br>Totaux=%{y}<extra></extra>\",\"legendgroup\":\"Sport\",\"marker\":{\"color\":\"#ab63fa\",\"pattern\":{\"shape\":\"\"}},\"name\":\"Sport\",\"offsetgroup\":\"Sport\",\"orientation\":\"v\",\"showlegend\":true,\"textposition\":\"auto\",\"x\":[\"Sport\",\"Sport\",\"Sport\",\"Sport\",\"Sport\",\"Sport\",\"Sport\",\"Sport\",\"Sport\",\"Sport\",\"Sport\",\"Sport\"],\"xaxis\":\"x\",\"y\":[148,116,122,113,235,267,564,435,130,166,143,82],\"yaxis\":\"y\",\"type\":\"bar\"}],                        {\"template\":{\"data\":{\"histogram2dcontour\":[{\"type\":\"histogram2dcontour\",\"colorbar\":{\"outlinewidth\":0,\"ticks\":\"\"},\"colorscale\":[[0.0,\"#0d0887\"],[0.1111111111111111,\"#46039f\"],[0.2222222222222222,\"#7201a8\"],[0.3333333333333333,\"#9c179e\"],[0.4444444444444444,\"#bd3786\"],[0.5555555555555556,\"#d8576b\"],[0.6666666666666666,\"#ed7953\"],[0.7777777777777778,\"#fb9f3a\"],[0.8888888888888888,\"#fdca26\"],[1.0,\"#f0f921\"]]}],\"choropleth\":[{\"type\":\"choropleth\",\"colorbar\":{\"outlinewidth\":0,\"ticks\":\"\"}}],\"histogram2d\":[{\"type\":\"histogram2d\",\"colorbar\":{\"outlinewidth\":0,\"ticks\":\"\"},\"colorscale\":[[0.0,\"#0d0887\"],[0.1111111111111111,\"#46039f\"],[0.2222222222222222,\"#7201a8\"],[0.3333333333333333,\"#9c179e\"],[0.4444444444444444,\"#bd3786\"],[0.5555555555555556,\"#d8576b\"],[0.6666666666666666,\"#ed7953\"],[0.7777777777777778,\"#fb9f3a\"],[0.8888888888888888,\"#fdca26\"],[1.0,\"#f0f921\"]]}],\"heatmap\":[{\"type\":\"heatmap\",\"colorbar\":{\"outlinewidth\":0,\"ticks\":\"\"},\"colorscale\":[[0.0,\"#0d0887\"],[0.1111111111111111,\"#46039f\"],[0.2222222222222222,\"#7201a8\"],[0.3333333333333333,\"#9c179e\"],[0.4444444444444444,\"#bd3786\"],[0.5555555555555556,\"#d8576b\"],[0.6666666666666666,\"#ed7953\"],[0.7777777777777778,\"#fb9f3a\"],[0.8888888888888888,\"#fdca26\"],[1.0,\"#f0f921\"]]}],\"heatmapgl\":[{\"type\":\"heatmapgl\",\"colorbar\":{\"outlinewidth\":0,\"ticks\":\"\"},\"colorscale\":[[0.0,\"#0d0887\"],[0.1111111111111111,\"#46039f\"],[0.2222222222222222,\"#7201a8\"],[0.3333333333333333,\"#9c179e\"],[0.4444444444444444,\"#bd3786\"],[0.5555555555555556,\"#d8576b\"],[0.6666666666666666,\"#ed7953\"],[0.7777777777777778,\"#fb9f3a\"],[0.8888888888888888,\"#fdca26\"],[1.0,\"#f0f921\"]]}],\"contourcarpet\":[{\"type\":\"contourcarpet\",\"colorbar\":{\"outlinewidth\":0,\"ticks\":\"\"}}],\"contour\":[{\"type\":\"contour\",\"colorbar\":{\"outlinewidth\":0,\"ticks\":\"\"},\"colorscale\":[[0.0,\"#0d0887\"],[0.1111111111111111,\"#46039f\"],[0.2222222222222222,\"#7201a8\"],[0.3333333333333333,\"#9c179e\"],[0.4444444444444444,\"#bd3786\"],[0.5555555555555556,\"#d8576b\"],[0.6666666666666666,\"#ed7953\"],[0.7777777777777778,\"#fb9f3a\"],[0.8888888888888888,\"#fdca26\"],[1.0,\"#f0f921\"]]}],\"surface\":[{\"type\":\"surface\",\"colorbar\":{\"outlinewidth\":0,\"ticks\":\"\"},\"colorscale\":[[0.0,\"#0d0887\"],[0.1111111111111111,\"#46039f\"],[0.2222222222222222,\"#7201a8\"],[0.3333333333333333,\"#9c179e\"],[0.4444444444444444,\"#bd3786\"],[0.5555555555555556,\"#d8576b\"],[0.6666666666666666,\"#ed7953\"],[0.7777777777777778,\"#fb9f3a\"],[0.8888888888888888,\"#fdca26\"],[1.0,\"#f0f921\"]]}],\"mesh3d\":[{\"type\":\"mesh3d\",\"colorbar\":{\"outlinewidth\":0,\"ticks\":\"\"}}],\"scatter\":[{\"fillpattern\":{\"fillmode\":\"overlay\",\"size\":10,\"solidity\":0.2},\"type\":\"scatter\"}],\"parcoords\":[{\"type\":\"parcoords\",\"line\":{\"colorbar\":{\"outlinewidth\":0,\"ticks\":\"\"}}}],\"scatterpolargl\":[{\"type\":\"scatterpolargl\",\"marker\":{\"colorbar\":{\"outlinewidth\":0,\"ticks\":\"\"}}}],\"bar\":[{\"error_x\":{\"color\":\"#2a3f5f\"},\"error_y\":{\"color\":\"#2a3f5f\"},\"marker\":{\"line\":{\"color\":\"#E5ECF6\",\"width\":0.5},\"pattern\":{\"fillmode\":\"overlay\",\"size\":10,\"solidity\":0.2}},\"type\":\"bar\"}],\"scattergeo\":[{\"type\":\"scattergeo\",\"marker\":{\"colorbar\":{\"outlinewidth\":0,\"ticks\":\"\"}}}],\"scatterpolar\":[{\"type\":\"scatterpolar\",\"marker\":{\"colorbar\":{\"outlinewidth\":0,\"ticks\":\"\"}}}],\"histogram\":[{\"marker\":{\"pattern\":{\"fillmode\":\"overlay\",\"size\":10,\"solidity\":0.2}},\"type\":\"histogram\"}],\"scattergl\":[{\"type\":\"scattergl\",\"marker\":{\"colorbar\":{\"outlinewidth\":0,\"ticks\":\"\"}}}],\"scatter3d\":[{\"type\":\"scatter3d\",\"line\":{\"colorbar\":{\"outlinewidth\":0,\"ticks\":\"\"}},\"marker\":{\"colorbar\":{\"outlinewidth\":0,\"ticks\":\"\"}}}],\"scattermapbox\":[{\"type\":\"scattermapbox\",\"marker\":{\"colorbar\":{\"outlinewidth\":0,\"ticks\":\"\"}}}],\"scatterternary\":[{\"type\":\"scatterternary\",\"marker\":{\"colorbar\":{\"outlinewidth\":0,\"ticks\":\"\"}}}],\"scattercarpet\":[{\"type\":\"scattercarpet\",\"marker\":{\"colorbar\":{\"outlinewidth\":0,\"ticks\":\"\"}}}],\"carpet\":[{\"aaxis\":{\"endlinecolor\":\"#2a3f5f\",\"gridcolor\":\"white\",\"linecolor\":\"white\",\"minorgridcolor\":\"white\",\"startlinecolor\":\"#2a3f5f\"},\"baxis\":{\"endlinecolor\":\"#2a3f5f\",\"gridcolor\":\"white\",\"linecolor\":\"white\",\"minorgridcolor\":\"white\",\"startlinecolor\":\"#2a3f5f\"},\"type\":\"carpet\"}],\"table\":[{\"cells\":{\"fill\":{\"color\":\"#EBF0F8\"},\"line\":{\"color\":\"white\"}},\"header\":{\"fill\":{\"color\":\"#C8D4E3\"},\"line\":{\"color\":\"white\"}},\"type\":\"table\"}],\"barpolar\":[{\"marker\":{\"line\":{\"color\":\"#E5ECF6\",\"width\":0.5},\"pattern\":{\"fillmode\":\"overlay\",\"size\":10,\"solidity\":0.2}},\"type\":\"barpolar\"}],\"pie\":[{\"automargin\":true,\"type\":\"pie\"}]},\"layout\":{\"autotypenumbers\":\"strict\",\"colorway\":[\"#636efa\",\"#EF553B\",\"#00cc96\",\"#ab63fa\",\"#FFA15A\",\"#19d3f3\",\"#FF6692\",\"#B6E880\",\"#FF97FF\",\"#FECB52\"],\"font\":{\"color\":\"#2a3f5f\"},\"hovermode\":\"closest\",\"hoverlabel\":{\"align\":\"left\"},\"paper_bgcolor\":\"white\",\"plot_bgcolor\":\"#E5ECF6\",\"polar\":{\"bgcolor\":\"#E5ECF6\",\"angularaxis\":{\"gridcolor\":\"white\",\"linecolor\":\"white\",\"ticks\":\"\"},\"radialaxis\":{\"gridcolor\":\"white\",\"linecolor\":\"white\",\"ticks\":\"\"}},\"ternary\":{\"bgcolor\":\"#E5ECF6\",\"aaxis\":{\"gridcolor\":\"white\",\"linecolor\":\"white\",\"ticks\":\"\"},\"baxis\":{\"gridcolor\":\"white\",\"linecolor\":\"white\",\"ticks\":\"\"},\"caxis\":{\"gridcolor\":\"white\",\"linecolor\":\"white\",\"ticks\":\"\"}},\"coloraxis\":{\"colorbar\":{\"outlinewidth\":0,\"ticks\":\"\"}},\"colorscale\":{\"sequential\":[[0.0,\"#0d0887\"],[0.1111111111111111,\"#46039f\"],[0.2222222222222222,\"#7201a8\"],[0.3333333333333333,\"#9c179e\"],[0.4444444444444444,\"#bd3786\"],[0.5555555555555556,\"#d8576b\"],[0.6666666666666666,\"#ed7953\"],[0.7777777777777778,\"#fb9f3a\"],[0.8888888888888888,\"#fdca26\"],[1.0,\"#f0f921\"]],\"sequentialminus\":[[0.0,\"#0d0887\"],[0.1111111111111111,\"#46039f\"],[0.2222222222222222,\"#7201a8\"],[0.3333333333333333,\"#9c179e\"],[0.4444444444444444,\"#bd3786\"],[0.5555555555555556,\"#d8576b\"],[0.6666666666666666,\"#ed7953\"],[0.7777777777777778,\"#fb9f3a\"],[0.8888888888888888,\"#fdca26\"],[1.0,\"#f0f921\"]],\"diverging\":[[0,\"#8e0152\"],[0.1,\"#c51b7d\"],[0.2,\"#de77ae\"],[0.3,\"#f1b6da\"],[0.4,\"#fde0ef\"],[0.5,\"#f7f7f7\"],[0.6,\"#e6f5d0\"],[0.7,\"#b8e186\"],[0.8,\"#7fbc41\"],[0.9,\"#4d9221\"],[1,\"#276419\"]]},\"xaxis\":{\"gridcolor\":\"white\",\"linecolor\":\"white\",\"ticks\":\"\",\"title\":{\"standoff\":15},\"zerolinecolor\":\"white\",\"automargin\":true,\"zerolinewidth\":2},\"yaxis\":{\"gridcolor\":\"white\",\"linecolor\":\"white\",\"ticks\":\"\",\"title\":{\"standoff\":15},\"zerolinecolor\":\"white\",\"automargin\":true,\"zerolinewidth\":2},\"scene\":{\"xaxis\":{\"backgroundcolor\":\"#E5ECF6\",\"gridcolor\":\"white\",\"linecolor\":\"white\",\"showbackground\":true,\"ticks\":\"\",\"zerolinecolor\":\"white\",\"gridwidth\":2},\"yaxis\":{\"backgroundcolor\":\"#E5ECF6\",\"gridcolor\":\"white\",\"linecolor\":\"white\",\"showbackground\":true,\"ticks\":\"\",\"zerolinecolor\":\"white\",\"gridwidth\":2},\"zaxis\":{\"backgroundcolor\":\"#E5ECF6\",\"gridcolor\":\"white\",\"linecolor\":\"white\",\"showbackground\":true,\"ticks\":\"\",\"zerolinecolor\":\"white\",\"gridwidth\":2}},\"shapedefaults\":{\"line\":{\"color\":\"#2a3f5f\"}},\"annotationdefaults\":{\"arrowcolor\":\"#2a3f5f\",\"arrowhead\":0,\"arrowwidth\":1},\"geo\":{\"bgcolor\":\"white\",\"landcolor\":\"#E5ECF6\",\"subunitcolor\":\"white\",\"showland\":true,\"showlakes\":true,\"lakecolor\":\"white\"},\"title\":{\"x\":0.05},\"mapbox\":{\"style\":\"light\"}}},\"xaxis\":{\"anchor\":\"y\",\"domain\":[0.0,1.0],\"title\":{\"text\":\"Thematiques\"},\"categoryorder\":\"array\",\"categoryarray\":[\"Catastrophes\",\"Culture-loisirs\",\"Economie\",\"Education\",\"Environnement\",\"Faits divers\",\"Histoire-hommages\",\"International\",\"Justice\",\"Politique France\",\"Sant\\u00e9\",\"Sciences et techniques\",\"Soci\\u00e9t\\u00e9\",\"Sport\"],\"range\":[0,13]},\"yaxis\":{\"anchor\":\"x\",\"domain\":[0.0,1.0],\"title\":{\"text\":\"Totaux\"},\"range\":[0,9000]},\"legend\":{\"title\":{\"text\":\"Thematiques\"},\"tracegroupgap\":0},\"title\":{\"text\":\"Themes\"},\"barmode\":\"relative\",\"updatemenus\":[{\"buttons\":[{\"args\":[null,{\"frame\":{\"duration\":500,\"redraw\":true},\"mode\":\"immediate\",\"fromcurrent\":true,\"transition\":{\"duration\":500,\"easing\":\"linear\"}}],\"label\":\"&#9654;\",\"method\":\"animate\"},{\"args\":[[null],{\"frame\":{\"duration\":0,\"redraw\":true},\"mode\":\"immediate\",\"fromcurrent\":true,\"transition\":{\"duration\":0,\"easing\":\"linear\"}}],\"label\":\"&#9724;\",\"method\":\"animate\"}],\"direction\":\"left\",\"pad\":{\"r\":10,\"t\":70},\"showactive\":false,\"type\":\"buttons\",\"x\":0.1,\"xanchor\":\"right\",\"y\":0,\"yanchor\":\"top\"}],\"sliders\":[{\"active\":0,\"currentvalue\":{\"prefix\":\"Annee=\"},\"len\":0.9,\"pad\":{\"b\":10,\"t\":60},\"steps\":[{\"args\":[[\"2012\"],{\"frame\":{\"duration\":0,\"redraw\":true},\"mode\":\"immediate\",\"fromcurrent\":true,\"transition\":{\"duration\":0,\"easing\":\"linear\"}}],\"label\":\"2012\",\"method\":\"animate\"},{\"args\":[[\"2013\"],{\"frame\":{\"duration\":0,\"redraw\":true},\"mode\":\"immediate\",\"fromcurrent\":true,\"transition\":{\"duration\":0,\"easing\":\"linear\"}}],\"label\":\"2013\",\"method\":\"animate\"},{\"args\":[[\"2014\"],{\"frame\":{\"duration\":0,\"redraw\":true},\"mode\":\"immediate\",\"fromcurrent\":true,\"transition\":{\"duration\":0,\"easing\":\"linear\"}}],\"label\":\"2014\",\"method\":\"animate\"},{\"args\":[[\"2015\"],{\"frame\":{\"duration\":0,\"redraw\":true},\"mode\":\"immediate\",\"fromcurrent\":true,\"transition\":{\"duration\":0,\"easing\":\"linear\"}}],\"label\":\"2015\",\"method\":\"animate\"},{\"args\":[[\"2016\"],{\"frame\":{\"duration\":0,\"redraw\":true},\"mode\":\"immediate\",\"fromcurrent\":true,\"transition\":{\"duration\":0,\"easing\":\"linear\"}}],\"label\":\"2016\",\"method\":\"animate\"},{\"args\":[[\"2017\"],{\"frame\":{\"duration\":0,\"redraw\":true},\"mode\":\"immediate\",\"fromcurrent\":true,\"transition\":{\"duration\":0,\"easing\":\"linear\"}}],\"label\":\"2017\",\"method\":\"animate\"},{\"args\":[[\"2018\"],{\"frame\":{\"duration\":0,\"redraw\":true},\"mode\":\"immediate\",\"fromcurrent\":true,\"transition\":{\"duration\":0,\"easing\":\"linear\"}}],\"label\":\"2018\",\"method\":\"animate\"},{\"args\":[[\"2019\"],{\"frame\":{\"duration\":0,\"redraw\":true},\"mode\":\"immediate\",\"fromcurrent\":true,\"transition\":{\"duration\":0,\"easing\":\"linear\"}}],\"label\":\"2019\",\"method\":\"animate\"},{\"args\":[[\"2020\"],{\"frame\":{\"duration\":0,\"redraw\":true},\"mode\":\"immediate\",\"fromcurrent\":true,\"transition\":{\"duration\":0,\"easing\":\"linear\"}}],\"label\":\"2020\",\"method\":\"animate\"}],\"x\":0.1,\"xanchor\":\"left\",\"y\":0,\"yanchor\":\"top\"}]},                        {\"responsive\": true}                    ).then(function(){\n",
       "                            Plotly.addFrames('04e9d5c7-e611-47d0-b25b-9116df4309d7', [{\"data\":[{\"alignmentgroup\":\"True\",\"hovertemplate\":\"Thematiques=%{x}<br>Annee=2012<br>Totaux=%{y}<extra></extra>\",\"legendgroup\":\"Catastrophes\",\"marker\":{\"color\":\"#636efa\",\"pattern\":{\"shape\":\"\"}},\"name\":\"Catastrophes\",\"offsetgroup\":\"Catastrophes\",\"orientation\":\"v\",\"showlegend\":true,\"textposition\":\"auto\",\"x\":[\"Catastrophes\",\"Catastrophes\",\"Catastrophes\",\"Catastrophes\",\"Catastrophes\",\"Catastrophes\",\"Catastrophes\",\"Catastrophes\",\"Catastrophes\",\"Catastrophes\",\"Catastrophes\",\"Catastrophes\"],\"xaxis\":\"x\",\"y\":[301,223,194,98,141,68,213,171,82,259,86,116],\"yaxis\":\"y\",\"type\":\"bar\"},{\"alignmentgroup\":\"True\",\"hovertemplate\":\"Thematiques=%{x}<br>Annee=2012<br>Totaux=%{y}<extra></extra>\",\"legendgroup\":\"Culture-loisirs\",\"marker\":{\"color\":\"#EF553B\",\"pattern\":{\"shape\":\"\"}},\"name\":\"Culture-loisirs\",\"offsetgroup\":\"Culture-loisirs\",\"orientation\":\"v\",\"showlegend\":true,\"textposition\":\"auto\",\"x\":[\"Culture-loisirs\",\"Culture-loisirs\",\"Culture-loisirs\",\"Culture-loisirs\",\"Culture-loisirs\",\"Culture-loisirs\",\"Culture-loisirs\",\"Culture-loisirs\",\"Culture-loisirs\",\"Culture-loisirs\",\"Culture-loisirs\",\"Culture-loisirs\"],\"xaxis\":\"x\",\"y\":[279,220,141,171,244,169,260,161,207,254,175,229],\"yaxis\":\"y\",\"type\":\"bar\"},{\"alignmentgroup\":\"True\",\"hovertemplate\":\"Thematiques=%{x}<br>Annee=2012<br>Totaux=%{y}<extra></extra>\",\"legendgroup\":\"Economie\",\"marker\":{\"color\":\"#00cc96\",\"pattern\":{\"shape\":\"\"}},\"name\":\"Economie\",\"offsetgroup\":\"Economie\",\"orientation\":\"v\",\"showlegend\":true,\"textposition\":\"auto\",\"x\":[\"Economie\",\"Economie\",\"Economie\",\"Economie\",\"Economie\",\"Economie\",\"Economie\",\"Economie\",\"Economie\",\"Economie\",\"Economie\",\"Economie\"],\"xaxis\":\"x\",\"y\":[439,276,149,249,279,257,455,266,349,366,291,308],\"yaxis\":\"y\",\"type\":\"bar\"},{\"alignmentgroup\":\"True\",\"hovertemplate\":\"Thematiques=%{x}<br>Annee=2012<br>Totaux=%{y}<extra></extra>\",\"legendgroup\":\"Education\",\"marker\":{\"color\":\"#ab63fa\",\"pattern\":{\"shape\":\"\"}},\"name\":\"Education\",\"offsetgroup\":\"Education\",\"orientation\":\"v\",\"showlegend\":true,\"textposition\":\"auto\",\"x\":[\"Education\",\"Education\",\"Education\",\"Education\",\"Education\",\"Education\",\"Education\",\"Education\",\"Education\",\"Education\",\"Education\",\"Education\"],\"xaxis\":\"x\",\"y\":[56,39,41,28,52,96,48,51,103,70,23,49],\"yaxis\":\"y\",\"type\":\"bar\"},{\"alignmentgroup\":\"True\",\"hovertemplate\":\"Thematiques=%{x}<br>Annee=2012<br>Totaux=%{y}<extra></extra>\",\"legendgroup\":\"Environnement\",\"marker\":{\"color\":\"#FFA15A\",\"pattern\":{\"shape\":\"\"}},\"name\":\"Environnement\",\"offsetgroup\":\"Environnement\",\"orientation\":\"v\",\"showlegend\":true,\"textposition\":\"auto\",\"x\":[\"Environnement\",\"Environnement\",\"Environnement\",\"Environnement\",\"Environnement\",\"Environnement\",\"Environnement\",\"Environnement\",\"Environnement\",\"Environnement\",\"Environnement\",\"Environnement\"],\"xaxis\":\"x\",\"y\":[135,158,116,91,75,65,122,135,65,101,97,101],\"yaxis\":\"y\",\"type\":\"bar\"},{\"alignmentgroup\":\"True\",\"hovertemplate\":\"Thematiques=%{x}<br>Annee=2012<br>Totaux=%{y}<extra></extra>\",\"legendgroup\":\"Faits divers\",\"marker\":{\"color\":\"#19d3f3\",\"pattern\":{\"shape\":\"\"}},\"name\":\"Faits divers\",\"offsetgroup\":\"Faits divers\",\"orientation\":\"v\",\"showlegend\":true,\"textposition\":\"auto\",\"x\":[\"Faits divers\",\"Faits divers\",\"Faits divers\",\"Faits divers\",\"Faits divers\",\"Faits divers\",\"Faits divers\",\"Faits divers\",\"Faits divers\",\"Faits divers\",\"Faits divers\",\"Faits divers\"],\"xaxis\":\"x\",\"y\":[153,102,120,217,154,196,186,116,202,220,190,206],\"yaxis\":\"y\",\"type\":\"bar\"},{\"alignmentgroup\":\"True\",\"hovertemplate\":\"Thematiques=%{x}<br>Annee=2012<br>Totaux=%{y}<extra></extra>\",\"legendgroup\":\"Histoire-hommages\",\"marker\":{\"color\":\"#FF6692\",\"pattern\":{\"shape\":\"\"}},\"name\":\"Histoire-hommages\",\"offsetgroup\":\"Histoire-hommages\",\"orientation\":\"v\",\"showlegend\":true,\"textposition\":\"auto\",\"x\":[\"Histoire-hommages\",\"Histoire-hommages\",\"Histoire-hommages\",\"Histoire-hommages\",\"Histoire-hommages\",\"Histoire-hommages\",\"Histoire-hommages\",\"Histoire-hommages\",\"Histoire-hommages\",\"Histoire-hommages\",\"Histoire-hommages\",\"Histoire-hommages\"],\"xaxis\":\"x\",\"y\":[51,57,73,46,63,67,80,51,47,45,50,32],\"yaxis\":\"y\",\"type\":\"bar\"},{\"alignmentgroup\":\"True\",\"hovertemplate\":\"Thematiques=%{x}<br>Annee=2012<br>Totaux=%{y}<extra></extra>\",\"legendgroup\":\"International\",\"marker\":{\"color\":\"#B6E880\",\"pattern\":{\"shape\":\"\"}},\"name\":\"International\",\"offsetgroup\":\"International\",\"orientation\":\"v\",\"showlegend\":true,\"textposition\":\"auto\",\"x\":[\"International\",\"International\",\"International\",\"International\",\"International\",\"International\",\"International\",\"International\",\"International\",\"International\",\"International\",\"International\"],\"xaxis\":\"x\",\"y\":[537,414,313,377,650,338,383,377,334,443,521,380],\"yaxis\":\"y\",\"type\":\"bar\"},{\"alignmentgroup\":\"True\",\"hovertemplate\":\"Thematiques=%{x}<br>Annee=2012<br>Totaux=%{y}<extra></extra>\",\"legendgroup\":\"Justice\",\"marker\":{\"color\":\"#FF97FF\",\"pattern\":{\"shape\":\"\"}},\"name\":\"Justice\",\"offsetgroup\":\"Justice\",\"orientation\":\"v\",\"showlegend\":true,\"textposition\":\"auto\",\"x\":[\"Justice\",\"Justice\",\"Justice\",\"Justice\",\"Justice\",\"Justice\",\"Justice\",\"Justice\",\"Justice\",\"Justice\",\"Justice\",\"Justice\"],\"xaxis\":\"x\",\"y\":[137,150,116,150,161,118,122,112,160,298,146,125],\"yaxis\":\"y\",\"type\":\"bar\"},{\"alignmentgroup\":\"True\",\"hovertemplate\":\"Thematiques=%{x}<br>Annee=2012<br>Totaux=%{y}<extra></extra>\",\"legendgroup\":\"Politique France\",\"marker\":{\"color\":\"#FECB52\",\"pattern\":{\"shape\":\"\"}},\"name\":\"Politique France\",\"offsetgroup\":\"Politique France\",\"orientation\":\"v\",\"showlegend\":true,\"textposition\":\"auto\",\"x\":[\"Politique France\",\"Politique France\",\"Politique France\",\"Politique France\",\"Politique France\",\"Politique France\",\"Politique France\",\"Politique France\",\"Politique France\",\"Politique France\",\"Politique France\",\"Politique France\"],\"xaxis\":\"x\",\"y\":[375,403,819,591,722,421,185,159,168,237,305,136],\"yaxis\":\"y\",\"type\":\"bar\"},{\"alignmentgroup\":\"True\",\"hovertemplate\":\"Thematiques=%{x}<br>Annee=2012<br>Totaux=%{y}<extra></extra>\",\"legendgroup\":\"Sant\\u00e9\",\"marker\":{\"color\":\"#636efa\",\"pattern\":{\"shape\":\"\"}},\"name\":\"Sant\\u00e9\",\"offsetgroup\":\"Sant\\u00e9\",\"orientation\":\"v\",\"showlegend\":true,\"textposition\":\"auto\",\"x\":[\"Sant\\u00e9\",\"Sant\\u00e9\",\"Sant\\u00e9\",\"Sant\\u00e9\",\"Sant\\u00e9\",\"Sant\\u00e9\",\"Sant\\u00e9\",\"Sant\\u00e9\",\"Sant\\u00e9\",\"Sant\\u00e9\",\"Sant\\u00e9\",\"Sant\\u00e9\"],\"xaxis\":\"x\",\"y\":[111,76,85,57,86,59,74,107,89,114,75,117],\"yaxis\":\"y\",\"type\":\"bar\"},{\"alignmentgroup\":\"True\",\"hovertemplate\":\"Thematiques=%{x}<br>Annee=2012<br>Totaux=%{y}<extra></extra>\",\"legendgroup\":\"Sciences et techniques\",\"marker\":{\"color\":\"#EF553B\",\"pattern\":{\"shape\":\"\"}},\"name\":\"Sciences et techniques\",\"offsetgroup\":\"Sciences et techniques\",\"orientation\":\"v\",\"showlegend\":true,\"textposition\":\"auto\",\"x\":[\"Sciences et techniques\",\"Sciences et techniques\",\"Sciences et techniques\",\"Sciences et techniques\",\"Sciences et techniques\",\"Sciences et techniques\",\"Sciences et techniques\",\"Sciences et techniques\",\"Sciences et techniques\",\"Sciences et techniques\",\"Sciences et techniques\",\"Sciences et techniques\"],\"xaxis\":\"x\",\"y\":[44,29,32,55,40,34,58,77,35,48,28,48],\"yaxis\":\"y\",\"type\":\"bar\"},{\"alignmentgroup\":\"True\",\"hovertemplate\":\"Thematiques=%{x}<br>Annee=2012<br>Totaux=%{y}<extra></extra>\",\"legendgroup\":\"Soci\\u00e9t\\u00e9\",\"marker\":{\"color\":\"#00cc96\",\"pattern\":{\"shape\":\"\"}},\"name\":\"Soci\\u00e9t\\u00e9\",\"offsetgroup\":\"Soci\\u00e9t\\u00e9\",\"orientation\":\"v\",\"showlegend\":true,\"textposition\":\"auto\",\"x\":[\"Soci\\u00e9t\\u00e9\",\"Soci\\u00e9t\\u00e9\",\"Soci\\u00e9t\\u00e9\",\"Soci\\u00e9t\\u00e9\",\"Soci\\u00e9t\\u00e9\",\"Soci\\u00e9t\\u00e9\",\"Soci\\u00e9t\\u00e9\",\"Soci\\u00e9t\\u00e9\",\"Soci\\u00e9t\\u00e9\",\"Soci\\u00e9t\\u00e9\",\"Soci\\u00e9t\\u00e9\",\"Soci\\u00e9t\\u00e9\"],\"xaxis\":\"x\",\"y\":[467,440,355,368,451,356,447,392,583,593,515,638],\"yaxis\":\"y\",\"type\":\"bar\"},{\"alignmentgroup\":\"True\",\"hovertemplate\":\"Thematiques=%{x}<br>Annee=2012<br>Totaux=%{y}<extra></extra>\",\"legendgroup\":\"Sport\",\"marker\":{\"color\":\"#ab63fa\",\"pattern\":{\"shape\":\"\"}},\"name\":\"Sport\",\"offsetgroup\":\"Sport\",\"orientation\":\"v\",\"showlegend\":true,\"textposition\":\"auto\",\"x\":[\"Sport\",\"Sport\",\"Sport\",\"Sport\",\"Sport\",\"Sport\",\"Sport\",\"Sport\",\"Sport\",\"Sport\",\"Sport\",\"Sport\"],\"xaxis\":\"x\",\"y\":[148,116,122,113,235,267,564,435,130,166,143,82],\"yaxis\":\"y\",\"type\":\"bar\"}],\"name\":\"2012\"},{\"data\":[{\"alignmentgroup\":\"True\",\"hovertemplate\":\"Thematiques=%{x}<br>Annee=2013<br>Totaux=%{y}<extra></extra>\",\"legendgroup\":\"Catastrophes\",\"marker\":{\"color\":\"#636efa\",\"pattern\":{\"shape\":\"\"}},\"name\":\"Catastrophes\",\"offsetgroup\":\"Catastrophes\",\"orientation\":\"v\",\"showlegend\":true,\"textposition\":\"auto\",\"x\":[\"Catastrophes\",\"Catastrophes\",\"Catastrophes\",\"Catastrophes\",\"Catastrophes\",\"Catastrophes\",\"Catastrophes\",\"Catastrophes\",\"Catastrophes\",\"Catastrophes\",\"Catastrophes\",\"Catastrophes\"],\"xaxis\":\"x\",\"y\":[215,108,188,122,210,229,454,173,97,211,189,242],\"yaxis\":\"y\",\"type\":\"bar\"},{\"alignmentgroup\":\"True\",\"hovertemplate\":\"Thematiques=%{x}<br>Annee=2013<br>Totaux=%{y}<extra></extra>\",\"legendgroup\":\"Culture-loisirs\",\"marker\":{\"color\":\"#EF553B\",\"pattern\":{\"shape\":\"\"}},\"name\":\"Culture-loisirs\",\"offsetgroup\":\"Culture-loisirs\",\"orientation\":\"v\",\"showlegend\":true,\"textposition\":\"auto\",\"x\":[\"Culture-loisirs\",\"Culture-loisirs\",\"Culture-loisirs\",\"Culture-loisirs\",\"Culture-loisirs\",\"Culture-loisirs\",\"Culture-loisirs\",\"Culture-loisirs\",\"Culture-loisirs\",\"Culture-loisirs\",\"Culture-loisirs\",\"Culture-loisirs\"],\"xaxis\":\"x\",\"y\":[260,202,168,228,224,215,243,222,200,259,187,270],\"yaxis\":\"y\",\"type\":\"bar\"},{\"alignmentgroup\":\"True\",\"hovertemplate\":\"Thematiques=%{x}<br>Annee=2013<br>Totaux=%{y}<extra></extra>\",\"legendgroup\":\"Economie\",\"marker\":{\"color\":\"#00cc96\",\"pattern\":{\"shape\":\"\"}},\"name\":\"Economie\",\"offsetgroup\":\"Economie\",\"orientation\":\"v\",\"showlegend\":true,\"textposition\":\"auto\",\"x\":[\"Economie\",\"Economie\",\"Economie\",\"Economie\",\"Economie\",\"Economie\",\"Economie\",\"Economie\",\"Economie\",\"Economie\",\"Economie\",\"Economie\"],\"xaxis\":\"x\",\"y\":[336,293,277,335,233,239,252,270,246,418,399,353],\"yaxis\":\"y\",\"type\":\"bar\"},{\"alignmentgroup\":\"True\",\"hovertemplate\":\"Thematiques=%{x}<br>Annee=2013<br>Totaux=%{y}<extra></extra>\",\"legendgroup\":\"Education\",\"marker\":{\"color\":\"#ab63fa\",\"pattern\":{\"shape\":\"\"}},\"name\":\"Education\",\"offsetgroup\":\"Education\",\"orientation\":\"v\",\"showlegend\":true,\"textposition\":\"auto\",\"x\":[\"Education\",\"Education\",\"Education\",\"Education\",\"Education\",\"Education\",\"Education\",\"Education\",\"Education\",\"Education\",\"Education\",\"Education\"],\"xaxis\":\"x\",\"y\":[51,68,38,56,63,87,37,55,90,52,36,43],\"yaxis\":\"y\",\"type\":\"bar\"},{\"alignmentgroup\":\"True\",\"hovertemplate\":\"Thematiques=%{x}<br>Annee=2013<br>Totaux=%{y}<extra></extra>\",\"legendgroup\":\"Environnement\",\"marker\":{\"color\":\"#FFA15A\",\"pattern\":{\"shape\":\"\"}},\"name\":\"Environnement\",\"offsetgroup\":\"Environnement\",\"orientation\":\"v\",\"showlegend\":true,\"textposition\":\"auto\",\"x\":[\"Environnement\",\"Environnement\",\"Environnement\",\"Environnement\",\"Environnement\",\"Environnement\",\"Environnement\",\"Environnement\",\"Environnement\",\"Environnement\",\"Environnement\",\"Environnement\"],\"xaxis\":\"x\",\"y\":[122,79,100,124,115,101,173,105,127,107,90,109],\"yaxis\":\"y\",\"type\":\"bar\"},{\"alignmentgroup\":\"True\",\"hovertemplate\":\"Thematiques=%{x}<br>Annee=2013<br>Totaux=%{y}<extra></extra>\",\"legendgroup\":\"Faits divers\",\"marker\":{\"color\":\"#19d3f3\",\"pattern\":{\"shape\":\"\"}},\"name\":\"Faits divers\",\"offsetgroup\":\"Faits divers\",\"orientation\":\"v\",\"showlegend\":true,\"textposition\":\"auto\",\"x\":[\"Faits divers\",\"Faits divers\",\"Faits divers\",\"Faits divers\",\"Faits divers\",\"Faits divers\",\"Faits divers\",\"Faits divers\",\"Faits divers\",\"Faits divers\",\"Faits divers\",\"Faits divers\"],\"xaxis\":\"x\",\"y\":[179,166,99,235,212,93,152,269,223,160,173,191],\"yaxis\":\"y\",\"type\":\"bar\"},{\"alignmentgroup\":\"True\",\"hovertemplate\":\"Thematiques=%{x}<br>Annee=2013<br>Totaux=%{y}<extra></extra>\",\"legendgroup\":\"Histoire-hommages\",\"marker\":{\"color\":\"#FF6692\",\"pattern\":{\"shape\":\"\"}},\"name\":\"Histoire-hommages\",\"offsetgroup\":\"Histoire-hommages\",\"orientation\":\"v\",\"showlegend\":true,\"textposition\":\"auto\",\"x\":[\"Histoire-hommages\",\"Histoire-hommages\",\"Histoire-hommages\",\"Histoire-hommages\",\"Histoire-hommages\",\"Histoire-hommages\",\"Histoire-hommages\",\"Histoire-hommages\",\"Histoire-hommages\",\"Histoire-hommages\",\"Histoire-hommages\",\"Histoire-hommages\"],\"xaxis\":\"x\",\"y\":[51,33,75,56,58,68,32,30,37,67,124,211],\"yaxis\":\"y\",\"type\":\"bar\"},{\"alignmentgroup\":\"True\",\"hovertemplate\":\"Thematiques=%{x}<br>Annee=2013<br>Totaux=%{y}<extra></extra>\",\"legendgroup\":\"International\",\"marker\":{\"color\":\"#B6E880\",\"pattern\":{\"shape\":\"\"}},\"name\":\"International\",\"offsetgroup\":\"International\",\"orientation\":\"v\",\"showlegend\":true,\"textposition\":\"auto\",\"x\":[\"International\",\"International\",\"International\",\"International\",\"International\",\"International\",\"International\",\"International\",\"International\",\"International\",\"International\",\"International\"],\"xaxis\":\"x\",\"y\":[709,512,363,579,280,387,448,434,529,437,379,518],\"yaxis\":\"y\",\"type\":\"bar\"},{\"alignmentgroup\":\"True\",\"hovertemplate\":\"Thematiques=%{x}<br>Annee=2013<br>Totaux=%{y}<extra></extra>\",\"legendgroup\":\"Justice\",\"marker\":{\"color\":\"#FF97FF\",\"pattern\":{\"shape\":\"\"}},\"name\":\"Justice\",\"offsetgroup\":\"Justice\",\"orientation\":\"v\",\"showlegend\":true,\"textposition\":\"auto\",\"x\":[\"Justice\",\"Justice\",\"Justice\",\"Justice\",\"Justice\",\"Justice\",\"Justice\",\"Justice\",\"Justice\",\"Justice\",\"Justice\",\"Justice\"],\"xaxis\":\"x\",\"y\":[193,95,181,188,187,214,204,127,96,155,110,114],\"yaxis\":\"y\",\"type\":\"bar\"},{\"alignmentgroup\":\"True\",\"hovertemplate\":\"Thematiques=%{x}<br>Annee=2013<br>Totaux=%{y}<extra></extra>\",\"legendgroup\":\"Politique France\",\"marker\":{\"color\":\"#FECB52\",\"pattern\":{\"shape\":\"\"}},\"name\":\"Politique France\",\"offsetgroup\":\"Politique France\",\"orientation\":\"v\",\"showlegend\":true,\"textposition\":\"auto\",\"x\":[\"Politique France\",\"Politique France\",\"Politique France\",\"Politique France\",\"Politique France\",\"Politique France\",\"Politique France\",\"Politique France\",\"Politique France\",\"Politique France\",\"Politique France\",\"Politique France\"],\"xaxis\":\"x\",\"y\":[125,82,186,426,250,240,260,115,155,306,136,150],\"yaxis\":\"y\",\"type\":\"bar\"},{\"alignmentgroup\":\"True\",\"hovertemplate\":\"Thematiques=%{x}<br>Annee=2013<br>Totaux=%{y}<extra></extra>\",\"legendgroup\":\"Sant\\u00e9\",\"marker\":{\"color\":\"#636efa\",\"pattern\":{\"shape\":\"\"}},\"name\":\"Sant\\u00e9\",\"offsetgroup\":\"Sant\\u00e9\",\"orientation\":\"v\",\"showlegend\":true,\"textposition\":\"auto\",\"x\":[\"Sant\\u00e9\",\"Sant\\u00e9\",\"Sant\\u00e9\",\"Sant\\u00e9\",\"Sant\\u00e9\",\"Sant\\u00e9\",\"Sant\\u00e9\",\"Sant\\u00e9\",\"Sant\\u00e9\",\"Sant\\u00e9\",\"Sant\\u00e9\",\"Sant\\u00e9\"],\"xaxis\":\"x\",\"y\":[104,77,76,119,131,110,89,58,72,125,59,88],\"yaxis\":\"y\",\"type\":\"bar\"},{\"alignmentgroup\":\"True\",\"hovertemplate\":\"Thematiques=%{x}<br>Annee=2013<br>Totaux=%{y}<extra></extra>\",\"legendgroup\":\"Sciences et techniques\",\"marker\":{\"color\":\"#EF553B\",\"pattern\":{\"shape\":\"\"}},\"name\":\"Sciences et techniques\",\"offsetgroup\":\"Sciences et techniques\",\"orientation\":\"v\",\"showlegend\":true,\"textposition\":\"auto\",\"x\":[\"Sciences et techniques\",\"Sciences et techniques\",\"Sciences et techniques\",\"Sciences et techniques\",\"Sciences et techniques\",\"Sciences et techniques\",\"Sciences et techniques\",\"Sciences et techniques\",\"Sciences et techniques\",\"Sciences et techniques\",\"Sciences et techniques\",\"Sciences et techniques\"],\"xaxis\":\"x\",\"y\":[46,52,44,49,47,33,52,61,38,66,46,60],\"yaxis\":\"y\",\"type\":\"bar\"},{\"alignmentgroup\":\"True\",\"hovertemplate\":\"Thematiques=%{x}<br>Annee=2013<br>Totaux=%{y}<extra></extra>\",\"legendgroup\":\"Soci\\u00e9t\\u00e9\",\"marker\":{\"color\":\"#00cc96\",\"pattern\":{\"shape\":\"\"}},\"name\":\"Soci\\u00e9t\\u00e9\",\"offsetgroup\":\"Soci\\u00e9t\\u00e9\",\"orientation\":\"v\",\"showlegend\":true,\"textposition\":\"auto\",\"x\":[\"Soci\\u00e9t\\u00e9\",\"Soci\\u00e9t\\u00e9\",\"Soci\\u00e9t\\u00e9\",\"Soci\\u00e9t\\u00e9\",\"Soci\\u00e9t\\u00e9\",\"Soci\\u00e9t\\u00e9\",\"Soci\\u00e9t\\u00e9\",\"Soci\\u00e9t\\u00e9\",\"Soci\\u00e9t\\u00e9\",\"Soci\\u00e9t\\u00e9\",\"Soci\\u00e9t\\u00e9\",\"Soci\\u00e9t\\u00e9\"],\"xaxis\":\"x\",\"y\":[674,705,658,507,392,432,695,466,371,579,379,617],\"yaxis\":\"y\",\"type\":\"bar\"},{\"alignmentgroup\":\"True\",\"hovertemplate\":\"Thematiques=%{x}<br>Annee=2013<br>Totaux=%{y}<extra></extra>\",\"legendgroup\":\"Sport\",\"marker\":{\"color\":\"#ab63fa\",\"pattern\":{\"shape\":\"\"}},\"name\":\"Sport\",\"offsetgroup\":\"Sport\",\"orientation\":\"v\",\"showlegend\":true,\"textposition\":\"auto\",\"x\":[\"Sport\",\"Sport\",\"Sport\",\"Sport\",\"Sport\",\"Sport\",\"Sport\",\"Sport\",\"Sport\",\"Sport\",\"Sport\",\"Sport\"],\"xaxis\":\"x\",\"y\":[175,143,102,140,194,184,266,163,140,161,163,113],\"yaxis\":\"y\",\"type\":\"bar\"}],\"name\":\"2013\"},{\"data\":[{\"alignmentgroup\":\"True\",\"hovertemplate\":\"Thematiques=%{x}<br>Annee=2014<br>Totaux=%{y}<extra></extra>\",\"legendgroup\":\"Catastrophes\",\"marker\":{\"color\":\"#636efa\",\"pattern\":{\"shape\":\"\"}},\"name\":\"Catastrophes\",\"offsetgroup\":\"Catastrophes\",\"orientation\":\"v\",\"showlegend\":true,\"textposition\":\"auto\",\"x\":[\"Catastrophes\",\"Catastrophes\",\"Catastrophes\",\"Catastrophes\",\"Catastrophes\",\"Catastrophes\",\"Catastrophes\",\"Catastrophes\",\"Catastrophes\",\"Catastrophes\",\"Catastrophes\",\"Catastrophes\"],\"xaxis\":\"x\",\"y\":[243,236,193,120,130,79,513,156,194,174,177,307],\"yaxis\":\"y\",\"type\":\"bar\"},{\"alignmentgroup\":\"True\",\"hovertemplate\":\"Thematiques=%{x}<br>Annee=2014<br>Totaux=%{y}<extra></extra>\",\"legendgroup\":\"Culture-loisirs\",\"marker\":{\"color\":\"#EF553B\",\"pattern\":{\"shape\":\"\"}},\"name\":\"Culture-loisirs\",\"offsetgroup\":\"Culture-loisirs\",\"orientation\":\"v\",\"showlegend\":true,\"textposition\":\"auto\",\"x\":[\"Culture-loisirs\",\"Culture-loisirs\",\"Culture-loisirs\",\"Culture-loisirs\",\"Culture-loisirs\",\"Culture-loisirs\",\"Culture-loisirs\",\"Culture-loisirs\",\"Culture-loisirs\",\"Culture-loisirs\",\"Culture-loisirs\",\"Culture-loisirs\"],\"xaxis\":\"x\",\"y\":[181,185,181,221,212,172,225,197,236,190,211,306],\"yaxis\":\"y\",\"type\":\"bar\"},{\"alignmentgroup\":\"True\",\"hovertemplate\":\"Thematiques=%{x}<br>Annee=2014<br>Totaux=%{y}<extra></extra>\",\"legendgroup\":\"Economie\",\"marker\":{\"color\":\"#00cc96\",\"pattern\":{\"shape\":\"\"}},\"name\":\"Economie\",\"offsetgroup\":\"Economie\",\"orientation\":\"v\",\"showlegend\":true,\"textposition\":\"auto\",\"x\":[\"Economie\",\"Economie\",\"Economie\",\"Economie\",\"Economie\",\"Economie\",\"Economie\",\"Economie\",\"Economie\",\"Economie\",\"Economie\",\"Economie\"],\"xaxis\":\"x\",\"y\":[210,268,184,291,237,165,222,241,290,274,214,316],\"yaxis\":\"y\",\"type\":\"bar\"},{\"alignmentgroup\":\"True\",\"hovertemplate\":\"Thematiques=%{x}<br>Annee=2014<br>Totaux=%{y}<extra></extra>\",\"legendgroup\":\"Education\",\"marker\":{\"color\":\"#ab63fa\",\"pattern\":{\"shape\":\"\"}},\"name\":\"Education\",\"offsetgroup\":\"Education\",\"orientation\":\"v\",\"showlegend\":true,\"textposition\":\"auto\",\"x\":[\"Education\",\"Education\",\"Education\",\"Education\",\"Education\",\"Education\",\"Education\",\"Education\",\"Education\",\"Education\",\"Education\",\"Education\"],\"xaxis\":\"x\",\"y\":[59,28,33,38,38,79,42,42,102,22,30,36],\"yaxis\":\"y\",\"type\":\"bar\"},{\"alignmentgroup\":\"True\",\"hovertemplate\":\"Thematiques=%{x}<br>Annee=2014<br>Totaux=%{y}<extra></extra>\",\"legendgroup\":\"Environnement\",\"marker\":{\"color\":\"#FFA15A\",\"pattern\":{\"shape\":\"\"}},\"name\":\"Environnement\",\"offsetgroup\":\"Environnement\",\"orientation\":\"v\",\"showlegend\":true,\"textposition\":\"auto\",\"x\":[\"Environnement\",\"Environnement\",\"Environnement\",\"Environnement\",\"Environnement\",\"Environnement\",\"Environnement\",\"Environnement\",\"Environnement\",\"Environnement\",\"Environnement\",\"Environnement\"],\"xaxis\":\"x\",\"y\":[129,177,188,79,64,66,104,79,95,184,160,139],\"yaxis\":\"y\",\"type\":\"bar\"},{\"alignmentgroup\":\"True\",\"hovertemplate\":\"Thematiques=%{x}<br>Annee=2014<br>Totaux=%{y}<extra></extra>\",\"legendgroup\":\"Faits divers\",\"marker\":{\"color\":\"#19d3f3\",\"pattern\":{\"shape\":\"\"}},\"name\":\"Faits divers\",\"offsetgroup\":\"Faits divers\",\"orientation\":\"v\",\"showlegend\":true,\"textposition\":\"auto\",\"x\":[\"Faits divers\",\"Faits divers\",\"Faits divers\",\"Faits divers\",\"Faits divers\",\"Faits divers\",\"Faits divers\",\"Faits divers\",\"Faits divers\",\"Faits divers\",\"Faits divers\",\"Faits divers\"],\"xaxis\":\"x\",\"y\":[109,124,72,160,132,105,117,116,128,105,114,159],\"yaxis\":\"y\",\"type\":\"bar\"},{\"alignmentgroup\":\"True\",\"hovertemplate\":\"Thematiques=%{x}<br>Annee=2014<br>Totaux=%{y}<extra></extra>\",\"legendgroup\":\"Histoire-hommages\",\"marker\":{\"color\":\"#FF6692\",\"pattern\":{\"shape\":\"\"}},\"name\":\"Histoire-hommages\",\"offsetgroup\":\"Histoire-hommages\",\"orientation\":\"v\",\"showlegend\":true,\"textposition\":\"auto\",\"x\":[\"Histoire-hommages\",\"Histoire-hommages\",\"Histoire-hommages\",\"Histoire-hommages\",\"Histoire-hommages\",\"Histoire-hommages\",\"Histoire-hommages\",\"Histoire-hommages\",\"Histoire-hommages\",\"Histoire-hommages\",\"Histoire-hommages\",\"Histoire-hommages\"],\"xaxis\":\"x\",\"y\":[61,37,57,89,82,192,69,132,35,27,90,49],\"yaxis\":\"y\",\"type\":\"bar\"},{\"alignmentgroup\":\"True\",\"hovertemplate\":\"Thematiques=%{x}<br>Annee=2014<br>Totaux=%{y}<extra></extra>\",\"legendgroup\":\"International\",\"marker\":{\"color\":\"#B6E880\",\"pattern\":{\"shape\":\"\"}},\"name\":\"International\",\"offsetgroup\":\"International\",\"orientation\":\"v\",\"showlegend\":true,\"textposition\":\"auto\",\"x\":[\"International\",\"International\",\"International\",\"International\",\"International\",\"International\",\"International\",\"International\",\"International\",\"International\",\"International\",\"International\"],\"xaxis\":\"x\",\"y\":[368,449,458,550,651,405,512,506,697,426,381,402],\"yaxis\":\"y\",\"type\":\"bar\"},{\"alignmentgroup\":\"True\",\"hovertemplate\":\"Thematiques=%{x}<br>Annee=2014<br>Totaux=%{y}<extra></extra>\",\"legendgroup\":\"Justice\",\"marker\":{\"color\":\"#FF97FF\",\"pattern\":{\"shape\":\"\"}},\"name\":\"Justice\",\"offsetgroup\":\"Justice\",\"orientation\":\"v\",\"showlegend\":true,\"textposition\":\"auto\",\"x\":[\"Justice\",\"Justice\",\"Justice\",\"Justice\",\"Justice\",\"Justice\",\"Justice\",\"Justice\",\"Justice\",\"Justice\",\"Justice\",\"Justice\"],\"xaxis\":\"x\",\"y\":[173,128,248,164,162,192,181,90,141,131,168,97],\"yaxis\":\"y\",\"type\":\"bar\"},{\"alignmentgroup\":\"True\",\"hovertemplate\":\"Thematiques=%{x}<br>Annee=2014<br>Totaux=%{y}<extra></extra>\",\"legendgroup\":\"Politique France\",\"marker\":{\"color\":\"#FECB52\",\"pattern\":{\"shape\":\"\"}},\"name\":\"Politique France\",\"offsetgroup\":\"Politique France\",\"orientation\":\"v\",\"showlegend\":true,\"textposition\":\"auto\",\"x\":[\"Politique France\",\"Politique France\",\"Politique France\",\"Politique France\",\"Politique France\",\"Politique France\",\"Politique France\",\"Politique France\",\"Politique France\",\"Politique France\",\"Politique France\",\"Politique France\"],\"xaxis\":\"x\",\"y\":[140,90,295,503,140,127,182,212,355,146,184,188],\"yaxis\":\"y\",\"type\":\"bar\"},{\"alignmentgroup\":\"True\",\"hovertemplate\":\"Thematiques=%{x}<br>Annee=2014<br>Totaux=%{y}<extra></extra>\",\"legendgroup\":\"Sant\\u00e9\",\"marker\":{\"color\":\"#636efa\",\"pattern\":{\"shape\":\"\"}},\"name\":\"Sant\\u00e9\",\"offsetgroup\":\"Sant\\u00e9\",\"orientation\":\"v\",\"showlegend\":true,\"textposition\":\"auto\",\"x\":[\"Sant\\u00e9\",\"Sant\\u00e9\",\"Sant\\u00e9\",\"Sant\\u00e9\",\"Sant\\u00e9\",\"Sant\\u00e9\",\"Sant\\u00e9\",\"Sant\\u00e9\",\"Sant\\u00e9\",\"Sant\\u00e9\",\"Sant\\u00e9\",\"Sant\\u00e9\"],\"xaxis\":\"x\",\"y\":[111,67,77,90,69,34,70,89,127,218,79,118],\"yaxis\":\"y\",\"type\":\"bar\"},{\"alignmentgroup\":\"True\",\"hovertemplate\":\"Thematiques=%{x}<br>Annee=2014<br>Totaux=%{y}<extra></extra>\",\"legendgroup\":\"Sciences et techniques\",\"marker\":{\"color\":\"#EF553B\",\"pattern\":{\"shape\":\"\"}},\"name\":\"Sciences et techniques\",\"offsetgroup\":\"Sciences et techniques\",\"orientation\":\"v\",\"showlegend\":true,\"textposition\":\"auto\",\"x\":[\"Sciences et techniques\",\"Sciences et techniques\",\"Sciences et techniques\",\"Sciences et techniques\",\"Sciences et techniques\",\"Sciences et techniques\",\"Sciences et techniques\",\"Sciences et techniques\",\"Sciences et techniques\",\"Sciences et techniques\",\"Sciences et techniques\",\"Sciences et techniques\"],\"xaxis\":\"x\",\"y\":[52,38,43,66,43,27,38,49,47,42,71,43],\"yaxis\":\"y\",\"type\":\"bar\"},{\"alignmentgroup\":\"True\",\"hovertemplate\":\"Thematiques=%{x}<br>Annee=2014<br>Totaux=%{y}<extra></extra>\",\"legendgroup\":\"Soci\\u00e9t\\u00e9\",\"marker\":{\"color\":\"#00cc96\",\"pattern\":{\"shape\":\"\"}},\"name\":\"Soci\\u00e9t\\u00e9\",\"offsetgroup\":\"Soci\\u00e9t\\u00e9\",\"orientation\":\"v\",\"showlegend\":true,\"textposition\":\"auto\",\"x\":[\"Soci\\u00e9t\\u00e9\",\"Soci\\u00e9t\\u00e9\",\"Soci\\u00e9t\\u00e9\",\"Soci\\u00e9t\\u00e9\",\"Soci\\u00e9t\\u00e9\",\"Soci\\u00e9t\\u00e9\",\"Soci\\u00e9t\\u00e9\",\"Soci\\u00e9t\\u00e9\",\"Soci\\u00e9t\\u00e9\",\"Soci\\u00e9t\\u00e9\",\"Soci\\u00e9t\\u00e9\",\"Soci\\u00e9t\\u00e9\"],\"xaxis\":\"x\",\"y\":[533,415,300,496,339,471,483,364,484,383,391,682],\"yaxis\":\"y\",\"type\":\"bar\"},{\"alignmentgroup\":\"True\",\"hovertemplate\":\"Thematiques=%{x}<br>Annee=2014<br>Totaux=%{y}<extra></extra>\",\"legendgroup\":\"Sport\",\"marker\":{\"color\":\"#ab63fa\",\"pattern\":{\"shape\":\"\"}},\"name\":\"Sport\",\"offsetgroup\":\"Sport\",\"orientation\":\"v\",\"showlegend\":true,\"textposition\":\"auto\",\"x\":[\"Sport\",\"Sport\",\"Sport\",\"Sport\",\"Sport\",\"Sport\",\"Sport\",\"Sport\",\"Sport\",\"Sport\",\"Sport\",\"Sport\"],\"xaxis\":\"x\",\"y\":[143,285,122,180,179,425,487,218,166,155,174,134],\"yaxis\":\"y\",\"type\":\"bar\"}],\"name\":\"2014\"},{\"data\":[{\"alignmentgroup\":\"True\",\"hovertemplate\":\"Thematiques=%{x}<br>Annee=2015<br>Totaux=%{y}<extra></extra>\",\"legendgroup\":\"Catastrophes\",\"marker\":{\"color\":\"#636efa\",\"pattern\":{\"shape\":\"\"}},\"name\":\"Catastrophes\",\"offsetgroup\":\"Catastrophes\",\"orientation\":\"v\",\"showlegend\":true,\"textposition\":\"auto\",\"x\":[\"Catastrophes\",\"Catastrophes\",\"Catastrophes\",\"Catastrophes\",\"Catastrophes\",\"Catastrophes\",\"Catastrophes\",\"Catastrophes\",\"Catastrophes\",\"Catastrophes\",\"Catastrophes\",\"Catastrophes\"],\"xaxis\":\"x\",\"y\":[137,156,418,280,112,118,184,216,134,280,170,61],\"yaxis\":\"y\",\"type\":\"bar\"},{\"alignmentgroup\":\"True\",\"hovertemplate\":\"Thematiques=%{x}<br>Annee=2015<br>Totaux=%{y}<extra></extra>\",\"legendgroup\":\"Culture-loisirs\",\"marker\":{\"color\":\"#EF553B\",\"pattern\":{\"shape\":\"\"}},\"name\":\"Culture-loisirs\",\"offsetgroup\":\"Culture-loisirs\",\"orientation\":\"v\",\"showlegend\":true,\"textposition\":\"auto\",\"x\":[\"Culture-loisirs\",\"Culture-loisirs\",\"Culture-loisirs\",\"Culture-loisirs\",\"Culture-loisirs\",\"Culture-loisirs\",\"Culture-loisirs\",\"Culture-loisirs\",\"Culture-loisirs\",\"Culture-loisirs\",\"Culture-loisirs\",\"Culture-loisirs\"],\"xaxis\":\"x\",\"y\":[191,207,192,214,225,238,223,206,202,187,131,258],\"yaxis\":\"y\",\"type\":\"bar\"},{\"alignmentgroup\":\"True\",\"hovertemplate\":\"Thematiques=%{x}<br>Annee=2015<br>Totaux=%{y}<extra></extra>\",\"legendgroup\":\"Economie\",\"marker\":{\"color\":\"#00cc96\",\"pattern\":{\"shape\":\"\"}},\"name\":\"Economie\",\"offsetgroup\":\"Economie\",\"orientation\":\"v\",\"showlegend\":true,\"textposition\":\"auto\",\"x\":[\"Economie\",\"Economie\",\"Economie\",\"Economie\",\"Economie\",\"Economie\",\"Economie\",\"Economie\",\"Economie\",\"Economie\",\"Economie\",\"Economie\"],\"xaxis\":\"x\",\"y\":[147,377,204,246,227,435,560,383,265,148,145,203],\"yaxis\":\"y\",\"type\":\"bar\"},{\"alignmentgroup\":\"True\",\"hovertemplate\":\"Thematiques=%{x}<br>Annee=2015<br>Totaux=%{y}<extra></extra>\",\"legendgroup\":\"Education\",\"marker\":{\"color\":\"#ab63fa\",\"pattern\":{\"shape\":\"\"}},\"name\":\"Education\",\"offsetgroup\":\"Education\",\"orientation\":\"v\",\"showlegend\":true,\"textposition\":\"auto\",\"x\":[\"Education\",\"Education\",\"Education\",\"Education\",\"Education\",\"Education\",\"Education\",\"Education\",\"Education\",\"Education\",\"Education\",\"Education\"],\"xaxis\":\"x\",\"y\":[37,40,46,34,93,68,25,40,98,42,16,24],\"yaxis\":\"y\",\"type\":\"bar\"},{\"alignmentgroup\":\"True\",\"hovertemplate\":\"Thematiques=%{x}<br>Annee=2015<br>Totaux=%{y}<extra></extra>\",\"legendgroup\":\"Environnement\",\"marker\":{\"color\":\"#FFA15A\",\"pattern\":{\"shape\":\"\"}},\"name\":\"Environnement\",\"offsetgroup\":\"Environnement\",\"orientation\":\"v\",\"showlegend\":true,\"textposition\":\"auto\",\"x\":[\"Environnement\",\"Environnement\",\"Environnement\",\"Environnement\",\"Environnement\",\"Environnement\",\"Environnement\",\"Environnement\",\"Environnement\",\"Environnement\",\"Environnement\",\"Environnement\"],\"xaxis\":\"x\",\"y\":[57,108,174,60,78,137,109,123,195,111,161,365],\"yaxis\":\"y\",\"type\":\"bar\"},{\"alignmentgroup\":\"True\",\"hovertemplate\":\"Thematiques=%{x}<br>Annee=2015<br>Totaux=%{y}<extra></extra>\",\"legendgroup\":\"Faits divers\",\"marker\":{\"color\":\"#19d3f3\",\"pattern\":{\"shape\":\"\"}},\"name\":\"Faits divers\",\"offsetgroup\":\"Faits divers\",\"orientation\":\"v\",\"showlegend\":true,\"textposition\":\"auto\",\"x\":[\"Faits divers\",\"Faits divers\",\"Faits divers\",\"Faits divers\",\"Faits divers\",\"Faits divers\",\"Faits divers\",\"Faits divers\",\"Faits divers\",\"Faits divers\",\"Faits divers\",\"Faits divers\"],\"xaxis\":\"x\",\"y\":[32,107,239,221,78,129,66,117,75,108,45,104],\"yaxis\":\"y\",\"type\":\"bar\"},{\"alignmentgroup\":\"True\",\"hovertemplate\":\"Thematiques=%{x}<br>Annee=2015<br>Totaux=%{y}<extra></extra>\",\"legendgroup\":\"Histoire-hommages\",\"marker\":{\"color\":\"#FF6692\",\"pattern\":{\"shape\":\"\"}},\"name\":\"Histoire-hommages\",\"offsetgroup\":\"Histoire-hommages\",\"orientation\":\"v\",\"showlegend\":true,\"textposition\":\"auto\",\"x\":[\"Histoire-hommages\",\"Histoire-hommages\",\"Histoire-hommages\",\"Histoire-hommages\",\"Histoire-hommages\",\"Histoire-hommages\",\"Histoire-hommages\",\"Histoire-hommages\",\"Histoire-hommages\",\"Histoire-hommages\",\"Histoire-hommages\",\"Histoire-hommages\"],\"xaxis\":\"x\",\"y\":[77,44,32,139,96,77,31,32,39,27,38,28],\"yaxis\":\"y\",\"type\":\"bar\"},{\"alignmentgroup\":\"True\",\"hovertemplate\":\"Thematiques=%{x}<br>Annee=2015<br>Totaux=%{y}<extra></extra>\",\"legendgroup\":\"International\",\"marker\":{\"color\":\"#B6E880\",\"pattern\":{\"shape\":\"\"}},\"name\":\"International\",\"offsetgroup\":\"International\",\"orientation\":\"v\",\"showlegend\":true,\"textposition\":\"auto\",\"x\":[\"International\",\"International\",\"International\",\"International\",\"International\",\"International\",\"International\",\"International\",\"International\",\"International\",\"International\",\"International\"],\"xaxis\":\"x\",\"y\":[421,434,458,258,412,518,367,334,620,433,560,429],\"yaxis\":\"y\",\"type\":\"bar\"},{\"alignmentgroup\":\"True\",\"hovertemplate\":\"Thematiques=%{x}<br>Annee=2015<br>Totaux=%{y}<extra></extra>\",\"legendgroup\":\"Justice\",\"marker\":{\"color\":\"#FF97FF\",\"pattern\":{\"shape\":\"\"}},\"name\":\"Justice\",\"offsetgroup\":\"Justice\",\"orientation\":\"v\",\"showlegend\":true,\"textposition\":\"auto\",\"x\":[\"Justice\",\"Justice\",\"Justice\",\"Justice\",\"Justice\",\"Justice\",\"Justice\",\"Justice\",\"Justice\",\"Justice\",\"Justice\",\"Justice\"],\"xaxis\":\"x\",\"y\":[71,128,108,101,114,149,64,62,106,139,78,85],\"yaxis\":\"y\",\"type\":\"bar\"},{\"alignmentgroup\":\"True\",\"hovertemplate\":\"Thematiques=%{x}<br>Annee=2015<br>Totaux=%{y}<extra></extra>\",\"legendgroup\":\"Politique France\",\"marker\":{\"color\":\"#FECB52\",\"pattern\":{\"shape\":\"\"}},\"name\":\"Politique France\",\"offsetgroup\":\"Politique France\",\"orientation\":\"v\",\"showlegend\":true,\"textposition\":\"auto\",\"x\":[\"Politique France\",\"Politique France\",\"Politique France\",\"Politique France\",\"Politique France\",\"Politique France\",\"Politique France\",\"Politique France\",\"Politique France\",\"Politique France\",\"Politique France\",\"Politique France\"],\"xaxis\":\"x\",\"y\":[957,220,438,233,148,357,158,243,286,147,819,588],\"yaxis\":\"y\",\"type\":\"bar\"},{\"alignmentgroup\":\"True\",\"hovertemplate\":\"Thematiques=%{x}<br>Annee=2015<br>Totaux=%{y}<extra></extra>\",\"legendgroup\":\"Sant\\u00e9\",\"marker\":{\"color\":\"#636efa\",\"pattern\":{\"shape\":\"\"}},\"name\":\"Sant\\u00e9\",\"offsetgroup\":\"Sant\\u00e9\",\"orientation\":\"v\",\"showlegend\":true,\"textposition\":\"auto\",\"x\":[\"Sant\\u00e9\",\"Sant\\u00e9\",\"Sant\\u00e9\",\"Sant\\u00e9\",\"Sant\\u00e9\",\"Sant\\u00e9\",\"Sant\\u00e9\",\"Sant\\u00e9\",\"Sant\\u00e9\",\"Sant\\u00e9\",\"Sant\\u00e9\",\"Sant\\u00e9\"],\"xaxis\":\"x\",\"y\":[75,64,103,72,84,92,52,43,66,68,49,73],\"yaxis\":\"y\",\"type\":\"bar\"},{\"alignmentgroup\":\"True\",\"hovertemplate\":\"Thematiques=%{x}<br>Annee=2015<br>Totaux=%{y}<extra></extra>\",\"legendgroup\":\"Sciences et techniques\",\"marker\":{\"color\":\"#EF553B\",\"pattern\":{\"shape\":\"\"}},\"name\":\"Sciences et techniques\",\"offsetgroup\":\"Sciences et techniques\",\"orientation\":\"v\",\"showlegend\":true,\"textposition\":\"auto\",\"x\":[\"Sciences et techniques\",\"Sciences et techniques\",\"Sciences et techniques\",\"Sciences et techniques\",\"Sciences et techniques\",\"Sciences et techniques\",\"Sciences et techniques\",\"Sciences et techniques\",\"Sciences et techniques\",\"Sciences et techniques\",\"Sciences et techniques\",\"Sciences et techniques\"],\"xaxis\":\"x\",\"y\":[25,31,75,49,43,62,58,63,65,32,39,32],\"yaxis\":\"y\",\"type\":\"bar\"},{\"alignmentgroup\":\"True\",\"hovertemplate\":\"Thematiques=%{x}<br>Annee=2015<br>Totaux=%{y}<extra></extra>\",\"legendgroup\":\"Soci\\u00e9t\\u00e9\",\"marker\":{\"color\":\"#00cc96\",\"pattern\":{\"shape\":\"\"}},\"name\":\"Soci\\u00e9t\\u00e9\",\"offsetgroup\":\"Soci\\u00e9t\\u00e9\",\"orientation\":\"v\",\"showlegend\":true,\"textposition\":\"auto\",\"x\":[\"Soci\\u00e9t\\u00e9\",\"Soci\\u00e9t\\u00e9\",\"Soci\\u00e9t\\u00e9\",\"Soci\\u00e9t\\u00e9\",\"Soci\\u00e9t\\u00e9\",\"Soci\\u00e9t\\u00e9\",\"Soci\\u00e9t\\u00e9\",\"Soci\\u00e9t\\u00e9\",\"Soci\\u00e9t\\u00e9\",\"Soci\\u00e9t\\u00e9\",\"Soci\\u00e9t\\u00e9\",\"Soci\\u00e9t\\u00e9\"],\"xaxis\":\"x\",\"y\":[368,309,415,384,378,432,344,365,450,402,185,376],\"yaxis\":\"y\",\"type\":\"bar\"},{\"alignmentgroup\":\"True\",\"hovertemplate\":\"Thematiques=%{x}<br>Annee=2015<br>Totaux=%{y}<extra></extra>\",\"legendgroup\":\"Sport\",\"marker\":{\"color\":\"#ab63fa\",\"pattern\":{\"shape\":\"\"}},\"name\":\"Sport\",\"offsetgroup\":\"Sport\",\"orientation\":\"v\",\"showlegend\":true,\"textposition\":\"auto\",\"x\":[\"Sport\",\"Sport\",\"Sport\",\"Sport\",\"Sport\",\"Sport\",\"Sport\",\"Sport\",\"Sport\",\"Sport\",\"Sport\",\"Sport\"],\"xaxis\":\"x\",\"y\":[97,162,173,125,172,244,250,181,227,163,89,115],\"yaxis\":\"y\",\"type\":\"bar\"}],\"name\":\"2015\"},{\"data\":[{\"alignmentgroup\":\"True\",\"hovertemplate\":\"Thematiques=%{x}<br>Annee=2016<br>Totaux=%{y}<extra></extra>\",\"legendgroup\":\"Catastrophes\",\"marker\":{\"color\":\"#636efa\",\"pattern\":{\"shape\":\"\"}},\"name\":\"Catastrophes\",\"offsetgroup\":\"Catastrophes\",\"orientation\":\"v\",\"showlegend\":true,\"textposition\":\"auto\",\"x\":[\"Catastrophes\",\"Catastrophes\",\"Catastrophes\",\"Catastrophes\",\"Catastrophes\",\"Catastrophes\",\"Catastrophes\",\"Catastrophes\",\"Catastrophes\",\"Catastrophes\",\"Catastrophes\",\"Catastrophes\"],\"xaxis\":\"x\",\"y\":[123,192,95,79,431,215,83,236,74,131,118,57],\"yaxis\":\"y\",\"type\":\"bar\"},{\"alignmentgroup\":\"True\",\"hovertemplate\":\"Thematiques=%{x}<br>Annee=2016<br>Totaux=%{y}<extra></extra>\",\"legendgroup\":\"Culture-loisirs\",\"marker\":{\"color\":\"#EF553B\",\"pattern\":{\"shape\":\"\"}},\"name\":\"Culture-loisirs\",\"offsetgroup\":\"Culture-loisirs\",\"orientation\":\"v\",\"showlegend\":true,\"textposition\":\"auto\",\"x\":[\"Culture-loisirs\",\"Culture-loisirs\",\"Culture-loisirs\",\"Culture-loisirs\",\"Culture-loisirs\",\"Culture-loisirs\",\"Culture-loisirs\",\"Culture-loisirs\",\"Culture-loisirs\",\"Culture-loisirs\",\"Culture-loisirs\",\"Culture-loisirs\"],\"xaxis\":\"x\",\"y\":[179,190,221,163,265,110,136,200,167,150,146,181],\"yaxis\":\"y\",\"type\":\"bar\"},{\"alignmentgroup\":\"True\",\"hovertemplate\":\"Thematiques=%{x}<br>Annee=2016<br>Totaux=%{y}<extra></extra>\",\"legendgroup\":\"Economie\",\"marker\":{\"color\":\"#00cc96\",\"pattern\":{\"shape\":\"\"}},\"name\":\"Economie\",\"offsetgroup\":\"Economie\",\"orientation\":\"v\",\"showlegend\":true,\"textposition\":\"auto\",\"x\":[\"Economie\",\"Economie\",\"Economie\",\"Economie\",\"Economie\",\"Economie\",\"Economie\",\"Economie\",\"Economie\",\"Economie\",\"Economie\",\"Economie\"],\"xaxis\":\"x\",\"y\":[187,288,260,222,200,89,112,259,237,189,171,162],\"yaxis\":\"y\",\"type\":\"bar\"},{\"alignmentgroup\":\"True\",\"hovertemplate\":\"Thematiques=%{x}<br>Annee=2016<br>Totaux=%{y}<extra></extra>\",\"legendgroup\":\"Education\",\"marker\":{\"color\":\"#ab63fa\",\"pattern\":{\"shape\":\"\"}},\"name\":\"Education\",\"offsetgroup\":\"Education\",\"orientation\":\"v\",\"showlegend\":true,\"textposition\":\"auto\",\"x\":[\"Education\",\"Education\",\"Education\",\"Education\",\"Education\",\"Education\",\"Education\",\"Education\",\"Education\",\"Education\",\"Education\",\"Education\"],\"xaxis\":\"x\",\"y\":[43,22,27,36,54,39,21,60,36,34,35,21],\"yaxis\":\"y\",\"type\":\"bar\"},{\"alignmentgroup\":\"True\",\"hovertemplate\":\"Thematiques=%{x}<br>Annee=2016<br>Totaux=%{y}<extra></extra>\",\"legendgroup\":\"Environnement\",\"marker\":{\"color\":\"#FFA15A\",\"pattern\":{\"shape\":\"\"}},\"name\":\"Environnement\",\"offsetgroup\":\"Environnement\",\"orientation\":\"v\",\"showlegend\":true,\"textposition\":\"auto\",\"x\":[\"Environnement\",\"Environnement\",\"Environnement\",\"Environnement\",\"Environnement\",\"Environnement\",\"Environnement\",\"Environnement\",\"Environnement\",\"Environnement\",\"Environnement\",\"Environnement\"],\"xaxis\":\"x\",\"y\":[128,55,80,93,75,58,32,89,76,55,73,120],\"yaxis\":\"y\",\"type\":\"bar\"},{\"alignmentgroup\":\"True\",\"hovertemplate\":\"Thematiques=%{x}<br>Annee=2016<br>Totaux=%{y}<extra></extra>\",\"legendgroup\":\"Faits divers\",\"marker\":{\"color\":\"#19d3f3\",\"pattern\":{\"shape\":\"\"}},\"name\":\"Faits divers\",\"offsetgroup\":\"Faits divers\",\"orientation\":\"v\",\"showlegend\":true,\"textposition\":\"auto\",\"x\":[\"Faits divers\",\"Faits divers\",\"Faits divers\",\"Faits divers\",\"Faits divers\",\"Faits divers\",\"Faits divers\",\"Faits divers\",\"Faits divers\",\"Faits divers\",\"Faits divers\",\"Faits divers\"],\"xaxis\":\"x\",\"y\":[126,78,85,74,117,57,52,108,65,123,75,48],\"yaxis\":\"y\",\"type\":\"bar\"},{\"alignmentgroup\":\"True\",\"hovertemplate\":\"Thematiques=%{x}<br>Annee=2016<br>Totaux=%{y}<extra></extra>\",\"legendgroup\":\"Histoire-hommages\",\"marker\":{\"color\":\"#FF6692\",\"pattern\":{\"shape\":\"\"}},\"name\":\"Histoire-hommages\",\"offsetgroup\":\"Histoire-hommages\",\"orientation\":\"v\",\"showlegend\":true,\"textposition\":\"auto\",\"x\":[\"Histoire-hommages\",\"Histoire-hommages\",\"Histoire-hommages\",\"Histoire-hommages\",\"Histoire-hommages\",\"Histoire-hommages\",\"Histoire-hommages\",\"Histoire-hommages\",\"Histoire-hommages\",\"Histoire-hommages\",\"Histoire-hommages\",\"Histoire-hommages\"],\"xaxis\":\"x\",\"y\":[126,38,78,63,85,60,60,32,61,33,83,90],\"yaxis\":\"y\",\"type\":\"bar\"},{\"alignmentgroup\":\"True\",\"hovertemplate\":\"Thematiques=%{x}<br>Annee=2016<br>Totaux=%{y}<extra></extra>\",\"legendgroup\":\"International\",\"marker\":{\"color\":\"#B6E880\",\"pattern\":{\"shape\":\"\"}},\"name\":\"International\",\"offsetgroup\":\"International\",\"orientation\":\"v\",\"showlegend\":true,\"textposition\":\"auto\",\"x\":[\"International\",\"International\",\"International\",\"International\",\"International\",\"International\",\"International\",\"International\",\"International\",\"International\",\"International\",\"International\"],\"xaxis\":\"x\",\"y\":[326,432,941,418,379,610,348,358,354,412,576,492],\"yaxis\":\"y\",\"type\":\"bar\"},{\"alignmentgroup\":\"True\",\"hovertemplate\":\"Thematiques=%{x}<br>Annee=2016<br>Totaux=%{y}<extra></extra>\",\"legendgroup\":\"Justice\",\"marker\":{\"color\":\"#FF97FF\",\"pattern\":{\"shape\":\"\"}},\"name\":\"Justice\",\"offsetgroup\":\"Justice\",\"orientation\":\"v\",\"showlegend\":true,\"textposition\":\"auto\",\"x\":[\"Justice\",\"Justice\",\"Justice\",\"Justice\",\"Justice\",\"Justice\",\"Justice\",\"Justice\",\"Justice\",\"Justice\",\"Justice\",\"Justice\"],\"xaxis\":\"x\",\"y\":[107,108,67,156,109,42,39,69,111,42,63,121],\"yaxis\":\"y\",\"type\":\"bar\"},{\"alignmentgroup\":\"True\",\"hovertemplate\":\"Thematiques=%{x}<br>Annee=2016<br>Totaux=%{y}<extra></extra>\",\"legendgroup\":\"Politique France\",\"marker\":{\"color\":\"#FECB52\",\"pattern\":{\"shape\":\"\"}},\"name\":\"Politique France\",\"offsetgroup\":\"Politique France\",\"orientation\":\"v\",\"showlegend\":true,\"textposition\":\"auto\",\"x\":[\"Politique France\",\"Politique France\",\"Politique France\",\"Politique France\",\"Politique France\",\"Politique France\",\"Politique France\",\"Politique France\",\"Politique France\",\"Politique France\",\"Politique France\",\"Politique France\"],\"xaxis\":\"x\",\"y\":[365,293,263,179,203,285,643,289,336,357,696,235],\"yaxis\":\"y\",\"type\":\"bar\"},{\"alignmentgroup\":\"True\",\"hovertemplate\":\"Thematiques=%{x}<br>Annee=2016<br>Totaux=%{y}<extra></extra>\",\"legendgroup\":\"Sant\\u00e9\",\"marker\":{\"color\":\"#636efa\",\"pattern\":{\"shape\":\"\"}},\"name\":\"Sant\\u00e9\",\"offsetgroup\":\"Sant\\u00e9\",\"orientation\":\"v\",\"showlegend\":true,\"textposition\":\"auto\",\"x\":[\"Sant\\u00e9\",\"Sant\\u00e9\",\"Sant\\u00e9\",\"Sant\\u00e9\",\"Sant\\u00e9\",\"Sant\\u00e9\",\"Sant\\u00e9\",\"Sant\\u00e9\",\"Sant\\u00e9\",\"Sant\\u00e9\",\"Sant\\u00e9\",\"Sant\\u00e9\"],\"xaxis\":\"x\",\"y\":[101,66,74,60,52,22,23,39,68,48,66,59],\"yaxis\":\"y\",\"type\":\"bar\"},{\"alignmentgroup\":\"True\",\"hovertemplate\":\"Thematiques=%{x}<br>Annee=2016<br>Totaux=%{y}<extra></extra>\",\"legendgroup\":\"Sciences et techniques\",\"marker\":{\"color\":\"#EF553B\",\"pattern\":{\"shape\":\"\"}},\"name\":\"Sciences et techniques\",\"offsetgroup\":\"Sciences et techniques\",\"orientation\":\"v\",\"showlegend\":true,\"textposition\":\"auto\",\"x\":[\"Sciences et techniques\",\"Sciences et techniques\",\"Sciences et techniques\",\"Sciences et techniques\",\"Sciences et techniques\",\"Sciences et techniques\",\"Sciences et techniques\",\"Sciences et techniques\",\"Sciences et techniques\",\"Sciences et techniques\",\"Sciences et techniques\",\"Sciences et techniques\"],\"xaxis\":\"x\",\"y\":[42,32,70,68,57,26,37,42,52,46,87,34],\"yaxis\":\"y\",\"type\":\"bar\"},{\"alignmentgroup\":\"True\",\"hovertemplate\":\"Thematiques=%{x}<br>Annee=2016<br>Totaux=%{y}<extra></extra>\",\"legendgroup\":\"Soci\\u00e9t\\u00e9\",\"marker\":{\"color\":\"#00cc96\",\"pattern\":{\"shape\":\"\"}},\"name\":\"Soci\\u00e9t\\u00e9\",\"offsetgroup\":\"Soci\\u00e9t\\u00e9\",\"orientation\":\"v\",\"showlegend\":true,\"textposition\":\"auto\",\"x\":[\"Soci\\u00e9t\\u00e9\",\"Soci\\u00e9t\\u00e9\",\"Soci\\u00e9t\\u00e9\",\"Soci\\u00e9t\\u00e9\",\"Soci\\u00e9t\\u00e9\",\"Soci\\u00e9t\\u00e9\",\"Soci\\u00e9t\\u00e9\",\"Soci\\u00e9t\\u00e9\",\"Soci\\u00e9t\\u00e9\",\"Soci\\u00e9t\\u00e9\",\"Soci\\u00e9t\\u00e9\",\"Soci\\u00e9t\\u00e9\"],\"xaxis\":\"x\",\"y\":[402,368,531,533,694,323,208,320,289,259,279,322],\"yaxis\":\"y\",\"type\":\"bar\"},{\"alignmentgroup\":\"True\",\"hovertemplate\":\"Thematiques=%{x}<br>Annee=2016<br>Totaux=%{y}<extra></extra>\",\"legendgroup\":\"Sport\",\"marker\":{\"color\":\"#ab63fa\",\"pattern\":{\"shape\":\"\"}},\"name\":\"Sport\",\"offsetgroup\":\"Sport\",\"orientation\":\"v\",\"showlegend\":true,\"textposition\":\"auto\",\"x\":[\"Sport\",\"Sport\",\"Sport\",\"Sport\",\"Sport\",\"Sport\",\"Sport\",\"Sport\",\"Sport\",\"Sport\",\"Sport\",\"Sport\"],\"xaxis\":\"x\",\"y\":[86,115,139,147,241,530,475,443,109,59,93,82],\"yaxis\":\"y\",\"type\":\"bar\"}],\"name\":\"2016\"},{\"data\":[{\"alignmentgroup\":\"True\",\"hovertemplate\":\"Thematiques=%{x}<br>Annee=2017<br>Totaux=%{y}<extra></extra>\",\"legendgroup\":\"Catastrophes\",\"marker\":{\"color\":\"#636efa\",\"pattern\":{\"shape\":\"\"}},\"name\":\"Catastrophes\",\"offsetgroup\":\"Catastrophes\",\"orientation\":\"v\",\"showlegend\":true,\"textposition\":\"auto\",\"x\":[\"Catastrophes\",\"Catastrophes\",\"Catastrophes\",\"Catastrophes\",\"Catastrophes\",\"Catastrophes\",\"Catastrophes\",\"Catastrophes\",\"Catastrophes\",\"Catastrophes\",\"Catastrophes\",\"Catastrophes\"],\"xaxis\":\"x\",\"y\":[207,86,46,33,40,109,219,241,430,134,79,219],\"yaxis\":\"y\",\"type\":\"bar\"},{\"alignmentgroup\":\"True\",\"hovertemplate\":\"Thematiques=%{x}<br>Annee=2017<br>Totaux=%{y}<extra></extra>\",\"legendgroup\":\"Culture-loisirs\",\"marker\":{\"color\":\"#EF553B\",\"pattern\":{\"shape\":\"\"}},\"name\":\"Culture-loisirs\",\"offsetgroup\":\"Culture-loisirs\",\"orientation\":\"v\",\"showlegend\":true,\"textposition\":\"auto\",\"x\":[\"Culture-loisirs\",\"Culture-loisirs\",\"Culture-loisirs\",\"Culture-loisirs\",\"Culture-loisirs\",\"Culture-loisirs\",\"Culture-loisirs\",\"Culture-loisirs\",\"Culture-loisirs\",\"Culture-loisirs\",\"Culture-loisirs\",\"Culture-loisirs\"],\"xaxis\":\"x\",\"y\":[197,192,126,106,165,125,149,201,140,194,140,131],\"yaxis\":\"y\",\"type\":\"bar\"},{\"alignmentgroup\":\"True\",\"hovertemplate\":\"Thematiques=%{x}<br>Annee=2017<br>Totaux=%{y}<extra></extra>\",\"legendgroup\":\"Economie\",\"marker\":{\"color\":\"#00cc96\",\"pattern\":{\"shape\":\"\"}},\"name\":\"Economie\",\"offsetgroup\":\"Economie\",\"orientation\":\"v\",\"showlegend\":true,\"textposition\":\"auto\",\"x\":[\"Economie\",\"Economie\",\"Economie\",\"Economie\",\"Economie\",\"Economie\",\"Economie\",\"Economie\",\"Economie\",\"Economie\",\"Economie\",\"Economie\"],\"xaxis\":\"x\",\"y\":[212,222,144,118,168,149,238,262,233,275,234,205],\"yaxis\":\"y\",\"type\":\"bar\"},{\"alignmentgroup\":\"True\",\"hovertemplate\":\"Thematiques=%{x}<br>Annee=2017<br>Totaux=%{y}<extra></extra>\",\"legendgroup\":\"Education\",\"marker\":{\"color\":\"#ab63fa\",\"pattern\":{\"shape\":\"\"}},\"name\":\"Education\",\"offsetgroup\":\"Education\",\"orientation\":\"v\",\"showlegend\":true,\"textposition\":\"auto\",\"x\":[\"Education\",\"Education\",\"Education\",\"Education\",\"Education\",\"Education\",\"Education\",\"Education\",\"Education\",\"Education\",\"Education\",\"Education\"],\"xaxis\":\"x\",\"y\":[31,26,27,11,32,58,44,60,60,53,50,29],\"yaxis\":\"y\",\"type\":\"bar\"},{\"alignmentgroup\":\"True\",\"hovertemplate\":\"Thematiques=%{x}<br>Annee=2017<br>Totaux=%{y}<extra></extra>\",\"legendgroup\":\"Environnement\",\"marker\":{\"color\":\"#FFA15A\",\"pattern\":{\"shape\":\"\"}},\"name\":\"Environnement\",\"offsetgroup\":\"Environnement\",\"orientation\":\"v\",\"showlegend\":true,\"textposition\":\"auto\",\"x\":[\"Environnement\",\"Environnement\",\"Environnement\",\"Environnement\",\"Environnement\",\"Environnement\",\"Environnement\",\"Environnement\",\"Environnement\",\"Environnement\",\"Environnement\",\"Environnement\"],\"xaxis\":\"x\",\"y\":[136,32,61,46,81,97,102,108,79,85,104,73],\"yaxis\":\"y\",\"type\":\"bar\"},{\"alignmentgroup\":\"True\",\"hovertemplate\":\"Thematiques=%{x}<br>Annee=2017<br>Totaux=%{y}<extra></extra>\",\"legendgroup\":\"Faits divers\",\"marker\":{\"color\":\"#19d3f3\",\"pattern\":{\"shape\":\"\"}},\"name\":\"Faits divers\",\"offsetgroup\":\"Faits divers\",\"orientation\":\"v\",\"showlegend\":true,\"textposition\":\"auto\",\"x\":[\"Faits divers\",\"Faits divers\",\"Faits divers\",\"Faits divers\",\"Faits divers\",\"Faits divers\",\"Faits divers\",\"Faits divers\",\"Faits divers\",\"Faits divers\",\"Faits divers\",\"Faits divers\"],\"xaxis\":\"x\",\"y\":[74,149,105,33,53,20,14,90,65,174,113,83],\"yaxis\":\"y\",\"type\":\"bar\"},{\"alignmentgroup\":\"True\",\"hovertemplate\":\"Thematiques=%{x}<br>Annee=2017<br>Totaux=%{y}<extra></extra>\",\"legendgroup\":\"Histoire-hommages\",\"marker\":{\"color\":\"#FF6692\",\"pattern\":{\"shape\":\"\"}},\"name\":\"Histoire-hommages\",\"offsetgroup\":\"Histoire-hommages\",\"orientation\":\"v\",\"showlegend\":true,\"textposition\":\"auto\",\"x\":[\"Histoire-hommages\",\"Histoire-hommages\",\"Histoire-hommages\",\"Histoire-hommages\",\"Histoire-hommages\",\"Histoire-hommages\",\"Histoire-hommages\",\"Histoire-hommages\",\"Histoire-hommages\",\"Histoire-hommages\",\"Histoire-hommages\",\"Histoire-hommages\"],\"xaxis\":\"x\",\"y\":[50,14,39,20,40,77,72,71,30,46,38,224],\"yaxis\":\"y\",\"type\":\"bar\"},{\"alignmentgroup\":\"True\",\"hovertemplate\":\"Thematiques=%{x}<br>Annee=2017<br>Totaux=%{y}<extra></extra>\",\"legendgroup\":\"International\",\"marker\":{\"color\":\"#B6E880\",\"pattern\":{\"shape\":\"\"}},\"name\":\"International\",\"offsetgroup\":\"International\",\"orientation\":\"v\",\"showlegend\":true,\"textposition\":\"auto\",\"x\":[\"International\",\"International\",\"International\",\"International\",\"International\",\"International\",\"International\",\"International\",\"International\",\"International\",\"International\",\"International\"],\"xaxis\":\"x\",\"y\":[451,299,357,386,442,349,288,504,372,549,315,359],\"yaxis\":\"y\",\"type\":\"bar\"},{\"alignmentgroup\":\"True\",\"hovertemplate\":\"Thematiques=%{x}<br>Annee=2017<br>Totaux=%{y}<extra></extra>\",\"legendgroup\":\"Justice\",\"marker\":{\"color\":\"#FF97FF\",\"pattern\":{\"shape\":\"\"}},\"name\":\"Justice\",\"offsetgroup\":\"Justice\",\"orientation\":\"v\",\"showlegend\":true,\"textposition\":\"auto\",\"x\":[\"Justice\",\"Justice\",\"Justice\",\"Justice\",\"Justice\",\"Justice\",\"Justice\",\"Justice\",\"Justice\",\"Justice\",\"Justice\",\"Justice\"],\"xaxis\":\"x\",\"y\":[84,96,81,45,95,117,71,53,44,132,117,44],\"yaxis\":\"y\",\"type\":\"bar\"},{\"alignmentgroup\":\"True\",\"hovertemplate\":\"Thematiques=%{x}<br>Annee=2017<br>Totaux=%{y}<extra></extra>\",\"legendgroup\":\"Politique France\",\"marker\":{\"color\":\"#FECB52\",\"pattern\":{\"shape\":\"\"}},\"name\":\"Politique France\",\"offsetgroup\":\"Politique France\",\"orientation\":\"v\",\"showlegend\":true,\"textposition\":\"auto\",\"x\":[\"Politique France\",\"Politique France\",\"Politique France\",\"Politique France\",\"Politique France\",\"Politique France\",\"Politique France\",\"Politique France\",\"Politique France\",\"Politique France\",\"Politique France\",\"Politique France\"],\"xaxis\":\"x\",\"y\":[585,471,509,699,960,544,311,254,156,283,192,193],\"yaxis\":\"y\",\"type\":\"bar\"},{\"alignmentgroup\":\"True\",\"hovertemplate\":\"Thematiques=%{x}<br>Annee=2017<br>Totaux=%{y}<extra></extra>\",\"legendgroup\":\"Sant\\u00e9\",\"marker\":{\"color\":\"#636efa\",\"pattern\":{\"shape\":\"\"}},\"name\":\"Sant\\u00e9\",\"offsetgroup\":\"Sant\\u00e9\",\"orientation\":\"v\",\"showlegend\":true,\"textposition\":\"auto\",\"x\":[\"Sant\\u00e9\",\"Sant\\u00e9\",\"Sant\\u00e9\",\"Sant\\u00e9\",\"Sant\\u00e9\",\"Sant\\u00e9\",\"Sant\\u00e9\",\"Sant\\u00e9\",\"Sant\\u00e9\",\"Sant\\u00e9\",\"Sant\\u00e9\",\"Sant\\u00e9\"],\"xaxis\":\"x\",\"y\":[89,40,46,28,47,45,40,111,54,99,102,73],\"yaxis\":\"y\",\"type\":\"bar\"},{\"alignmentgroup\":\"True\",\"hovertemplate\":\"Thematiques=%{x}<br>Annee=2017<br>Totaux=%{y}<extra></extra>\",\"legendgroup\":\"Sciences et techniques\",\"marker\":{\"color\":\"#EF553B\",\"pattern\":{\"shape\":\"\"}},\"name\":\"Sciences et techniques\",\"offsetgroup\":\"Sciences et techniques\",\"orientation\":\"v\",\"showlegend\":true,\"textposition\":\"auto\",\"x\":[\"Sciences et techniques\",\"Sciences et techniques\",\"Sciences et techniques\",\"Sciences et techniques\",\"Sciences et techniques\",\"Sciences et techniques\",\"Sciences et techniques\",\"Sciences et techniques\",\"Sciences et techniques\",\"Sciences et techniques\",\"Sciences et techniques\",\"Sciences et techniques\"],\"xaxis\":\"x\",\"y\":[59,40,47,53,71,54,35,57,37,67,44,43],\"yaxis\":\"y\",\"type\":\"bar\"},{\"alignmentgroup\":\"True\",\"hovertemplate\":\"Thematiques=%{x}<br>Annee=2017<br>Totaux=%{y}<extra></extra>\",\"legendgroup\":\"Soci\\u00e9t\\u00e9\",\"marker\":{\"color\":\"#00cc96\",\"pattern\":{\"shape\":\"\"}},\"name\":\"Soci\\u00e9t\\u00e9\",\"offsetgroup\":\"Soci\\u00e9t\\u00e9\",\"orientation\":\"v\",\"showlegend\":true,\"textposition\":\"auto\",\"x\":[\"Soci\\u00e9t\\u00e9\",\"Soci\\u00e9t\\u00e9\",\"Soci\\u00e9t\\u00e9\",\"Soci\\u00e9t\\u00e9\",\"Soci\\u00e9t\\u00e9\",\"Soci\\u00e9t\\u00e9\",\"Soci\\u00e9t\\u00e9\",\"Soci\\u00e9t\\u00e9\",\"Soci\\u00e9t\\u00e9\",\"Soci\\u00e9t\\u00e9\",\"Soci\\u00e9t\\u00e9\",\"Soci\\u00e9t\\u00e9\"],\"xaxis\":\"x\",\"y\":[332,233,311,230,244,171,284,377,361,441,387,352],\"yaxis\":\"y\",\"type\":\"bar\"},{\"alignmentgroup\":\"True\",\"hovertemplate\":\"Thematiques=%{x}<br>Annee=2017<br>Totaux=%{y}<extra></extra>\",\"legendgroup\":\"Sport\",\"marker\":{\"color\":\"#ab63fa\",\"pattern\":{\"shape\":\"\"}},\"name\":\"Sport\",\"offsetgroup\":\"Sport\",\"orientation\":\"v\",\"showlegend\":true,\"textposition\":\"auto\",\"x\":[\"Sport\",\"Sport\",\"Sport\",\"Sport\",\"Sport\",\"Sport\",\"Sport\",\"Sport\",\"Sport\",\"Sport\",\"Sport\",\"Sport\"],\"xaxis\":\"x\",\"y\":[137,76,61,55,113,86,158,172,119,81,111,84],\"yaxis\":\"y\",\"type\":\"bar\"}],\"name\":\"2017\"},{\"data\":[{\"alignmentgroup\":\"True\",\"hovertemplate\":\"Thematiques=%{x}<br>Annee=2018<br>Totaux=%{y}<extra></extra>\",\"legendgroup\":\"Catastrophes\",\"marker\":{\"color\":\"#636efa\",\"pattern\":{\"shape\":\"\"}},\"name\":\"Catastrophes\",\"offsetgroup\":\"Catastrophes\",\"orientation\":\"v\",\"showlegend\":true,\"textposition\":\"auto\",\"x\":[\"Catastrophes\",\"Catastrophes\",\"Catastrophes\",\"Catastrophes\",\"Catastrophes\",\"Catastrophes\",\"Catastrophes\",\"Catastrophes\",\"Catastrophes\",\"Catastrophes\",\"Catastrophes\",\"Catastrophes\"],\"xaxis\":\"x\",\"y\":[394,274,71,57,125,161,209,287,136,362,93,64],\"yaxis\":\"y\",\"type\":\"bar\"},{\"alignmentgroup\":\"True\",\"hovertemplate\":\"Thematiques=%{x}<br>Annee=2018<br>Totaux=%{y}<extra></extra>\",\"legendgroup\":\"Culture-loisirs\",\"marker\":{\"color\":\"#EF553B\",\"pattern\":{\"shape\":\"\"}},\"name\":\"Culture-loisirs\",\"offsetgroup\":\"Culture-loisirs\",\"orientation\":\"v\",\"showlegend\":true,\"textposition\":\"auto\",\"x\":[\"Culture-loisirs\",\"Culture-loisirs\",\"Culture-loisirs\",\"Culture-loisirs\",\"Culture-loisirs\",\"Culture-loisirs\",\"Culture-loisirs\",\"Culture-loisirs\",\"Culture-loisirs\",\"Culture-loisirs\",\"Culture-loisirs\",\"Culture-loisirs\"],\"xaxis\":\"x\",\"y\":[194,141,155,120,195,125,155,162,150,168,125,102],\"yaxis\":\"y\",\"type\":\"bar\"},{\"alignmentgroup\":\"True\",\"hovertemplate\":\"Thematiques=%{x}<br>Annee=2018<br>Totaux=%{y}<extra></extra>\",\"legendgroup\":\"Economie\",\"marker\":{\"color\":\"#00cc96\",\"pattern\":{\"shape\":\"\"}},\"name\":\"Economie\",\"offsetgroup\":\"Economie\",\"orientation\":\"v\",\"showlegend\":true,\"textposition\":\"auto\",\"x\":[\"Economie\",\"Economie\",\"Economie\",\"Economie\",\"Economie\",\"Economie\",\"Economie\",\"Economie\",\"Economie\",\"Economie\",\"Economie\",\"Economie\"],\"xaxis\":\"x\",\"y\":[225,221,151,148,215,182,207,254,246,239,287,405],\"yaxis\":\"y\",\"type\":\"bar\"},{\"alignmentgroup\":\"True\",\"hovertemplate\":\"Thematiques=%{x}<br>Annee=2018<br>Totaux=%{y}<extra></extra>\",\"legendgroup\":\"Education\",\"marker\":{\"color\":\"#ab63fa\",\"pattern\":{\"shape\":\"\"}},\"name\":\"Education\",\"offsetgroup\":\"Education\",\"orientation\":\"v\",\"showlegend\":true,\"textposition\":\"auto\",\"x\":[\"Education\",\"Education\",\"Education\",\"Education\",\"Education\",\"Education\",\"Education\",\"Education\",\"Education\",\"Education\",\"Education\",\"Education\"],\"xaxis\":\"x\",\"y\":[48,36,47,79,69,51,23,32,66,40,26,48],\"yaxis\":\"y\",\"type\":\"bar\"},{\"alignmentgroup\":\"True\",\"hovertemplate\":\"Thematiques=%{x}<br>Annee=2018<br>Totaux=%{y}<extra></extra>\",\"legendgroup\":\"Environnement\",\"marker\":{\"color\":\"#FFA15A\",\"pattern\":{\"shape\":\"\"}},\"name\":\"Environnement\",\"offsetgroup\":\"Environnement\",\"orientation\":\"v\",\"showlegend\":true,\"textposition\":\"auto\",\"x\":[\"Environnement\",\"Environnement\",\"Environnement\",\"Environnement\",\"Environnement\",\"Environnement\",\"Environnement\",\"Environnement\",\"Environnement\",\"Environnement\",\"Environnement\",\"Environnement\"],\"xaxis\":\"x\",\"y\":[150,137,84,70,95,96,161,137,109,141,58,79],\"yaxis\":\"y\",\"type\":\"bar\"},{\"alignmentgroup\":\"True\",\"hovertemplate\":\"Thematiques=%{x}<br>Annee=2018<br>Totaux=%{y}<extra></extra>\",\"legendgroup\":\"Faits divers\",\"marker\":{\"color\":\"#19d3f3\",\"pattern\":{\"shape\":\"\"}},\"name\":\"Faits divers\",\"offsetgroup\":\"Faits divers\",\"orientation\":\"v\",\"showlegend\":true,\"textposition\":\"auto\",\"x\":[\"Faits divers\",\"Faits divers\",\"Faits divers\",\"Faits divers\",\"Faits divers\",\"Faits divers\",\"Faits divers\",\"Faits divers\",\"Faits divers\",\"Faits divers\",\"Faits divers\",\"Faits divers\"],\"xaxis\":\"x\",\"y\":[101,131,99,90,142,101,144,115,89,117,88,31],\"yaxis\":\"y\",\"type\":\"bar\"},{\"alignmentgroup\":\"True\",\"hovertemplate\":\"Thematiques=%{x}<br>Annee=2018<br>Totaux=%{y}<extra></extra>\",\"legendgroup\":\"Histoire-hommages\",\"marker\":{\"color\":\"#FF6692\",\"pattern\":{\"shape\":\"\"}},\"name\":\"Histoire-hommages\",\"offsetgroup\":\"Histoire-hommages\",\"orientation\":\"v\",\"showlegend\":true,\"textposition\":\"auto\",\"x\":[\"Histoire-hommages\",\"Histoire-hommages\",\"Histoire-hommages\",\"Histoire-hommages\",\"Histoire-hommages\",\"Histoire-hommages\",\"Histoire-hommages\",\"Histoire-hommages\",\"Histoire-hommages\",\"Histoire-hommages\",\"Histoire-hommages\",\"Histoire-hommages\"],\"xaxis\":\"x\",\"y\":[81,20,35,54,67,30,26,76,48,115,131,27],\"yaxis\":\"y\",\"type\":\"bar\"},{\"alignmentgroup\":\"True\",\"hovertemplate\":\"Thematiques=%{x}<br>Annee=2018<br>Totaux=%{y}<extra></extra>\",\"legendgroup\":\"International\",\"marker\":{\"color\":\"#B6E880\",\"pattern\":{\"shape\":\"\"}},\"name\":\"International\",\"offsetgroup\":\"International\",\"orientation\":\"v\",\"showlegend\":true,\"textposition\":\"auto\",\"x\":[\"International\",\"International\",\"International\",\"International\",\"International\",\"International\",\"International\",\"International\",\"International\",\"International\",\"International\",\"International\"],\"xaxis\":\"x\",\"y\":[350,299,429,347,452,418,257,226,283,370,214,200],\"yaxis\":\"y\",\"type\":\"bar\"},{\"alignmentgroup\":\"True\",\"hovertemplate\":\"Thematiques=%{x}<br>Annee=2018<br>Totaux=%{y}<extra></extra>\",\"legendgroup\":\"Justice\",\"marker\":{\"color\":\"#FF97FF\",\"pattern\":{\"shape\":\"\"}},\"name\":\"Justice\",\"offsetgroup\":\"Justice\",\"orientation\":\"v\",\"showlegend\":true,\"textposition\":\"auto\",\"x\":[\"Justice\",\"Justice\",\"Justice\",\"Justice\",\"Justice\",\"Justice\",\"Justice\",\"Justice\",\"Justice\",\"Justice\",\"Justice\",\"Justice\"],\"xaxis\":\"x\",\"y\":[111,154,148,82,80,74,244,51,102,102,89,59],\"yaxis\":\"y\",\"type\":\"bar\"},{\"alignmentgroup\":\"True\",\"hovertemplate\":\"Thematiques=%{x}<br>Annee=2018<br>Totaux=%{y}<extra></extra>\",\"legendgroup\":\"Politique France\",\"marker\":{\"color\":\"#FECB52\",\"pattern\":{\"shape\":\"\"}},\"name\":\"Politique France\",\"offsetgroup\":\"Politique France\",\"orientation\":\"v\",\"showlegend\":true,\"textposition\":\"auto\",\"x\":[\"Politique France\",\"Politique France\",\"Politique France\",\"Politique France\",\"Politique France\",\"Politique France\",\"Politique France\",\"Politique France\",\"Politique France\",\"Politique France\",\"Politique France\",\"Politique France\"],\"xaxis\":\"x\",\"y\":[297,230,290,225,215,128,107,128,147,151,143,394],\"yaxis\":\"y\",\"type\":\"bar\"},{\"alignmentgroup\":\"True\",\"hovertemplate\":\"Thematiques=%{x}<br>Annee=2018<br>Totaux=%{y}<extra></extra>\",\"legendgroup\":\"Sant\\u00e9\",\"marker\":{\"color\":\"#636efa\",\"pattern\":{\"shape\":\"\"}},\"name\":\"Sant\\u00e9\",\"offsetgroup\":\"Sant\\u00e9\",\"orientation\":\"v\",\"showlegend\":true,\"textposition\":\"auto\",\"x\":[\"Sant\\u00e9\",\"Sant\\u00e9\",\"Sant\\u00e9\",\"Sant\\u00e9\",\"Sant\\u00e9\",\"Sant\\u00e9\",\"Sant\\u00e9\",\"Sant\\u00e9\",\"Sant\\u00e9\",\"Sant\\u00e9\",\"Sant\\u00e9\",\"Sant\\u00e9\"],\"xaxis\":\"x\",\"y\":[131,53,60,59,85,52,54,60,73,101,40,28],\"yaxis\":\"y\",\"type\":\"bar\"},{\"alignmentgroup\":\"True\",\"hovertemplate\":\"Thematiques=%{x}<br>Annee=2018<br>Totaux=%{y}<extra></extra>\",\"legendgroup\":\"Sciences et techniques\",\"marker\":{\"color\":\"#EF553B\",\"pattern\":{\"shape\":\"\"}},\"name\":\"Sciences et techniques\",\"offsetgroup\":\"Sciences et techniques\",\"orientation\":\"v\",\"showlegend\":true,\"textposition\":\"auto\",\"x\":[\"Sciences et techniques\",\"Sciences et techniques\",\"Sciences et techniques\",\"Sciences et techniques\",\"Sciences et techniques\",\"Sciences et techniques\",\"Sciences et techniques\",\"Sciences et techniques\",\"Sciences et techniques\",\"Sciences et techniques\",\"Sciences et techniques\",\"Sciences et techniques\"],\"xaxis\":\"x\",\"y\":[59,46,60,53,47,39,45,55,32,41,34,19],\"yaxis\":\"y\",\"type\":\"bar\"},{\"alignmentgroup\":\"True\",\"hovertemplate\":\"Thematiques=%{x}<br>Annee=2018<br>Totaux=%{y}<extra></extra>\",\"legendgroup\":\"Soci\\u00e9t\\u00e9\",\"marker\":{\"color\":\"#00cc96\",\"pattern\":{\"shape\":\"\"}},\"name\":\"Soci\\u00e9t\\u00e9\",\"offsetgroup\":\"Soci\\u00e9t\\u00e9\",\"orientation\":\"v\",\"showlegend\":true,\"textposition\":\"auto\",\"x\":[\"Soci\\u00e9t\\u00e9\",\"Soci\\u00e9t\\u00e9\",\"Soci\\u00e9t\\u00e9\",\"Soci\\u00e9t\\u00e9\",\"Soci\\u00e9t\\u00e9\",\"Soci\\u00e9t\\u00e9\",\"Soci\\u00e9t\\u00e9\",\"Soci\\u00e9t\\u00e9\",\"Soci\\u00e9t\\u00e9\",\"Soci\\u00e9t\\u00e9\",\"Soci\\u00e9t\\u00e9\",\"Soci\\u00e9t\\u00e9\"],\"xaxis\":\"x\",\"y\":[389,279,438,666,660,336,353,334,353,381,521,516],\"yaxis\":\"y\",\"type\":\"bar\"},{\"alignmentgroup\":\"True\",\"hovertemplate\":\"Thematiques=%{x}<br>Annee=2018<br>Totaux=%{y}<extra></extra>\",\"legendgroup\":\"Sport\",\"marker\":{\"color\":\"#ab63fa\",\"pattern\":{\"shape\":\"\"}},\"name\":\"Sport\",\"offsetgroup\":\"Sport\",\"orientation\":\"v\",\"showlegend\":true,\"textposition\":\"auto\",\"x\":[\"Sport\",\"Sport\",\"Sport\",\"Sport\",\"Sport\",\"Sport\",\"Sport\",\"Sport\",\"Sport\",\"Sport\",\"Sport\",\"Sport\"],\"xaxis\":\"x\",\"y\":[96,171,88,66,158,294,538,75,73,53,67,24],\"yaxis\":\"y\",\"type\":\"bar\"}],\"name\":\"2018\"},{\"data\":[{\"alignmentgroup\":\"True\",\"hovertemplate\":\"Thematiques=%{x}<br>Annee=2019<br>Totaux=%{y}<extra></extra>\",\"legendgroup\":\"Catastrophes\",\"marker\":{\"color\":\"#636efa\",\"pattern\":{\"shape\":\"\"}},\"name\":\"Catastrophes\",\"offsetgroup\":\"Catastrophes\",\"orientation\":\"v\",\"showlegend\":true,\"textposition\":\"auto\",\"x\":[\"Catastrophes\",\"Catastrophes\",\"Catastrophes\",\"Catastrophes\",\"Catastrophes\",\"Catastrophes\",\"Catastrophes\",\"Catastrophes\",\"Catastrophes\",\"Catastrophes\",\"Catastrophes\",\"Catastrophes\"],\"xaxis\":\"x\",\"y\":[153,92,98,45,41,176,228,226,168,301,248,199],\"yaxis\":\"y\",\"type\":\"bar\"},{\"alignmentgroup\":\"True\",\"hovertemplate\":\"Thematiques=%{x}<br>Annee=2019<br>Totaux=%{y}<extra></extra>\",\"legendgroup\":\"Culture-loisirs\",\"marker\":{\"color\":\"#EF553B\",\"pattern\":{\"shape\":\"\"}},\"name\":\"Culture-loisirs\",\"offsetgroup\":\"Culture-loisirs\",\"orientation\":\"v\",\"showlegend\":true,\"textposition\":\"auto\",\"x\":[\"Culture-loisirs\",\"Culture-loisirs\",\"Culture-loisirs\",\"Culture-loisirs\",\"Culture-loisirs\",\"Culture-loisirs\",\"Culture-loisirs\",\"Culture-loisirs\",\"Culture-loisirs\",\"Culture-loisirs\",\"Culture-loisirs\",\"Culture-loisirs\"],\"xaxis\":\"x\",\"y\":[168,142,137,222,155,124,162,123,124,164,110,109],\"yaxis\":\"y\",\"type\":\"bar\"},{\"alignmentgroup\":\"True\",\"hovertemplate\":\"Thematiques=%{x}<br>Annee=2019<br>Totaux=%{y}<extra></extra>\",\"legendgroup\":\"Economie\",\"marker\":{\"color\":\"#00cc96\",\"pattern\":{\"shape\":\"\"}},\"name\":\"Economie\",\"offsetgroup\":\"Economie\",\"orientation\":\"v\",\"showlegend\":true,\"textposition\":\"auto\",\"x\":[\"Economie\",\"Economie\",\"Economie\",\"Economie\",\"Economie\",\"Economie\",\"Economie\",\"Economie\",\"Economie\",\"Economie\",\"Economie\",\"Economie\"],\"xaxis\":\"x\",\"y\":[292,273,174,263,250,197,269,196,213,230,191,163],\"yaxis\":\"y\",\"type\":\"bar\"},{\"alignmentgroup\":\"True\",\"hovertemplate\":\"Thematiques=%{x}<br>Annee=2019<br>Totaux=%{y}<extra></extra>\",\"legendgroup\":\"Education\",\"marker\":{\"color\":\"#ab63fa\",\"pattern\":{\"shape\":\"\"}},\"name\":\"Education\",\"offsetgroup\":\"Education\",\"orientation\":\"v\",\"showlegend\":true,\"textposition\":\"auto\",\"x\":[\"Education\",\"Education\",\"Education\",\"Education\",\"Education\",\"Education\",\"Education\",\"Education\",\"Education\",\"Education\",\"Education\",\"Education\"],\"xaxis\":\"x\",\"y\":[28,23,24,50,26,50,63,36,42,20,24,23],\"yaxis\":\"y\",\"type\":\"bar\"},{\"alignmentgroup\":\"True\",\"hovertemplate\":\"Thematiques=%{x}<br>Annee=2019<br>Totaux=%{y}<extra></extra>\",\"legendgroup\":\"Environnement\",\"marker\":{\"color\":\"#FFA15A\",\"pattern\":{\"shape\":\"\"}},\"name\":\"Environnement\",\"offsetgroup\":\"Environnement\",\"orientation\":\"v\",\"showlegend\":true,\"textposition\":\"auto\",\"x\":[\"Environnement\",\"Environnement\",\"Environnement\",\"Environnement\",\"Environnement\",\"Environnement\",\"Environnement\",\"Environnement\",\"Environnement\",\"Environnement\",\"Environnement\",\"Environnement\"],\"xaxis\":\"x\",\"y\":[91,100,120,97,91,186,272,157,150,109,96,101],\"yaxis\":\"y\",\"type\":\"bar\"},{\"alignmentgroup\":\"True\",\"hovertemplate\":\"Thematiques=%{x}<br>Annee=2019<br>Totaux=%{y}<extra></extra>\",\"legendgroup\":\"Faits divers\",\"marker\":{\"color\":\"#19d3f3\",\"pattern\":{\"shape\":\"\"}},\"name\":\"Faits divers\",\"offsetgroup\":\"Faits divers\",\"orientation\":\"v\",\"showlegend\":true,\"textposition\":\"auto\",\"x\":[\"Faits divers\",\"Faits divers\",\"Faits divers\",\"Faits divers\",\"Faits divers\",\"Faits divers\",\"Faits divers\",\"Faits divers\",\"Faits divers\",\"Faits divers\",\"Faits divers\",\"Faits divers\"],\"xaxis\":\"x\",\"y\":[139,111,79,343,87,113,98,144,89,122,89,52],\"yaxis\":\"y\",\"type\":\"bar\"},{\"alignmentgroup\":\"True\",\"hovertemplate\":\"Thematiques=%{x}<br>Annee=2019<br>Totaux=%{y}<extra></extra>\",\"legendgroup\":\"Histoire-hommages\",\"marker\":{\"color\":\"#FF6692\",\"pattern\":{\"shape\":\"\"}},\"name\":\"Histoire-hommages\",\"offsetgroup\":\"Histoire-hommages\",\"orientation\":\"v\",\"showlegend\":true,\"textposition\":\"auto\",\"x\":[\"Histoire-hommages\",\"Histoire-hommages\",\"Histoire-hommages\",\"Histoire-hommages\",\"Histoire-hommages\",\"Histoire-hommages\",\"Histoire-hommages\",\"Histoire-hommages\",\"Histoire-hommages\",\"Histoire-hommages\",\"Histoire-hommages\",\"Histoire-hommages\"],\"xaxis\":\"x\",\"y\":[63,32,20,64,37,102,24,60,135,97,58,32],\"yaxis\":\"y\",\"type\":\"bar\"},{\"alignmentgroup\":\"True\",\"hovertemplate\":\"Thematiques=%{x}<br>Annee=2019<br>Totaux=%{y}<extra></extra>\",\"legendgroup\":\"International\",\"marker\":{\"color\":\"#B6E880\",\"pattern\":{\"shape\":\"\"}},\"name\":\"International\",\"offsetgroup\":\"International\",\"orientation\":\"v\",\"showlegend\":true,\"textposition\":\"auto\",\"x\":[\"International\",\"International\",\"International\",\"International\",\"International\",\"International\",\"International\",\"International\",\"International\",\"International\",\"International\",\"International\"],\"xaxis\":\"x\",\"y\":[296,282,354,408,491,227,300,373,237,469,268,224],\"yaxis\":\"y\",\"type\":\"bar\"},{\"alignmentgroup\":\"True\",\"hovertemplate\":\"Thematiques=%{x}<br>Annee=2019<br>Totaux=%{y}<extra></extra>\",\"legendgroup\":\"Justice\",\"marker\":{\"color\":\"#FF97FF\",\"pattern\":{\"shape\":\"\"}},\"name\":\"Justice\",\"offsetgroup\":\"Justice\",\"orientation\":\"v\",\"showlegend\":true,\"textposition\":\"auto\",\"x\":[\"Justice\",\"Justice\",\"Justice\",\"Justice\",\"Justice\",\"Justice\",\"Justice\",\"Justice\",\"Justice\",\"Justice\",\"Justice\",\"Justice\"],\"xaxis\":\"x\",\"y\":[123,96,101,105,111,84,81,66,88,95,73,54],\"yaxis\":\"y\",\"type\":\"bar\"},{\"alignmentgroup\":\"True\",\"hovertemplate\":\"Thematiques=%{x}<br>Annee=2019<br>Totaux=%{y}<extra></extra>\",\"legendgroup\":\"Politique France\",\"marker\":{\"color\":\"#FECB52\",\"pattern\":{\"shape\":\"\"}},\"name\":\"Politique France\",\"offsetgroup\":\"Politique France\",\"orientation\":\"v\",\"showlegend\":true,\"textposition\":\"auto\",\"x\":[\"Politique France\",\"Politique France\",\"Politique France\",\"Politique France\",\"Politique France\",\"Politique France\",\"Politique France\",\"Politique France\",\"Politique France\",\"Politique France\",\"Politique France\",\"Politique France\"],\"xaxis\":\"x\",\"y\":[375,170,237,227,154,117,216,117,132,186,122,67],\"yaxis\":\"y\",\"type\":\"bar\"},{\"alignmentgroup\":\"True\",\"hovertemplate\":\"Thematiques=%{x}<br>Annee=2019<br>Totaux=%{y}<extra></extra>\",\"legendgroup\":\"Sant\\u00e9\",\"marker\":{\"color\":\"#636efa\",\"pattern\":{\"shape\":\"\"}},\"name\":\"Sant\\u00e9\",\"offsetgroup\":\"Sant\\u00e9\",\"orientation\":\"v\",\"showlegend\":true,\"textposition\":\"auto\",\"x\":[\"Sant\\u00e9\",\"Sant\\u00e9\",\"Sant\\u00e9\",\"Sant\\u00e9\",\"Sant\\u00e9\",\"Sant\\u00e9\",\"Sant\\u00e9\",\"Sant\\u00e9\",\"Sant\\u00e9\",\"Sant\\u00e9\",\"Sant\\u00e9\",\"Sant\\u00e9\"],\"xaxis\":\"x\",\"y\":[74,67,83,80,51,109,80,53,67,64,57,26],\"yaxis\":\"y\",\"type\":\"bar\"},{\"alignmentgroup\":\"True\",\"hovertemplate\":\"Thematiques=%{x}<br>Annee=2019<br>Totaux=%{y}<extra></extra>\",\"legendgroup\":\"Sciences et techniques\",\"marker\":{\"color\":\"#EF553B\",\"pattern\":{\"shape\":\"\"}},\"name\":\"Sciences et techniques\",\"offsetgroup\":\"Sciences et techniques\",\"orientation\":\"v\",\"showlegend\":true,\"textposition\":\"auto\",\"x\":[\"Sciences et techniques\",\"Sciences et techniques\",\"Sciences et techniques\",\"Sciences et techniques\",\"Sciences et techniques\",\"Sciences et techniques\",\"Sciences et techniques\",\"Sciences et techniques\",\"Sciences et techniques\",\"Sciences et techniques\",\"Sciences et techniques\",\"Sciences et techniques\"],\"xaxis\":\"x\",\"y\":[60,39,38,56,48,40,82,52,43,48,30,37],\"yaxis\":\"y\",\"type\":\"bar\"},{\"alignmentgroup\":\"True\",\"hovertemplate\":\"Thematiques=%{x}<br>Annee=2019<br>Totaux=%{y}<extra></extra>\",\"legendgroup\":\"Soci\\u00e9t\\u00e9\",\"marker\":{\"color\":\"#00cc96\",\"pattern\":{\"shape\":\"\"}},\"name\":\"Soci\\u00e9t\\u00e9\",\"offsetgroup\":\"Soci\\u00e9t\\u00e9\",\"orientation\":\"v\",\"showlegend\":true,\"textposition\":\"auto\",\"x\":[\"Soci\\u00e9t\\u00e9\",\"Soci\\u00e9t\\u00e9\",\"Soci\\u00e9t\\u00e9\",\"Soci\\u00e9t\\u00e9\",\"Soci\\u00e9t\\u00e9\",\"Soci\\u00e9t\\u00e9\",\"Soci\\u00e9t\\u00e9\",\"Soci\\u00e9t\\u00e9\",\"Soci\\u00e9t\\u00e9\",\"Soci\\u00e9t\\u00e9\",\"Soci\\u00e9t\\u00e9\",\"Soci\\u00e9t\\u00e9\"],\"xaxis\":\"x\",\"y\":[445,425,359,477,297,303,381,301,362,381,398,838],\"yaxis\":\"y\",\"type\":\"bar\"},{\"alignmentgroup\":\"True\",\"hovertemplate\":\"Thematiques=%{x}<br>Annee=2019<br>Totaux=%{y}<extra></extra>\",\"legendgroup\":\"Sport\",\"marker\":{\"color\":\"#ab63fa\",\"pattern\":{\"shape\":\"\"}},\"name\":\"Sport\",\"offsetgroup\":\"Sport\",\"orientation\":\"v\",\"showlegend\":true,\"textposition\":\"auto\",\"x\":[\"Sport\",\"Sport\",\"Sport\",\"Sport\",\"Sport\",\"Sport\",\"Sport\",\"Sport\",\"Sport\",\"Sport\",\"Sport\",\"Sport\"],\"xaxis\":\"x\",\"y\":[50,46,56,60,56,131,147,44,73,75,58,22],\"yaxis\":\"y\",\"type\":\"bar\"}],\"name\":\"2019\"},{\"data\":[{\"alignmentgroup\":\"True\",\"hovertemplate\":\"Thematiques=%{x}<br>Annee=2020<br>Totaux=%{y}<extra></extra>\",\"legendgroup\":\"Catastrophes\",\"marker\":{\"color\":\"#636efa\",\"pattern\":{\"shape\":\"\"}},\"name\":\"Catastrophes\",\"offsetgroup\":\"Catastrophes\",\"orientation\":\"v\",\"showlegend\":true,\"textposition\":\"auto\",\"x\":[\"Catastrophes\",\"Catastrophes\",\"Catastrophes\",\"Catastrophes\",\"Catastrophes\",\"Catastrophes\",\"Catastrophes\",\"Catastrophes\",\"Catastrophes\"],\"xaxis\":\"x\",\"y\":[171,100,31,14,34,64,57,279,173],\"yaxis\":\"y\",\"type\":\"bar\"},{\"alignmentgroup\":\"True\",\"hovertemplate\":\"Thematiques=%{x}<br>Annee=2020<br>Totaux=%{y}<extra></extra>\",\"legendgroup\":\"Culture-loisirs\",\"marker\":{\"color\":\"#EF553B\",\"pattern\":{\"shape\":\"\"}},\"name\":\"Culture-loisirs\",\"offsetgroup\":\"Culture-loisirs\",\"orientation\":\"v\",\"showlegend\":true,\"textposition\":\"auto\",\"x\":[\"Culture-loisirs\",\"Culture-loisirs\",\"Culture-loisirs\",\"Culture-loisirs\",\"Culture-loisirs\",\"Culture-loisirs\",\"Culture-loisirs\",\"Culture-loisirs\",\"Culture-loisirs\"],\"xaxis\":\"x\",\"y\":[106,118,56,25,111,168,145,133,141],\"yaxis\":\"y\",\"type\":\"bar\"},{\"alignmentgroup\":\"True\",\"hovertemplate\":\"Thematiques=%{x}<br>Annee=2020<br>Totaux=%{y}<extra></extra>\",\"legendgroup\":\"Economie\",\"marker\":{\"color\":\"#00cc96\",\"pattern\":{\"shape\":\"\"}},\"name\":\"Economie\",\"offsetgroup\":\"Economie\",\"orientation\":\"v\",\"showlegend\":true,\"textposition\":\"auto\",\"x\":[\"Economie\",\"Economie\",\"Economie\",\"Economie\",\"Economie\",\"Economie\",\"Economie\",\"Economie\",\"Economie\"],\"xaxis\":\"x\",\"y\":[189,219,172,317,410,467,277,194,293],\"yaxis\":\"y\",\"type\":\"bar\"},{\"alignmentgroup\":\"True\",\"hovertemplate\":\"Thematiques=%{x}<br>Annee=2020<br>Totaux=%{y}<extra></extra>\",\"legendgroup\":\"Education\",\"marker\":{\"color\":\"#ab63fa\",\"pattern\":{\"shape\":\"\"}},\"name\":\"Education\",\"offsetgroup\":\"Education\",\"orientation\":\"v\",\"showlegend\":true,\"textposition\":\"auto\",\"x\":[\"Education\",\"Education\",\"Education\",\"Education\",\"Education\",\"Education\",\"Education\",\"Education\",\"Education\"],\"xaxis\":\"x\",\"y\":[20,12,11,95,106,66,15,45,104],\"yaxis\":\"y\",\"type\":\"bar\"},{\"alignmentgroup\":\"True\",\"hovertemplate\":\"Thematiques=%{x}<br>Annee=2020<br>Totaux=%{y}<extra></extra>\",\"legendgroup\":\"Environnement\",\"marker\":{\"color\":\"#FFA15A\",\"pattern\":{\"shape\":\"\"}},\"name\":\"Environnement\",\"offsetgroup\":\"Environnement\",\"orientation\":\"v\",\"showlegend\":true,\"textposition\":\"auto\",\"x\":[\"Environnement\",\"Environnement\",\"Environnement\",\"Environnement\",\"Environnement\",\"Environnement\",\"Environnement\",\"Environnement\",\"Environnement\"],\"xaxis\":\"x\",\"y\":[70,117,32,8,30,111,97,169,112],\"yaxis\":\"y\",\"type\":\"bar\"},{\"alignmentgroup\":\"True\",\"hovertemplate\":\"Thematiques=%{x}<br>Annee=2020<br>Totaux=%{y}<extra></extra>\",\"legendgroup\":\"Faits divers\",\"marker\":{\"color\":\"#19d3f3\",\"pattern\":{\"shape\":\"\"}},\"name\":\"Faits divers\",\"offsetgroup\":\"Faits divers\",\"orientation\":\"v\",\"showlegend\":true,\"textposition\":\"auto\",\"x\":[\"Faits divers\",\"Faits divers\",\"Faits divers\",\"Faits divers\",\"Faits divers\",\"Faits divers\",\"Faits divers\",\"Faits divers\",\"Faits divers\"],\"xaxis\":\"x\",\"y\":[78,53,14,11,12,92,132,50,87],\"yaxis\":\"y\",\"type\":\"bar\"},{\"alignmentgroup\":\"True\",\"hovertemplate\":\"Thematiques=%{x}<br>Annee=2020<br>Totaux=%{y}<extra></extra>\",\"legendgroup\":\"Histoire-hommages\",\"marker\":{\"color\":\"#FF6692\",\"pattern\":{\"shape\":\"\"}},\"name\":\"Histoire-hommages\",\"offsetgroup\":\"Histoire-hommages\",\"orientation\":\"v\",\"showlegend\":true,\"textposition\":\"auto\",\"x\":[\"Histoire-hommages\",\"Histoire-hommages\",\"Histoire-hommages\",\"Histoire-hommages\",\"Histoire-hommages\",\"Histoire-hommages\",\"Histoire-hommages\",\"Histoire-hommages\",\"Histoire-hommages\"],\"xaxis\":\"x\",\"y\":[49,44,26,14,51,44,34,17,63],\"yaxis\":\"y\",\"type\":\"bar\"},{\"alignmentgroup\":\"True\",\"hovertemplate\":\"Thematiques=%{x}<br>Annee=2020<br>Totaux=%{y}<extra></extra>\",\"legendgroup\":\"International\",\"marker\":{\"color\":\"#B6E880\",\"pattern\":{\"shape\":\"\"}},\"name\":\"International\",\"offsetgroup\":\"International\",\"orientation\":\"v\",\"showlegend\":true,\"textposition\":\"auto\",\"x\":[\"International\",\"International\",\"International\",\"International\",\"International\",\"International\",\"International\",\"International\",\"International\"],\"xaxis\":\"x\",\"y\":[240,198,104,28,62,135,117,245,264],\"yaxis\":\"y\",\"type\":\"bar\"},{\"alignmentgroup\":\"True\",\"hovertemplate\":\"Thematiques=%{x}<br>Annee=2020<br>Totaux=%{y}<extra></extra>\",\"legendgroup\":\"Justice\",\"marker\":{\"color\":\"#FF97FF\",\"pattern\":{\"shape\":\"\"}},\"name\":\"Justice\",\"offsetgroup\":\"Justice\",\"orientation\":\"v\",\"showlegend\":true,\"textposition\":\"auto\",\"x\":[\"Justice\",\"Justice\",\"Justice\",\"Justice\",\"Justice\",\"Justice\",\"Justice\",\"Justice\",\"Justice\"],\"xaxis\":\"x\",\"y\":[79,68,39,6,24,96,41,30,88],\"yaxis\":\"y\",\"type\":\"bar\"},{\"alignmentgroup\":\"True\",\"hovertemplate\":\"Thematiques=%{x}<br>Annee=2020<br>Totaux=%{y}<extra></extra>\",\"legendgroup\":\"Politique France\",\"marker\":{\"color\":\"#FECB52\",\"pattern\":{\"shape\":\"\"}},\"name\":\"Politique France\",\"offsetgroup\":\"Politique France\",\"orientation\":\"v\",\"showlegend\":true,\"textposition\":\"auto\",\"x\":[\"Politique France\",\"Politique France\",\"Politique France\",\"Politique France\",\"Politique France\",\"Politique France\",\"Politique France\",\"Politique France\",\"Politique France\"],\"xaxis\":\"x\",\"y\":[114,154,79,23,62,341,205,50,160],\"yaxis\":\"y\",\"type\":\"bar\"},{\"alignmentgroup\":\"True\",\"hovertemplate\":\"Thematiques=%{x}<br>Annee=2020<br>Totaux=%{y}<extra></extra>\",\"legendgroup\":\"Sant\\u00e9\",\"marker\":{\"color\":\"#636efa\",\"pattern\":{\"shape\":\"\"}},\"name\":\"Sant\\u00e9\",\"offsetgroup\":\"Sant\\u00e9\",\"orientation\":\"v\",\"showlegend\":true,\"textposition\":\"auto\",\"x\":[\"Sant\\u00e9\",\"Sant\\u00e9\",\"Sant\\u00e9\",\"Sant\\u00e9\",\"Sant\\u00e9\",\"Sant\\u00e9\",\"Sant\\u00e9\",\"Sant\\u00e9\",\"Sant\\u00e9\"],\"xaxis\":\"x\",\"y\":[204,456,2024,1776,1337,599,482,468,664],\"yaxis\":\"y\",\"type\":\"bar\"},{\"alignmentgroup\":\"True\",\"hovertemplate\":\"Thematiques=%{x}<br>Annee=2020<br>Totaux=%{y}<extra></extra>\",\"legendgroup\":\"Sciences et techniques\",\"marker\":{\"color\":\"#EF553B\",\"pattern\":{\"shape\":\"\"}},\"name\":\"Sciences et techniques\",\"offsetgroup\":\"Sciences et techniques\",\"orientation\":\"v\",\"showlegend\":true,\"textposition\":\"auto\",\"x\":[\"Sciences et techniques\",\"Sciences et techniques\",\"Sciences et techniques\",\"Sciences et techniques\",\"Sciences et techniques\",\"Sciences et techniques\",\"Sciences et techniques\",\"Sciences et techniques\",\"Sciences et techniques\"],\"xaxis\":\"x\",\"y\":[42,57,16,3,21,57,38,35,34],\"yaxis\":\"y\",\"type\":\"bar\"},{\"alignmentgroup\":\"True\",\"hovertemplate\":\"Thematiques=%{x}<br>Annee=2020<br>Totaux=%{y}<extra></extra>\",\"legendgroup\":\"Soci\\u00e9t\\u00e9\",\"marker\":{\"color\":\"#00cc96\",\"pattern\":{\"shape\":\"\"}},\"name\":\"Soci\\u00e9t\\u00e9\",\"offsetgroup\":\"Soci\\u00e9t\\u00e9\",\"orientation\":\"v\",\"showlegend\":true,\"textposition\":\"auto\",\"x\":[\"Soci\\u00e9t\\u00e9\",\"Soci\\u00e9t\\u00e9\",\"Soci\\u00e9t\\u00e9\",\"Soci\\u00e9t\\u00e9\",\"Soci\\u00e9t\\u00e9\",\"Soci\\u00e9t\\u00e9\",\"Soci\\u00e9t\\u00e9\",\"Soci\\u00e9t\\u00e9\",\"Soci\\u00e9t\\u00e9\"],\"xaxis\":\"x\",\"y\":[523,255,104,102,178,418,247,223,250],\"yaxis\":\"y\",\"type\":\"bar\"},{\"alignmentgroup\":\"True\",\"hovertemplate\":\"Thematiques=%{x}<br>Annee=2020<br>Totaux=%{y}<extra></extra>\",\"legendgroup\":\"Sport\",\"marker\":{\"color\":\"#ab63fa\",\"pattern\":{\"shape\":\"\"}},\"name\":\"Sport\",\"offsetgroup\":\"Sport\",\"orientation\":\"v\",\"showlegend\":true,\"textposition\":\"auto\",\"x\":[\"Sport\",\"Sport\",\"Sport\",\"Sport\",\"Sport\",\"Sport\",\"Sport\",\"Sport\",\"Sport\"],\"xaxis\":\"x\",\"y\":[32,82,19,1,12,18,44,109,101],\"yaxis\":\"y\",\"type\":\"bar\"}],\"name\":\"2020\"}]);\n",
       "                        }).then(function(){\n",
       "                            \n",
       "var gd = document.getElementById('04e9d5c7-e611-47d0-b25b-9116df4309d7');\n",
       "var x = new MutationObserver(function (mutations, observer) {{\n",
       "        var display = window.getComputedStyle(gd).display;\n",
       "        if (!display || display === 'none') {{\n",
       "            console.log([gd, 'removed!']);\n",
       "            Plotly.purge(gd);\n",
       "            observer.disconnect();\n",
       "        }}\n",
       "}});\n",
       "\n",
       "// Listen for the removal of the full notebook cells\n",
       "var notebookContainer = gd.closest('#notebook-container');\n",
       "if (notebookContainer) {{\n",
       "    x.observe(notebookContainer, {childList: true});\n",
       "}}\n",
       "\n",
       "// Listen for the clearing of the current output cell\n",
       "var outputEl = gd.closest('.output');\n",
       "if (outputEl) {{\n",
       "    x.observe(outputEl, {childList: true});\n",
       "}}\n",
       "\n",
       "                        })                };                });            </script>        </div>"
      ]
     },
     "metadata": {},
     "output_type": "display_data"
    }
   ],
   "source": [
    "import plotly.express as px\n",
    "\n",
    "type(clean_dfBarometre['Annee'][1])\n",
    "\n",
    "filter_annee = clean_dfBarometre.loc[((clean_dfBarometre['Annee']<=2020) & (clean_dfBarometre['Annee']>=2012))].reset_index()\n",
    "\n",
    "# filter_annee\n",
    "\n",
    "\n",
    "fig = px.bar(\n",
    "# clean_dfBarometre,\n",
    "filter_annee,\n",
    "x='Thematiques',\n",
    "y='Totaux',\n",
    "animation_frame=\"Annee\",\n",
    "title='Themes',\n",
    "color='Thematiques'\n",
    ")\n",
    "fig.update_layout(yaxis={\"range\":[0,9000]},xaxis={\"range\":[0,13]})"
   ]
  },
  {
   "cell_type": "code",
   "execution_count": null,
   "id": "dfd1d090",
   "metadata": {},
   "outputs": [],
   "source": []
  },
  {
   "cell_type": "code",
   "execution_count": null,
   "id": "442c0f28",
   "metadata": {},
   "outputs": [],
   "source": []
  }
 ],
 "metadata": {
  "kernelspec": {
   "display_name": "Python 3 (ipykernel)",
   "language": "python",
   "name": "python3"
  },
  "language_info": {
   "codemirror_mode": {
    "name": "ipython",
    "version": 3
   },
   "file_extension": ".py",
   "mimetype": "text/x-python",
   "name": "python",
   "nbconvert_exporter": "python",
   "pygments_lexer": "ipython3",
   "version": "3.9.9"
  }
 },
 "nbformat": 4,
 "nbformat_minor": 5
}
