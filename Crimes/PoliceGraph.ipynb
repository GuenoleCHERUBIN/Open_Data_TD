{
 "cells": [
  {
   "cell_type": "code",
   "execution_count": 2,
   "metadata": {},
   "outputs": [],
   "source": [
    "import pandas as pd\n",
    "import openpyxl\n",
    "import numpy as np\n",
    "import matplotlib.pyplot as plt\n",
    "\n",
    "df_start = pd.read_excel('./data/crimes-et-delits-enregistres-par-les-services-de-gendarmerie-et-de-police-depuis-2012.xlsx', sheet_name=1)\n",
    "df_start.rename(columns={\"Année 2012> - services de police\": \"ID\", \"Départements\": \"CrimeType\"}, inplace=True)\n",
    "df_start['Annee'] = 2012"
   ]
  },
  {
   "cell_type": "code",
   "execution_count": 3,
   "metadata": {},
   "outputs": [],
   "source": [
    "for i in range(2,7):\n",
    "    df = pd.read_excel('./data/crimes-et-delits-enregistres-par-les-services-de-gendarmerie-et-de-police-depuis-2012.xlsx', sheet_name=i)\n",
    "    year = 2011 + i    \n",
    "    col1 = \"Année {} - services de police\".format(2011+i)\n",
    "    df.rename(columns={col1: \"ID\", \"Départements\": \"CrimeType\"}, inplace=True)\n",
    "    df['Annee'] = year    \n",
    "    df_start = pd.concat([df_start, df], ignore_index=True)"
   ]
  },
  {
   "cell_type": "code",
   "execution_count": 4,
   "metadata": {},
   "outputs": [],
   "source": [
    "df_start.fillna(0, inplace=True)"
   ]
  },
  {
   "cell_type": "code",
   "execution_count": 5,
   "metadata": {},
   "outputs": [],
   "source": [
    "indexName = df_start['Annee'] # Fetch the years in the dataframe\n",
    "annee = indexName.drop_duplicates() # Delete all the duplicates\n",
    "anneeFrame = annee.to_frame() # Convert the series to a dataframe\n",
    "sumCrime = []\n",
    "anneeFrame['Total'] = ''\n",
    "for i in annee:\n",
    "    dfAnnee = df_start.loc[df_start['Annee'] == i] # Fetch the dataframe for the year depending the variable\n",
    "    dfTest = dfAnnee.loc[:, ~dfAnnee.columns.isin([dfAnnee.columns[0], dfAnnee.columns[1]])] #Fetch the dataframe without the first two columns\n",
    "    noColumnAnnee = dfTest.loc[:, dfTest.columns != 'Annee']\n",
    "    excludeColumn = noColumnAnnee.iloc[2:] # Fetch the dataframe without the first two rows \n",
    "    crimes = excludeColumn.sum()\n",
    "    sumCrimes = crimes\n",
    "    sumCrime = sumCrime + [sumCrimes.sum()]\n",
    "    \n",
    "anneeFrame.loc[:,'Total'] = sumCrime \n",
    "    "
   ]
  },
  {
   "cell_type": "code",
   "execution_count": 6,
   "metadata": {},
   "outputs": [],
   "source": [
    "anneeFrame.set_index('Annee', inplace=True)"
   ]
  },
  {
   "cell_type": "code",
   "execution_count": 7,
   "metadata": {},
   "outputs": [
    {
     "data": {
      "text/html": [
       "<div>\n",
       "<style scoped>\n",
       "    .dataframe tbody tr th:only-of-type {\n",
       "        vertical-align: middle;\n",
       "    }\n",
       "\n",
       "    .dataframe tbody tr th {\n",
       "        vertical-align: top;\n",
       "    }\n",
       "\n",
       "    .dataframe thead th {\n",
       "        text-align: right;\n",
       "    }\n",
       "</style>\n",
       "<table border=\"1\" class=\"dataframe\">\n",
       "  <thead>\n",
       "    <tr style=\"text-align: right;\">\n",
       "      <th></th>\n",
       "      <th>Total</th>\n",
       "    </tr>\n",
       "    <tr>\n",
       "      <th>Annee</th>\n",
       "      <th></th>\n",
       "    </tr>\n",
       "  </thead>\n",
       "  <tbody>\n",
       "    <tr>\n",
       "      <th>2012</th>\n",
       "      <td>2398494</td>\n",
       "    </tr>\n",
       "    <tr>\n",
       "      <th>2013</th>\n",
       "      <td>2394915</td>\n",
       "    </tr>\n",
       "    <tr>\n",
       "      <th>2014</th>\n",
       "      <td>2412216</td>\n",
       "    </tr>\n",
       "    <tr>\n",
       "      <th>2015</th>\n",
       "      <td>2416906</td>\n",
       "    </tr>\n",
       "    <tr>\n",
       "      <th>2016</th>\n",
       "      <td>2387394</td>\n",
       "    </tr>\n",
       "    <tr>\n",
       "      <th>2017</th>\n",
       "      <td>2469292</td>\n",
       "    </tr>\n",
       "  </tbody>\n",
       "</table>\n",
       "</div>"
      ],
      "text/plain": [
       "         Total\n",
       "Annee         \n",
       "2012   2398494\n",
       "2013   2394915\n",
       "2014   2412216\n",
       "2015   2416906\n",
       "2016   2387394\n",
       "2017   2469292"
      ]
     },
     "execution_count": 7,
     "metadata": {},
     "output_type": "execute_result"
    }
   ],
   "source": [
    "anneeFrame"
   ]
  },
  {
   "cell_type": "code",
   "execution_count": 8,
   "metadata": {},
   "outputs": [
    {
     "data": {
      "image/png": "[encoded data removed]",
      "text/plain": [
       "<Figure size 640x480 with 1 Axes>"
      ]
     },
     "metadata": {},
     "output_type": "display_data"
    }
   ],
   "source": [
    "# Visualisation des données\n",
    "fig, ax = plt.subplots()\n",
    "ax.plot(anneeFrame.index, anneeFrame.values)\n",
    "plt.yticks(np.arange(2200000, 2600000, 100000))\n",
    "ax.set_title('Total crimes reportés par la police nationnale')\n",
    "ax.set_ylabel('Nombre de crimes (en millions)')\n",
    "plt.savefig('PoliceGraph.png', transparent=False)\n",
    "plt.show()"
   ]
  }
 ],
 "metadata": {
  "kernelspec": {
   "display_name": "Python 3.9.9 64-bit",
   "language": "python",
   "name": "python3"
  },
  "language_info": {
   "codemirror_mode": {
    "name": "ipython",
    "version": 3
   },
   "file_extension": ".py",
   "mimetype": "text/x-python",
   "name": "python",
   "nbconvert_exporter": "python",
   "pygments_lexer": "ipython3",
   "version": "3.9.9"
  },
  "orig_nbformat": 4,
  "vscode": {
   "interpreter": {
    "hash": "949777d72b0d2535278d3dc13498b2535136f6dfe0678499012e853ee9abcab1"
   }
  }
 },
 "nbformat": 4,
 "nbformat_minor": 2
}
