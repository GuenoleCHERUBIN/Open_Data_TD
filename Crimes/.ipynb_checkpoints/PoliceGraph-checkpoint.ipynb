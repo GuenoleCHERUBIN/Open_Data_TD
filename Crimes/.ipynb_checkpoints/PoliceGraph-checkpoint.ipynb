{
 "cells": [
  {
   "cell_type": "code",
   "execution_count": null,
   "metadata": {},
   "outputs": [],
   "source": [
    "import pandas as pd\n",
    "import openpyxl\n",
    "import numpy as np\n",
    "import matplotlib.pyplot as plt\n",
    "import plotly.express as px\n",
    "\n",
    "df_start = pd.read_excel('./data/crimes-et-delits-enregistres-par-les-services-de-gendarmerie-et-de-police-depuis-2012.xlsx', sheet_name=1)\n",
    "df_start.rename(columns={\"Année 2012> - services de police\": \"ID\", \"Départements\": \"CrimeType\"}, inplace=True)\n",
    "df_start['Annee'] = 2012"
   ]
  },
  {
   "cell_type": "code",
   "execution_count": null,
   "metadata": {},
   "outputs": [],
   "source": [
    "for i in range(2,7):\n",
    "    df = pd.read_excel('./data/crimes-et-delits-enregistres-par-les-services-de-gendarmerie-et-de-police-depuis-2012.xlsx', sheet_name=i)\n",
    "    year = 2011 + i    \n",
    "    col1 = \"Année {} - services de police\".format(2011+i)\n",
    "    df.rename(columns={col1: \"ID\", \"Départements\": \"CrimeType\"}, inplace=True)\n",
    "    df['Annee'] = year    \n",
    "    df_start = pd.concat([df_start, df], ignore_index=True)"
   ]
  },
  {
   "cell_type": "code",
   "execution_count": null,
   "metadata": {},
   "outputs": [],
   "source": [
    "df_start.fillna(0, inplace=True)"
   ]
  },
  {
   "cell_type": "code",
   "execution_count": null,
   "metadata": {},
   "outputs": [],
   "source": [
    "indexName = df_start['Annee'] # Fetch the years in the dataframe\n",
    "annee = indexName.drop_duplicates() # Delete all the duplicates\n",
    "anneeFrame = annee.to_frame() # Convert the series to a dataframe\n",
    "sumCrime = []\n",
    "anneeFrame['Total'] = ''\n",
    "for i in annee:\n",
    "    dfAnnee = df_start.loc[df_start['Annee'] == i] # Fetch the dataframe for the year depending the variable\n",
    "    dfTest = dfAnnee.loc[:, ~dfAnnee.columns.isin([dfAnnee.columns[0], dfAnnee.columns[1]])] #Fetch the dataframe without the first two columns\n",
    "    noColumnAnnee = dfTest.loc[:, dfTest.columns != 'Annee']\n",
    "    excludeColumn = noColumnAnnee.iloc[2:] # Fetch the dataframe without the first two rows \n",
    "    crimes = excludeColumn.sum()\n",
    "    sumCrimes = crimes\n",
    "    sumCrime = sumCrime + [sumCrimes.sum()]\n",
    "    \n",
    "anneeFrame.loc[:,'Total'] = sumCrime \n",
    "    "
   ]
  },
  {
   "cell_type": "code",
   "execution_count": null,
   "metadata": {},
   "outputs": [],
   "source": [
    "anneeFrame.set_index('Annee', inplace=True)"
   ]
  },
  {
   "cell_type": "code",
   "execution_count": null,
   "metadata": {},
   "outputs": [],
   "source": [
    "anneeFrame"
   ]
  },
  {
   "cell_type": "code",
   "execution_count": null,
   "metadata": {},
   "outputs": [],
   "source": [
    "# Visualisation des données\n",
    "fig, ax = plt.subplots()\n",
    "ax.plot(anneeFrame.index, anneeFrame.values)\n",
    "plt.yticks(np.arange(2200000, 2600000, 100000))\n",
    "ax.set_title('Total crimes reportés par la police nationale')\n",
    "ax.set_ylabel('Nombre de crimes (en millions)')\n",
    "plt.savefig('PoliceGraph.png', transparent=False)\n",
    "plt.show()"
   ]
  },
  {
   "cell_type": "code",
   "execution_count": null,
   "metadata": {},
   "outputs": [],
   "source": [
    "fig1 = px.line(anneeFrame,x='Total', y =\"Total\" ,title='Total crimes reportés par la police nationale')\n",
    "fig1.show()"
   ]
  },
  {
   "cell_type": "code",
   "execution_count": null,
   "metadata": {},
   "outputs": [],
   "source": []
  }
 ],
 "metadata": {
  "kernelspec": {
   "display_name": "Python 3 (ipykernel)",
   "language": "python",
   "name": "python3"
  },
  "language_info": {
   "codemirror_mode": {
    "name": "ipython",
    "version": 3
   },
   "file_extension": ".py",
   "mimetype": "text/x-python",
   "name": "python",
   "nbconvert_exporter": "python",
   "pygments_lexer": "ipython3",
   "version": "3.9.9"
  },
  "vscode": {
   "interpreter": {
    "hash": "949777d72b0d2535278d3dc13498b2535136f6dfe0678499012e853ee9abcab1"
   }
  }
 },
 "nbformat": 4,
 "nbformat_minor": 2
}
