{
 "cells": [
  {
   "cell_type": "code",
   "execution_count": 1,
   "metadata": {
    "colab": {
     "base_uri": "https://localhost:8080/"
    },
    "executionInfo": {
     "elapsed": 7714,
     "status": "ok",
     "timestamp": 1663928756818,
     "user": {
      "displayName": "Hakan “Le Tigre” CAVDAR",
      "userId": "10586463350732676001"
     },
     "user_tz": -120
    },
    "id": "edAYcpQKBL_m",
    "outputId": "0279300b-ff64-4063-fc6c-6bb4db71530f"
   },
   "outputs": [
    {
     "ename": "ModuleNotFoundError",
     "evalue": "No module named 'plotly'",
     "output_type": "error",
     "traceback": [
      "\u001b[0;31m---------------------------------------------------------------------------\u001b[0m",
      "\u001b[0;31mModuleNotFoundError\u001b[0m                       Traceback (most recent call last)",
      "Cell \u001b[0;32mIn [1], line 6\u001b[0m\n\u001b[1;32m      4\u001b[0m \u001b[38;5;28;01mimport\u001b[39;00m \u001b[38;5;21;01mnumpy\u001b[39;00m \u001b[38;5;28;01mas\u001b[39;00m \u001b[38;5;21;01mnp\u001b[39;00m\n\u001b[1;32m      5\u001b[0m \u001b[38;5;28;01mimport\u001b[39;00m \u001b[38;5;21;01mmatplotlib\u001b[39;00m\u001b[38;5;21;01m.\u001b[39;00m\u001b[38;5;21;01mpyplot\u001b[39;00m \u001b[38;5;28;01mas\u001b[39;00m \u001b[38;5;21;01mplt\u001b[39;00m\n\u001b[0;32m----> 6\u001b[0m \u001b[38;5;28;01mimport\u001b[39;00m \u001b[38;5;21;01mplotly\u001b[39;00m\u001b[38;5;21;01m.\u001b[39;00m\u001b[38;5;21;01mexpress\u001b[39;00m \u001b[38;5;28;01mas\u001b[39;00m \u001b[38;5;21;01mpx\u001b[39;00m\n\u001b[1;32m      7\u001b[0m get_ipython()\u001b[38;5;241m.\u001b[39mrun_line_magic(\u001b[38;5;124m'\u001b[39m\u001b[38;5;124mpip\u001b[39m\u001b[38;5;124m'\u001b[39m, \u001b[38;5;124m'\u001b[39m\u001b[38;5;124minstall -U kaleido\u001b[39m\u001b[38;5;124m'\u001b[39m)\n\u001b[1;32m      8\u001b[0m plt\u001b[38;5;241m.\u001b[39mrcParams[\u001b[38;5;124m'\u001b[39m\u001b[38;5;124mfigure.figsize\u001b[39m\u001b[38;5;124m'\u001b[39m] \u001b[38;5;241m=\u001b[39m (\u001b[38;5;241m15\u001b[39m, \u001b[38;5;241m10\u001b[39m)\n",
      "\u001b[0;31mModuleNotFoundError\u001b[0m: No module named 'plotly'"
     ]
    }
   ],
   "source": [
    "%matplotlib inline\n",
    "\n",
    "import pandas as pd\n",
    "import numpy as np\n",
    "import matplotlib.pyplot as plt\n",
    "import plotly.express as px\n",
    "%pip install -U kaleido\n",
    "plt.rcParams['figure.figsize'] = (15, 10)"
   ]
  },
  {
   "cell_type": "code",
   "execution_count": null,
   "metadata": {
    "executionInfo": {
     "elapsed": 6,
     "status": "ok",
     "timestamp": 1663928756819,
     "user": {
      "displayName": "Hakan “Le Tigre” CAVDAR",
      "userId": "10586463350732676001"
     },
     "user_tz": -120
    },
    "id": "_prNgvw_9qjf"
   },
   "outputs": [],
   "source": [
    "pathSmic='/content/drive/MyDrive/Colab Notebooks/OpenData/Hakan/evolutiondusmic/valeurs_annuelles.csv'"
   ]
  },
  {
   "cell_type": "code",
   "execution_count": null,
   "metadata": {
    "executionInfo": {
     "elapsed": 5,
     "status": "ok",
     "timestamp": 1663928756819,
     "user": {
      "displayName": "Hakan “Le Tigre” CAVDAR",
      "userId": "10586463350732676001"
     },
     "user_tz": -120
    },
    "id": "JJ2m44vM92RT"
   },
   "outputs": [],
   "source": [
    "pathConso='/content/drive/MyDrive/Colab Notebooks/OpenData/Hakan/indicedesprixalaconsomation/valeurs_mensuelles.csv'"
   ]
  },
  {
   "cell_type": "markdown",
   "metadata": {
    "id": "t3HFtG968XT_"
   },
   "source": [
    "Supprime les 3 premières lignes des data"
   ]
  },
  {
   "cell_type": "code",
   "execution_count": null,
   "metadata": {
    "executionInfo": {
     "elapsed": 5,
     "status": "ok",
     "timestamp": 1663928756819,
     "user": {
      "displayName": "Hakan “Le Tigre” CAVDAR",
      "userId": "10586463350732676001"
     },
     "user_tz": -120
    },
    "id": "jrBzXbuoe8SO"
   },
   "outputs": [],
   "source": [
    "df_evolutionSmic = pd.read_csv(pathSmic, sep=';',skiprows=3)"
   ]
  },
  {
   "cell_type": "code",
   "execution_count": null,
   "metadata": {
    "executionInfo": {
     "elapsed": 5,
     "status": "ok",
     "timestamp": 1663928756819,
     "user": {
      "displayName": "Hakan “Le Tigre” CAVDAR",
      "userId": "10586463350732676001"
     },
     "user_tz": -120
    },
    "id": "RqiIs9IhBT1p"
   },
   "outputs": [],
   "source": [
    "df_consomation = pd.read_csv(pathConso, sep=';',skiprows=3)"
   ]
  },
  {
   "cell_type": "markdown",
   "metadata": {
    "id": "X4zpy-D_T4IM"
   },
   "source": [
    "Renomage des entêtes"
   ]
  },
  {
   "cell_type": "code",
   "execution_count": null,
   "metadata": {
    "executionInfo": {
     "elapsed": 274,
     "status": "ok",
     "timestamp": 1663928757088,
     "user": {
      "displayName": "Hakan “Le Tigre” CAVDAR",
      "userId": "10586463350732676001"
     },
     "user_tz": -120
    },
    "id": "TrUd8Y0sfAOE"
   },
   "outputs": [],
   "source": [
    "df_evolutionSmic.rename(columns={\"Période\":\"periode\",\"Unnamed: 1\": \"indice_smic\", \"Unnamed: 2\": \"codes\"}, inplace=True)"
   ]
  },
  {
   "cell_type": "code",
   "execution_count": null,
   "metadata": {
    "executionInfo": {
     "elapsed": 5,
     "status": "ok",
     "timestamp": 1663928757089,
     "user": {
      "displayName": "Hakan “Le Tigre” CAVDAR",
      "userId": "10586463350732676001"
     },
     "user_tz": -120
    },
    "id": "6fhdNu0YB1io"
   },
   "outputs": [],
   "source": [
    "df_consomation.rename(columns={\"Période\":\"periode\",\"Unnamed: 1\": \"indice_prix_consomation\", \"Unnamed: 2\": \"codes\"}, inplace=True)"
   ]
  },
  {
   "cell_type": "markdown",
   "metadata": {
    "id": "7W3NHmZLTzJa"
   },
   "source": [
    "Converstion des dates en Datetime"
   ]
  },
  {
   "cell_type": "code",
   "execution_count": null,
   "metadata": {
    "executionInfo": {
     "elapsed": 5,
     "status": "ok",
     "timestamp": 1663928757089,
     "user": {
      "displayName": "Hakan “Le Tigre” CAVDAR",
      "userId": "10586463350732676001"
     },
     "user_tz": -120
    },
    "id": "UKEbithfP2nR"
   },
   "outputs": [],
   "source": [
    "df_consomation['periode'] = pd.to_datetime(df_consomation['periode'])"
   ]
  },
  {
   "cell_type": "markdown",
   "metadata": {
    "id": "2d10rLErT8ln"
   },
   "source": [
    "Converstion des dates en année"
   ]
  },
  {
   "cell_type": "code",
   "execution_count": null,
   "metadata": {
    "executionInfo": {
     "elapsed": 5,
     "status": "ok",
     "timestamp": 1663928757089,
     "user": {
      "displayName": "Hakan “Le Tigre” CAVDAR",
      "userId": "10586463350732676001"
     },
     "user_tz": -120
    },
    "id": "72oKcJWdPjC7"
   },
   "outputs": [],
   "source": [
    "df_consomation['periode'] = df_consomation['periode'].dt.strftime('%Y')"
   ]
  },
  {
   "cell_type": "markdown",
   "metadata": {
    "id": "SC1ECIOPUDUk"
   },
   "source": [
    "Faire la moyenne pour chaque année"
   ]
  },
  {
   "cell_type": "code",
   "execution_count": null,
   "metadata": {
    "executionInfo": {
     "elapsed": 4,
     "status": "ok",
     "timestamp": 1663928757089,
     "user": {
      "displayName": "Hakan “Le Tigre” CAVDAR",
      "userId": "10586463350732676001"
     },
     "user_tz": -120
    },
    "id": "GHuG83xlRJ9W"
   },
   "outputs": [],
   "source": [
    "df_consomation_average = df_consomation.groupby(['periode']).mean()\n",
    "df_consomation_average.reset_index(inplace=True)"
   ]
  },
  {
   "cell_type": "markdown",
   "metadata": {
    "id": "i5y18MH77b0L"
   },
   "source": [
    "Fonctions pour transformer les valeur en pourcentage en fonction de l'année de référence."
   ]
  },
  {
   "cell_type": "code",
   "execution_count": null,
   "metadata": {
    "executionInfo": {
     "elapsed": 5,
     "status": "ok",
     "timestamp": 1663928757090,
     "user": {
      "displayName": "Hakan “Le Tigre” CAVDAR",
      "userId": "10586463350732676001"
     },
     "user_tz": -120
    },
    "id": "qGf19tT9gDsw"
   },
   "outputs": [],
   "source": [
    "def percentageSmic(x):\n",
    "  return ((x-147.5) / 147.5)*100"
   ]
  },
  {
   "cell_type": "code",
   "execution_count": null,
   "metadata": {
    "executionInfo": {
     "elapsed": 5,
     "status": "ok",
     "timestamp": 1663928757090,
     "user": {
      "displayName": "Hakan “Le Tigre” CAVDAR",
      "userId": "10586463350732676001"
     },
     "user_tz": -120
    },
    "id": "NqIjODP4cQ7j"
   },
   "outputs": [],
   "source": [
    "def percentageAverage(x):\n",
    "  return ((x-98.8) / 98.8)*100"
   ]
  },
  {
   "cell_type": "markdown",
   "metadata": {
    "id": "hhmF_aeL7sBd"
   },
   "source": [
    "Appliquer les fonctions sur les indices des deux dataframes"
   ]
  },
  {
   "cell_type": "code",
   "execution_count": null,
   "metadata": {
    "executionInfo": {
     "elapsed": 5,
     "status": "ok",
     "timestamp": 1663928757090,
     "user": {
      "displayName": "Hakan “Le Tigre” CAVDAR",
      "userId": "10586463350732676001"
     },
     "user_tz": -120
    },
    "id": "evXBzObzgHy_"
   },
   "outputs": [],
   "source": [
    "SmicBar = sorted(df_evolutionSmic['indice_smic'].apply(percentageSmic))"
   ]
  },
  {
   "cell_type": "code",
   "execution_count": null,
   "metadata": {
    "executionInfo": {
     "elapsed": 240,
     "status": "ok",
     "timestamp": 1663928757326,
     "user": {
      "displayName": "Hakan “Le Tigre” CAVDAR",
      "userId": "10586463350732676001"
     },
     "user_tz": -120
    },
    "id": "kEpFVr6QcWX-"
   },
   "outputs": [],
   "source": [
    "ConsoBar = df_consomation_average['indice_prix_consomation'].apply(percentageAverage)"
   ]
  },
  {
   "cell_type": "markdown",
   "metadata": {
    "id": "51FqX7Lx71oS"
   },
   "source": [
    "Période de référence"
   ]
  },
  {
   "cell_type": "code",
   "execution_count": null,
   "metadata": {
    "executionInfo": {
     "elapsed": 3,
     "status": "ok",
     "timestamp": 1663928757326,
     "user": {
      "displayName": "Hakan “Le Tigre” CAVDAR",
      "userId": "10586463350732676001"
     },
     "user_tz": -120
    },
    "id": "E-OEKPlf5qgC"
   },
   "outputs": [],
   "source": [
    "periode = df_consomation_average['periode']"
   ]
  },
  {
   "cell_type": "markdown",
   "metadata": {
    "id": "PEVm5R-Q9i-F"
   },
   "source": []
  },
  {
   "cell_type": "code",
   "execution_count": null,
   "metadata": {
    "executionInfo": {
     "elapsed": 3,
     "status": "ok",
     "timestamp": 1663928757326,
     "user": {
      "displayName": "Hakan “Le Tigre” CAVDAR",
      "userId": "10586463350732676001"
     },
     "user_tz": -120
    },
    "id": "yDbb3XRWCGyd"
   },
   "outputs": [],
   "source": [
    "# plt.bar(periode, df_consomation_average['indice_prix_consomation'])\n",
    "# plt.ylim((95,110))\n",
    "# plt.savefig('indice_consomation.png')\n",
    "# plt.title(\"Indice consomation\")\n",
    "# plt.show()"
   ]
  },
  {
   "cell_type": "code",
   "execution_count": null,
   "metadata": {
    "executionInfo": {
     "elapsed": 4,
     "status": "ok",
     "timestamp": 1663928757327,
     "user": {
      "displayName": "Hakan “Le Tigre” CAVDAR",
      "userId": "10586463350732676001"
     },
     "user_tz": -120
    },
    "id": "PcJFg8Bzcj40"
   },
   "outputs": [],
   "source": [
    "# plt.bar(periode, ConsoBar)\n",
    "# plt.ylim((0,12))\n",
    "# plt.title(\"Pourcentage consomation base 2012\")\n",
    "# plt.savefig('pourcentage_consomation.png')\n",
    "# plt.show()"
   ]
  },
  {
   "cell_type": "markdown",
   "metadata": {
    "id": "HBejjMRBgsIx"
   },
   "source": [
    "Graph des deux dataframe en un pour visualiser les données et évolution"
   ]
  },
  {
   "cell_type": "code",
   "execution_count": null,
   "metadata": {
    "colab": {
     "base_uri": "https://localhost:8080/",
     "height": 621
    },
    "executionInfo": {
     "elapsed": 834,
     "status": "ok",
     "timestamp": 1663928758157,
     "user": {
      "displayName": "Hakan “Le Tigre” CAVDAR",
      "userId": "10586463350732676001"
     },
     "user_tz": -120
    },
    "id": "uRec8GQ2greV",
    "outputId": "05211947-6ba6-40ae-9426-1ec143b776cd"
   },
   "outputs": [],
   "source": [
    "X_axis = np.arange(len(periode))\n",
    "plt.bar(X_axis - 0.2, ConsoBar, 0.4, label = 'Consomation')\n",
    "plt.bar(X_axis + 0.2, SmicBar, 0.4, label = 'Smic')\n",
    "plt.xticks(X_axis, periode)\n",
    "plt.xlabel(\"Année\")\n",
    "plt.legend()\n",
    "plt.title(\"Évolution du SMIC et Consomation\")\n",
    "plt.savefig('comparaison.png')\n",
    "plt.show()"
   ]
  },
  {
   "cell_type": "markdown",
   "metadata": {
    "id": "GFZGe0dpm_Pd"
   },
   "source": [
    "Autre jeux de donnée"
   ]
  },
  {
   "cell_type": "code",
   "execution_count": null,
   "metadata": {
    "executionInfo": {
     "elapsed": 3,
     "status": "ok",
     "timestamp": 1663928758158,
     "user": {
      "displayName": "Hakan “Le Tigre” CAVDAR",
      "userId": "10586463350732676001"
     },
     "user_tz": -120
    },
    "id": "v2iFptHum-v7"
   },
   "outputs": [],
   "source": [
    "pathSmicEvolution='/content/drive/MyDrive/Colab Notebooks/OpenData/Hakan/smic.xlsx'"
   ]
  },
  {
   "cell_type": "code",
   "execution_count": null,
   "metadata": {
    "executionInfo": {
     "elapsed": 182,
     "status": "ok",
     "timestamp": 1663928758337,
     "user": {
      "displayName": "Hakan “Le Tigre” CAVDAR",
      "userId": "10586463350732676001"
     },
     "user_tz": -120
    },
    "id": "XXprwZJ5rIaa"
   },
   "outputs": [],
   "source": [
    "df_Smic = pd.read_excel(pathSmicEvolution)\n",
    "df_Smic.drop(df_Smic.tail(6).index,inplace=True) \n",
    "df_Smic.drop(df_Smic.head(3).index,inplace=True) "
   ]
  },
  {
   "cell_type": "code",
   "execution_count": null,
   "metadata": {
    "executionInfo": {
     "elapsed": 6,
     "status": "ok",
     "timestamp": 1663928758338,
     "user": {
      "displayName": "Hakan “Le Tigre” CAVDAR",
      "userId": "10586463350732676001"
     },
     "user_tz": -120
    },
    "id": "lgwiLymDs35M"
   },
   "outputs": [],
   "source": [
    "df_Smic.drop(['Unnamed: 1','Unnamed: 2','Unnamed: 5','Unnamed: 6','Unnamed: 7'], axis=1,inplace=True) "
   ]
  },
  {
   "cell_type": "code",
   "execution_count": null,
   "metadata": {
    "executionInfo": {
     "elapsed": 5,
     "status": "ok",
     "timestamp": 1663928758338,
     "user": {
      "displayName": "Hakan “Le Tigre” CAVDAR",
      "userId": "10586463350732676001"
     },
     "user_tz": -120
    },
    "id": "LhFzlotos6P-"
   },
   "outputs": [],
   "source": [
    "df_Smic.rename(columns={\"Salaire minimum interprofessionnel de croissance (Smic)\":\"annee\",\"Unnamed: 3\":\"smic_horaire\",\"Unnamed: 4\": \"smic_mensuel\"}, inplace=True)"
   ]
  },
  {
   "cell_type": "code",
   "execution_count": null,
   "metadata": {
    "executionInfo": {
     "elapsed": 4,
     "status": "ok",
     "timestamp": 1663928758338,
     "user": {
      "displayName": "Hakan “Le Tigre” CAVDAR",
      "userId": "10586463350732676001"
     },
     "user_tz": -120
    },
    "id": "1lrA4a_PrJsL"
   },
   "outputs": [],
   "source": [
    "# df_Smic"
   ]
  },
  {
   "cell_type": "code",
   "execution_count": null,
   "metadata": {
    "executionInfo": {
     "elapsed": 5,
     "status": "ok",
     "timestamp": 1663928758339,
     "user": {
      "displayName": "Hakan “Le Tigre” CAVDAR",
      "userId": "10586463350732676001"
     },
     "user_tz": -120
    },
    "id": "pq1Utsg_sOx0"
   },
   "outputs": [],
   "source": [
    "df_newSmic = df_Smic.loc[df_Smic['annee'] >= 2012]\n",
    "# df_newSmic.loc[df_newSmic['annee'] >= 2012]"
   ]
  },
  {
   "cell_type": "code",
   "execution_count": null,
   "metadata": {
    "executionInfo": {
     "elapsed": 5,
     "status": "ok",
     "timestamp": 1663928758339,
     "user": {
      "displayName": "Hakan “Le Tigre” CAVDAR",
      "userId": "10586463350732676001"
     },
     "user_tz": -120
    },
    "id": "h17qWp74nMPv"
   },
   "outputs": [],
   "source": [
    "# plt.bar(df_newSmic.loc[df_newSmic['annee'] >= 2012]['annee'], df_newSmic['smic_horaire'])\n",
    "# plt.ylim((5,12))\n",
    "# plt.title(\"Évolution du prix horaire du SMIC\")\n",
    "# plt.savefig('smic_horaire.png')\n",
    "# plt.show()"
   ]
  },
  {
   "cell_type": "markdown",
   "metadata": {
    "id": "OwVMY_xXat7i"
   },
   "source": [
    "Gini"
   ]
  },
  {
   "cell_type": "code",
   "execution_count": null,
   "metadata": {
    "executionInfo": {
     "elapsed": 4,
     "status": "ok",
     "timestamp": 1663928758339,
     "user": {
      "displayName": "Hakan “Le Tigre” CAVDAR",
      "userId": "10586463350732676001"
     },
     "user_tz": -120
    },
    "id": "zV4es_Xoatra"
   },
   "outputs": [],
   "source": [
    "pathGini = '/content/drive/MyDrive/Colab Notebooks/OpenData/Hakan/RPM2021-VE1.xlsx'\n"
   ]
  },
  {
   "cell_type": "code",
   "execution_count": null,
   "metadata": {
    "executionInfo": {
     "elapsed": 229,
     "status": "ok",
     "timestamp": 1663928758564,
     "user": {
      "displayName": "Hakan “Le Tigre” CAVDAR",
      "userId": "10586463350732676001"
     },
     "user_tz": -120
    },
    "id": "114FdOJ71Jc4"
   },
   "outputs": [],
   "source": [
    "df_gini = pd.read_excel(pathGini,sheet_name=\"Figure 5\")\n"
   ]
  },
  {
   "cell_type": "code",
   "execution_count": null,
   "metadata": {
    "executionInfo": {
     "elapsed": 230,
     "status": "ok",
     "timestamp": 1663928758792,
     "user": {
      "displayName": "Hakan “Le Tigre” CAVDAR",
      "userId": "10586463350732676001"
     },
     "user_tz": -120
    },
    "id": "btM-XxRx1PBH"
   },
   "outputs": [],
   "source": [
    "df_gini.drop(df_gini.head(4).index,inplace=True)\n",
    "df_gini.drop(df_gini.tail(3).index,inplace=True)\n"
   ]
  },
  {
   "cell_type": "code",
   "execution_count": null,
   "metadata": {
    "executionInfo": {
     "elapsed": 3,
     "status": "ok",
     "timestamp": 1663928758793,
     "user": {
      "displayName": "Hakan “Le Tigre” CAVDAR",
      "userId": "10586463350732676001"
     },
     "user_tz": -120
    },
    "id": "2QFjkPvj1QVf"
   },
   "outputs": [],
   "source": [
    "df_gini.rename(columns={\"5. Inégalités de niveaux de vie avant et après redistribution depuis 1996\":\"annee\",\"Unnamed: 1\":\"Indice Gini\"}, inplace=True)\n",
    "df_gini = df_gini.loc[:, ['annee','Indice Gini']]\n",
    "df_gini = df_gini.loc[df_gini['annee'] >= 1998]"
   ]
  },
  {
   "cell_type": "code",
   "execution_count": null,
   "metadata": {
    "colab": {
     "base_uri": "https://localhost:8080/",
     "height": 621
    },
    "executionInfo": {
     "elapsed": 630,
     "status": "ok",
     "timestamp": 1663928759421,
     "user": {
      "displayName": "Hakan “Le Tigre” CAVDAR",
      "userId": "10586463350732676001"
     },
     "user_tz": -120
    },
    "id": "1x5otGzJ1Si6",
    "outputId": "81b00cf5-e026-484a-9401-fe7b54967752"
   },
   "outputs": [],
   "source": [
    "plt.bar(df_gini['annee'],df_gini['Indice Gini']*100)\n",
    "plt.ylim((35,39))\n",
    "plt.xlim((2000,2018))\n",
    "plt.xlabel('Année')\n",
    "plt.ylabel('Taux %')\n",
    "plt.title(\"Taux de Gini en France\")\n",
    "plt.savefig('taux_gini.png')\n",
    "plt.show()"
   ]
  },
  {
   "cell_type": "code",
   "execution_count": null,
   "metadata": {
    "colab": {
     "base_uri": "https://localhost:8080/",
     "height": 542
    },
    "executionInfo": {
     "elapsed": 1538,
     "status": "ok",
     "timestamp": 1663928760957,
     "user": {
      "displayName": "Hakan “Le Tigre” CAVDAR",
      "userId": "10586463350732676001"
     },
     "user_tz": -120
    },
    "id": "Gx4crWySSkg5",
    "outputId": "51fdddb6-caee-4252-d056-61e8c897c364"
   },
   "outputs": [],
   "source": [
    "fig = px.line(df_gini, x=\"annee\", y=\"Indice Gini\", title='Gini')\n",
    "fig.write_image(\"figGini.png\")\n",
    "fig.show()"
   ]
  },
  {
   "cell_type": "code",
   "execution_count": null,
   "metadata": {
    "executionInfo": {
     "elapsed": 4,
     "status": "ok",
     "timestamp": 1663928760957,
     "user": {
      "displayName": "Hakan “Le Tigre” CAVDAR",
      "userId": "10586463350732676001"
     },
     "user_tz": -120
    },
    "id": "6ee2-vtRz7zR"
   },
   "outputs": [],
   "source": [
    "# df_rsa = pd.read_excel(pathGini,sheet_name=\"Figure A de l'encadré\")\n",
    "# df_rsa.drop(df_rsa.head(2).index,inplace=True)\n",
    "# df_rsa.drop(df_rsa.tail(4).index,inplace=True)\n",
    "# df_rsa.rename(columns={\"A. Nombre d’allocataires du RSA depuis janvier 2017\":\"annee\",\"Unnamed: 1\":\"mois\",\"Unnamed: 2\":\"effectif\"}, inplace=True)\n",
    "# df_rsa = df_rsa.fillna(value=0)\n",
    "# df_rsa=df_rsa.reset_index()\n",
    "# df_rsa\n",
    "# year=2017\n",
    "# for idx, i in enumerate(df_rsa['annee']):\n",
    "#   if i==0:\n",
    "#     df_rsa['annee'][idx]=year\n",
    "#   else:\n",
    "#     year=i"
   ]
  },
  {
   "cell_type": "code",
   "execution_count": null,
   "metadata": {
    "executionInfo": {
     "elapsed": 5,
     "status": "ok",
     "timestamp": 1663928760958,
     "user": {
      "displayName": "Hakan “Le Tigre” CAVDAR",
      "userId": "10586463350732676001"
     },
     "user_tz": -120
    },
    "id": "VX7Xf0rloSrT"
   },
   "outputs": [],
   "source": [
    "# df_rsa = df_rsa.groupby(['annee']).mean()\n"
   ]
  },
  {
   "cell_type": "code",
   "execution_count": null,
   "metadata": {
    "executionInfo": {
     "elapsed": 4,
     "status": "ok",
     "timestamp": 1663928760958,
     "user": {
      "displayName": "Hakan “Le Tigre” CAVDAR",
      "userId": "10586463350732676001"
     },
     "user_tz": -120
    },
    "id": "zpEBTOChotl9"
   },
   "outputs": [],
   "source": [
    "# df_rsa=df_rsa.reset_index()\n",
    "# df_rsa=df_rsa.drop(['index'], axis=1)\n",
    "# df_rsa\n",
    "# plt.bar(df_rsa['annee'],df_rsa['effectif'])\n",
    "# plt.ylim((1800000,2100000))\n",
    "# plt.show()"
   ]
  }
 ],
 "metadata": {
  "colab": {
   "authorship_tag": "ABX9TyMUmB+iepq/9lvai1kN5uFH",
   "collapsed_sections": [],
   "mount_file_id": "1gKj2CfxfPnmTbC4VUJ6a1Oq0-0k7VB72",
   "provenance": []
  },
  "kernelspec": {
   "display_name": "Python 3 (ipykernel)",
   "language": "python",
   "name": "python3"
  },
  "language_info": {
   "codemirror_mode": {
    "name": "ipython",
    "version": 3
   },
   "file_extension": ".py",
   "mimetype": "text/x-python",
   "name": "python",
   "nbconvert_exporter": "python",
   "pygments_lexer": "ipython3",
   "version": "3.9.6"
  }
 },
 "nbformat": 4,
 "nbformat_minor": 1
}
