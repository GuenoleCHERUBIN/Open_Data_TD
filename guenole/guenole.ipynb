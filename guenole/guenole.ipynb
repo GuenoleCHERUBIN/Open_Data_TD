{
 "cells": [
  {
   "cell_type": "code",
   "execution_count": 18,
   "id": "5a034684",
   "metadata": {},
   "outputs": [],
   "source": [
    "import pandas as pd\n",
    "import numpy as np\n",
    "import plotly as plt\n",
    "import plotly.express as px\n",
    "import kaleido"
   ]
  },
  {
   "cell_type": "code",
   "execution_count": 19,
   "id": "44780ed2",
   "metadata": {},
   "outputs": [
    {
     "name": "stdout",
     "output_type": "stream",
     "text": [
      "2022\n",
      "['France_Entière', 'France_Métro', '01', '02', '03', '04', '05', '06', '07', '08', '09', '10', '11', '12', '13', '14', '15', '16', '17', '18', '19', '2A', '2B', '21', '22', '23', '24', '25', '26', '27', '28', '29', '30', '31', '32', '33', '34', '35', '36', '37', '38', '39', '40', '41', '42', '43', '44', '45', '46', '47', '48', '49', '50', '51', '52', '53', '54', '55', '56', '57', '58', '59', '60', '61', '62', '63', '64', '65', '66', '67', '68', '69', '70', '71', '72', '73', '74', '75', '76', '77', '78', '79', '80', '81', '82', '83', '84', '85', '86', '87', '88', '89', '90', '91', '92', '93', '94', '95', '971', '972', '973', '974', '975', '976', '977', '978', '986', '987', '988']\n"
     ]
    },
    {
     "data": {
      "application/vnd.plotly.v1+json": {
       "config": {
        "plotlyServerURL": "https://plot.ly"
       },
       "data": [
        {
         "hovertemplate": "index=%{x}<br>Autres coups et blessures volontaires criminels ou correctionnels=%{y}<extra></extra>",
         "legendgroup": "",
         "line": {
          "color": "#636efa",
          "dash": "solid"
         },
         "marker": {
          "symbol": "circle"
         },
         "mode": "lines",
         "name": "",
         "orientation": "v",
         "showlegend": false,
         "type": "scatter",
         "x": [
          2000,
          2001,
          2002,
          2003,
          2004,
          2005,
          2006,
          2007,
          2008,
          2009,
          2010,
          2011,
          2012,
          2013,
          2014,
          2015,
          2016,
          2017,
          2018,
          2019,
          2020,
          2021,
          2022
         ],
         "xaxis": "x",
         "y": [
          110422,
          121154,
          129910,
          141700,
          144832,
          157092,
          173666,
          186727,
          199111,
          206160,
          206310,
          206350,
          207411,
          207530,
          211638,
          227151,
          231259,
          239318,
          257140,
          278702,
          282119,
          315694,
          209479
         ],
         "yaxis": "y"
        }
       ],
       "layout": {
        "legend": {
         "tracegroupgap": 0
        },
        "template": {
         "data": {
          "bar": [
           {
            "error_x": {
             "color": "#2a3f5f"
            },
            "error_y": {
             "color": "#2a3f5f"
            },
            "marker": {
             "line": {
              "color": "#E5ECF6",
              "width": 0.5
             },
             "pattern": {
              "fillmode": "overlay",
              "size": 10,
              "solidity": 0.2
             }
            },
            "type": "bar"
           }
          ],
          "barpolar": [
           {
            "marker": {
             "line": {
              "color": "#E5ECF6",
              "width": 0.5
             },
             "pattern": {
              "fillmode": "overlay",
              "size": 10,
              "solidity": 0.2
             }
            },
            "type": "barpolar"
           }
          ],
          "carpet": [
           {
            "aaxis": {
             "endlinecolor": "#2a3f5f",
             "gridcolor": "white",
             "linecolor": "white",
             "minorgridcolor": "white",
             "startlinecolor": "#2a3f5f"
            },
            "baxis": {
             "endlinecolor": "#2a3f5f",
             "gridcolor": "white",
             "linecolor": "white",
             "minorgridcolor": "white",
             "startlinecolor": "#2a3f5f"
            },
            "type": "carpet"
           }
          ],
          "choropleth": [
           {
            "colorbar": {
             "outlinewidth": 0,
             "ticks": ""
            },
            "type": "choropleth"
           }
          ],
          "contour": [
           {
            "colorbar": {
             "outlinewidth": 0,
             "ticks": ""
            },
            "colorscale": [
             [
              0,
              "#0d0887"
             ],
             [
              0.1111111111111111,
              "#46039f"
             ],
             [
              0.2222222222222222,
              "#7201a8"
             ],
             [
              0.3333333333333333,
              "#9c179e"
             ],
             [
              0.4444444444444444,
              "#bd3786"
             ],
             [
              0.5555555555555556,
              "#d8576b"
             ],
             [
              0.6666666666666666,
              "#ed7953"
             ],
             [
              0.7777777777777778,
              "#fb9f3a"
             ],
             [
              0.8888888888888888,
              "#fdca26"
             ],
             [
              1,
              "#f0f921"
             ]
            ],
            "type": "contour"
           }
          ],
          "contourcarpet": [
           {
            "colorbar": {
             "outlinewidth": 0,
             "ticks": ""
            },
            "type": "contourcarpet"
           }
          ],
          "heatmap": [
           {
            "colorbar": {
             "outlinewidth": 0,
             "ticks": ""
            },
            "colorscale": [
             [
              0,
              "#0d0887"
             ],
             [
              0.1111111111111111,
              "#46039f"
             ],
             [
              0.2222222222222222,
              "#7201a8"
             ],
             [
              0.3333333333333333,
              "#9c179e"
             ],
             [
              0.4444444444444444,
              "#bd3786"
             ],
             [
              0.5555555555555556,
              "#d8576b"
             ],
             [
              0.6666666666666666,
              "#ed7953"
             ],
             [
              0.7777777777777778,
              "#fb9f3a"
             ],
             [
              0.8888888888888888,
              "#fdca26"
             ],
             [
              1,
              "#f0f921"
             ]
            ],
            "type": "heatmap"
           }
          ],
          "heatmapgl": [
           {
            "colorbar": {
             "outlinewidth": 0,
             "ticks": ""
            },
            "colorscale": [
             [
              0,
              "#0d0887"
             ],
             [
              0.1111111111111111,
              "#46039f"
             ],
             [
              0.2222222222222222,
              "#7201a8"
             ],
             [
              0.3333333333333333,
              "#9c179e"
             ],
             [
              0.4444444444444444,
              "#bd3786"
             ],
             [
              0.5555555555555556,
              "#d8576b"
             ],
             [
              0.6666666666666666,
              "#ed7953"
             ],
             [
              0.7777777777777778,
              "#fb9f3a"
             ],
             [
              0.8888888888888888,
              "#fdca26"
             ],
             [
              1,
              "#f0f921"
             ]
            ],
            "type": "heatmapgl"
           }
          ],
          "histogram": [
           {
            "marker": {
             "pattern": {
              "fillmode": "overlay",
              "size": 10,
              "solidity": 0.2
             }
            },
            "type": "histogram"
           }
          ],
          "histogram2d": [
           {
            "colorbar": {
             "outlinewidth": 0,
             "ticks": ""
            },
            "colorscale": [
             [
              0,
              "#0d0887"
             ],
             [
              0.1111111111111111,
              "#46039f"
             ],
             [
              0.2222222222222222,
              "#7201a8"
             ],
             [
              0.3333333333333333,
              "#9c179e"
             ],
             [
              0.4444444444444444,
              "#bd3786"
             ],
             [
              0.5555555555555556,
              "#d8576b"
             ],
             [
              0.6666666666666666,
              "#ed7953"
             ],
             [
              0.7777777777777778,
              "#fb9f3a"
             ],
             [
              0.8888888888888888,
              "#fdca26"
             ],
             [
              1,
              "#f0f921"
             ]
            ],
            "type": "histogram2d"
           }
          ],
          "histogram2dcontour": [
           {
            "colorbar": {
             "outlinewidth": 0,
             "ticks": ""
            },
            "colorscale": [
             [
              0,
              "#0d0887"
             ],
             [
              0.1111111111111111,
              "#46039f"
             ],
             [
              0.2222222222222222,
              "#7201a8"
             ],
             [
              0.3333333333333333,
              "#9c179e"
             ],
             [
              0.4444444444444444,
              "#bd3786"
             ],
             [
              0.5555555555555556,
              "#d8576b"
             ],
             [
              0.6666666666666666,
              "#ed7953"
             ],
             [
              0.7777777777777778,
              "#fb9f3a"
             ],
             [
              0.8888888888888888,
              "#fdca26"
             ],
             [
              1,
              "#f0f921"
             ]
            ],
            "type": "histogram2dcontour"
           }
          ],
          "mesh3d": [
           {
            "colorbar": {
             "outlinewidth": 0,
             "ticks": ""
            },
            "type": "mesh3d"
           }
          ],
          "parcoords": [
           {
            "line": {
             "colorbar": {
              "outlinewidth": 0,
              "ticks": ""
             }
            },
            "type": "parcoords"
           }
          ],
          "pie": [
           {
            "automargin": true,
            "type": "pie"
           }
          ],
          "scatter": [
           {
            "fillpattern": {
             "fillmode": "overlay",
             "size": 10,
             "solidity": 0.2
            },
            "type": "scatter"
           }
          ],
          "scatter3d": [
           {
            "line": {
             "colorbar": {
              "outlinewidth": 0,
              "ticks": ""
             }
            },
            "marker": {
             "colorbar": {
              "outlinewidth": 0,
              "ticks": ""
             }
            },
            "type": "scatter3d"
           }
          ],
          "scattercarpet": [
           {
            "marker": {
             "colorbar": {
              "outlinewidth": 0,
              "ticks": ""
             }
            },
            "type": "scattercarpet"
           }
          ],
          "scattergeo": [
           {
            "marker": {
             "colorbar": {
              "outlinewidth": 0,
              "ticks": ""
             }
            },
            "type": "scattergeo"
           }
          ],
          "scattergl": [
           {
            "marker": {
             "colorbar": {
              "outlinewidth": 0,
              "ticks": ""
             }
            },
            "type": "scattergl"
           }
          ],
          "scattermapbox": [
           {
            "marker": {
             "colorbar": {
              "outlinewidth": 0,
              "ticks": ""
             }
            },
            "type": "scattermapbox"
           }
          ],
          "scatterpolar": [
           {
            "marker": {
             "colorbar": {
              "outlinewidth": 0,
              "ticks": ""
             }
            },
            "type": "scatterpolar"
           }
          ],
          "scatterpolargl": [
           {
            "marker": {
             "colorbar": {
              "outlinewidth": 0,
              "ticks": ""
             }
            },
            "type": "scatterpolargl"
           }
          ],
          "scatterternary": [
           {
            "marker": {
             "colorbar": {
              "outlinewidth": 0,
              "ticks": ""
             }
            },
            "type": "scatterternary"
           }
          ],
          "surface": [
           {
            "colorbar": {
             "outlinewidth": 0,
             "ticks": ""
            },
            "colorscale": [
             [
              0,
              "#0d0887"
             ],
             [
              0.1111111111111111,
              "#46039f"
             ],
             [
              0.2222222222222222,
              "#7201a8"
             ],
             [
              0.3333333333333333,
              "#9c179e"
             ],
             [
              0.4444444444444444,
              "#bd3786"
             ],
             [
              0.5555555555555556,
              "#d8576b"
             ],
             [
              0.6666666666666666,
              "#ed7953"
             ],
             [
              0.7777777777777778,
              "#fb9f3a"
             ],
             [
              0.8888888888888888,
              "#fdca26"
             ],
             [
              1,
              "#f0f921"
             ]
            ],
            "type": "surface"
           }
          ],
          "table": [
           {
            "cells": {
             "fill": {
              "color": "#EBF0F8"
             },
             "line": {
              "color": "white"
             }
            },
            "header": {
             "fill": {
              "color": "#C8D4E3"
             },
             "line": {
              "color": "white"
             }
            },
            "type": "table"
           }
          ]
         },
         "layout": {
          "annotationdefaults": {
           "arrowcolor": "#2a3f5f",
           "arrowhead": 0,
           "arrowwidth": 1
          },
          "autotypenumbers": "strict",
          "coloraxis": {
           "colorbar": {
            "outlinewidth": 0,
            "ticks": ""
           }
          },
          "colorscale": {
           "diverging": [
            [
             0,
             "#8e0152"
            ],
            [
             0.1,
             "#c51b7d"
            ],
            [
             0.2,
             "#de77ae"
            ],
            [
             0.3,
             "#f1b6da"
            ],
            [
             0.4,
             "#fde0ef"
            ],
            [
             0.5,
             "#f7f7f7"
            ],
            [
             0.6,
             "#e6f5d0"
            ],
            [
             0.7,
             "#b8e186"
            ],
            [
             0.8,
             "#7fbc41"
            ],
            [
             0.9,
             "#4d9221"
            ],
            [
             1,
             "#276419"
            ]
           ],
           "sequential": [
            [
             0,
             "#0d0887"
            ],
            [
             0.1111111111111111,
             "#46039f"
            ],
            [
             0.2222222222222222,
             "#7201a8"
            ],
            [
             0.3333333333333333,
             "#9c179e"
            ],
            [
             0.4444444444444444,
             "#bd3786"
            ],
            [
             0.5555555555555556,
             "#d8576b"
            ],
            [
             0.6666666666666666,
             "#ed7953"
            ],
            [
             0.7777777777777778,
             "#fb9f3a"
            ],
            [
             0.8888888888888888,
             "#fdca26"
            ],
            [
             1,
             "#f0f921"
            ]
           ],
           "sequentialminus": [
            [
             0,
             "#0d0887"
            ],
            [
             0.1111111111111111,
             "#46039f"
            ],
            [
             0.2222222222222222,
             "#7201a8"
            ],
            [
             0.3333333333333333,
             "#9c179e"
            ],
            [
             0.4444444444444444,
             "#bd3786"
            ],
            [
             0.5555555555555556,
             "#d8576b"
            ],
            [
             0.6666666666666666,
             "#ed7953"
            ],
            [
             0.7777777777777778,
             "#fb9f3a"
            ],
            [
             0.8888888888888888,
             "#fdca26"
            ],
            [
             1,
             "#f0f921"
            ]
           ]
          },
          "colorway": [
           "#636efa",
           "#EF553B",
           "#00cc96",
           "#ab63fa",
           "#FFA15A",
           "#19d3f3",
           "#FF6692",
           "#B6E880",
           "#FF97FF",
           "#FECB52"
          ],
          "font": {
           "color": "#2a3f5f"
          },
          "geo": {
           "bgcolor": "white",
           "lakecolor": "white",
           "landcolor": "#E5ECF6",
           "showlakes": true,
           "showland": true,
           "subunitcolor": "white"
          },
          "hoverlabel": {
           "align": "left"
          },
          "hovermode": "closest",
          "mapbox": {
           "style": "light"
          },
          "paper_bgcolor": "white",
          "plot_bgcolor": "#E5ECF6",
          "polar": {
           "angularaxis": {
            "gridcolor": "white",
            "linecolor": "white",
            "ticks": ""
           },
           "bgcolor": "#E5ECF6",
           "radialaxis": {
            "gridcolor": "white",
            "linecolor": "white",
            "ticks": ""
           }
          },
          "scene": {
           "xaxis": {
            "backgroundcolor": "#E5ECF6",
            "gridcolor": "white",
            "gridwidth": 2,
            "linecolor": "white",
            "showbackground": true,
            "ticks": "",
            "zerolinecolor": "white"
           },
           "yaxis": {
            "backgroundcolor": "#E5ECF6",
            "gridcolor": "white",
            "gridwidth": 2,
            "linecolor": "white",
            "showbackground": true,
            "ticks": "",
            "zerolinecolor": "white"
           },
           "zaxis": {
            "backgroundcolor": "#E5ECF6",
            "gridcolor": "white",
            "gridwidth": 2,
            "linecolor": "white",
            "showbackground": true,
            "ticks": "",
            "zerolinecolor": "white"
           }
          },
          "shapedefaults": {
           "line": {
            "color": "#2a3f5f"
           }
          },
          "ternary": {
           "aaxis": {
            "gridcolor": "white",
            "linecolor": "white",
            "ticks": ""
           },
           "baxis": {
            "gridcolor": "white",
            "linecolor": "white",
            "ticks": ""
           },
           "bgcolor": "#E5ECF6",
           "caxis": {
            "gridcolor": "white",
            "linecolor": "white",
            "ticks": ""
           }
          },
          "title": {
           "x": 0.05
          },
          "xaxis": {
           "automargin": true,
           "gridcolor": "white",
           "linecolor": "white",
           "ticks": "",
           "title": {
            "standoff": 15
           },
           "zerolinecolor": "white",
           "zerolinewidth": 2
          },
          "yaxis": {
           "automargin": true,
           "gridcolor": "white",
           "linecolor": "white",
           "ticks": "",
           "title": {
            "standoff": 15
           },
           "zerolinecolor": "white",
           "zerolinewidth": 2
          }
         }
        },
        "title": {
         "text": "Autres coups et blessures volontaires criminels ou correctionnels"
        },
        "xaxis": {
         "anchor": "y",
         "domain": [
          0,
          1
         ],
         "title": {
          "text": "index"
         }
        },
        "yaxis": {
         "anchor": "x",
         "domain": [
          0,
          1
         ],
         "title": {
          "text": "Autres coups et blessures volontaires criminels ou correctionnels"
         }
        }
       }
      }
     },
     "metadata": {},
     "output_type": "display_data"
    }
   ],
   "source": [
    "od = pd.read_excel(\"./crimes_2000.xlsx\", \"France_Entière\").drop(columns=[\"Index\"])\n",
    "sheetNames = pd.ExcelFile('./crimes_2000.xlsx')\n",
    "\n",
    "csv = od.to_csv(\"data.csv\",index = False)\n",
    "\n",
    "df = pd.read_csv(\"./data.csv\", sep=\",\").set_index(\"libellé index\").transpose()\n",
    "df = df.reset_index()\n",
    "print(df[\"index\"][1].split(\"_\")[1])\n",
    "print(sheetNames.sheet_names)\n",
    "for index, row in df.iterrows():\n",
    "    df = df.replace(df[\"index\"][index],str(df[\"index\"][index].split(\"_\")[1]))\n",
    "\n",
    "df = df.groupby(\"index\").sum()\n",
    "df = df.reset_index()\n",
    "df[\"index\"] = pd.to_numeric(df[\"index\"])\n",
    "fig = px.line(df,x=\"index\" ,\n",
    " y=\"Autres coups et blessures volontaires criminels ou correctionnels\",\n",
    "  title=\"Autres coups et blessures volontaires criminels ou correctionnels\")\n",
    "fig.show()\n",
    "\n",
    "    "
   ]
  },
  {
   "cell_type": "code",
   "execution_count": 20,
   "id": "c424487d",
   "metadata": {},
   "outputs": [
    {
     "name": "stdout",
     "output_type": "stream",
     "text": [
      "2022\n"
     ]
    },
    {
     "data": {
      "text/html": [
       "<div>\n",
       "<style scoped>\n",
       "    .dataframe tbody tr th:only-of-type {\n",
       "        vertical-align: middle;\n",
       "    }\n",
       "\n",
       "    .dataframe tbody tr th {\n",
       "        vertical-align: top;\n",
       "    }\n",
       "\n",
       "    .dataframe thead th {\n",
       "        text-align: right;\n",
       "    }\n",
       "</style>\n",
       "<table border=\"1\" class=\"dataframe\">\n",
       "  <thead>\n",
       "    <tr style=\"text-align: right;\">\n",
       "      <th>libellé index</th>\n",
       "      <th>Règlements de compte entre malfaiteurs</th>\n",
       "      <th>Homicides pour voler et à l'occasion de vols</th>\n",
       "      <th>Homicides pour d'autres motifs</th>\n",
       "      <th>Tentatives d'homicides pour voler et à l'occasion de vols</th>\n",
       "      <th>Tentatives homicides pour d'autres motifs</th>\n",
       "      <th>Coups et blessures volontaires suivis de mort</th>\n",
       "      <th>Autres coups et blessures volontaires criminels ou correctionnels</th>\n",
       "      <th>Prises d'otages à l'occasion de vols</th>\n",
       "      <th>Prises d'otages dans un autre but</th>\n",
       "      <th>Sequestrations</th>\n",
       "      <th>...</th>\n",
       "      <th>Banqueroutes, abus de biens sociaux et autres délits de société</th>\n",
       "      <th>Index non utilisé</th>\n",
       "      <th>Index non utilisé</th>\n",
       "      <th>Prix illicittes, publicité fausse et infractions aux règles de la concurrence</th>\n",
       "      <th>Achats et ventes sans factures</th>\n",
       "      <th>Infractions à l'exercice d'une profession règlementée</th>\n",
       "      <th>Infractions au droit de l'urbanisme et de la construction</th>\n",
       "      <th>Fraudes fiscales</th>\n",
       "      <th>Autres délits économiques et financiers</th>\n",
       "      <th>Autres délits</th>\n",
       "    </tr>\n",
       "    <tr>\n",
       "      <th>index</th>\n",
       "      <th></th>\n",
       "      <th></th>\n",
       "      <th></th>\n",
       "      <th></th>\n",
       "      <th></th>\n",
       "      <th></th>\n",
       "      <th></th>\n",
       "      <th></th>\n",
       "      <th></th>\n",
       "      <th></th>\n",
       "      <th></th>\n",
       "      <th></th>\n",
       "      <th></th>\n",
       "      <th></th>\n",
       "      <th></th>\n",
       "      <th></th>\n",
       "      <th></th>\n",
       "      <th></th>\n",
       "      <th></th>\n",
       "      <th></th>\n",
       "      <th></th>\n",
       "    </tr>\n",
       "  </thead>\n",
       "  <tbody>\n",
       "    <tr>\n",
       "      <th>1996</th>\n",
       "      <td>0.0</td>\n",
       "      <td>0.0</td>\n",
       "      <td>0.0</td>\n",
       "      <td>0.0</td>\n",
       "      <td>0.0</td>\n",
       "      <td>0.0</td>\n",
       "      <td>0.0</td>\n",
       "      <td>0.0</td>\n",
       "      <td>0.0</td>\n",
       "      <td>0.0</td>\n",
       "      <td>...</td>\n",
       "      <td>0.0</td>\n",
       "      <td>0.0</td>\n",
       "      <td>0.0</td>\n",
       "      <td>0.0</td>\n",
       "      <td>0.0</td>\n",
       "      <td>0.0</td>\n",
       "      <td>0.0</td>\n",
       "      <td>0.0</td>\n",
       "      <td>0.0</td>\n",
       "      <td>0.0</td>\n",
       "    </tr>\n",
       "    <tr>\n",
       "      <th>1997</th>\n",
       "      <td>0.0</td>\n",
       "      <td>0.0</td>\n",
       "      <td>0.0</td>\n",
       "      <td>0.0</td>\n",
       "      <td>0.0</td>\n",
       "      <td>0.0</td>\n",
       "      <td>0.0</td>\n",
       "      <td>0.0</td>\n",
       "      <td>0.0</td>\n",
       "      <td>0.0</td>\n",
       "      <td>...</td>\n",
       "      <td>0.0</td>\n",
       "      <td>0.0</td>\n",
       "      <td>0.0</td>\n",
       "      <td>0.0</td>\n",
       "      <td>0.0</td>\n",
       "      <td>0.0</td>\n",
       "      <td>0.0</td>\n",
       "      <td>0.0</td>\n",
       "      <td>0.0</td>\n",
       "      <td>0.0</td>\n",
       "    </tr>\n",
       "    <tr>\n",
       "      <th>1998</th>\n",
       "      <td>0.0</td>\n",
       "      <td>0.0</td>\n",
       "      <td>0.0</td>\n",
       "      <td>0.0</td>\n",
       "      <td>0.0</td>\n",
       "      <td>0.0</td>\n",
       "      <td>0.0</td>\n",
       "      <td>0.0</td>\n",
       "      <td>0.0</td>\n",
       "      <td>0.0</td>\n",
       "      <td>...</td>\n",
       "      <td>0.0</td>\n",
       "      <td>0.0</td>\n",
       "      <td>0.0</td>\n",
       "      <td>0.0</td>\n",
       "      <td>0.0</td>\n",
       "      <td>0.0</td>\n",
       "      <td>0.0</td>\n",
       "      <td>0.0</td>\n",
       "      <td>0.0</td>\n",
       "      <td>0.0</td>\n",
       "    </tr>\n",
       "    <tr>\n",
       "      <th>1999</th>\n",
       "      <td>0.0</td>\n",
       "      <td>0.0</td>\n",
       "      <td>0.0</td>\n",
       "      <td>0.0</td>\n",
       "      <td>0.0</td>\n",
       "      <td>0.0</td>\n",
       "      <td>0.0</td>\n",
       "      <td>0.0</td>\n",
       "      <td>0.0</td>\n",
       "      <td>0.0</td>\n",
       "      <td>...</td>\n",
       "      <td>0.0</td>\n",
       "      <td>0.0</td>\n",
       "      <td>0.0</td>\n",
       "      <td>0.0</td>\n",
       "      <td>0.0</td>\n",
       "      <td>0.0</td>\n",
       "      <td>0.0</td>\n",
       "      <td>0.0</td>\n",
       "      <td>0.0</td>\n",
       "      <td>0.0</td>\n",
       "    </tr>\n",
       "    <tr>\n",
       "      <th>2000</th>\n",
       "      <td>84.0</td>\n",
       "      <td>63.0</td>\n",
       "      <td>949.0</td>\n",
       "      <td>116.0</td>\n",
       "      <td>1059.0</td>\n",
       "      <td>195.0</td>\n",
       "      <td>110422.0</td>\n",
       "      <td>42.0</td>\n",
       "      <td>31.0</td>\n",
       "      <td>1637.0</td>\n",
       "      <td>...</td>\n",
       "      <td>5.0</td>\n",
       "      <td>0.0</td>\n",
       "      <td>0.0</td>\n",
       "      <td>0.0</td>\n",
       "      <td>0.0</td>\n",
       "      <td>1.0</td>\n",
       "      <td>0.0</td>\n",
       "      <td>0.0</td>\n",
       "      <td>0.0</td>\n",
       "      <td>71.0</td>\n",
       "    </tr>\n",
       "    <tr>\n",
       "      <th>2001</th>\n",
       "      <td>109.0</td>\n",
       "      <td>62.0</td>\n",
       "      <td>905.0</td>\n",
       "      <td>112.0</td>\n",
       "      <td>1227.0</td>\n",
       "      <td>237.0</td>\n",
       "      <td>121154.0</td>\n",
       "      <td>44.0</td>\n",
       "      <td>35.0</td>\n",
       "      <td>1855.0</td>\n",
       "      <td>...</td>\n",
       "      <td>7.0</td>\n",
       "      <td>0.0</td>\n",
       "      <td>0.0</td>\n",
       "      <td>1.0</td>\n",
       "      <td>0.0</td>\n",
       "      <td>1.0</td>\n",
       "      <td>2.0</td>\n",
       "      <td>0.0</td>\n",
       "      <td>4.0</td>\n",
       "      <td>92.0</td>\n",
       "    </tr>\n",
       "    <tr>\n",
       "      <th>2002</th>\n",
       "      <td>146.0</td>\n",
       "      <td>54.0</td>\n",
       "      <td>936.0</td>\n",
       "      <td>128.0</td>\n",
       "      <td>1274.0</td>\n",
       "      <td>206.0</td>\n",
       "      <td>129910.0</td>\n",
       "      <td>76.0</td>\n",
       "      <td>37.0</td>\n",
       "      <td>2102.0</td>\n",
       "      <td>...</td>\n",
       "      <td>5.0</td>\n",
       "      <td>0.0</td>\n",
       "      <td>0.0</td>\n",
       "      <td>0.0</td>\n",
       "      <td>0.0</td>\n",
       "      <td>1.0</td>\n",
       "      <td>0.0</td>\n",
       "      <td>0.0</td>\n",
       "      <td>1.0</td>\n",
       "      <td>110.0</td>\n",
       "    </tr>\n",
       "    <tr>\n",
       "      <th>2003</th>\n",
       "      <td>122.0</td>\n",
       "      <td>70.0</td>\n",
       "      <td>880.0</td>\n",
       "      <td>108.0</td>\n",
       "      <td>1215.0</td>\n",
       "      <td>223.0</td>\n",
       "      <td>141700.0</td>\n",
       "      <td>45.0</td>\n",
       "      <td>34.0</td>\n",
       "      <td>2002.0</td>\n",
       "      <td>...</td>\n",
       "      <td>5.0</td>\n",
       "      <td>0.0</td>\n",
       "      <td>0.0</td>\n",
       "      <td>0.0</td>\n",
       "      <td>0.0</td>\n",
       "      <td>0.0</td>\n",
       "      <td>1.0</td>\n",
       "      <td>0.0</td>\n",
       "      <td>3.0</td>\n",
       "      <td>531.0</td>\n",
       "    </tr>\n",
       "    <tr>\n",
       "      <th>2004</th>\n",
       "      <td>123.0</td>\n",
       "      <td>56.0</td>\n",
       "      <td>894.0</td>\n",
       "      <td>81.0</td>\n",
       "      <td>1134.0</td>\n",
       "      <td>219.0</td>\n",
       "      <td>144832.0</td>\n",
       "      <td>49.0</td>\n",
       "      <td>16.0</td>\n",
       "      <td>2132.0</td>\n",
       "      <td>...</td>\n",
       "      <td>3.0</td>\n",
       "      <td>0.0</td>\n",
       "      <td>0.0</td>\n",
       "      <td>1.0</td>\n",
       "      <td>0.0</td>\n",
       "      <td>2.0</td>\n",
       "      <td>1.0</td>\n",
       "      <td>0.0</td>\n",
       "      <td>0.0</td>\n",
       "      <td>433.0</td>\n",
       "    </tr>\n",
       "    <tr>\n",
       "      <th>2005</th>\n",
       "      <td>113.0</td>\n",
       "      <td>51.0</td>\n",
       "      <td>895.0</td>\n",
       "      <td>89.0</td>\n",
       "      <td>1153.0</td>\n",
       "      <td>240.0</td>\n",
       "      <td>157092.0</td>\n",
       "      <td>37.0</td>\n",
       "      <td>27.0</td>\n",
       "      <td>2007.0</td>\n",
       "      <td>...</td>\n",
       "      <td>6.0</td>\n",
       "      <td>0.0</td>\n",
       "      <td>0.0</td>\n",
       "      <td>0.0</td>\n",
       "      <td>1.0</td>\n",
       "      <td>2.0</td>\n",
       "      <td>0.0</td>\n",
       "      <td>0.0</td>\n",
       "      <td>8.0</td>\n",
       "      <td>435.0</td>\n",
       "    </tr>\n",
       "    <tr>\n",
       "      <th>2006</th>\n",
       "      <td>93.0</td>\n",
       "      <td>50.0</td>\n",
       "      <td>779.0</td>\n",
       "      <td>53.0</td>\n",
       "      <td>1127.0</td>\n",
       "      <td>212.0</td>\n",
       "      <td>173666.0</td>\n",
       "      <td>45.0</td>\n",
       "      <td>26.0</td>\n",
       "      <td>2287.0</td>\n",
       "      <td>...</td>\n",
       "      <td>5.0</td>\n",
       "      <td>0.0</td>\n",
       "      <td>0.0</td>\n",
       "      <td>1.0</td>\n",
       "      <td>0.0</td>\n",
       "      <td>4.0</td>\n",
       "      <td>12.0</td>\n",
       "      <td>0.0</td>\n",
       "      <td>6.0</td>\n",
       "      <td>440.0</td>\n",
       "    </tr>\n",
       "    <tr>\n",
       "      <th>2007</th>\n",
       "      <td>63.0</td>\n",
       "      <td>44.0</td>\n",
       "      <td>803.0</td>\n",
       "      <td>67.0</td>\n",
       "      <td>1086.0</td>\n",
       "      <td>203.0</td>\n",
       "      <td>186727.0</td>\n",
       "      <td>22.0</td>\n",
       "      <td>16.0</td>\n",
       "      <td>2135.0</td>\n",
       "      <td>...</td>\n",
       "      <td>6.0</td>\n",
       "      <td>0.0</td>\n",
       "      <td>0.0</td>\n",
       "      <td>0.0</td>\n",
       "      <td>0.0</td>\n",
       "      <td>2.0</td>\n",
       "      <td>0.0</td>\n",
       "      <td>0.0</td>\n",
       "      <td>2.0</td>\n",
       "      <td>431.0</td>\n",
       "    </tr>\n",
       "    <tr>\n",
       "      <th>2008</th>\n",
       "      <td>138.0</td>\n",
       "      <td>37.0</td>\n",
       "      <td>753.0</td>\n",
       "      <td>69.0</td>\n",
       "      <td>1085.0</td>\n",
       "      <td>211.0</td>\n",
       "      <td>199111.0</td>\n",
       "      <td>21.0</td>\n",
       "      <td>21.0</td>\n",
       "      <td>2103.0</td>\n",
       "      <td>...</td>\n",
       "      <td>4.0</td>\n",
       "      <td>0.0</td>\n",
       "      <td>0.0</td>\n",
       "      <td>0.0</td>\n",
       "      <td>0.0</td>\n",
       "      <td>3.0</td>\n",
       "      <td>1.0</td>\n",
       "      <td>0.0</td>\n",
       "      <td>5.0</td>\n",
       "      <td>291.0</td>\n",
       "    </tr>\n",
       "    <tr>\n",
       "      <th>2009</th>\n",
       "      <td>56.0</td>\n",
       "      <td>31.0</td>\n",
       "      <td>647.0</td>\n",
       "      <td>65.0</td>\n",
       "      <td>999.0</td>\n",
       "      <td>163.0</td>\n",
       "      <td>206160.0</td>\n",
       "      <td>25.0</td>\n",
       "      <td>28.0</td>\n",
       "      <td>2094.0</td>\n",
       "      <td>...</td>\n",
       "      <td>7.0</td>\n",
       "      <td>0.0</td>\n",
       "      <td>0.0</td>\n",
       "      <td>0.0</td>\n",
       "      <td>0.0</td>\n",
       "      <td>3.0</td>\n",
       "      <td>1.0</td>\n",
       "      <td>0.0</td>\n",
       "      <td>2.0</td>\n",
       "      <td>226.0</td>\n",
       "    </tr>\n",
       "    <tr>\n",
       "      <th>2010</th>\n",
       "      <td>50.0</td>\n",
       "      <td>42.0</td>\n",
       "      <td>653.0</td>\n",
       "      <td>65.0</td>\n",
       "      <td>1144.0</td>\n",
       "      <td>136.0</td>\n",
       "      <td>206310.0</td>\n",
       "      <td>21.0</td>\n",
       "      <td>17.0</td>\n",
       "      <td>2148.0</td>\n",
       "      <td>...</td>\n",
       "      <td>3.0</td>\n",
       "      <td>0.0</td>\n",
       "      <td>0.0</td>\n",
       "      <td>1.0</td>\n",
       "      <td>0.0</td>\n",
       "      <td>3.0</td>\n",
       "      <td>1.0</td>\n",
       "      <td>0.0</td>\n",
       "      <td>6.0</td>\n",
       "      <td>278.0</td>\n",
       "    </tr>\n",
       "    <tr>\n",
       "      <th>2011</th>\n",
       "      <td>60.0</td>\n",
       "      <td>44.0</td>\n",
       "      <td>720.0</td>\n",
       "      <td>55.0</td>\n",
       "      <td>1259.0</td>\n",
       "      <td>130.0</td>\n",
       "      <td>206350.0</td>\n",
       "      <td>22.0</td>\n",
       "      <td>14.0</td>\n",
       "      <td>2301.0</td>\n",
       "      <td>...</td>\n",
       "      <td>7.0</td>\n",
       "      <td>0.0</td>\n",
       "      <td>0.0</td>\n",
       "      <td>1.0</td>\n",
       "      <td>2.0</td>\n",
       "      <td>4.0</td>\n",
       "      <td>1.0</td>\n",
       "      <td>0.0</td>\n",
       "      <td>10.0</td>\n",
       "      <td>389.0</td>\n",
       "    </tr>\n",
       "    <tr>\n",
       "      <th>2012</th>\n",
       "      <td>73.0</td>\n",
       "      <td>35.0</td>\n",
       "      <td>651.0</td>\n",
       "      <td>71.0</td>\n",
       "      <td>1475.0</td>\n",
       "      <td>140.0</td>\n",
       "      <td>207411.0</td>\n",
       "      <td>25.0</td>\n",
       "      <td>21.0</td>\n",
       "      <td>2161.0</td>\n",
       "      <td>...</td>\n",
       "      <td>2.0</td>\n",
       "      <td>0.0</td>\n",
       "      <td>0.0</td>\n",
       "      <td>0.0</td>\n",
       "      <td>1.0</td>\n",
       "      <td>0.0</td>\n",
       "      <td>0.0</td>\n",
       "      <td>0.0</td>\n",
       "      <td>2.0</td>\n",
       "      <td>362.0</td>\n",
       "    </tr>\n",
       "    <tr>\n",
       "      <th>2013</th>\n",
       "      <td>55.0</td>\n",
       "      <td>33.0</td>\n",
       "      <td>649.0</td>\n",
       "      <td>105.0</td>\n",
       "      <td>1391.0</td>\n",
       "      <td>109.0</td>\n",
       "      <td>207530.0</td>\n",
       "      <td>37.0</td>\n",
       "      <td>29.0</td>\n",
       "      <td>2281.0</td>\n",
       "      <td>...</td>\n",
       "      <td>6.0</td>\n",
       "      <td>0.0</td>\n",
       "      <td>0.0</td>\n",
       "      <td>0.0</td>\n",
       "      <td>0.0</td>\n",
       "      <td>4.0</td>\n",
       "      <td>1.0</td>\n",
       "      <td>0.0</td>\n",
       "      <td>28.0</td>\n",
       "      <td>327.0</td>\n",
       "    </tr>\n",
       "    <tr>\n",
       "      <th>2014</th>\n",
       "      <td>70.0</td>\n",
       "      <td>26.0</td>\n",
       "      <td>615.0</td>\n",
       "      <td>84.0</td>\n",
       "      <td>1584.0</td>\n",
       "      <td>153.0</td>\n",
       "      <td>211638.0</td>\n",
       "      <td>38.0</td>\n",
       "      <td>30.0</td>\n",
       "      <td>2945.0</td>\n",
       "      <td>...</td>\n",
       "      <td>8.0</td>\n",
       "      <td>0.0</td>\n",
       "      <td>0.0</td>\n",
       "      <td>0.0</td>\n",
       "      <td>0.0</td>\n",
       "      <td>5.0</td>\n",
       "      <td>2.0</td>\n",
       "      <td>0.0</td>\n",
       "      <td>26.0</td>\n",
       "      <td>339.0</td>\n",
       "    </tr>\n",
       "    <tr>\n",
       "      <th>2015</th>\n",
       "      <td>56.0</td>\n",
       "      <td>23.0</td>\n",
       "      <td>798.0</td>\n",
       "      <td>99.0</td>\n",
       "      <td>2053.0</td>\n",
       "      <td>140.0</td>\n",
       "      <td>227151.0</td>\n",
       "      <td>36.0</td>\n",
       "      <td>30.0</td>\n",
       "      <td>4093.0</td>\n",
       "      <td>...</td>\n",
       "      <td>4.0</td>\n",
       "      <td>0.0</td>\n",
       "      <td>0.0</td>\n",
       "      <td>0.0</td>\n",
       "      <td>0.0</td>\n",
       "      <td>2.0</td>\n",
       "      <td>5.0</td>\n",
       "      <td>2.0</td>\n",
       "      <td>6.0</td>\n",
       "      <td>518.0</td>\n",
       "    </tr>\n",
       "    <tr>\n",
       "      <th>2016</th>\n",
       "      <td>89.0</td>\n",
       "      <td>43.0</td>\n",
       "      <td>834.0</td>\n",
       "      <td>111.0</td>\n",
       "      <td>2331.0</td>\n",
       "      <td>170.0</td>\n",
       "      <td>231259.0</td>\n",
       "      <td>70.0</td>\n",
       "      <td>62.0</td>\n",
       "      <td>4139.0</td>\n",
       "      <td>...</td>\n",
       "      <td>12.0</td>\n",
       "      <td>0.0</td>\n",
       "      <td>0.0</td>\n",
       "      <td>3.0</td>\n",
       "      <td>0.0</td>\n",
       "      <td>4.0</td>\n",
       "      <td>2.0</td>\n",
       "      <td>0.0</td>\n",
       "      <td>20.0</td>\n",
       "      <td>539.0</td>\n",
       "    </tr>\n",
       "    <tr>\n",
       "      <th>2017</th>\n",
       "      <td>100.0</td>\n",
       "      <td>39.0</td>\n",
       "      <td>756.0</td>\n",
       "      <td>109.0</td>\n",
       "      <td>2488.0</td>\n",
       "      <td>155.0</td>\n",
       "      <td>239318.0</td>\n",
       "      <td>73.0</td>\n",
       "      <td>68.0</td>\n",
       "      <td>4096.0</td>\n",
       "      <td>...</td>\n",
       "      <td>31.0</td>\n",
       "      <td>0.0</td>\n",
       "      <td>0.0</td>\n",
       "      <td>1.0</td>\n",
       "      <td>0.0</td>\n",
       "      <td>4.0</td>\n",
       "      <td>8.0</td>\n",
       "      <td>0.0</td>\n",
       "      <td>31.0</td>\n",
       "      <td>499.0</td>\n",
       "    </tr>\n",
       "    <tr>\n",
       "      <th>2018</th>\n",
       "      <td>113.0</td>\n",
       "      <td>33.0</td>\n",
       "      <td>689.0</td>\n",
       "      <td>122.0</td>\n",
       "      <td>2651.0</td>\n",
       "      <td>200.0</td>\n",
       "      <td>257140.0</td>\n",
       "      <td>93.0</td>\n",
       "      <td>101.0</td>\n",
       "      <td>4285.0</td>\n",
       "      <td>...</td>\n",
       "      <td>13.0</td>\n",
       "      <td>0.0</td>\n",
       "      <td>0.0</td>\n",
       "      <td>1.0</td>\n",
       "      <td>0.0</td>\n",
       "      <td>4.0</td>\n",
       "      <td>21.0</td>\n",
       "      <td>1.0</td>\n",
       "      <td>42.0</td>\n",
       "      <td>548.0</td>\n",
       "    </tr>\n",
       "    <tr>\n",
       "      <th>2019</th>\n",
       "      <td>98.0</td>\n",
       "      <td>35.0</td>\n",
       "      <td>848.0</td>\n",
       "      <td>114.0</td>\n",
       "      <td>2877.0</td>\n",
       "      <td>164.0</td>\n",
       "      <td>278702.0</td>\n",
       "      <td>125.0</td>\n",
       "      <td>147.0</td>\n",
       "      <td>4211.0</td>\n",
       "      <td>...</td>\n",
       "      <td>23.0</td>\n",
       "      <td>0.0</td>\n",
       "      <td>0.0</td>\n",
       "      <td>0.0</td>\n",
       "      <td>1.0</td>\n",
       "      <td>6.0</td>\n",
       "      <td>11.0</td>\n",
       "      <td>1.0</td>\n",
       "      <td>68.0</td>\n",
       "      <td>632.0</td>\n",
       "    </tr>\n",
       "    <tr>\n",
       "      <th>2020</th>\n",
       "      <td>112.0</td>\n",
       "      <td>41.0</td>\n",
       "      <td>809.0</td>\n",
       "      <td>138.0</td>\n",
       "      <td>3186.0</td>\n",
       "      <td>152.0</td>\n",
       "      <td>282119.0</td>\n",
       "      <td>103.0</td>\n",
       "      <td>172.0</td>\n",
       "      <td>4192.0</td>\n",
       "      <td>...</td>\n",
       "      <td>17.0</td>\n",
       "      <td>0.0</td>\n",
       "      <td>0.0</td>\n",
       "      <td>0.0</td>\n",
       "      <td>1.0</td>\n",
       "      <td>2.0</td>\n",
       "      <td>8.0</td>\n",
       "      <td>0.0</td>\n",
       "      <td>57.0</td>\n",
       "      <td>601.0</td>\n",
       "    </tr>\n",
       "    <tr>\n",
       "      <th>2021</th>\n",
       "      <td>106.0</td>\n",
       "      <td>30.0</td>\n",
       "      <td>878.0</td>\n",
       "      <td>144.0</td>\n",
       "      <td>3305.0</td>\n",
       "      <td>170.0</td>\n",
       "      <td>315694.0</td>\n",
       "      <td>108.0</td>\n",
       "      <td>184.0</td>\n",
       "      <td>4798.0</td>\n",
       "      <td>...</td>\n",
       "      <td>20.0</td>\n",
       "      <td>0.0</td>\n",
       "      <td>0.0</td>\n",
       "      <td>0.0</td>\n",
       "      <td>3.0</td>\n",
       "      <td>8.0</td>\n",
       "      <td>6.0</td>\n",
       "      <td>3.0</td>\n",
       "      <td>27.0</td>\n",
       "      <td>662.0</td>\n",
       "    </tr>\n",
       "    <tr>\n",
       "      <th>2022</th>\n",
       "      <td>86.0</td>\n",
       "      <td>22.0</td>\n",
       "      <td>533.0</td>\n",
       "      <td>82.0</td>\n",
       "      <td>2132.0</td>\n",
       "      <td>134.0</td>\n",
       "      <td>209479.0</td>\n",
       "      <td>65.0</td>\n",
       "      <td>134.0</td>\n",
       "      <td>2988.0</td>\n",
       "      <td>...</td>\n",
       "      <td>18.0</td>\n",
       "      <td>0.0</td>\n",
       "      <td>0.0</td>\n",
       "      <td>1.0</td>\n",
       "      <td>1.0</td>\n",
       "      <td>3.0</td>\n",
       "      <td>2.0</td>\n",
       "      <td>1.0</td>\n",
       "      <td>25.0</td>\n",
       "      <td>444.0</td>\n",
       "    </tr>\n",
       "  </tbody>\n",
       "</table>\n",
       "<p>27 rows × 11663 columns</p>\n",
       "</div>"
      ],
      "text/plain": [
       "libellé index  Règlements de compte entre malfaiteurs  \\\n",
       "index                                                   \n",
       "1996                                              0.0   \n",
       "1997                                              0.0   \n",
       "1998                                              0.0   \n",
       "1999                                              0.0   \n",
       "2000                                             84.0   \n",
       "2001                                            109.0   \n",
       "2002                                            146.0   \n",
       "2003                                            122.0   \n",
       "2004                                            123.0   \n",
       "2005                                            113.0   \n",
       "2006                                             93.0   \n",
       "2007                                             63.0   \n",
       "2008                                            138.0   \n",
       "2009                                             56.0   \n",
       "2010                                             50.0   \n",
       "2011                                             60.0   \n",
       "2012                                             73.0   \n",
       "2013                                             55.0   \n",
       "2014                                             70.0   \n",
       "2015                                             56.0   \n",
       "2016                                             89.0   \n",
       "2017                                            100.0   \n",
       "2018                                            113.0   \n",
       "2019                                             98.0   \n",
       "2020                                            112.0   \n",
       "2021                                            106.0   \n",
       "2022                                             86.0   \n",
       "\n",
       "libellé index  Homicides pour voler et à l'occasion de vols  \\\n",
       "index                                                         \n",
       "1996                                                    0.0   \n",
       "1997                                                    0.0   \n",
       "1998                                                    0.0   \n",
       "1999                                                    0.0   \n",
       "2000                                                   63.0   \n",
       "2001                                                   62.0   \n",
       "2002                                                   54.0   \n",
       "2003                                                   70.0   \n",
       "2004                                                   56.0   \n",
       "2005                                                   51.0   \n",
       "2006                                                   50.0   \n",
       "2007                                                   44.0   \n",
       "2008                                                   37.0   \n",
       "2009                                                   31.0   \n",
       "2010                                                   42.0   \n",
       "2011                                                   44.0   \n",
       "2012                                                   35.0   \n",
       "2013                                                   33.0   \n",
       "2014                                                   26.0   \n",
       "2015                                                   23.0   \n",
       "2016                                                   43.0   \n",
       "2017                                                   39.0   \n",
       "2018                                                   33.0   \n",
       "2019                                                   35.0   \n",
       "2020                                                   41.0   \n",
       "2021                                                   30.0   \n",
       "2022                                                   22.0   \n",
       "\n",
       "libellé index  Homicides pour d'autres motifs  \\\n",
       "index                                           \n",
       "1996                                      0.0   \n",
       "1997                                      0.0   \n",
       "1998                                      0.0   \n",
       "1999                                      0.0   \n",
       "2000                                    949.0   \n",
       "2001                                    905.0   \n",
       "2002                                    936.0   \n",
       "2003                                    880.0   \n",
       "2004                                    894.0   \n",
       "2005                                    895.0   \n",
       "2006                                    779.0   \n",
       "2007                                    803.0   \n",
       "2008                                    753.0   \n",
       "2009                                    647.0   \n",
       "2010                                    653.0   \n",
       "2011                                    720.0   \n",
       "2012                                    651.0   \n",
       "2013                                    649.0   \n",
       "2014                                    615.0   \n",
       "2015                                    798.0   \n",
       "2016                                    834.0   \n",
       "2017                                    756.0   \n",
       "2018                                    689.0   \n",
       "2019                                    848.0   \n",
       "2020                                    809.0   \n",
       "2021                                    878.0   \n",
       "2022                                    533.0   \n",
       "\n",
       "libellé index  Tentatives d'homicides pour voler et à l'occasion de vols  \\\n",
       "index                                                                      \n",
       "1996                                                         0.0           \n",
       "1997                                                         0.0           \n",
       "1998                                                         0.0           \n",
       "1999                                                         0.0           \n",
       "2000                                                       116.0           \n",
       "2001                                                       112.0           \n",
       "2002                                                       128.0           \n",
       "2003                                                       108.0           \n",
       "2004                                                        81.0           \n",
       "2005                                                        89.0           \n",
       "2006                                                        53.0           \n",
       "2007                                                        67.0           \n",
       "2008                                                        69.0           \n",
       "2009                                                        65.0           \n",
       "2010                                                        65.0           \n",
       "2011                                                        55.0           \n",
       "2012                                                        71.0           \n",
       "2013                                                       105.0           \n",
       "2014                                                        84.0           \n",
       "2015                                                        99.0           \n",
       "2016                                                       111.0           \n",
       "2017                                                       109.0           \n",
       "2018                                                       122.0           \n",
       "2019                                                       114.0           \n",
       "2020                                                       138.0           \n",
       "2021                                                       144.0           \n",
       "2022                                                        82.0           \n",
       "\n",
       "libellé index  Tentatives homicides pour d'autres motifs  \\\n",
       "index                                                      \n",
       "1996                                                 0.0   \n",
       "1997                                                 0.0   \n",
       "1998                                                 0.0   \n",
       "1999                                                 0.0   \n",
       "2000                                              1059.0   \n",
       "2001                                              1227.0   \n",
       "2002                                              1274.0   \n",
       "2003                                              1215.0   \n",
       "2004                                              1134.0   \n",
       "2005                                              1153.0   \n",
       "2006                                              1127.0   \n",
       "2007                                              1086.0   \n",
       "2008                                              1085.0   \n",
       "2009                                               999.0   \n",
       "2010                                              1144.0   \n",
       "2011                                              1259.0   \n",
       "2012                                              1475.0   \n",
       "2013                                              1391.0   \n",
       "2014                                              1584.0   \n",
       "2015                                              2053.0   \n",
       "2016                                              2331.0   \n",
       "2017                                              2488.0   \n",
       "2018                                              2651.0   \n",
       "2019                                              2877.0   \n",
       "2020                                              3186.0   \n",
       "2021                                              3305.0   \n",
       "2022                                              2132.0   \n",
       "\n",
       "libellé index  Coups et blessures volontaires suivis de mort  \\\n",
       "index                                                          \n",
       "1996                                                     0.0   \n",
       "1997                                                     0.0   \n",
       "1998                                                     0.0   \n",
       "1999                                                     0.0   \n",
       "2000                                                   195.0   \n",
       "2001                                                   237.0   \n",
       "2002                                                   206.0   \n",
       "2003                                                   223.0   \n",
       "2004                                                   219.0   \n",
       "2005                                                   240.0   \n",
       "2006                                                   212.0   \n",
       "2007                                                   203.0   \n",
       "2008                                                   211.0   \n",
       "2009                                                   163.0   \n",
       "2010                                                   136.0   \n",
       "2011                                                   130.0   \n",
       "2012                                                   140.0   \n",
       "2013                                                   109.0   \n",
       "2014                                                   153.0   \n",
       "2015                                                   140.0   \n",
       "2016                                                   170.0   \n",
       "2017                                                   155.0   \n",
       "2018                                                   200.0   \n",
       "2019                                                   164.0   \n",
       "2020                                                   152.0   \n",
       "2021                                                   170.0   \n",
       "2022                                                   134.0   \n",
       "\n",
       "libellé index  Autres coups et blessures volontaires criminels ou correctionnels  \\\n",
       "index                                                                              \n",
       "1996                                                         0.0                   \n",
       "1997                                                         0.0                   \n",
       "1998                                                         0.0                   \n",
       "1999                                                         0.0                   \n",
       "2000                                                    110422.0                   \n",
       "2001                                                    121154.0                   \n",
       "2002                                                    129910.0                   \n",
       "2003                                                    141700.0                   \n",
       "2004                                                    144832.0                   \n",
       "2005                                                    157092.0                   \n",
       "2006                                                    173666.0                   \n",
       "2007                                                    186727.0                   \n",
       "2008                                                    199111.0                   \n",
       "2009                                                    206160.0                   \n",
       "2010                                                    206310.0                   \n",
       "2011                                                    206350.0                   \n",
       "2012                                                    207411.0                   \n",
       "2013                                                    207530.0                   \n",
       "2014                                                    211638.0                   \n",
       "2015                                                    227151.0                   \n",
       "2016                                                    231259.0                   \n",
       "2017                                                    239318.0                   \n",
       "2018                                                    257140.0                   \n",
       "2019                                                    278702.0                   \n",
       "2020                                                    282119.0                   \n",
       "2021                                                    315694.0                   \n",
       "2022                                                    209479.0                   \n",
       "\n",
       "libellé index  Prises d'otages à l'occasion de vols  \\\n",
       "index                                                 \n",
       "1996                                            0.0   \n",
       "1997                                            0.0   \n",
       "1998                                            0.0   \n",
       "1999                                            0.0   \n",
       "2000                                           42.0   \n",
       "2001                                           44.0   \n",
       "2002                                           76.0   \n",
       "2003                                           45.0   \n",
       "2004                                           49.0   \n",
       "2005                                           37.0   \n",
       "2006                                           45.0   \n",
       "2007                                           22.0   \n",
       "2008                                           21.0   \n",
       "2009                                           25.0   \n",
       "2010                                           21.0   \n",
       "2011                                           22.0   \n",
       "2012                                           25.0   \n",
       "2013                                           37.0   \n",
       "2014                                           38.0   \n",
       "2015                                           36.0   \n",
       "2016                                           70.0   \n",
       "2017                                           73.0   \n",
       "2018                                           93.0   \n",
       "2019                                          125.0   \n",
       "2020                                          103.0   \n",
       "2021                                          108.0   \n",
       "2022                                           65.0   \n",
       "\n",
       "libellé index  Prises d'otages dans un autre but  Sequestrations  ...  \\\n",
       "index                                                             ...   \n",
       "1996                                         0.0             0.0  ...   \n",
       "1997                                         0.0             0.0  ...   \n",
       "1998                                         0.0             0.0  ...   \n",
       "1999                                         0.0             0.0  ...   \n",
       "2000                                        31.0          1637.0  ...   \n",
       "2001                                        35.0          1855.0  ...   \n",
       "2002                                        37.0          2102.0  ...   \n",
       "2003                                        34.0          2002.0  ...   \n",
       "2004                                        16.0          2132.0  ...   \n",
       "2005                                        27.0          2007.0  ...   \n",
       "2006                                        26.0          2287.0  ...   \n",
       "2007                                        16.0          2135.0  ...   \n",
       "2008                                        21.0          2103.0  ...   \n",
       "2009                                        28.0          2094.0  ...   \n",
       "2010                                        17.0          2148.0  ...   \n",
       "2011                                        14.0          2301.0  ...   \n",
       "2012                                        21.0          2161.0  ...   \n",
       "2013                                        29.0          2281.0  ...   \n",
       "2014                                        30.0          2945.0  ...   \n",
       "2015                                        30.0          4093.0  ...   \n",
       "2016                                        62.0          4139.0  ...   \n",
       "2017                                        68.0          4096.0  ...   \n",
       "2018                                       101.0          4285.0  ...   \n",
       "2019                                       147.0          4211.0  ...   \n",
       "2020                                       172.0          4192.0  ...   \n",
       "2021                                       184.0          4798.0  ...   \n",
       "2022                                       134.0          2988.0  ...   \n",
       "\n",
       "libellé index  Banqueroutes, abus de biens sociaux et autres délits de société  \\\n",
       "index                                                                            \n",
       "1996                                                         0.0                 \n",
       "1997                                                         0.0                 \n",
       "1998                                                         0.0                 \n",
       "1999                                                         0.0                 \n",
       "2000                                                         5.0                 \n",
       "2001                                                         7.0                 \n",
       "2002                                                         5.0                 \n",
       "2003                                                         5.0                 \n",
       "2004                                                         3.0                 \n",
       "2005                                                         6.0                 \n",
       "2006                                                         5.0                 \n",
       "2007                                                         6.0                 \n",
       "2008                                                         4.0                 \n",
       "2009                                                         7.0                 \n",
       "2010                                                         3.0                 \n",
       "2011                                                         7.0                 \n",
       "2012                                                         2.0                 \n",
       "2013                                                         6.0                 \n",
       "2014                                                         8.0                 \n",
       "2015                                                         4.0                 \n",
       "2016                                                        12.0                 \n",
       "2017                                                        31.0                 \n",
       "2018                                                        13.0                 \n",
       "2019                                                        23.0                 \n",
       "2020                                                        17.0                 \n",
       "2021                                                        20.0                 \n",
       "2022                                                        18.0                 \n",
       "\n",
       "libellé index  Index non utilisé  Index non utilisé  \\\n",
       "index                                                 \n",
       "1996                         0.0                0.0   \n",
       "1997                         0.0                0.0   \n",
       "1998                         0.0                0.0   \n",
       "1999                         0.0                0.0   \n",
       "2000                         0.0                0.0   \n",
       "2001                         0.0                0.0   \n",
       "2002                         0.0                0.0   \n",
       "2003                         0.0                0.0   \n",
       "2004                         0.0                0.0   \n",
       "2005                         0.0                0.0   \n",
       "2006                         0.0                0.0   \n",
       "2007                         0.0                0.0   \n",
       "2008                         0.0                0.0   \n",
       "2009                         0.0                0.0   \n",
       "2010                         0.0                0.0   \n",
       "2011                         0.0                0.0   \n",
       "2012                         0.0                0.0   \n",
       "2013                         0.0                0.0   \n",
       "2014                         0.0                0.0   \n",
       "2015                         0.0                0.0   \n",
       "2016                         0.0                0.0   \n",
       "2017                         0.0                0.0   \n",
       "2018                         0.0                0.0   \n",
       "2019                         0.0                0.0   \n",
       "2020                         0.0                0.0   \n",
       "2021                         0.0                0.0   \n",
       "2022                         0.0                0.0   \n",
       "\n",
       "libellé index  Prix illicittes, publicité fausse et infractions aux règles de la concurrence  \\\n",
       "index                                                                                          \n",
       "1996                                                         0.0                               \n",
       "1997                                                         0.0                               \n",
       "1998                                                         0.0                               \n",
       "1999                                                         0.0                               \n",
       "2000                                                         0.0                               \n",
       "2001                                                         1.0                               \n",
       "2002                                                         0.0                               \n",
       "2003                                                         0.0                               \n",
       "2004                                                         1.0                               \n",
       "2005                                                         0.0                               \n",
       "2006                                                         1.0                               \n",
       "2007                                                         0.0                               \n",
       "2008                                                         0.0                               \n",
       "2009                                                         0.0                               \n",
       "2010                                                         1.0                               \n",
       "2011                                                         1.0                               \n",
       "2012                                                         0.0                               \n",
       "2013                                                         0.0                               \n",
       "2014                                                         0.0                               \n",
       "2015                                                         0.0                               \n",
       "2016                                                         3.0                               \n",
       "2017                                                         1.0                               \n",
       "2018                                                         1.0                               \n",
       "2019                                                         0.0                               \n",
       "2020                                                         0.0                               \n",
       "2021                                                         0.0                               \n",
       "2022                                                         1.0                               \n",
       "\n",
       "libellé index  Achats et ventes sans factures  \\\n",
       "index                                           \n",
       "1996                                      0.0   \n",
       "1997                                      0.0   \n",
       "1998                                      0.0   \n",
       "1999                                      0.0   \n",
       "2000                                      0.0   \n",
       "2001                                      0.0   \n",
       "2002                                      0.0   \n",
       "2003                                      0.0   \n",
       "2004                                      0.0   \n",
       "2005                                      1.0   \n",
       "2006                                      0.0   \n",
       "2007                                      0.0   \n",
       "2008                                      0.0   \n",
       "2009                                      0.0   \n",
       "2010                                      0.0   \n",
       "2011                                      2.0   \n",
       "2012                                      1.0   \n",
       "2013                                      0.0   \n",
       "2014                                      0.0   \n",
       "2015                                      0.0   \n",
       "2016                                      0.0   \n",
       "2017                                      0.0   \n",
       "2018                                      0.0   \n",
       "2019                                      1.0   \n",
       "2020                                      1.0   \n",
       "2021                                      3.0   \n",
       "2022                                      1.0   \n",
       "\n",
       "libellé index  Infractions à l'exercice d'une profession règlementée  \\\n",
       "index                                                                  \n",
       "1996                                                         0.0       \n",
       "1997                                                         0.0       \n",
       "1998                                                         0.0       \n",
       "1999                                                         0.0       \n",
       "2000                                                         1.0       \n",
       "2001                                                         1.0       \n",
       "2002                                                         1.0       \n",
       "2003                                                         0.0       \n",
       "2004                                                         2.0       \n",
       "2005                                                         2.0       \n",
       "2006                                                         4.0       \n",
       "2007                                                         2.0       \n",
       "2008                                                         3.0       \n",
       "2009                                                         3.0       \n",
       "2010                                                         3.0       \n",
       "2011                                                         4.0       \n",
       "2012                                                         0.0       \n",
       "2013                                                         4.0       \n",
       "2014                                                         5.0       \n",
       "2015                                                         2.0       \n",
       "2016                                                         4.0       \n",
       "2017                                                         4.0       \n",
       "2018                                                         4.0       \n",
       "2019                                                         6.0       \n",
       "2020                                                         2.0       \n",
       "2021                                                         8.0       \n",
       "2022                                                         3.0       \n",
       "\n",
       "libellé index  Infractions au droit de l'urbanisme et de la construction  \\\n",
       "index                                                                      \n",
       "1996                                                         0.0           \n",
       "1997                                                         0.0           \n",
       "1998                                                         0.0           \n",
       "1999                                                         0.0           \n",
       "2000                                                         0.0           \n",
       "2001                                                         2.0           \n",
       "2002                                                         0.0           \n",
       "2003                                                         1.0           \n",
       "2004                                                         1.0           \n",
       "2005                                                         0.0           \n",
       "2006                                                        12.0           \n",
       "2007                                                         0.0           \n",
       "2008                                                         1.0           \n",
       "2009                                                         1.0           \n",
       "2010                                                         1.0           \n",
       "2011                                                         1.0           \n",
       "2012                                                         0.0           \n",
       "2013                                                         1.0           \n",
       "2014                                                         2.0           \n",
       "2015                                                         5.0           \n",
       "2016                                                         2.0           \n",
       "2017                                                         8.0           \n",
       "2018                                                        21.0           \n",
       "2019                                                        11.0           \n",
       "2020                                                         8.0           \n",
       "2021                                                         6.0           \n",
       "2022                                                         2.0           \n",
       "\n",
       "libellé index  Fraudes fiscales  Autres délits économiques et financiers  \\\n",
       "index                                                                      \n",
       "1996                        0.0                                      0.0   \n",
       "1997                        0.0                                      0.0   \n",
       "1998                        0.0                                      0.0   \n",
       "1999                        0.0                                      0.0   \n",
       "2000                        0.0                                      0.0   \n",
       "2001                        0.0                                      4.0   \n",
       "2002                        0.0                                      1.0   \n",
       "2003                        0.0                                      3.0   \n",
       "2004                        0.0                                      0.0   \n",
       "2005                        0.0                                      8.0   \n",
       "2006                        0.0                                      6.0   \n",
       "2007                        0.0                                      2.0   \n",
       "2008                        0.0                                      5.0   \n",
       "2009                        0.0                                      2.0   \n",
       "2010                        0.0                                      6.0   \n",
       "2011                        0.0                                     10.0   \n",
       "2012                        0.0                                      2.0   \n",
       "2013                        0.0                                     28.0   \n",
       "2014                        0.0                                     26.0   \n",
       "2015                        2.0                                      6.0   \n",
       "2016                        0.0                                     20.0   \n",
       "2017                        0.0                                     31.0   \n",
       "2018                        1.0                                     42.0   \n",
       "2019                        1.0                                     68.0   \n",
       "2020                        0.0                                     57.0   \n",
       "2021                        3.0                                     27.0   \n",
       "2022                        1.0                                     25.0   \n",
       "\n",
       "libellé index  Autres délits  \n",
       "index                         \n",
       "1996                     0.0  \n",
       "1997                     0.0  \n",
       "1998                     0.0  \n",
       "1999                     0.0  \n",
       "2000                    71.0  \n",
       "2001                    92.0  \n",
       "2002                   110.0  \n",
       "2003                   531.0  \n",
       "2004                   433.0  \n",
       "2005                   435.0  \n",
       "2006                   440.0  \n",
       "2007                   431.0  \n",
       "2008                   291.0  \n",
       "2009                   226.0  \n",
       "2010                   278.0  \n",
       "2011                   389.0  \n",
       "2012                   362.0  \n",
       "2013                   327.0  \n",
       "2014                   339.0  \n",
       "2015                   518.0  \n",
       "2016                   539.0  \n",
       "2017                   499.0  \n",
       "2018                   548.0  \n",
       "2019                   632.0  \n",
       "2020                   601.0  \n",
       "2021                   662.0  \n",
       "2022                   444.0  \n",
       "\n",
       "[27 rows x 11663 columns]"
      ]
     },
     "execution_count": 20,
     "metadata": {},
     "output_type": "execute_result"
    }
   ],
   "source": [
    "#pas bon car on récupère \"France_Entière\", \"France_Métro\", ainsi que les 105 départements.\n",
    "df = pd.concat(pd.read_excel(\"./crimes_2000.xlsx\", sheet_name=None),ignore_index=True).drop(columns=\"Index\")\n",
    "\n",
    "csv = df.to_csv(\"data.csv\",index = False)\n",
    "\n",
    "df = pd.read_csv(\"./data.csv\", sep=\",\").set_index(\"libellé index\").transpose()\n",
    "df = df.reset_index()\n",
    "print(df[\"index\"][1].split(\"_\")[1])\n",
    "for index, row in df.iterrows():\n",
    "    df = df.replace(df[\"index\"][index],str(df[\"index\"][index].split(\"_\")[1]))\n",
    "\n",
    "df = df.groupby(\"index\").sum()\n",
    "df"
   ]
  },
  {
   "cell_type": "code",
   "execution_count": 21,
   "metadata": {},
   "outputs": [
    {
     "name": "stdout",
     "output_type": "stream",
     "text": [
      "2022\n"
     ]
    },
    {
     "data": {
      "text/html": [
       "<div>\n",
       "<style scoped>\n",
       "    .dataframe tbody tr th:only-of-type {\n",
       "        vertical-align: middle;\n",
       "    }\n",
       "\n",
       "    .dataframe tbody tr th {\n",
       "        vertical-align: top;\n",
       "    }\n",
       "\n",
       "    .dataframe thead th {\n",
       "        text-align: right;\n",
       "    }\n",
       "</style>\n",
       "<table border=\"1\" class=\"dataframe\">\n",
       "  <thead>\n",
       "    <tr style=\"text-align: right;\">\n",
       "      <th>libellé index</th>\n",
       "      <th>Achats et ventes sans factures</th>\n",
       "      <th>Aide à l'entrée, à la circulation et au séjour des étrangers</th>\n",
       "      <th>Atteintes aux intérêts fondamentaux de la Nation</th>\n",
       "      <th>Atteintes sexuelles</th>\n",
       "      <th>Atteintes à l'environnement</th>\n",
       "      <th>Atteintes à la dignité et à la personnalité</th>\n",
       "      <th>Attentats à l'explosif contre des biens privés</th>\n",
       "      <th>Attentats à l'explosif contre des biens publics</th>\n",
       "      <th>Autres coups et blessures volontaires criminels ou correctionnels</th>\n",
       "      <th>Autres destructions er dégradations de biens privés</th>\n",
       "      <th>...</th>\n",
       "      <th>Vols violents sans arme contre des femmes sur voie publique ou autre lieu public</th>\n",
       "      <th>Vols violents sans arme contre des particuliers à leur domicile</th>\n",
       "      <th>Vols violents sans arme contre des établissements financiers,commerciaux ou industriels</th>\n",
       "      <th>Vols à l'étalage</th>\n",
       "      <th>Vols à la roulotte</th>\n",
       "      <th>Vols à la tire</th>\n",
       "      <th>Vols à main armée contre des entreprises de transports de fonds</th>\n",
       "      <th>Vols à main armée contre des particuliers à leur domicile</th>\n",
       "      <th>Vols à main armée contre des établissements financiers</th>\n",
       "      <th>Vols à main armée contre des établissements industriels ou commerciaux</th>\n",
       "    </tr>\n",
       "    <tr>\n",
       "      <th>index</th>\n",
       "      <th></th>\n",
       "      <th></th>\n",
       "      <th></th>\n",
       "      <th></th>\n",
       "      <th></th>\n",
       "      <th></th>\n",
       "      <th></th>\n",
       "      <th></th>\n",
       "      <th></th>\n",
       "      <th></th>\n",
       "      <th></th>\n",
       "      <th></th>\n",
       "      <th></th>\n",
       "      <th></th>\n",
       "      <th></th>\n",
       "      <th></th>\n",
       "      <th></th>\n",
       "      <th></th>\n",
       "      <th></th>\n",
       "      <th></th>\n",
       "      <th></th>\n",
       "    </tr>\n",
       "  </thead>\n",
       "  <tbody>\n",
       "    <tr>\n",
       "      <th>1996</th>\n",
       "      <td>1506.0</td>\n",
       "      <td>4992.0</td>\n",
       "      <td>10212.0</td>\n",
       "      <td>19771.0</td>\n",
       "      <td>6702.0</td>\n",
       "      <td>23322.0</td>\n",
       "      <td>824.0</td>\n",
       "      <td>444.0</td>\n",
       "      <td>149309.0</td>\n",
       "      <td>275811.0</td>\n",
       "      <td>...</td>\n",
       "      <td>57576.0</td>\n",
       "      <td>3718.0</td>\n",
       "      <td>2746.0</td>\n",
       "      <td>119066.0</td>\n",
       "      <td>1021802.0</td>\n",
       "      <td>161913.0</td>\n",
       "      <td>96.0</td>\n",
       "      <td>1510.0</td>\n",
       "      <td>2943.0</td>\n",
       "      <td>7962.0</td>\n",
       "    </tr>\n",
       "    <tr>\n",
       "      <th>1997</th>\n",
       "      <td>1406.0</td>\n",
       "      <td>3738.0</td>\n",
       "      <td>8614.0</td>\n",
       "      <td>24778.0</td>\n",
       "      <td>7104.0</td>\n",
       "      <td>25828.0</td>\n",
       "      <td>698.0</td>\n",
       "      <td>356.0</td>\n",
       "      <td>162125.0</td>\n",
       "      <td>298897.0</td>\n",
       "      <td>...</td>\n",
       "      <td>57201.0</td>\n",
       "      <td>3578.0</td>\n",
       "      <td>2781.0</td>\n",
       "      <td>113828.0</td>\n",
       "      <td>978328.0</td>\n",
       "      <td>159655.0</td>\n",
       "      <td>156.0</td>\n",
       "      <td>1242.0</td>\n",
       "      <td>2678.0</td>\n",
       "      <td>7137.0</td>\n",
       "    </tr>\n",
       "    <tr>\n",
       "      <th>1998</th>\n",
       "      <td>1086.0</td>\n",
       "      <td>3270.0</td>\n",
       "      <td>7498.0</td>\n",
       "      <td>23643.0</td>\n",
       "      <td>6506.0</td>\n",
       "      <td>24922.0</td>\n",
       "      <td>466.0</td>\n",
       "      <td>210.0</td>\n",
       "      <td>171827.0</td>\n",
       "      <td>317410.0</td>\n",
       "      <td>...</td>\n",
       "      <td>57734.0</td>\n",
       "      <td>3412.0</td>\n",
       "      <td>2346.0</td>\n",
       "      <td>120290.0</td>\n",
       "      <td>1011208.0</td>\n",
       "      <td>186108.0</td>\n",
       "      <td>120.0</td>\n",
       "      <td>1140.0</td>\n",
       "      <td>2371.0</td>\n",
       "      <td>7000.0</td>\n",
       "    </tr>\n",
       "    <tr>\n",
       "      <th>1999</th>\n",
       "      <td>1016.0</td>\n",
       "      <td>2992.0</td>\n",
       "      <td>4910.0</td>\n",
       "      <td>22561.0</td>\n",
       "      <td>5064.0</td>\n",
       "      <td>24090.0</td>\n",
       "      <td>448.0</td>\n",
       "      <td>249.0</td>\n",
       "      <td>188734.0</td>\n",
       "      <td>320824.0</td>\n",
       "      <td>...</td>\n",
       "      <td>65362.0</td>\n",
       "      <td>3184.0</td>\n",
       "      <td>2116.0</td>\n",
       "      <td>111884.0</td>\n",
       "      <td>970994.0</td>\n",
       "      <td>190642.0</td>\n",
       "      <td>82.0</td>\n",
       "      <td>1230.0</td>\n",
       "      <td>2324.0</td>\n",
       "      <td>6490.0</td>\n",
       "    </tr>\n",
       "    <tr>\n",
       "      <th>2000</th>\n",
       "      <td>1396.0</td>\n",
       "      <td>5588.0</td>\n",
       "      <td>3451.0</td>\n",
       "      <td>32268.0</td>\n",
       "      <td>7927.0</td>\n",
       "      <td>39172.0</td>\n",
       "      <td>613.0</td>\n",
       "      <td>249.0</td>\n",
       "      <td>326332.0</td>\n",
       "      <td>505260.0</td>\n",
       "      <td>...</td>\n",
       "      <td>112789.0</td>\n",
       "      <td>5958.0</td>\n",
       "      <td>3956.0</td>\n",
       "      <td>172775.0</td>\n",
       "      <td>1460169.0</td>\n",
       "      <td>304291.0</td>\n",
       "      <td>192.0</td>\n",
       "      <td>2419.0</td>\n",
       "      <td>3861.0</td>\n",
       "      <td>12019.0</td>\n",
       "    </tr>\n",
       "    <tr>\n",
       "      <th>2001</th>\n",
       "      <td>1151.0</td>\n",
       "      <td>4264.0</td>\n",
       "      <td>2156.0</td>\n",
       "      <td>31127.0</td>\n",
       "      <td>5967.0</td>\n",
       "      <td>46492.0</td>\n",
       "      <td>782.0</td>\n",
       "      <td>324.0</td>\n",
       "      <td>358024.0</td>\n",
       "      <td>566595.0</td>\n",
       "      <td>...</td>\n",
       "      <td>148030.0</td>\n",
       "      <td>5394.0</td>\n",
       "      <td>4595.0</td>\n",
       "      <td>192427.0</td>\n",
       "      <td>1546831.0</td>\n",
       "      <td>335265.0</td>\n",
       "      <td>124.0</td>\n",
       "      <td>2278.0</td>\n",
       "      <td>4115.0</td>\n",
       "      <td>12927.0</td>\n",
       "    </tr>\n",
       "    <tr>\n",
       "      <th>2002</th>\n",
       "      <td>1440.0</td>\n",
       "      <td>4550.0</td>\n",
       "      <td>1158.0</td>\n",
       "      <td>33647.0</td>\n",
       "      <td>5727.0</td>\n",
       "      <td>53370.0</td>\n",
       "      <td>1215.0</td>\n",
       "      <td>389.0</td>\n",
       "      <td>383658.0</td>\n",
       "      <td>594932.0</td>\n",
       "      <td>...</td>\n",
       "      <td>150287.0</td>\n",
       "      <td>5320.0</td>\n",
       "      <td>4467.0</td>\n",
       "      <td>192821.0</td>\n",
       "      <td>1477647.0</td>\n",
       "      <td>362212.0</td>\n",
       "      <td>88.0</td>\n",
       "      <td>2156.0</td>\n",
       "      <td>3891.0</td>\n",
       "      <td>13140.0</td>\n",
       "    </tr>\n",
       "    <tr>\n",
       "      <th>2003</th>\n",
       "      <td>1377.0</td>\n",
       "      <td>5974.0</td>\n",
       "      <td>1048.0</td>\n",
       "      <td>43605.0</td>\n",
       "      <td>5952.0</td>\n",
       "      <td>57514.0</td>\n",
       "      <td>938.0</td>\n",
       "      <td>355.0</td>\n",
       "      <td>417011.0</td>\n",
       "      <td>559574.0</td>\n",
       "      <td>...</td>\n",
       "      <td>144234.0</td>\n",
       "      <td>5285.0</td>\n",
       "      <td>3731.0</td>\n",
       "      <td>191490.0</td>\n",
       "      <td>1331921.0</td>\n",
       "      <td>345043.0</td>\n",
       "      <td>108.0</td>\n",
       "      <td>1823.0</td>\n",
       "      <td>2969.0</td>\n",
       "      <td>10424.0</td>\n",
       "    </tr>\n",
       "    <tr>\n",
       "      <th>2004</th>\n",
       "      <td>1378.0</td>\n",
       "      <td>6975.0</td>\n",
       "      <td>1404.0</td>\n",
       "      <td>51749.0</td>\n",
       "      <td>5442.0</td>\n",
       "      <td>66242.0</td>\n",
       "      <td>740.0</td>\n",
       "      <td>341.0</td>\n",
       "      <td>425942.0</td>\n",
       "      <td>521198.0</td>\n",
       "      <td>...</td>\n",
       "      <td>140545.0</td>\n",
       "      <td>5248.0</td>\n",
       "      <td>3242.0</td>\n",
       "      <td>188045.0</td>\n",
       "      <td>1197304.0</td>\n",
       "      <td>326338.0</td>\n",
       "      <td>123.0</td>\n",
       "      <td>1583.0</td>\n",
       "      <td>2590.0</td>\n",
       "      <td>9783.0</td>\n",
       "    </tr>\n",
       "    <tr>\n",
       "      <th>2005</th>\n",
       "      <td>1283.0</td>\n",
       "      <td>8752.0</td>\n",
       "      <td>1568.0</td>\n",
       "      <td>51827.0</td>\n",
       "      <td>5760.0</td>\n",
       "      <td>74291.0</td>\n",
       "      <td>689.0</td>\n",
       "      <td>340.0</td>\n",
       "      <td>461543.0</td>\n",
       "      <td>529966.0</td>\n",
       "      <td>...</td>\n",
       "      <td>147706.0</td>\n",
       "      <td>5097.0</td>\n",
       "      <td>3088.0</td>\n",
       "      <td>183666.0</td>\n",
       "      <td>1097330.0</td>\n",
       "      <td>318410.0</td>\n",
       "      <td>162.0</td>\n",
       "      <td>1858.0</td>\n",
       "      <td>2187.0</td>\n",
       "      <td>8583.0</td>\n",
       "    </tr>\n",
       "    <tr>\n",
       "      <th>2006</th>\n",
       "      <td>1496.0</td>\n",
       "      <td>11268.0</td>\n",
       "      <td>1598.0</td>\n",
       "      <td>48920.0</td>\n",
       "      <td>5931.0</td>\n",
       "      <td>82967.0</td>\n",
       "      <td>813.0</td>\n",
       "      <td>251.0</td>\n",
       "      <td>511037.0</td>\n",
       "      <td>489039.0</td>\n",
       "      <td>...</td>\n",
       "      <td>150505.0</td>\n",
       "      <td>4710.0</td>\n",
       "      <td>2951.0</td>\n",
       "      <td>182266.0</td>\n",
       "      <td>1066393.0</td>\n",
       "      <td>317066.0</td>\n",
       "      <td>110.0</td>\n",
       "      <td>1936.0</td>\n",
       "      <td>1717.0</td>\n",
       "      <td>8883.0</td>\n",
       "    </tr>\n",
       "    <tr>\n",
       "      <th>2007</th>\n",
       "      <td>1149.0</td>\n",
       "      <td>13326.0</td>\n",
       "      <td>1464.0</td>\n",
       "      <td>47578.0</td>\n",
       "      <td>6405.0</td>\n",
       "      <td>87021.0</td>\n",
       "      <td>632.0</td>\n",
       "      <td>306.0</td>\n",
       "      <td>548228.0</td>\n",
       "      <td>451158.0</td>\n",
       "      <td>...</td>\n",
       "      <td>133663.0</td>\n",
       "      <td>4075.0</td>\n",
       "      <td>2702.0</td>\n",
       "      <td>181718.0</td>\n",
       "      <td>996089.0</td>\n",
       "      <td>290934.0</td>\n",
       "      <td>136.0</td>\n",
       "      <td>1627.0</td>\n",
       "      <td>1250.0</td>\n",
       "      <td>8746.0</td>\n",
       "    </tr>\n",
       "    <tr>\n",
       "      <th>2008</th>\n",
       "      <td>1108.0</td>\n",
       "      <td>14982.0</td>\n",
       "      <td>2011.0</td>\n",
       "      <td>48325.0</td>\n",
       "      <td>7534.0</td>\n",
       "      <td>101055.0</td>\n",
       "      <td>387.0</td>\n",
       "      <td>134.0</td>\n",
       "      <td>584832.0</td>\n",
       "      <td>433719.0</td>\n",
       "      <td>...</td>\n",
       "      <td>125595.0</td>\n",
       "      <td>4268.0</td>\n",
       "      <td>2557.0</td>\n",
       "      <td>187959.0</td>\n",
       "      <td>893916.0</td>\n",
       "      <td>266402.0</td>\n",
       "      <td>91.0</td>\n",
       "      <td>2058.0</td>\n",
       "      <td>1282.0</td>\n",
       "      <td>10659.0</td>\n",
       "    </tr>\n",
       "    <tr>\n",
       "      <th>2009</th>\n",
       "      <td>1092.0</td>\n",
       "      <td>14850.0</td>\n",
       "      <td>2148.0</td>\n",
       "      <td>46031.0</td>\n",
       "      <td>8330.0</td>\n",
       "      <td>96503.0</td>\n",
       "      <td>293.0</td>\n",
       "      <td>108.0</td>\n",
       "      <td>604703.0</td>\n",
       "      <td>407663.0</td>\n",
       "      <td>...</td>\n",
       "      <td>134466.0</td>\n",
       "      <td>4489.0</td>\n",
       "      <td>2837.0</td>\n",
       "      <td>208112.0</td>\n",
       "      <td>885173.0</td>\n",
       "      <td>268429.0</td>\n",
       "      <td>87.0</td>\n",
       "      <td>2344.0</td>\n",
       "      <td>1178.0</td>\n",
       "      <td>12785.0</td>\n",
       "    </tr>\n",
       "    <tr>\n",
       "      <th>2010</th>\n",
       "      <td>891.0</td>\n",
       "      <td>15136.0</td>\n",
       "      <td>2301.0</td>\n",
       "      <td>43903.0</td>\n",
       "      <td>9165.0</td>\n",
       "      <td>93304.0</td>\n",
       "      <td>351.0</td>\n",
       "      <td>87.0</td>\n",
       "      <td>604914.0</td>\n",
       "      <td>380187.0</td>\n",
       "      <td>...</td>\n",
       "      <td>152390.0</td>\n",
       "      <td>4635.0</td>\n",
       "      <td>2833.0</td>\n",
       "      <td>213322.0</td>\n",
       "      <td>836261.0</td>\n",
       "      <td>270346.0</td>\n",
       "      <td>128.0</td>\n",
       "      <td>2211.0</td>\n",
       "      <td>1006.0</td>\n",
       "      <td>11192.0</td>\n",
       "    </tr>\n",
       "    <tr>\n",
       "      <th>2011</th>\n",
       "      <td>1357.0</td>\n",
       "      <td>15800.0</td>\n",
       "      <td>2424.0</td>\n",
       "      <td>48194.0</td>\n",
       "      <td>9792.0</td>\n",
       "      <td>92649.0</td>\n",
       "      <td>269.0</td>\n",
       "      <td>68.0</td>\n",
       "      <td>604475.0</td>\n",
       "      <td>355610.0</td>\n",
       "      <td>...</td>\n",
       "      <td>154832.0</td>\n",
       "      <td>4397.0</td>\n",
       "      <td>2579.0</td>\n",
       "      <td>203678.0</td>\n",
       "      <td>761422.0</td>\n",
       "      <td>269076.0</td>\n",
       "      <td>190.0</td>\n",
       "      <td>2324.0</td>\n",
       "      <td>711.0</td>\n",
       "      <td>9788.0</td>\n",
       "    </tr>\n",
       "    <tr>\n",
       "      <th>2012</th>\n",
       "      <td>985.0</td>\n",
       "      <td>15067.0</td>\n",
       "      <td>2547.0</td>\n",
       "      <td>41764.0</td>\n",
       "      <td>8213.0</td>\n",
       "      <td>84866.0</td>\n",
       "      <td>440.0</td>\n",
       "      <td>39.0</td>\n",
       "      <td>607386.0</td>\n",
       "      <td>361304.0</td>\n",
       "      <td>...</td>\n",
       "      <td>169407.0</td>\n",
       "      <td>4435.0</td>\n",
       "      <td>2426.0</td>\n",
       "      <td>210444.0</td>\n",
       "      <td>752253.0</td>\n",
       "      <td>304299.0</td>\n",
       "      <td>129.0</td>\n",
       "      <td>2023.0</td>\n",
       "      <td>693.0</td>\n",
       "      <td>9631.0</td>\n",
       "    </tr>\n",
       "    <tr>\n",
       "      <th>2013</th>\n",
       "      <td>904.0</td>\n",
       "      <td>13509.0</td>\n",
       "      <td>3508.0</td>\n",
       "      <td>39332.0</td>\n",
       "      <td>8262.0</td>\n",
       "      <td>96219.0</td>\n",
       "      <td>201.0</td>\n",
       "      <td>93.0</td>\n",
       "      <td>607424.0</td>\n",
       "      <td>356033.0</td>\n",
       "      <td>...</td>\n",
       "      <td>170352.0</td>\n",
       "      <td>4851.0</td>\n",
       "      <td>2639.0</td>\n",
       "      <td>215673.0</td>\n",
       "      <td>771531.0</td>\n",
       "      <td>341552.0</td>\n",
       "      <td>84.0</td>\n",
       "      <td>2303.0</td>\n",
       "      <td>496.0</td>\n",
       "      <td>9834.0</td>\n",
       "    </tr>\n",
       "    <tr>\n",
       "      <th>2014</th>\n",
       "      <td>994.0</td>\n",
       "      <td>13813.0</td>\n",
       "      <td>2841.0</td>\n",
       "      <td>38456.0</td>\n",
       "      <td>7823.0</td>\n",
       "      <td>123201.0</td>\n",
       "      <td>158.0</td>\n",
       "      <td>89.0</td>\n",
       "      <td>619708.0</td>\n",
       "      <td>345896.0</td>\n",
       "      <td>...</td>\n",
       "      <td>154973.0</td>\n",
       "      <td>5262.0</td>\n",
       "      <td>2945.0</td>\n",
       "      <td>206012.0</td>\n",
       "      <td>805040.0</td>\n",
       "      <td>385149.0</td>\n",
       "      <td>81.0</td>\n",
       "      <td>2257.0</td>\n",
       "      <td>443.0</td>\n",
       "      <td>7703.0</td>\n",
       "    </tr>\n",
       "    <tr>\n",
       "      <th>2015</th>\n",
       "      <td>861.0</td>\n",
       "      <td>12779.0</td>\n",
       "      <td>3416.0</td>\n",
       "      <td>39112.0</td>\n",
       "      <td>6981.0</td>\n",
       "      <td>142485.0</td>\n",
       "      <td>314.0</td>\n",
       "      <td>112.0</td>\n",
       "      <td>665464.0</td>\n",
       "      <td>332264.0</td>\n",
       "      <td>...</td>\n",
       "      <td>135730.0</td>\n",
       "      <td>5815.0</td>\n",
       "      <td>3317.0</td>\n",
       "      <td>192979.0</td>\n",
       "      <td>822448.0</td>\n",
       "      <td>395413.0</td>\n",
       "      <td>96.0</td>\n",
       "      <td>2686.0</td>\n",
       "      <td>483.0</td>\n",
       "      <td>6679.0</td>\n",
       "    </tr>\n",
       "    <tr>\n",
       "      <th>2016</th>\n",
       "      <td>613.0</td>\n",
       "      <td>12766.0</td>\n",
       "      <td>4496.0</td>\n",
       "      <td>37897.0</td>\n",
       "      <td>7415.0</td>\n",
       "      <td>148307.0</td>\n",
       "      <td>305.0</td>\n",
       "      <td>90.0</td>\n",
       "      <td>677330.0</td>\n",
       "      <td>329035.0</td>\n",
       "      <td>...</td>\n",
       "      <td>128622.0</td>\n",
       "      <td>5840.0</td>\n",
       "      <td>3207.0</td>\n",
       "      <td>190316.0</td>\n",
       "      <td>814663.0</td>\n",
       "      <td>431999.0</td>\n",
       "      <td>60.0</td>\n",
       "      <td>1993.0</td>\n",
       "      <td>342.0</td>\n",
       "      <td>4708.0</td>\n",
       "    </tr>\n",
       "    <tr>\n",
       "      <th>2017</th>\n",
       "      <td>486.0</td>\n",
       "      <td>12532.0</td>\n",
       "      <td>3785.0</td>\n",
       "      <td>38980.0</td>\n",
       "      <td>7913.0</td>\n",
       "      <td>158285.0</td>\n",
       "      <td>305.0</td>\n",
       "      <td>119.0</td>\n",
       "      <td>701490.0</td>\n",
       "      <td>325651.0</td>\n",
       "      <td>...</td>\n",
       "      <td>119727.0</td>\n",
       "      <td>5971.0</td>\n",
       "      <td>2913.0</td>\n",
       "      <td>186361.0</td>\n",
       "      <td>812519.0</td>\n",
       "      <td>430874.0</td>\n",
       "      <td>65.0</td>\n",
       "      <td>1870.0</td>\n",
       "      <td>246.0</td>\n",
       "      <td>4005.0</td>\n",
       "    </tr>\n",
       "    <tr>\n",
       "      <th>2018</th>\n",
       "      <td>575.0</td>\n",
       "      <td>13085.0</td>\n",
       "      <td>3847.0</td>\n",
       "      <td>43469.0</td>\n",
       "      <td>8533.0</td>\n",
       "      <td>180308.0</td>\n",
       "      <td>443.0</td>\n",
       "      <td>125.0</td>\n",
       "      <td>754488.0</td>\n",
       "      <td>340079.0</td>\n",
       "      <td>...</td>\n",
       "      <td>106262.0</td>\n",
       "      <td>5640.0</td>\n",
       "      <td>2825.0</td>\n",
       "      <td>183040.0</td>\n",
       "      <td>802738.0</td>\n",
       "      <td>447040.0</td>\n",
       "      <td>48.0</td>\n",
       "      <td>1524.0</td>\n",
       "      <td>213.0</td>\n",
       "      <td>3054.0</td>\n",
       "    </tr>\n",
       "    <tr>\n",
       "      <th>2019</th>\n",
       "      <td>471.0</td>\n",
       "      <td>13463.0</td>\n",
       "      <td>3770.0</td>\n",
       "      <td>45206.0</td>\n",
       "      <td>9354.0</td>\n",
       "      <td>197287.0</td>\n",
       "      <td>564.0</td>\n",
       "      <td>164.0</td>\n",
       "      <td>817871.0</td>\n",
       "      <td>359243.0</td>\n",
       "      <td>...</td>\n",
       "      <td>98567.0</td>\n",
       "      <td>5561.0</td>\n",
       "      <td>2491.0</td>\n",
       "      <td>182457.0</td>\n",
       "      <td>808104.0</td>\n",
       "      <td>503820.0</td>\n",
       "      <td>39.0</td>\n",
       "      <td>1455.0</td>\n",
       "      <td>165.0</td>\n",
       "      <td>2860.0</td>\n",
       "    </tr>\n",
       "    <tr>\n",
       "      <th>2020</th>\n",
       "      <td>270.0</td>\n",
       "      <td>11781.0</td>\n",
       "      <td>3564.0</td>\n",
       "      <td>45719.0</td>\n",
       "      <td>10462.0</td>\n",
       "      <td>200274.0</td>\n",
       "      <td>545.0</td>\n",
       "      <td>188.0</td>\n",
       "      <td>827214.0</td>\n",
       "      <td>311011.0</td>\n",
       "      <td>...</td>\n",
       "      <td>78269.0</td>\n",
       "      <td>5344.0</td>\n",
       "      <td>2053.0</td>\n",
       "      <td>134362.0</td>\n",
       "      <td>671113.0</td>\n",
       "      <td>359415.0</td>\n",
       "      <td>30.0</td>\n",
       "      <td>1462.0</td>\n",
       "      <td>155.0</td>\n",
       "      <td>2313.0</td>\n",
       "    </tr>\n",
       "    <tr>\n",
       "      <th>2021</th>\n",
       "      <td>267.0</td>\n",
       "      <td>13911.0</td>\n",
       "      <td>3933.0</td>\n",
       "      <td>46199.0</td>\n",
       "      <td>10687.0</td>\n",
       "      <td>229381.0</td>\n",
       "      <td>697.0</td>\n",
       "      <td>179.0</td>\n",
       "      <td>925924.0</td>\n",
       "      <td>320104.0</td>\n",
       "      <td>...</td>\n",
       "      <td>73208.0</td>\n",
       "      <td>5272.0</td>\n",
       "      <td>1930.0</td>\n",
       "      <td>128830.0</td>\n",
       "      <td>673653.0</td>\n",
       "      <td>381948.0</td>\n",
       "      <td>15.0</td>\n",
       "      <td>1430.0</td>\n",
       "      <td>174.0</td>\n",
       "      <td>1663.0</td>\n",
       "    </tr>\n",
       "    <tr>\n",
       "      <th>2022</th>\n",
       "      <td>87.0</td>\n",
       "      <td>7558.0</td>\n",
       "      <td>2167.0</td>\n",
       "      <td>27242.0</td>\n",
       "      <td>5207.0</td>\n",
       "      <td>135763.0</td>\n",
       "      <td>423.0</td>\n",
       "      <td>123.0</td>\n",
       "      <td>615773.0</td>\n",
       "      <td>195979.0</td>\n",
       "      <td>...</td>\n",
       "      <td>38572.0</td>\n",
       "      <td>2907.0</td>\n",
       "      <td>1188.0</td>\n",
       "      <td>83139.0</td>\n",
       "      <td>424325.0</td>\n",
       "      <td>248874.0</td>\n",
       "      <td>15.0</td>\n",
       "      <td>766.0</td>\n",
       "      <td>141.0</td>\n",
       "      <td>1038.0</td>\n",
       "    </tr>\n",
       "  </tbody>\n",
       "</table>\n",
       "<p>27 rows × 104 columns</p>\n",
       "</div>"
      ],
      "text/plain": [
       "libellé index  Achats et ventes sans factures  \\\n",
       "index                                           \n",
       "1996                                   1506.0   \n",
       "1997                                   1406.0   \n",
       "1998                                   1086.0   \n",
       "1999                                   1016.0   \n",
       "2000                                   1396.0   \n",
       "2001                                   1151.0   \n",
       "2002                                   1440.0   \n",
       "2003                                   1377.0   \n",
       "2004                                   1378.0   \n",
       "2005                                   1283.0   \n",
       "2006                                   1496.0   \n",
       "2007                                   1149.0   \n",
       "2008                                   1108.0   \n",
       "2009                                   1092.0   \n",
       "2010                                    891.0   \n",
       "2011                                   1357.0   \n",
       "2012                                    985.0   \n",
       "2013                                    904.0   \n",
       "2014                                    994.0   \n",
       "2015                                    861.0   \n",
       "2016                                    613.0   \n",
       "2017                                    486.0   \n",
       "2018                                    575.0   \n",
       "2019                                    471.0   \n",
       "2020                                    270.0   \n",
       "2021                                    267.0   \n",
       "2022                                     87.0   \n",
       "\n",
       "libellé index  Aide à l'entrée, à la circulation et au séjour des étrangers  \\\n",
       "index                                                                         \n",
       "1996                                                      4992.0              \n",
       "1997                                                      3738.0              \n",
       "1998                                                      3270.0              \n",
       "1999                                                      2992.0              \n",
       "2000                                                      5588.0              \n",
       "2001                                                      4264.0              \n",
       "2002                                                      4550.0              \n",
       "2003                                                      5974.0              \n",
       "2004                                                      6975.0              \n",
       "2005                                                      8752.0              \n",
       "2006                                                     11268.0              \n",
       "2007                                                     13326.0              \n",
       "2008                                                     14982.0              \n",
       "2009                                                     14850.0              \n",
       "2010                                                     15136.0              \n",
       "2011                                                     15800.0              \n",
       "2012                                                     15067.0              \n",
       "2013                                                     13509.0              \n",
       "2014                                                     13813.0              \n",
       "2015                                                     12779.0              \n",
       "2016                                                     12766.0              \n",
       "2017                                                     12532.0              \n",
       "2018                                                     13085.0              \n",
       "2019                                                     13463.0              \n",
       "2020                                                     11781.0              \n",
       "2021                                                     13911.0              \n",
       "2022                                                      7558.0              \n",
       "\n",
       "libellé index  Atteintes aux intérêts fondamentaux de la Nation  \\\n",
       "index                                                             \n",
       "1996                                                    10212.0   \n",
       "1997                                                     8614.0   \n",
       "1998                                                     7498.0   \n",
       "1999                                                     4910.0   \n",
       "2000                                                     3451.0   \n",
       "2001                                                     2156.0   \n",
       "2002                                                     1158.0   \n",
       "2003                                                     1048.0   \n",
       "2004                                                     1404.0   \n",
       "2005                                                     1568.0   \n",
       "2006                                                     1598.0   \n",
       "2007                                                     1464.0   \n",
       "2008                                                     2011.0   \n",
       "2009                                                     2148.0   \n",
       "2010                                                     2301.0   \n",
       "2011                                                     2424.0   \n",
       "2012                                                     2547.0   \n",
       "2013                                                     3508.0   \n",
       "2014                                                     2841.0   \n",
       "2015                                                     3416.0   \n",
       "2016                                                     4496.0   \n",
       "2017                                                     3785.0   \n",
       "2018                                                     3847.0   \n",
       "2019                                                     3770.0   \n",
       "2020                                                     3564.0   \n",
       "2021                                                     3933.0   \n",
       "2022                                                     2167.0   \n",
       "\n",
       "libellé index  Atteintes sexuelles  Atteintes à l'environnement  \\\n",
       "index                                                             \n",
       "1996                       19771.0                       6702.0   \n",
       "1997                       24778.0                       7104.0   \n",
       "1998                       23643.0                       6506.0   \n",
       "1999                       22561.0                       5064.0   \n",
       "2000                       32268.0                       7927.0   \n",
       "2001                       31127.0                       5967.0   \n",
       "2002                       33647.0                       5727.0   \n",
       "2003                       43605.0                       5952.0   \n",
       "2004                       51749.0                       5442.0   \n",
       "2005                       51827.0                       5760.0   \n",
       "2006                       48920.0                       5931.0   \n",
       "2007                       47578.0                       6405.0   \n",
       "2008                       48325.0                       7534.0   \n",
       "2009                       46031.0                       8330.0   \n",
       "2010                       43903.0                       9165.0   \n",
       "2011                       48194.0                       9792.0   \n",
       "2012                       41764.0                       8213.0   \n",
       "2013                       39332.0                       8262.0   \n",
       "2014                       38456.0                       7823.0   \n",
       "2015                       39112.0                       6981.0   \n",
       "2016                       37897.0                       7415.0   \n",
       "2017                       38980.0                       7913.0   \n",
       "2018                       43469.0                       8533.0   \n",
       "2019                       45206.0                       9354.0   \n",
       "2020                       45719.0                      10462.0   \n",
       "2021                       46199.0                      10687.0   \n",
       "2022                       27242.0                       5207.0   \n",
       "\n",
       "libellé index  Atteintes à la dignité et à la personnalité  \\\n",
       "index                                                        \n",
       "1996                                               23322.0   \n",
       "1997                                               25828.0   \n",
       "1998                                               24922.0   \n",
       "1999                                               24090.0   \n",
       "2000                                               39172.0   \n",
       "2001                                               46492.0   \n",
       "2002                                               53370.0   \n",
       "2003                                               57514.0   \n",
       "2004                                               66242.0   \n",
       "2005                                               74291.0   \n",
       "2006                                               82967.0   \n",
       "2007                                               87021.0   \n",
       "2008                                              101055.0   \n",
       "2009                                               96503.0   \n",
       "2010                                               93304.0   \n",
       "2011                                               92649.0   \n",
       "2012                                               84866.0   \n",
       "2013                                               96219.0   \n",
       "2014                                              123201.0   \n",
       "2015                                              142485.0   \n",
       "2016                                              148307.0   \n",
       "2017                                              158285.0   \n",
       "2018                                              180308.0   \n",
       "2019                                              197287.0   \n",
       "2020                                              200274.0   \n",
       "2021                                              229381.0   \n",
       "2022                                              135763.0   \n",
       "\n",
       "libellé index  Attentats à l'explosif contre des biens privés  \\\n",
       "index                                                           \n",
       "1996                                                    824.0   \n",
       "1997                                                    698.0   \n",
       "1998                                                    466.0   \n",
       "1999                                                    448.0   \n",
       "2000                                                    613.0   \n",
       "2001                                                    782.0   \n",
       "2002                                                   1215.0   \n",
       "2003                                                    938.0   \n",
       "2004                                                    740.0   \n",
       "2005                                                    689.0   \n",
       "2006                                                    813.0   \n",
       "2007                                                    632.0   \n",
       "2008                                                    387.0   \n",
       "2009                                                    293.0   \n",
       "2010                                                    351.0   \n",
       "2011                                                    269.0   \n",
       "2012                                                    440.0   \n",
       "2013                                                    201.0   \n",
       "2014                                                    158.0   \n",
       "2015                                                    314.0   \n",
       "2016                                                    305.0   \n",
       "2017                                                    305.0   \n",
       "2018                                                    443.0   \n",
       "2019                                                    564.0   \n",
       "2020                                                    545.0   \n",
       "2021                                                    697.0   \n",
       "2022                                                    423.0   \n",
       "\n",
       "libellé index  Attentats à l'explosif contre des biens publics  \\\n",
       "index                                                            \n",
       "1996                                                     444.0   \n",
       "1997                                                     356.0   \n",
       "1998                                                     210.0   \n",
       "1999                                                     249.0   \n",
       "2000                                                     249.0   \n",
       "2001                                                     324.0   \n",
       "2002                                                     389.0   \n",
       "2003                                                     355.0   \n",
       "2004                                                     341.0   \n",
       "2005                                                     340.0   \n",
       "2006                                                     251.0   \n",
       "2007                                                     306.0   \n",
       "2008                                                     134.0   \n",
       "2009                                                     108.0   \n",
       "2010                                                      87.0   \n",
       "2011                                                      68.0   \n",
       "2012                                                      39.0   \n",
       "2013                                                      93.0   \n",
       "2014                                                      89.0   \n",
       "2015                                                     112.0   \n",
       "2016                                                      90.0   \n",
       "2017                                                     119.0   \n",
       "2018                                                     125.0   \n",
       "2019                                                     164.0   \n",
       "2020                                                     188.0   \n",
       "2021                                                     179.0   \n",
       "2022                                                     123.0   \n",
       "\n",
       "libellé index  Autres coups et blessures volontaires criminels ou correctionnels  \\\n",
       "index                                                                              \n",
       "1996                                                    149309.0                   \n",
       "1997                                                    162125.0                   \n",
       "1998                                                    171827.0                   \n",
       "1999                                                    188734.0                   \n",
       "2000                                                    326332.0                   \n",
       "2001                                                    358024.0                   \n",
       "2002                                                    383658.0                   \n",
       "2003                                                    417011.0                   \n",
       "2004                                                    425942.0                   \n",
       "2005                                                    461543.0                   \n",
       "2006                                                    511037.0                   \n",
       "2007                                                    548228.0                   \n",
       "2008                                                    584832.0                   \n",
       "2009                                                    604703.0                   \n",
       "2010                                                    604914.0                   \n",
       "2011                                                    604475.0                   \n",
       "2012                                                    607386.0                   \n",
       "2013                                                    607424.0                   \n",
       "2014                                                    619708.0                   \n",
       "2015                                                    665464.0                   \n",
       "2016                                                    677330.0                   \n",
       "2017                                                    701490.0                   \n",
       "2018                                                    754488.0                   \n",
       "2019                                                    817871.0                   \n",
       "2020                                                    827214.0                   \n",
       "2021                                                    925924.0                   \n",
       "2022                                                    615773.0                   \n",
       "\n",
       "libellé index  Autres destructions er dégradations de biens privés  ...  \\\n",
       "index                                                               ...   \n",
       "1996                                                    275811.0    ...   \n",
       "1997                                                    298897.0    ...   \n",
       "1998                                                    317410.0    ...   \n",
       "1999                                                    320824.0    ...   \n",
       "2000                                                    505260.0    ...   \n",
       "2001                                                    566595.0    ...   \n",
       "2002                                                    594932.0    ...   \n",
       "2003                                                    559574.0    ...   \n",
       "2004                                                    521198.0    ...   \n",
       "2005                                                    529966.0    ...   \n",
       "2006                                                    489039.0    ...   \n",
       "2007                                                    451158.0    ...   \n",
       "2008                                                    433719.0    ...   \n",
       "2009                                                    407663.0    ...   \n",
       "2010                                                    380187.0    ...   \n",
       "2011                                                    355610.0    ...   \n",
       "2012                                                    361304.0    ...   \n",
       "2013                                                    356033.0    ...   \n",
       "2014                                                    345896.0    ...   \n",
       "2015                                                    332264.0    ...   \n",
       "2016                                                    329035.0    ...   \n",
       "2017                                                    325651.0    ...   \n",
       "2018                                                    340079.0    ...   \n",
       "2019                                                    359243.0    ...   \n",
       "2020                                                    311011.0    ...   \n",
       "2021                                                    320104.0    ...   \n",
       "2022                                                    195979.0    ...   \n",
       "\n",
       "libellé index  Vols violents sans arme contre des femmes sur voie publique ou autre lieu public  \\\n",
       "index                                                                                             \n",
       "1996                                                     57576.0                                  \n",
       "1997                                                     57201.0                                  \n",
       "1998                                                     57734.0                                  \n",
       "1999                                                     65362.0                                  \n",
       "2000                                                    112789.0                                  \n",
       "2001                                                    148030.0                                  \n",
       "2002                                                    150287.0                                  \n",
       "2003                                                    144234.0                                  \n",
       "2004                                                    140545.0                                  \n",
       "2005                                                    147706.0                                  \n",
       "2006                                                    150505.0                                  \n",
       "2007                                                    133663.0                                  \n",
       "2008                                                    125595.0                                  \n",
       "2009                                                    134466.0                                  \n",
       "2010                                                    152390.0                                  \n",
       "2011                                                    154832.0                                  \n",
       "2012                                                    169407.0                                  \n",
       "2013                                                    170352.0                                  \n",
       "2014                                                    154973.0                                  \n",
       "2015                                                    135730.0                                  \n",
       "2016                                                    128622.0                                  \n",
       "2017                                                    119727.0                                  \n",
       "2018                                                    106262.0                                  \n",
       "2019                                                     98567.0                                  \n",
       "2020                                                     78269.0                                  \n",
       "2021                                                     73208.0                                  \n",
       "2022                                                     38572.0                                  \n",
       "\n",
       "libellé index  Vols violents sans arme contre des particuliers à leur domicile  \\\n",
       "index                                                                            \n",
       "1996                                                      3718.0                 \n",
       "1997                                                      3578.0                 \n",
       "1998                                                      3412.0                 \n",
       "1999                                                      3184.0                 \n",
       "2000                                                      5958.0                 \n",
       "2001                                                      5394.0                 \n",
       "2002                                                      5320.0                 \n",
       "2003                                                      5285.0                 \n",
       "2004                                                      5248.0                 \n",
       "2005                                                      5097.0                 \n",
       "2006                                                      4710.0                 \n",
       "2007                                                      4075.0                 \n",
       "2008                                                      4268.0                 \n",
       "2009                                                      4489.0                 \n",
       "2010                                                      4635.0                 \n",
       "2011                                                      4397.0                 \n",
       "2012                                                      4435.0                 \n",
       "2013                                                      4851.0                 \n",
       "2014                                                      5262.0                 \n",
       "2015                                                      5815.0                 \n",
       "2016                                                      5840.0                 \n",
       "2017                                                      5971.0                 \n",
       "2018                                                      5640.0                 \n",
       "2019                                                      5561.0                 \n",
       "2020                                                      5344.0                 \n",
       "2021                                                      5272.0                 \n",
       "2022                                                      2907.0                 \n",
       "\n",
       "libellé index  Vols violents sans arme contre des établissements financiers,commerciaux ou industriels  \\\n",
       "index                                                                                                    \n",
       "1996                                                      2746.0                                         \n",
       "1997                                                      2781.0                                         \n",
       "1998                                                      2346.0                                         \n",
       "1999                                                      2116.0                                         \n",
       "2000                                                      3956.0                                         \n",
       "2001                                                      4595.0                                         \n",
       "2002                                                      4467.0                                         \n",
       "2003                                                      3731.0                                         \n",
       "2004                                                      3242.0                                         \n",
       "2005                                                      3088.0                                         \n",
       "2006                                                      2951.0                                         \n",
       "2007                                                      2702.0                                         \n",
       "2008                                                      2557.0                                         \n",
       "2009                                                      2837.0                                         \n",
       "2010                                                      2833.0                                         \n",
       "2011                                                      2579.0                                         \n",
       "2012                                                      2426.0                                         \n",
       "2013                                                      2639.0                                         \n",
       "2014                                                      2945.0                                         \n",
       "2015                                                      3317.0                                         \n",
       "2016                                                      3207.0                                         \n",
       "2017                                                      2913.0                                         \n",
       "2018                                                      2825.0                                         \n",
       "2019                                                      2491.0                                         \n",
       "2020                                                      2053.0                                         \n",
       "2021                                                      1930.0                                         \n",
       "2022                                                      1188.0                                         \n",
       "\n",
       "libellé index  Vols à l'étalage  Vols à la roulotte  Vols à la tire  \\\n",
       "index                                                                 \n",
       "1996                   119066.0           1021802.0        161913.0   \n",
       "1997                   113828.0            978328.0        159655.0   \n",
       "1998                   120290.0           1011208.0        186108.0   \n",
       "1999                   111884.0            970994.0        190642.0   \n",
       "2000                   172775.0           1460169.0        304291.0   \n",
       "2001                   192427.0           1546831.0        335265.0   \n",
       "2002                   192821.0           1477647.0        362212.0   \n",
       "2003                   191490.0           1331921.0        345043.0   \n",
       "2004                   188045.0           1197304.0        326338.0   \n",
       "2005                   183666.0           1097330.0        318410.0   \n",
       "2006                   182266.0           1066393.0        317066.0   \n",
       "2007                   181718.0            996089.0        290934.0   \n",
       "2008                   187959.0            893916.0        266402.0   \n",
       "2009                   208112.0            885173.0        268429.0   \n",
       "2010                   213322.0            836261.0        270346.0   \n",
       "2011                   203678.0            761422.0        269076.0   \n",
       "2012                   210444.0            752253.0        304299.0   \n",
       "2013                   215673.0            771531.0        341552.0   \n",
       "2014                   206012.0            805040.0        385149.0   \n",
       "2015                   192979.0            822448.0        395413.0   \n",
       "2016                   190316.0            814663.0        431999.0   \n",
       "2017                   186361.0            812519.0        430874.0   \n",
       "2018                   183040.0            802738.0        447040.0   \n",
       "2019                   182457.0            808104.0        503820.0   \n",
       "2020                   134362.0            671113.0        359415.0   \n",
       "2021                   128830.0            673653.0        381948.0   \n",
       "2022                    83139.0            424325.0        248874.0   \n",
       "\n",
       "libellé index  Vols à main armée contre des entreprises de transports de fonds  \\\n",
       "index                                                                            \n",
       "1996                                                        96.0                 \n",
       "1997                                                       156.0                 \n",
       "1998                                                       120.0                 \n",
       "1999                                                        82.0                 \n",
       "2000                                                       192.0                 \n",
       "2001                                                       124.0                 \n",
       "2002                                                        88.0                 \n",
       "2003                                                       108.0                 \n",
       "2004                                                       123.0                 \n",
       "2005                                                       162.0                 \n",
       "2006                                                       110.0                 \n",
       "2007                                                       136.0                 \n",
       "2008                                                        91.0                 \n",
       "2009                                                        87.0                 \n",
       "2010                                                       128.0                 \n",
       "2011                                                       190.0                 \n",
       "2012                                                       129.0                 \n",
       "2013                                                        84.0                 \n",
       "2014                                                        81.0                 \n",
       "2015                                                        96.0                 \n",
       "2016                                                        60.0                 \n",
       "2017                                                        65.0                 \n",
       "2018                                                        48.0                 \n",
       "2019                                                        39.0                 \n",
       "2020                                                        30.0                 \n",
       "2021                                                        15.0                 \n",
       "2022                                                        15.0                 \n",
       "\n",
       "libellé index  Vols à main armée contre des particuliers à leur domicile  \\\n",
       "index                                                                      \n",
       "1996                                                      1510.0           \n",
       "1997                                                      1242.0           \n",
       "1998                                                      1140.0           \n",
       "1999                                                      1230.0           \n",
       "2000                                                      2419.0           \n",
       "2001                                                      2278.0           \n",
       "2002                                                      2156.0           \n",
       "2003                                                      1823.0           \n",
       "2004                                                      1583.0           \n",
       "2005                                                      1858.0           \n",
       "2006                                                      1936.0           \n",
       "2007                                                      1627.0           \n",
       "2008                                                      2058.0           \n",
       "2009                                                      2344.0           \n",
       "2010                                                      2211.0           \n",
       "2011                                                      2324.0           \n",
       "2012                                                      2023.0           \n",
       "2013                                                      2303.0           \n",
       "2014                                                      2257.0           \n",
       "2015                                                      2686.0           \n",
       "2016                                                      1993.0           \n",
       "2017                                                      1870.0           \n",
       "2018                                                      1524.0           \n",
       "2019                                                      1455.0           \n",
       "2020                                                      1462.0           \n",
       "2021                                                      1430.0           \n",
       "2022                                                       766.0           \n",
       "\n",
       "libellé index  Vols à main armée contre des établissements financiers  \\\n",
       "index                                                                   \n",
       "1996                                                      2943.0        \n",
       "1997                                                      2678.0        \n",
       "1998                                                      2371.0        \n",
       "1999                                                      2324.0        \n",
       "2000                                                      3861.0        \n",
       "2001                                                      4115.0        \n",
       "2002                                                      3891.0        \n",
       "2003                                                      2969.0        \n",
       "2004                                                      2590.0        \n",
       "2005                                                      2187.0        \n",
       "2006                                                      1717.0        \n",
       "2007                                                      1250.0        \n",
       "2008                                                      1282.0        \n",
       "2009                                                      1178.0        \n",
       "2010                                                      1006.0        \n",
       "2011                                                       711.0        \n",
       "2012                                                       693.0        \n",
       "2013                                                       496.0        \n",
       "2014                                                       443.0        \n",
       "2015                                                       483.0        \n",
       "2016                                                       342.0        \n",
       "2017                                                       246.0        \n",
       "2018                                                       213.0        \n",
       "2019                                                       165.0        \n",
       "2020                                                       155.0        \n",
       "2021                                                       174.0        \n",
       "2022                                                       141.0        \n",
       "\n",
       "libellé index  Vols à main armée contre des établissements industriels ou commerciaux  \n",
       "index                                                                                  \n",
       "1996                                                      7962.0                       \n",
       "1997                                                      7137.0                       \n",
       "1998                                                      7000.0                       \n",
       "1999                                                      6490.0                       \n",
       "2000                                                     12019.0                       \n",
       "2001                                                     12927.0                       \n",
       "2002                                                     13140.0                       \n",
       "2003                                                     10424.0                       \n",
       "2004                                                      9783.0                       \n",
       "2005                                                      8583.0                       \n",
       "2006                                                      8883.0                       \n",
       "2007                                                      8746.0                       \n",
       "2008                                                     10659.0                       \n",
       "2009                                                     12785.0                       \n",
       "2010                                                     11192.0                       \n",
       "2011                                                      9788.0                       \n",
       "2012                                                      9631.0                       \n",
       "2013                                                      9834.0                       \n",
       "2014                                                      7703.0                       \n",
       "2015                                                      6679.0                       \n",
       "2016                                                      4708.0                       \n",
       "2017                                                      4005.0                       \n",
       "2018                                                      3054.0                       \n",
       "2019                                                      2860.0                       \n",
       "2020                                                      2313.0                       \n",
       "2021                                                      1663.0                       \n",
       "2022                                                      1038.0                       \n",
       "\n",
       "[27 rows x 104 columns]"
      ]
     },
     "execution_count": 21,
     "metadata": {},
     "output_type": "execute_result"
    }
   ],
   "source": [
    "df = pd.read_csv(\"./data.csv\", sep=\",\").groupby(\"libellé index\").sum().transpose()\n",
    "df = df.reset_index()\n",
    "print(df[\"index\"][1].split(\"_\")[1])\n",
    "for index, row in df.iterrows():\n",
    "    df = df.replace(df[\"index\"][index],str(df[\"index\"][index].split(\"_\")[1]))\n",
    "\n",
    "df = df.groupby(\"index\").sum()\n",
    "df"
   ]
  },
  {
   "cell_type": "code",
   "execution_count": 22,
   "id": "b04850ec",
   "metadata": {},
   "outputs": [
    {
     "name": "stdout",
     "output_type": "stream",
     "text": [
      "2022\n"
     ]
    },
    {
     "data": {
      "text/html": [
       "<div>\n",
       "<style scoped>\n",
       "    .dataframe tbody tr th:only-of-type {\n",
       "        vertical-align: middle;\n",
       "    }\n",
       "\n",
       "    .dataframe tbody tr th {\n",
       "        vertical-align: top;\n",
       "    }\n",
       "\n",
       "    .dataframe thead th {\n",
       "        text-align: right;\n",
       "    }\n",
       "</style>\n",
       "<table border=\"1\" class=\"dataframe\">\n",
       "  <thead>\n",
       "    <tr style=\"text-align: right;\">\n",
       "      <th>libellé index</th>\n",
       "      <th>Règlements de compte entre malfaiteurs</th>\n",
       "      <th>Homicides pour voler et à l'occasion de vols</th>\n",
       "      <th>Homicides pour d'autres motifs</th>\n",
       "      <th>Tentatives d'homicides pour voler et à l'occasion de vols</th>\n",
       "      <th>Tentatives homicides pour d'autres motifs</th>\n",
       "      <th>Coups et blessures volontaires suivis de mort</th>\n",
       "      <th>Autres coups et blessures volontaires criminels ou correctionnels</th>\n",
       "      <th>Prises d'otages à l'occasion de vols</th>\n",
       "      <th>Prises d'otages dans un autre but</th>\n",
       "      <th>Sequestrations</th>\n",
       "      <th>...</th>\n",
       "      <th>Banqueroutes, abus de biens sociaux et autres délits de société</th>\n",
       "      <th>Index non utilisé</th>\n",
       "      <th>Index non utilisé</th>\n",
       "      <th>Prix illicittes, publicité fausse et infractions aux règles de la concurrence</th>\n",
       "      <th>Achats et ventes sans factures</th>\n",
       "      <th>Infractions à l'exercice d'une profession règlementée</th>\n",
       "      <th>Infractions au droit de l'urbanisme et de la construction</th>\n",
       "      <th>Fraudes fiscales</th>\n",
       "      <th>Autres délits économiques et financiers</th>\n",
       "      <th>Autres délits</th>\n",
       "    </tr>\n",
       "    <tr>\n",
       "      <th>index</th>\n",
       "      <th></th>\n",
       "      <th></th>\n",
       "      <th></th>\n",
       "      <th></th>\n",
       "      <th></th>\n",
       "      <th></th>\n",
       "      <th></th>\n",
       "      <th></th>\n",
       "      <th></th>\n",
       "      <th></th>\n",
       "      <th></th>\n",
       "      <th></th>\n",
       "      <th></th>\n",
       "      <th></th>\n",
       "      <th></th>\n",
       "      <th></th>\n",
       "      <th></th>\n",
       "      <th></th>\n",
       "      <th></th>\n",
       "      <th></th>\n",
       "      <th></th>\n",
       "    </tr>\n",
       "  </thead>\n",
       "  <tbody>\n",
       "    <tr>\n",
       "      <th>2000</th>\n",
       "      <td>84</td>\n",
       "      <td>63</td>\n",
       "      <td>949</td>\n",
       "      <td>116</td>\n",
       "      <td>1059</td>\n",
       "      <td>195</td>\n",
       "      <td>110422</td>\n",
       "      <td>42</td>\n",
       "      <td>31</td>\n",
       "      <td>1637</td>\n",
       "      <td>...</td>\n",
       "      <td>2047</td>\n",
       "      <td>0</td>\n",
       "      <td>0</td>\n",
       "      <td>1705</td>\n",
       "      <td>467</td>\n",
       "      <td>859</td>\n",
       "      <td>2481</td>\n",
       "      <td>469</td>\n",
       "      <td>1862</td>\n",
       "      <td>79717</td>\n",
       "    </tr>\n",
       "    <tr>\n",
       "      <th>2001</th>\n",
       "      <td>109</td>\n",
       "      <td>62</td>\n",
       "      <td>905</td>\n",
       "      <td>112</td>\n",
       "      <td>1227</td>\n",
       "      <td>237</td>\n",
       "      <td>121154</td>\n",
       "      <td>44</td>\n",
       "      <td>35</td>\n",
       "      <td>1855</td>\n",
       "      <td>...</td>\n",
       "      <td>1650</td>\n",
       "      <td>0</td>\n",
       "      <td>0</td>\n",
       "      <td>917</td>\n",
       "      <td>386</td>\n",
       "      <td>907</td>\n",
       "      <td>2101</td>\n",
       "      <td>605</td>\n",
       "      <td>2322</td>\n",
       "      <td>93087</td>\n",
       "    </tr>\n",
       "    <tr>\n",
       "      <th>2002</th>\n",
       "      <td>146</td>\n",
       "      <td>54</td>\n",
       "      <td>936</td>\n",
       "      <td>128</td>\n",
       "      <td>1274</td>\n",
       "      <td>206</td>\n",
       "      <td>129910</td>\n",
       "      <td>76</td>\n",
       "      <td>37</td>\n",
       "      <td>2102</td>\n",
       "      <td>...</td>\n",
       "      <td>1524</td>\n",
       "      <td>0</td>\n",
       "      <td>0</td>\n",
       "      <td>588</td>\n",
       "      <td>484</td>\n",
       "      <td>844</td>\n",
       "      <td>2530</td>\n",
       "      <td>639</td>\n",
       "      <td>1724</td>\n",
       "      <td>97085</td>\n",
       "    </tr>\n",
       "    <tr>\n",
       "      <th>2003</th>\n",
       "      <td>122</td>\n",
       "      <td>70</td>\n",
       "      <td>880</td>\n",
       "      <td>108</td>\n",
       "      <td>1215</td>\n",
       "      <td>223</td>\n",
       "      <td>141700</td>\n",
       "      <td>45</td>\n",
       "      <td>34</td>\n",
       "      <td>2002</td>\n",
       "      <td>...</td>\n",
       "      <td>1605</td>\n",
       "      <td>0</td>\n",
       "      <td>0</td>\n",
       "      <td>591</td>\n",
       "      <td>463</td>\n",
       "      <td>914</td>\n",
       "      <td>2536</td>\n",
       "      <td>672</td>\n",
       "      <td>1912</td>\n",
       "      <td>99019</td>\n",
       "    </tr>\n",
       "    <tr>\n",
       "      <th>2004</th>\n",
       "      <td>123</td>\n",
       "      <td>56</td>\n",
       "      <td>894</td>\n",
       "      <td>81</td>\n",
       "      <td>1134</td>\n",
       "      <td>219</td>\n",
       "      <td>144832</td>\n",
       "      <td>49</td>\n",
       "      <td>16</td>\n",
       "      <td>2132</td>\n",
       "      <td>...</td>\n",
       "      <td>1475</td>\n",
       "      <td>0</td>\n",
       "      <td>0</td>\n",
       "      <td>608</td>\n",
       "      <td>466</td>\n",
       "      <td>1156</td>\n",
       "      <td>2017</td>\n",
       "      <td>803</td>\n",
       "      <td>2187</td>\n",
       "      <td>101086</td>\n",
       "    </tr>\n",
       "    <tr>\n",
       "      <th>2005</th>\n",
       "      <td>113</td>\n",
       "      <td>51</td>\n",
       "      <td>895</td>\n",
       "      <td>89</td>\n",
       "      <td>1153</td>\n",
       "      <td>240</td>\n",
       "      <td>157092</td>\n",
       "      <td>37</td>\n",
       "      <td>27</td>\n",
       "      <td>2007</td>\n",
       "      <td>...</td>\n",
       "      <td>1696</td>\n",
       "      <td>0</td>\n",
       "      <td>0</td>\n",
       "      <td>666</td>\n",
       "      <td>434</td>\n",
       "      <td>1088</td>\n",
       "      <td>2170</td>\n",
       "      <td>792</td>\n",
       "      <td>2887</td>\n",
       "      <td>106190</td>\n",
       "    </tr>\n",
       "    <tr>\n",
       "      <th>2006</th>\n",
       "      <td>93</td>\n",
       "      <td>50</td>\n",
       "      <td>779</td>\n",
       "      <td>53</td>\n",
       "      <td>1127</td>\n",
       "      <td>212</td>\n",
       "      <td>173666</td>\n",
       "      <td>45</td>\n",
       "      <td>26</td>\n",
       "      <td>2287</td>\n",
       "      <td>...</td>\n",
       "      <td>1948</td>\n",
       "      <td>0</td>\n",
       "      <td>0</td>\n",
       "      <td>512</td>\n",
       "      <td>511</td>\n",
       "      <td>1380</td>\n",
       "      <td>2409</td>\n",
       "      <td>951</td>\n",
       "      <td>2956</td>\n",
       "      <td>101275</td>\n",
       "    </tr>\n",
       "    <tr>\n",
       "      <th>2007</th>\n",
       "      <td>63</td>\n",
       "      <td>44</td>\n",
       "      <td>803</td>\n",
       "      <td>67</td>\n",
       "      <td>1086</td>\n",
       "      <td>203</td>\n",
       "      <td>186727</td>\n",
       "      <td>22</td>\n",
       "      <td>16</td>\n",
       "      <td>2135</td>\n",
       "      <td>...</td>\n",
       "      <td>2048</td>\n",
       "      <td>0</td>\n",
       "      <td>0</td>\n",
       "      <td>431</td>\n",
       "      <td>388</td>\n",
       "      <td>1252</td>\n",
       "      <td>2403</td>\n",
       "      <td>829</td>\n",
       "      <td>3239</td>\n",
       "      <td>96129</td>\n",
       "    </tr>\n",
       "    <tr>\n",
       "      <th>2008</th>\n",
       "      <td>138</td>\n",
       "      <td>37</td>\n",
       "      <td>753</td>\n",
       "      <td>69</td>\n",
       "      <td>1085</td>\n",
       "      <td>211</td>\n",
       "      <td>199111</td>\n",
       "      <td>21</td>\n",
       "      <td>21</td>\n",
       "      <td>2103</td>\n",
       "      <td>...</td>\n",
       "      <td>1937</td>\n",
       "      <td>0</td>\n",
       "      <td>0</td>\n",
       "      <td>483</td>\n",
       "      <td>378</td>\n",
       "      <td>1440</td>\n",
       "      <td>2413</td>\n",
       "      <td>934</td>\n",
       "      <td>3275</td>\n",
       "      <td>97301</td>\n",
       "    </tr>\n",
       "    <tr>\n",
       "      <th>2009</th>\n",
       "      <td>56</td>\n",
       "      <td>31</td>\n",
       "      <td>647</td>\n",
       "      <td>65</td>\n",
       "      <td>999</td>\n",
       "      <td>163</td>\n",
       "      <td>206160</td>\n",
       "      <td>25</td>\n",
       "      <td>28</td>\n",
       "      <td>2094</td>\n",
       "      <td>...</td>\n",
       "      <td>1784</td>\n",
       "      <td>0</td>\n",
       "      <td>0</td>\n",
       "      <td>385</td>\n",
       "      <td>374</td>\n",
       "      <td>1514</td>\n",
       "      <td>2439</td>\n",
       "      <td>868</td>\n",
       "      <td>3404</td>\n",
       "      <td>94020</td>\n",
       "    </tr>\n",
       "    <tr>\n",
       "      <th>2010</th>\n",
       "      <td>50</td>\n",
       "      <td>42</td>\n",
       "      <td>653</td>\n",
       "      <td>65</td>\n",
       "      <td>1144</td>\n",
       "      <td>136</td>\n",
       "      <td>206310</td>\n",
       "      <td>21</td>\n",
       "      <td>17</td>\n",
       "      <td>2148</td>\n",
       "      <td>...</td>\n",
       "      <td>1752</td>\n",
       "      <td>0</td>\n",
       "      <td>0</td>\n",
       "      <td>265</td>\n",
       "      <td>301</td>\n",
       "      <td>1280</td>\n",
       "      <td>2769</td>\n",
       "      <td>851</td>\n",
       "      <td>3048</td>\n",
       "      <td>92115</td>\n",
       "    </tr>\n",
       "    <tr>\n",
       "      <th>2011</th>\n",
       "      <td>60</td>\n",
       "      <td>44</td>\n",
       "      <td>720</td>\n",
       "      <td>55</td>\n",
       "      <td>1259</td>\n",
       "      <td>130</td>\n",
       "      <td>206350</td>\n",
       "      <td>22</td>\n",
       "      <td>14</td>\n",
       "      <td>2301</td>\n",
       "      <td>...</td>\n",
       "      <td>1520</td>\n",
       "      <td>0</td>\n",
       "      <td>0</td>\n",
       "      <td>319</td>\n",
       "      <td>459</td>\n",
       "      <td>1417</td>\n",
       "      <td>2913</td>\n",
       "      <td>929</td>\n",
       "      <td>5696</td>\n",
       "      <td>99418</td>\n",
       "    </tr>\n",
       "    <tr>\n",
       "      <th>2012</th>\n",
       "      <td>73</td>\n",
       "      <td>35</td>\n",
       "      <td>651</td>\n",
       "      <td>71</td>\n",
       "      <td>1475</td>\n",
       "      <td>140</td>\n",
       "      <td>207411</td>\n",
       "      <td>25</td>\n",
       "      <td>21</td>\n",
       "      <td>2161</td>\n",
       "      <td>...</td>\n",
       "      <td>1503</td>\n",
       "      <td>0</td>\n",
       "      <td>0</td>\n",
       "      <td>784</td>\n",
       "      <td>333</td>\n",
       "      <td>1283</td>\n",
       "      <td>3050</td>\n",
       "      <td>818</td>\n",
       "      <td>6806</td>\n",
       "      <td>102657</td>\n",
       "    </tr>\n",
       "    <tr>\n",
       "      <th>2013</th>\n",
       "      <td>55</td>\n",
       "      <td>33</td>\n",
       "      <td>649</td>\n",
       "      <td>105</td>\n",
       "      <td>1391</td>\n",
       "      <td>109</td>\n",
       "      <td>207530</td>\n",
       "      <td>37</td>\n",
       "      <td>29</td>\n",
       "      <td>2281</td>\n",
       "      <td>...</td>\n",
       "      <td>1643</td>\n",
       "      <td>0</td>\n",
       "      <td>0</td>\n",
       "      <td>743</td>\n",
       "      <td>308</td>\n",
       "      <td>1344</td>\n",
       "      <td>3200</td>\n",
       "      <td>742</td>\n",
       "      <td>10579</td>\n",
       "      <td>106259</td>\n",
       "    </tr>\n",
       "    <tr>\n",
       "      <th>2014</th>\n",
       "      <td>70</td>\n",
       "      <td>26</td>\n",
       "      <td>615</td>\n",
       "      <td>84</td>\n",
       "      <td>1584</td>\n",
       "      <td>153</td>\n",
       "      <td>211638</td>\n",
       "      <td>38</td>\n",
       "      <td>30</td>\n",
       "      <td>2945</td>\n",
       "      <td>...</td>\n",
       "      <td>1729</td>\n",
       "      <td>0</td>\n",
       "      <td>0</td>\n",
       "      <td>768</td>\n",
       "      <td>338</td>\n",
       "      <td>1329</td>\n",
       "      <td>3497</td>\n",
       "      <td>814</td>\n",
       "      <td>11240</td>\n",
       "      <td>111750</td>\n",
       "    </tr>\n",
       "    <tr>\n",
       "      <th>2015</th>\n",
       "      <td>56</td>\n",
       "      <td>23</td>\n",
       "      <td>798</td>\n",
       "      <td>99</td>\n",
       "      <td>2053</td>\n",
       "      <td>140</td>\n",
       "      <td>227151</td>\n",
       "      <td>36</td>\n",
       "      <td>30</td>\n",
       "      <td>4093</td>\n",
       "      <td>...</td>\n",
       "      <td>1531</td>\n",
       "      <td>0</td>\n",
       "      <td>0</td>\n",
       "      <td>801</td>\n",
       "      <td>290</td>\n",
       "      <td>1863</td>\n",
       "      <td>3908</td>\n",
       "      <td>636</td>\n",
       "      <td>9903</td>\n",
       "      <td>123630</td>\n",
       "    </tr>\n",
       "    <tr>\n",
       "      <th>2016</th>\n",
       "      <td>89</td>\n",
       "      <td>43</td>\n",
       "      <td>834</td>\n",
       "      <td>111</td>\n",
       "      <td>2331</td>\n",
       "      <td>170</td>\n",
       "      <td>231259</td>\n",
       "      <td>70</td>\n",
       "      <td>62</td>\n",
       "      <td>4139</td>\n",
       "      <td>...</td>\n",
       "      <td>1678</td>\n",
       "      <td>0</td>\n",
       "      <td>0</td>\n",
       "      <td>913</td>\n",
       "      <td>211</td>\n",
       "      <td>1808</td>\n",
       "      <td>4570</td>\n",
       "      <td>641</td>\n",
       "      <td>8551</td>\n",
       "      <td>123720</td>\n",
       "    </tr>\n",
       "    <tr>\n",
       "      <th>2017</th>\n",
       "      <td>100</td>\n",
       "      <td>39</td>\n",
       "      <td>756</td>\n",
       "      <td>109</td>\n",
       "      <td>2488</td>\n",
       "      <td>155</td>\n",
       "      <td>239318</td>\n",
       "      <td>73</td>\n",
       "      <td>68</td>\n",
       "      <td>4096</td>\n",
       "      <td>...</td>\n",
       "      <td>1670</td>\n",
       "      <td>0</td>\n",
       "      <td>0</td>\n",
       "      <td>922</td>\n",
       "      <td>166</td>\n",
       "      <td>1496</td>\n",
       "      <td>4356</td>\n",
       "      <td>597</td>\n",
       "      <td>9964</td>\n",
       "      <td>129488</td>\n",
       "    </tr>\n",
       "    <tr>\n",
       "      <th>2018</th>\n",
       "      <td>113</td>\n",
       "      <td>33</td>\n",
       "      <td>689</td>\n",
       "      <td>122</td>\n",
       "      <td>2651</td>\n",
       "      <td>200</td>\n",
       "      <td>257140</td>\n",
       "      <td>93</td>\n",
       "      <td>101</td>\n",
       "      <td>4285</td>\n",
       "      <td>...</td>\n",
       "      <td>1775</td>\n",
       "      <td>0</td>\n",
       "      <td>0</td>\n",
       "      <td>980</td>\n",
       "      <td>194</td>\n",
       "      <td>1848</td>\n",
       "      <td>4719</td>\n",
       "      <td>609</td>\n",
       "      <td>10666</td>\n",
       "      <td>138226</td>\n",
       "    </tr>\n",
       "    <tr>\n",
       "      <th>2019</th>\n",
       "      <td>98</td>\n",
       "      <td>35</td>\n",
       "      <td>848</td>\n",
       "      <td>114</td>\n",
       "      <td>2877</td>\n",
       "      <td>164</td>\n",
       "      <td>278702</td>\n",
       "      <td>125</td>\n",
       "      <td>147</td>\n",
       "      <td>4211</td>\n",
       "      <td>...</td>\n",
       "      <td>1627</td>\n",
       "      <td>0</td>\n",
       "      <td>0</td>\n",
       "      <td>941</td>\n",
       "      <td>166</td>\n",
       "      <td>1788</td>\n",
       "      <td>4795</td>\n",
       "      <td>661</td>\n",
       "      <td>11962</td>\n",
       "      <td>147044</td>\n",
       "    </tr>\n",
       "    <tr>\n",
       "      <th>2020</th>\n",
       "      <td>112</td>\n",
       "      <td>41</td>\n",
       "      <td>809</td>\n",
       "      <td>138</td>\n",
       "      <td>3186</td>\n",
       "      <td>152</td>\n",
       "      <td>282119</td>\n",
       "      <td>103</td>\n",
       "      <td>172</td>\n",
       "      <td>4192</td>\n",
       "      <td>...</td>\n",
       "      <td>1434</td>\n",
       "      <td>0</td>\n",
       "      <td>0</td>\n",
       "      <td>980</td>\n",
       "      <td>106</td>\n",
       "      <td>1249</td>\n",
       "      <td>4359</td>\n",
       "      <td>716</td>\n",
       "      <td>13176</td>\n",
       "      <td>139990</td>\n",
       "    </tr>\n",
       "    <tr>\n",
       "      <th>2021</th>\n",
       "      <td>106</td>\n",
       "      <td>30</td>\n",
       "      <td>878</td>\n",
       "      <td>144</td>\n",
       "      <td>3305</td>\n",
       "      <td>170</td>\n",
       "      <td>315694</td>\n",
       "      <td>108</td>\n",
       "      <td>184</td>\n",
       "      <td>4798</td>\n",
       "      <td>...</td>\n",
       "      <td>1547</td>\n",
       "      <td>0</td>\n",
       "      <td>0</td>\n",
       "      <td>1374</td>\n",
       "      <td>99</td>\n",
       "      <td>1328</td>\n",
       "      <td>5364</td>\n",
       "      <td>826</td>\n",
       "      <td>19420</td>\n",
       "      <td>169629</td>\n",
       "    </tr>\n",
       "    <tr>\n",
       "      <th>2022</th>\n",
       "      <td>86</td>\n",
       "      <td>22</td>\n",
       "      <td>533</td>\n",
       "      <td>82</td>\n",
       "      <td>2132</td>\n",
       "      <td>134</td>\n",
       "      <td>209479</td>\n",
       "      <td>65</td>\n",
       "      <td>134</td>\n",
       "      <td>2988</td>\n",
       "      <td>...</td>\n",
       "      <td>807</td>\n",
       "      <td>0</td>\n",
       "      <td>0</td>\n",
       "      <td>625</td>\n",
       "      <td>31</td>\n",
       "      <td>801</td>\n",
       "      <td>2887</td>\n",
       "      <td>476</td>\n",
       "      <td>10038</td>\n",
       "      <td>103069</td>\n",
       "    </tr>\n",
       "  </tbody>\n",
       "</table>\n",
       "<p>23 rows × 107 columns</p>\n",
       "</div>"
      ],
      "text/plain": [
       "libellé index  Règlements de compte entre malfaiteurs  \\\n",
       "index                                                   \n",
       "2000                                               84   \n",
       "2001                                              109   \n",
       "2002                                              146   \n",
       "2003                                              122   \n",
       "2004                                              123   \n",
       "2005                                              113   \n",
       "2006                                               93   \n",
       "2007                                               63   \n",
       "2008                                              138   \n",
       "2009                                               56   \n",
       "2010                                               50   \n",
       "2011                                               60   \n",
       "2012                                               73   \n",
       "2013                                               55   \n",
       "2014                                               70   \n",
       "2015                                               56   \n",
       "2016                                               89   \n",
       "2017                                              100   \n",
       "2018                                              113   \n",
       "2019                                               98   \n",
       "2020                                              112   \n",
       "2021                                              106   \n",
       "2022                                               86   \n",
       "\n",
       "libellé index  Homicides pour voler et à l'occasion de vols  \\\n",
       "index                                                         \n",
       "2000                                                     63   \n",
       "2001                                                     62   \n",
       "2002                                                     54   \n",
       "2003                                                     70   \n",
       "2004                                                     56   \n",
       "2005                                                     51   \n",
       "2006                                                     50   \n",
       "2007                                                     44   \n",
       "2008                                                     37   \n",
       "2009                                                     31   \n",
       "2010                                                     42   \n",
       "2011                                                     44   \n",
       "2012                                                     35   \n",
       "2013                                                     33   \n",
       "2014                                                     26   \n",
       "2015                                                     23   \n",
       "2016                                                     43   \n",
       "2017                                                     39   \n",
       "2018                                                     33   \n",
       "2019                                                     35   \n",
       "2020                                                     41   \n",
       "2021                                                     30   \n",
       "2022                                                     22   \n",
       "\n",
       "libellé index  Homicides pour d'autres motifs  \\\n",
       "index                                           \n",
       "2000                                      949   \n",
       "2001                                      905   \n",
       "2002                                      936   \n",
       "2003                                      880   \n",
       "2004                                      894   \n",
       "2005                                      895   \n",
       "2006                                      779   \n",
       "2007                                      803   \n",
       "2008                                      753   \n",
       "2009                                      647   \n",
       "2010                                      653   \n",
       "2011                                      720   \n",
       "2012                                      651   \n",
       "2013                                      649   \n",
       "2014                                      615   \n",
       "2015                                      798   \n",
       "2016                                      834   \n",
       "2017                                      756   \n",
       "2018                                      689   \n",
       "2019                                      848   \n",
       "2020                                      809   \n",
       "2021                                      878   \n",
       "2022                                      533   \n",
       "\n",
       "libellé index  Tentatives d'homicides pour voler et à l'occasion de vols  \\\n",
       "index                                                                      \n",
       "2000                                                         116           \n",
       "2001                                                         112           \n",
       "2002                                                         128           \n",
       "2003                                                         108           \n",
       "2004                                                          81           \n",
       "2005                                                          89           \n",
       "2006                                                          53           \n",
       "2007                                                          67           \n",
       "2008                                                          69           \n",
       "2009                                                          65           \n",
       "2010                                                          65           \n",
       "2011                                                          55           \n",
       "2012                                                          71           \n",
       "2013                                                         105           \n",
       "2014                                                          84           \n",
       "2015                                                          99           \n",
       "2016                                                         111           \n",
       "2017                                                         109           \n",
       "2018                                                         122           \n",
       "2019                                                         114           \n",
       "2020                                                         138           \n",
       "2021                                                         144           \n",
       "2022                                                          82           \n",
       "\n",
       "libellé index  Tentatives homicides pour d'autres motifs  \\\n",
       "index                                                      \n",
       "2000                                                1059   \n",
       "2001                                                1227   \n",
       "2002                                                1274   \n",
       "2003                                                1215   \n",
       "2004                                                1134   \n",
       "2005                                                1153   \n",
       "2006                                                1127   \n",
       "2007                                                1086   \n",
       "2008                                                1085   \n",
       "2009                                                 999   \n",
       "2010                                                1144   \n",
       "2011                                                1259   \n",
       "2012                                                1475   \n",
       "2013                                                1391   \n",
       "2014                                                1584   \n",
       "2015                                                2053   \n",
       "2016                                                2331   \n",
       "2017                                                2488   \n",
       "2018                                                2651   \n",
       "2019                                                2877   \n",
       "2020                                                3186   \n",
       "2021                                                3305   \n",
       "2022                                                2132   \n",
       "\n",
       "libellé index  Coups et blessures volontaires suivis de mort  \\\n",
       "index                                                          \n",
       "2000                                                     195   \n",
       "2001                                                     237   \n",
       "2002                                                     206   \n",
       "2003                                                     223   \n",
       "2004                                                     219   \n",
       "2005                                                     240   \n",
       "2006                                                     212   \n",
       "2007                                                     203   \n",
       "2008                                                     211   \n",
       "2009                                                     163   \n",
       "2010                                                     136   \n",
       "2011                                                     130   \n",
       "2012                                                     140   \n",
       "2013                                                     109   \n",
       "2014                                                     153   \n",
       "2015                                                     140   \n",
       "2016                                                     170   \n",
       "2017                                                     155   \n",
       "2018                                                     200   \n",
       "2019                                                     164   \n",
       "2020                                                     152   \n",
       "2021                                                     170   \n",
       "2022                                                     134   \n",
       "\n",
       "libellé index  Autres coups et blessures volontaires criminels ou correctionnels  \\\n",
       "index                                                                              \n",
       "2000                                                      110422                   \n",
       "2001                                                      121154                   \n",
       "2002                                                      129910                   \n",
       "2003                                                      141700                   \n",
       "2004                                                      144832                   \n",
       "2005                                                      157092                   \n",
       "2006                                                      173666                   \n",
       "2007                                                      186727                   \n",
       "2008                                                      199111                   \n",
       "2009                                                      206160                   \n",
       "2010                                                      206310                   \n",
       "2011                                                      206350                   \n",
       "2012                                                      207411                   \n",
       "2013                                                      207530                   \n",
       "2014                                                      211638                   \n",
       "2015                                                      227151                   \n",
       "2016                                                      231259                   \n",
       "2017                                                      239318                   \n",
       "2018                                                      257140                   \n",
       "2019                                                      278702                   \n",
       "2020                                                      282119                   \n",
       "2021                                                      315694                   \n",
       "2022                                                      209479                   \n",
       "\n",
       "libellé index  Prises d'otages à l'occasion de vols  \\\n",
       "index                                                 \n",
       "2000                                             42   \n",
       "2001                                             44   \n",
       "2002                                             76   \n",
       "2003                                             45   \n",
       "2004                                             49   \n",
       "2005                                             37   \n",
       "2006                                             45   \n",
       "2007                                             22   \n",
       "2008                                             21   \n",
       "2009                                             25   \n",
       "2010                                             21   \n",
       "2011                                             22   \n",
       "2012                                             25   \n",
       "2013                                             37   \n",
       "2014                                             38   \n",
       "2015                                             36   \n",
       "2016                                             70   \n",
       "2017                                             73   \n",
       "2018                                             93   \n",
       "2019                                            125   \n",
       "2020                                            103   \n",
       "2021                                            108   \n",
       "2022                                             65   \n",
       "\n",
       "libellé index  Prises d'otages dans un autre but  Sequestrations  ...  \\\n",
       "index                                                             ...   \n",
       "2000                                          31            1637  ...   \n",
       "2001                                          35            1855  ...   \n",
       "2002                                          37            2102  ...   \n",
       "2003                                          34            2002  ...   \n",
       "2004                                          16            2132  ...   \n",
       "2005                                          27            2007  ...   \n",
       "2006                                          26            2287  ...   \n",
       "2007                                          16            2135  ...   \n",
       "2008                                          21            2103  ...   \n",
       "2009                                          28            2094  ...   \n",
       "2010                                          17            2148  ...   \n",
       "2011                                          14            2301  ...   \n",
       "2012                                          21            2161  ...   \n",
       "2013                                          29            2281  ...   \n",
       "2014                                          30            2945  ...   \n",
       "2015                                          30            4093  ...   \n",
       "2016                                          62            4139  ...   \n",
       "2017                                          68            4096  ...   \n",
       "2018                                         101            4285  ...   \n",
       "2019                                         147            4211  ...   \n",
       "2020                                         172            4192  ...   \n",
       "2021                                         184            4798  ...   \n",
       "2022                                         134            2988  ...   \n",
       "\n",
       "libellé index  Banqueroutes, abus de biens sociaux et autres délits de société  \\\n",
       "index                                                                            \n",
       "2000                                                        2047                 \n",
       "2001                                                        1650                 \n",
       "2002                                                        1524                 \n",
       "2003                                                        1605                 \n",
       "2004                                                        1475                 \n",
       "2005                                                        1696                 \n",
       "2006                                                        1948                 \n",
       "2007                                                        2048                 \n",
       "2008                                                        1937                 \n",
       "2009                                                        1784                 \n",
       "2010                                                        1752                 \n",
       "2011                                                        1520                 \n",
       "2012                                                        1503                 \n",
       "2013                                                        1643                 \n",
       "2014                                                        1729                 \n",
       "2015                                                        1531                 \n",
       "2016                                                        1678                 \n",
       "2017                                                        1670                 \n",
       "2018                                                        1775                 \n",
       "2019                                                        1627                 \n",
       "2020                                                        1434                 \n",
       "2021                                                        1547                 \n",
       "2022                                                         807                 \n",
       "\n",
       "libellé index  Index non utilisé  Index non utilisé  \\\n",
       "index                                                 \n",
       "2000                           0                  0   \n",
       "2001                           0                  0   \n",
       "2002                           0                  0   \n",
       "2003                           0                  0   \n",
       "2004                           0                  0   \n",
       "2005                           0                  0   \n",
       "2006                           0                  0   \n",
       "2007                           0                  0   \n",
       "2008                           0                  0   \n",
       "2009                           0                  0   \n",
       "2010                           0                  0   \n",
       "2011                           0                  0   \n",
       "2012                           0                  0   \n",
       "2013                           0                  0   \n",
       "2014                           0                  0   \n",
       "2015                           0                  0   \n",
       "2016                           0                  0   \n",
       "2017                           0                  0   \n",
       "2018                           0                  0   \n",
       "2019                           0                  0   \n",
       "2020                           0                  0   \n",
       "2021                           0                  0   \n",
       "2022                           0                  0   \n",
       "\n",
       "libellé index  Prix illicittes, publicité fausse et infractions aux règles de la concurrence  \\\n",
       "index                                                                                          \n",
       "2000                                                        1705                               \n",
       "2001                                                         917                               \n",
       "2002                                                         588                               \n",
       "2003                                                         591                               \n",
       "2004                                                         608                               \n",
       "2005                                                         666                               \n",
       "2006                                                         512                               \n",
       "2007                                                         431                               \n",
       "2008                                                         483                               \n",
       "2009                                                         385                               \n",
       "2010                                                         265                               \n",
       "2011                                                         319                               \n",
       "2012                                                         784                               \n",
       "2013                                                         743                               \n",
       "2014                                                         768                               \n",
       "2015                                                         801                               \n",
       "2016                                                         913                               \n",
       "2017                                                         922                               \n",
       "2018                                                         980                               \n",
       "2019                                                         941                               \n",
       "2020                                                         980                               \n",
       "2021                                                        1374                               \n",
       "2022                                                         625                               \n",
       "\n",
       "libellé index  Achats et ventes sans factures  \\\n",
       "index                                           \n",
       "2000                                      467   \n",
       "2001                                      386   \n",
       "2002                                      484   \n",
       "2003                                      463   \n",
       "2004                                      466   \n",
       "2005                                      434   \n",
       "2006                                      511   \n",
       "2007                                      388   \n",
       "2008                                      378   \n",
       "2009                                      374   \n",
       "2010                                      301   \n",
       "2011                                      459   \n",
       "2012                                      333   \n",
       "2013                                      308   \n",
       "2014                                      338   \n",
       "2015                                      290   \n",
       "2016                                      211   \n",
       "2017                                      166   \n",
       "2018                                      194   \n",
       "2019                                      166   \n",
       "2020                                      106   \n",
       "2021                                       99   \n",
       "2022                                       31   \n",
       "\n",
       "libellé index  Infractions à l'exercice d'une profession règlementée  \\\n",
       "index                                                                  \n",
       "2000                                                         859       \n",
       "2001                                                         907       \n",
       "2002                                                         844       \n",
       "2003                                                         914       \n",
       "2004                                                        1156       \n",
       "2005                                                        1088       \n",
       "2006                                                        1380       \n",
       "2007                                                        1252       \n",
       "2008                                                        1440       \n",
       "2009                                                        1514       \n",
       "2010                                                        1280       \n",
       "2011                                                        1417       \n",
       "2012                                                        1283       \n",
       "2013                                                        1344       \n",
       "2014                                                        1329       \n",
       "2015                                                        1863       \n",
       "2016                                                        1808       \n",
       "2017                                                        1496       \n",
       "2018                                                        1848       \n",
       "2019                                                        1788       \n",
       "2020                                                        1249       \n",
       "2021                                                        1328       \n",
       "2022                                                         801       \n",
       "\n",
       "libellé index  Infractions au droit de l'urbanisme et de la construction  \\\n",
       "index                                                                      \n",
       "2000                                                        2481           \n",
       "2001                                                        2101           \n",
       "2002                                                        2530           \n",
       "2003                                                        2536           \n",
       "2004                                                        2017           \n",
       "2005                                                        2170           \n",
       "2006                                                        2409           \n",
       "2007                                                        2403           \n",
       "2008                                                        2413           \n",
       "2009                                                        2439           \n",
       "2010                                                        2769           \n",
       "2011                                                        2913           \n",
       "2012                                                        3050           \n",
       "2013                                                        3200           \n",
       "2014                                                        3497           \n",
       "2015                                                        3908           \n",
       "2016                                                        4570           \n",
       "2017                                                        4356           \n",
       "2018                                                        4719           \n",
       "2019                                                        4795           \n",
       "2020                                                        4359           \n",
       "2021                                                        5364           \n",
       "2022                                                        2887           \n",
       "\n",
       "libellé index  Fraudes fiscales  Autres délits économiques et financiers  \\\n",
       "index                                                                      \n",
       "2000                        469                                     1862   \n",
       "2001                        605                                     2322   \n",
       "2002                        639                                     1724   \n",
       "2003                        672                                     1912   \n",
       "2004                        803                                     2187   \n",
       "2005                        792                                     2887   \n",
       "2006                        951                                     2956   \n",
       "2007                        829                                     3239   \n",
       "2008                        934                                     3275   \n",
       "2009                        868                                     3404   \n",
       "2010                        851                                     3048   \n",
       "2011                        929                                     5696   \n",
       "2012                        818                                     6806   \n",
       "2013                        742                                    10579   \n",
       "2014                        814                                    11240   \n",
       "2015                        636                                     9903   \n",
       "2016                        641                                     8551   \n",
       "2017                        597                                     9964   \n",
       "2018                        609                                    10666   \n",
       "2019                        661                                    11962   \n",
       "2020                        716                                    13176   \n",
       "2021                        826                                    19420   \n",
       "2022                        476                                    10038   \n",
       "\n",
       "libellé index  Autres délits  \n",
       "index                         \n",
       "2000                   79717  \n",
       "2001                   93087  \n",
       "2002                   97085  \n",
       "2003                   99019  \n",
       "2004                  101086  \n",
       "2005                  106190  \n",
       "2006                  101275  \n",
       "2007                   96129  \n",
       "2008                   97301  \n",
       "2009                   94020  \n",
       "2010                   92115  \n",
       "2011                   99418  \n",
       "2012                  102657  \n",
       "2013                  106259  \n",
       "2014                  111750  \n",
       "2015                  123630  \n",
       "2016                  123720  \n",
       "2017                  129488  \n",
       "2018                  138226  \n",
       "2019                  147044  \n",
       "2020                  139990  \n",
       "2021                  169629  \n",
       "2022                  103069  \n",
       "\n",
       "[23 rows x 107 columns]"
      ]
     },
     "execution_count": 22,
     "metadata": {},
     "output_type": "execute_result"
    }
   ],
   "source": [
    "#Ceci est la bonne verison du dataframe, il ne prend en compte que la sheet \"France_Entière\".\n",
    "df = pd.read_excel(\"./crimes_2000.xlsx\", \"France_Entière\").drop(columns=[\"Index\"])\n",
    "csv = df.to_csv(\"data.csv\",index = False)\n",
    "df = pd.read_csv(\"./data.csv\", sep=\",\").set_index(\"libellé index\").transpose()\n",
    "df = df.reset_index()\n",
    "print(df[\"index\"][1].split(\"_\")[1])\n",
    "for index, row in df.iterrows():\n",
    "    df = df.replace(df[\"index\"][index],str(df[\"index\"][index].split(\"_\")[1]))\n",
    "\n",
    "df = df.groupby(\"index\").sum()\n",
    "df"
   ]
  },
  {
   "cell_type": "code",
   "execution_count": 23,
   "id": "c683046e",
   "metadata": {},
   "outputs": [
    {
     "data": {
      "text/plain": [
       "libellé index\n",
       "index                                                        int64\n",
       "Règlements de compte entre malfaiteurs                       int64\n",
       "Homicides pour voler et à l'occasion de vols                 int64\n",
       "Homicides pour d'autres motifs                               int64\n",
       "Tentatives d'homicides pour voler et à l'occasion de vols    int64\n",
       "                                                             ...  \n",
       "Infractions à l'exercice d'une profession règlementée        int64\n",
       "Infractions au droit de l'urbanisme et de la construction    int64\n",
       "Fraudes fiscales                                             int64\n",
       "Autres délits économiques et financiers                      int64\n",
       "Autres délits                                                int64\n",
       "Length: 108, dtype: object"
      ]
     },
     "execution_count": 23,
     "metadata": {},
     "output_type": "execute_result"
    }
   ],
   "source": [
    "df = df.reset_index()\n",
    "df[\"index\"] = pd.to_numeric(df[\"index\"])\n",
    "\n",
    "df.dtypes"
   ]
  },
  {
   "cell_type": "code",
   "execution_count": 24,
   "id": "3232d139",
   "metadata": {},
   "outputs": [
    {
     "data": {
      "application/vnd.plotly.v1+json": {
       "config": {
        "plotlyServerURL": "https://plot.ly"
       },
       "data": [
        {
         "hovertemplate": "index=%{x}<br>Autres coups et blessures volontaires criminels ou correctionnels=%{y}<extra></extra>",
         "legendgroup": "",
         "line": {
          "color": "#636efa",
          "dash": "solid"
         },
         "marker": {
          "symbol": "circle"
         },
         "mode": "lines",
         "name": "",
         "orientation": "v",
         "showlegend": false,
         "type": "scatter",
         "x": [
          2000,
          2001,
          2002,
          2003,
          2004,
          2005,
          2006,
          2007,
          2008,
          2009,
          2010,
          2011,
          2012,
          2013,
          2014,
          2015,
          2016,
          2017,
          2018,
          2019,
          2020,
          2021,
          2022
         ],
         "xaxis": "x",
         "y": [
          110422,
          121154,
          129910,
          141700,
          144832,
          157092,
          173666,
          186727,
          199111,
          206160,
          206310,
          206350,
          207411,
          207530,
          211638,
          227151,
          231259,
          239318,
          257140,
          278702,
          282119,
          315694,
          209479
         ],
         "yaxis": "y"
        }
       ],
       "layout": {
        "legend": {
         "tracegroupgap": 0
        },
        "template": {
         "data": {
          "bar": [
           {
            "error_x": {
             "color": "#2a3f5f"
            },
            "error_y": {
             "color": "#2a3f5f"
            },
            "marker": {
             "line": {
              "color": "#E5ECF6",
              "width": 0.5
             },
             "pattern": {
              "fillmode": "overlay",
              "size": 10,
              "solidity": 0.2
             }
            },
            "type": "bar"
           }
          ],
          "barpolar": [
           {
            "marker": {
             "line": {
              "color": "#E5ECF6",
              "width": 0.5
             },
             "pattern": {
              "fillmode": "overlay",
              "size": 10,
              "solidity": 0.2
             }
            },
            "type": "barpolar"
           }
          ],
          "carpet": [
           {
            "aaxis": {
             "endlinecolor": "#2a3f5f",
             "gridcolor": "white",
             "linecolor": "white",
             "minorgridcolor": "white",
             "startlinecolor": "#2a3f5f"
            },
            "baxis": {
             "endlinecolor": "#2a3f5f",
             "gridcolor": "white",
             "linecolor": "white",
             "minorgridcolor": "white",
             "startlinecolor": "#2a3f5f"
            },
            "type": "carpet"
           }
          ],
          "choropleth": [
           {
            "colorbar": {
             "outlinewidth": 0,
             "ticks": ""
            },
            "type": "choropleth"
           }
          ],
          "contour": [
           {
            "colorbar": {
             "outlinewidth": 0,
             "ticks": ""
            },
            "colorscale": [
             [
              0,
              "#0d0887"
             ],
             [
              0.1111111111111111,
              "#46039f"
             ],
             [
              0.2222222222222222,
              "#7201a8"
             ],
             [
              0.3333333333333333,
              "#9c179e"
             ],
             [
              0.4444444444444444,
              "#bd3786"
             ],
             [
              0.5555555555555556,
              "#d8576b"
             ],
             [
              0.6666666666666666,
              "#ed7953"
             ],
             [
              0.7777777777777778,
              "#fb9f3a"
             ],
             [
              0.8888888888888888,
              "#fdca26"
             ],
             [
              1,
              "#f0f921"
             ]
            ],
            "type": "contour"
           }
          ],
          "contourcarpet": [
           {
            "colorbar": {
             "outlinewidth": 0,
             "ticks": ""
            },
            "type": "contourcarpet"
           }
          ],
          "heatmap": [
           {
            "colorbar": {
             "outlinewidth": 0,
             "ticks": ""
            },
            "colorscale": [
             [
              0,
              "#0d0887"
             ],
             [
              0.1111111111111111,
              "#46039f"
             ],
             [
              0.2222222222222222,
              "#7201a8"
             ],
             [
              0.3333333333333333,
              "#9c179e"
             ],
             [
              0.4444444444444444,
              "#bd3786"
             ],
             [
              0.5555555555555556,
              "#d8576b"
             ],
             [
              0.6666666666666666,
              "#ed7953"
             ],
             [
              0.7777777777777778,
              "#fb9f3a"
             ],
             [
              0.8888888888888888,
              "#fdca26"
             ],
             [
              1,
              "#f0f921"
             ]
            ],
            "type": "heatmap"
           }
          ],
          "heatmapgl": [
           {
            "colorbar": {
             "outlinewidth": 0,
             "ticks": ""
            },
            "colorscale": [
             [
              0,
              "#0d0887"
             ],
             [
              0.1111111111111111,
              "#46039f"
             ],
             [
              0.2222222222222222,
              "#7201a8"
             ],
             [
              0.3333333333333333,
              "#9c179e"
             ],
             [
              0.4444444444444444,
              "#bd3786"
             ],
             [
              0.5555555555555556,
              "#d8576b"
             ],
             [
              0.6666666666666666,
              "#ed7953"
             ],
             [
              0.7777777777777778,
              "#fb9f3a"
             ],
             [
              0.8888888888888888,
              "#fdca26"
             ],
             [
              1,
              "#f0f921"
             ]
            ],
            "type": "heatmapgl"
           }
          ],
          "histogram": [
           {
            "marker": {
             "pattern": {
              "fillmode": "overlay",
              "size": 10,
              "solidity": 0.2
             }
            },
            "type": "histogram"
           }
          ],
          "histogram2d": [
           {
            "colorbar": {
             "outlinewidth": 0,
             "ticks": ""
            },
            "colorscale": [
             [
              0,
              "#0d0887"
             ],
             [
              0.1111111111111111,
              "#46039f"
             ],
             [
              0.2222222222222222,
              "#7201a8"
             ],
             [
              0.3333333333333333,
              "#9c179e"
             ],
             [
              0.4444444444444444,
              "#bd3786"
             ],
             [
              0.5555555555555556,
              "#d8576b"
             ],
             [
              0.6666666666666666,
              "#ed7953"
             ],
             [
              0.7777777777777778,
              "#fb9f3a"
             ],
             [
              0.8888888888888888,
              "#fdca26"
             ],
             [
              1,
              "#f0f921"
             ]
            ],
            "type": "histogram2d"
           }
          ],
          "histogram2dcontour": [
           {
            "colorbar": {
             "outlinewidth": 0,
             "ticks": ""
            },
            "colorscale": [
             [
              0,
              "#0d0887"
             ],
             [
              0.1111111111111111,
              "#46039f"
             ],
             [
              0.2222222222222222,
              "#7201a8"
             ],
             [
              0.3333333333333333,
              "#9c179e"
             ],
             [
              0.4444444444444444,
              "#bd3786"
             ],
             [
              0.5555555555555556,
              "#d8576b"
             ],
             [
              0.6666666666666666,
              "#ed7953"
             ],
             [
              0.7777777777777778,
              "#fb9f3a"
             ],
             [
              0.8888888888888888,
              "#fdca26"
             ],
             [
              1,
              "#f0f921"
             ]
            ],
            "type": "histogram2dcontour"
           }
          ],
          "mesh3d": [
           {
            "colorbar": {
             "outlinewidth": 0,
             "ticks": ""
            },
            "type": "mesh3d"
           }
          ],
          "parcoords": [
           {
            "line": {
             "colorbar": {
              "outlinewidth": 0,
              "ticks": ""
             }
            },
            "type": "parcoords"
           }
          ],
          "pie": [
           {
            "automargin": true,
            "type": "pie"
           }
          ],
          "scatter": [
           {
            "fillpattern": {
             "fillmode": "overlay",
             "size": 10,
             "solidity": 0.2
            },
            "type": "scatter"
           }
          ],
          "scatter3d": [
           {
            "line": {
             "colorbar": {
              "outlinewidth": 0,
              "ticks": ""
             }
            },
            "marker": {
             "colorbar": {
              "outlinewidth": 0,
              "ticks": ""
             }
            },
            "type": "scatter3d"
           }
          ],
          "scattercarpet": [
           {
            "marker": {
             "colorbar": {
              "outlinewidth": 0,
              "ticks": ""
             }
            },
            "type": "scattercarpet"
           }
          ],
          "scattergeo": [
           {
            "marker": {
             "colorbar": {
              "outlinewidth": 0,
              "ticks": ""
             }
            },
            "type": "scattergeo"
           }
          ],
          "scattergl": [
           {
            "marker": {
             "colorbar": {
              "outlinewidth": 0,
              "ticks": ""
             }
            },
            "type": "scattergl"
           }
          ],
          "scattermapbox": [
           {
            "marker": {
             "colorbar": {
              "outlinewidth": 0,
              "ticks": ""
             }
            },
            "type": "scattermapbox"
           }
          ],
          "scatterpolar": [
           {
            "marker": {
             "colorbar": {
              "outlinewidth": 0,
              "ticks": ""
             }
            },
            "type": "scatterpolar"
           }
          ],
          "scatterpolargl": [
           {
            "marker": {
             "colorbar": {
              "outlinewidth": 0,
              "ticks": ""
             }
            },
            "type": "scatterpolargl"
           }
          ],
          "scatterternary": [
           {
            "marker": {
             "colorbar": {
              "outlinewidth": 0,
              "ticks": ""
             }
            },
            "type": "scatterternary"
           }
          ],
          "surface": [
           {
            "colorbar": {
             "outlinewidth": 0,
             "ticks": ""
            },
            "colorscale": [
             [
              0,
              "#0d0887"
             ],
             [
              0.1111111111111111,
              "#46039f"
             ],
             [
              0.2222222222222222,
              "#7201a8"
             ],
             [
              0.3333333333333333,
              "#9c179e"
             ],
             [
              0.4444444444444444,
              "#bd3786"
             ],
             [
              0.5555555555555556,
              "#d8576b"
             ],
             [
              0.6666666666666666,
              "#ed7953"
             ],
             [
              0.7777777777777778,
              "#fb9f3a"
             ],
             [
              0.8888888888888888,
              "#fdca26"
             ],
             [
              1,
              "#f0f921"
             ]
            ],
            "type": "surface"
           }
          ],
          "table": [
           {
            "cells": {
             "fill": {
              "color": "#EBF0F8"
             },
             "line": {
              "color": "white"
             }
            },
            "header": {
             "fill": {
              "color": "#C8D4E3"
             },
             "line": {
              "color": "white"
             }
            },
            "type": "table"
           }
          ]
         },
         "layout": {
          "annotationdefaults": {
           "arrowcolor": "#2a3f5f",
           "arrowhead": 0,
           "arrowwidth": 1
          },
          "autotypenumbers": "strict",
          "coloraxis": {
           "colorbar": {
            "outlinewidth": 0,
            "ticks": ""
           }
          },
          "colorscale": {
           "diverging": [
            [
             0,
             "#8e0152"
            ],
            [
             0.1,
             "#c51b7d"
            ],
            [
             0.2,
             "#de77ae"
            ],
            [
             0.3,
             "#f1b6da"
            ],
            [
             0.4,
             "#fde0ef"
            ],
            [
             0.5,
             "#f7f7f7"
            ],
            [
             0.6,
             "#e6f5d0"
            ],
            [
             0.7,
             "#b8e186"
            ],
            [
             0.8,
             "#7fbc41"
            ],
            [
             0.9,
             "#4d9221"
            ],
            [
             1,
             "#276419"
            ]
           ],
           "sequential": [
            [
             0,
             "#0d0887"
            ],
            [
             0.1111111111111111,
             "#46039f"
            ],
            [
             0.2222222222222222,
             "#7201a8"
            ],
            [
             0.3333333333333333,
             "#9c179e"
            ],
            [
             0.4444444444444444,
             "#bd3786"
            ],
            [
             0.5555555555555556,
             "#d8576b"
            ],
            [
             0.6666666666666666,
             "#ed7953"
            ],
            [
             0.7777777777777778,
             "#fb9f3a"
            ],
            [
             0.8888888888888888,
             "#fdca26"
            ],
            [
             1,
             "#f0f921"
            ]
           ],
           "sequentialminus": [
            [
             0,
             "#0d0887"
            ],
            [
             0.1111111111111111,
             "#46039f"
            ],
            [
             0.2222222222222222,
             "#7201a8"
            ],
            [
             0.3333333333333333,
             "#9c179e"
            ],
            [
             0.4444444444444444,
             "#bd3786"
            ],
            [
             0.5555555555555556,
             "#d8576b"
            ],
            [
             0.6666666666666666,
             "#ed7953"
            ],
            [
             0.7777777777777778,
             "#fb9f3a"
            ],
            [
             0.8888888888888888,
             "#fdca26"
            ],
            [
             1,
             "#f0f921"
            ]
           ]
          },
          "colorway": [
           "#636efa",
           "#EF553B",
           "#00cc96",
           "#ab63fa",
           "#FFA15A",
           "#19d3f3",
           "#FF6692",
           "#B6E880",
           "#FF97FF",
           "#FECB52"
          ],
          "font": {
           "color": "#2a3f5f"
          },
          "geo": {
           "bgcolor": "white",
           "lakecolor": "white",
           "landcolor": "#E5ECF6",
           "showlakes": true,
           "showland": true,
           "subunitcolor": "white"
          },
          "hoverlabel": {
           "align": "left"
          },
          "hovermode": "closest",
          "mapbox": {
           "style": "light"
          },
          "paper_bgcolor": "white",
          "plot_bgcolor": "#E5ECF6",
          "polar": {
           "angularaxis": {
            "gridcolor": "white",
            "linecolor": "white",
            "ticks": ""
           },
           "bgcolor": "#E5ECF6",
           "radialaxis": {
            "gridcolor": "white",
            "linecolor": "white",
            "ticks": ""
           }
          },
          "scene": {
           "xaxis": {
            "backgroundcolor": "#E5ECF6",
            "gridcolor": "white",
            "gridwidth": 2,
            "linecolor": "white",
            "showbackground": true,
            "ticks": "",
            "zerolinecolor": "white"
           },
           "yaxis": {
            "backgroundcolor": "#E5ECF6",
            "gridcolor": "white",
            "gridwidth": 2,
            "linecolor": "white",
            "showbackground": true,
            "ticks": "",
            "zerolinecolor": "white"
           },
           "zaxis": {
            "backgroundcolor": "#E5ECF6",
            "gridcolor": "white",
            "gridwidth": 2,
            "linecolor": "white",
            "showbackground": true,
            "ticks": "",
            "zerolinecolor": "white"
           }
          },
          "shapedefaults": {
           "line": {
            "color": "#2a3f5f"
           }
          },
          "ternary": {
           "aaxis": {
            "gridcolor": "white",
            "linecolor": "white",
            "ticks": ""
           },
           "baxis": {
            "gridcolor": "white",
            "linecolor": "white",
            "ticks": ""
           },
           "bgcolor": "#E5ECF6",
           "caxis": {
            "gridcolor": "white",
            "linecolor": "white",
            "ticks": ""
           }
          },
          "title": {
           "x": 0.05
          },
          "xaxis": {
           "automargin": true,
           "gridcolor": "white",
           "linecolor": "white",
           "ticks": "",
           "title": {
            "standoff": 15
           },
           "zerolinecolor": "white",
           "zerolinewidth": 2
          },
          "yaxis": {
           "automargin": true,
           "gridcolor": "white",
           "linecolor": "white",
           "ticks": "",
           "title": {
            "standoff": 15
           },
           "zerolinecolor": "white",
           "zerolinewidth": 2
          }
         }
        },
        "title": {
         "text": "Autres coups et blessures volontaires criminels ou correctionnels"
        },
        "xaxis": {
         "anchor": "y",
         "domain": [
          0,
          1
         ],
         "range": [
          2012,
          2020
         ],
         "title": {
          "text": "index"
         }
        },
        "yaxis": {
         "anchor": "x",
         "domain": [
          0,
          1
         ],
         "title": {
          "text": "Autres coups et blessures volontaires criminels ou correctionnels"
         }
        }
       }
      }
     },
     "metadata": {},
     "output_type": "display_data"
    }
   ],
   "source": [
    "fig = px.line(df,x=\"index\" ,\n",
    " y=\"Autres coups et blessures volontaires criminels ou correctionnels\",\n",
    "  title=\"Autres coups et blessures volontaires criminels ou correctionnels\")\n",
    "fig.update_layout(xaxis={\"range\":[2012,2020]})\n",
    "fig.write_image(\"./image/Autres coups et blessures volontaires criminels ou correctionnels.png\")\n",
    "fig.show()\n"
   ]
  },
  {
   "cell_type": "code",
   "execution_count": 25,
   "id": "976a7b28",
   "metadata": {},
   "outputs": [
    {
     "data": {
      "application/vnd.plotly.v1+json": {
       "config": {
        "plotlyServerURL": "https://plot.ly"
       },
       "data": [
        {
         "hovertemplate": "index=%{x}<br>Atteintes sexuelles=%{y}<extra></extra>",
         "legendgroup": "",
         "line": {
          "color": "#636efa",
          "dash": "solid"
         },
         "marker": {
          "symbol": "circle"
         },
         "mode": "lines",
         "name": "",
         "orientation": "v",
         "showlegend": false,
         "type": "scatter",
         "x": [
          2000,
          2001,
          2002,
          2003,
          2004,
          2005,
          2006,
          2007,
          2008,
          2009,
          2010,
          2011,
          2012,
          2013,
          2014,
          2015,
          2016,
          2017,
          2018,
          2019,
          2020,
          2021,
          2022
         ],
         "xaxis": "x",
         "y": [
          10866,
          10488,
          11348,
          14742,
          17455,
          17513,
          16556,
          16113,
          16374,
          15597,
          14900,
          16320,
          14154,
          13313,
          13032,
          13278,
          12873,
          13327,
          14809,
          15486,
          15641,
          15863,
          9308
         ],
         "yaxis": "y"
        }
       ],
       "layout": {
        "legend": {
         "tracegroupgap": 0
        },
        "template": {
         "data": {
          "bar": [
           {
            "error_x": {
             "color": "#2a3f5f"
            },
            "error_y": {
             "color": "#2a3f5f"
            },
            "marker": {
             "line": {
              "color": "#E5ECF6",
              "width": 0.5
             },
             "pattern": {
              "fillmode": "overlay",
              "size": 10,
              "solidity": 0.2
             }
            },
            "type": "bar"
           }
          ],
          "barpolar": [
           {
            "marker": {
             "line": {
              "color": "#E5ECF6",
              "width": 0.5
             },
             "pattern": {
              "fillmode": "overlay",
              "size": 10,
              "solidity": 0.2
             }
            },
            "type": "barpolar"
           }
          ],
          "carpet": [
           {
            "aaxis": {
             "endlinecolor": "#2a3f5f",
             "gridcolor": "white",
             "linecolor": "white",
             "minorgridcolor": "white",
             "startlinecolor": "#2a3f5f"
            },
            "baxis": {
             "endlinecolor": "#2a3f5f",
             "gridcolor": "white",
             "linecolor": "white",
             "minorgridcolor": "white",
             "startlinecolor": "#2a3f5f"
            },
            "type": "carpet"
           }
          ],
          "choropleth": [
           {
            "colorbar": {
             "outlinewidth": 0,
             "ticks": ""
            },
            "type": "choropleth"
           }
          ],
          "contour": [
           {
            "colorbar": {
             "outlinewidth": 0,
             "ticks": ""
            },
            "colorscale": [
             [
              0,
              "#0d0887"
             ],
             [
              0.1111111111111111,
              "#46039f"
             ],
             [
              0.2222222222222222,
              "#7201a8"
             ],
             [
              0.3333333333333333,
              "#9c179e"
             ],
             [
              0.4444444444444444,
              "#bd3786"
             ],
             [
              0.5555555555555556,
              "#d8576b"
             ],
             [
              0.6666666666666666,
              "#ed7953"
             ],
             [
              0.7777777777777778,
              "#fb9f3a"
             ],
             [
              0.8888888888888888,
              "#fdca26"
             ],
             [
              1,
              "#f0f921"
             ]
            ],
            "type": "contour"
           }
          ],
          "contourcarpet": [
           {
            "colorbar": {
             "outlinewidth": 0,
             "ticks": ""
            },
            "type": "contourcarpet"
           }
          ],
          "heatmap": [
           {
            "colorbar": {
             "outlinewidth": 0,
             "ticks": ""
            },
            "colorscale": [
             [
              0,
              "#0d0887"
             ],
             [
              0.1111111111111111,
              "#46039f"
             ],
             [
              0.2222222222222222,
              "#7201a8"
             ],
             [
              0.3333333333333333,
              "#9c179e"
             ],
             [
              0.4444444444444444,
              "#bd3786"
             ],
             [
              0.5555555555555556,
              "#d8576b"
             ],
             [
              0.6666666666666666,
              "#ed7953"
             ],
             [
              0.7777777777777778,
              "#fb9f3a"
             ],
             [
              0.8888888888888888,
              "#fdca26"
             ],
             [
              1,
              "#f0f921"
             ]
            ],
            "type": "heatmap"
           }
          ],
          "heatmapgl": [
           {
            "colorbar": {
             "outlinewidth": 0,
             "ticks": ""
            },
            "colorscale": [
             [
              0,
              "#0d0887"
             ],
             [
              0.1111111111111111,
              "#46039f"
             ],
             [
              0.2222222222222222,
              "#7201a8"
             ],
             [
              0.3333333333333333,
              "#9c179e"
             ],
             [
              0.4444444444444444,
              "#bd3786"
             ],
             [
              0.5555555555555556,
              "#d8576b"
             ],
             [
              0.6666666666666666,
              "#ed7953"
             ],
             [
              0.7777777777777778,
              "#fb9f3a"
             ],
             [
              0.8888888888888888,
              "#fdca26"
             ],
             [
              1,
              "#f0f921"
             ]
            ],
            "type": "heatmapgl"
           }
          ],
          "histogram": [
           {
            "marker": {
             "pattern": {
              "fillmode": "overlay",
              "size": 10,
              "solidity": 0.2
             }
            },
            "type": "histogram"
           }
          ],
          "histogram2d": [
           {
            "colorbar": {
             "outlinewidth": 0,
             "ticks": ""
            },
            "colorscale": [
             [
              0,
              "#0d0887"
             ],
             [
              0.1111111111111111,
              "#46039f"
             ],
             [
              0.2222222222222222,
              "#7201a8"
             ],
             [
              0.3333333333333333,
              "#9c179e"
             ],
             [
              0.4444444444444444,
              "#bd3786"
             ],
             [
              0.5555555555555556,
              "#d8576b"
             ],
             [
              0.6666666666666666,
              "#ed7953"
             ],
             [
              0.7777777777777778,
              "#fb9f3a"
             ],
             [
              0.8888888888888888,
              "#fdca26"
             ],
             [
              1,
              "#f0f921"
             ]
            ],
            "type": "histogram2d"
           }
          ],
          "histogram2dcontour": [
           {
            "colorbar": {
             "outlinewidth": 0,
             "ticks": ""
            },
            "colorscale": [
             [
              0,
              "#0d0887"
             ],
             [
              0.1111111111111111,
              "#46039f"
             ],
             [
              0.2222222222222222,
              "#7201a8"
             ],
             [
              0.3333333333333333,
              "#9c179e"
             ],
             [
              0.4444444444444444,
              "#bd3786"
             ],
             [
              0.5555555555555556,
              "#d8576b"
             ],
             [
              0.6666666666666666,
              "#ed7953"
             ],
             [
              0.7777777777777778,
              "#fb9f3a"
             ],
             [
              0.8888888888888888,
              "#fdca26"
             ],
             [
              1,
              "#f0f921"
             ]
            ],
            "type": "histogram2dcontour"
           }
          ],
          "mesh3d": [
           {
            "colorbar": {
             "outlinewidth": 0,
             "ticks": ""
            },
            "type": "mesh3d"
           }
          ],
          "parcoords": [
           {
            "line": {
             "colorbar": {
              "outlinewidth": 0,
              "ticks": ""
             }
            },
            "type": "parcoords"
           }
          ],
          "pie": [
           {
            "automargin": true,
            "type": "pie"
           }
          ],
          "scatter": [
           {
            "fillpattern": {
             "fillmode": "overlay",
             "size": 10,
             "solidity": 0.2
            },
            "type": "scatter"
           }
          ],
          "scatter3d": [
           {
            "line": {
             "colorbar": {
              "outlinewidth": 0,
              "ticks": ""
             }
            },
            "marker": {
             "colorbar": {
              "outlinewidth": 0,
              "ticks": ""
             }
            },
            "type": "scatter3d"
           }
          ],
          "scattercarpet": [
           {
            "marker": {
             "colorbar": {
              "outlinewidth": 0,
              "ticks": ""
             }
            },
            "type": "scattercarpet"
           }
          ],
          "scattergeo": [
           {
            "marker": {
             "colorbar": {
              "outlinewidth": 0,
              "ticks": ""
             }
            },
            "type": "scattergeo"
           }
          ],
          "scattergl": [
           {
            "marker": {
             "colorbar": {
              "outlinewidth": 0,
              "ticks": ""
             }
            },
            "type": "scattergl"
           }
          ],
          "scattermapbox": [
           {
            "marker": {
             "colorbar": {
              "outlinewidth": 0,
              "ticks": ""
             }
            },
            "type": "scattermapbox"
           }
          ],
          "scatterpolar": [
           {
            "marker": {
             "colorbar": {
              "outlinewidth": 0,
              "ticks": ""
             }
            },
            "type": "scatterpolar"
           }
          ],
          "scatterpolargl": [
           {
            "marker": {
             "colorbar": {
              "outlinewidth": 0,
              "ticks": ""
             }
            },
            "type": "scatterpolargl"
           }
          ],
          "scatterternary": [
           {
            "marker": {
             "colorbar": {
              "outlinewidth": 0,
              "ticks": ""
             }
            },
            "type": "scatterternary"
           }
          ],
          "surface": [
           {
            "colorbar": {
             "outlinewidth": 0,
             "ticks": ""
            },
            "colorscale": [
             [
              0,
              "#0d0887"
             ],
             [
              0.1111111111111111,
              "#46039f"
             ],
             [
              0.2222222222222222,
              "#7201a8"
             ],
             [
              0.3333333333333333,
              "#9c179e"
             ],
             [
              0.4444444444444444,
              "#bd3786"
             ],
             [
              0.5555555555555556,
              "#d8576b"
             ],
             [
              0.6666666666666666,
              "#ed7953"
             ],
             [
              0.7777777777777778,
              "#fb9f3a"
             ],
             [
              0.8888888888888888,
              "#fdca26"
             ],
             [
              1,
              "#f0f921"
             ]
            ],
            "type": "surface"
           }
          ],
          "table": [
           {
            "cells": {
             "fill": {
              "color": "#EBF0F8"
             },
             "line": {
              "color": "white"
             }
            },
            "header": {
             "fill": {
              "color": "#C8D4E3"
             },
             "line": {
              "color": "white"
             }
            },
            "type": "table"
           }
          ]
         },
         "layout": {
          "annotationdefaults": {
           "arrowcolor": "#2a3f5f",
           "arrowhead": 0,
           "arrowwidth": 1
          },
          "autotypenumbers": "strict",
          "coloraxis": {
           "colorbar": {
            "outlinewidth": 0,
            "ticks": ""
           }
          },
          "colorscale": {
           "diverging": [
            [
             0,
             "#8e0152"
            ],
            [
             0.1,
             "#c51b7d"
            ],
            [
             0.2,
             "#de77ae"
            ],
            [
             0.3,
             "#f1b6da"
            ],
            [
             0.4,
             "#fde0ef"
            ],
            [
             0.5,
             "#f7f7f7"
            ],
            [
             0.6,
             "#e6f5d0"
            ],
            [
             0.7,
             "#b8e186"
            ],
            [
             0.8,
             "#7fbc41"
            ],
            [
             0.9,
             "#4d9221"
            ],
            [
             1,
             "#276419"
            ]
           ],
           "sequential": [
            [
             0,
             "#0d0887"
            ],
            [
             0.1111111111111111,
             "#46039f"
            ],
            [
             0.2222222222222222,
             "#7201a8"
            ],
            [
             0.3333333333333333,
             "#9c179e"
            ],
            [
             0.4444444444444444,
             "#bd3786"
            ],
            [
             0.5555555555555556,
             "#d8576b"
            ],
            [
             0.6666666666666666,
             "#ed7953"
            ],
            [
             0.7777777777777778,
             "#fb9f3a"
            ],
            [
             0.8888888888888888,
             "#fdca26"
            ],
            [
             1,
             "#f0f921"
            ]
           ],
           "sequentialminus": [
            [
             0,
             "#0d0887"
            ],
            [
             0.1111111111111111,
             "#46039f"
            ],
            [
             0.2222222222222222,
             "#7201a8"
            ],
            [
             0.3333333333333333,
             "#9c179e"
            ],
            [
             0.4444444444444444,
             "#bd3786"
            ],
            [
             0.5555555555555556,
             "#d8576b"
            ],
            [
             0.6666666666666666,
             "#ed7953"
            ],
            [
             0.7777777777777778,
             "#fb9f3a"
            ],
            [
             0.8888888888888888,
             "#fdca26"
            ],
            [
             1,
             "#f0f921"
            ]
           ]
          },
          "colorway": [
           "#636efa",
           "#EF553B",
           "#00cc96",
           "#ab63fa",
           "#FFA15A",
           "#19d3f3",
           "#FF6692",
           "#B6E880",
           "#FF97FF",
           "#FECB52"
          ],
          "font": {
           "color": "#2a3f5f"
          },
          "geo": {
           "bgcolor": "white",
           "lakecolor": "white",
           "landcolor": "#E5ECF6",
           "showlakes": true,
           "showland": true,
           "subunitcolor": "white"
          },
          "hoverlabel": {
           "align": "left"
          },
          "hovermode": "closest",
          "mapbox": {
           "style": "light"
          },
          "paper_bgcolor": "white",
          "plot_bgcolor": "#E5ECF6",
          "polar": {
           "angularaxis": {
            "gridcolor": "white",
            "linecolor": "white",
            "ticks": ""
           },
           "bgcolor": "#E5ECF6",
           "radialaxis": {
            "gridcolor": "white",
            "linecolor": "white",
            "ticks": ""
           }
          },
          "scene": {
           "xaxis": {
            "backgroundcolor": "#E5ECF6",
            "gridcolor": "white",
            "gridwidth": 2,
            "linecolor": "white",
            "showbackground": true,
            "ticks": "",
            "zerolinecolor": "white"
           },
           "yaxis": {
            "backgroundcolor": "#E5ECF6",
            "gridcolor": "white",
            "gridwidth": 2,
            "linecolor": "white",
            "showbackground": true,
            "ticks": "",
            "zerolinecolor": "white"
           },
           "zaxis": {
            "backgroundcolor": "#E5ECF6",
            "gridcolor": "white",
            "gridwidth": 2,
            "linecolor": "white",
            "showbackground": true,
            "ticks": "",
            "zerolinecolor": "white"
           }
          },
          "shapedefaults": {
           "line": {
            "color": "#2a3f5f"
           }
          },
          "ternary": {
           "aaxis": {
            "gridcolor": "white",
            "linecolor": "white",
            "ticks": ""
           },
           "baxis": {
            "gridcolor": "white",
            "linecolor": "white",
            "ticks": ""
           },
           "bgcolor": "#E5ECF6",
           "caxis": {
            "gridcolor": "white",
            "linecolor": "white",
            "ticks": ""
           }
          },
          "title": {
           "x": 0.05
          },
          "xaxis": {
           "automargin": true,
           "gridcolor": "white",
           "linecolor": "white",
           "ticks": "",
           "title": {
            "standoff": 15
           },
           "zerolinecolor": "white",
           "zerolinewidth": 2
          },
          "yaxis": {
           "automargin": true,
           "gridcolor": "white",
           "linecolor": "white",
           "ticks": "",
           "title": {
            "standoff": 15
           },
           "zerolinecolor": "white",
           "zerolinewidth": 2
          }
         }
        },
        "title": {
         "text": "Atteintes sexuelles"
        },
        "xaxis": {
         "anchor": "y",
         "domain": [
          0,
          1
         ],
         "range": [
          2001,
          2020
         ],
         "title": {
          "text": "index"
         }
        },
        "yaxis": {
         "anchor": "x",
         "domain": [
          0,
          1
         ],
         "title": {
          "text": "Atteintes sexuelles"
         }
        }
       }
      }
     },
     "metadata": {},
     "output_type": "display_data"
    }
   ],
   "source": [
    "fig = px.line(df,x=\"index\" ,\n",
    " y=\"Atteintes sexuelles\",\n",
    "  title=\"Atteintes sexuelles\")\n",
    "fig.update_layout(xaxis={\"range\":[2001,2020]})\n",
    "fig.write_image(\"./image/Atteintes sexuelles.png\")\n",
    "fig.show()\n"
   ]
  },
  {
   "cell_type": "code",
   "execution_count": 26,
   "id": "b26368ee",
   "metadata": {},
   "outputs": [
    {
     "data": {
      "application/vnd.plotly.v1+json": {
       "config": {
        "plotlyServerURL": "https://plot.ly"
       },
       "data": [
        {
         "hovertemplate": "index=%{x}<br>Attentats à l'explosif contre des biens publics=%{y}<extra></extra>",
         "legendgroup": "",
         "line": {
          "color": "#636efa",
          "dash": "solid"
         },
         "marker": {
          "symbol": "circle"
         },
         "mode": "lines",
         "name": "",
         "orientation": "v",
         "showlegend": false,
         "type": "scatter",
         "x": [
          2000,
          2001,
          2002,
          2003,
          2004,
          2005,
          2006,
          2007,
          2008,
          2009,
          2010,
          2011,
          2012,
          2013,
          2014,
          2015,
          2016,
          2017,
          2018,
          2019,
          2020,
          2021,
          2022
         ],
         "xaxis": "x",
         "y": [
          83,
          108,
          130,
          119,
          120,
          115,
          84,
          102,
          45,
          36,
          29,
          23,
          13,
          31,
          30,
          38,
          30,
          40,
          42,
          55,
          63,
          60,
          41
         ],
         "yaxis": "y"
        }
       ],
       "layout": {
        "legend": {
         "tracegroupgap": 0
        },
        "template": {
         "data": {
          "bar": [
           {
            "error_x": {
             "color": "#2a3f5f"
            },
            "error_y": {
             "color": "#2a3f5f"
            },
            "marker": {
             "line": {
              "color": "#E5ECF6",
              "width": 0.5
             },
             "pattern": {
              "fillmode": "overlay",
              "size": 10,
              "solidity": 0.2
             }
            },
            "type": "bar"
           }
          ],
          "barpolar": [
           {
            "marker": {
             "line": {
              "color": "#E5ECF6",
              "width": 0.5
             },
             "pattern": {
              "fillmode": "overlay",
              "size": 10,
              "solidity": 0.2
             }
            },
            "type": "barpolar"
           }
          ],
          "carpet": [
           {
            "aaxis": {
             "endlinecolor": "#2a3f5f",
             "gridcolor": "white",
             "linecolor": "white",
             "minorgridcolor": "white",
             "startlinecolor": "#2a3f5f"
            },
            "baxis": {
             "endlinecolor": "#2a3f5f",
             "gridcolor": "white",
             "linecolor": "white",
             "minorgridcolor": "white",
             "startlinecolor": "#2a3f5f"
            },
            "type": "carpet"
           }
          ],
          "choropleth": [
           {
            "colorbar": {
             "outlinewidth": 0,
             "ticks": ""
            },
            "type": "choropleth"
           }
          ],
          "contour": [
           {
            "colorbar": {
             "outlinewidth": 0,
             "ticks": ""
            },
            "colorscale": [
             [
              0,
              "#0d0887"
             ],
             [
              0.1111111111111111,
              "#46039f"
             ],
             [
              0.2222222222222222,
              "#7201a8"
             ],
             [
              0.3333333333333333,
              "#9c179e"
             ],
             [
              0.4444444444444444,
              "#bd3786"
             ],
             [
              0.5555555555555556,
              "#d8576b"
             ],
             [
              0.6666666666666666,
              "#ed7953"
             ],
             [
              0.7777777777777778,
              "#fb9f3a"
             ],
             [
              0.8888888888888888,
              "#fdca26"
             ],
             [
              1,
              "#f0f921"
             ]
            ],
            "type": "contour"
           }
          ],
          "contourcarpet": [
           {
            "colorbar": {
             "outlinewidth": 0,
             "ticks": ""
            },
            "type": "contourcarpet"
           }
          ],
          "heatmap": [
           {
            "colorbar": {
             "outlinewidth": 0,
             "ticks": ""
            },
            "colorscale": [
             [
              0,
              "#0d0887"
             ],
             [
              0.1111111111111111,
              "#46039f"
             ],
             [
              0.2222222222222222,
              "#7201a8"
             ],
             [
              0.3333333333333333,
              "#9c179e"
             ],
             [
              0.4444444444444444,
              "#bd3786"
             ],
             [
              0.5555555555555556,
              "#d8576b"
             ],
             [
              0.6666666666666666,
              "#ed7953"
             ],
             [
              0.7777777777777778,
              "#fb9f3a"
             ],
             [
              0.8888888888888888,
              "#fdca26"
             ],
             [
              1,
              "#f0f921"
             ]
            ],
            "type": "heatmap"
           }
          ],
          "heatmapgl": [
           {
            "colorbar": {
             "outlinewidth": 0,
             "ticks": ""
            },
            "colorscale": [
             [
              0,
              "#0d0887"
             ],
             [
              0.1111111111111111,
              "#46039f"
             ],
             [
              0.2222222222222222,
              "#7201a8"
             ],
             [
              0.3333333333333333,
              "#9c179e"
             ],
             [
              0.4444444444444444,
              "#bd3786"
             ],
             [
              0.5555555555555556,
              "#d8576b"
             ],
             [
              0.6666666666666666,
              "#ed7953"
             ],
             [
              0.7777777777777778,
              "#fb9f3a"
             ],
             [
              0.8888888888888888,
              "#fdca26"
             ],
             [
              1,
              "#f0f921"
             ]
            ],
            "type": "heatmapgl"
           }
          ],
          "histogram": [
           {
            "marker": {
             "pattern": {
              "fillmode": "overlay",
              "size": 10,
              "solidity": 0.2
             }
            },
            "type": "histogram"
           }
          ],
          "histogram2d": [
           {
            "colorbar": {
             "outlinewidth": 0,
             "ticks": ""
            },
            "colorscale": [
             [
              0,
              "#0d0887"
             ],
             [
              0.1111111111111111,
              "#46039f"
             ],
             [
              0.2222222222222222,
              "#7201a8"
             ],
             [
              0.3333333333333333,
              "#9c179e"
             ],
             [
              0.4444444444444444,
              "#bd3786"
             ],
             [
              0.5555555555555556,
              "#d8576b"
             ],
             [
              0.6666666666666666,
              "#ed7953"
             ],
             [
              0.7777777777777778,
              "#fb9f3a"
             ],
             [
              0.8888888888888888,
              "#fdca26"
             ],
             [
              1,
              "#f0f921"
             ]
            ],
            "type": "histogram2d"
           }
          ],
          "histogram2dcontour": [
           {
            "colorbar": {
             "outlinewidth": 0,
             "ticks": ""
            },
            "colorscale": [
             [
              0,
              "#0d0887"
             ],
             [
              0.1111111111111111,
              "#46039f"
             ],
             [
              0.2222222222222222,
              "#7201a8"
             ],
             [
              0.3333333333333333,
              "#9c179e"
             ],
             [
              0.4444444444444444,
              "#bd3786"
             ],
             [
              0.5555555555555556,
              "#d8576b"
             ],
             [
              0.6666666666666666,
              "#ed7953"
             ],
             [
              0.7777777777777778,
              "#fb9f3a"
             ],
             [
              0.8888888888888888,
              "#fdca26"
             ],
             [
              1,
              "#f0f921"
             ]
            ],
            "type": "histogram2dcontour"
           }
          ],
          "mesh3d": [
           {
            "colorbar": {
             "outlinewidth": 0,
             "ticks": ""
            },
            "type": "mesh3d"
           }
          ],
          "parcoords": [
           {
            "line": {
             "colorbar": {
              "outlinewidth": 0,
              "ticks": ""
             }
            },
            "type": "parcoords"
           }
          ],
          "pie": [
           {
            "automargin": true,
            "type": "pie"
           }
          ],
          "scatter": [
           {
            "fillpattern": {
             "fillmode": "overlay",
             "size": 10,
             "solidity": 0.2
            },
            "type": "scatter"
           }
          ],
          "scatter3d": [
           {
            "line": {
             "colorbar": {
              "outlinewidth": 0,
              "ticks": ""
             }
            },
            "marker": {
             "colorbar": {
              "outlinewidth": 0,
              "ticks": ""
             }
            },
            "type": "scatter3d"
           }
          ],
          "scattercarpet": [
           {
            "marker": {
             "colorbar": {
              "outlinewidth": 0,
              "ticks": ""
             }
            },
            "type": "scattercarpet"
           }
          ],
          "scattergeo": [
           {
            "marker": {
             "colorbar": {
              "outlinewidth": 0,
              "ticks": ""
             }
            },
            "type": "scattergeo"
           }
          ],
          "scattergl": [
           {
            "marker": {
             "colorbar": {
              "outlinewidth": 0,
              "ticks": ""
             }
            },
            "type": "scattergl"
           }
          ],
          "scattermapbox": [
           {
            "marker": {
             "colorbar": {
              "outlinewidth": 0,
              "ticks": ""
             }
            },
            "type": "scattermapbox"
           }
          ],
          "scatterpolar": [
           {
            "marker": {
             "colorbar": {
              "outlinewidth": 0,
              "ticks": ""
             }
            },
            "type": "scatterpolar"
           }
          ],
          "scatterpolargl": [
           {
            "marker": {
             "colorbar": {
              "outlinewidth": 0,
              "ticks": ""
             }
            },
            "type": "scatterpolargl"
           }
          ],
          "scatterternary": [
           {
            "marker": {
             "colorbar": {
              "outlinewidth": 0,
              "ticks": ""
             }
            },
            "type": "scatterternary"
           }
          ],
          "surface": [
           {
            "colorbar": {
             "outlinewidth": 0,
             "ticks": ""
            },
            "colorscale": [
             [
              0,
              "#0d0887"
             ],
             [
              0.1111111111111111,
              "#46039f"
             ],
             [
              0.2222222222222222,
              "#7201a8"
             ],
             [
              0.3333333333333333,
              "#9c179e"
             ],
             [
              0.4444444444444444,
              "#bd3786"
             ],
             [
              0.5555555555555556,
              "#d8576b"
             ],
             [
              0.6666666666666666,
              "#ed7953"
             ],
             [
              0.7777777777777778,
              "#fb9f3a"
             ],
             [
              0.8888888888888888,
              "#fdca26"
             ],
             [
              1,
              "#f0f921"
             ]
            ],
            "type": "surface"
           }
          ],
          "table": [
           {
            "cells": {
             "fill": {
              "color": "#EBF0F8"
             },
             "line": {
              "color": "white"
             }
            },
            "header": {
             "fill": {
              "color": "#C8D4E3"
             },
             "line": {
              "color": "white"
             }
            },
            "type": "table"
           }
          ]
         },
         "layout": {
          "annotationdefaults": {
           "arrowcolor": "#2a3f5f",
           "arrowhead": 0,
           "arrowwidth": 1
          },
          "autotypenumbers": "strict",
          "coloraxis": {
           "colorbar": {
            "outlinewidth": 0,
            "ticks": ""
           }
          },
          "colorscale": {
           "diverging": [
            [
             0,
             "#8e0152"
            ],
            [
             0.1,
             "#c51b7d"
            ],
            [
             0.2,
             "#de77ae"
            ],
            [
             0.3,
             "#f1b6da"
            ],
            [
             0.4,
             "#fde0ef"
            ],
            [
             0.5,
             "#f7f7f7"
            ],
            [
             0.6,
             "#e6f5d0"
            ],
            [
             0.7,
             "#b8e186"
            ],
            [
             0.8,
             "#7fbc41"
            ],
            [
             0.9,
             "#4d9221"
            ],
            [
             1,
             "#276419"
            ]
           ],
           "sequential": [
            [
             0,
             "#0d0887"
            ],
            [
             0.1111111111111111,
             "#46039f"
            ],
            [
             0.2222222222222222,
             "#7201a8"
            ],
            [
             0.3333333333333333,
             "#9c179e"
            ],
            [
             0.4444444444444444,
             "#bd3786"
            ],
            [
             0.5555555555555556,
             "#d8576b"
            ],
            [
             0.6666666666666666,
             "#ed7953"
            ],
            [
             0.7777777777777778,
             "#fb9f3a"
            ],
            [
             0.8888888888888888,
             "#fdca26"
            ],
            [
             1,
             "#f0f921"
            ]
           ],
           "sequentialminus": [
            [
             0,
             "#0d0887"
            ],
            [
             0.1111111111111111,
             "#46039f"
            ],
            [
             0.2222222222222222,
             "#7201a8"
            ],
            [
             0.3333333333333333,
             "#9c179e"
            ],
            [
             0.4444444444444444,
             "#bd3786"
            ],
            [
             0.5555555555555556,
             "#d8576b"
            ],
            [
             0.6666666666666666,
             "#ed7953"
            ],
            [
             0.7777777777777778,
             "#fb9f3a"
            ],
            [
             0.8888888888888888,
             "#fdca26"
            ],
            [
             1,
             "#f0f921"
            ]
           ]
          },
          "colorway": [
           "#636efa",
           "#EF553B",
           "#00cc96",
           "#ab63fa",
           "#FFA15A",
           "#19d3f3",
           "#FF6692",
           "#B6E880",
           "#FF97FF",
           "#FECB52"
          ],
          "font": {
           "color": "#2a3f5f"
          },
          "geo": {
           "bgcolor": "white",
           "lakecolor": "white",
           "landcolor": "#E5ECF6",
           "showlakes": true,
           "showland": true,
           "subunitcolor": "white"
          },
          "hoverlabel": {
           "align": "left"
          },
          "hovermode": "closest",
          "mapbox": {
           "style": "light"
          },
          "paper_bgcolor": "white",
          "plot_bgcolor": "#E5ECF6",
          "polar": {
           "angularaxis": {
            "gridcolor": "white",
            "linecolor": "white",
            "ticks": ""
           },
           "bgcolor": "#E5ECF6",
           "radialaxis": {
            "gridcolor": "white",
            "linecolor": "white",
            "ticks": ""
           }
          },
          "scene": {
           "xaxis": {
            "backgroundcolor": "#E5ECF6",
            "gridcolor": "white",
            "gridwidth": 2,
            "linecolor": "white",
            "showbackground": true,
            "ticks": "",
            "zerolinecolor": "white"
           },
           "yaxis": {
            "backgroundcolor": "#E5ECF6",
            "gridcolor": "white",
            "gridwidth": 2,
            "linecolor": "white",
            "showbackground": true,
            "ticks": "",
            "zerolinecolor": "white"
           },
           "zaxis": {
            "backgroundcolor": "#E5ECF6",
            "gridcolor": "white",
            "gridwidth": 2,
            "linecolor": "white",
            "showbackground": true,
            "ticks": "",
            "zerolinecolor": "white"
           }
          },
          "shapedefaults": {
           "line": {
            "color": "#2a3f5f"
           }
          },
          "ternary": {
           "aaxis": {
            "gridcolor": "white",
            "linecolor": "white",
            "ticks": ""
           },
           "baxis": {
            "gridcolor": "white",
            "linecolor": "white",
            "ticks": ""
           },
           "bgcolor": "#E5ECF6",
           "caxis": {
            "gridcolor": "white",
            "linecolor": "white",
            "ticks": ""
           }
          },
          "title": {
           "x": 0.05
          },
          "xaxis": {
           "automargin": true,
           "gridcolor": "white",
           "linecolor": "white",
           "ticks": "",
           "title": {
            "standoff": 15
           },
           "zerolinecolor": "white",
           "zerolinewidth": 2
          },
          "yaxis": {
           "automargin": true,
           "gridcolor": "white",
           "linecolor": "white",
           "ticks": "",
           "title": {
            "standoff": 15
           },
           "zerolinecolor": "white",
           "zerolinewidth": 2
          }
         }
        },
        "title": {
         "text": "Attentats à l'explosif contre des biens publics"
        },
        "xaxis": {
         "anchor": "y",
         "domain": [
          0,
          1
         ],
         "range": [
          2001,
          2020
         ],
         "title": {
          "text": "index"
         }
        },
        "yaxis": {
         "anchor": "x",
         "domain": [
          0,
          1
         ],
         "title": {
          "text": "Attentats à l'explosif contre des biens publics"
         }
        }
       }
      }
     },
     "metadata": {},
     "output_type": "display_data"
    }
   ],
   "source": [
    "fig = px.line(df,x=\"index\" ,\n",
    " y=\"Attentats à l'explosif contre des biens publics\",\n",
    "  title=\"Attentats à l'explosif contre des biens publics\")\n",
    "fig.update_layout(xaxis={\"range\":[2001,2020]})\n",
    "fig.write_image(\"./image/Attentats à l'explosif contre des biens publics.png\")\n",
    "fig.show()\n"
   ]
  },
  {
   "cell_type": "code",
   "execution_count": 27,
   "id": "17a4246a",
   "metadata": {},
   "outputs": [
    {
     "data": {
      "application/vnd.plotly.v1+json": {
       "config": {
        "plotlyServerURL": "https://plot.ly"
       },
       "data": [
        {
         "hovertemplate": "index=%{x}<br>Fraudes fiscales=%{y}<extra></extra>",
         "legendgroup": "",
         "line": {
          "color": "#636efa",
          "dash": "solid"
         },
         "marker": {
          "symbol": "circle"
         },
         "mode": "lines",
         "name": "",
         "orientation": "v",
         "showlegend": false,
         "type": "scatter",
         "x": [
          2000,
          2001,
          2002,
          2003,
          2004,
          2005,
          2006,
          2007,
          2008,
          2009,
          2010,
          2011,
          2012,
          2013,
          2014,
          2015,
          2016,
          2017,
          2018,
          2019,
          2020,
          2021,
          2022
         ],
         "xaxis": "x",
         "y": [
          469,
          605,
          639,
          672,
          803,
          792,
          951,
          829,
          934,
          868,
          851,
          929,
          818,
          742,
          814,
          636,
          641,
          597,
          609,
          661,
          716,
          826,
          476
         ],
         "yaxis": "y"
        }
       ],
       "layout": {
        "legend": {
         "tracegroupgap": 0
        },
        "template": {
         "data": {
          "bar": [
           {
            "error_x": {
             "color": "#2a3f5f"
            },
            "error_y": {
             "color": "#2a3f5f"
            },
            "marker": {
             "line": {
              "color": "#E5ECF6",
              "width": 0.5
             },
             "pattern": {
              "fillmode": "overlay",
              "size": 10,
              "solidity": 0.2
             }
            },
            "type": "bar"
           }
          ],
          "barpolar": [
           {
            "marker": {
             "line": {
              "color": "#E5ECF6",
              "width": 0.5
             },
             "pattern": {
              "fillmode": "overlay",
              "size": 10,
              "solidity": 0.2
             }
            },
            "type": "barpolar"
           }
          ],
          "carpet": [
           {
            "aaxis": {
             "endlinecolor": "#2a3f5f",
             "gridcolor": "white",
             "linecolor": "white",
             "minorgridcolor": "white",
             "startlinecolor": "#2a3f5f"
            },
            "baxis": {
             "endlinecolor": "#2a3f5f",
             "gridcolor": "white",
             "linecolor": "white",
             "minorgridcolor": "white",
             "startlinecolor": "#2a3f5f"
            },
            "type": "carpet"
           }
          ],
          "choropleth": [
           {
            "colorbar": {
             "outlinewidth": 0,
             "ticks": ""
            },
            "type": "choropleth"
           }
          ],
          "contour": [
           {
            "colorbar": {
             "outlinewidth": 0,
             "ticks": ""
            },
            "colorscale": [
             [
              0,
              "#0d0887"
             ],
             [
              0.1111111111111111,
              "#46039f"
             ],
             [
              0.2222222222222222,
              "#7201a8"
             ],
             [
              0.3333333333333333,
              "#9c179e"
             ],
             [
              0.4444444444444444,
              "#bd3786"
             ],
             [
              0.5555555555555556,
              "#d8576b"
             ],
             [
              0.6666666666666666,
              "#ed7953"
             ],
             [
              0.7777777777777778,
              "#fb9f3a"
             ],
             [
              0.8888888888888888,
              "#fdca26"
             ],
             [
              1,
              "#f0f921"
             ]
            ],
            "type": "contour"
           }
          ],
          "contourcarpet": [
           {
            "colorbar": {
             "outlinewidth": 0,
             "ticks": ""
            },
            "type": "contourcarpet"
           }
          ],
          "heatmap": [
           {
            "colorbar": {
             "outlinewidth": 0,
             "ticks": ""
            },
            "colorscale": [
             [
              0,
              "#0d0887"
             ],
             [
              0.1111111111111111,
              "#46039f"
             ],
             [
              0.2222222222222222,
              "#7201a8"
             ],
             [
              0.3333333333333333,
              "#9c179e"
             ],
             [
              0.4444444444444444,
              "#bd3786"
             ],
             [
              0.5555555555555556,
              "#d8576b"
             ],
             [
              0.6666666666666666,
              "#ed7953"
             ],
             [
              0.7777777777777778,
              "#fb9f3a"
             ],
             [
              0.8888888888888888,
              "#fdca26"
             ],
             [
              1,
              "#f0f921"
             ]
            ],
            "type": "heatmap"
           }
          ],
          "heatmapgl": [
           {
            "colorbar": {
             "outlinewidth": 0,
             "ticks": ""
            },
            "colorscale": [
             [
              0,
              "#0d0887"
             ],
             [
              0.1111111111111111,
              "#46039f"
             ],
             [
              0.2222222222222222,
              "#7201a8"
             ],
             [
              0.3333333333333333,
              "#9c179e"
             ],
             [
              0.4444444444444444,
              "#bd3786"
             ],
             [
              0.5555555555555556,
              "#d8576b"
             ],
             [
              0.6666666666666666,
              "#ed7953"
             ],
             [
              0.7777777777777778,
              "#fb9f3a"
             ],
             [
              0.8888888888888888,
              "#fdca26"
             ],
             [
              1,
              "#f0f921"
             ]
            ],
            "type": "heatmapgl"
           }
          ],
          "histogram": [
           {
            "marker": {
             "pattern": {
              "fillmode": "overlay",
              "size": 10,
              "solidity": 0.2
             }
            },
            "type": "histogram"
           }
          ],
          "histogram2d": [
           {
            "colorbar": {
             "outlinewidth": 0,
             "ticks": ""
            },
            "colorscale": [
             [
              0,
              "#0d0887"
             ],
             [
              0.1111111111111111,
              "#46039f"
             ],
             [
              0.2222222222222222,
              "#7201a8"
             ],
             [
              0.3333333333333333,
              "#9c179e"
             ],
             [
              0.4444444444444444,
              "#bd3786"
             ],
             [
              0.5555555555555556,
              "#d8576b"
             ],
             [
              0.6666666666666666,
              "#ed7953"
             ],
             [
              0.7777777777777778,
              "#fb9f3a"
             ],
             [
              0.8888888888888888,
              "#fdca26"
             ],
             [
              1,
              "#f0f921"
             ]
            ],
            "type": "histogram2d"
           }
          ],
          "histogram2dcontour": [
           {
            "colorbar": {
             "outlinewidth": 0,
             "ticks": ""
            },
            "colorscale": [
             [
              0,
              "#0d0887"
             ],
             [
              0.1111111111111111,
              "#46039f"
             ],
             [
              0.2222222222222222,
              "#7201a8"
             ],
             [
              0.3333333333333333,
              "#9c179e"
             ],
             [
              0.4444444444444444,
              "#bd3786"
             ],
             [
              0.5555555555555556,
              "#d8576b"
             ],
             [
              0.6666666666666666,
              "#ed7953"
             ],
             [
              0.7777777777777778,
              "#fb9f3a"
             ],
             [
              0.8888888888888888,
              "#fdca26"
             ],
             [
              1,
              "#f0f921"
             ]
            ],
            "type": "histogram2dcontour"
           }
          ],
          "mesh3d": [
           {
            "colorbar": {
             "outlinewidth": 0,
             "ticks": ""
            },
            "type": "mesh3d"
           }
          ],
          "parcoords": [
           {
            "line": {
             "colorbar": {
              "outlinewidth": 0,
              "ticks": ""
             }
            },
            "type": "parcoords"
           }
          ],
          "pie": [
           {
            "automargin": true,
            "type": "pie"
           }
          ],
          "scatter": [
           {
            "fillpattern": {
             "fillmode": "overlay",
             "size": 10,
             "solidity": 0.2
            },
            "type": "scatter"
           }
          ],
          "scatter3d": [
           {
            "line": {
             "colorbar": {
              "outlinewidth": 0,
              "ticks": ""
             }
            },
            "marker": {
             "colorbar": {
              "outlinewidth": 0,
              "ticks": ""
             }
            },
            "type": "scatter3d"
           }
          ],
          "scattercarpet": [
           {
            "marker": {
             "colorbar": {
              "outlinewidth": 0,
              "ticks": ""
             }
            },
            "type": "scattercarpet"
           }
          ],
          "scattergeo": [
           {
            "marker": {
             "colorbar": {
              "outlinewidth": 0,
              "ticks": ""
             }
            },
            "type": "scattergeo"
           }
          ],
          "scattergl": [
           {
            "marker": {
             "colorbar": {
              "outlinewidth": 0,
              "ticks": ""
             }
            },
            "type": "scattergl"
           }
          ],
          "scattermapbox": [
           {
            "marker": {
             "colorbar": {
              "outlinewidth": 0,
              "ticks": ""
             }
            },
            "type": "scattermapbox"
           }
          ],
          "scatterpolar": [
           {
            "marker": {
             "colorbar": {
              "outlinewidth": 0,
              "ticks": ""
             }
            },
            "type": "scatterpolar"
           }
          ],
          "scatterpolargl": [
           {
            "marker": {
             "colorbar": {
              "outlinewidth": 0,
              "ticks": ""
             }
            },
            "type": "scatterpolargl"
           }
          ],
          "scatterternary": [
           {
            "marker": {
             "colorbar": {
              "outlinewidth": 0,
              "ticks": ""
             }
            },
            "type": "scatterternary"
           }
          ],
          "surface": [
           {
            "colorbar": {
             "outlinewidth": 0,
             "ticks": ""
            },
            "colorscale": [
             [
              0,
              "#0d0887"
             ],
             [
              0.1111111111111111,
              "#46039f"
             ],
             [
              0.2222222222222222,
              "#7201a8"
             ],
             [
              0.3333333333333333,
              "#9c179e"
             ],
             [
              0.4444444444444444,
              "#bd3786"
             ],
             [
              0.5555555555555556,
              "#d8576b"
             ],
             [
              0.6666666666666666,
              "#ed7953"
             ],
             [
              0.7777777777777778,
              "#fb9f3a"
             ],
             [
              0.8888888888888888,
              "#fdca26"
             ],
             [
              1,
              "#f0f921"
             ]
            ],
            "type": "surface"
           }
          ],
          "table": [
           {
            "cells": {
             "fill": {
              "color": "#EBF0F8"
             },
             "line": {
              "color": "white"
             }
            },
            "header": {
             "fill": {
              "color": "#C8D4E3"
             },
             "line": {
              "color": "white"
             }
            },
            "type": "table"
           }
          ]
         },
         "layout": {
          "annotationdefaults": {
           "arrowcolor": "#2a3f5f",
           "arrowhead": 0,
           "arrowwidth": 1
          },
          "autotypenumbers": "strict",
          "coloraxis": {
           "colorbar": {
            "outlinewidth": 0,
            "ticks": ""
           }
          },
          "colorscale": {
           "diverging": [
            [
             0,
             "#8e0152"
            ],
            [
             0.1,
             "#c51b7d"
            ],
            [
             0.2,
             "#de77ae"
            ],
            [
             0.3,
             "#f1b6da"
            ],
            [
             0.4,
             "#fde0ef"
            ],
            [
             0.5,
             "#f7f7f7"
            ],
            [
             0.6,
             "#e6f5d0"
            ],
            [
             0.7,
             "#b8e186"
            ],
            [
             0.8,
             "#7fbc41"
            ],
            [
             0.9,
             "#4d9221"
            ],
            [
             1,
             "#276419"
            ]
           ],
           "sequential": [
            [
             0,
             "#0d0887"
            ],
            [
             0.1111111111111111,
             "#46039f"
            ],
            [
             0.2222222222222222,
             "#7201a8"
            ],
            [
             0.3333333333333333,
             "#9c179e"
            ],
            [
             0.4444444444444444,
             "#bd3786"
            ],
            [
             0.5555555555555556,
             "#d8576b"
            ],
            [
             0.6666666666666666,
             "#ed7953"
            ],
            [
             0.7777777777777778,
             "#fb9f3a"
            ],
            [
             0.8888888888888888,
             "#fdca26"
            ],
            [
             1,
             "#f0f921"
            ]
           ],
           "sequentialminus": [
            [
             0,
             "#0d0887"
            ],
            [
             0.1111111111111111,
             "#46039f"
            ],
            [
             0.2222222222222222,
             "#7201a8"
            ],
            [
             0.3333333333333333,
             "#9c179e"
            ],
            [
             0.4444444444444444,
             "#bd3786"
            ],
            [
             0.5555555555555556,
             "#d8576b"
            ],
            [
             0.6666666666666666,
             "#ed7953"
            ],
            [
             0.7777777777777778,
             "#fb9f3a"
            ],
            [
             0.8888888888888888,
             "#fdca26"
            ],
            [
             1,
             "#f0f921"
            ]
           ]
          },
          "colorway": [
           "#636efa",
           "#EF553B",
           "#00cc96",
           "#ab63fa",
           "#FFA15A",
           "#19d3f3",
           "#FF6692",
           "#B6E880",
           "#FF97FF",
           "#FECB52"
          ],
          "font": {
           "color": "#2a3f5f"
          },
          "geo": {
           "bgcolor": "white",
           "lakecolor": "white",
           "landcolor": "#E5ECF6",
           "showlakes": true,
           "showland": true,
           "subunitcolor": "white"
          },
          "hoverlabel": {
           "align": "left"
          },
          "hovermode": "closest",
          "mapbox": {
           "style": "light"
          },
          "paper_bgcolor": "white",
          "plot_bgcolor": "#E5ECF6",
          "polar": {
           "angularaxis": {
            "gridcolor": "white",
            "linecolor": "white",
            "ticks": ""
           },
           "bgcolor": "#E5ECF6",
           "radialaxis": {
            "gridcolor": "white",
            "linecolor": "white",
            "ticks": ""
           }
          },
          "scene": {
           "xaxis": {
            "backgroundcolor": "#E5ECF6",
            "gridcolor": "white",
            "gridwidth": 2,
            "linecolor": "white",
            "showbackground": true,
            "ticks": "",
            "zerolinecolor": "white"
           },
           "yaxis": {
            "backgroundcolor": "#E5ECF6",
            "gridcolor": "white",
            "gridwidth": 2,
            "linecolor": "white",
            "showbackground": true,
            "ticks": "",
            "zerolinecolor": "white"
           },
           "zaxis": {
            "backgroundcolor": "#E5ECF6",
            "gridcolor": "white",
            "gridwidth": 2,
            "linecolor": "white",
            "showbackground": true,
            "ticks": "",
            "zerolinecolor": "white"
           }
          },
          "shapedefaults": {
           "line": {
            "color": "#2a3f5f"
           }
          },
          "ternary": {
           "aaxis": {
            "gridcolor": "white",
            "linecolor": "white",
            "ticks": ""
           },
           "baxis": {
            "gridcolor": "white",
            "linecolor": "white",
            "ticks": ""
           },
           "bgcolor": "#E5ECF6",
           "caxis": {
            "gridcolor": "white",
            "linecolor": "white",
            "ticks": ""
           }
          },
          "title": {
           "x": 0.05
          },
          "xaxis": {
           "automargin": true,
           "gridcolor": "white",
           "linecolor": "white",
           "ticks": "",
           "title": {
            "standoff": 15
           },
           "zerolinecolor": "white",
           "zerolinewidth": 2
          },
          "yaxis": {
           "automargin": true,
           "gridcolor": "white",
           "linecolor": "white",
           "ticks": "",
           "title": {
            "standoff": 15
           },
           "zerolinecolor": "white",
           "zerolinewidth": 2
          }
         }
        },
        "title": {
         "text": "Fraudes fiscales"
        },
        "xaxis": {
         "anchor": "y",
         "domain": [
          0,
          1
         ],
         "range": [
          2001,
          2020
         ],
         "title": {
          "text": "index"
         }
        },
        "yaxis": {
         "anchor": "x",
         "domain": [
          0,
          1
         ],
         "title": {
          "text": "Fraudes fiscales"
         }
        }
       }
      }
     },
     "metadata": {},
     "output_type": "display_data"
    }
   ],
   "source": [
    "fig = px.line(df,x=\"index\" ,\n",
    " y=\"Fraudes fiscales\",\n",
    "  title=\"Fraudes fiscales\")\n",
    "fig.update_layout(xaxis={\"range\":[2001,2020]})\n",
    "fig.write_image(\"./image/Fraudes fiscales.png\")\n",
    "fig.show()\n"
   ]
  },
  {
   "cell_type": "code",
   "execution_count": 28,
   "id": "4d396d21",
   "metadata": {},
   "outputs": [
    {
     "data": {
      "application/vnd.plotly.v1+json": {
       "config": {
        "plotlyServerURL": "https://plot.ly"
       },
       "data": [
        {
         "hovertemplate": "index=%{x}<br>Homicides pour voler et à l'occasion de vols=%{y}<extra></extra>",
         "legendgroup": "",
         "line": {
          "color": "#636efa",
          "dash": "solid"
         },
         "marker": {
          "symbol": "circle"
         },
         "mode": "lines",
         "name": "",
         "orientation": "v",
         "showlegend": false,
         "type": "scatter",
         "x": [
          2000,
          2001,
          2002,
          2003,
          2004,
          2005,
          2006,
          2007,
          2008,
          2009,
          2010,
          2011,
          2012,
          2013,
          2014,
          2015,
          2016,
          2017,
          2018,
          2019,
          2020,
          2021,
          2022
         ],
         "xaxis": "x",
         "y": [
          63,
          62,
          54,
          70,
          56,
          51,
          50,
          44,
          37,
          31,
          42,
          44,
          35,
          33,
          26,
          23,
          43,
          39,
          33,
          35,
          41,
          30,
          22
         ],
         "yaxis": "y"
        }
       ],
       "layout": {
        "legend": {
         "tracegroupgap": 0
        },
        "template": {
         "data": {
          "bar": [
           {
            "error_x": {
             "color": "#2a3f5f"
            },
            "error_y": {
             "color": "#2a3f5f"
            },
            "marker": {
             "line": {
              "color": "#E5ECF6",
              "width": 0.5
             },
             "pattern": {
              "fillmode": "overlay",
              "size": 10,
              "solidity": 0.2
             }
            },
            "type": "bar"
           }
          ],
          "barpolar": [
           {
            "marker": {
             "line": {
              "color": "#E5ECF6",
              "width": 0.5
             },
             "pattern": {
              "fillmode": "overlay",
              "size": 10,
              "solidity": 0.2
             }
            },
            "type": "barpolar"
           }
          ],
          "carpet": [
           {
            "aaxis": {
             "endlinecolor": "#2a3f5f",
             "gridcolor": "white",
             "linecolor": "white",
             "minorgridcolor": "white",
             "startlinecolor": "#2a3f5f"
            },
            "baxis": {
             "endlinecolor": "#2a3f5f",
             "gridcolor": "white",
             "linecolor": "white",
             "minorgridcolor": "white",
             "startlinecolor": "#2a3f5f"
            },
            "type": "carpet"
           }
          ],
          "choropleth": [
           {
            "colorbar": {
             "outlinewidth": 0,
             "ticks": ""
            },
            "type": "choropleth"
           }
          ],
          "contour": [
           {
            "colorbar": {
             "outlinewidth": 0,
             "ticks": ""
            },
            "colorscale": [
             [
              0,
              "#0d0887"
             ],
             [
              0.1111111111111111,
              "#46039f"
             ],
             [
              0.2222222222222222,
              "#7201a8"
             ],
             [
              0.3333333333333333,
              "#9c179e"
             ],
             [
              0.4444444444444444,
              "#bd3786"
             ],
             [
              0.5555555555555556,
              "#d8576b"
             ],
             [
              0.6666666666666666,
              "#ed7953"
             ],
             [
              0.7777777777777778,
              "#fb9f3a"
             ],
             [
              0.8888888888888888,
              "#fdca26"
             ],
             [
              1,
              "#f0f921"
             ]
            ],
            "type": "contour"
           }
          ],
          "contourcarpet": [
           {
            "colorbar": {
             "outlinewidth": 0,
             "ticks": ""
            },
            "type": "contourcarpet"
           }
          ],
          "heatmap": [
           {
            "colorbar": {
             "outlinewidth": 0,
             "ticks": ""
            },
            "colorscale": [
             [
              0,
              "#0d0887"
             ],
             [
              0.1111111111111111,
              "#46039f"
             ],
             [
              0.2222222222222222,
              "#7201a8"
             ],
             [
              0.3333333333333333,
              "#9c179e"
             ],
             [
              0.4444444444444444,
              "#bd3786"
             ],
             [
              0.5555555555555556,
              "#d8576b"
             ],
             [
              0.6666666666666666,
              "#ed7953"
             ],
             [
              0.7777777777777778,
              "#fb9f3a"
             ],
             [
              0.8888888888888888,
              "#fdca26"
             ],
             [
              1,
              "#f0f921"
             ]
            ],
            "type": "heatmap"
           }
          ],
          "heatmapgl": [
           {
            "colorbar": {
             "outlinewidth": 0,
             "ticks": ""
            },
            "colorscale": [
             [
              0,
              "#0d0887"
             ],
             [
              0.1111111111111111,
              "#46039f"
             ],
             [
              0.2222222222222222,
              "#7201a8"
             ],
             [
              0.3333333333333333,
              "#9c179e"
             ],
             [
              0.4444444444444444,
              "#bd3786"
             ],
             [
              0.5555555555555556,
              "#d8576b"
             ],
             [
              0.6666666666666666,
              "#ed7953"
             ],
             [
              0.7777777777777778,
              "#fb9f3a"
             ],
             [
              0.8888888888888888,
              "#fdca26"
             ],
             [
              1,
              "#f0f921"
             ]
            ],
            "type": "heatmapgl"
           }
          ],
          "histogram": [
           {
            "marker": {
             "pattern": {
              "fillmode": "overlay",
              "size": 10,
              "solidity": 0.2
             }
            },
            "type": "histogram"
           }
          ],
          "histogram2d": [
           {
            "colorbar": {
             "outlinewidth": 0,
             "ticks": ""
            },
            "colorscale": [
             [
              0,
              "#0d0887"
             ],
             [
              0.1111111111111111,
              "#46039f"
             ],
             [
              0.2222222222222222,
              "#7201a8"
             ],
             [
              0.3333333333333333,
              "#9c179e"
             ],
             [
              0.4444444444444444,
              "#bd3786"
             ],
             [
              0.5555555555555556,
              "#d8576b"
             ],
             [
              0.6666666666666666,
              "#ed7953"
             ],
             [
              0.7777777777777778,
              "#fb9f3a"
             ],
             [
              0.8888888888888888,
              "#fdca26"
             ],
             [
              1,
              "#f0f921"
             ]
            ],
            "type": "histogram2d"
           }
          ],
          "histogram2dcontour": [
           {
            "colorbar": {
             "outlinewidth": 0,
             "ticks": ""
            },
            "colorscale": [
             [
              0,
              "#0d0887"
             ],
             [
              0.1111111111111111,
              "#46039f"
             ],
             [
              0.2222222222222222,
              "#7201a8"
             ],
             [
              0.3333333333333333,
              "#9c179e"
             ],
             [
              0.4444444444444444,
              "#bd3786"
             ],
             [
              0.5555555555555556,
              "#d8576b"
             ],
             [
              0.6666666666666666,
              "#ed7953"
             ],
             [
              0.7777777777777778,
              "#fb9f3a"
             ],
             [
              0.8888888888888888,
              "#fdca26"
             ],
             [
              1,
              "#f0f921"
             ]
            ],
            "type": "histogram2dcontour"
           }
          ],
          "mesh3d": [
           {
            "colorbar": {
             "outlinewidth": 0,
             "ticks": ""
            },
            "type": "mesh3d"
           }
          ],
          "parcoords": [
           {
            "line": {
             "colorbar": {
              "outlinewidth": 0,
              "ticks": ""
             }
            },
            "type": "parcoords"
           }
          ],
          "pie": [
           {
            "automargin": true,
            "type": "pie"
           }
          ],
          "scatter": [
           {
            "fillpattern": {
             "fillmode": "overlay",
             "size": 10,
             "solidity": 0.2
            },
            "type": "scatter"
           }
          ],
          "scatter3d": [
           {
            "line": {
             "colorbar": {
              "outlinewidth": 0,
              "ticks": ""
             }
            },
            "marker": {
             "colorbar": {
              "outlinewidth": 0,
              "ticks": ""
             }
            },
            "type": "scatter3d"
           }
          ],
          "scattercarpet": [
           {
            "marker": {
             "colorbar": {
              "outlinewidth": 0,
              "ticks": ""
             }
            },
            "type": "scattercarpet"
           }
          ],
          "scattergeo": [
           {
            "marker": {
             "colorbar": {
              "outlinewidth": 0,
              "ticks": ""
             }
            },
            "type": "scattergeo"
           }
          ],
          "scattergl": [
           {
            "marker": {
             "colorbar": {
              "outlinewidth": 0,
              "ticks": ""
             }
            },
            "type": "scattergl"
           }
          ],
          "scattermapbox": [
           {
            "marker": {
             "colorbar": {
              "outlinewidth": 0,
              "ticks": ""
             }
            },
            "type": "scattermapbox"
           }
          ],
          "scatterpolar": [
           {
            "marker": {
             "colorbar": {
              "outlinewidth": 0,
              "ticks": ""
             }
            },
            "type": "scatterpolar"
           }
          ],
          "scatterpolargl": [
           {
            "marker": {
             "colorbar": {
              "outlinewidth": 0,
              "ticks": ""
             }
            },
            "type": "scatterpolargl"
           }
          ],
          "scatterternary": [
           {
            "marker": {
             "colorbar": {
              "outlinewidth": 0,
              "ticks": ""
             }
            },
            "type": "scatterternary"
           }
          ],
          "surface": [
           {
            "colorbar": {
             "outlinewidth": 0,
             "ticks": ""
            },
            "colorscale": [
             [
              0,
              "#0d0887"
             ],
             [
              0.1111111111111111,
              "#46039f"
             ],
             [
              0.2222222222222222,
              "#7201a8"
             ],
             [
              0.3333333333333333,
              "#9c179e"
             ],
             [
              0.4444444444444444,
              "#bd3786"
             ],
             [
              0.5555555555555556,
              "#d8576b"
             ],
             [
              0.6666666666666666,
              "#ed7953"
             ],
             [
              0.7777777777777778,
              "#fb9f3a"
             ],
             [
              0.8888888888888888,
              "#fdca26"
             ],
             [
              1,
              "#f0f921"
             ]
            ],
            "type": "surface"
           }
          ],
          "table": [
           {
            "cells": {
             "fill": {
              "color": "#EBF0F8"
             },
             "line": {
              "color": "white"
             }
            },
            "header": {
             "fill": {
              "color": "#C8D4E3"
             },
             "line": {
              "color": "white"
             }
            },
            "type": "table"
           }
          ]
         },
         "layout": {
          "annotationdefaults": {
           "arrowcolor": "#2a3f5f",
           "arrowhead": 0,
           "arrowwidth": 1
          },
          "autotypenumbers": "strict",
          "coloraxis": {
           "colorbar": {
            "outlinewidth": 0,
            "ticks": ""
           }
          },
          "colorscale": {
           "diverging": [
            [
             0,
             "#8e0152"
            ],
            [
             0.1,
             "#c51b7d"
            ],
            [
             0.2,
             "#de77ae"
            ],
            [
             0.3,
             "#f1b6da"
            ],
            [
             0.4,
             "#fde0ef"
            ],
            [
             0.5,
             "#f7f7f7"
            ],
            [
             0.6,
             "#e6f5d0"
            ],
            [
             0.7,
             "#b8e186"
            ],
            [
             0.8,
             "#7fbc41"
            ],
            [
             0.9,
             "#4d9221"
            ],
            [
             1,
             "#276419"
            ]
           ],
           "sequential": [
            [
             0,
             "#0d0887"
            ],
            [
             0.1111111111111111,
             "#46039f"
            ],
            [
             0.2222222222222222,
             "#7201a8"
            ],
            [
             0.3333333333333333,
             "#9c179e"
            ],
            [
             0.4444444444444444,
             "#bd3786"
            ],
            [
             0.5555555555555556,
             "#d8576b"
            ],
            [
             0.6666666666666666,
             "#ed7953"
            ],
            [
             0.7777777777777778,
             "#fb9f3a"
            ],
            [
             0.8888888888888888,
             "#fdca26"
            ],
            [
             1,
             "#f0f921"
            ]
           ],
           "sequentialminus": [
            [
             0,
             "#0d0887"
            ],
            [
             0.1111111111111111,
             "#46039f"
            ],
            [
             0.2222222222222222,
             "#7201a8"
            ],
            [
             0.3333333333333333,
             "#9c179e"
            ],
            [
             0.4444444444444444,
             "#bd3786"
            ],
            [
             0.5555555555555556,
             "#d8576b"
            ],
            [
             0.6666666666666666,
             "#ed7953"
            ],
            [
             0.7777777777777778,
             "#fb9f3a"
            ],
            [
             0.8888888888888888,
             "#fdca26"
            ],
            [
             1,
             "#f0f921"
            ]
           ]
          },
          "colorway": [
           "#636efa",
           "#EF553B",
           "#00cc96",
           "#ab63fa",
           "#FFA15A",
           "#19d3f3",
           "#FF6692",
           "#B6E880",
           "#FF97FF",
           "#FECB52"
          ],
          "font": {
           "color": "#2a3f5f"
          },
          "geo": {
           "bgcolor": "white",
           "lakecolor": "white",
           "landcolor": "#E5ECF6",
           "showlakes": true,
           "showland": true,
           "subunitcolor": "white"
          },
          "hoverlabel": {
           "align": "left"
          },
          "hovermode": "closest",
          "mapbox": {
           "style": "light"
          },
          "paper_bgcolor": "white",
          "plot_bgcolor": "#E5ECF6",
          "polar": {
           "angularaxis": {
            "gridcolor": "white",
            "linecolor": "white",
            "ticks": ""
           },
           "bgcolor": "#E5ECF6",
           "radialaxis": {
            "gridcolor": "white",
            "linecolor": "white",
            "ticks": ""
           }
          },
          "scene": {
           "xaxis": {
            "backgroundcolor": "#E5ECF6",
            "gridcolor": "white",
            "gridwidth": 2,
            "linecolor": "white",
            "showbackground": true,
            "ticks": "",
            "zerolinecolor": "white"
           },
           "yaxis": {
            "backgroundcolor": "#E5ECF6",
            "gridcolor": "white",
            "gridwidth": 2,
            "linecolor": "white",
            "showbackground": true,
            "ticks": "",
            "zerolinecolor": "white"
           },
           "zaxis": {
            "backgroundcolor": "#E5ECF6",
            "gridcolor": "white",
            "gridwidth": 2,
            "linecolor": "white",
            "showbackground": true,
            "ticks": "",
            "zerolinecolor": "white"
           }
          },
          "shapedefaults": {
           "line": {
            "color": "#2a3f5f"
           }
          },
          "ternary": {
           "aaxis": {
            "gridcolor": "white",
            "linecolor": "white",
            "ticks": ""
           },
           "baxis": {
            "gridcolor": "white",
            "linecolor": "white",
            "ticks": ""
           },
           "bgcolor": "#E5ECF6",
           "caxis": {
            "gridcolor": "white",
            "linecolor": "white",
            "ticks": ""
           }
          },
          "title": {
           "x": 0.05
          },
          "xaxis": {
           "automargin": true,
           "gridcolor": "white",
           "linecolor": "white",
           "ticks": "",
           "title": {
            "standoff": 15
           },
           "zerolinecolor": "white",
           "zerolinewidth": 2
          },
          "yaxis": {
           "automargin": true,
           "gridcolor": "white",
           "linecolor": "white",
           "ticks": "",
           "title": {
            "standoff": 15
           },
           "zerolinecolor": "white",
           "zerolinewidth": 2
          }
         }
        },
        "title": {
         "text": "Homicides pour voler et à l'occasion de vols"
        },
        "xaxis": {
         "anchor": "y",
         "domain": [
          0,
          1
         ],
         "range": [
          2001,
          2021
         ],
         "title": {
          "text": "index"
         }
        },
        "yaxis": {
         "anchor": "x",
         "domain": [
          0,
          1
         ],
         "title": {
          "text": "Homicides pour voler et à l'occasion de vols"
         }
        }
       }
      }
     },
     "metadata": {},
     "output_type": "display_data"
    }
   ],
   "source": [
    "fig = px.line(df,x=\"index\" ,\n",
    " y=\"Homicides pour voler et à l'occasion de vols\",\n",
    "  title=\"Homicides pour voler et à l'occasion de vols\")\n",
    "fig.update_layout(xaxis={\"range\":[2001,2021]})\n",
    "fig.write_image(\"./image/Homicides pour voler et à l'occasion de vols.png\")\n",
    "fig.show()"
   ]
  },
  {
   "cell_type": "code",
   "execution_count": 29,
   "id": "9bfc056f",
   "metadata": {},
   "outputs": [
    {
     "data": {
      "application/vnd.plotly.v1+json": {
       "config": {
        "plotlyServerURL": "https://plot.ly"
       },
       "data": [
        {
         "hovertemplate": "index=%{x}<br>Homicides pour d'autres motifs=%{y}<extra></extra>",
         "legendgroup": "",
         "line": {
          "color": "#636efa",
          "dash": "solid"
         },
         "marker": {
          "symbol": "circle"
         },
         "mode": "lines",
         "name": "",
         "orientation": "v",
         "showlegend": false,
         "type": "scatter",
         "x": [
          2000,
          2001,
          2002,
          2003,
          2004,
          2005,
          2006,
          2007,
          2008,
          2009,
          2010,
          2011,
          2012,
          2013,
          2014,
          2015,
          2016,
          2017,
          2018,
          2019,
          2020,
          2021,
          2022
         ],
         "xaxis": "x",
         "y": [
          949,
          905,
          936,
          880,
          894,
          895,
          779,
          803,
          753,
          647,
          653,
          720,
          651,
          649,
          615,
          798,
          834,
          756,
          689,
          848,
          809,
          878,
          533
         ],
         "yaxis": "y"
        }
       ],
       "layout": {
        "legend": {
         "tracegroupgap": 0
        },
        "template": {
         "data": {
          "bar": [
           {
            "error_x": {
             "color": "#2a3f5f"
            },
            "error_y": {
             "color": "#2a3f5f"
            },
            "marker": {
             "line": {
              "color": "#E5ECF6",
              "width": 0.5
             },
             "pattern": {
              "fillmode": "overlay",
              "size": 10,
              "solidity": 0.2
             }
            },
            "type": "bar"
           }
          ],
          "barpolar": [
           {
            "marker": {
             "line": {
              "color": "#E5ECF6",
              "width": 0.5
             },
             "pattern": {
              "fillmode": "overlay",
              "size": 10,
              "solidity": 0.2
             }
            },
            "type": "barpolar"
           }
          ],
          "carpet": [
           {
            "aaxis": {
             "endlinecolor": "#2a3f5f",
             "gridcolor": "white",
             "linecolor": "white",
             "minorgridcolor": "white",
             "startlinecolor": "#2a3f5f"
            },
            "baxis": {
             "endlinecolor": "#2a3f5f",
             "gridcolor": "white",
             "linecolor": "white",
             "minorgridcolor": "white",
             "startlinecolor": "#2a3f5f"
            },
            "type": "carpet"
           }
          ],
          "choropleth": [
           {
            "colorbar": {
             "outlinewidth": 0,
             "ticks": ""
            },
            "type": "choropleth"
           }
          ],
          "contour": [
           {
            "colorbar": {
             "outlinewidth": 0,
             "ticks": ""
            },
            "colorscale": [
             [
              0,
              "#0d0887"
             ],
             [
              0.1111111111111111,
              "#46039f"
             ],
             [
              0.2222222222222222,
              "#7201a8"
             ],
             [
              0.3333333333333333,
              "#9c179e"
             ],
             [
              0.4444444444444444,
              "#bd3786"
             ],
             [
              0.5555555555555556,
              "#d8576b"
             ],
             [
              0.6666666666666666,
              "#ed7953"
             ],
             [
              0.7777777777777778,
              "#fb9f3a"
             ],
             [
              0.8888888888888888,
              "#fdca26"
             ],
             [
              1,
              "#f0f921"
             ]
            ],
            "type": "contour"
           }
          ],
          "contourcarpet": [
           {
            "colorbar": {
             "outlinewidth": 0,
             "ticks": ""
            },
            "type": "contourcarpet"
           }
          ],
          "heatmap": [
           {
            "colorbar": {
             "outlinewidth": 0,
             "ticks": ""
            },
            "colorscale": [
             [
              0,
              "#0d0887"
             ],
             [
              0.1111111111111111,
              "#46039f"
             ],
             [
              0.2222222222222222,
              "#7201a8"
             ],
             [
              0.3333333333333333,
              "#9c179e"
             ],
             [
              0.4444444444444444,
              "#bd3786"
             ],
             [
              0.5555555555555556,
              "#d8576b"
             ],
             [
              0.6666666666666666,
              "#ed7953"
             ],
             [
              0.7777777777777778,
              "#fb9f3a"
             ],
             [
              0.8888888888888888,
              "#fdca26"
             ],
             [
              1,
              "#f0f921"
             ]
            ],
            "type": "heatmap"
           }
          ],
          "heatmapgl": [
           {
            "colorbar": {
             "outlinewidth": 0,
             "ticks": ""
            },
            "colorscale": [
             [
              0,
              "#0d0887"
             ],
             [
              0.1111111111111111,
              "#46039f"
             ],
             [
              0.2222222222222222,
              "#7201a8"
             ],
             [
              0.3333333333333333,
              "#9c179e"
             ],
             [
              0.4444444444444444,
              "#bd3786"
             ],
             [
              0.5555555555555556,
              "#d8576b"
             ],
             [
              0.6666666666666666,
              "#ed7953"
             ],
             [
              0.7777777777777778,
              "#fb9f3a"
             ],
             [
              0.8888888888888888,
              "#fdca26"
             ],
             [
              1,
              "#f0f921"
             ]
            ],
            "type": "heatmapgl"
           }
          ],
          "histogram": [
           {
            "marker": {
             "pattern": {
              "fillmode": "overlay",
              "size": 10,
              "solidity": 0.2
             }
            },
            "type": "histogram"
           }
          ],
          "histogram2d": [
           {
            "colorbar": {
             "outlinewidth": 0,
             "ticks": ""
            },
            "colorscale": [
             [
              0,
              "#0d0887"
             ],
             [
              0.1111111111111111,
              "#46039f"
             ],
             [
              0.2222222222222222,
              "#7201a8"
             ],
             [
              0.3333333333333333,
              "#9c179e"
             ],
             [
              0.4444444444444444,
              "#bd3786"
             ],
             [
              0.5555555555555556,
              "#d8576b"
             ],
             [
              0.6666666666666666,
              "#ed7953"
             ],
             [
              0.7777777777777778,
              "#fb9f3a"
             ],
             [
              0.8888888888888888,
              "#fdca26"
             ],
             [
              1,
              "#f0f921"
             ]
            ],
            "type": "histogram2d"
           }
          ],
          "histogram2dcontour": [
           {
            "colorbar": {
             "outlinewidth": 0,
             "ticks": ""
            },
            "colorscale": [
             [
              0,
              "#0d0887"
             ],
             [
              0.1111111111111111,
              "#46039f"
             ],
             [
              0.2222222222222222,
              "#7201a8"
             ],
             [
              0.3333333333333333,
              "#9c179e"
             ],
             [
              0.4444444444444444,
              "#bd3786"
             ],
             [
              0.5555555555555556,
              "#d8576b"
             ],
             [
              0.6666666666666666,
              "#ed7953"
             ],
             [
              0.7777777777777778,
              "#fb9f3a"
             ],
             [
              0.8888888888888888,
              "#fdca26"
             ],
             [
              1,
              "#f0f921"
             ]
            ],
            "type": "histogram2dcontour"
           }
          ],
          "mesh3d": [
           {
            "colorbar": {
             "outlinewidth": 0,
             "ticks": ""
            },
            "type": "mesh3d"
           }
          ],
          "parcoords": [
           {
            "line": {
             "colorbar": {
              "outlinewidth": 0,
              "ticks": ""
             }
            },
            "type": "parcoords"
           }
          ],
          "pie": [
           {
            "automargin": true,
            "type": "pie"
           }
          ],
          "scatter": [
           {
            "fillpattern": {
             "fillmode": "overlay",
             "size": 10,
             "solidity": 0.2
            },
            "type": "scatter"
           }
          ],
          "scatter3d": [
           {
            "line": {
             "colorbar": {
              "outlinewidth": 0,
              "ticks": ""
             }
            },
            "marker": {
             "colorbar": {
              "outlinewidth": 0,
              "ticks": ""
             }
            },
            "type": "scatter3d"
           }
          ],
          "scattercarpet": [
           {
            "marker": {
             "colorbar": {
              "outlinewidth": 0,
              "ticks": ""
             }
            },
            "type": "scattercarpet"
           }
          ],
          "scattergeo": [
           {
            "marker": {
             "colorbar": {
              "outlinewidth": 0,
              "ticks": ""
             }
            },
            "type": "scattergeo"
           }
          ],
          "scattergl": [
           {
            "marker": {
             "colorbar": {
              "outlinewidth": 0,
              "ticks": ""
             }
            },
            "type": "scattergl"
           }
          ],
          "scattermapbox": [
           {
            "marker": {
             "colorbar": {
              "outlinewidth": 0,
              "ticks": ""
             }
            },
            "type": "scattermapbox"
           }
          ],
          "scatterpolar": [
           {
            "marker": {
             "colorbar": {
              "outlinewidth": 0,
              "ticks": ""
             }
            },
            "type": "scatterpolar"
           }
          ],
          "scatterpolargl": [
           {
            "marker": {
             "colorbar": {
              "outlinewidth": 0,
              "ticks": ""
             }
            },
            "type": "scatterpolargl"
           }
          ],
          "scatterternary": [
           {
            "marker": {
             "colorbar": {
              "outlinewidth": 0,
              "ticks": ""
             }
            },
            "type": "scatterternary"
           }
          ],
          "surface": [
           {
            "colorbar": {
             "outlinewidth": 0,
             "ticks": ""
            },
            "colorscale": [
             [
              0,
              "#0d0887"
             ],
             [
              0.1111111111111111,
              "#46039f"
             ],
             [
              0.2222222222222222,
              "#7201a8"
             ],
             [
              0.3333333333333333,
              "#9c179e"
             ],
             [
              0.4444444444444444,
              "#bd3786"
             ],
             [
              0.5555555555555556,
              "#d8576b"
             ],
             [
              0.6666666666666666,
              "#ed7953"
             ],
             [
              0.7777777777777778,
              "#fb9f3a"
             ],
             [
              0.8888888888888888,
              "#fdca26"
             ],
             [
              1,
              "#f0f921"
             ]
            ],
            "type": "surface"
           }
          ],
          "table": [
           {
            "cells": {
             "fill": {
              "color": "#EBF0F8"
             },
             "line": {
              "color": "white"
             }
            },
            "header": {
             "fill": {
              "color": "#C8D4E3"
             },
             "line": {
              "color": "white"
             }
            },
            "type": "table"
           }
          ]
         },
         "layout": {
          "annotationdefaults": {
           "arrowcolor": "#2a3f5f",
           "arrowhead": 0,
           "arrowwidth": 1
          },
          "autotypenumbers": "strict",
          "coloraxis": {
           "colorbar": {
            "outlinewidth": 0,
            "ticks": ""
           }
          },
          "colorscale": {
           "diverging": [
            [
             0,
             "#8e0152"
            ],
            [
             0.1,
             "#c51b7d"
            ],
            [
             0.2,
             "#de77ae"
            ],
            [
             0.3,
             "#f1b6da"
            ],
            [
             0.4,
             "#fde0ef"
            ],
            [
             0.5,
             "#f7f7f7"
            ],
            [
             0.6,
             "#e6f5d0"
            ],
            [
             0.7,
             "#b8e186"
            ],
            [
             0.8,
             "#7fbc41"
            ],
            [
             0.9,
             "#4d9221"
            ],
            [
             1,
             "#276419"
            ]
           ],
           "sequential": [
            [
             0,
             "#0d0887"
            ],
            [
             0.1111111111111111,
             "#46039f"
            ],
            [
             0.2222222222222222,
             "#7201a8"
            ],
            [
             0.3333333333333333,
             "#9c179e"
            ],
            [
             0.4444444444444444,
             "#bd3786"
            ],
            [
             0.5555555555555556,
             "#d8576b"
            ],
            [
             0.6666666666666666,
             "#ed7953"
            ],
            [
             0.7777777777777778,
             "#fb9f3a"
            ],
            [
             0.8888888888888888,
             "#fdca26"
            ],
            [
             1,
             "#f0f921"
            ]
           ],
           "sequentialminus": [
            [
             0,
             "#0d0887"
            ],
            [
             0.1111111111111111,
             "#46039f"
            ],
            [
             0.2222222222222222,
             "#7201a8"
            ],
            [
             0.3333333333333333,
             "#9c179e"
            ],
            [
             0.4444444444444444,
             "#bd3786"
            ],
            [
             0.5555555555555556,
             "#d8576b"
            ],
            [
             0.6666666666666666,
             "#ed7953"
            ],
            [
             0.7777777777777778,
             "#fb9f3a"
            ],
            [
             0.8888888888888888,
             "#fdca26"
            ],
            [
             1,
             "#f0f921"
            ]
           ]
          },
          "colorway": [
           "#636efa",
           "#EF553B",
           "#00cc96",
           "#ab63fa",
           "#FFA15A",
           "#19d3f3",
           "#FF6692",
           "#B6E880",
           "#FF97FF",
           "#FECB52"
          ],
          "font": {
           "color": "#2a3f5f"
          },
          "geo": {
           "bgcolor": "white",
           "lakecolor": "white",
           "landcolor": "#E5ECF6",
           "showlakes": true,
           "showland": true,
           "subunitcolor": "white"
          },
          "hoverlabel": {
           "align": "left"
          },
          "hovermode": "closest",
          "mapbox": {
           "style": "light"
          },
          "paper_bgcolor": "white",
          "plot_bgcolor": "#E5ECF6",
          "polar": {
           "angularaxis": {
            "gridcolor": "white",
            "linecolor": "white",
            "ticks": ""
           },
           "bgcolor": "#E5ECF6",
           "radialaxis": {
            "gridcolor": "white",
            "linecolor": "white",
            "ticks": ""
           }
          },
          "scene": {
           "xaxis": {
            "backgroundcolor": "#E5ECF6",
            "gridcolor": "white",
            "gridwidth": 2,
            "linecolor": "white",
            "showbackground": true,
            "ticks": "",
            "zerolinecolor": "white"
           },
           "yaxis": {
            "backgroundcolor": "#E5ECF6",
            "gridcolor": "white",
            "gridwidth": 2,
            "linecolor": "white",
            "showbackground": true,
            "ticks": "",
            "zerolinecolor": "white"
           },
           "zaxis": {
            "backgroundcolor": "#E5ECF6",
            "gridcolor": "white",
            "gridwidth": 2,
            "linecolor": "white",
            "showbackground": true,
            "ticks": "",
            "zerolinecolor": "white"
           }
          },
          "shapedefaults": {
           "line": {
            "color": "#2a3f5f"
           }
          },
          "ternary": {
           "aaxis": {
            "gridcolor": "white",
            "linecolor": "white",
            "ticks": ""
           },
           "baxis": {
            "gridcolor": "white",
            "linecolor": "white",
            "ticks": ""
           },
           "bgcolor": "#E5ECF6",
           "caxis": {
            "gridcolor": "white",
            "linecolor": "white",
            "ticks": ""
           }
          },
          "title": {
           "x": 0.05
          },
          "xaxis": {
           "automargin": true,
           "gridcolor": "white",
           "linecolor": "white",
           "ticks": "",
           "title": {
            "standoff": 15
           },
           "zerolinecolor": "white",
           "zerolinewidth": 2
          },
          "yaxis": {
           "automargin": true,
           "gridcolor": "white",
           "linecolor": "white",
           "ticks": "",
           "title": {
            "standoff": 15
           },
           "zerolinecolor": "white",
           "zerolinewidth": 2
          }
         }
        },
        "title": {
         "text": "Homicides pour d'autres motifs"
        },
        "xaxis": {
         "anchor": "y",
         "domain": [
          0,
          1
         ],
         "range": [
          2001,
          2021
         ],
         "title": {
          "text": "index"
         }
        },
        "yaxis": {
         "anchor": "x",
         "domain": [
          0,
          1
         ],
         "title": {
          "text": "Homicides pour d'autres motifs"
         }
        }
       }
      }
     },
     "metadata": {},
     "output_type": "display_data"
    }
   ],
   "source": [
    "fig = px.line(df,x=\"index\" ,\n",
    " y=\"Homicides pour d'autres motifs\",\n",
    "  title=\"Homicides pour d'autres motifs\")\n",
    "fig.update_layout(xaxis={\"range\":[2001,2021]})"
   ]
  }
 ],
 "metadata": {
  "kernelspec": {
   "display_name": "Python 3.9.9 64-bit",
   "language": "python",
   "name": "python3"
  },
  "language_info": {
   "codemirror_mode": {
    "name": "ipython",
    "version": 3
   },
   "file_extension": ".py",
   "mimetype": "text/x-python",
   "name": "python",
   "nbconvert_exporter": "python",
   "pygments_lexer": "ipython3",
   "version": "3.9.9"
  },
  "vscode": {
   "interpreter": {
    "hash": "4d2934ae00091454283c8f9b08c12f09cb4c544bc04d21d50e30b77f63fa4eeb"
   }
  }
 },
 "nbformat": 4,
 "nbformat_minor": 5
}
