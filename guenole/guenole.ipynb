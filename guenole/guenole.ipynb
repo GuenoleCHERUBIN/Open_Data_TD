{
 "cells": [
  {
   "cell_type": "code",
   "execution_count": 2,
   "id": "5a034684",
   "metadata": {},
   "outputs": [],
   "source": [
    "import pandas as pd\n",
    "import numpy as np\n",
    "import plotly as plt\n",
    "import plotly.express as px\n",
    "import kaleido"
   ]
  },
  {
   "cell_type": "code",
   "execution_count": 6,
   "id": "44780ed2",
   "metadata": {},
   "outputs": [
    {
     "name": "stdout",
     "output_type": "stream",
     "text": [
      "2022\n",
      "['France_Entière', 'France_Métro', '01', '02', '03', '04', '05', '06', '07', '08', '09', '10', '11', '12', '13', '14', '15', '16', '17', '18', '19', '2A', '2B', '21', '22', '23', '24', '25', '26', '27', '28', '29', '30', '31', '32', '33', '34', '35', '36', '37', '38', '39', '40', '41', '42', '43', '44', '45', '46', '47', '48', '49', '50', '51', '52', '53', '54', '55', '56', '57', '58', '59', '60', '61', '62', '63', '64', '65', '66', '67', '68', '69', '70', '71', '72', '73', '74', '75', '76', '77', '78', '79', '80', '81', '82', '83', '84', '85', '86', '87', '88', '89', '90', '91', '92', '93', '94', '95', '971', '972', '973', '974', '975', '976', '977', '978', '986', '987', '988']\n"
     ]
    },
    {
     "data": {
      "application/vnd.plotly.v1+json": {
       "config": {
        "plotlyServerURL": "https://plot.ly"
       },
       "data": [
        {
         "hovertemplate": "index=%{x}<br>Autres coups et blessures volontaires criminels ou correctionnels=%{y}<extra></extra>",
         "legendgroup": "",
         "line": {
          "color": "#636efa",
          "dash": "solid"
         },
         "marker": {
          "symbol": "circle"
         },
         "mode": "lines",
         "name": "",
         "orientation": "v",
         "showlegend": false,
         "type": "scatter",
         "x": [
          2000,
          2001,
          2002,
          2003,
          2004,
          2005,
          2006,
          2007,
          2008,
          2009,
          2010,
          2011,
          2012,
          2013,
          2014,
          2015,
          2016,
          2017,
          2018,
          2019,
          2020,
          2021,
          2022
         ],
         "xaxis": "x",
         "y": [
          110422,
          121154,
          129910,
          141700,
          144832,
          157092,
          173666,
          186727,
          199111,
          206160,
          206310,
          206350,
          207411,
          207530,
          211638,
          227151,
          231259,
          239318,
          257140,
          278702,
          282119,
          315694,
          209479
         ],
         "yaxis": "y"
        }
       ],
       "layout": {
        "legend": {
         "tracegroupgap": 0
        },
        "template": {
         "data": {
          "bar": [
           {
            "error_x": {
             "color": "#2a3f5f"
            },
            "error_y": {
             "color": "#2a3f5f"
            },
            "marker": {
             "line": {
              "color": "#E5ECF6",
              "width": 0.5
             },
             "pattern": {
              "fillmode": "overlay",
              "size": 10,
              "solidity": 0.2
             }
            },
            "type": "bar"
           }
          ],
          "barpolar": [
           {
            "marker": {
             "line": {
              "color": "#E5ECF6",
              "width": 0.5
             },
             "pattern": {
              "fillmode": "overlay",
              "size": 10,
              "solidity": 0.2
             }
            },
            "type": "barpolar"
           }
          ],
          "carpet": [
           {
            "aaxis": {
             "endlinecolor": "#2a3f5f",
             "gridcolor": "white",
             "linecolor": "white",
             "minorgridcolor": "white",
             "startlinecolor": "#2a3f5f"
            },
            "baxis": {
             "endlinecolor": "#2a3f5f",
             "gridcolor": "white",
             "linecolor": "white",
             "minorgridcolor": "white",
             "startlinecolor": "#2a3f5f"
            },
            "type": "carpet"
           }
          ],
          "choropleth": [
           {
            "colorbar": {
             "outlinewidth": 0,
             "ticks": ""
            },
            "type": "choropleth"
           }
          ],
          "contour": [
           {
            "colorbar": {
             "outlinewidth": 0,
             "ticks": ""
            },
            "colorscale": [
             [
              0,
              "#0d0887"
             ],
             [
              0.1111111111111111,
              "#46039f"
             ],
             [
              0.2222222222222222,
              "#7201a8"
             ],
             [
              0.3333333333333333,
              "#9c179e"
             ],
             [
              0.4444444444444444,
              "#bd3786"
             ],
             [
              0.5555555555555556,
              "#d8576b"
             ],
             [
              0.6666666666666666,
              "#ed7953"
             ],
             [
              0.7777777777777778,
              "#fb9f3a"
             ],
             [
              0.8888888888888888,
              "#fdca26"
             ],
             [
              1,
              "#f0f921"
             ]
            ],
            "type": "contour"
           }
          ],
          "contourcarpet": [
           {
            "colorbar": {
             "outlinewidth": 0,
             "ticks": ""
            },
            "type": "contourcarpet"
           }
          ],
          "heatmap": [
           {
            "colorbar": {
             "outlinewidth": 0,
             "ticks": ""
            },
            "colorscale": [
             [
              0,
              "#0d0887"
             ],
             [
              0.1111111111111111,
              "#46039f"
             ],
             [
              0.2222222222222222,
              "#7201a8"
             ],
             [
              0.3333333333333333,
              "#9c179e"
             ],
             [
              0.4444444444444444,
              "#bd3786"
             ],
             [
              0.5555555555555556,
              "#d8576b"
             ],
             [
              0.6666666666666666,
              "#ed7953"
             ],
             [
              0.7777777777777778,
              "#fb9f3a"
             ],
             [
              0.8888888888888888,
              "#fdca26"
             ],
             [
              1,
              "#f0f921"
             ]
            ],
            "type": "heatmap"
           }
          ],
          "heatmapgl": [
           {
            "colorbar": {
             "outlinewidth": 0,
             "ticks": ""
            },
            "colorscale": [
             [
              0,
              "#0d0887"
             ],
             [
              0.1111111111111111,
              "#46039f"
             ],
             [
              0.2222222222222222,
              "#7201a8"
             ],
             [
              0.3333333333333333,
              "#9c179e"
             ],
             [
              0.4444444444444444,
              "#bd3786"
             ],
             [
              0.5555555555555556,
              "#d8576b"
             ],
             [
              0.6666666666666666,
              "#ed7953"
             ],
             [
              0.7777777777777778,
              "#fb9f3a"
             ],
             [
              0.8888888888888888,
              "#fdca26"
             ],
             [
              1,
              "#f0f921"
             ]
            ],
            "type": "heatmapgl"
           }
          ],
          "histogram": [
           {
            "marker": {
             "pattern": {
              "fillmode": "overlay",
              "size": 10,
              "solidity": 0.2
             }
            },
            "type": "histogram"
           }
          ],
          "histogram2d": [
           {
            "colorbar": {
             "outlinewidth": 0,
             "ticks": ""
            },
            "colorscale": [
             [
              0,
              "#0d0887"
             ],
             [
              0.1111111111111111,
              "#46039f"
             ],
             [
              0.2222222222222222,
              "#7201a8"
             ],
             [
              0.3333333333333333,
              "#9c179e"
             ],
             [
              0.4444444444444444,
              "#bd3786"
             ],
             [
              0.5555555555555556,
              "#d8576b"
             ],
             [
              0.6666666666666666,
              "#ed7953"
             ],
             [
              0.7777777777777778,
              "#fb9f3a"
             ],
             [
              0.8888888888888888,
              "#fdca26"
             ],
             [
              1,
              "#f0f921"
             ]
            ],
            "type": "histogram2d"
           }
          ],
          "histogram2dcontour": [
           {
            "colorbar": {
             "outlinewidth": 0,
             "ticks": ""
            },
            "colorscale": [
             [
              0,
              "#0d0887"
             ],
             [
              0.1111111111111111,
              "#46039f"
             ],
             [
              0.2222222222222222,
              "#7201a8"
             ],
             [
              0.3333333333333333,
              "#9c179e"
             ],
             [
              0.4444444444444444,
              "#bd3786"
             ],
             [
              0.5555555555555556,
              "#d8576b"
             ],
             [
              0.6666666666666666,
              "#ed7953"
             ],
             [
              0.7777777777777778,
              "#fb9f3a"
             ],
             [
              0.8888888888888888,
              "#fdca26"
             ],
             [
              1,
              "#f0f921"
             ]
            ],
            "type": "histogram2dcontour"
           }
          ],
          "mesh3d": [
           {
            "colorbar": {
             "outlinewidth": 0,
             "ticks": ""
            },
            "type": "mesh3d"
           }
          ],
          "parcoords": [
           {
            "line": {
             "colorbar": {
              "outlinewidth": 0,
              "ticks": ""
             }
            },
            "type": "parcoords"
           }
          ],
          "pie": [
           {
            "automargin": true,
            "type": "pie"
           }
          ],
          "scatter": [
           {
            "fillpattern": {
             "fillmode": "overlay",
             "size": 10,
             "solidity": 0.2
            },
            "type": "scatter"
           }
          ],
          "scatter3d": [
           {
            "line": {
             "colorbar": {
              "outlinewidth": 0,
              "ticks": ""
             }
            },
            "marker": {
             "colorbar": {
              "outlinewidth": 0,
              "ticks": ""
             }
            },
            "type": "scatter3d"
           }
          ],
          "scattercarpet": [
           {
            "marker": {
             "colorbar": {
              "outlinewidth": 0,
              "ticks": ""
             }
            },
            "type": "scattercarpet"
           }
          ],
          "scattergeo": [
           {
            "marker": {
             "colorbar": {
              "outlinewidth": 0,
              "ticks": ""
             }
            },
            "type": "scattergeo"
           }
          ],
          "scattergl": [
           {
            "marker": {
             "colorbar": {
              "outlinewidth": 0,
              "ticks": ""
             }
            },
            "type": "scattergl"
           }
          ],
          "scattermapbox": [
           {
            "marker": {
             "colorbar": {
              "outlinewidth": 0,
              "ticks": ""
             }
            },
            "type": "scattermapbox"
           }
          ],
          "scatterpolar": [
           {
            "marker": {
             "colorbar": {
              "outlinewidth": 0,
              "ticks": ""
             }
            },
            "type": "scatterpolar"
           }
          ],
          "scatterpolargl": [
           {
            "marker": {
             "colorbar": {
              "outlinewidth": 0,
              "ticks": ""
             }
            },
            "type": "scatterpolargl"
           }
          ],
          "scatterternary": [
           {
            "marker": {
             "colorbar": {
              "outlinewidth": 0,
              "ticks": ""
             }
            },
            "type": "scatterternary"
           }
          ],
          "surface": [
           {
            "colorbar": {
             "outlinewidth": 0,
             "ticks": ""
            },
            "colorscale": [
             [
              0,
              "#0d0887"
             ],
             [
              0.1111111111111111,
              "#46039f"
             ],
             [
              0.2222222222222222,
              "#7201a8"
             ],
             [
              0.3333333333333333,
              "#9c179e"
             ],
             [
              0.4444444444444444,
              "#bd3786"
             ],
             [
              0.5555555555555556,
              "#d8576b"
             ],
             [
              0.6666666666666666,
              "#ed7953"
             ],
             [
              0.7777777777777778,
              "#fb9f3a"
             ],
             [
              0.8888888888888888,
              "#fdca26"
             ],
             [
              1,
              "#f0f921"
             ]
            ],
            "type": "surface"
           }
          ],
          "table": [
           {
            "cells": {
             "fill": {
              "color": "#EBF0F8"
             },
             "line": {
              "color": "white"
             }
            },
            "header": {
             "fill": {
              "color": "#C8D4E3"
             },
             "line": {
              "color": "white"
             }
            },
            "type": "table"
           }
          ]
         },
         "layout": {
          "annotationdefaults": {
           "arrowcolor": "#2a3f5f",
           "arrowhead": 0,
           "arrowwidth": 1
          },
          "autotypenumbers": "strict",
          "coloraxis": {
           "colorbar": {
            "outlinewidth": 0,
            "ticks": ""
           }
          },
          "colorscale": {
           "diverging": [
            [
             0,
             "#8e0152"
            ],
            [
             0.1,
             "#c51b7d"
            ],
            [
             0.2,
             "#de77ae"
            ],
            [
             0.3,
             "#f1b6da"
            ],
            [
             0.4,
             "#fde0ef"
            ],
            [
             0.5,
             "#f7f7f7"
            ],
            [
             0.6,
             "#e6f5d0"
            ],
            [
             0.7,
             "#b8e186"
            ],
            [
             0.8,
             "#7fbc41"
            ],
            [
             0.9,
             "#4d9221"
            ],
            [
             1,
             "#276419"
            ]
           ],
           "sequential": [
            [
             0,
             "#0d0887"
            ],
            [
             0.1111111111111111,
             "#46039f"
            ],
            [
             0.2222222222222222,
             "#7201a8"
            ],
            [
             0.3333333333333333,
             "#9c179e"
            ],
            [
             0.4444444444444444,
             "#bd3786"
            ],
            [
             0.5555555555555556,
             "#d8576b"
            ],
            [
             0.6666666666666666,
             "#ed7953"
            ],
            [
             0.7777777777777778,
             "#fb9f3a"
            ],
            [
             0.8888888888888888,
             "#fdca26"
            ],
            [
             1,
             "#f0f921"
            ]
           ],
           "sequentialminus": [
            [
             0,
             "#0d0887"
            ],
            [
             0.1111111111111111,
             "#46039f"
            ],
            [
             0.2222222222222222,
             "#7201a8"
            ],
            [
             0.3333333333333333,
             "#9c179e"
            ],
            [
             0.4444444444444444,
             "#bd3786"
            ],
            [
             0.5555555555555556,
             "#d8576b"
            ],
            [
             0.6666666666666666,
             "#ed7953"
            ],
            [
             0.7777777777777778,
             "#fb9f3a"
            ],
            [
             0.8888888888888888,
             "#fdca26"
            ],
            [
             1,
             "#f0f921"
            ]
           ]
          },
          "colorway": [
           "#636efa",
           "#EF553B",
           "#00cc96",
           "#ab63fa",
           "#FFA15A",
           "#19d3f3",
           "#FF6692",
           "#B6E880",
           "#FF97FF",
           "#FECB52"
          ],
          "font": {
           "color": "#2a3f5f"
          },
          "geo": {
           "bgcolor": "white",
           "lakecolor": "white",
           "landcolor": "#E5ECF6",
           "showlakes": true,
           "showland": true,
           "subunitcolor": "white"
          },
          "hoverlabel": {
           "align": "left"
          },
          "hovermode": "closest",
          "mapbox": {
           "style": "light"
          },
          "paper_bgcolor": "white",
          "plot_bgcolor": "#E5ECF6",
          "polar": {
           "angularaxis": {
            "gridcolor": "white",
            "linecolor": "white",
            "ticks": ""
           },
           "bgcolor": "#E5ECF6",
           "radialaxis": {
            "gridcolor": "white",
            "linecolor": "white",
            "ticks": ""
           }
          },
          "scene": {
           "xaxis": {
            "backgroundcolor": "#E5ECF6",
            "gridcolor": "white",
            "gridwidth": 2,
            "linecolor": "white",
            "showbackground": true,
            "ticks": "",
            "zerolinecolor": "white"
           },
           "yaxis": {
            "backgroundcolor": "#E5ECF6",
            "gridcolor": "white",
            "gridwidth": 2,
            "linecolor": "white",
            "showbackground": true,
            "ticks": "",
            "zerolinecolor": "white"
           },
           "zaxis": {
            "backgroundcolor": "#E5ECF6",
            "gridcolor": "white",
            "gridwidth": 2,
            "linecolor": "white",
            "showbackground": true,
            "ticks": "",
            "zerolinecolor": "white"
           }
          },
          "shapedefaults": {
           "line": {
            "color": "#2a3f5f"
           }
          },
          "ternary": {
           "aaxis": {
            "gridcolor": "white",
            "linecolor": "white",
            "ticks": ""
           },
           "baxis": {
            "gridcolor": "white",
            "linecolor": "white",
            "ticks": ""
           },
           "bgcolor": "#E5ECF6",
           "caxis": {
            "gridcolor": "white",
            "linecolor": "white",
            "ticks": ""
           }
          },
          "title": {
           "x": 0.05
          },
          "xaxis": {
           "automargin": true,
           "gridcolor": "white",
           "linecolor": "white",
           "ticks": "",
           "title": {
            "standoff": 15
           },
           "zerolinecolor": "white",
           "zerolinewidth": 2
          },
          "yaxis": {
           "automargin": true,
           "gridcolor": "white",
           "linecolor": "white",
           "ticks": "",
           "title": {
            "standoff": 15
           },
           "zerolinecolor": "white",
           "zerolinewidth": 2
          }
         }
        },
        "title": {
         "text": "Autres coups et blessures volontaires criminels ou correctionnels"
        },
        "xaxis": {
         "anchor": "y",
         "domain": [
          0,
          1
         ],
         "title": {
          "text": "index"
         }
        },
        "yaxis": {
         "anchor": "x",
         "domain": [
          0,
          1
         ],
         "title": {
          "text": "Autres coups et blessures volontaires criminels ou correctionnels"
         }
        }
       }
      }
     },
     "metadata": {},
     "output_type": "display_data"
    }
   ],
   "source": [
    "od = pd.read_excel(\"./crimes_2000.xlsx\", \"France_Entière\").drop(columns=[\"Index\"])\n",
    "sheetNames = pd.ExcelFile('./crimes_2000.xlsx')\n",
    "\n",
    "csv = od.to_csv(\"data.csv\",index = False)\n",
    "\n",
    "df = pd.read_csv(\"./data.csv\", sep=\",\").set_index(\"libellé index\").transpose()\n",
    "df = df.reset_index()\n",
    "print(df[\"index\"][1].split(\"_\")[1])\n",
    "print(sheetNames.sheet_names)\n",
    "for index, row in df.iterrows():\n",
    "    df = df.replace(df[\"index\"][index],str(df[\"index\"][index].split(\"_\")[1]))\n",
    "\n",
    "df = df.groupby(\"index\").sum()\n",
    "df = df.reset_index()\n",
    "df[\"index\"] = pd.to_numeric(df[\"index\"])\n",
    "fig = px.line(df,x=\"index\" ,\n",
    " y=\"Autres coups et blessures volontaires criminels ou correctionnels\",\n",
    "  title=\"Autres coups et blessures volontaires criminels ou correctionnels\")\n",
    "fig.show()\n",
    "\n",
    "    "
   ]
  },
  {
   "cell_type": "code",
   "execution_count": 65,
   "id": "c424487d",
   "metadata": {},
   "outputs": [
    {
     "name": "stdout",
     "output_type": "stream",
     "text": [
      "2022\n"
     ]
    },
    {
     "data": {
      "text/html": [
       "<div>\n",
       "<style scoped>\n",
       "    .dataframe tbody tr th:only-of-type {\n",
       "        vertical-align: middle;\n",
       "    }\n",
       "\n",
       "    .dataframe tbody tr th {\n",
       "        vertical-align: top;\n",
       "    }\n",
       "\n",
       "    .dataframe thead th {\n",
       "        text-align: right;\n",
       "    }\n",
       "</style>\n",
       "<table border=\"1\" class=\"dataframe\">\n",
       "  <thead>\n",
       "    <tr style=\"text-align: right;\">\n",
       "      <th>libellé index</th>\n",
       "      <th>Règlements de compte entre malfaiteurs</th>\n",
       "      <th>Homicides pour voler et à l'occasion de vols</th>\n",
       "      <th>Homicides pour d'autres motifs</th>\n",
       "      <th>Tentatives d'homicides pour voler et à l'occasion de vols</th>\n",
       "      <th>Tentatives homicides pour d'autres motifs</th>\n",
       "      <th>Coups et blessures volontaires suivis de mort</th>\n",
       "      <th>Autres coups et blessures volontaires criminels ou correctionnels</th>\n",
       "      <th>Prises d'otages à l'occasion de vols</th>\n",
       "      <th>Prises d'otages dans un autre but</th>\n",
       "      <th>Sequestrations</th>\n",
       "      <th>...</th>\n",
       "      <th>Banqueroutes, abus de biens sociaux et autres délits de société</th>\n",
       "      <th>Index non utilisé</th>\n",
       "      <th>Index non utilisé</th>\n",
       "      <th>Prix illicittes, publicité fausse et infractions aux règles de la concurrence</th>\n",
       "      <th>Achats et ventes sans factures</th>\n",
       "      <th>Infractions à l'exercice d'une profession règlementée</th>\n",
       "      <th>Infractions au droit de l'urbanisme et de la construction</th>\n",
       "      <th>Fraudes fiscales</th>\n",
       "      <th>Autres délits économiques et financiers</th>\n",
       "      <th>Autres délits</th>\n",
       "    </tr>\n",
       "    <tr>\n",
       "      <th>index</th>\n",
       "      <th></th>\n",
       "      <th></th>\n",
       "      <th></th>\n",
       "      <th></th>\n",
       "      <th></th>\n",
       "      <th></th>\n",
       "      <th></th>\n",
       "      <th></th>\n",
       "      <th></th>\n",
       "      <th></th>\n",
       "      <th></th>\n",
       "      <th></th>\n",
       "      <th></th>\n",
       "      <th></th>\n",
       "      <th></th>\n",
       "      <th></th>\n",
       "      <th></th>\n",
       "      <th></th>\n",
       "      <th></th>\n",
       "      <th></th>\n",
       "      <th></th>\n",
       "    </tr>\n",
       "  </thead>\n",
       "  <tbody>\n",
       "    <tr>\n",
       "      <th>1996</th>\n",
       "      <td>0.0</td>\n",
       "      <td>0.0</td>\n",
       "      <td>0.0</td>\n",
       "      <td>0.0</td>\n",
       "      <td>0.0</td>\n",
       "      <td>0.0</td>\n",
       "      <td>0.0</td>\n",
       "      <td>0.0</td>\n",
       "      <td>0.0</td>\n",
       "      <td>0.0</td>\n",
       "      <td>...</td>\n",
       "      <td>0.0</td>\n",
       "      <td>0.0</td>\n",
       "      <td>0.0</td>\n",
       "      <td>0.0</td>\n",
       "      <td>0.0</td>\n",
       "      <td>0.0</td>\n",
       "      <td>0.0</td>\n",
       "      <td>0.0</td>\n",
       "      <td>0.0</td>\n",
       "      <td>0.0</td>\n",
       "    </tr>\n",
       "    <tr>\n",
       "      <th>1997</th>\n",
       "      <td>0.0</td>\n",
       "      <td>0.0</td>\n",
       "      <td>0.0</td>\n",
       "      <td>0.0</td>\n",
       "      <td>0.0</td>\n",
       "      <td>0.0</td>\n",
       "      <td>0.0</td>\n",
       "      <td>0.0</td>\n",
       "      <td>0.0</td>\n",
       "      <td>0.0</td>\n",
       "      <td>...</td>\n",
       "      <td>0.0</td>\n",
       "      <td>0.0</td>\n",
       "      <td>0.0</td>\n",
       "      <td>0.0</td>\n",
       "      <td>0.0</td>\n",
       "      <td>0.0</td>\n",
       "      <td>0.0</td>\n",
       "      <td>0.0</td>\n",
       "      <td>0.0</td>\n",
       "      <td>0.0</td>\n",
       "    </tr>\n",
       "    <tr>\n",
       "      <th>1998</th>\n",
       "      <td>0.0</td>\n",
       "      <td>0.0</td>\n",
       "      <td>0.0</td>\n",
       "      <td>0.0</td>\n",
       "      <td>0.0</td>\n",
       "      <td>0.0</td>\n",
       "      <td>0.0</td>\n",
       "      <td>0.0</td>\n",
       "      <td>0.0</td>\n",
       "      <td>0.0</td>\n",
       "      <td>...</td>\n",
       "      <td>0.0</td>\n",
       "      <td>0.0</td>\n",
       "      <td>0.0</td>\n",
       "      <td>0.0</td>\n",
       "      <td>0.0</td>\n",
       "      <td>0.0</td>\n",
       "      <td>0.0</td>\n",
       "      <td>0.0</td>\n",
       "      <td>0.0</td>\n",
       "      <td>0.0</td>\n",
       "    </tr>\n",
       "    <tr>\n",
       "      <th>1999</th>\n",
       "      <td>0.0</td>\n",
       "      <td>0.0</td>\n",
       "      <td>0.0</td>\n",
       "      <td>0.0</td>\n",
       "      <td>0.0</td>\n",
       "      <td>0.0</td>\n",
       "      <td>0.0</td>\n",
       "      <td>0.0</td>\n",
       "      <td>0.0</td>\n",
       "      <td>0.0</td>\n",
       "      <td>...</td>\n",
       "      <td>0.0</td>\n",
       "      <td>0.0</td>\n",
       "      <td>0.0</td>\n",
       "      <td>0.0</td>\n",
       "      <td>0.0</td>\n",
       "      <td>0.0</td>\n",
       "      <td>0.0</td>\n",
       "      <td>0.0</td>\n",
       "      <td>0.0</td>\n",
       "      <td>0.0</td>\n",
       "    </tr>\n",
       "    <tr>\n",
       "      <th>2000</th>\n",
       "      <td>84.0</td>\n",
       "      <td>63.0</td>\n",
       "      <td>949.0</td>\n",
       "      <td>116.0</td>\n",
       "      <td>1059.0</td>\n",
       "      <td>195.0</td>\n",
       "      <td>110422.0</td>\n",
       "      <td>42.0</td>\n",
       "      <td>31.0</td>\n",
       "      <td>1637.0</td>\n",
       "      <td>...</td>\n",
       "      <td>5.0</td>\n",
       "      <td>0.0</td>\n",
       "      <td>0.0</td>\n",
       "      <td>0.0</td>\n",
       "      <td>0.0</td>\n",
       "      <td>1.0</td>\n",
       "      <td>0.0</td>\n",
       "      <td>0.0</td>\n",
       "      <td>0.0</td>\n",
       "      <td>71.0</td>\n",
       "    </tr>\n",
       "    <tr>\n",
       "      <th>2001</th>\n",
       "      <td>109.0</td>\n",
       "      <td>62.0</td>\n",
       "      <td>905.0</td>\n",
       "      <td>112.0</td>\n",
       "      <td>1227.0</td>\n",
       "      <td>237.0</td>\n",
       "      <td>121154.0</td>\n",
       "      <td>44.0</td>\n",
       "      <td>35.0</td>\n",
       "      <td>1855.0</td>\n",
       "      <td>...</td>\n",
       "      <td>7.0</td>\n",
       "      <td>0.0</td>\n",
       "      <td>0.0</td>\n",
       "      <td>1.0</td>\n",
       "      <td>0.0</td>\n",
       "      <td>1.0</td>\n",
       "      <td>2.0</td>\n",
       "      <td>0.0</td>\n",
       "      <td>4.0</td>\n",
       "      <td>92.0</td>\n",
       "    </tr>\n",
       "    <tr>\n",
       "      <th>2002</th>\n",
       "      <td>146.0</td>\n",
       "      <td>54.0</td>\n",
       "      <td>936.0</td>\n",
       "      <td>128.0</td>\n",
       "      <td>1274.0</td>\n",
       "      <td>206.0</td>\n",
       "      <td>129910.0</td>\n",
       "      <td>76.0</td>\n",
       "      <td>37.0</td>\n",
       "      <td>2102.0</td>\n",
       "      <td>...</td>\n",
       "      <td>5.0</td>\n",
       "      <td>0.0</td>\n",
       "      <td>0.0</td>\n",
       "      <td>0.0</td>\n",
       "      <td>0.0</td>\n",
       "      <td>1.0</td>\n",
       "      <td>0.0</td>\n",
       "      <td>0.0</td>\n",
       "      <td>1.0</td>\n",
       "      <td>110.0</td>\n",
       "    </tr>\n",
       "    <tr>\n",
       "      <th>2003</th>\n",
       "      <td>122.0</td>\n",
       "      <td>70.0</td>\n",
       "      <td>880.0</td>\n",
       "      <td>108.0</td>\n",
       "      <td>1215.0</td>\n",
       "      <td>223.0</td>\n",
       "      <td>141700.0</td>\n",
       "      <td>45.0</td>\n",
       "      <td>34.0</td>\n",
       "      <td>2002.0</td>\n",
       "      <td>...</td>\n",
       "      <td>5.0</td>\n",
       "      <td>0.0</td>\n",
       "      <td>0.0</td>\n",
       "      <td>0.0</td>\n",
       "      <td>0.0</td>\n",
       "      <td>0.0</td>\n",
       "      <td>1.0</td>\n",
       "      <td>0.0</td>\n",
       "      <td>3.0</td>\n",
       "      <td>531.0</td>\n",
       "    </tr>\n",
       "    <tr>\n",
       "      <th>2004</th>\n",
       "      <td>123.0</td>\n",
       "      <td>56.0</td>\n",
       "      <td>894.0</td>\n",
       "      <td>81.0</td>\n",
       "      <td>1134.0</td>\n",
       "      <td>219.0</td>\n",
       "      <td>144832.0</td>\n",
       "      <td>49.0</td>\n",
       "      <td>16.0</td>\n",
       "      <td>2132.0</td>\n",
       "      <td>...</td>\n",
       "      <td>3.0</td>\n",
       "      <td>0.0</td>\n",
       "      <td>0.0</td>\n",
       "      <td>1.0</td>\n",
       "      <td>0.0</td>\n",
       "      <td>2.0</td>\n",
       "      <td>1.0</td>\n",
       "      <td>0.0</td>\n",
       "      <td>0.0</td>\n",
       "      <td>433.0</td>\n",
       "    </tr>\n",
       "    <tr>\n",
       "      <th>2005</th>\n",
       "      <td>113.0</td>\n",
       "      <td>51.0</td>\n",
       "      <td>895.0</td>\n",
       "      <td>89.0</td>\n",
       "      <td>1153.0</td>\n",
       "      <td>240.0</td>\n",
       "      <td>157092.0</td>\n",
       "      <td>37.0</td>\n",
       "      <td>27.0</td>\n",
       "      <td>2007.0</td>\n",
       "      <td>...</td>\n",
       "      <td>6.0</td>\n",
       "      <td>0.0</td>\n",
       "      <td>0.0</td>\n",
       "      <td>0.0</td>\n",
       "      <td>1.0</td>\n",
       "      <td>2.0</td>\n",
       "      <td>0.0</td>\n",
       "      <td>0.0</td>\n",
       "      <td>8.0</td>\n",
       "      <td>435.0</td>\n",
       "    </tr>\n",
       "    <tr>\n",
       "      <th>2006</th>\n",
       "      <td>93.0</td>\n",
       "      <td>50.0</td>\n",
       "      <td>779.0</td>\n",
       "      <td>53.0</td>\n",
       "      <td>1127.0</td>\n",
       "      <td>212.0</td>\n",
       "      <td>173666.0</td>\n",
       "      <td>45.0</td>\n",
       "      <td>26.0</td>\n",
       "      <td>2287.0</td>\n",
       "      <td>...</td>\n",
       "      <td>5.0</td>\n",
       "      <td>0.0</td>\n",
       "      <td>0.0</td>\n",
       "      <td>1.0</td>\n",
       "      <td>0.0</td>\n",
       "      <td>4.0</td>\n",
       "      <td>12.0</td>\n",
       "      <td>0.0</td>\n",
       "      <td>6.0</td>\n",
       "      <td>440.0</td>\n",
       "    </tr>\n",
       "    <tr>\n",
       "      <th>2007</th>\n",
       "      <td>63.0</td>\n",
       "      <td>44.0</td>\n",
       "      <td>803.0</td>\n",
       "      <td>67.0</td>\n",
       "      <td>1086.0</td>\n",
       "      <td>203.0</td>\n",
       "      <td>186727.0</td>\n",
       "      <td>22.0</td>\n",
       "      <td>16.0</td>\n",
       "      <td>2135.0</td>\n",
       "      <td>...</td>\n",
       "      <td>6.0</td>\n",
       "      <td>0.0</td>\n",
       "      <td>0.0</td>\n",
       "      <td>0.0</td>\n",
       "      <td>0.0</td>\n",
       "      <td>2.0</td>\n",
       "      <td>0.0</td>\n",
       "      <td>0.0</td>\n",
       "      <td>2.0</td>\n",
       "      <td>431.0</td>\n",
       "    </tr>\n",
       "    <tr>\n",
       "      <th>2008</th>\n",
       "      <td>138.0</td>\n",
       "      <td>37.0</td>\n",
       "      <td>753.0</td>\n",
       "      <td>69.0</td>\n",
       "      <td>1085.0</td>\n",
       "      <td>211.0</td>\n",
       "      <td>199111.0</td>\n",
       "      <td>21.0</td>\n",
       "      <td>21.0</td>\n",
       "      <td>2103.0</td>\n",
       "      <td>...</td>\n",
       "      <td>4.0</td>\n",
       "      <td>0.0</td>\n",
       "      <td>0.0</td>\n",
       "      <td>0.0</td>\n",
       "      <td>0.0</td>\n",
       "      <td>3.0</td>\n",
       "      <td>1.0</td>\n",
       "      <td>0.0</td>\n",
       "      <td>5.0</td>\n",
       "      <td>291.0</td>\n",
       "    </tr>\n",
       "    <tr>\n",
       "      <th>2009</th>\n",
       "      <td>56.0</td>\n",
       "      <td>31.0</td>\n",
       "      <td>647.0</td>\n",
       "      <td>65.0</td>\n",
       "      <td>999.0</td>\n",
       "      <td>163.0</td>\n",
       "      <td>206160.0</td>\n",
       "      <td>25.0</td>\n",
       "      <td>28.0</td>\n",
       "      <td>2094.0</td>\n",
       "      <td>...</td>\n",
       "      <td>7.0</td>\n",
       "      <td>0.0</td>\n",
       "      <td>0.0</td>\n",
       "      <td>0.0</td>\n",
       "      <td>0.0</td>\n",
       "      <td>3.0</td>\n",
       "      <td>1.0</td>\n",
       "      <td>0.0</td>\n",
       "      <td>2.0</td>\n",
       "      <td>226.0</td>\n",
       "    </tr>\n",
       "    <tr>\n",
       "      <th>2010</th>\n",
       "      <td>50.0</td>\n",
       "      <td>42.0</td>\n",
       "      <td>653.0</td>\n",
       "      <td>65.0</td>\n",
       "      <td>1144.0</td>\n",
       "      <td>136.0</td>\n",
       "      <td>206310.0</td>\n",
       "      <td>21.0</td>\n",
       "      <td>17.0</td>\n",
       "      <td>2148.0</td>\n",
       "      <td>...</td>\n",
       "      <td>3.0</td>\n",
       "      <td>0.0</td>\n",
       "      <td>0.0</td>\n",
       "      <td>1.0</td>\n",
       "      <td>0.0</td>\n",
       "      <td>3.0</td>\n",
       "      <td>1.0</td>\n",
       "      <td>0.0</td>\n",
       "      <td>6.0</td>\n",
       "      <td>278.0</td>\n",
       "    </tr>\n",
       "    <tr>\n",
       "      <th>2011</th>\n",
       "      <td>60.0</td>\n",
       "      <td>44.0</td>\n",
       "      <td>720.0</td>\n",
       "      <td>55.0</td>\n",
       "      <td>1259.0</td>\n",
       "      <td>130.0</td>\n",
       "      <td>206350.0</td>\n",
       "      <td>22.0</td>\n",
       "      <td>14.0</td>\n",
       "      <td>2301.0</td>\n",
       "      <td>...</td>\n",
       "      <td>7.0</td>\n",
       "      <td>0.0</td>\n",
       "      <td>0.0</td>\n",
       "      <td>1.0</td>\n",
       "      <td>2.0</td>\n",
       "      <td>4.0</td>\n",
       "      <td>1.0</td>\n",
       "      <td>0.0</td>\n",
       "      <td>10.0</td>\n",
       "      <td>389.0</td>\n",
       "    </tr>\n",
       "    <tr>\n",
       "      <th>2012</th>\n",
       "      <td>73.0</td>\n",
       "      <td>35.0</td>\n",
       "      <td>651.0</td>\n",
       "      <td>71.0</td>\n",
       "      <td>1475.0</td>\n",
       "      <td>140.0</td>\n",
       "      <td>207411.0</td>\n",
       "      <td>25.0</td>\n",
       "      <td>21.0</td>\n",
       "      <td>2161.0</td>\n",
       "      <td>...</td>\n",
       "      <td>2.0</td>\n",
       "      <td>0.0</td>\n",
       "      <td>0.0</td>\n",
       "      <td>0.0</td>\n",
       "      <td>1.0</td>\n",
       "      <td>0.0</td>\n",
       "      <td>0.0</td>\n",
       "      <td>0.0</td>\n",
       "      <td>2.0</td>\n",
       "      <td>362.0</td>\n",
       "    </tr>\n",
       "    <tr>\n",
       "      <th>2013</th>\n",
       "      <td>55.0</td>\n",
       "      <td>33.0</td>\n",
       "      <td>649.0</td>\n",
       "      <td>105.0</td>\n",
       "      <td>1391.0</td>\n",
       "      <td>109.0</td>\n",
       "      <td>207530.0</td>\n",
       "      <td>37.0</td>\n",
       "      <td>29.0</td>\n",
       "      <td>2281.0</td>\n",
       "      <td>...</td>\n",
       "      <td>6.0</td>\n",
       "      <td>0.0</td>\n",
       "      <td>0.0</td>\n",
       "      <td>0.0</td>\n",
       "      <td>0.0</td>\n",
       "      <td>4.0</td>\n",
       "      <td>1.0</td>\n",
       "      <td>0.0</td>\n",
       "      <td>28.0</td>\n",
       "      <td>327.0</td>\n",
       "    </tr>\n",
       "    <tr>\n",
       "      <th>2014</th>\n",
       "      <td>70.0</td>\n",
       "      <td>26.0</td>\n",
       "      <td>615.0</td>\n",
       "      <td>84.0</td>\n",
       "      <td>1584.0</td>\n",
       "      <td>153.0</td>\n",
       "      <td>211638.0</td>\n",
       "      <td>38.0</td>\n",
       "      <td>30.0</td>\n",
       "      <td>2945.0</td>\n",
       "      <td>...</td>\n",
       "      <td>8.0</td>\n",
       "      <td>0.0</td>\n",
       "      <td>0.0</td>\n",
       "      <td>0.0</td>\n",
       "      <td>0.0</td>\n",
       "      <td>5.0</td>\n",
       "      <td>2.0</td>\n",
       "      <td>0.0</td>\n",
       "      <td>26.0</td>\n",
       "      <td>339.0</td>\n",
       "    </tr>\n",
       "    <tr>\n",
       "      <th>2015</th>\n",
       "      <td>56.0</td>\n",
       "      <td>23.0</td>\n",
       "      <td>798.0</td>\n",
       "      <td>99.0</td>\n",
       "      <td>2053.0</td>\n",
       "      <td>140.0</td>\n",
       "      <td>227151.0</td>\n",
       "      <td>36.0</td>\n",
       "      <td>30.0</td>\n",
       "      <td>4093.0</td>\n",
       "      <td>...</td>\n",
       "      <td>4.0</td>\n",
       "      <td>0.0</td>\n",
       "      <td>0.0</td>\n",
       "      <td>0.0</td>\n",
       "      <td>0.0</td>\n",
       "      <td>2.0</td>\n",
       "      <td>5.0</td>\n",
       "      <td>2.0</td>\n",
       "      <td>6.0</td>\n",
       "      <td>518.0</td>\n",
       "    </tr>\n",
       "    <tr>\n",
       "      <th>2016</th>\n",
       "      <td>89.0</td>\n",
       "      <td>43.0</td>\n",
       "      <td>834.0</td>\n",
       "      <td>111.0</td>\n",
       "      <td>2331.0</td>\n",
       "      <td>170.0</td>\n",
       "      <td>231259.0</td>\n",
       "      <td>70.0</td>\n",
       "      <td>62.0</td>\n",
       "      <td>4139.0</td>\n",
       "      <td>...</td>\n",
       "      <td>12.0</td>\n",
       "      <td>0.0</td>\n",
       "      <td>0.0</td>\n",
       "      <td>3.0</td>\n",
       "      <td>0.0</td>\n",
       "      <td>4.0</td>\n",
       "      <td>2.0</td>\n",
       "      <td>0.0</td>\n",
       "      <td>20.0</td>\n",
       "      <td>539.0</td>\n",
       "    </tr>\n",
       "    <tr>\n",
       "      <th>2017</th>\n",
       "      <td>100.0</td>\n",
       "      <td>39.0</td>\n",
       "      <td>756.0</td>\n",
       "      <td>109.0</td>\n",
       "      <td>2488.0</td>\n",
       "      <td>155.0</td>\n",
       "      <td>239318.0</td>\n",
       "      <td>73.0</td>\n",
       "      <td>68.0</td>\n",
       "      <td>4096.0</td>\n",
       "      <td>...</td>\n",
       "      <td>31.0</td>\n",
       "      <td>0.0</td>\n",
       "      <td>0.0</td>\n",
       "      <td>1.0</td>\n",
       "      <td>0.0</td>\n",
       "      <td>4.0</td>\n",
       "      <td>8.0</td>\n",
       "      <td>0.0</td>\n",
       "      <td>31.0</td>\n",
       "      <td>499.0</td>\n",
       "    </tr>\n",
       "    <tr>\n",
       "      <th>2018</th>\n",
       "      <td>113.0</td>\n",
       "      <td>33.0</td>\n",
       "      <td>689.0</td>\n",
       "      <td>122.0</td>\n",
       "      <td>2651.0</td>\n",
       "      <td>200.0</td>\n",
       "      <td>257140.0</td>\n",
       "      <td>93.0</td>\n",
       "      <td>101.0</td>\n",
       "      <td>4285.0</td>\n",
       "      <td>...</td>\n",
       "      <td>13.0</td>\n",
       "      <td>0.0</td>\n",
       "      <td>0.0</td>\n",
       "      <td>1.0</td>\n",
       "      <td>0.0</td>\n",
       "      <td>4.0</td>\n",
       "      <td>21.0</td>\n",
       "      <td>1.0</td>\n",
       "      <td>42.0</td>\n",
       "      <td>548.0</td>\n",
       "    </tr>\n",
       "    <tr>\n",
       "      <th>2019</th>\n",
       "      <td>98.0</td>\n",
       "      <td>35.0</td>\n",
       "      <td>848.0</td>\n",
       "      <td>114.0</td>\n",
       "      <td>2877.0</td>\n",
       "      <td>164.0</td>\n",
       "      <td>278702.0</td>\n",
       "      <td>125.0</td>\n",
       "      <td>147.0</td>\n",
       "      <td>4211.0</td>\n",
       "      <td>...</td>\n",
       "      <td>23.0</td>\n",
       "      <td>0.0</td>\n",
       "      <td>0.0</td>\n",
       "      <td>0.0</td>\n",
       "      <td>1.0</td>\n",
       "      <td>6.0</td>\n",
       "      <td>11.0</td>\n",
       "      <td>1.0</td>\n",
       "      <td>68.0</td>\n",
       "      <td>632.0</td>\n",
       "    </tr>\n",
       "    <tr>\n",
       "      <th>2020</th>\n",
       "      <td>112.0</td>\n",
       "      <td>41.0</td>\n",
       "      <td>809.0</td>\n",
       "      <td>138.0</td>\n",
       "      <td>3186.0</td>\n",
       "      <td>152.0</td>\n",
       "      <td>282119.0</td>\n",
       "      <td>103.0</td>\n",
       "      <td>172.0</td>\n",
       "      <td>4192.0</td>\n",
       "      <td>...</td>\n",
       "      <td>17.0</td>\n",
       "      <td>0.0</td>\n",
       "      <td>0.0</td>\n",
       "      <td>0.0</td>\n",
       "      <td>1.0</td>\n",
       "      <td>2.0</td>\n",
       "      <td>8.0</td>\n",
       "      <td>0.0</td>\n",
       "      <td>57.0</td>\n",
       "      <td>601.0</td>\n",
       "    </tr>\n",
       "    <tr>\n",
       "      <th>2021</th>\n",
       "      <td>106.0</td>\n",
       "      <td>30.0</td>\n",
       "      <td>878.0</td>\n",
       "      <td>144.0</td>\n",
       "      <td>3305.0</td>\n",
       "      <td>170.0</td>\n",
       "      <td>315694.0</td>\n",
       "      <td>108.0</td>\n",
       "      <td>184.0</td>\n",
       "      <td>4798.0</td>\n",
       "      <td>...</td>\n",
       "      <td>20.0</td>\n",
       "      <td>0.0</td>\n",
       "      <td>0.0</td>\n",
       "      <td>0.0</td>\n",
       "      <td>3.0</td>\n",
       "      <td>8.0</td>\n",
       "      <td>6.0</td>\n",
       "      <td>3.0</td>\n",
       "      <td>27.0</td>\n",
       "      <td>662.0</td>\n",
       "    </tr>\n",
       "    <tr>\n",
       "      <th>2022</th>\n",
       "      <td>86.0</td>\n",
       "      <td>22.0</td>\n",
       "      <td>533.0</td>\n",
       "      <td>82.0</td>\n",
       "      <td>2132.0</td>\n",
       "      <td>134.0</td>\n",
       "      <td>209479.0</td>\n",
       "      <td>65.0</td>\n",
       "      <td>134.0</td>\n",
       "      <td>2988.0</td>\n",
       "      <td>...</td>\n",
       "      <td>18.0</td>\n",
       "      <td>0.0</td>\n",
       "      <td>0.0</td>\n",
       "      <td>1.0</td>\n",
       "      <td>1.0</td>\n",
       "      <td>3.0</td>\n",
       "      <td>2.0</td>\n",
       "      <td>1.0</td>\n",
       "      <td>25.0</td>\n",
       "      <td>444.0</td>\n",
       "    </tr>\n",
       "  </tbody>\n",
       "</table>\n",
       "<p>27 rows × 11663 columns</p>\n",
       "</div>"
      ],
      "text/plain": [
       "libellé index  Règlements de compte entre malfaiteurs  \\\n",
       "index                                                   \n",
       "1996                                              0.0   \n",
       "1997                                              0.0   \n",
       "1998                                              0.0   \n",
       "1999                                              0.0   \n",
       "2000                                             84.0   \n",
       "2001                                            109.0   \n",
       "2002                                            146.0   \n",
       "2003                                            122.0   \n",
       "2004                                            123.0   \n",
       "2005                                            113.0   \n",
       "2006                                             93.0   \n",
       "2007                                             63.0   \n",
       "2008                                            138.0   \n",
       "2009                                             56.0   \n",
       "2010                                             50.0   \n",
       "2011                                             60.0   \n",
       "2012                                             73.0   \n",
       "2013                                             55.0   \n",
       "2014                                             70.0   \n",
       "2015                                             56.0   \n",
       "2016                                             89.0   \n",
       "2017                                            100.0   \n",
       "2018                                            113.0   \n",
       "2019                                             98.0   \n",
       "2020                                            112.0   \n",
       "2021                                            106.0   \n",
       "2022                                             86.0   \n",
       "\n",
       "libellé index  Homicides pour voler et à l'occasion de vols  \\\n",
       "index                                                         \n",
       "1996                                                    0.0   \n",
       "1997                                                    0.0   \n",
       "1998                                                    0.0   \n",
       "1999                                                    0.0   \n",
       "2000                                                   63.0   \n",
       "2001                                                   62.0   \n",
       "2002                                                   54.0   \n",
       "2003                                                   70.0   \n",
       "2004                                                   56.0   \n",
       "2005                                                   51.0   \n",
       "2006                                                   50.0   \n",
       "2007                                                   44.0   \n",
       "2008                                                   37.0   \n",
       "2009                                                   31.0   \n",
       "2010                                                   42.0   \n",
       "2011                                                   44.0   \n",
       "2012                                                   35.0   \n",
       "2013                                                   33.0   \n",
       "2014                                                   26.0   \n",
       "2015                                                   23.0   \n",
       "2016                                                   43.0   \n",
       "2017                                                   39.0   \n",
       "2018                                                   33.0   \n",
       "2019                                                   35.0   \n",
       "2020                                                   41.0   \n",
       "2021                                                   30.0   \n",
       "2022                                                   22.0   \n",
       "\n",
       "libellé index  Homicides pour d'autres motifs  \\\n",
       "index                                           \n",
       "1996                                      0.0   \n",
       "1997                                      0.0   \n",
       "1998                                      0.0   \n",
       "1999                                      0.0   \n",
       "2000                                    949.0   \n",
       "2001                                    905.0   \n",
       "2002                                    936.0   \n",
       "2003                                    880.0   \n",
       "2004                                    894.0   \n",
       "2005                                    895.0   \n",
       "2006                                    779.0   \n",
       "2007                                    803.0   \n",
       "2008                                    753.0   \n",
       "2009                                    647.0   \n",
       "2010                                    653.0   \n",
       "2011                                    720.0   \n",
       "2012                                    651.0   \n",
       "2013                                    649.0   \n",
       "2014                                    615.0   \n",
       "2015                                    798.0   \n",
       "2016                                    834.0   \n",
       "2017                                    756.0   \n",
       "2018                                    689.0   \n",
       "2019                                    848.0   \n",
       "2020                                    809.0   \n",
       "2021                                    878.0   \n",
       "2022                                    533.0   \n",
       "\n",
       "libellé index  Tentatives d'homicides pour voler et à l'occasion de vols  \\\n",
       "index                                                                      \n",
       "1996                                                         0.0           \n",
       "1997                                                         0.0           \n",
       "1998                                                         0.0           \n",
       "1999                                                         0.0           \n",
       "2000                                                       116.0           \n",
       "2001                                                       112.0           \n",
       "2002                                                       128.0           \n",
       "2003                                                       108.0           \n",
       "2004                                                        81.0           \n",
       "2005                                                        89.0           \n",
       "2006                                                        53.0           \n",
       "2007                                                        67.0           \n",
       "2008                                                        69.0           \n",
       "2009                                                        65.0           \n",
       "2010                                                        65.0           \n",
       "2011                                                        55.0           \n",
       "2012                                                        71.0           \n",
       "2013                                                       105.0           \n",
       "2014                                                        84.0           \n",
       "2015                                                        99.0           \n",
       "2016                                                       111.0           \n",
       "2017                                                       109.0           \n",
       "2018                                                       122.0           \n",
       "2019                                                       114.0           \n",
       "2020                                                       138.0           \n",
       "2021                                                       144.0           \n",
       "2022                                                        82.0           \n",
       "\n",
       "libellé index  Tentatives homicides pour d'autres motifs  \\\n",
       "index                                                      \n",
       "1996                                                 0.0   \n",
       "1997                                                 0.0   \n",
       "1998                                                 0.0   \n",
       "1999                                                 0.0   \n",
       "2000                                              1059.0   \n",
       "2001                                              1227.0   \n",
       "2002                                              1274.0   \n",
       "2003                                              1215.0   \n",
       "2004                                              1134.0   \n",
       "2005                                              1153.0   \n",
       "2006                                              1127.0   \n",
       "2007                                              1086.0   \n",
       "2008                                              1085.0   \n",
       "2009                                               999.0   \n",
       "2010                                              1144.0   \n",
       "2011                                              1259.0   \n",
       "2012                                              1475.0   \n",
       "2013                                              1391.0   \n",
       "2014                                              1584.0   \n",
       "2015                                              2053.0   \n",
       "2016                                              2331.0   \n",
       "2017                                              2488.0   \n",
       "2018                                              2651.0   \n",
       "2019                                              2877.0   \n",
       "2020                                              3186.0   \n",
       "2021                                              3305.0   \n",
       "2022                                              2132.0   \n",
       "\n",
       "libellé index  Coups et blessures volontaires suivis de mort  \\\n",
       "index                                                          \n",
       "1996                                                     0.0   \n",
       "1997                                                     0.0   \n",
       "1998                                                     0.0   \n",
       "1999                                                     0.0   \n",
       "2000                                                   195.0   \n",
       "2001                                                   237.0   \n",
       "2002                                                   206.0   \n",
       "2003                                                   223.0   \n",
       "2004                                                   219.0   \n",
       "2005                                                   240.0   \n",
       "2006                                                   212.0   \n",
       "2007                                                   203.0   \n",
       "2008                                                   211.0   \n",
       "2009                                                   163.0   \n",
       "2010                                                   136.0   \n",
       "2011                                                   130.0   \n",
       "2012                                                   140.0   \n",
       "2013                                                   109.0   \n",
       "2014                                                   153.0   \n",
       "2015                                                   140.0   \n",
       "2016                                                   170.0   \n",
       "2017                                                   155.0   \n",
       "2018                                                   200.0   \n",
       "2019                                                   164.0   \n",
       "2020                                                   152.0   \n",
       "2021                                                   170.0   \n",
       "2022                                                   134.0   \n",
       "\n",
       "libellé index  Autres coups et blessures volontaires criminels ou correctionnels  \\\n",
       "index                                                                              \n",
       "1996                                                         0.0                   \n",
       "1997                                                         0.0                   \n",
       "1998                                                         0.0                   \n",
       "1999                                                         0.0                   \n",
       "2000                                                    110422.0                   \n",
       "2001                                                    121154.0                   \n",
       "2002                                                    129910.0                   \n",
       "2003                                                    141700.0                   \n",
       "2004                                                    144832.0                   \n",
       "2005                                                    157092.0                   \n",
       "2006                                                    173666.0                   \n",
       "2007                                                    186727.0                   \n",
       "2008                                                    199111.0                   \n",
       "2009                                                    206160.0                   \n",
       "2010                                                    206310.0                   \n",
       "2011                                                    206350.0                   \n",
       "2012                                                    207411.0                   \n",
       "2013                                                    207530.0                   \n",
       "2014                                                    211638.0                   \n",
       "2015                                                    227151.0                   \n",
       "2016                                                    231259.0                   \n",
       "2017                                                    239318.0                   \n",
       "2018                                                    257140.0                   \n",
       "2019                                                    278702.0                   \n",
       "2020                                                    282119.0                   \n",
       "2021                                                    315694.0                   \n",
       "2022                                                    209479.0                   \n",
       "\n",
       "libellé index  Prises d'otages à l'occasion de vols  \\\n",
       "index                                                 \n",
       "1996                                            0.0   \n",
       "1997                                            0.0   \n",
       "1998                                            0.0   \n",
       "1999                                            0.0   \n",
       "2000                                           42.0   \n",
       "2001                                           44.0   \n",
       "2002                                           76.0   \n",
       "2003                                           45.0   \n",
       "2004                                           49.0   \n",
       "2005                                           37.0   \n",
       "2006                                           45.0   \n",
       "2007                                           22.0   \n",
       "2008                                           21.0   \n",
       "2009                                           25.0   \n",
       "2010                                           21.0   \n",
       "2011                                           22.0   \n",
       "2012                                           25.0   \n",
       "2013                                           37.0   \n",
       "2014                                           38.0   \n",
       "2015                                           36.0   \n",
       "2016                                           70.0   \n",
       "2017                                           73.0   \n",
       "2018                                           93.0   \n",
       "2019                                          125.0   \n",
       "2020                                          103.0   \n",
       "2021                                          108.0   \n",
       "2022                                           65.0   \n",
       "\n",
       "libellé index  Prises d'otages dans un autre but  Sequestrations  ...  \\\n",
       "index                                                             ...   \n",
       "1996                                         0.0             0.0  ...   \n",
       "1997                                         0.0             0.0  ...   \n",
       "1998                                         0.0             0.0  ...   \n",
       "1999                                         0.0             0.0  ...   \n",
       "2000                                        31.0          1637.0  ...   \n",
       "2001                                        35.0          1855.0  ...   \n",
       "2002                                        37.0          2102.0  ...   \n",
       "2003                                        34.0          2002.0  ...   \n",
       "2004                                        16.0          2132.0  ...   \n",
       "2005                                        27.0          2007.0  ...   \n",
       "2006                                        26.0          2287.0  ...   \n",
       "2007                                        16.0          2135.0  ...   \n",
       "2008                                        21.0          2103.0  ...   \n",
       "2009                                        28.0          2094.0  ...   \n",
       "2010                                        17.0          2148.0  ...   \n",
       "2011                                        14.0          2301.0  ...   \n",
       "2012                                        21.0          2161.0  ...   \n",
       "2013                                        29.0          2281.0  ...   \n",
       "2014                                        30.0          2945.0  ...   \n",
       "2015                                        30.0          4093.0  ...   \n",
       "2016                                        62.0          4139.0  ...   \n",
       "2017                                        68.0          4096.0  ...   \n",
       "2018                                       101.0          4285.0  ...   \n",
       "2019                                       147.0          4211.0  ...   \n",
       "2020                                       172.0          4192.0  ...   \n",
       "2021                                       184.0          4798.0  ...   \n",
       "2022                                       134.0          2988.0  ...   \n",
       "\n",
       "libellé index  Banqueroutes, abus de biens sociaux et autres délits de société  \\\n",
       "index                                                                            \n",
       "1996                                                         0.0                 \n",
       "1997                                                         0.0                 \n",
       "1998                                                         0.0                 \n",
       "1999                                                         0.0                 \n",
       "2000                                                         5.0                 \n",
       "2001                                                         7.0                 \n",
       "2002                                                         5.0                 \n",
       "2003                                                         5.0                 \n",
       "2004                                                         3.0                 \n",
       "2005                                                         6.0                 \n",
       "2006                                                         5.0                 \n",
       "2007                                                         6.0                 \n",
       "2008                                                         4.0                 \n",
       "2009                                                         7.0                 \n",
       "2010                                                         3.0                 \n",
       "2011                                                         7.0                 \n",
       "2012                                                         2.0                 \n",
       "2013                                                         6.0                 \n",
       "2014                                                         8.0                 \n",
       "2015                                                         4.0                 \n",
       "2016                                                        12.0                 \n",
       "2017                                                        31.0                 \n",
       "2018                                                        13.0                 \n",
       "2019                                                        23.0                 \n",
       "2020                                                        17.0                 \n",
       "2021                                                        20.0                 \n",
       "2022                                                        18.0                 \n",
       "\n",
       "libellé index  Index non utilisé  Index non utilisé  \\\n",
       "index                                                 \n",
       "1996                         0.0                0.0   \n",
       "1997                         0.0                0.0   \n",
       "1998                         0.0                0.0   \n",
       "1999                         0.0                0.0   \n",
       "2000                         0.0                0.0   \n",
       "2001                         0.0                0.0   \n",
       "2002                         0.0                0.0   \n",
       "2003                         0.0                0.0   \n",
       "2004                         0.0                0.0   \n",
       "2005                         0.0                0.0   \n",
       "2006                         0.0                0.0   \n",
       "2007                         0.0                0.0   \n",
       "2008                         0.0                0.0   \n",
       "2009                         0.0                0.0   \n",
       "2010                         0.0                0.0   \n",
       "2011                         0.0                0.0   \n",
       "2012                         0.0                0.0   \n",
       "2013                         0.0                0.0   \n",
       "2014                         0.0                0.0   \n",
       "2015                         0.0                0.0   \n",
       "2016                         0.0                0.0   \n",
       "2017                         0.0                0.0   \n",
       "2018                         0.0                0.0   \n",
       "2019                         0.0                0.0   \n",
       "2020                         0.0                0.0   \n",
       "2021                         0.0                0.0   \n",
       "2022                         0.0                0.0   \n",
       "\n",
       "libellé index  Prix illicittes, publicité fausse et infractions aux règles de la concurrence  \\\n",
       "index                                                                                          \n",
       "1996                                                         0.0                               \n",
       "1997                                                         0.0                               \n",
       "1998                                                         0.0                               \n",
       "1999                                                         0.0                               \n",
       "2000                                                         0.0                               \n",
       "2001                                                         1.0                               \n",
       "2002                                                         0.0                               \n",
       "2003                                                         0.0                               \n",
       "2004                                                         1.0                               \n",
       "2005                                                         0.0                               \n",
       "2006                                                         1.0                               \n",
       "2007                                                         0.0                               \n",
       "2008                                                         0.0                               \n",
       "2009                                                         0.0                               \n",
       "2010                                                         1.0                               \n",
       "2011                                                         1.0                               \n",
       "2012                                                         0.0                               \n",
       "2013                                                         0.0                               \n",
       "2014                                                         0.0                               \n",
       "2015                                                         0.0                               \n",
       "2016                                                         3.0                               \n",
       "2017                                                         1.0                               \n",
       "2018                                                         1.0                               \n",
       "2019                                                         0.0                               \n",
       "2020                                                         0.0                               \n",
       "2021                                                         0.0                               \n",
       "2022                                                         1.0                               \n",
       "\n",
       "libellé index  Achats et ventes sans factures  \\\n",
       "index                                           \n",
       "1996                                      0.0   \n",
       "1997                                      0.0   \n",
       "1998                                      0.0   \n",
       "1999                                      0.0   \n",
       "2000                                      0.0   \n",
       "2001                                      0.0   \n",
       "2002                                      0.0   \n",
       "2003                                      0.0   \n",
       "2004                                      0.0   \n",
       "2005                                      1.0   \n",
       "2006                                      0.0   \n",
       "2007                                      0.0   \n",
       "2008                                      0.0   \n",
       "2009                                      0.0   \n",
       "2010                                      0.0   \n",
       "2011                                      2.0   \n",
       "2012                                      1.0   \n",
       "2013                                      0.0   \n",
       "2014                                      0.0   \n",
       "2015                                      0.0   \n",
       "2016                                      0.0   \n",
       "2017                                      0.0   \n",
       "2018                                      0.0   \n",
       "2019                                      1.0   \n",
       "2020                                      1.0   \n",
       "2021                                      3.0   \n",
       "2022                                      1.0   \n",
       "\n",
       "libellé index  Infractions à l'exercice d'une profession règlementée  \\\n",
       "index                                                                  \n",
       "1996                                                         0.0       \n",
       "1997                                                         0.0       \n",
       "1998                                                         0.0       \n",
       "1999                                                         0.0       \n",
       "2000                                                         1.0       \n",
       "2001                                                         1.0       \n",
       "2002                                                         1.0       \n",
       "2003                                                         0.0       \n",
       "2004                                                         2.0       \n",
       "2005                                                         2.0       \n",
       "2006                                                         4.0       \n",
       "2007                                                         2.0       \n",
       "2008                                                         3.0       \n",
       "2009                                                         3.0       \n",
       "2010                                                         3.0       \n",
       "2011                                                         4.0       \n",
       "2012                                                         0.0       \n",
       "2013                                                         4.0       \n",
       "2014                                                         5.0       \n",
       "2015                                                         2.0       \n",
       "2016                                                         4.0       \n",
       "2017                                                         4.0       \n",
       "2018                                                         4.0       \n",
       "2019                                                         6.0       \n",
       "2020                                                         2.0       \n",
       "2021                                                         8.0       \n",
       "2022                                                         3.0       \n",
       "\n",
       "libellé index  Infractions au droit de l'urbanisme et de la construction  \\\n",
       "index                                                                      \n",
       "1996                                                         0.0           \n",
       "1997                                                         0.0           \n",
       "1998                                                         0.0           \n",
       "1999                                                         0.0           \n",
       "2000                                                         0.0           \n",
       "2001                                                         2.0           \n",
       "2002                                                         0.0           \n",
       "2003                                                         1.0           \n",
       "2004                                                         1.0           \n",
       "2005                                                         0.0           \n",
       "2006                                                        12.0           \n",
       "2007                                                         0.0           \n",
       "2008                                                         1.0           \n",
       "2009                                                         1.0           \n",
       "2010                                                         1.0           \n",
       "2011                                                         1.0           \n",
       "2012                                                         0.0           \n",
       "2013                                                         1.0           \n",
       "2014                                                         2.0           \n",
       "2015                                                         5.0           \n",
       "2016                                                         2.0           \n",
       "2017                                                         8.0           \n",
       "2018                                                        21.0           \n",
       "2019                                                        11.0           \n",
       "2020                                                         8.0           \n",
       "2021                                                         6.0           \n",
       "2022                                                         2.0           \n",
       "\n",
       "libellé index  Fraudes fiscales  Autres délits économiques et financiers  \\\n",
       "index                                                                      \n",
       "1996                        0.0                                      0.0   \n",
       "1997                        0.0                                      0.0   \n",
       "1998                        0.0                                      0.0   \n",
       "1999                        0.0                                      0.0   \n",
       "2000                        0.0                                      0.0   \n",
       "2001                        0.0                                      4.0   \n",
       "2002                        0.0                                      1.0   \n",
       "2003                        0.0                                      3.0   \n",
       "2004                        0.0                                      0.0   \n",
       "2005                        0.0                                      8.0   \n",
       "2006                        0.0                                      6.0   \n",
       "2007                        0.0                                      2.0   \n",
       "2008                        0.0                                      5.0   \n",
       "2009                        0.0                                      2.0   \n",
       "2010                        0.0                                      6.0   \n",
       "2011                        0.0                                     10.0   \n",
       "2012                        0.0                                      2.0   \n",
       "2013                        0.0                                     28.0   \n",
       "2014                        0.0                                     26.0   \n",
       "2015                        2.0                                      6.0   \n",
       "2016                        0.0                                     20.0   \n",
       "2017                        0.0                                     31.0   \n",
       "2018                        1.0                                     42.0   \n",
       "2019                        1.0                                     68.0   \n",
       "2020                        0.0                                     57.0   \n",
       "2021                        3.0                                     27.0   \n",
       "2022                        1.0                                     25.0   \n",
       "\n",
       "libellé index  Autres délits  \n",
       "index                         \n",
       "1996                     0.0  \n",
       "1997                     0.0  \n",
       "1998                     0.0  \n",
       "1999                     0.0  \n",
       "2000                    71.0  \n",
       "2001                    92.0  \n",
       "2002                   110.0  \n",
       "2003                   531.0  \n",
       "2004                   433.0  \n",
       "2005                   435.0  \n",
       "2006                   440.0  \n",
       "2007                   431.0  \n",
       "2008                   291.0  \n",
       "2009                   226.0  \n",
       "2010                   278.0  \n",
       "2011                   389.0  \n",
       "2012                   362.0  \n",
       "2013                   327.0  \n",
       "2014                   339.0  \n",
       "2015                   518.0  \n",
       "2016                   539.0  \n",
       "2017                   499.0  \n",
       "2018                   548.0  \n",
       "2019                   632.0  \n",
       "2020                   601.0  \n",
       "2021                   662.0  \n",
       "2022                   444.0  \n",
       "\n",
       "[27 rows x 11663 columns]"
      ]
     },
     "execution_count": 65,
     "metadata": {},
     "output_type": "execute_result"
    }
   ],
   "source": [
    "#pas bon car on récupère \"France_Entière\", \"France_Métro\", ainsi que les 105 départements.\n",
    "df = pd.concat(pd.read_excel(\"./crimes_2000.xlsx\", sheet_name=None),ignore_index=True).drop(columns=\"Index\")\n",
    "\n",
    "csv = df.to_csv(\"data.csv\",index = False)\n",
    "\n",
    "df = pd.read_csv(\"./data.csv\", sep=\",\").set_index(\"libellé index\").transpose()\n",
    "df = df.reset_index()\n",
    "print(df[\"index\"][1].split(\"_\")[1])\n",
    "for index, row in df.iterrows():\n",
    "    df = df.replace(df[\"index\"][index],str(df[\"index\"][index].split(\"_\")[1]))\n",
    "\n",
    "df = df.groupby(\"index\").sum()\n",
    "df"
   ]
  },
  {
   "cell_type": "code",
   "execution_count": 109,
   "metadata": {},
   "outputs": [
    {
     "name": "stdout",
     "output_type": "stream",
     "text": [
      "2022\n"
     ]
    },
    {
     "data": {
      "text/html": [
       "<div>\n",
       "<style scoped>\n",
       "    .dataframe tbody tr th:only-of-type {\n",
       "        vertical-align: middle;\n",
       "    }\n",
       "\n",
       "    .dataframe tbody tr th {\n",
       "        vertical-align: top;\n",
       "    }\n",
       "\n",
       "    .dataframe thead th {\n",
       "        text-align: right;\n",
       "    }\n",
       "</style>\n",
       "<table border=\"1\" class=\"dataframe\">\n",
       "  <thead>\n",
       "    <tr style=\"text-align: right;\">\n",
       "      <th>libellé index</th>\n",
       "      <th>Achats et ventes sans factures</th>\n",
       "      <th>Aide à l'entrée, à la circulation et au séjour des étrangers</th>\n",
       "      <th>Atteintes aux intérêts fondamentaux de la Nation</th>\n",
       "      <th>Atteintes sexuelles</th>\n",
       "      <th>Atteintes à l'environnement</th>\n",
       "      <th>Atteintes à la dignité et à la personnalité</th>\n",
       "      <th>Attentats à l'explosif contre des biens privés</th>\n",
       "      <th>Attentats à l'explosif contre des biens publics</th>\n",
       "      <th>Autres coups et blessures volontaires criminels ou correctionnels</th>\n",
       "      <th>Autres destructions er dégradations de biens privés</th>\n",
       "      <th>...</th>\n",
       "      <th>Vols violents sans arme contre des femmes sur voie publique ou autre lieu public</th>\n",
       "      <th>Vols violents sans arme contre des particuliers à leur domicile</th>\n",
       "      <th>Vols violents sans arme contre des établissements financiers,commerciaux ou industriels</th>\n",
       "      <th>Vols à l'étalage</th>\n",
       "      <th>Vols à la roulotte</th>\n",
       "      <th>Vols à la tire</th>\n",
       "      <th>Vols à main armée contre des entreprises de transports de fonds</th>\n",
       "      <th>Vols à main armée contre des particuliers à leur domicile</th>\n",
       "      <th>Vols à main armée contre des établissements financiers</th>\n",
       "      <th>Vols à main armée contre des établissements industriels ou commerciaux</th>\n",
       "    </tr>\n",
       "    <tr>\n",
       "      <th>index</th>\n",
       "      <th></th>\n",
       "      <th></th>\n",
       "      <th></th>\n",
       "      <th></th>\n",
       "      <th></th>\n",
       "      <th></th>\n",
       "      <th></th>\n",
       "      <th></th>\n",
       "      <th></th>\n",
       "      <th></th>\n",
       "      <th></th>\n",
       "      <th></th>\n",
       "      <th></th>\n",
       "      <th></th>\n",
       "      <th></th>\n",
       "      <th></th>\n",
       "      <th></th>\n",
       "      <th></th>\n",
       "      <th></th>\n",
       "      <th></th>\n",
       "      <th></th>\n",
       "    </tr>\n",
       "  </thead>\n",
       "  <tbody>\n",
       "    <tr>\n",
       "      <th>2000</th>\n",
       "      <td>467</td>\n",
       "      <td>1938</td>\n",
       "      <td>1154</td>\n",
       "      <td>10866</td>\n",
       "      <td>2653</td>\n",
       "      <td>13118</td>\n",
       "      <td>205</td>\n",
       "      <td>83</td>\n",
       "      <td>110422</td>\n",
       "      <td>168867</td>\n",
       "      <td>...</td>\n",
       "      <td>37956</td>\n",
       "      <td>2005</td>\n",
       "      <td>1337</td>\n",
       "      <td>57853</td>\n",
       "      <td>491806</td>\n",
       "      <td>101810</td>\n",
       "      <td>65</td>\n",
       "      <td>826</td>\n",
       "      <td>1291</td>\n",
       "      <td>4073</td>\n",
       "    </tr>\n",
       "    <tr>\n",
       "      <th>2001</th>\n",
       "      <td>386</td>\n",
       "      <td>1496</td>\n",
       "      <td>722</td>\n",
       "      <td>10488</td>\n",
       "      <td>1995</td>\n",
       "      <td>15571</td>\n",
       "      <td>261</td>\n",
       "      <td>108</td>\n",
       "      <td>121154</td>\n",
       "      <td>189385</td>\n",
       "      <td>...</td>\n",
       "      <td>49715</td>\n",
       "      <td>1817</td>\n",
       "      <td>1550</td>\n",
       "      <td>64424</td>\n",
       "      <td>521631</td>\n",
       "      <td>112184</td>\n",
       "      <td>42</td>\n",
       "      <td>780</td>\n",
       "      <td>1376</td>\n",
       "      <td>4407</td>\n",
       "    </tr>\n",
       "    <tr>\n",
       "      <th>2002</th>\n",
       "      <td>484</td>\n",
       "      <td>1610</td>\n",
       "      <td>391</td>\n",
       "      <td>11348</td>\n",
       "      <td>1919</td>\n",
       "      <td>17880</td>\n",
       "      <td>407</td>\n",
       "      <td>130</td>\n",
       "      <td>129910</td>\n",
       "      <td>199035</td>\n",
       "      <td>...</td>\n",
       "      <td>50488</td>\n",
       "      <td>1788</td>\n",
       "      <td>1509</td>\n",
       "      <td>64596</td>\n",
       "      <td>498606</td>\n",
       "      <td>121242</td>\n",
       "      <td>30</td>\n",
       "      <td>746</td>\n",
       "      <td>1300</td>\n",
       "      <td>4454</td>\n",
       "    </tr>\n",
       "    <tr>\n",
       "      <th>2003</th>\n",
       "      <td>463</td>\n",
       "      <td>2160</td>\n",
       "      <td>353</td>\n",
       "      <td>14742</td>\n",
       "      <td>2009</td>\n",
       "      <td>19302</td>\n",
       "      <td>314</td>\n",
       "      <td>119</td>\n",
       "      <td>141700</td>\n",
       "      <td>187328</td>\n",
       "      <td>...</td>\n",
       "      <td>48531</td>\n",
       "      <td>1784</td>\n",
       "      <td>1267</td>\n",
       "      <td>64223</td>\n",
       "      <td>449255</td>\n",
       "      <td>115424</td>\n",
       "      <td>37</td>\n",
       "      <td>632</td>\n",
       "      <td>995</td>\n",
       "      <td>3542</td>\n",
       "    </tr>\n",
       "    <tr>\n",
       "      <th>2004</th>\n",
       "      <td>466</td>\n",
       "      <td>2540</td>\n",
       "      <td>473</td>\n",
       "      <td>17455</td>\n",
       "      <td>1857</td>\n",
       "      <td>22226</td>\n",
       "      <td>258</td>\n",
       "      <td>120</td>\n",
       "      <td>144832</td>\n",
       "      <td>174587</td>\n",
       "      <td>...</td>\n",
       "      <td>47204</td>\n",
       "      <td>1773</td>\n",
       "      <td>1092</td>\n",
       "      <td>63033</td>\n",
       "      <td>404782</td>\n",
       "      <td>109170</td>\n",
       "      <td>41</td>\n",
       "      <td>547</td>\n",
       "      <td>867</td>\n",
       "      <td>3312</td>\n",
       "    </tr>\n",
       "    <tr>\n",
       "      <th>2005</th>\n",
       "      <td>434</td>\n",
       "      <td>3131</td>\n",
       "      <td>525</td>\n",
       "      <td>17513</td>\n",
       "      <td>1973</td>\n",
       "      <td>24982</td>\n",
       "      <td>231</td>\n",
       "      <td>115</td>\n",
       "      <td>157092</td>\n",
       "      <td>177648</td>\n",
       "      <td>...</td>\n",
       "      <td>49693</td>\n",
       "      <td>1727</td>\n",
       "      <td>1052</td>\n",
       "      <td>61579</td>\n",
       "      <td>371063</td>\n",
       "      <td>106587</td>\n",
       "      <td>56</td>\n",
       "      <td>654</td>\n",
       "      <td>734</td>\n",
       "      <td>2929</td>\n",
       "    </tr>\n",
       "    <tr>\n",
       "      <th>2006</th>\n",
       "      <td>511</td>\n",
       "      <td>4058</td>\n",
       "      <td>539</td>\n",
       "      <td>16556</td>\n",
       "      <td>2030</td>\n",
       "      <td>27901</td>\n",
       "      <td>272</td>\n",
       "      <td>84</td>\n",
       "      <td>173666</td>\n",
       "      <td>163918</td>\n",
       "      <td>...</td>\n",
       "      <td>50535</td>\n",
       "      <td>1604</td>\n",
       "      <td>1001</td>\n",
       "      <td>61118</td>\n",
       "      <td>359998</td>\n",
       "      <td>106233</td>\n",
       "      <td>37</td>\n",
       "      <td>680</td>\n",
       "      <td>574</td>\n",
       "      <td>3005</td>\n",
       "    </tr>\n",
       "    <tr>\n",
       "      <th>2007</th>\n",
       "      <td>388</td>\n",
       "      <td>4803</td>\n",
       "      <td>502</td>\n",
       "      <td>16113</td>\n",
       "      <td>2184</td>\n",
       "      <td>29286</td>\n",
       "      <td>211</td>\n",
       "      <td>102</td>\n",
       "      <td>186727</td>\n",
       "      <td>151338</td>\n",
       "      <td>...</td>\n",
       "      <td>44843</td>\n",
       "      <td>1382</td>\n",
       "      <td>923</td>\n",
       "      <td>60950</td>\n",
       "      <td>336125</td>\n",
       "      <td>97516</td>\n",
       "      <td>46</td>\n",
       "      <td>582</td>\n",
       "      <td>419</td>\n",
       "      <td>2938</td>\n",
       "    </tr>\n",
       "    <tr>\n",
       "      <th>2008</th>\n",
       "      <td>378</td>\n",
       "      <td>5345</td>\n",
       "      <td>678</td>\n",
       "      <td>16374</td>\n",
       "      <td>2593</td>\n",
       "      <td>34019</td>\n",
       "      <td>129</td>\n",
       "      <td>45</td>\n",
       "      <td>199111</td>\n",
       "      <td>145442</td>\n",
       "      <td>...</td>\n",
       "      <td>42125</td>\n",
       "      <td>1452</td>\n",
       "      <td>866</td>\n",
       "      <td>63021</td>\n",
       "      <td>302039</td>\n",
       "      <td>89320</td>\n",
       "      <td>31</td>\n",
       "      <td>727</td>\n",
       "      <td>430</td>\n",
       "      <td>3596</td>\n",
       "    </tr>\n",
       "    <tr>\n",
       "      <th>2009</th>\n",
       "      <td>374</td>\n",
       "      <td>5277</td>\n",
       "      <td>729</td>\n",
       "      <td>15597</td>\n",
       "      <td>2877</td>\n",
       "      <td>32545</td>\n",
       "      <td>98</td>\n",
       "      <td>36</td>\n",
       "      <td>206160</td>\n",
       "      <td>136833</td>\n",
       "      <td>...</td>\n",
       "      <td>45098</td>\n",
       "      <td>1530</td>\n",
       "      <td>962</td>\n",
       "      <td>69755</td>\n",
       "      <td>298681</td>\n",
       "      <td>89996</td>\n",
       "      <td>29</td>\n",
       "      <td>836</td>\n",
       "      <td>393</td>\n",
       "      <td>4301</td>\n",
       "    </tr>\n",
       "    <tr>\n",
       "      <th>2010</th>\n",
       "      <td>301</td>\n",
       "      <td>5456</td>\n",
       "      <td>784</td>\n",
       "      <td>14900</td>\n",
       "      <td>3173</td>\n",
       "      <td>31465</td>\n",
       "      <td>117</td>\n",
       "      <td>29</td>\n",
       "      <td>206310</td>\n",
       "      <td>127599</td>\n",
       "      <td>...</td>\n",
       "      <td>51153</td>\n",
       "      <td>1585</td>\n",
       "      <td>956</td>\n",
       "      <td>71471</td>\n",
       "      <td>282422</td>\n",
       "      <td>90519</td>\n",
       "      <td>43</td>\n",
       "      <td>769</td>\n",
       "      <td>336</td>\n",
       "      <td>3789</td>\n",
       "    </tr>\n",
       "    <tr>\n",
       "      <th>2011</th>\n",
       "      <td>459</td>\n",
       "      <td>5760</td>\n",
       "      <td>823</td>\n",
       "      <td>16320</td>\n",
       "      <td>3380</td>\n",
       "      <td>31236</td>\n",
       "      <td>90</td>\n",
       "      <td>23</td>\n",
       "      <td>206350</td>\n",
       "      <td>119390</td>\n",
       "      <td>...</td>\n",
       "      <td>52019</td>\n",
       "      <td>1499</td>\n",
       "      <td>876</td>\n",
       "      <td>68299</td>\n",
       "      <td>257435</td>\n",
       "      <td>90075</td>\n",
       "      <td>64</td>\n",
       "      <td>817</td>\n",
       "      <td>239</td>\n",
       "      <td>3298</td>\n",
       "    </tr>\n",
       "    <tr>\n",
       "      <th>2012</th>\n",
       "      <td>333</td>\n",
       "      <td>5538</td>\n",
       "      <td>868</td>\n",
       "      <td>14154</td>\n",
       "      <td>2821</td>\n",
       "      <td>28599</td>\n",
       "      <td>147</td>\n",
       "      <td>13</td>\n",
       "      <td>207411</td>\n",
       "      <td>121266</td>\n",
       "      <td>...</td>\n",
       "      <td>57037</td>\n",
       "      <td>1509</td>\n",
       "      <td>825</td>\n",
       "      <td>70535</td>\n",
       "      <td>254303</td>\n",
       "      <td>101756</td>\n",
       "      <td>43</td>\n",
       "      <td>703</td>\n",
       "      <td>232</td>\n",
       "      <td>3279</td>\n",
       "    </tr>\n",
       "    <tr>\n",
       "      <th>2013</th>\n",
       "      <td>308</td>\n",
       "      <td>4964</td>\n",
       "      <td>1199</td>\n",
       "      <td>13313</td>\n",
       "      <td>2823</td>\n",
       "      <td>32430</td>\n",
       "      <td>67</td>\n",
       "      <td>31</td>\n",
       "      <td>207530</td>\n",
       "      <td>119512</td>\n",
       "      <td>...</td>\n",
       "      <td>57460</td>\n",
       "      <td>1653</td>\n",
       "      <td>898</td>\n",
       "      <td>72286</td>\n",
       "      <td>260834</td>\n",
       "      <td>114260</td>\n",
       "      <td>29</td>\n",
       "      <td>793</td>\n",
       "      <td>169</td>\n",
       "      <td>3363</td>\n",
       "    </tr>\n",
       "    <tr>\n",
       "      <th>2014</th>\n",
       "      <td>338</td>\n",
       "      <td>5092</td>\n",
       "      <td>991</td>\n",
       "      <td>13032</td>\n",
       "      <td>2648</td>\n",
       "      <td>41453</td>\n",
       "      <td>54</td>\n",
       "      <td>30</td>\n",
       "      <td>211638</td>\n",
       "      <td>116079</td>\n",
       "      <td>...</td>\n",
       "      <td>52353</td>\n",
       "      <td>1795</td>\n",
       "      <td>1006</td>\n",
       "      <td>69079</td>\n",
       "      <td>272107</td>\n",
       "      <td>128770</td>\n",
       "      <td>28</td>\n",
       "      <td>780</td>\n",
       "      <td>149</td>\n",
       "      <td>2629</td>\n",
       "    </tr>\n",
       "    <tr>\n",
       "      <th>2015</th>\n",
       "      <td>290</td>\n",
       "      <td>4553</td>\n",
       "      <td>1180</td>\n",
       "      <td>13278</td>\n",
       "      <td>2374</td>\n",
       "      <td>48038</td>\n",
       "      <td>106</td>\n",
       "      <td>38</td>\n",
       "      <td>227151</td>\n",
       "      <td>111552</td>\n",
       "      <td>...</td>\n",
       "      <td>45939</td>\n",
       "      <td>1977</td>\n",
       "      <td>1123</td>\n",
       "      <td>64729</td>\n",
       "      <td>278575</td>\n",
       "      <td>132170</td>\n",
       "      <td>32</td>\n",
       "      <td>929</td>\n",
       "      <td>164</td>\n",
       "      <td>2312</td>\n",
       "    </tr>\n",
       "    <tr>\n",
       "      <th>2016</th>\n",
       "      <td>211</td>\n",
       "      <td>4541</td>\n",
       "      <td>1549</td>\n",
       "      <td>12873</td>\n",
       "      <td>2535</td>\n",
       "      <td>50009</td>\n",
       "      <td>103</td>\n",
       "      <td>30</td>\n",
       "      <td>231259</td>\n",
       "      <td>110421</td>\n",
       "      <td>...</td>\n",
       "      <td>43532</td>\n",
       "      <td>1993</td>\n",
       "      <td>1090</td>\n",
       "      <td>63841</td>\n",
       "      <td>275869</td>\n",
       "      <td>144400</td>\n",
       "      <td>20</td>\n",
       "      <td>699</td>\n",
       "      <td>117</td>\n",
       "      <td>1664</td>\n",
       "    </tr>\n",
       "    <tr>\n",
       "      <th>2017</th>\n",
       "      <td>166</td>\n",
       "      <td>4455</td>\n",
       "      <td>1315</td>\n",
       "      <td>13327</td>\n",
       "      <td>2720</td>\n",
       "      <td>53418</td>\n",
       "      <td>102</td>\n",
       "      <td>40</td>\n",
       "      <td>239318</td>\n",
       "      <td>109333</td>\n",
       "      <td>...</td>\n",
       "      <td>40469</td>\n",
       "      <td>2030</td>\n",
       "      <td>989</td>\n",
       "      <td>62478</td>\n",
       "      <td>274723</td>\n",
       "      <td>143946</td>\n",
       "      <td>22</td>\n",
       "      <td>657</td>\n",
       "      <td>83</td>\n",
       "      <td>1408</td>\n",
       "    </tr>\n",
       "    <tr>\n",
       "      <th>2018</th>\n",
       "      <td>194</td>\n",
       "      <td>4602</td>\n",
       "      <td>1320</td>\n",
       "      <td>14809</td>\n",
       "      <td>2986</td>\n",
       "      <td>60848</td>\n",
       "      <td>150</td>\n",
       "      <td>42</td>\n",
       "      <td>257140</td>\n",
       "      <td>114116</td>\n",
       "      <td>...</td>\n",
       "      <td>35846</td>\n",
       "      <td>1913</td>\n",
       "      <td>961</td>\n",
       "      <td>61409</td>\n",
       "      <td>271205</td>\n",
       "      <td>149316</td>\n",
       "      <td>16</td>\n",
       "      <td>538</td>\n",
       "      <td>72</td>\n",
       "      <td>1060</td>\n",
       "    </tr>\n",
       "    <tr>\n",
       "      <th>2019</th>\n",
       "      <td>166</td>\n",
       "      <td>4771</td>\n",
       "      <td>1284</td>\n",
       "      <td>15486</td>\n",
       "      <td>3262</td>\n",
       "      <td>66622</td>\n",
       "      <td>189</td>\n",
       "      <td>55</td>\n",
       "      <td>278702</td>\n",
       "      <td>120627</td>\n",
       "      <td>...</td>\n",
       "      <td>33237</td>\n",
       "      <td>1892</td>\n",
       "      <td>842</td>\n",
       "      <td>61256</td>\n",
       "      <td>272550</td>\n",
       "      <td>168326</td>\n",
       "      <td>13</td>\n",
       "      <td>513</td>\n",
       "      <td>56</td>\n",
       "      <td>998</td>\n",
       "    </tr>\n",
       "    <tr>\n",
       "      <th>2020</th>\n",
       "      <td>106</td>\n",
       "      <td>4173</td>\n",
       "      <td>1238</td>\n",
       "      <td>15641</td>\n",
       "      <td>3604</td>\n",
       "      <td>67640</td>\n",
       "      <td>186</td>\n",
       "      <td>63</td>\n",
       "      <td>282119</td>\n",
       "      <td>104509</td>\n",
       "      <td>...</td>\n",
       "      <td>26387</td>\n",
       "      <td>1826</td>\n",
       "      <td>698</td>\n",
       "      <td>45146</td>\n",
       "      <td>225977</td>\n",
       "      <td>120075</td>\n",
       "      <td>10</td>\n",
       "      <td>518</td>\n",
       "      <td>54</td>\n",
       "      <td>818</td>\n",
       "    </tr>\n",
       "    <tr>\n",
       "      <th>2021</th>\n",
       "      <td>99</td>\n",
       "      <td>4908</td>\n",
       "      <td>1355</td>\n",
       "      <td>15863</td>\n",
       "      <td>3702</td>\n",
       "      <td>77470</td>\n",
       "      <td>233</td>\n",
       "      <td>60</td>\n",
       "      <td>315694</td>\n",
       "      <td>107614</td>\n",
       "      <td>...</td>\n",
       "      <td>24696</td>\n",
       "      <td>1800</td>\n",
       "      <td>656</td>\n",
       "      <td>43248</td>\n",
       "      <td>226994</td>\n",
       "      <td>127606</td>\n",
       "      <td>5</td>\n",
       "      <td>511</td>\n",
       "      <td>63</td>\n",
       "      <td>596</td>\n",
       "    </tr>\n",
       "    <tr>\n",
       "      <th>2022</th>\n",
       "      <td>31</td>\n",
       "      <td>2661</td>\n",
       "      <td>740</td>\n",
       "      <td>9308</td>\n",
       "      <td>1829</td>\n",
       "      <td>45852</td>\n",
       "      <td>143</td>\n",
       "      <td>41</td>\n",
       "      <td>209479</td>\n",
       "      <td>65848</td>\n",
       "      <td>...</td>\n",
       "      <td>12993</td>\n",
       "      <td>996</td>\n",
       "      <td>404</td>\n",
       "      <td>27886</td>\n",
       "      <td>143008</td>\n",
       "      <td>83167</td>\n",
       "      <td>5</td>\n",
       "      <td>279</td>\n",
       "      <td>48</td>\n",
       "      <td>374</td>\n",
       "    </tr>\n",
       "  </tbody>\n",
       "</table>\n",
       "<p>23 rows × 104 columns</p>\n",
       "</div>"
      ],
      "text/plain": [
       "libellé index  Achats et ventes sans factures  \\\n",
       "index                                           \n",
       "2000                                      467   \n",
       "2001                                      386   \n",
       "2002                                      484   \n",
       "2003                                      463   \n",
       "2004                                      466   \n",
       "2005                                      434   \n",
       "2006                                      511   \n",
       "2007                                      388   \n",
       "2008                                      378   \n",
       "2009                                      374   \n",
       "2010                                      301   \n",
       "2011                                      459   \n",
       "2012                                      333   \n",
       "2013                                      308   \n",
       "2014                                      338   \n",
       "2015                                      290   \n",
       "2016                                      211   \n",
       "2017                                      166   \n",
       "2018                                      194   \n",
       "2019                                      166   \n",
       "2020                                      106   \n",
       "2021                                       99   \n",
       "2022                                       31   \n",
       "\n",
       "libellé index  Aide à l'entrée, à la circulation et au séjour des étrangers  \\\n",
       "index                                                                         \n",
       "2000                                                        1938              \n",
       "2001                                                        1496              \n",
       "2002                                                        1610              \n",
       "2003                                                        2160              \n",
       "2004                                                        2540              \n",
       "2005                                                        3131              \n",
       "2006                                                        4058              \n",
       "2007                                                        4803              \n",
       "2008                                                        5345              \n",
       "2009                                                        5277              \n",
       "2010                                                        5456              \n",
       "2011                                                        5760              \n",
       "2012                                                        5538              \n",
       "2013                                                        4964              \n",
       "2014                                                        5092              \n",
       "2015                                                        4553              \n",
       "2016                                                        4541              \n",
       "2017                                                        4455              \n",
       "2018                                                        4602              \n",
       "2019                                                        4771              \n",
       "2020                                                        4173              \n",
       "2021                                                        4908              \n",
       "2022                                                        2661              \n",
       "\n",
       "libellé index  Atteintes aux intérêts fondamentaux de la Nation  \\\n",
       "index                                                             \n",
       "2000                                                       1154   \n",
       "2001                                                        722   \n",
       "2002                                                        391   \n",
       "2003                                                        353   \n",
       "2004                                                        473   \n",
       "2005                                                        525   \n",
       "2006                                                        539   \n",
       "2007                                                        502   \n",
       "2008                                                        678   \n",
       "2009                                                        729   \n",
       "2010                                                        784   \n",
       "2011                                                        823   \n",
       "2012                                                        868   \n",
       "2013                                                       1199   \n",
       "2014                                                        991   \n",
       "2015                                                       1180   \n",
       "2016                                                       1549   \n",
       "2017                                                       1315   \n",
       "2018                                                       1320   \n",
       "2019                                                       1284   \n",
       "2020                                                       1238   \n",
       "2021                                                       1355   \n",
       "2022                                                        740   \n",
       "\n",
       "libellé index  Atteintes sexuelles  Atteintes à l'environnement  \\\n",
       "index                                                             \n",
       "2000                         10866                         2653   \n",
       "2001                         10488                         1995   \n",
       "2002                         11348                         1919   \n",
       "2003                         14742                         2009   \n",
       "2004                         17455                         1857   \n",
       "2005                         17513                         1973   \n",
       "2006                         16556                         2030   \n",
       "2007                         16113                         2184   \n",
       "2008                         16374                         2593   \n",
       "2009                         15597                         2877   \n",
       "2010                         14900                         3173   \n",
       "2011                         16320                         3380   \n",
       "2012                         14154                         2821   \n",
       "2013                         13313                         2823   \n",
       "2014                         13032                         2648   \n",
       "2015                         13278                         2374   \n",
       "2016                         12873                         2535   \n",
       "2017                         13327                         2720   \n",
       "2018                         14809                         2986   \n",
       "2019                         15486                         3262   \n",
       "2020                         15641                         3604   \n",
       "2021                         15863                         3702   \n",
       "2022                          9308                         1829   \n",
       "\n",
       "libellé index  Atteintes à la dignité et à la personnalité  \\\n",
       "index                                                        \n",
       "2000                                                 13118   \n",
       "2001                                                 15571   \n",
       "2002                                                 17880   \n",
       "2003                                                 19302   \n",
       "2004                                                 22226   \n",
       "2005                                                 24982   \n",
       "2006                                                 27901   \n",
       "2007                                                 29286   \n",
       "2008                                                 34019   \n",
       "2009                                                 32545   \n",
       "2010                                                 31465   \n",
       "2011                                                 31236   \n",
       "2012                                                 28599   \n",
       "2013                                                 32430   \n",
       "2014                                                 41453   \n",
       "2015                                                 48038   \n",
       "2016                                                 50009   \n",
       "2017                                                 53418   \n",
       "2018                                                 60848   \n",
       "2019                                                 66622   \n",
       "2020                                                 67640   \n",
       "2021                                                 77470   \n",
       "2022                                                 45852   \n",
       "\n",
       "libellé index  Attentats à l'explosif contre des biens privés  \\\n",
       "index                                                           \n",
       "2000                                                      205   \n",
       "2001                                                      261   \n",
       "2002                                                      407   \n",
       "2003                                                      314   \n",
       "2004                                                      258   \n",
       "2005                                                      231   \n",
       "2006                                                      272   \n",
       "2007                                                      211   \n",
       "2008                                                      129   \n",
       "2009                                                       98   \n",
       "2010                                                      117   \n",
       "2011                                                       90   \n",
       "2012                                                      147   \n",
       "2013                                                       67   \n",
       "2014                                                       54   \n",
       "2015                                                      106   \n",
       "2016                                                      103   \n",
       "2017                                                      102   \n",
       "2018                                                      150   \n",
       "2019                                                      189   \n",
       "2020                                                      186   \n",
       "2021                                                      233   \n",
       "2022                                                      143   \n",
       "\n",
       "libellé index  Attentats à l'explosif contre des biens publics  \\\n",
       "index                                                            \n",
       "2000                                                        83   \n",
       "2001                                                       108   \n",
       "2002                                                       130   \n",
       "2003                                                       119   \n",
       "2004                                                       120   \n",
       "2005                                                       115   \n",
       "2006                                                        84   \n",
       "2007                                                       102   \n",
       "2008                                                        45   \n",
       "2009                                                        36   \n",
       "2010                                                        29   \n",
       "2011                                                        23   \n",
       "2012                                                        13   \n",
       "2013                                                        31   \n",
       "2014                                                        30   \n",
       "2015                                                        38   \n",
       "2016                                                        30   \n",
       "2017                                                        40   \n",
       "2018                                                        42   \n",
       "2019                                                        55   \n",
       "2020                                                        63   \n",
       "2021                                                        60   \n",
       "2022                                                        41   \n",
       "\n",
       "libellé index  Autres coups et blessures volontaires criminels ou correctionnels  \\\n",
       "index                                                                              \n",
       "2000                                                      110422                   \n",
       "2001                                                      121154                   \n",
       "2002                                                      129910                   \n",
       "2003                                                      141700                   \n",
       "2004                                                      144832                   \n",
       "2005                                                      157092                   \n",
       "2006                                                      173666                   \n",
       "2007                                                      186727                   \n",
       "2008                                                      199111                   \n",
       "2009                                                      206160                   \n",
       "2010                                                      206310                   \n",
       "2011                                                      206350                   \n",
       "2012                                                      207411                   \n",
       "2013                                                      207530                   \n",
       "2014                                                      211638                   \n",
       "2015                                                      227151                   \n",
       "2016                                                      231259                   \n",
       "2017                                                      239318                   \n",
       "2018                                                      257140                   \n",
       "2019                                                      278702                   \n",
       "2020                                                      282119                   \n",
       "2021                                                      315694                   \n",
       "2022                                                      209479                   \n",
       "\n",
       "libellé index  Autres destructions er dégradations de biens privés  ...  \\\n",
       "index                                                               ...   \n",
       "2000                                                      168867    ...   \n",
       "2001                                                      189385    ...   \n",
       "2002                                                      199035    ...   \n",
       "2003                                                      187328    ...   \n",
       "2004                                                      174587    ...   \n",
       "2005                                                      177648    ...   \n",
       "2006                                                      163918    ...   \n",
       "2007                                                      151338    ...   \n",
       "2008                                                      145442    ...   \n",
       "2009                                                      136833    ...   \n",
       "2010                                                      127599    ...   \n",
       "2011                                                      119390    ...   \n",
       "2012                                                      121266    ...   \n",
       "2013                                                      119512    ...   \n",
       "2014                                                      116079    ...   \n",
       "2015                                                      111552    ...   \n",
       "2016                                                      110421    ...   \n",
       "2017                                                      109333    ...   \n",
       "2018                                                      114116    ...   \n",
       "2019                                                      120627    ...   \n",
       "2020                                                      104509    ...   \n",
       "2021                                                      107614    ...   \n",
       "2022                                                       65848    ...   \n",
       "\n",
       "libellé index  Vols violents sans arme contre des femmes sur voie publique ou autre lieu public  \\\n",
       "index                                                                                             \n",
       "2000                                                       37956                                  \n",
       "2001                                                       49715                                  \n",
       "2002                                                       50488                                  \n",
       "2003                                                       48531                                  \n",
       "2004                                                       47204                                  \n",
       "2005                                                       49693                                  \n",
       "2006                                                       50535                                  \n",
       "2007                                                       44843                                  \n",
       "2008                                                       42125                                  \n",
       "2009                                                       45098                                  \n",
       "2010                                                       51153                                  \n",
       "2011                                                       52019                                  \n",
       "2012                                                       57037                                  \n",
       "2013                                                       57460                                  \n",
       "2014                                                       52353                                  \n",
       "2015                                                       45939                                  \n",
       "2016                                                       43532                                  \n",
       "2017                                                       40469                                  \n",
       "2018                                                       35846                                  \n",
       "2019                                                       33237                                  \n",
       "2020                                                       26387                                  \n",
       "2021                                                       24696                                  \n",
       "2022                                                       12993                                  \n",
       "\n",
       "libellé index  Vols violents sans arme contre des particuliers à leur domicile  \\\n",
       "index                                                                            \n",
       "2000                                                        2005                 \n",
       "2001                                                        1817                 \n",
       "2002                                                        1788                 \n",
       "2003                                                        1784                 \n",
       "2004                                                        1773                 \n",
       "2005                                                        1727                 \n",
       "2006                                                        1604                 \n",
       "2007                                                        1382                 \n",
       "2008                                                        1452                 \n",
       "2009                                                        1530                 \n",
       "2010                                                        1585                 \n",
       "2011                                                        1499                 \n",
       "2012                                                        1509                 \n",
       "2013                                                        1653                 \n",
       "2014                                                        1795                 \n",
       "2015                                                        1977                 \n",
       "2016                                                        1993                 \n",
       "2017                                                        2030                 \n",
       "2018                                                        1913                 \n",
       "2019                                                        1892                 \n",
       "2020                                                        1826                 \n",
       "2021                                                        1800                 \n",
       "2022                                                         996                 \n",
       "\n",
       "libellé index  Vols violents sans arme contre des établissements financiers,commerciaux ou industriels  \\\n",
       "index                                                                                                    \n",
       "2000                                                        1337                                         \n",
       "2001                                                        1550                                         \n",
       "2002                                                        1509                                         \n",
       "2003                                                        1267                                         \n",
       "2004                                                        1092                                         \n",
       "2005                                                        1052                                         \n",
       "2006                                                        1001                                         \n",
       "2007                                                         923                                         \n",
       "2008                                                         866                                         \n",
       "2009                                                         962                                         \n",
       "2010                                                         956                                         \n",
       "2011                                                         876                                         \n",
       "2012                                                         825                                         \n",
       "2013                                                         898                                         \n",
       "2014                                                        1006                                         \n",
       "2015                                                        1123                                         \n",
       "2016                                                        1090                                         \n",
       "2017                                                         989                                         \n",
       "2018                                                         961                                         \n",
       "2019                                                         842                                         \n",
       "2020                                                         698                                         \n",
       "2021                                                         656                                         \n",
       "2022                                                         404                                         \n",
       "\n",
       "libellé index  Vols à l'étalage  Vols à la roulotte  Vols à la tire  \\\n",
       "index                                                                 \n",
       "2000                      57853              491806          101810   \n",
       "2001                      64424              521631          112184   \n",
       "2002                      64596              498606          121242   \n",
       "2003                      64223              449255          115424   \n",
       "2004                      63033              404782          109170   \n",
       "2005                      61579              371063          106587   \n",
       "2006                      61118              359998          106233   \n",
       "2007                      60950              336125           97516   \n",
       "2008                      63021              302039           89320   \n",
       "2009                      69755              298681           89996   \n",
       "2010                      71471              282422           90519   \n",
       "2011                      68299              257435           90075   \n",
       "2012                      70535              254303          101756   \n",
       "2013                      72286              260834          114260   \n",
       "2014                      69079              272107          128770   \n",
       "2015                      64729              278575          132170   \n",
       "2016                      63841              275869          144400   \n",
       "2017                      62478              274723          143946   \n",
       "2018                      61409              271205          149316   \n",
       "2019                      61256              272550          168326   \n",
       "2020                      45146              225977          120075   \n",
       "2021                      43248              226994          127606   \n",
       "2022                      27886              143008           83167   \n",
       "\n",
       "libellé index  Vols à main armée contre des entreprises de transports de fonds  \\\n",
       "index                                                                            \n",
       "2000                                                          65                 \n",
       "2001                                                          42                 \n",
       "2002                                                          30                 \n",
       "2003                                                          37                 \n",
       "2004                                                          41                 \n",
       "2005                                                          56                 \n",
       "2006                                                          37                 \n",
       "2007                                                          46                 \n",
       "2008                                                          31                 \n",
       "2009                                                          29                 \n",
       "2010                                                          43                 \n",
       "2011                                                          64                 \n",
       "2012                                                          43                 \n",
       "2013                                                          29                 \n",
       "2014                                                          28                 \n",
       "2015                                                          32                 \n",
       "2016                                                          20                 \n",
       "2017                                                          22                 \n",
       "2018                                                          16                 \n",
       "2019                                                          13                 \n",
       "2020                                                          10                 \n",
       "2021                                                           5                 \n",
       "2022                                                           5                 \n",
       "\n",
       "libellé index  Vols à main armée contre des particuliers à leur domicile  \\\n",
       "index                                                                      \n",
       "2000                                                         826           \n",
       "2001                                                         780           \n",
       "2002                                                         746           \n",
       "2003                                                         632           \n",
       "2004                                                         547           \n",
       "2005                                                         654           \n",
       "2006                                                         680           \n",
       "2007                                                         582           \n",
       "2008                                                         727           \n",
       "2009                                                         836           \n",
       "2010                                                         769           \n",
       "2011                                                         817           \n",
       "2012                                                         703           \n",
       "2013                                                         793           \n",
       "2014                                                         780           \n",
       "2015                                                         929           \n",
       "2016                                                         699           \n",
       "2017                                                         657           \n",
       "2018                                                         538           \n",
       "2019                                                         513           \n",
       "2020                                                         518           \n",
       "2021                                                         511           \n",
       "2022                                                         279           \n",
       "\n",
       "libellé index  Vols à main armée contre des établissements financiers  \\\n",
       "index                                                                   \n",
       "2000                                                        1291        \n",
       "2001                                                        1376        \n",
       "2002                                                        1300        \n",
       "2003                                                         995        \n",
       "2004                                                         867        \n",
       "2005                                                         734        \n",
       "2006                                                         574        \n",
       "2007                                                         419        \n",
       "2008                                                         430        \n",
       "2009                                                         393        \n",
       "2010                                                         336        \n",
       "2011                                                         239        \n",
       "2012                                                         232        \n",
       "2013                                                         169        \n",
       "2014                                                         149        \n",
       "2015                                                         164        \n",
       "2016                                                         117        \n",
       "2017                                                          83        \n",
       "2018                                                          72        \n",
       "2019                                                          56        \n",
       "2020                                                          54        \n",
       "2021                                                          63        \n",
       "2022                                                          48        \n",
       "\n",
       "libellé index  Vols à main armée contre des établissements industriels ou commerciaux  \n",
       "index                                                                                  \n",
       "2000                                                        4073                       \n",
       "2001                                                        4407                       \n",
       "2002                                                        4454                       \n",
       "2003                                                        3542                       \n",
       "2004                                                        3312                       \n",
       "2005                                                        2929                       \n",
       "2006                                                        3005                       \n",
       "2007                                                        2938                       \n",
       "2008                                                        3596                       \n",
       "2009                                                        4301                       \n",
       "2010                                                        3789                       \n",
       "2011                                                        3298                       \n",
       "2012                                                        3279                       \n",
       "2013                                                        3363                       \n",
       "2014                                                        2629                       \n",
       "2015                                                        2312                       \n",
       "2016                                                        1664                       \n",
       "2017                                                        1408                       \n",
       "2018                                                        1060                       \n",
       "2019                                                         998                       \n",
       "2020                                                         818                       \n",
       "2021                                                         596                       \n",
       "2022                                                         374                       \n",
       "\n",
       "[23 rows x 104 columns]"
      ]
     },
     "execution_count": 109,
     "metadata": {},
     "output_type": "execute_result"
    }
   ],
   "source": [
    "df = pd.read_csv(\"./data.csv\", sep=\",\").groupby(\"libellé index\").sum().transpose()\n",
    "df = df.reset_index()\n",
    "print(df[\"index\"][1].split(\"_\")[1])\n",
    "for index, row in df.iterrows():\n",
    "    df = df.replace(df[\"index\"][index],str(df[\"index\"][index].split(\"_\")[1]))\n",
    "\n",
    "df = df.groupby(\"index\").sum()\n",
    "df"
   ]
  },
  {
   "cell_type": "code",
   "execution_count": 164,
   "id": "b04850ec",
   "metadata": {},
   "outputs": [
    {
     "name": "stdout",
     "output_type": "stream",
     "text": [
      "2022\n"
     ]
    },
    {
     "data": {
      "text/html": [
       "<div>\n",
       "<style scoped>\n",
       "    .dataframe tbody tr th:only-of-type {\n",
       "        vertical-align: middle;\n",
       "    }\n",
       "\n",
       "    .dataframe tbody tr th {\n",
       "        vertical-align: top;\n",
       "    }\n",
       "\n",
       "    .dataframe thead th {\n",
       "        text-align: right;\n",
       "    }\n",
       "</style>\n",
       "<table border=\"1\" class=\"dataframe\">\n",
       "  <thead>\n",
       "    <tr style=\"text-align: right;\">\n",
       "      <th>libellé index</th>\n",
       "      <th>Règlements de compte entre malfaiteurs</th>\n",
       "      <th>Homicides pour voler et à l'occasion de vols</th>\n",
       "      <th>Homicides pour d'autres motifs</th>\n",
       "      <th>Tentatives d'homicides pour voler et à l'occasion de vols</th>\n",
       "      <th>Tentatives homicides pour d'autres motifs</th>\n",
       "      <th>Coups et blessures volontaires suivis de mort</th>\n",
       "      <th>Autres coups et blessures volontaires criminels ou correctionnels</th>\n",
       "      <th>Prises d'otages à l'occasion de vols</th>\n",
       "      <th>Prises d'otages dans un autre but</th>\n",
       "      <th>Sequestrations</th>\n",
       "      <th>...</th>\n",
       "      <th>Banqueroutes, abus de biens sociaux et autres délits de société</th>\n",
       "      <th>Index non utilisé</th>\n",
       "      <th>Index non utilisé</th>\n",
       "      <th>Prix illicittes, publicité fausse et infractions aux règles de la concurrence</th>\n",
       "      <th>Achats et ventes sans factures</th>\n",
       "      <th>Infractions à l'exercice d'une profession règlementée</th>\n",
       "      <th>Infractions au droit de l'urbanisme et de la construction</th>\n",
       "      <th>Fraudes fiscales</th>\n",
       "      <th>Autres délits économiques et financiers</th>\n",
       "      <th>Autres délits</th>\n",
       "    </tr>\n",
       "    <tr>\n",
       "      <th>index</th>\n",
       "      <th></th>\n",
       "      <th></th>\n",
       "      <th></th>\n",
       "      <th></th>\n",
       "      <th></th>\n",
       "      <th></th>\n",
       "      <th></th>\n",
       "      <th></th>\n",
       "      <th></th>\n",
       "      <th></th>\n",
       "      <th></th>\n",
       "      <th></th>\n",
       "      <th></th>\n",
       "      <th></th>\n",
       "      <th></th>\n",
       "      <th></th>\n",
       "      <th></th>\n",
       "      <th></th>\n",
       "      <th></th>\n",
       "      <th></th>\n",
       "      <th></th>\n",
       "    </tr>\n",
       "  </thead>\n",
       "  <tbody>\n",
       "    <tr>\n",
       "      <th>2000</th>\n",
       "      <td>84</td>\n",
       "      <td>63</td>\n",
       "      <td>949</td>\n",
       "      <td>116</td>\n",
       "      <td>1059</td>\n",
       "      <td>195</td>\n",
       "      <td>110422</td>\n",
       "      <td>42</td>\n",
       "      <td>31</td>\n",
       "      <td>1637</td>\n",
       "      <td>...</td>\n",
       "      <td>2047</td>\n",
       "      <td>0</td>\n",
       "      <td>0</td>\n",
       "      <td>1705</td>\n",
       "      <td>467</td>\n",
       "      <td>859</td>\n",
       "      <td>2481</td>\n",
       "      <td>469</td>\n",
       "      <td>1862</td>\n",
       "      <td>79717</td>\n",
       "    </tr>\n",
       "    <tr>\n",
       "      <th>2001</th>\n",
       "      <td>109</td>\n",
       "      <td>62</td>\n",
       "      <td>905</td>\n",
       "      <td>112</td>\n",
       "      <td>1227</td>\n",
       "      <td>237</td>\n",
       "      <td>121154</td>\n",
       "      <td>44</td>\n",
       "      <td>35</td>\n",
       "      <td>1855</td>\n",
       "      <td>...</td>\n",
       "      <td>1650</td>\n",
       "      <td>0</td>\n",
       "      <td>0</td>\n",
       "      <td>917</td>\n",
       "      <td>386</td>\n",
       "      <td>907</td>\n",
       "      <td>2101</td>\n",
       "      <td>605</td>\n",
       "      <td>2322</td>\n",
       "      <td>93087</td>\n",
       "    </tr>\n",
       "    <tr>\n",
       "      <th>2002</th>\n",
       "      <td>146</td>\n",
       "      <td>54</td>\n",
       "      <td>936</td>\n",
       "      <td>128</td>\n",
       "      <td>1274</td>\n",
       "      <td>206</td>\n",
       "      <td>129910</td>\n",
       "      <td>76</td>\n",
       "      <td>37</td>\n",
       "      <td>2102</td>\n",
       "      <td>...</td>\n",
       "      <td>1524</td>\n",
       "      <td>0</td>\n",
       "      <td>0</td>\n",
       "      <td>588</td>\n",
       "      <td>484</td>\n",
       "      <td>844</td>\n",
       "      <td>2530</td>\n",
       "      <td>639</td>\n",
       "      <td>1724</td>\n",
       "      <td>97085</td>\n",
       "    </tr>\n",
       "    <tr>\n",
       "      <th>2003</th>\n",
       "      <td>122</td>\n",
       "      <td>70</td>\n",
       "      <td>880</td>\n",
       "      <td>108</td>\n",
       "      <td>1215</td>\n",
       "      <td>223</td>\n",
       "      <td>141700</td>\n",
       "      <td>45</td>\n",
       "      <td>34</td>\n",
       "      <td>2002</td>\n",
       "      <td>...</td>\n",
       "      <td>1605</td>\n",
       "      <td>0</td>\n",
       "      <td>0</td>\n",
       "      <td>591</td>\n",
       "      <td>463</td>\n",
       "      <td>914</td>\n",
       "      <td>2536</td>\n",
       "      <td>672</td>\n",
       "      <td>1912</td>\n",
       "      <td>99019</td>\n",
       "    </tr>\n",
       "    <tr>\n",
       "      <th>2004</th>\n",
       "      <td>123</td>\n",
       "      <td>56</td>\n",
       "      <td>894</td>\n",
       "      <td>81</td>\n",
       "      <td>1134</td>\n",
       "      <td>219</td>\n",
       "      <td>144832</td>\n",
       "      <td>49</td>\n",
       "      <td>16</td>\n",
       "      <td>2132</td>\n",
       "      <td>...</td>\n",
       "      <td>1475</td>\n",
       "      <td>0</td>\n",
       "      <td>0</td>\n",
       "      <td>608</td>\n",
       "      <td>466</td>\n",
       "      <td>1156</td>\n",
       "      <td>2017</td>\n",
       "      <td>803</td>\n",
       "      <td>2187</td>\n",
       "      <td>101086</td>\n",
       "    </tr>\n",
       "    <tr>\n",
       "      <th>2005</th>\n",
       "      <td>113</td>\n",
       "      <td>51</td>\n",
       "      <td>895</td>\n",
       "      <td>89</td>\n",
       "      <td>1153</td>\n",
       "      <td>240</td>\n",
       "      <td>157092</td>\n",
       "      <td>37</td>\n",
       "      <td>27</td>\n",
       "      <td>2007</td>\n",
       "      <td>...</td>\n",
       "      <td>1696</td>\n",
       "      <td>0</td>\n",
       "      <td>0</td>\n",
       "      <td>666</td>\n",
       "      <td>434</td>\n",
       "      <td>1088</td>\n",
       "      <td>2170</td>\n",
       "      <td>792</td>\n",
       "      <td>2887</td>\n",
       "      <td>106190</td>\n",
       "    </tr>\n",
       "    <tr>\n",
       "      <th>2006</th>\n",
       "      <td>93</td>\n",
       "      <td>50</td>\n",
       "      <td>779</td>\n",
       "      <td>53</td>\n",
       "      <td>1127</td>\n",
       "      <td>212</td>\n",
       "      <td>173666</td>\n",
       "      <td>45</td>\n",
       "      <td>26</td>\n",
       "      <td>2287</td>\n",
       "      <td>...</td>\n",
       "      <td>1948</td>\n",
       "      <td>0</td>\n",
       "      <td>0</td>\n",
       "      <td>512</td>\n",
       "      <td>511</td>\n",
       "      <td>1380</td>\n",
       "      <td>2409</td>\n",
       "      <td>951</td>\n",
       "      <td>2956</td>\n",
       "      <td>101275</td>\n",
       "    </tr>\n",
       "    <tr>\n",
       "      <th>2007</th>\n",
       "      <td>63</td>\n",
       "      <td>44</td>\n",
       "      <td>803</td>\n",
       "      <td>67</td>\n",
       "      <td>1086</td>\n",
       "      <td>203</td>\n",
       "      <td>186727</td>\n",
       "      <td>22</td>\n",
       "      <td>16</td>\n",
       "      <td>2135</td>\n",
       "      <td>...</td>\n",
       "      <td>2048</td>\n",
       "      <td>0</td>\n",
       "      <td>0</td>\n",
       "      <td>431</td>\n",
       "      <td>388</td>\n",
       "      <td>1252</td>\n",
       "      <td>2403</td>\n",
       "      <td>829</td>\n",
       "      <td>3239</td>\n",
       "      <td>96129</td>\n",
       "    </tr>\n",
       "    <tr>\n",
       "      <th>2008</th>\n",
       "      <td>138</td>\n",
       "      <td>37</td>\n",
       "      <td>753</td>\n",
       "      <td>69</td>\n",
       "      <td>1085</td>\n",
       "      <td>211</td>\n",
       "      <td>199111</td>\n",
       "      <td>21</td>\n",
       "      <td>21</td>\n",
       "      <td>2103</td>\n",
       "      <td>...</td>\n",
       "      <td>1937</td>\n",
       "      <td>0</td>\n",
       "      <td>0</td>\n",
       "      <td>483</td>\n",
       "      <td>378</td>\n",
       "      <td>1440</td>\n",
       "      <td>2413</td>\n",
       "      <td>934</td>\n",
       "      <td>3275</td>\n",
       "      <td>97301</td>\n",
       "    </tr>\n",
       "    <tr>\n",
       "      <th>2009</th>\n",
       "      <td>56</td>\n",
       "      <td>31</td>\n",
       "      <td>647</td>\n",
       "      <td>65</td>\n",
       "      <td>999</td>\n",
       "      <td>163</td>\n",
       "      <td>206160</td>\n",
       "      <td>25</td>\n",
       "      <td>28</td>\n",
       "      <td>2094</td>\n",
       "      <td>...</td>\n",
       "      <td>1784</td>\n",
       "      <td>0</td>\n",
       "      <td>0</td>\n",
       "      <td>385</td>\n",
       "      <td>374</td>\n",
       "      <td>1514</td>\n",
       "      <td>2439</td>\n",
       "      <td>868</td>\n",
       "      <td>3404</td>\n",
       "      <td>94020</td>\n",
       "    </tr>\n",
       "    <tr>\n",
       "      <th>2010</th>\n",
       "      <td>50</td>\n",
       "      <td>42</td>\n",
       "      <td>653</td>\n",
       "      <td>65</td>\n",
       "      <td>1144</td>\n",
       "      <td>136</td>\n",
       "      <td>206310</td>\n",
       "      <td>21</td>\n",
       "      <td>17</td>\n",
       "      <td>2148</td>\n",
       "      <td>...</td>\n",
       "      <td>1752</td>\n",
       "      <td>0</td>\n",
       "      <td>0</td>\n",
       "      <td>265</td>\n",
       "      <td>301</td>\n",
       "      <td>1280</td>\n",
       "      <td>2769</td>\n",
       "      <td>851</td>\n",
       "      <td>3048</td>\n",
       "      <td>92115</td>\n",
       "    </tr>\n",
       "    <tr>\n",
       "      <th>2011</th>\n",
       "      <td>60</td>\n",
       "      <td>44</td>\n",
       "      <td>720</td>\n",
       "      <td>55</td>\n",
       "      <td>1259</td>\n",
       "      <td>130</td>\n",
       "      <td>206350</td>\n",
       "      <td>22</td>\n",
       "      <td>14</td>\n",
       "      <td>2301</td>\n",
       "      <td>...</td>\n",
       "      <td>1520</td>\n",
       "      <td>0</td>\n",
       "      <td>0</td>\n",
       "      <td>319</td>\n",
       "      <td>459</td>\n",
       "      <td>1417</td>\n",
       "      <td>2913</td>\n",
       "      <td>929</td>\n",
       "      <td>5696</td>\n",
       "      <td>99418</td>\n",
       "    </tr>\n",
       "    <tr>\n",
       "      <th>2012</th>\n",
       "      <td>73</td>\n",
       "      <td>35</td>\n",
       "      <td>651</td>\n",
       "      <td>71</td>\n",
       "      <td>1475</td>\n",
       "      <td>140</td>\n",
       "      <td>207411</td>\n",
       "      <td>25</td>\n",
       "      <td>21</td>\n",
       "      <td>2161</td>\n",
       "      <td>...</td>\n",
       "      <td>1503</td>\n",
       "      <td>0</td>\n",
       "      <td>0</td>\n",
       "      <td>784</td>\n",
       "      <td>333</td>\n",
       "      <td>1283</td>\n",
       "      <td>3050</td>\n",
       "      <td>818</td>\n",
       "      <td>6806</td>\n",
       "      <td>102657</td>\n",
       "    </tr>\n",
       "    <tr>\n",
       "      <th>2013</th>\n",
       "      <td>55</td>\n",
       "      <td>33</td>\n",
       "      <td>649</td>\n",
       "      <td>105</td>\n",
       "      <td>1391</td>\n",
       "      <td>109</td>\n",
       "      <td>207530</td>\n",
       "      <td>37</td>\n",
       "      <td>29</td>\n",
       "      <td>2281</td>\n",
       "      <td>...</td>\n",
       "      <td>1643</td>\n",
       "      <td>0</td>\n",
       "      <td>0</td>\n",
       "      <td>743</td>\n",
       "      <td>308</td>\n",
       "      <td>1344</td>\n",
       "      <td>3200</td>\n",
       "      <td>742</td>\n",
       "      <td>10579</td>\n",
       "      <td>106259</td>\n",
       "    </tr>\n",
       "    <tr>\n",
       "      <th>2014</th>\n",
       "      <td>70</td>\n",
       "      <td>26</td>\n",
       "      <td>615</td>\n",
       "      <td>84</td>\n",
       "      <td>1584</td>\n",
       "      <td>153</td>\n",
       "      <td>211638</td>\n",
       "      <td>38</td>\n",
       "      <td>30</td>\n",
       "      <td>2945</td>\n",
       "      <td>...</td>\n",
       "      <td>1729</td>\n",
       "      <td>0</td>\n",
       "      <td>0</td>\n",
       "      <td>768</td>\n",
       "      <td>338</td>\n",
       "      <td>1329</td>\n",
       "      <td>3497</td>\n",
       "      <td>814</td>\n",
       "      <td>11240</td>\n",
       "      <td>111750</td>\n",
       "    </tr>\n",
       "    <tr>\n",
       "      <th>2015</th>\n",
       "      <td>56</td>\n",
       "      <td>23</td>\n",
       "      <td>798</td>\n",
       "      <td>99</td>\n",
       "      <td>2053</td>\n",
       "      <td>140</td>\n",
       "      <td>227151</td>\n",
       "      <td>36</td>\n",
       "      <td>30</td>\n",
       "      <td>4093</td>\n",
       "      <td>...</td>\n",
       "      <td>1531</td>\n",
       "      <td>0</td>\n",
       "      <td>0</td>\n",
       "      <td>801</td>\n",
       "      <td>290</td>\n",
       "      <td>1863</td>\n",
       "      <td>3908</td>\n",
       "      <td>636</td>\n",
       "      <td>9903</td>\n",
       "      <td>123630</td>\n",
       "    </tr>\n",
       "    <tr>\n",
       "      <th>2016</th>\n",
       "      <td>89</td>\n",
       "      <td>43</td>\n",
       "      <td>834</td>\n",
       "      <td>111</td>\n",
       "      <td>2331</td>\n",
       "      <td>170</td>\n",
       "      <td>231259</td>\n",
       "      <td>70</td>\n",
       "      <td>62</td>\n",
       "      <td>4139</td>\n",
       "      <td>...</td>\n",
       "      <td>1678</td>\n",
       "      <td>0</td>\n",
       "      <td>0</td>\n",
       "      <td>913</td>\n",
       "      <td>211</td>\n",
       "      <td>1808</td>\n",
       "      <td>4570</td>\n",
       "      <td>641</td>\n",
       "      <td>8551</td>\n",
       "      <td>123720</td>\n",
       "    </tr>\n",
       "    <tr>\n",
       "      <th>2017</th>\n",
       "      <td>100</td>\n",
       "      <td>39</td>\n",
       "      <td>756</td>\n",
       "      <td>109</td>\n",
       "      <td>2488</td>\n",
       "      <td>155</td>\n",
       "      <td>239318</td>\n",
       "      <td>73</td>\n",
       "      <td>68</td>\n",
       "      <td>4096</td>\n",
       "      <td>...</td>\n",
       "      <td>1670</td>\n",
       "      <td>0</td>\n",
       "      <td>0</td>\n",
       "      <td>922</td>\n",
       "      <td>166</td>\n",
       "      <td>1496</td>\n",
       "      <td>4356</td>\n",
       "      <td>597</td>\n",
       "      <td>9964</td>\n",
       "      <td>129488</td>\n",
       "    </tr>\n",
       "    <tr>\n",
       "      <th>2018</th>\n",
       "      <td>113</td>\n",
       "      <td>33</td>\n",
       "      <td>689</td>\n",
       "      <td>122</td>\n",
       "      <td>2651</td>\n",
       "      <td>200</td>\n",
       "      <td>257140</td>\n",
       "      <td>93</td>\n",
       "      <td>101</td>\n",
       "      <td>4285</td>\n",
       "      <td>...</td>\n",
       "      <td>1775</td>\n",
       "      <td>0</td>\n",
       "      <td>0</td>\n",
       "      <td>980</td>\n",
       "      <td>194</td>\n",
       "      <td>1848</td>\n",
       "      <td>4719</td>\n",
       "      <td>609</td>\n",
       "      <td>10666</td>\n",
       "      <td>138226</td>\n",
       "    </tr>\n",
       "    <tr>\n",
       "      <th>2019</th>\n",
       "      <td>98</td>\n",
       "      <td>35</td>\n",
       "      <td>848</td>\n",
       "      <td>114</td>\n",
       "      <td>2877</td>\n",
       "      <td>164</td>\n",
       "      <td>278702</td>\n",
       "      <td>125</td>\n",
       "      <td>147</td>\n",
       "      <td>4211</td>\n",
       "      <td>...</td>\n",
       "      <td>1627</td>\n",
       "      <td>0</td>\n",
       "      <td>0</td>\n",
       "      <td>941</td>\n",
       "      <td>166</td>\n",
       "      <td>1788</td>\n",
       "      <td>4795</td>\n",
       "      <td>661</td>\n",
       "      <td>11962</td>\n",
       "      <td>147044</td>\n",
       "    </tr>\n",
       "    <tr>\n",
       "      <th>2020</th>\n",
       "      <td>112</td>\n",
       "      <td>41</td>\n",
       "      <td>809</td>\n",
       "      <td>138</td>\n",
       "      <td>3186</td>\n",
       "      <td>152</td>\n",
       "      <td>282119</td>\n",
       "      <td>103</td>\n",
       "      <td>172</td>\n",
       "      <td>4192</td>\n",
       "      <td>...</td>\n",
       "      <td>1434</td>\n",
       "      <td>0</td>\n",
       "      <td>0</td>\n",
       "      <td>980</td>\n",
       "      <td>106</td>\n",
       "      <td>1249</td>\n",
       "      <td>4359</td>\n",
       "      <td>716</td>\n",
       "      <td>13176</td>\n",
       "      <td>139990</td>\n",
       "    </tr>\n",
       "    <tr>\n",
       "      <th>2021</th>\n",
       "      <td>106</td>\n",
       "      <td>30</td>\n",
       "      <td>878</td>\n",
       "      <td>144</td>\n",
       "      <td>3305</td>\n",
       "      <td>170</td>\n",
       "      <td>315694</td>\n",
       "      <td>108</td>\n",
       "      <td>184</td>\n",
       "      <td>4798</td>\n",
       "      <td>...</td>\n",
       "      <td>1547</td>\n",
       "      <td>0</td>\n",
       "      <td>0</td>\n",
       "      <td>1374</td>\n",
       "      <td>99</td>\n",
       "      <td>1328</td>\n",
       "      <td>5364</td>\n",
       "      <td>826</td>\n",
       "      <td>19420</td>\n",
       "      <td>169629</td>\n",
       "    </tr>\n",
       "    <tr>\n",
       "      <th>2022</th>\n",
       "      <td>86</td>\n",
       "      <td>22</td>\n",
       "      <td>533</td>\n",
       "      <td>82</td>\n",
       "      <td>2132</td>\n",
       "      <td>134</td>\n",
       "      <td>209479</td>\n",
       "      <td>65</td>\n",
       "      <td>134</td>\n",
       "      <td>2988</td>\n",
       "      <td>...</td>\n",
       "      <td>807</td>\n",
       "      <td>0</td>\n",
       "      <td>0</td>\n",
       "      <td>625</td>\n",
       "      <td>31</td>\n",
       "      <td>801</td>\n",
       "      <td>2887</td>\n",
       "      <td>476</td>\n",
       "      <td>10038</td>\n",
       "      <td>103069</td>\n",
       "    </tr>\n",
       "  </tbody>\n",
       "</table>\n",
       "<p>23 rows × 107 columns</p>\n",
       "</div>"
      ],
      "text/plain": [
       "libellé index  Règlements de compte entre malfaiteurs  \\\n",
       "index                                                   \n",
       "2000                                               84   \n",
       "2001                                              109   \n",
       "2002                                              146   \n",
       "2003                                              122   \n",
       "2004                                              123   \n",
       "2005                                              113   \n",
       "2006                                               93   \n",
       "2007                                               63   \n",
       "2008                                              138   \n",
       "2009                                               56   \n",
       "2010                                               50   \n",
       "2011                                               60   \n",
       "2012                                               73   \n",
       "2013                                               55   \n",
       "2014                                               70   \n",
       "2015                                               56   \n",
       "2016                                               89   \n",
       "2017                                              100   \n",
       "2018                                              113   \n",
       "2019                                               98   \n",
       "2020                                              112   \n",
       "2021                                              106   \n",
       "2022                                               86   \n",
       "\n",
       "libellé index  Homicides pour voler et à l'occasion de vols  \\\n",
       "index                                                         \n",
       "2000                                                     63   \n",
       "2001                                                     62   \n",
       "2002                                                     54   \n",
       "2003                                                     70   \n",
       "2004                                                     56   \n",
       "2005                                                     51   \n",
       "2006                                                     50   \n",
       "2007                                                     44   \n",
       "2008                                                     37   \n",
       "2009                                                     31   \n",
       "2010                                                     42   \n",
       "2011                                                     44   \n",
       "2012                                                     35   \n",
       "2013                                                     33   \n",
       "2014                                                     26   \n",
       "2015                                                     23   \n",
       "2016                                                     43   \n",
       "2017                                                     39   \n",
       "2018                                                     33   \n",
       "2019                                                     35   \n",
       "2020                                                     41   \n",
       "2021                                                     30   \n",
       "2022                                                     22   \n",
       "\n",
       "libellé index  Homicides pour d'autres motifs  \\\n",
       "index                                           \n",
       "2000                                      949   \n",
       "2001                                      905   \n",
       "2002                                      936   \n",
       "2003                                      880   \n",
       "2004                                      894   \n",
       "2005                                      895   \n",
       "2006                                      779   \n",
       "2007                                      803   \n",
       "2008                                      753   \n",
       "2009                                      647   \n",
       "2010                                      653   \n",
       "2011                                      720   \n",
       "2012                                      651   \n",
       "2013                                      649   \n",
       "2014                                      615   \n",
       "2015                                      798   \n",
       "2016                                      834   \n",
       "2017                                      756   \n",
       "2018                                      689   \n",
       "2019                                      848   \n",
       "2020                                      809   \n",
       "2021                                      878   \n",
       "2022                                      533   \n",
       "\n",
       "libellé index  Tentatives d'homicides pour voler et à l'occasion de vols  \\\n",
       "index                                                                      \n",
       "2000                                                         116           \n",
       "2001                                                         112           \n",
       "2002                                                         128           \n",
       "2003                                                         108           \n",
       "2004                                                          81           \n",
       "2005                                                          89           \n",
       "2006                                                          53           \n",
       "2007                                                          67           \n",
       "2008                                                          69           \n",
       "2009                                                          65           \n",
       "2010                                                          65           \n",
       "2011                                                          55           \n",
       "2012                                                          71           \n",
       "2013                                                         105           \n",
       "2014                                                          84           \n",
       "2015                                                          99           \n",
       "2016                                                         111           \n",
       "2017                                                         109           \n",
       "2018                                                         122           \n",
       "2019                                                         114           \n",
       "2020                                                         138           \n",
       "2021                                                         144           \n",
       "2022                                                          82           \n",
       "\n",
       "libellé index  Tentatives homicides pour d'autres motifs  \\\n",
       "index                                                      \n",
       "2000                                                1059   \n",
       "2001                                                1227   \n",
       "2002                                                1274   \n",
       "2003                                                1215   \n",
       "2004                                                1134   \n",
       "2005                                                1153   \n",
       "2006                                                1127   \n",
       "2007                                                1086   \n",
       "2008                                                1085   \n",
       "2009                                                 999   \n",
       "2010                                                1144   \n",
       "2011                                                1259   \n",
       "2012                                                1475   \n",
       "2013                                                1391   \n",
       "2014                                                1584   \n",
       "2015                                                2053   \n",
       "2016                                                2331   \n",
       "2017                                                2488   \n",
       "2018                                                2651   \n",
       "2019                                                2877   \n",
       "2020                                                3186   \n",
       "2021                                                3305   \n",
       "2022                                                2132   \n",
       "\n",
       "libellé index  Coups et blessures volontaires suivis de mort  \\\n",
       "index                                                          \n",
       "2000                                                     195   \n",
       "2001                                                     237   \n",
       "2002                                                     206   \n",
       "2003                                                     223   \n",
       "2004                                                     219   \n",
       "2005                                                     240   \n",
       "2006                                                     212   \n",
       "2007                                                     203   \n",
       "2008                                                     211   \n",
       "2009                                                     163   \n",
       "2010                                                     136   \n",
       "2011                                                     130   \n",
       "2012                                                     140   \n",
       "2013                                                     109   \n",
       "2014                                                     153   \n",
       "2015                                                     140   \n",
       "2016                                                     170   \n",
       "2017                                                     155   \n",
       "2018                                                     200   \n",
       "2019                                                     164   \n",
       "2020                                                     152   \n",
       "2021                                                     170   \n",
       "2022                                                     134   \n",
       "\n",
       "libellé index  Autres coups et blessures volontaires criminels ou correctionnels  \\\n",
       "index                                                                              \n",
       "2000                                                      110422                   \n",
       "2001                                                      121154                   \n",
       "2002                                                      129910                   \n",
       "2003                                                      141700                   \n",
       "2004                                                      144832                   \n",
       "2005                                                      157092                   \n",
       "2006                                                      173666                   \n",
       "2007                                                      186727                   \n",
       "2008                                                      199111                   \n",
       "2009                                                      206160                   \n",
       "2010                                                      206310                   \n",
       "2011                                                      206350                   \n",
       "2012                                                      207411                   \n",
       "2013                                                      207530                   \n",
       "2014                                                      211638                   \n",
       "2015                                                      227151                   \n",
       "2016                                                      231259                   \n",
       "2017                                                      239318                   \n",
       "2018                                                      257140                   \n",
       "2019                                                      278702                   \n",
       "2020                                                      282119                   \n",
       "2021                                                      315694                   \n",
       "2022                                                      209479                   \n",
       "\n",
       "libellé index  Prises d'otages à l'occasion de vols  \\\n",
       "index                                                 \n",
       "2000                                             42   \n",
       "2001                                             44   \n",
       "2002                                             76   \n",
       "2003                                             45   \n",
       "2004                                             49   \n",
       "2005                                             37   \n",
       "2006                                             45   \n",
       "2007                                             22   \n",
       "2008                                             21   \n",
       "2009                                             25   \n",
       "2010                                             21   \n",
       "2011                                             22   \n",
       "2012                                             25   \n",
       "2013                                             37   \n",
       "2014                                             38   \n",
       "2015                                             36   \n",
       "2016                                             70   \n",
       "2017                                             73   \n",
       "2018                                             93   \n",
       "2019                                            125   \n",
       "2020                                            103   \n",
       "2021                                            108   \n",
       "2022                                             65   \n",
       "\n",
       "libellé index  Prises d'otages dans un autre but  Sequestrations  ...  \\\n",
       "index                                                             ...   \n",
       "2000                                          31            1637  ...   \n",
       "2001                                          35            1855  ...   \n",
       "2002                                          37            2102  ...   \n",
       "2003                                          34            2002  ...   \n",
       "2004                                          16            2132  ...   \n",
       "2005                                          27            2007  ...   \n",
       "2006                                          26            2287  ...   \n",
       "2007                                          16            2135  ...   \n",
       "2008                                          21            2103  ...   \n",
       "2009                                          28            2094  ...   \n",
       "2010                                          17            2148  ...   \n",
       "2011                                          14            2301  ...   \n",
       "2012                                          21            2161  ...   \n",
       "2013                                          29            2281  ...   \n",
       "2014                                          30            2945  ...   \n",
       "2015                                          30            4093  ...   \n",
       "2016                                          62            4139  ...   \n",
       "2017                                          68            4096  ...   \n",
       "2018                                         101            4285  ...   \n",
       "2019                                         147            4211  ...   \n",
       "2020                                         172            4192  ...   \n",
       "2021                                         184            4798  ...   \n",
       "2022                                         134            2988  ...   \n",
       "\n",
       "libellé index  Banqueroutes, abus de biens sociaux et autres délits de société  \\\n",
       "index                                                                            \n",
       "2000                                                        2047                 \n",
       "2001                                                        1650                 \n",
       "2002                                                        1524                 \n",
       "2003                                                        1605                 \n",
       "2004                                                        1475                 \n",
       "2005                                                        1696                 \n",
       "2006                                                        1948                 \n",
       "2007                                                        2048                 \n",
       "2008                                                        1937                 \n",
       "2009                                                        1784                 \n",
       "2010                                                        1752                 \n",
       "2011                                                        1520                 \n",
       "2012                                                        1503                 \n",
       "2013                                                        1643                 \n",
       "2014                                                        1729                 \n",
       "2015                                                        1531                 \n",
       "2016                                                        1678                 \n",
       "2017                                                        1670                 \n",
       "2018                                                        1775                 \n",
       "2019                                                        1627                 \n",
       "2020                                                        1434                 \n",
       "2021                                                        1547                 \n",
       "2022                                                         807                 \n",
       "\n",
       "libellé index  Index non utilisé  Index non utilisé  \\\n",
       "index                                                 \n",
       "2000                           0                  0   \n",
       "2001                           0                  0   \n",
       "2002                           0                  0   \n",
       "2003                           0                  0   \n",
       "2004                           0                  0   \n",
       "2005                           0                  0   \n",
       "2006                           0                  0   \n",
       "2007                           0                  0   \n",
       "2008                           0                  0   \n",
       "2009                           0                  0   \n",
       "2010                           0                  0   \n",
       "2011                           0                  0   \n",
       "2012                           0                  0   \n",
       "2013                           0                  0   \n",
       "2014                           0                  0   \n",
       "2015                           0                  0   \n",
       "2016                           0                  0   \n",
       "2017                           0                  0   \n",
       "2018                           0                  0   \n",
       "2019                           0                  0   \n",
       "2020                           0                  0   \n",
       "2021                           0                  0   \n",
       "2022                           0                  0   \n",
       "\n",
       "libellé index  Prix illicittes, publicité fausse et infractions aux règles de la concurrence  \\\n",
       "index                                                                                          \n",
       "2000                                                        1705                               \n",
       "2001                                                         917                               \n",
       "2002                                                         588                               \n",
       "2003                                                         591                               \n",
       "2004                                                         608                               \n",
       "2005                                                         666                               \n",
       "2006                                                         512                               \n",
       "2007                                                         431                               \n",
       "2008                                                         483                               \n",
       "2009                                                         385                               \n",
       "2010                                                         265                               \n",
       "2011                                                         319                               \n",
       "2012                                                         784                               \n",
       "2013                                                         743                               \n",
       "2014                                                         768                               \n",
       "2015                                                         801                               \n",
       "2016                                                         913                               \n",
       "2017                                                         922                               \n",
       "2018                                                         980                               \n",
       "2019                                                         941                               \n",
       "2020                                                         980                               \n",
       "2021                                                        1374                               \n",
       "2022                                                         625                               \n",
       "\n",
       "libellé index  Achats et ventes sans factures  \\\n",
       "index                                           \n",
       "2000                                      467   \n",
       "2001                                      386   \n",
       "2002                                      484   \n",
       "2003                                      463   \n",
       "2004                                      466   \n",
       "2005                                      434   \n",
       "2006                                      511   \n",
       "2007                                      388   \n",
       "2008                                      378   \n",
       "2009                                      374   \n",
       "2010                                      301   \n",
       "2011                                      459   \n",
       "2012                                      333   \n",
       "2013                                      308   \n",
       "2014                                      338   \n",
       "2015                                      290   \n",
       "2016                                      211   \n",
       "2017                                      166   \n",
       "2018                                      194   \n",
       "2019                                      166   \n",
       "2020                                      106   \n",
       "2021                                       99   \n",
       "2022                                       31   \n",
       "\n",
       "libellé index  Infractions à l'exercice d'une profession règlementée  \\\n",
       "index                                                                  \n",
       "2000                                                         859       \n",
       "2001                                                         907       \n",
       "2002                                                         844       \n",
       "2003                                                         914       \n",
       "2004                                                        1156       \n",
       "2005                                                        1088       \n",
       "2006                                                        1380       \n",
       "2007                                                        1252       \n",
       "2008                                                        1440       \n",
       "2009                                                        1514       \n",
       "2010                                                        1280       \n",
       "2011                                                        1417       \n",
       "2012                                                        1283       \n",
       "2013                                                        1344       \n",
       "2014                                                        1329       \n",
       "2015                                                        1863       \n",
       "2016                                                        1808       \n",
       "2017                                                        1496       \n",
       "2018                                                        1848       \n",
       "2019                                                        1788       \n",
       "2020                                                        1249       \n",
       "2021                                                        1328       \n",
       "2022                                                         801       \n",
       "\n",
       "libellé index  Infractions au droit de l'urbanisme et de la construction  \\\n",
       "index                                                                      \n",
       "2000                                                        2481           \n",
       "2001                                                        2101           \n",
       "2002                                                        2530           \n",
       "2003                                                        2536           \n",
       "2004                                                        2017           \n",
       "2005                                                        2170           \n",
       "2006                                                        2409           \n",
       "2007                                                        2403           \n",
       "2008                                                        2413           \n",
       "2009                                                        2439           \n",
       "2010                                                        2769           \n",
       "2011                                                        2913           \n",
       "2012                                                        3050           \n",
       "2013                                                        3200           \n",
       "2014                                                        3497           \n",
       "2015                                                        3908           \n",
       "2016                                                        4570           \n",
       "2017                                                        4356           \n",
       "2018                                                        4719           \n",
       "2019                                                        4795           \n",
       "2020                                                        4359           \n",
       "2021                                                        5364           \n",
       "2022                                                        2887           \n",
       "\n",
       "libellé index  Fraudes fiscales  Autres délits économiques et financiers  \\\n",
       "index                                                                      \n",
       "2000                        469                                     1862   \n",
       "2001                        605                                     2322   \n",
       "2002                        639                                     1724   \n",
       "2003                        672                                     1912   \n",
       "2004                        803                                     2187   \n",
       "2005                        792                                     2887   \n",
       "2006                        951                                     2956   \n",
       "2007                        829                                     3239   \n",
       "2008                        934                                     3275   \n",
       "2009                        868                                     3404   \n",
       "2010                        851                                     3048   \n",
       "2011                        929                                     5696   \n",
       "2012                        818                                     6806   \n",
       "2013                        742                                    10579   \n",
       "2014                        814                                    11240   \n",
       "2015                        636                                     9903   \n",
       "2016                        641                                     8551   \n",
       "2017                        597                                     9964   \n",
       "2018                        609                                    10666   \n",
       "2019                        661                                    11962   \n",
       "2020                        716                                    13176   \n",
       "2021                        826                                    19420   \n",
       "2022                        476                                    10038   \n",
       "\n",
       "libellé index  Autres délits  \n",
       "index                         \n",
       "2000                   79717  \n",
       "2001                   93087  \n",
       "2002                   97085  \n",
       "2003                   99019  \n",
       "2004                  101086  \n",
       "2005                  106190  \n",
       "2006                  101275  \n",
       "2007                   96129  \n",
       "2008                   97301  \n",
       "2009                   94020  \n",
       "2010                   92115  \n",
       "2011                   99418  \n",
       "2012                  102657  \n",
       "2013                  106259  \n",
       "2014                  111750  \n",
       "2015                  123630  \n",
       "2016                  123720  \n",
       "2017                  129488  \n",
       "2018                  138226  \n",
       "2019                  147044  \n",
       "2020                  139990  \n",
       "2021                  169629  \n",
       "2022                  103069  \n",
       "\n",
       "[23 rows x 107 columns]"
      ]
     },
     "execution_count": 164,
     "metadata": {},
     "output_type": "execute_result"
    }
   ],
   "source": [
    "#Ceci est la bonne verison du dataframe, il ne prend en compte que la sheet \"France_Entière\".\n",
    "df = pd.read_excel(\"./crimes_2000.xlsx\", \"France_Entière\").drop(columns=[\"Index\"])\n",
    "csv = df.to_csv(\"data.csv\",index = False)\n",
    "df = pd.read_csv(\"./data.csv\", sep=\",\").set_index(\"libellé index\").transpose()\n",
    "df = df.reset_index()\n",
    "print(df[\"index\"][1].split(\"_\")[1])\n",
    "for index, row in df.iterrows():\n",
    "    df = df.replace(df[\"index\"][index],str(df[\"index\"][index].split(\"_\")[1]))\n",
    "\n",
    "df = df.groupby(\"index\").sum()\n",
    "df"
   ]
  },
  {
   "cell_type": "code",
   "execution_count": 165,
   "id": "c683046e",
   "metadata": {},
   "outputs": [
    {
     "data": {
      "text/plain": [
       "libellé index\n",
       "index                                                        int64\n",
       "Règlements de compte entre malfaiteurs                       int64\n",
       "Homicides pour voler et à l'occasion de vols                 int64\n",
       "Homicides pour d'autres motifs                               int64\n",
       "Tentatives d'homicides pour voler et à l'occasion de vols    int64\n",
       "                                                             ...  \n",
       "Infractions à l'exercice d'une profession règlementée        int64\n",
       "Infractions au droit de l'urbanisme et de la construction    int64\n",
       "Fraudes fiscales                                             int64\n",
       "Autres délits économiques et financiers                      int64\n",
       "Autres délits                                                int64\n",
       "Length: 108, dtype: object"
      ]
     },
     "execution_count": 165,
     "metadata": {},
     "output_type": "execute_result"
    }
   ],
   "source": [
    "df = df.reset_index()\n",
    "df[\"index\"] = pd.to_numeric(df[\"index\"])\n",
    "\n",
    "df.dtypes"
   ]
  },
  {
   "cell_type": "code",
   "execution_count": 166,
   "id": "3232d139",
   "metadata": {},
   "outputs": [
    {
     "data": {
      "application/vnd.plotly.v1+json": {
       "config": {
        "plotlyServerURL": "https://plot.ly"
       },
       "data": [
        {
         "hovertemplate": "index=%{x}<br>Autres coups et blessures volontaires criminels ou correctionnels=%{y}<extra></extra>",
         "legendgroup": "",
         "line": {
          "color": "#636efa",
          "dash": "solid"
         },
         "marker": {
          "symbol": "circle"
         },
         "mode": "lines",
         "name": "",
         "orientation": "v",
         "showlegend": false,
         "type": "scatter",
         "x": [
          2000,
          2001,
          2002,
          2003,
          2004,
          2005,
          2006,
          2007,
          2008,
          2009,
          2010,
          2011,
          2012,
          2013,
          2014,
          2015,
          2016,
          2017,
          2018,
          2019,
          2020,
          2021,
          2022
         ],
         "xaxis": "x",
         "y": [
          110422,
          121154,
          129910,
          141700,
          144832,
          157092,
          173666,
          186727,
          199111,
          206160,
          206310,
          206350,
          207411,
          207530,
          211638,
          227151,
          231259,
          239318,
          257140,
          278702,
          282119,
          315694,
          209479
         ],
         "yaxis": "y"
        }
       ],
       "layout": {
        "legend": {
         "tracegroupgap": 0
        },
        "template": {
         "data": {
          "bar": [
           {
            "error_x": {
             "color": "#2a3f5f"
            },
            "error_y": {
             "color": "#2a3f5f"
            },
            "marker": {
             "line": {
              "color": "#E5ECF6",
              "width": 0.5
             },
             "pattern": {
              "fillmode": "overlay",
              "size": 10,
              "solidity": 0.2
             }
            },
            "type": "bar"
           }
          ],
          "barpolar": [
           {
            "marker": {
             "line": {
              "color": "#E5ECF6",
              "width": 0.5
             },
             "pattern": {
              "fillmode": "overlay",
              "size": 10,
              "solidity": 0.2
             }
            },
            "type": "barpolar"
           }
          ],
          "carpet": [
           {
            "aaxis": {
             "endlinecolor": "#2a3f5f",
             "gridcolor": "white",
             "linecolor": "white",
             "minorgridcolor": "white",
             "startlinecolor": "#2a3f5f"
            },
            "baxis": {
             "endlinecolor": "#2a3f5f",
             "gridcolor": "white",
             "linecolor": "white",
             "minorgridcolor": "white",
             "startlinecolor": "#2a3f5f"
            },
            "type": "carpet"
           }
          ],
          "choropleth": [
           {
            "colorbar": {
             "outlinewidth": 0,
             "ticks": ""
            },
            "type": "choropleth"
           }
          ],
          "contour": [
           {
            "colorbar": {
             "outlinewidth": 0,
             "ticks": ""
            },
            "colorscale": [
             [
              0,
              "#0d0887"
             ],
             [
              0.1111111111111111,
              "#46039f"
             ],
             [
              0.2222222222222222,
              "#7201a8"
             ],
             [
              0.3333333333333333,
              "#9c179e"
             ],
             [
              0.4444444444444444,
              "#bd3786"
             ],
             [
              0.5555555555555556,
              "#d8576b"
             ],
             [
              0.6666666666666666,
              "#ed7953"
             ],
             [
              0.7777777777777778,
              "#fb9f3a"
             ],
             [
              0.8888888888888888,
              "#fdca26"
             ],
             [
              1,
              "#f0f921"
             ]
            ],
            "type": "contour"
           }
          ],
          "contourcarpet": [
           {
            "colorbar": {
             "outlinewidth": 0,
             "ticks": ""
            },
            "type": "contourcarpet"
           }
          ],
          "heatmap": [
           {
            "colorbar": {
             "outlinewidth": 0,
             "ticks": ""
            },
            "colorscale": [
             [
              0,
              "#0d0887"
             ],
             [
              0.1111111111111111,
              "#46039f"
             ],
             [
              0.2222222222222222,
              "#7201a8"
             ],
             [
              0.3333333333333333,
              "#9c179e"
             ],
             [
              0.4444444444444444,
              "#bd3786"
             ],
             [
              0.5555555555555556,
              "#d8576b"
             ],
             [
              0.6666666666666666,
              "#ed7953"
             ],
             [
              0.7777777777777778,
              "#fb9f3a"
             ],
             [
              0.8888888888888888,
              "#fdca26"
             ],
             [
              1,
              "#f0f921"
             ]
            ],
            "type": "heatmap"
           }
          ],
          "heatmapgl": [
           {
            "colorbar": {
             "outlinewidth": 0,
             "ticks": ""
            },
            "colorscale": [
             [
              0,
              "#0d0887"
             ],
             [
              0.1111111111111111,
              "#46039f"
             ],
             [
              0.2222222222222222,
              "#7201a8"
             ],
             [
              0.3333333333333333,
              "#9c179e"
             ],
             [
              0.4444444444444444,
              "#bd3786"
             ],
             [
              0.5555555555555556,
              "#d8576b"
             ],
             [
              0.6666666666666666,
              "#ed7953"
             ],
             [
              0.7777777777777778,
              "#fb9f3a"
             ],
             [
              0.8888888888888888,
              "#fdca26"
             ],
             [
              1,
              "#f0f921"
             ]
            ],
            "type": "heatmapgl"
           }
          ],
          "histogram": [
           {
            "marker": {
             "pattern": {
              "fillmode": "overlay",
              "size": 10,
              "solidity": 0.2
             }
            },
            "type": "histogram"
           }
          ],
          "histogram2d": [
           {
            "colorbar": {
             "outlinewidth": 0,
             "ticks": ""
            },
            "colorscale": [
             [
              0,
              "#0d0887"
             ],
             [
              0.1111111111111111,
              "#46039f"
             ],
             [
              0.2222222222222222,
              "#7201a8"
             ],
             [
              0.3333333333333333,
              "#9c179e"
             ],
             [
              0.4444444444444444,
              "#bd3786"
             ],
             [
              0.5555555555555556,
              "#d8576b"
             ],
             [
              0.6666666666666666,
              "#ed7953"
             ],
             [
              0.7777777777777778,
              "#fb9f3a"
             ],
             [
              0.8888888888888888,
              "#fdca26"
             ],
             [
              1,
              "#f0f921"
             ]
            ],
            "type": "histogram2d"
           }
          ],
          "histogram2dcontour": [
           {
            "colorbar": {
             "outlinewidth": 0,
             "ticks": ""
            },
            "colorscale": [
             [
              0,
              "#0d0887"
             ],
             [
              0.1111111111111111,
              "#46039f"
             ],
             [
              0.2222222222222222,
              "#7201a8"
             ],
             [
              0.3333333333333333,
              "#9c179e"
             ],
             [
              0.4444444444444444,
              "#bd3786"
             ],
             [
              0.5555555555555556,
              "#d8576b"
             ],
             [
              0.6666666666666666,
              "#ed7953"
             ],
             [
              0.7777777777777778,
              "#fb9f3a"
             ],
             [
              0.8888888888888888,
              "#fdca26"
             ],
             [
              1,
              "#f0f921"
             ]
            ],
            "type": "histogram2dcontour"
           }
          ],
          "mesh3d": [
           {
            "colorbar": {
             "outlinewidth": 0,
             "ticks": ""
            },
            "type": "mesh3d"
           }
          ],
          "parcoords": [
           {
            "line": {
             "colorbar": {
              "outlinewidth": 0,
              "ticks": ""
             }
            },
            "type": "parcoords"
           }
          ],
          "pie": [
           {
            "automargin": true,
            "type": "pie"
           }
          ],
          "scatter": [
           {
            "fillpattern": {
             "fillmode": "overlay",
             "size": 10,
             "solidity": 0.2
            },
            "type": "scatter"
           }
          ],
          "scatter3d": [
           {
            "line": {
             "colorbar": {
              "outlinewidth": 0,
              "ticks": ""
             }
            },
            "marker": {
             "colorbar": {
              "outlinewidth": 0,
              "ticks": ""
             }
            },
            "type": "scatter3d"
           }
          ],
          "scattercarpet": [
           {
            "marker": {
             "colorbar": {
              "outlinewidth": 0,
              "ticks": ""
             }
            },
            "type": "scattercarpet"
           }
          ],
          "scattergeo": [
           {
            "marker": {
             "colorbar": {
              "outlinewidth": 0,
              "ticks": ""
             }
            },
            "type": "scattergeo"
           }
          ],
          "scattergl": [
           {
            "marker": {
             "colorbar": {
              "outlinewidth": 0,
              "ticks": ""
             }
            },
            "type": "scattergl"
           }
          ],
          "scattermapbox": [
           {
            "marker": {
             "colorbar": {
              "outlinewidth": 0,
              "ticks": ""
             }
            },
            "type": "scattermapbox"
           }
          ],
          "scatterpolar": [
           {
            "marker": {
             "colorbar": {
              "outlinewidth": 0,
              "ticks": ""
             }
            },
            "type": "scatterpolar"
           }
          ],
          "scatterpolargl": [
           {
            "marker": {
             "colorbar": {
              "outlinewidth": 0,
              "ticks": ""
             }
            },
            "type": "scatterpolargl"
           }
          ],
          "scatterternary": [
           {
            "marker": {
             "colorbar": {
              "outlinewidth": 0,
              "ticks": ""
             }
            },
            "type": "scatterternary"
           }
          ],
          "surface": [
           {
            "colorbar": {
             "outlinewidth": 0,
             "ticks": ""
            },
            "colorscale": [
             [
              0,
              "#0d0887"
             ],
             [
              0.1111111111111111,
              "#46039f"
             ],
             [
              0.2222222222222222,
              "#7201a8"
             ],
             [
              0.3333333333333333,
              "#9c179e"
             ],
             [
              0.4444444444444444,
              "#bd3786"
             ],
             [
              0.5555555555555556,
              "#d8576b"
             ],
             [
              0.6666666666666666,
              "#ed7953"
             ],
             [
              0.7777777777777778,
              "#fb9f3a"
             ],
             [
              0.8888888888888888,
              "#fdca26"
             ],
             [
              1,
              "#f0f921"
             ]
            ],
            "type": "surface"
           }
          ],
          "table": [
           {
            "cells": {
             "fill": {
              "color": "#EBF0F8"
             },
             "line": {
              "color": "white"
             }
            },
            "header": {
             "fill": {
              "color": "#C8D4E3"
             },
             "line": {
              "color": "white"
             }
            },
            "type": "table"
           }
          ]
         },
         "layout": {
          "annotationdefaults": {
           "arrowcolor": "#2a3f5f",
           "arrowhead": 0,
           "arrowwidth": 1
          },
          "autotypenumbers": "strict",
          "coloraxis": {
           "colorbar": {
            "outlinewidth": 0,
            "ticks": ""
           }
          },
          "colorscale": {
           "diverging": [
            [
             0,
             "#8e0152"
            ],
            [
             0.1,
             "#c51b7d"
            ],
            [
             0.2,
             "#de77ae"
            ],
            [
             0.3,
             "#f1b6da"
            ],
            [
             0.4,
             "#fde0ef"
            ],
            [
             0.5,
             "#f7f7f7"
            ],
            [
             0.6,
             "#e6f5d0"
            ],
            [
             0.7,
             "#b8e186"
            ],
            [
             0.8,
             "#7fbc41"
            ],
            [
             0.9,
             "#4d9221"
            ],
            [
             1,
             "#276419"
            ]
           ],
           "sequential": [
            [
             0,
             "#0d0887"
            ],
            [
             0.1111111111111111,
             "#46039f"
            ],
            [
             0.2222222222222222,
             "#7201a8"
            ],
            [
             0.3333333333333333,
             "#9c179e"
            ],
            [
             0.4444444444444444,
             "#bd3786"
            ],
            [
             0.5555555555555556,
             "#d8576b"
            ],
            [
             0.6666666666666666,
             "#ed7953"
            ],
            [
             0.7777777777777778,
             "#fb9f3a"
            ],
            [
             0.8888888888888888,
             "#fdca26"
            ],
            [
             1,
             "#f0f921"
            ]
           ],
           "sequentialminus": [
            [
             0,
             "#0d0887"
            ],
            [
             0.1111111111111111,
             "#46039f"
            ],
            [
             0.2222222222222222,
             "#7201a8"
            ],
            [
             0.3333333333333333,
             "#9c179e"
            ],
            [
             0.4444444444444444,
             "#bd3786"
            ],
            [
             0.5555555555555556,
             "#d8576b"
            ],
            [
             0.6666666666666666,
             "#ed7953"
            ],
            [
             0.7777777777777778,
             "#fb9f3a"
            ],
            [
             0.8888888888888888,
             "#fdca26"
            ],
            [
             1,
             "#f0f921"
            ]
           ]
          },
          "colorway": [
           "#636efa",
           "#EF553B",
           "#00cc96",
           "#ab63fa",
           "#FFA15A",
           "#19d3f3",
           "#FF6692",
           "#B6E880",
           "#FF97FF",
           "#FECB52"
          ],
          "font": {
           "color": "#2a3f5f"
          },
          "geo": {
           "bgcolor": "white",
           "lakecolor": "white",
           "landcolor": "#E5ECF6",
           "showlakes": true,
           "showland": true,
           "subunitcolor": "white"
          },
          "hoverlabel": {
           "align": "left"
          },
          "hovermode": "closest",
          "mapbox": {
           "style": "light"
          },
          "paper_bgcolor": "white",
          "plot_bgcolor": "#E5ECF6",
          "polar": {
           "angularaxis": {
            "gridcolor": "white",
            "linecolor": "white",
            "ticks": ""
           },
           "bgcolor": "#E5ECF6",
           "radialaxis": {
            "gridcolor": "white",
            "linecolor": "white",
            "ticks": ""
           }
          },
          "scene": {
           "xaxis": {
            "backgroundcolor": "#E5ECF6",
            "gridcolor": "white",
            "gridwidth": 2,
            "linecolor": "white",
            "showbackground": true,
            "ticks": "",
            "zerolinecolor": "white"
           },
           "yaxis": {
            "backgroundcolor": "#E5ECF6",
            "gridcolor": "white",
            "gridwidth": 2,
            "linecolor": "white",
            "showbackground": true,
            "ticks": "",
            "zerolinecolor": "white"
           },
           "zaxis": {
            "backgroundcolor": "#E5ECF6",
            "gridcolor": "white",
            "gridwidth": 2,
            "linecolor": "white",
            "showbackground": true,
            "ticks": "",
            "zerolinecolor": "white"
           }
          },
          "shapedefaults": {
           "line": {
            "color": "#2a3f5f"
           }
          },
          "ternary": {
           "aaxis": {
            "gridcolor": "white",
            "linecolor": "white",
            "ticks": ""
           },
           "baxis": {
            "gridcolor": "white",
            "linecolor": "white",
            "ticks": ""
           },
           "bgcolor": "#E5ECF6",
           "caxis": {
            "gridcolor": "white",
            "linecolor": "white",
            "ticks": ""
           }
          },
          "title": {
           "x": 0.05
          },
          "xaxis": {
           "automargin": true,
           "gridcolor": "white",
           "linecolor": "white",
           "ticks": "",
           "title": {
            "standoff": 15
           },
           "zerolinecolor": "white",
           "zerolinewidth": 2
          },
          "yaxis": {
           "automargin": true,
           "gridcolor": "white",
           "linecolor": "white",
           "ticks": "",
           "title": {
            "standoff": 15
           },
           "zerolinecolor": "white",
           "zerolinewidth": 2
          }
         }
        },
        "title": {
         "text": "Autres coups et blessures volontaires criminels ou correctionnels"
        },
        "xaxis": {
         "anchor": "y",
         "domain": [
          0,
          1
         ],
         "range": [
          2012,
          2020
         ],
         "title": {
          "text": "index"
         }
        },
        "yaxis": {
         "anchor": "x",
         "domain": [
          0,
          1
         ],
         "title": {
          "text": "Autres coups et blessures volontaires criminels ou correctionnels"
         }
        }
       }
      }
     },
     "metadata": {},
     "output_type": "display_data"
    }
   ],
   "source": [
    "fig = px.line(df,x=\"index\" ,\n",
    " y=\"Autres coups et blessures volontaires criminels ou correctionnels\",\n",
    "  title=\"Autres coups et blessures volontaires criminels ou correctionnels\")\n",
    "fig.update_layout(xaxis={\"range\":[2012,2020]})\n"
   ]
  },
  {
   "cell_type": "code",
   "execution_count": 169,
   "id": "976a7b28",
   "metadata": {},
   "outputs": [
    {
     "data": {
      "application/vnd.plotly.v1+json": {
       "config": {
        "plotlyServerURL": "https://plot.ly"
       },
       "data": [
        {
         "hovertemplate": "index=%{x}<br>Atteintes sexuelles=%{y}<extra></extra>",
         "legendgroup": "",
         "line": {
          "color": "#636efa",
          "dash": "solid"
         },
         "marker": {
          "symbol": "circle"
         },
         "mode": "lines",
         "name": "",
         "orientation": "v",
         "showlegend": false,
         "type": "scatter",
         "x": [
          2000,
          2001,
          2002,
          2003,
          2004,
          2005,
          2006,
          2007,
          2008,
          2009,
          2010,
          2011,
          2012,
          2013,
          2014,
          2015,
          2016,
          2017,
          2018,
          2019,
          2020,
          2021,
          2022
         ],
         "xaxis": "x",
         "y": [
          10866,
          10488,
          11348,
          14742,
          17455,
          17513,
          16556,
          16113,
          16374,
          15597,
          14900,
          16320,
          14154,
          13313,
          13032,
          13278,
          12873,
          13327,
          14809,
          15486,
          15641,
          15863,
          9308
         ],
         "yaxis": "y"
        }
       ],
       "layout": {
        "legend": {
         "tracegroupgap": 0
        },
        "template": {
         "data": {
          "bar": [
           {
            "error_x": {
             "color": "#2a3f5f"
            },
            "error_y": {
             "color": "#2a3f5f"
            },
            "marker": {
             "line": {
              "color": "#E5ECF6",
              "width": 0.5
             },
             "pattern": {
              "fillmode": "overlay",
              "size": 10,
              "solidity": 0.2
             }
            },
            "type": "bar"
           }
          ],
          "barpolar": [
           {
            "marker": {
             "line": {
              "color": "#E5ECF6",
              "width": 0.5
             },
             "pattern": {
              "fillmode": "overlay",
              "size": 10,
              "solidity": 0.2
             }
            },
            "type": "barpolar"
           }
          ],
          "carpet": [
           {
            "aaxis": {
             "endlinecolor": "#2a3f5f",
             "gridcolor": "white",
             "linecolor": "white",
             "minorgridcolor": "white",
             "startlinecolor": "#2a3f5f"
            },
            "baxis": {
             "endlinecolor": "#2a3f5f",
             "gridcolor": "white",
             "linecolor": "white",
             "minorgridcolor": "white",
             "startlinecolor": "#2a3f5f"
            },
            "type": "carpet"
           }
          ],
          "choropleth": [
           {
            "colorbar": {
             "outlinewidth": 0,
             "ticks": ""
            },
            "type": "choropleth"
           }
          ],
          "contour": [
           {
            "colorbar": {
             "outlinewidth": 0,
             "ticks": ""
            },
            "colorscale": [
             [
              0,
              "#0d0887"
             ],
             [
              0.1111111111111111,
              "#46039f"
             ],
             [
              0.2222222222222222,
              "#7201a8"
             ],
             [
              0.3333333333333333,
              "#9c179e"
             ],
             [
              0.4444444444444444,
              "#bd3786"
             ],
             [
              0.5555555555555556,
              "#d8576b"
             ],
             [
              0.6666666666666666,
              "#ed7953"
             ],
             [
              0.7777777777777778,
              "#fb9f3a"
             ],
             [
              0.8888888888888888,
              "#fdca26"
             ],
             [
              1,
              "#f0f921"
             ]
            ],
            "type": "contour"
           }
          ],
          "contourcarpet": [
           {
            "colorbar": {
             "outlinewidth": 0,
             "ticks": ""
            },
            "type": "contourcarpet"
           }
          ],
          "heatmap": [
           {
            "colorbar": {
             "outlinewidth": 0,
             "ticks": ""
            },
            "colorscale": [
             [
              0,
              "#0d0887"
             ],
             [
              0.1111111111111111,
              "#46039f"
             ],
             [
              0.2222222222222222,
              "#7201a8"
             ],
             [
              0.3333333333333333,
              "#9c179e"
             ],
             [
              0.4444444444444444,
              "#bd3786"
             ],
             [
              0.5555555555555556,
              "#d8576b"
             ],
             [
              0.6666666666666666,
              "#ed7953"
             ],
             [
              0.7777777777777778,
              "#fb9f3a"
             ],
             [
              0.8888888888888888,
              "#fdca26"
             ],
             [
              1,
              "#f0f921"
             ]
            ],
            "type": "heatmap"
           }
          ],
          "heatmapgl": [
           {
            "colorbar": {
             "outlinewidth": 0,
             "ticks": ""
            },
            "colorscale": [
             [
              0,
              "#0d0887"
             ],
             [
              0.1111111111111111,
              "#46039f"
             ],
             [
              0.2222222222222222,
              "#7201a8"
             ],
             [
              0.3333333333333333,
              "#9c179e"
             ],
             [
              0.4444444444444444,
              "#bd3786"
             ],
             [
              0.5555555555555556,
              "#d8576b"
             ],
             [
              0.6666666666666666,
              "#ed7953"
             ],
             [
              0.7777777777777778,
              "#fb9f3a"
             ],
             [
              0.8888888888888888,
              "#fdca26"
             ],
             [
              1,
              "#f0f921"
             ]
            ],
            "type": "heatmapgl"
           }
          ],
          "histogram": [
           {
            "marker": {
             "pattern": {
              "fillmode": "overlay",
              "size": 10,
              "solidity": 0.2
             }
            },
            "type": "histogram"
           }
          ],
          "histogram2d": [
           {
            "colorbar": {
             "outlinewidth": 0,
             "ticks": ""
            },
            "colorscale": [
             [
              0,
              "#0d0887"
             ],
             [
              0.1111111111111111,
              "#46039f"
             ],
             [
              0.2222222222222222,
              "#7201a8"
             ],
             [
              0.3333333333333333,
              "#9c179e"
             ],
             [
              0.4444444444444444,
              "#bd3786"
             ],
             [
              0.5555555555555556,
              "#d8576b"
             ],
             [
              0.6666666666666666,
              "#ed7953"
             ],
             [
              0.7777777777777778,
              "#fb9f3a"
             ],
             [
              0.8888888888888888,
              "#fdca26"
             ],
             [
              1,
              "#f0f921"
             ]
            ],
            "type": "histogram2d"
           }
          ],
          "histogram2dcontour": [
           {
            "colorbar": {
             "outlinewidth": 0,
             "ticks": ""
            },
            "colorscale": [
             [
              0,
              "#0d0887"
             ],
             [
              0.1111111111111111,
              "#46039f"
             ],
             [
              0.2222222222222222,
              "#7201a8"
             ],
             [
              0.3333333333333333,
              "#9c179e"
             ],
             [
              0.4444444444444444,
              "#bd3786"
             ],
             [
              0.5555555555555556,
              "#d8576b"
             ],
             [
              0.6666666666666666,
              "#ed7953"
             ],
             [
              0.7777777777777778,
              "#fb9f3a"
             ],
             [
              0.8888888888888888,
              "#fdca26"
             ],
             [
              1,
              "#f0f921"
             ]
            ],
            "type": "histogram2dcontour"
           }
          ],
          "mesh3d": [
           {
            "colorbar": {
             "outlinewidth": 0,
             "ticks": ""
            },
            "type": "mesh3d"
           }
          ],
          "parcoords": [
           {
            "line": {
             "colorbar": {
              "outlinewidth": 0,
              "ticks": ""
             }
            },
            "type": "parcoords"
           }
          ],
          "pie": [
           {
            "automargin": true,
            "type": "pie"
           }
          ],
          "scatter": [
           {
            "fillpattern": {
             "fillmode": "overlay",
             "size": 10,
             "solidity": 0.2
            },
            "type": "scatter"
           }
          ],
          "scatter3d": [
           {
            "line": {
             "colorbar": {
              "outlinewidth": 0,
              "ticks": ""
             }
            },
            "marker": {
             "colorbar": {
              "outlinewidth": 0,
              "ticks": ""
             }
            },
            "type": "scatter3d"
           }
          ],
          "scattercarpet": [
           {
            "marker": {
             "colorbar": {
              "outlinewidth": 0,
              "ticks": ""
             }
            },
            "type": "scattercarpet"
           }
          ],
          "scattergeo": [
           {
            "marker": {
             "colorbar": {
              "outlinewidth": 0,
              "ticks": ""
             }
            },
            "type": "scattergeo"
           }
          ],
          "scattergl": [
           {
            "marker": {
             "colorbar": {
              "outlinewidth": 0,
              "ticks": ""
             }
            },
            "type": "scattergl"
           }
          ],
          "scattermapbox": [
           {
            "marker": {
             "colorbar": {
              "outlinewidth": 0,
              "ticks": ""
             }
            },
            "type": "scattermapbox"
           }
          ],
          "scatterpolar": [
           {
            "marker": {
             "colorbar": {
              "outlinewidth": 0,
              "ticks": ""
             }
            },
            "type": "scatterpolar"
           }
          ],
          "scatterpolargl": [
           {
            "marker": {
             "colorbar": {
              "outlinewidth": 0,
              "ticks": ""
             }
            },
            "type": "scatterpolargl"
           }
          ],
          "scatterternary": [
           {
            "marker": {
             "colorbar": {
              "outlinewidth": 0,
              "ticks": ""
             }
            },
            "type": "scatterternary"
           }
          ],
          "surface": [
           {
            "colorbar": {
             "outlinewidth": 0,
             "ticks": ""
            },
            "colorscale": [
             [
              0,
              "#0d0887"
             ],
             [
              0.1111111111111111,
              "#46039f"
             ],
             [
              0.2222222222222222,
              "#7201a8"
             ],
             [
              0.3333333333333333,
              "#9c179e"
             ],
             [
              0.4444444444444444,
              "#bd3786"
             ],
             [
              0.5555555555555556,
              "#d8576b"
             ],
             [
              0.6666666666666666,
              "#ed7953"
             ],
             [
              0.7777777777777778,
              "#fb9f3a"
             ],
             [
              0.8888888888888888,
              "#fdca26"
             ],
             [
              1,
              "#f0f921"
             ]
            ],
            "type": "surface"
           }
          ],
          "table": [
           {
            "cells": {
             "fill": {
              "color": "#EBF0F8"
             },
             "line": {
              "color": "white"
             }
            },
            "header": {
             "fill": {
              "color": "#C8D4E3"
             },
             "line": {
              "color": "white"
             }
            },
            "type": "table"
           }
          ]
         },
         "layout": {
          "annotationdefaults": {
           "arrowcolor": "#2a3f5f",
           "arrowhead": 0,
           "arrowwidth": 1
          },
          "autotypenumbers": "strict",
          "coloraxis": {
           "colorbar": {
            "outlinewidth": 0,
            "ticks": ""
           }
          },
          "colorscale": {
           "diverging": [
            [
             0,
             "#8e0152"
            ],
            [
             0.1,
             "#c51b7d"
            ],
            [
             0.2,
             "#de77ae"
            ],
            [
             0.3,
             "#f1b6da"
            ],
            [
             0.4,
             "#fde0ef"
            ],
            [
             0.5,
             "#f7f7f7"
            ],
            [
             0.6,
             "#e6f5d0"
            ],
            [
             0.7,
             "#b8e186"
            ],
            [
             0.8,
             "#7fbc41"
            ],
            [
             0.9,
             "#4d9221"
            ],
            [
             1,
             "#276419"
            ]
           ],
           "sequential": [
            [
             0,
             "#0d0887"
            ],
            [
             0.1111111111111111,
             "#46039f"
            ],
            [
             0.2222222222222222,
             "#7201a8"
            ],
            [
             0.3333333333333333,
             "#9c179e"
            ],
            [
             0.4444444444444444,
             "#bd3786"
            ],
            [
             0.5555555555555556,
             "#d8576b"
            ],
            [
             0.6666666666666666,
             "#ed7953"
            ],
            [
             0.7777777777777778,
             "#fb9f3a"
            ],
            [
             0.8888888888888888,
             "#fdca26"
            ],
            [
             1,
             "#f0f921"
            ]
           ],
           "sequentialminus": [
            [
             0,
             "#0d0887"
            ],
            [
             0.1111111111111111,
             "#46039f"
            ],
            [
             0.2222222222222222,
             "#7201a8"
            ],
            [
             0.3333333333333333,
             "#9c179e"
            ],
            [
             0.4444444444444444,
             "#bd3786"
            ],
            [
             0.5555555555555556,
             "#d8576b"
            ],
            [
             0.6666666666666666,
             "#ed7953"
            ],
            [
             0.7777777777777778,
             "#fb9f3a"
            ],
            [
             0.8888888888888888,
             "#fdca26"
            ],
            [
             1,
             "#f0f921"
            ]
           ]
          },
          "colorway": [
           "#636efa",
           "#EF553B",
           "#00cc96",
           "#ab63fa",
           "#FFA15A",
           "#19d3f3",
           "#FF6692",
           "#B6E880",
           "#FF97FF",
           "#FECB52"
          ],
          "font": {
           "color": "#2a3f5f"
          },
          "geo": {
           "bgcolor": "white",
           "lakecolor": "white",
           "landcolor": "#E5ECF6",
           "showlakes": true,
           "showland": true,
           "subunitcolor": "white"
          },
          "hoverlabel": {
           "align": "left"
          },
          "hovermode": "closest",
          "mapbox": {
           "style": "light"
          },
          "paper_bgcolor": "white",
          "plot_bgcolor": "#E5ECF6",
          "polar": {
           "angularaxis": {
            "gridcolor": "white",
            "linecolor": "white",
            "ticks": ""
           },
           "bgcolor": "#E5ECF6",
           "radialaxis": {
            "gridcolor": "white",
            "linecolor": "white",
            "ticks": ""
           }
          },
          "scene": {
           "xaxis": {
            "backgroundcolor": "#E5ECF6",
            "gridcolor": "white",
            "gridwidth": 2,
            "linecolor": "white",
            "showbackground": true,
            "ticks": "",
            "zerolinecolor": "white"
           },
           "yaxis": {
            "backgroundcolor": "#E5ECF6",
            "gridcolor": "white",
            "gridwidth": 2,
            "linecolor": "white",
            "showbackground": true,
            "ticks": "",
            "zerolinecolor": "white"
           },
           "zaxis": {
            "backgroundcolor": "#E5ECF6",
            "gridcolor": "white",
            "gridwidth": 2,
            "linecolor": "white",
            "showbackground": true,
            "ticks": "",
            "zerolinecolor": "white"
           }
          },
          "shapedefaults": {
           "line": {
            "color": "#2a3f5f"
           }
          },
          "ternary": {
           "aaxis": {
            "gridcolor": "white",
            "linecolor": "white",
            "ticks": ""
           },
           "baxis": {
            "gridcolor": "white",
            "linecolor": "white",
            "ticks": ""
           },
           "bgcolor": "#E5ECF6",
           "caxis": {
            "gridcolor": "white",
            "linecolor": "white",
            "ticks": ""
           }
          },
          "title": {
           "x": 0.05
          },
          "xaxis": {
           "automargin": true,
           "gridcolor": "white",
           "linecolor": "white",
           "ticks": "",
           "title": {
            "standoff": 15
           },
           "zerolinecolor": "white",
           "zerolinewidth": 2
          },
          "yaxis": {
           "automargin": true,
           "gridcolor": "white",
           "linecolor": "white",
           "ticks": "",
           "title": {
            "standoff": 15
           },
           "zerolinecolor": "white",
           "zerolinewidth": 2
          }
         }
        },
        "title": {
         "text": "Atteintes sexuelles"
        },
        "xaxis": {
         "anchor": "y",
         "domain": [
          0,
          1
         ],
         "title": {
          "text": "index"
         }
        },
        "yaxis": {
         "anchor": "x",
         "domain": [
          0,
          1
         ],
         "title": {
          "text": "Atteintes sexuelles"
         }
        }
       }
      }
     },
     "metadata": {},
     "output_type": "display_data"
    }
   ],
   "source": [
    "fig = px.line(df,x=\"index\" ,\n",
    " y=\"Atteintes sexuelles\",\n",
    "  title=\"Atteintes sexuelles\")\n",
    "fig.show()"
   ]
  },
  {
   "cell_type": "code",
   "execution_count": 171,
   "id": "b26368ee",
   "metadata": {},
   "outputs": [
    {
     "data": {
      "application/vnd.plotly.v1+json": {
       "config": {
        "plotlyServerURL": "https://plot.ly"
       },
       "data": [
        {
         "hovertemplate": "index=%{x}<br>Attentats à l'explosif contre des biens publics=%{y}<extra></extra>",
         "legendgroup": "",
         "line": {
          "color": "#636efa",
          "dash": "solid"
         },
         "marker": {
          "symbol": "circle"
         },
         "mode": "lines",
         "name": "",
         "orientation": "v",
         "showlegend": false,
         "type": "scatter",
         "x": [
          2000,
          2001,
          2002,
          2003,
          2004,
          2005,
          2006,
          2007,
          2008,
          2009,
          2010,
          2011,
          2012,
          2013,
          2014,
          2015,
          2016,
          2017,
          2018,
          2019,
          2020,
          2021,
          2022
         ],
         "xaxis": "x",
         "y": [
          83,
          108,
          130,
          119,
          120,
          115,
          84,
          102,
          45,
          36,
          29,
          23,
          13,
          31,
          30,
          38,
          30,
          40,
          42,
          55,
          63,
          60,
          41
         ],
         "yaxis": "y"
        }
       ],
       "layout": {
        "legend": {
         "tracegroupgap": 0
        },
        "template": {
         "data": {
          "bar": [
           {
            "error_x": {
             "color": "#2a3f5f"
            },
            "error_y": {
             "color": "#2a3f5f"
            },
            "marker": {
             "line": {
              "color": "#E5ECF6",
              "width": 0.5
             },
             "pattern": {
              "fillmode": "overlay",
              "size": 10,
              "solidity": 0.2
             }
            },
            "type": "bar"
           }
          ],
          "barpolar": [
           {
            "marker": {
             "line": {
              "color": "#E5ECF6",
              "width": 0.5
             },
             "pattern": {
              "fillmode": "overlay",
              "size": 10,
              "solidity": 0.2
             }
            },
            "type": "barpolar"
           }
          ],
          "carpet": [
           {
            "aaxis": {
             "endlinecolor": "#2a3f5f",
             "gridcolor": "white",
             "linecolor": "white",
             "minorgridcolor": "white",
             "startlinecolor": "#2a3f5f"
            },
            "baxis": {
             "endlinecolor": "#2a3f5f",
             "gridcolor": "white",
             "linecolor": "white",
             "minorgridcolor": "white",
             "startlinecolor": "#2a3f5f"
            },
            "type": "carpet"
           }
          ],
          "choropleth": [
           {
            "colorbar": {
             "outlinewidth": 0,
             "ticks": ""
            },
            "type": "choropleth"
           }
          ],
          "contour": [
           {
            "colorbar": {
             "outlinewidth": 0,
             "ticks": ""
            },
            "colorscale": [
             [
              0,
              "#0d0887"
             ],
             [
              0.1111111111111111,
              "#46039f"
             ],
             [
              0.2222222222222222,
              "#7201a8"
             ],
             [
              0.3333333333333333,
              "#9c179e"
             ],
             [
              0.4444444444444444,
              "#bd3786"
             ],
             [
              0.5555555555555556,
              "#d8576b"
             ],
             [
              0.6666666666666666,
              "#ed7953"
             ],
             [
              0.7777777777777778,
              "#fb9f3a"
             ],
             [
              0.8888888888888888,
              "#fdca26"
             ],
             [
              1,
              "#f0f921"
             ]
            ],
            "type": "contour"
           }
          ],
          "contourcarpet": [
           {
            "colorbar": {
             "outlinewidth": 0,
             "ticks": ""
            },
            "type": "contourcarpet"
           }
          ],
          "heatmap": [
           {
            "colorbar": {
             "outlinewidth": 0,
             "ticks": ""
            },
            "colorscale": [
             [
              0,
              "#0d0887"
             ],
             [
              0.1111111111111111,
              "#46039f"
             ],
             [
              0.2222222222222222,
              "#7201a8"
             ],
             [
              0.3333333333333333,
              "#9c179e"
             ],
             [
              0.4444444444444444,
              "#bd3786"
             ],
             [
              0.5555555555555556,
              "#d8576b"
             ],
             [
              0.6666666666666666,
              "#ed7953"
             ],
             [
              0.7777777777777778,
              "#fb9f3a"
             ],
             [
              0.8888888888888888,
              "#fdca26"
             ],
             [
              1,
              "#f0f921"
             ]
            ],
            "type": "heatmap"
           }
          ],
          "heatmapgl": [
           {
            "colorbar": {
             "outlinewidth": 0,
             "ticks": ""
            },
            "colorscale": [
             [
              0,
              "#0d0887"
             ],
             [
              0.1111111111111111,
              "#46039f"
             ],
             [
              0.2222222222222222,
              "#7201a8"
             ],
             [
              0.3333333333333333,
              "#9c179e"
             ],
             [
              0.4444444444444444,
              "#bd3786"
             ],
             [
              0.5555555555555556,
              "#d8576b"
             ],
             [
              0.6666666666666666,
              "#ed7953"
             ],
             [
              0.7777777777777778,
              "#fb9f3a"
             ],
             [
              0.8888888888888888,
              "#fdca26"
             ],
             [
              1,
              "#f0f921"
             ]
            ],
            "type": "heatmapgl"
           }
          ],
          "histogram": [
           {
            "marker": {
             "pattern": {
              "fillmode": "overlay",
              "size": 10,
              "solidity": 0.2
             }
            },
            "type": "histogram"
           }
          ],
          "histogram2d": [
           {
            "colorbar": {
             "outlinewidth": 0,
             "ticks": ""
            },
            "colorscale": [
             [
              0,
              "#0d0887"
             ],
             [
              0.1111111111111111,
              "#46039f"
             ],
             [
              0.2222222222222222,
              "#7201a8"
             ],
             [
              0.3333333333333333,
              "#9c179e"
             ],
             [
              0.4444444444444444,
              "#bd3786"
             ],
             [
              0.5555555555555556,
              "#d8576b"
             ],
             [
              0.6666666666666666,
              "#ed7953"
             ],
             [
              0.7777777777777778,
              "#fb9f3a"
             ],
             [
              0.8888888888888888,
              "#fdca26"
             ],
             [
              1,
              "#f0f921"
             ]
            ],
            "type": "histogram2d"
           }
          ],
          "histogram2dcontour": [
           {
            "colorbar": {
             "outlinewidth": 0,
             "ticks": ""
            },
            "colorscale": [
             [
              0,
              "#0d0887"
             ],
             [
              0.1111111111111111,
              "#46039f"
             ],
             [
              0.2222222222222222,
              "#7201a8"
             ],
             [
              0.3333333333333333,
              "#9c179e"
             ],
             [
              0.4444444444444444,
              "#bd3786"
             ],
             [
              0.5555555555555556,
              "#d8576b"
             ],
             [
              0.6666666666666666,
              "#ed7953"
             ],
             [
              0.7777777777777778,
              "#fb9f3a"
             ],
             [
              0.8888888888888888,
              "#fdca26"
             ],
             [
              1,
              "#f0f921"
             ]
            ],
            "type": "histogram2dcontour"
           }
          ],
          "mesh3d": [
           {
            "colorbar": {
             "outlinewidth": 0,
             "ticks": ""
            },
            "type": "mesh3d"
           }
          ],
          "parcoords": [
           {
            "line": {
             "colorbar": {
              "outlinewidth": 0,
              "ticks": ""
             }
            },
            "type": "parcoords"
           }
          ],
          "pie": [
           {
            "automargin": true,
            "type": "pie"
           }
          ],
          "scatter": [
           {
            "fillpattern": {
             "fillmode": "overlay",
             "size": 10,
             "solidity": 0.2
            },
            "type": "scatter"
           }
          ],
          "scatter3d": [
           {
            "line": {
             "colorbar": {
              "outlinewidth": 0,
              "ticks": ""
             }
            },
            "marker": {
             "colorbar": {
              "outlinewidth": 0,
              "ticks": ""
             }
            },
            "type": "scatter3d"
           }
          ],
          "scattercarpet": [
           {
            "marker": {
             "colorbar": {
              "outlinewidth": 0,
              "ticks": ""
             }
            },
            "type": "scattercarpet"
           }
          ],
          "scattergeo": [
           {
            "marker": {
             "colorbar": {
              "outlinewidth": 0,
              "ticks": ""
             }
            },
            "type": "scattergeo"
           }
          ],
          "scattergl": [
           {
            "marker": {
             "colorbar": {
              "outlinewidth": 0,
              "ticks": ""
             }
            },
            "type": "scattergl"
           }
          ],
          "scattermapbox": [
           {
            "marker": {
             "colorbar": {
              "outlinewidth": 0,
              "ticks": ""
             }
            },
            "type": "scattermapbox"
           }
          ],
          "scatterpolar": [
           {
            "marker": {
             "colorbar": {
              "outlinewidth": 0,
              "ticks": ""
             }
            },
            "type": "scatterpolar"
           }
          ],
          "scatterpolargl": [
           {
            "marker": {
             "colorbar": {
              "outlinewidth": 0,
              "ticks": ""
             }
            },
            "type": "scatterpolargl"
           }
          ],
          "scatterternary": [
           {
            "marker": {
             "colorbar": {
              "outlinewidth": 0,
              "ticks": ""
             }
            },
            "type": "scatterternary"
           }
          ],
          "surface": [
           {
            "colorbar": {
             "outlinewidth": 0,
             "ticks": ""
            },
            "colorscale": [
             [
              0,
              "#0d0887"
             ],
             [
              0.1111111111111111,
              "#46039f"
             ],
             [
              0.2222222222222222,
              "#7201a8"
             ],
             [
              0.3333333333333333,
              "#9c179e"
             ],
             [
              0.4444444444444444,
              "#bd3786"
             ],
             [
              0.5555555555555556,
              "#d8576b"
             ],
             [
              0.6666666666666666,
              "#ed7953"
             ],
             [
              0.7777777777777778,
              "#fb9f3a"
             ],
             [
              0.8888888888888888,
              "#fdca26"
             ],
             [
              1,
              "#f0f921"
             ]
            ],
            "type": "surface"
           }
          ],
          "table": [
           {
            "cells": {
             "fill": {
              "color": "#EBF0F8"
             },
             "line": {
              "color": "white"
             }
            },
            "header": {
             "fill": {
              "color": "#C8D4E3"
             },
             "line": {
              "color": "white"
             }
            },
            "type": "table"
           }
          ]
         },
         "layout": {
          "annotationdefaults": {
           "arrowcolor": "#2a3f5f",
           "arrowhead": 0,
           "arrowwidth": 1
          },
          "autotypenumbers": "strict",
          "coloraxis": {
           "colorbar": {
            "outlinewidth": 0,
            "ticks": ""
           }
          },
          "colorscale": {
           "diverging": [
            [
             0,
             "#8e0152"
            ],
            [
             0.1,
             "#c51b7d"
            ],
            [
             0.2,
             "#de77ae"
            ],
            [
             0.3,
             "#f1b6da"
            ],
            [
             0.4,
             "#fde0ef"
            ],
            [
             0.5,
             "#f7f7f7"
            ],
            [
             0.6,
             "#e6f5d0"
            ],
            [
             0.7,
             "#b8e186"
            ],
            [
             0.8,
             "#7fbc41"
            ],
            [
             0.9,
             "#4d9221"
            ],
            [
             1,
             "#276419"
            ]
           ],
           "sequential": [
            [
             0,
             "#0d0887"
            ],
            [
             0.1111111111111111,
             "#46039f"
            ],
            [
             0.2222222222222222,
             "#7201a8"
            ],
            [
             0.3333333333333333,
             "#9c179e"
            ],
            [
             0.4444444444444444,
             "#bd3786"
            ],
            [
             0.5555555555555556,
             "#d8576b"
            ],
            [
             0.6666666666666666,
             "#ed7953"
            ],
            [
             0.7777777777777778,
             "#fb9f3a"
            ],
            [
             0.8888888888888888,
             "#fdca26"
            ],
            [
             1,
             "#f0f921"
            ]
           ],
           "sequentialminus": [
            [
             0,
             "#0d0887"
            ],
            [
             0.1111111111111111,
             "#46039f"
            ],
            [
             0.2222222222222222,
             "#7201a8"
            ],
            [
             0.3333333333333333,
             "#9c179e"
            ],
            [
             0.4444444444444444,
             "#bd3786"
            ],
            [
             0.5555555555555556,
             "#d8576b"
            ],
            [
             0.6666666666666666,
             "#ed7953"
            ],
            [
             0.7777777777777778,
             "#fb9f3a"
            ],
            [
             0.8888888888888888,
             "#fdca26"
            ],
            [
             1,
             "#f0f921"
            ]
           ]
          },
          "colorway": [
           "#636efa",
           "#EF553B",
           "#00cc96",
           "#ab63fa",
           "#FFA15A",
           "#19d3f3",
           "#FF6692",
           "#B6E880",
           "#FF97FF",
           "#FECB52"
          ],
          "font": {
           "color": "#2a3f5f"
          },
          "geo": {
           "bgcolor": "white",
           "lakecolor": "white",
           "landcolor": "#E5ECF6",
           "showlakes": true,
           "showland": true,
           "subunitcolor": "white"
          },
          "hoverlabel": {
           "align": "left"
          },
          "hovermode": "closest",
          "mapbox": {
           "style": "light"
          },
          "paper_bgcolor": "white",
          "plot_bgcolor": "#E5ECF6",
          "polar": {
           "angularaxis": {
            "gridcolor": "white",
            "linecolor": "white",
            "ticks": ""
           },
           "bgcolor": "#E5ECF6",
           "radialaxis": {
            "gridcolor": "white",
            "linecolor": "white",
            "ticks": ""
           }
          },
          "scene": {
           "xaxis": {
            "backgroundcolor": "#E5ECF6",
            "gridcolor": "white",
            "gridwidth": 2,
            "linecolor": "white",
            "showbackground": true,
            "ticks": "",
            "zerolinecolor": "white"
           },
           "yaxis": {
            "backgroundcolor": "#E5ECF6",
            "gridcolor": "white",
            "gridwidth": 2,
            "linecolor": "white",
            "showbackground": true,
            "ticks": "",
            "zerolinecolor": "white"
           },
           "zaxis": {
            "backgroundcolor": "#E5ECF6",
            "gridcolor": "white",
            "gridwidth": 2,
            "linecolor": "white",
            "showbackground": true,
            "ticks": "",
            "zerolinecolor": "white"
           }
          },
          "shapedefaults": {
           "line": {
            "color": "#2a3f5f"
           }
          },
          "ternary": {
           "aaxis": {
            "gridcolor": "white",
            "linecolor": "white",
            "ticks": ""
           },
           "baxis": {
            "gridcolor": "white",
            "linecolor": "white",
            "ticks": ""
           },
           "bgcolor": "#E5ECF6",
           "caxis": {
            "gridcolor": "white",
            "linecolor": "white",
            "ticks": ""
           }
          },
          "title": {
           "x": 0.05
          },
          "xaxis": {
           "automargin": true,
           "gridcolor": "white",
           "linecolor": "white",
           "ticks": "",
           "title": {
            "standoff": 15
           },
           "zerolinecolor": "white",
           "zerolinewidth": 2
          },
          "yaxis": {
           "automargin": true,
           "gridcolor": "white",
           "linecolor": "white",
           "ticks": "",
           "title": {
            "standoff": 15
           },
           "zerolinecolor": "white",
           "zerolinewidth": 2
          }
         }
        },
        "title": {
         "text": "Attentats à l'explosif contre des biens publics"
        },
        "xaxis": {
         "anchor": "y",
         "domain": [
          0,
          1
         ],
         "range": [
          2001,
          2020
         ],
         "title": {
          "text": "index"
         }
        },
        "yaxis": {
         "anchor": "x",
         "domain": [
          0,
          1
         ],
         "title": {
          "text": "Attentats à l'explosif contre des biens publics"
         }
        }
       }
      }
     },
     "metadata": {},
     "output_type": "display_data"
    }
   ],
   "source": [
    "fig = px.line(df,x=\"index\" ,\n",
    " y=\"Attentats à l'explosif contre des biens publics\",\n",
    "  title=\"Attentats à l'explosif contre des biens publics\")\n",
    "fig.update_layout(xaxis={\"range\":[2001,2020]})\n"
   ]
  },
  {
   "cell_type": "code",
   "execution_count": 180,
   "id": "17a4246a",
   "metadata": {},
   "outputs": [
    {
     "ename": "ValueError",
     "evalue": "\nImage export using the \"kaleido\" engine requires the kaleido package,\nwhich can be installed using pip:\n    $ pip install -U kaleido\n",
     "output_type": "error",
     "traceback": [
      "\u001b[1;31m---------------------------------------------------------------------------\u001b[0m",
      "\u001b[1;31mValueError\u001b[0m                                Traceback (most recent call last)",
      "Cell \u001b[1;32mIn [180], line 5\u001b[0m\n\u001b[0;32m      1\u001b[0m fig \u001b[38;5;241m=\u001b[39m px\u001b[38;5;241m.\u001b[39mline(df,x\u001b[38;5;241m=\u001b[39m\u001b[38;5;124m\"\u001b[39m\u001b[38;5;124mindex\u001b[39m\u001b[38;5;124m\"\u001b[39m ,\n\u001b[0;32m      2\u001b[0m  y\u001b[38;5;241m=\u001b[39m\u001b[38;5;124m\"\u001b[39m\u001b[38;5;124mFraudes fiscales\u001b[39m\u001b[38;5;124m\"\u001b[39m,\n\u001b[0;32m      3\u001b[0m   title\u001b[38;5;241m=\u001b[39m\u001b[38;5;124m\"\u001b[39m\u001b[38;5;124mFraudes fiscales\u001b[39m\u001b[38;5;124m\"\u001b[39m)\n\u001b[0;32m      4\u001b[0m fig\u001b[38;5;241m.\u001b[39mupdate_layout(xaxis\u001b[38;5;241m=\u001b[39m{\u001b[38;5;124m\"\u001b[39m\u001b[38;5;124mrange\u001b[39m\u001b[38;5;124m\"\u001b[39m:[\u001b[38;5;241m2001\u001b[39m,\u001b[38;5;241m2020\u001b[39m]})\n\u001b[1;32m----> 5\u001b[0m \u001b[43mfig\u001b[49m\u001b[38;5;241;43m.\u001b[39;49m\u001b[43mwrite_image\u001b[49m\u001b[43m(\u001b[49m\u001b[38;5;124;43m\"\u001b[39;49m\u001b[38;5;124;43m./image/Fraudes fiscales.png\u001b[39;49m\u001b[38;5;124;43m\"\u001b[39;49m\u001b[43m)\u001b[49m\n",
      "File \u001b[1;32mc:\\Users\\gch21291\\AppData\\Local\\Programs\\Python\\Python39\\lib\\site-packages\\plotly\\basedatatypes.py:3829\u001b[0m, in \u001b[0;36mBaseFigure.write_image\u001b[1;34m(self, *args, **kwargs)\u001b[0m\n\u001b[0;32m   3769\u001b[0m \u001b[39m\"\"\"\u001b[39;00m\n\u001b[0;32m   3770\u001b[0m \u001b[39mConvert a figure to a static image and write it to a file or writeable\u001b[39;00m\n\u001b[0;32m   3771\u001b[0m \u001b[39mobject\u001b[39;00m\n\u001b[1;32m   (...)\u001b[0m\n\u001b[0;32m   3825\u001b[0m \u001b[39mNone\u001b[39;00m\n\u001b[0;32m   3826\u001b[0m \u001b[39m\"\"\"\u001b[39;00m\n\u001b[0;32m   3827\u001b[0m \u001b[39mimport\u001b[39;00m \u001b[39mplotly\u001b[39;00m\u001b[39m.\u001b[39;00m\u001b[39mio\u001b[39;00m \u001b[39mas\u001b[39;00m \u001b[39mpio\u001b[39;00m\n\u001b[1;32m-> 3829\u001b[0m \u001b[39mreturn\u001b[39;00m pio\u001b[39m.\u001b[39mwrite_image(\u001b[39mself\u001b[39m, \u001b[39m*\u001b[39margs, \u001b[39m*\u001b[39m\u001b[39m*\u001b[39mkwargs)\n",
      "File \u001b[1;32mc:\\Users\\gch21291\\AppData\\Local\\Programs\\Python\\Python39\\lib\\site-packages\\plotly\\io\\_kaleido.py:267\u001b[0m, in \u001b[0;36mwrite_image\u001b[1;34m(fig, file, format, scale, width, height, validate, engine)\u001b[0m\n\u001b[0;32m    251\u001b[0m             \u001b[39mraise\u001b[39;00m \u001b[39mValueError\u001b[39;00m(\n\u001b[0;32m    252\u001b[0m                 \u001b[39m\"\"\"\u001b[39;00m\n\u001b[0;32m    253\u001b[0m \u001b[39mCannot infer image type from output path '{file}'.\u001b[39;00m\n\u001b[1;32m   (...)\u001b[0m\n\u001b[0;32m    261\u001b[0m                 )\n\u001b[0;32m    262\u001b[0m             )\n\u001b[0;32m    264\u001b[0m     \u001b[39m# Request image\u001b[39;00m\n\u001b[0;32m    265\u001b[0m     \u001b[39m# -------------\u001b[39;00m\n\u001b[0;32m    266\u001b[0m     \u001b[39m# Do this first so we don't create a file if image conversion fails\u001b[39;00m\n\u001b[1;32m--> 267\u001b[0m     img_data \u001b[39m=\u001b[39m to_image(\n\u001b[0;32m    268\u001b[0m         fig,\n\u001b[0;32m    269\u001b[0m         \u001b[39mformat\u001b[39;49m\u001b[39m=\u001b[39;49m\u001b[39mformat\u001b[39;49m,\n\u001b[0;32m    270\u001b[0m         scale\u001b[39m=\u001b[39;49mscale,\n\u001b[0;32m    271\u001b[0m         width\u001b[39m=\u001b[39;49mwidth,\n\u001b[0;32m    272\u001b[0m         height\u001b[39m=\u001b[39;49mheight,\n\u001b[0;32m    273\u001b[0m         validate\u001b[39m=\u001b[39;49mvalidate,\n\u001b[0;32m    274\u001b[0m         engine\u001b[39m=\u001b[39;49mengine,\n\u001b[0;32m    275\u001b[0m     )\n\u001b[0;32m    277\u001b[0m     \u001b[39m# Open file\u001b[39;00m\n\u001b[0;32m    278\u001b[0m     \u001b[39m# ---------\u001b[39;00m\n\u001b[0;32m    279\u001b[0m     \u001b[39mif\u001b[39;00m path \u001b[39mis\u001b[39;00m \u001b[39mNone\u001b[39;00m:\n\u001b[0;32m    280\u001b[0m         \u001b[39m# We previously failed to make sense of `file` as a pathlib object.\u001b[39;00m\n\u001b[0;32m    281\u001b[0m         \u001b[39m# Attempt to write to `file` as an open file descriptor.\u001b[39;00m\n",
      "File \u001b[1;32mc:\\Users\\gch21291\\AppData\\Local\\Programs\\Python\\Python39\\lib\\site-packages\\plotly\\io\\_kaleido.py:133\u001b[0m, in \u001b[0;36mto_image\u001b[1;34m(fig, format, width, height, scale, validate, engine)\u001b[0m\n\u001b[0;32m    131\u001b[0m     \u001b[39m# Raise informative error message if Kaleido is not installed\u001b[39;00m\n\u001b[0;32m    132\u001b[0m     \u001b[39mif\u001b[39;00m scope \u001b[39mis\u001b[39;00m \u001b[39mNone\u001b[39;00m:\n\u001b[1;32m--> 133\u001b[0m         \u001b[39mraise\u001b[39;00m \u001b[39mValueError\u001b[39;00m(\n\u001b[0;32m    134\u001b[0m             \u001b[39m\"\"\"\u001b[39;00m\n\u001b[0;32m    135\u001b[0m \u001b[39mImage export using the \"kaleido\" engine requires the kaleido package,\u001b[39;00m\n\u001b[0;32m    136\u001b[0m \u001b[39mwhich can be installed using pip:\u001b[39;00m\n\u001b[0;32m    137\u001b[0m \u001b[39m    $ pip install -U kaleido\u001b[39;00m\n\u001b[0;32m    138\u001b[0m \u001b[39m\"\"\"\u001b[39;00m\n\u001b[0;32m    139\u001b[0m         )\n\u001b[0;32m    141\u001b[0m     \u001b[39m# Validate figure\u001b[39;00m\n\u001b[0;32m    142\u001b[0m     \u001b[39m# ---------------\u001b[39;00m\n\u001b[0;32m    143\u001b[0m     fig_dict \u001b[39m=\u001b[39m validate_coerce_fig_to_dict(fig, validate)\n",
      "\u001b[1;31mValueError\u001b[0m: \nImage export using the \"kaleido\" engine requires the kaleido package,\nwhich can be installed using pip:\n    $ pip install -U kaleido\n"
     ]
    }
   ],
   "source": [
    "fig = px.line(df,x=\"index\" ,\n",
    " y=\"Fraudes fiscales\",\n",
    "  title=\"Fraudes fiscales\")\n",
    "fig.update_layout(xaxis={\"range\":[2001,2020]})\n",
    "fig.write_image(\"./image/Fraudes fiscales.png\")\n"
   ]
  },
  {
   "cell_type": "code",
   "execution_count": 174,
   "id": "4d396d21",
   "metadata": {},
   "outputs": [
    {
     "data": {
      "application/vnd.plotly.v1+json": {
       "config": {
        "plotlyServerURL": "https://plot.ly"
       },
       "data": [
        {
         "hovertemplate": "index=%{x}<br>Homicides pour voler et à l'occasion de vols=%{y}<extra></extra>",
         "legendgroup": "",
         "line": {
          "color": "#636efa",
          "dash": "solid"
         },
         "marker": {
          "symbol": "circle"
         },
         "mode": "lines",
         "name": "",
         "orientation": "v",
         "showlegend": false,
         "type": "scatter",
         "x": [
          2000,
          2001,
          2002,
          2003,
          2004,
          2005,
          2006,
          2007,
          2008,
          2009,
          2010,
          2011,
          2012,
          2013,
          2014,
          2015,
          2016,
          2017,
          2018,
          2019,
          2020,
          2021,
          2022
         ],
         "xaxis": "x",
         "y": [
          63,
          62,
          54,
          70,
          56,
          51,
          50,
          44,
          37,
          31,
          42,
          44,
          35,
          33,
          26,
          23,
          43,
          39,
          33,
          35,
          41,
          30,
          22
         ],
         "yaxis": "y"
        }
       ],
       "layout": {
        "legend": {
         "tracegroupgap": 0
        },
        "template": {
         "data": {
          "bar": [
           {
            "error_x": {
             "color": "#2a3f5f"
            },
            "error_y": {
             "color": "#2a3f5f"
            },
            "marker": {
             "line": {
              "color": "#E5ECF6",
              "width": 0.5
             },
             "pattern": {
              "fillmode": "overlay",
              "size": 10,
              "solidity": 0.2
             }
            },
            "type": "bar"
           }
          ],
          "barpolar": [
           {
            "marker": {
             "line": {
              "color": "#E5ECF6",
              "width": 0.5
             },
             "pattern": {
              "fillmode": "overlay",
              "size": 10,
              "solidity": 0.2
             }
            },
            "type": "barpolar"
           }
          ],
          "carpet": [
           {
            "aaxis": {
             "endlinecolor": "#2a3f5f",
             "gridcolor": "white",
             "linecolor": "white",
             "minorgridcolor": "white",
             "startlinecolor": "#2a3f5f"
            },
            "baxis": {
             "endlinecolor": "#2a3f5f",
             "gridcolor": "white",
             "linecolor": "white",
             "minorgridcolor": "white",
             "startlinecolor": "#2a3f5f"
            },
            "type": "carpet"
           }
          ],
          "choropleth": [
           {
            "colorbar": {
             "outlinewidth": 0,
             "ticks": ""
            },
            "type": "choropleth"
           }
          ],
          "contour": [
           {
            "colorbar": {
             "outlinewidth": 0,
             "ticks": ""
            },
            "colorscale": [
             [
              0,
              "#0d0887"
             ],
             [
              0.1111111111111111,
              "#46039f"
             ],
             [
              0.2222222222222222,
              "#7201a8"
             ],
             [
              0.3333333333333333,
              "#9c179e"
             ],
             [
              0.4444444444444444,
              "#bd3786"
             ],
             [
              0.5555555555555556,
              "#d8576b"
             ],
             [
              0.6666666666666666,
              "#ed7953"
             ],
             [
              0.7777777777777778,
              "#fb9f3a"
             ],
             [
              0.8888888888888888,
              "#fdca26"
             ],
             [
              1,
              "#f0f921"
             ]
            ],
            "type": "contour"
           }
          ],
          "contourcarpet": [
           {
            "colorbar": {
             "outlinewidth": 0,
             "ticks": ""
            },
            "type": "contourcarpet"
           }
          ],
          "heatmap": [
           {
            "colorbar": {
             "outlinewidth": 0,
             "ticks": ""
            },
            "colorscale": [
             [
              0,
              "#0d0887"
             ],
             [
              0.1111111111111111,
              "#46039f"
             ],
             [
              0.2222222222222222,
              "#7201a8"
             ],
             [
              0.3333333333333333,
              "#9c179e"
             ],
             [
              0.4444444444444444,
              "#bd3786"
             ],
             [
              0.5555555555555556,
              "#d8576b"
             ],
             [
              0.6666666666666666,
              "#ed7953"
             ],
             [
              0.7777777777777778,
              "#fb9f3a"
             ],
             [
              0.8888888888888888,
              "#fdca26"
             ],
             [
              1,
              "#f0f921"
             ]
            ],
            "type": "heatmap"
           }
          ],
          "heatmapgl": [
           {
            "colorbar": {
             "outlinewidth": 0,
             "ticks": ""
            },
            "colorscale": [
             [
              0,
              "#0d0887"
             ],
             [
              0.1111111111111111,
              "#46039f"
             ],
             [
              0.2222222222222222,
              "#7201a8"
             ],
             [
              0.3333333333333333,
              "#9c179e"
             ],
             [
              0.4444444444444444,
              "#bd3786"
             ],
             [
              0.5555555555555556,
              "#d8576b"
             ],
             [
              0.6666666666666666,
              "#ed7953"
             ],
             [
              0.7777777777777778,
              "#fb9f3a"
             ],
             [
              0.8888888888888888,
              "#fdca26"
             ],
             [
              1,
              "#f0f921"
             ]
            ],
            "type": "heatmapgl"
           }
          ],
          "histogram": [
           {
            "marker": {
             "pattern": {
              "fillmode": "overlay",
              "size": 10,
              "solidity": 0.2
             }
            },
            "type": "histogram"
           }
          ],
          "histogram2d": [
           {
            "colorbar": {
             "outlinewidth": 0,
             "ticks": ""
            },
            "colorscale": [
             [
              0,
              "#0d0887"
             ],
             [
              0.1111111111111111,
              "#46039f"
             ],
             [
              0.2222222222222222,
              "#7201a8"
             ],
             [
              0.3333333333333333,
              "#9c179e"
             ],
             [
              0.4444444444444444,
              "#bd3786"
             ],
             [
              0.5555555555555556,
              "#d8576b"
             ],
             [
              0.6666666666666666,
              "#ed7953"
             ],
             [
              0.7777777777777778,
              "#fb9f3a"
             ],
             [
              0.8888888888888888,
              "#fdca26"
             ],
             [
              1,
              "#f0f921"
             ]
            ],
            "type": "histogram2d"
           }
          ],
          "histogram2dcontour": [
           {
            "colorbar": {
             "outlinewidth": 0,
             "ticks": ""
            },
            "colorscale": [
             [
              0,
              "#0d0887"
             ],
             [
              0.1111111111111111,
              "#46039f"
             ],
             [
              0.2222222222222222,
              "#7201a8"
             ],
             [
              0.3333333333333333,
              "#9c179e"
             ],
             [
              0.4444444444444444,
              "#bd3786"
             ],
             [
              0.5555555555555556,
              "#d8576b"
             ],
             [
              0.6666666666666666,
              "#ed7953"
             ],
             [
              0.7777777777777778,
              "#fb9f3a"
             ],
             [
              0.8888888888888888,
              "#fdca26"
             ],
             [
              1,
              "#f0f921"
             ]
            ],
            "type": "histogram2dcontour"
           }
          ],
          "mesh3d": [
           {
            "colorbar": {
             "outlinewidth": 0,
             "ticks": ""
            },
            "type": "mesh3d"
           }
          ],
          "parcoords": [
           {
            "line": {
             "colorbar": {
              "outlinewidth": 0,
              "ticks": ""
             }
            },
            "type": "parcoords"
           }
          ],
          "pie": [
           {
            "automargin": true,
            "type": "pie"
           }
          ],
          "scatter": [
           {
            "fillpattern": {
             "fillmode": "overlay",
             "size": 10,
             "solidity": 0.2
            },
            "type": "scatter"
           }
          ],
          "scatter3d": [
           {
            "line": {
             "colorbar": {
              "outlinewidth": 0,
              "ticks": ""
             }
            },
            "marker": {
             "colorbar": {
              "outlinewidth": 0,
              "ticks": ""
             }
            },
            "type": "scatter3d"
           }
          ],
          "scattercarpet": [
           {
            "marker": {
             "colorbar": {
              "outlinewidth": 0,
              "ticks": ""
             }
            },
            "type": "scattercarpet"
           }
          ],
          "scattergeo": [
           {
            "marker": {
             "colorbar": {
              "outlinewidth": 0,
              "ticks": ""
             }
            },
            "type": "scattergeo"
           }
          ],
          "scattergl": [
           {
            "marker": {
             "colorbar": {
              "outlinewidth": 0,
              "ticks": ""
             }
            },
            "type": "scattergl"
           }
          ],
          "scattermapbox": [
           {
            "marker": {
             "colorbar": {
              "outlinewidth": 0,
              "ticks": ""
             }
            },
            "type": "scattermapbox"
           }
          ],
          "scatterpolar": [
           {
            "marker": {
             "colorbar": {
              "outlinewidth": 0,
              "ticks": ""
             }
            },
            "type": "scatterpolar"
           }
          ],
          "scatterpolargl": [
           {
            "marker": {
             "colorbar": {
              "outlinewidth": 0,
              "ticks": ""
             }
            },
            "type": "scatterpolargl"
           }
          ],
          "scatterternary": [
           {
            "marker": {
             "colorbar": {
              "outlinewidth": 0,
              "ticks": ""
             }
            },
            "type": "scatterternary"
           }
          ],
          "surface": [
           {
            "colorbar": {
             "outlinewidth": 0,
             "ticks": ""
            },
            "colorscale": [
             [
              0,
              "#0d0887"
             ],
             [
              0.1111111111111111,
              "#46039f"
             ],
             [
              0.2222222222222222,
              "#7201a8"
             ],
             [
              0.3333333333333333,
              "#9c179e"
             ],
             [
              0.4444444444444444,
              "#bd3786"
             ],
             [
              0.5555555555555556,
              "#d8576b"
             ],
             [
              0.6666666666666666,
              "#ed7953"
             ],
             [
              0.7777777777777778,
              "#fb9f3a"
             ],
             [
              0.8888888888888888,
              "#fdca26"
             ],
             [
              1,
              "#f0f921"
             ]
            ],
            "type": "surface"
           }
          ],
          "table": [
           {
            "cells": {
             "fill": {
              "color": "#EBF0F8"
             },
             "line": {
              "color": "white"
             }
            },
            "header": {
             "fill": {
              "color": "#C8D4E3"
             },
             "line": {
              "color": "white"
             }
            },
            "type": "table"
           }
          ]
         },
         "layout": {
          "annotationdefaults": {
           "arrowcolor": "#2a3f5f",
           "arrowhead": 0,
           "arrowwidth": 1
          },
          "autotypenumbers": "strict",
          "coloraxis": {
           "colorbar": {
            "outlinewidth": 0,
            "ticks": ""
           }
          },
          "colorscale": {
           "diverging": [
            [
             0,
             "#8e0152"
            ],
            [
             0.1,
             "#c51b7d"
            ],
            [
             0.2,
             "#de77ae"
            ],
            [
             0.3,
             "#f1b6da"
            ],
            [
             0.4,
             "#fde0ef"
            ],
            [
             0.5,
             "#f7f7f7"
            ],
            [
             0.6,
             "#e6f5d0"
            ],
            [
             0.7,
             "#b8e186"
            ],
            [
             0.8,
             "#7fbc41"
            ],
            [
             0.9,
             "#4d9221"
            ],
            [
             1,
             "#276419"
            ]
           ],
           "sequential": [
            [
             0,
             "#0d0887"
            ],
            [
             0.1111111111111111,
             "#46039f"
            ],
            [
             0.2222222222222222,
             "#7201a8"
            ],
            [
             0.3333333333333333,
             "#9c179e"
            ],
            [
             0.4444444444444444,
             "#bd3786"
            ],
            [
             0.5555555555555556,
             "#d8576b"
            ],
            [
             0.6666666666666666,
             "#ed7953"
            ],
            [
             0.7777777777777778,
             "#fb9f3a"
            ],
            [
             0.8888888888888888,
             "#fdca26"
            ],
            [
             1,
             "#f0f921"
            ]
           ],
           "sequentialminus": [
            [
             0,
             "#0d0887"
            ],
            [
             0.1111111111111111,
             "#46039f"
            ],
            [
             0.2222222222222222,
             "#7201a8"
            ],
            [
             0.3333333333333333,
             "#9c179e"
            ],
            [
             0.4444444444444444,
             "#bd3786"
            ],
            [
             0.5555555555555556,
             "#d8576b"
            ],
            [
             0.6666666666666666,
             "#ed7953"
            ],
            [
             0.7777777777777778,
             "#fb9f3a"
            ],
            [
             0.8888888888888888,
             "#fdca26"
            ],
            [
             1,
             "#f0f921"
            ]
           ]
          },
          "colorway": [
           "#636efa",
           "#EF553B",
           "#00cc96",
           "#ab63fa",
           "#FFA15A",
           "#19d3f3",
           "#FF6692",
           "#B6E880",
           "#FF97FF",
           "#FECB52"
          ],
          "font": {
           "color": "#2a3f5f"
          },
          "geo": {
           "bgcolor": "white",
           "lakecolor": "white",
           "landcolor": "#E5ECF6",
           "showlakes": true,
           "showland": true,
           "subunitcolor": "white"
          },
          "hoverlabel": {
           "align": "left"
          },
          "hovermode": "closest",
          "mapbox": {
           "style": "light"
          },
          "paper_bgcolor": "white",
          "plot_bgcolor": "#E5ECF6",
          "polar": {
           "angularaxis": {
            "gridcolor": "white",
            "linecolor": "white",
            "ticks": ""
           },
           "bgcolor": "#E5ECF6",
           "radialaxis": {
            "gridcolor": "white",
            "linecolor": "white",
            "ticks": ""
           }
          },
          "scene": {
           "xaxis": {
            "backgroundcolor": "#E5ECF6",
            "gridcolor": "white",
            "gridwidth": 2,
            "linecolor": "white",
            "showbackground": true,
            "ticks": "",
            "zerolinecolor": "white"
           },
           "yaxis": {
            "backgroundcolor": "#E5ECF6",
            "gridcolor": "white",
            "gridwidth": 2,
            "linecolor": "white",
            "showbackground": true,
            "ticks": "",
            "zerolinecolor": "white"
           },
           "zaxis": {
            "backgroundcolor": "#E5ECF6",
            "gridcolor": "white",
            "gridwidth": 2,
            "linecolor": "white",
            "showbackground": true,
            "ticks": "",
            "zerolinecolor": "white"
           }
          },
          "shapedefaults": {
           "line": {
            "color": "#2a3f5f"
           }
          },
          "ternary": {
           "aaxis": {
            "gridcolor": "white",
            "linecolor": "white",
            "ticks": ""
           },
           "baxis": {
            "gridcolor": "white",
            "linecolor": "white",
            "ticks": ""
           },
           "bgcolor": "#E5ECF6",
           "caxis": {
            "gridcolor": "white",
            "linecolor": "white",
            "ticks": ""
           }
          },
          "title": {
           "x": 0.05
          },
          "xaxis": {
           "automargin": true,
           "gridcolor": "white",
           "linecolor": "white",
           "ticks": "",
           "title": {
            "standoff": 15
           },
           "zerolinecolor": "white",
           "zerolinewidth": 2
          },
          "yaxis": {
           "automargin": true,
           "gridcolor": "white",
           "linecolor": "white",
           "ticks": "",
           "title": {
            "standoff": 15
           },
           "zerolinecolor": "white",
           "zerolinewidth": 2
          }
         }
        },
        "title": {
         "text": "Homicides pour voler et à l'occasion de vols"
        },
        "xaxis": {
         "anchor": "y",
         "domain": [
          0,
          1
         ],
         "range": [
          2001,
          2021
         ],
         "title": {
          "text": "index"
         }
        },
        "yaxis": {
         "anchor": "x",
         "domain": [
          0,
          1
         ],
         "title": {
          "text": "Homicides pour voler et à l'occasion de vols"
         }
        }
       }
      }
     },
     "metadata": {},
     "output_type": "display_data"
    }
   ],
   "source": [
    "fig = px.line(df,x=\"index\" ,\n",
    " y=\"Homicides pour voler et à l'occasion de vols\",\n",
    "  title=\"Homicides pour voler et à l'occasion de vols\")\n",
    "fig.update_layout(xaxis={\"range\":[2001,2021]})"
   ]
  },
  {
   "cell_type": "code",
   "execution_count": 176,
   "id": "9bfc056f",
   "metadata": {},
   "outputs": [
    {
     "data": {
      "application/vnd.plotly.v1+json": {
       "config": {
        "plotlyServerURL": "https://plot.ly"
       },
       "data": [
        {
         "hovertemplate": "index=%{x}<br>Homicides pour d'autres motifs=%{y}<extra></extra>",
         "legendgroup": "",
         "line": {
          "color": "#636efa",
          "dash": "solid"
         },
         "marker": {
          "symbol": "circle"
         },
         "mode": "lines",
         "name": "",
         "orientation": "v",
         "showlegend": false,
         "type": "scatter",
         "x": [
          2000,
          2001,
          2002,
          2003,
          2004,
          2005,
          2006,
          2007,
          2008,
          2009,
          2010,
          2011,
          2012,
          2013,
          2014,
          2015,
          2016,
          2017,
          2018,
          2019,
          2020,
          2021,
          2022
         ],
         "xaxis": "x",
         "y": [
          949,
          905,
          936,
          880,
          894,
          895,
          779,
          803,
          753,
          647,
          653,
          720,
          651,
          649,
          615,
          798,
          834,
          756,
          689,
          848,
          809,
          878,
          533
         ],
         "yaxis": "y"
        }
       ],
       "layout": {
        "legend": {
         "tracegroupgap": 0
        },
        "template": {
         "data": {
          "bar": [
           {
            "error_x": {
             "color": "#2a3f5f"
            },
            "error_y": {
             "color": "#2a3f5f"
            },
            "marker": {
             "line": {
              "color": "#E5ECF6",
              "width": 0.5
             },
             "pattern": {
              "fillmode": "overlay",
              "size": 10,
              "solidity": 0.2
             }
            },
            "type": "bar"
           }
          ],
          "barpolar": [
           {
            "marker": {
             "line": {
              "color": "#E5ECF6",
              "width": 0.5
             },
             "pattern": {
              "fillmode": "overlay",
              "size": 10,
              "solidity": 0.2
             }
            },
            "type": "barpolar"
           }
          ],
          "carpet": [
           {
            "aaxis": {
             "endlinecolor": "#2a3f5f",
             "gridcolor": "white",
             "linecolor": "white",
             "minorgridcolor": "white",
             "startlinecolor": "#2a3f5f"
            },
            "baxis": {
             "endlinecolor": "#2a3f5f",
             "gridcolor": "white",
             "linecolor": "white",
             "minorgridcolor": "white",
             "startlinecolor": "#2a3f5f"
            },
            "type": "carpet"
           }
          ],
          "choropleth": [
           {
            "colorbar": {
             "outlinewidth": 0,
             "ticks": ""
            },
            "type": "choropleth"
           }
          ],
          "contour": [
           {
            "colorbar": {
             "outlinewidth": 0,
             "ticks": ""
            },
            "colorscale": [
             [
              0,
              "#0d0887"
             ],
             [
              0.1111111111111111,
              "#46039f"
             ],
             [
              0.2222222222222222,
              "#7201a8"
             ],
             [
              0.3333333333333333,
              "#9c179e"
             ],
             [
              0.4444444444444444,
              "#bd3786"
             ],
             [
              0.5555555555555556,
              "#d8576b"
             ],
             [
              0.6666666666666666,
              "#ed7953"
             ],
             [
              0.7777777777777778,
              "#fb9f3a"
             ],
             [
              0.8888888888888888,
              "#fdca26"
             ],
             [
              1,
              "#f0f921"
             ]
            ],
            "type": "contour"
           }
          ],
          "contourcarpet": [
           {
            "colorbar": {
             "outlinewidth": 0,
             "ticks": ""
            },
            "type": "contourcarpet"
           }
          ],
          "heatmap": [
           {
            "colorbar": {
             "outlinewidth": 0,
             "ticks": ""
            },
            "colorscale": [
             [
              0,
              "#0d0887"
             ],
             [
              0.1111111111111111,
              "#46039f"
             ],
             [
              0.2222222222222222,
              "#7201a8"
             ],
             [
              0.3333333333333333,
              "#9c179e"
             ],
             [
              0.4444444444444444,
              "#bd3786"
             ],
             [
              0.5555555555555556,
              "#d8576b"
             ],
             [
              0.6666666666666666,
              "#ed7953"
             ],
             [
              0.7777777777777778,
              "#fb9f3a"
             ],
             [
              0.8888888888888888,
              "#fdca26"
             ],
             [
              1,
              "#f0f921"
             ]
            ],
            "type": "heatmap"
           }
          ],
          "heatmapgl": [
           {
            "colorbar": {
             "outlinewidth": 0,
             "ticks": ""
            },
            "colorscale": [
             [
              0,
              "#0d0887"
             ],
             [
              0.1111111111111111,
              "#46039f"
             ],
             [
              0.2222222222222222,
              "#7201a8"
             ],
             [
              0.3333333333333333,
              "#9c179e"
             ],
             [
              0.4444444444444444,
              "#bd3786"
             ],
             [
              0.5555555555555556,
              "#d8576b"
             ],
             [
              0.6666666666666666,
              "#ed7953"
             ],
             [
              0.7777777777777778,
              "#fb9f3a"
             ],
             [
              0.8888888888888888,
              "#fdca26"
             ],
             [
              1,
              "#f0f921"
             ]
            ],
            "type": "heatmapgl"
           }
          ],
          "histogram": [
           {
            "marker": {
             "pattern": {
              "fillmode": "overlay",
              "size": 10,
              "solidity": 0.2
             }
            },
            "type": "histogram"
           }
          ],
          "histogram2d": [
           {
            "colorbar": {
             "outlinewidth": 0,
             "ticks": ""
            },
            "colorscale": [
             [
              0,
              "#0d0887"
             ],
             [
              0.1111111111111111,
              "#46039f"
             ],
             [
              0.2222222222222222,
              "#7201a8"
             ],
             [
              0.3333333333333333,
              "#9c179e"
             ],
             [
              0.4444444444444444,
              "#bd3786"
             ],
             [
              0.5555555555555556,
              "#d8576b"
             ],
             [
              0.6666666666666666,
              "#ed7953"
             ],
             [
              0.7777777777777778,
              "#fb9f3a"
             ],
             [
              0.8888888888888888,
              "#fdca26"
             ],
             [
              1,
              "#f0f921"
             ]
            ],
            "type": "histogram2d"
           }
          ],
          "histogram2dcontour": [
           {
            "colorbar": {
             "outlinewidth": 0,
             "ticks": ""
            },
            "colorscale": [
             [
              0,
              "#0d0887"
             ],
             [
              0.1111111111111111,
              "#46039f"
             ],
             [
              0.2222222222222222,
              "#7201a8"
             ],
             [
              0.3333333333333333,
              "#9c179e"
             ],
             [
              0.4444444444444444,
              "#bd3786"
             ],
             [
              0.5555555555555556,
              "#d8576b"
             ],
             [
              0.6666666666666666,
              "#ed7953"
             ],
             [
              0.7777777777777778,
              "#fb9f3a"
             ],
             [
              0.8888888888888888,
              "#fdca26"
             ],
             [
              1,
              "#f0f921"
             ]
            ],
            "type": "histogram2dcontour"
           }
          ],
          "mesh3d": [
           {
            "colorbar": {
             "outlinewidth": 0,
             "ticks": ""
            },
            "type": "mesh3d"
           }
          ],
          "parcoords": [
           {
            "line": {
             "colorbar": {
              "outlinewidth": 0,
              "ticks": ""
             }
            },
            "type": "parcoords"
           }
          ],
          "pie": [
           {
            "automargin": true,
            "type": "pie"
           }
          ],
          "scatter": [
           {
            "fillpattern": {
             "fillmode": "overlay",
             "size": 10,
             "solidity": 0.2
            },
            "type": "scatter"
           }
          ],
          "scatter3d": [
           {
            "line": {
             "colorbar": {
              "outlinewidth": 0,
              "ticks": ""
             }
            },
            "marker": {
             "colorbar": {
              "outlinewidth": 0,
              "ticks": ""
             }
            },
            "type": "scatter3d"
           }
          ],
          "scattercarpet": [
           {
            "marker": {
             "colorbar": {
              "outlinewidth": 0,
              "ticks": ""
             }
            },
            "type": "scattercarpet"
           }
          ],
          "scattergeo": [
           {
            "marker": {
             "colorbar": {
              "outlinewidth": 0,
              "ticks": ""
             }
            },
            "type": "scattergeo"
           }
          ],
          "scattergl": [
           {
            "marker": {
             "colorbar": {
              "outlinewidth": 0,
              "ticks": ""
             }
            },
            "type": "scattergl"
           }
          ],
          "scattermapbox": [
           {
            "marker": {
             "colorbar": {
              "outlinewidth": 0,
              "ticks": ""
             }
            },
            "type": "scattermapbox"
           }
          ],
          "scatterpolar": [
           {
            "marker": {
             "colorbar": {
              "outlinewidth": 0,
              "ticks": ""
             }
            },
            "type": "scatterpolar"
           }
          ],
          "scatterpolargl": [
           {
            "marker": {
             "colorbar": {
              "outlinewidth": 0,
              "ticks": ""
             }
            },
            "type": "scatterpolargl"
           }
          ],
          "scatterternary": [
           {
            "marker": {
             "colorbar": {
              "outlinewidth": 0,
              "ticks": ""
             }
            },
            "type": "scatterternary"
           }
          ],
          "surface": [
           {
            "colorbar": {
             "outlinewidth": 0,
             "ticks": ""
            },
            "colorscale": [
             [
              0,
              "#0d0887"
             ],
             [
              0.1111111111111111,
              "#46039f"
             ],
             [
              0.2222222222222222,
              "#7201a8"
             ],
             [
              0.3333333333333333,
              "#9c179e"
             ],
             [
              0.4444444444444444,
              "#bd3786"
             ],
             [
              0.5555555555555556,
              "#d8576b"
             ],
             [
              0.6666666666666666,
              "#ed7953"
             ],
             [
              0.7777777777777778,
              "#fb9f3a"
             ],
             [
              0.8888888888888888,
              "#fdca26"
             ],
             [
              1,
              "#f0f921"
             ]
            ],
            "type": "surface"
           }
          ],
          "table": [
           {
            "cells": {
             "fill": {
              "color": "#EBF0F8"
             },
             "line": {
              "color": "white"
             }
            },
            "header": {
             "fill": {
              "color": "#C8D4E3"
             },
             "line": {
              "color": "white"
             }
            },
            "type": "table"
           }
          ]
         },
         "layout": {
          "annotationdefaults": {
           "arrowcolor": "#2a3f5f",
           "arrowhead": 0,
           "arrowwidth": 1
          },
          "autotypenumbers": "strict",
          "coloraxis": {
           "colorbar": {
            "outlinewidth": 0,
            "ticks": ""
           }
          },
          "colorscale": {
           "diverging": [
            [
             0,
             "#8e0152"
            ],
            [
             0.1,
             "#c51b7d"
            ],
            [
             0.2,
             "#de77ae"
            ],
            [
             0.3,
             "#f1b6da"
            ],
            [
             0.4,
             "#fde0ef"
            ],
            [
             0.5,
             "#f7f7f7"
            ],
            [
             0.6,
             "#e6f5d0"
            ],
            [
             0.7,
             "#b8e186"
            ],
            [
             0.8,
             "#7fbc41"
            ],
            [
             0.9,
             "#4d9221"
            ],
            [
             1,
             "#276419"
            ]
           ],
           "sequential": [
            [
             0,
             "#0d0887"
            ],
            [
             0.1111111111111111,
             "#46039f"
            ],
            [
             0.2222222222222222,
             "#7201a8"
            ],
            [
             0.3333333333333333,
             "#9c179e"
            ],
            [
             0.4444444444444444,
             "#bd3786"
            ],
            [
             0.5555555555555556,
             "#d8576b"
            ],
            [
             0.6666666666666666,
             "#ed7953"
            ],
            [
             0.7777777777777778,
             "#fb9f3a"
            ],
            [
             0.8888888888888888,
             "#fdca26"
            ],
            [
             1,
             "#f0f921"
            ]
           ],
           "sequentialminus": [
            [
             0,
             "#0d0887"
            ],
            [
             0.1111111111111111,
             "#46039f"
            ],
            [
             0.2222222222222222,
             "#7201a8"
            ],
            [
             0.3333333333333333,
             "#9c179e"
            ],
            [
             0.4444444444444444,
             "#bd3786"
            ],
            [
             0.5555555555555556,
             "#d8576b"
            ],
            [
             0.6666666666666666,
             "#ed7953"
            ],
            [
             0.7777777777777778,
             "#fb9f3a"
            ],
            [
             0.8888888888888888,
             "#fdca26"
            ],
            [
             1,
             "#f0f921"
            ]
           ]
          },
          "colorway": [
           "#636efa",
           "#EF553B",
           "#00cc96",
           "#ab63fa",
           "#FFA15A",
           "#19d3f3",
           "#FF6692",
           "#B6E880",
           "#FF97FF",
           "#FECB52"
          ],
          "font": {
           "color": "#2a3f5f"
          },
          "geo": {
           "bgcolor": "white",
           "lakecolor": "white",
           "landcolor": "#E5ECF6",
           "showlakes": true,
           "showland": true,
           "subunitcolor": "white"
          },
          "hoverlabel": {
           "align": "left"
          },
          "hovermode": "closest",
          "mapbox": {
           "style": "light"
          },
          "paper_bgcolor": "white",
          "plot_bgcolor": "#E5ECF6",
          "polar": {
           "angularaxis": {
            "gridcolor": "white",
            "linecolor": "white",
            "ticks": ""
           },
           "bgcolor": "#E5ECF6",
           "radialaxis": {
            "gridcolor": "white",
            "linecolor": "white",
            "ticks": ""
           }
          },
          "scene": {
           "xaxis": {
            "backgroundcolor": "#E5ECF6",
            "gridcolor": "white",
            "gridwidth": 2,
            "linecolor": "white",
            "showbackground": true,
            "ticks": "",
            "zerolinecolor": "white"
           },
           "yaxis": {
            "backgroundcolor": "#E5ECF6",
            "gridcolor": "white",
            "gridwidth": 2,
            "linecolor": "white",
            "showbackground": true,
            "ticks": "",
            "zerolinecolor": "white"
           },
           "zaxis": {
            "backgroundcolor": "#E5ECF6",
            "gridcolor": "white",
            "gridwidth": 2,
            "linecolor": "white",
            "showbackground": true,
            "ticks": "",
            "zerolinecolor": "white"
           }
          },
          "shapedefaults": {
           "line": {
            "color": "#2a3f5f"
           }
          },
          "ternary": {
           "aaxis": {
            "gridcolor": "white",
            "linecolor": "white",
            "ticks": ""
           },
           "baxis": {
            "gridcolor": "white",
            "linecolor": "white",
            "ticks": ""
           },
           "bgcolor": "#E5ECF6",
           "caxis": {
            "gridcolor": "white",
            "linecolor": "white",
            "ticks": ""
           }
          },
          "title": {
           "x": 0.05
          },
          "xaxis": {
           "automargin": true,
           "gridcolor": "white",
           "linecolor": "white",
           "ticks": "",
           "title": {
            "standoff": 15
           },
           "zerolinecolor": "white",
           "zerolinewidth": 2
          },
          "yaxis": {
           "automargin": true,
           "gridcolor": "white",
           "linecolor": "white",
           "ticks": "",
           "title": {
            "standoff": 15
           },
           "zerolinecolor": "white",
           "zerolinewidth": 2
          }
         }
        },
        "title": {
         "text": "Homicides pour d'autres motifs"
        },
        "xaxis": {
         "anchor": "y",
         "domain": [
          0,
          1
         ],
         "range": [
          2001,
          2021
         ],
         "title": {
          "text": "index"
         }
        },
        "yaxis": {
         "anchor": "x",
         "domain": [
          0,
          1
         ],
         "title": {
          "text": "Homicides pour d'autres motifs"
         }
        }
       }
      }
     },
     "metadata": {},
     "output_type": "display_data"
    }
   ],
   "source": [
    "fig = px.line(df,x=\"index\" ,\n",
    " y=\"Homicides pour d'autres motifs\",\n",
    "  title=\"Homicides pour d'autres motifs\")\n",
    "fig.update_layout(xaxis={\"range\":[2001,2021]})"
   ]
  }
 ],
 "metadata": {
  "kernelspec": {
   "display_name": "Python 3.9.9 64-bit",
   "language": "python",
   "name": "python3"
  },
  "language_info": {
   "codemirror_mode": {
    "name": "ipython",
    "version": 3
   },
   "file_extension": ".py",
   "mimetype": "text/x-python",
   "name": "python",
   "nbconvert_exporter": "python",
   "pygments_lexer": "ipython3",
   "version": "3.9.9"
  },
  "vscode": {
   "interpreter": {
    "hash": "4d2934ae00091454283c8f9b08c12f09cb4c544bc04d21d50e30b77f63fa4eeb"
   }
  }
 },
 "nbformat": 4,
 "nbformat_minor": 5
}
